{
 "cells": [
  {
   "cell_type": "markdown",
   "metadata": {},
   "source": [
    "# HDA - Project 3: TASK A\n",
    "## Classification of Modes of Locomotion\n",
    "This first cell contains the parameters that can be tuned for code execution:\n",
    "- subject: select the subject on which to test the model, between [1,4];\n",
    "- folder: directory name where '.mat' files are stored;\n",
    "- label_col: column of features to be selected to perform activity detection, between [0,6];\n",
    "- window_size: parameter that sets the length of temporal windows on which to perform the convolution;\n",
    "- stride: step length to chose the next window."
   ]
  },
  {
   "cell_type": "code",
   "execution_count": 1,
   "metadata": {},
   "outputs": [
    {
     "name": "stderr",
     "output_type": "stream",
     "text": [
      "Using TensorFlow backend.\n"
     ]
    }
   ],
   "source": [
    "import utils\n",
    "import numpy as np\n",
    "from sklearn.preprocessing import OneHotEncoder, StandardScaler\n",
    "import matplotlib.pyplot as plt\n",
    "from keras import regularizers\n",
    "from keras.layers import Conv1D, Conv2D, BatchNormalization, Dropout, LeakyReLU, Flatten, Activation, Dense, MaxPooling1D, MaxPooling2D, LSTM\n",
    "from keras.models import Model, Sequential\n",
    "from keras.optimizers import Adam"
   ]
  },
  {
   "cell_type": "code",
   "execution_count": 2,
   "metadata": {},
   "outputs": [],
   "source": [
    "# parameters definition\n",
    "\n",
    "subject = 1\n",
    "folder = \"./data/full/\"\n",
    "label_col = 0     # default for task A\n",
    "window_size = 50\n",
    "stride = 50"
   ]
  },
  {
   "cell_type": "markdown",
   "metadata": {},
   "source": [
    "# Section 1 - Loading and Preprocessing\n",
    "\n",
    "### Dataset Loading "
   ]
  },
  {
   "cell_type": "code",
   "execution_count": 3,
   "metadata": {},
   "outputs": [
    {
     "name": "stdout",
     "output_type": "stream",
     "text": [
      "\n",
      "Session shapes:\n",
      "ADL1:   (45810, 110)\n",
      "ADL2:   (28996, 110)\n",
      "ADL3:   (30167, 110)\n",
      "ADL4:   (30228, 110)\n",
      "ADL5:   (27308, 110)\n",
      "Drill:  (52152, 110)\n",
      "\n",
      "Training samples:  157125 \n",
      "Test samples:       57536 \n",
      "Features:             110\n"
     ]
    }
   ],
   "source": [
    "# import all sessions for a subject\n",
    "(data1, data2, data3, data4, data5, data6) = utils.loadData(subject, folder=folder)\n",
    "\n",
    "# create training set and test set\n",
    "X_train = np.concatenate((data1['features_interp'],\\\n",
    "                          data2['features_interp'],\\\n",
    "                          data3['features_interp'],\\\n",
    "                          data6['features_interp']), axis=0)\n",
    "\n",
    "Y_train = np.concatenate((data1['labels_cut'][:,label_col],\\\n",
    "                          data2['labels_cut'][:,label_col],\\\n",
    "                          data3['labels_cut'][:,label_col],\\\n",
    "                          data6['labels_cut'][:,label_col]), axis=0)\n",
    "\n",
    "X_test = np.concatenate((data4['features_interp'],\\\n",
    "                         data5['features_interp']), axis=0)\n",
    "\n",
    "Y_test = np.concatenate((data4['labels_cut'][:,label_col],\\\n",
    "                         data5['labels_cut'][:,label_col]))\n",
    "\n",
    "features = X_test.shape[1]\n",
    "print(\"\\nTraining samples: \", X_train.shape[0],\\\n",
    "      \"\\nTest samples:      \", X_test.shape[0],\\\n",
    "      \"\\nFeatures:            \", features)"
   ]
  },
  {
   "cell_type": "markdown",
   "metadata": {},
   "source": [
    "### Dataset preparation in order to feed it to the network"
   ]
  },
  {
   "cell_type": "code",
   "execution_count": 4,
   "metadata": {},
   "outputs": [
    {
     "name": "stdout",
     "output_type": "stream",
     "text": [
      "\n",
      "Classes in training set:  5 \n",
      "Classes in test set:      5\n",
      "Training set:\n",
      "<class 'numpy.ndarray'> (3141, 50, 110) <class 'numpy.ndarray'> (3141, 5)\n",
      "\n",
      "Features have shape:  (3141, 50, 110) \n",
      "Labels have shape:    (3141, 5) \n",
      "Fraction of labels:   [0.10983763 0.4237504  0.27029608 0.17191977 0.02419612]\n",
      "\n",
      "Test set:\n",
      "<class 'numpy.ndarray'> (1149, 50, 110) <class 'numpy.ndarray'> (1149, 5)\n",
      "\n",
      "Features have shape:  (1149, 50, 110) \n",
      "Labels have shape:    (1149, 5) \n",
      "Fraction of labels:   [0.17928634 0.34290688 0.20104439 0.23846823 0.03829417]\n"
     ]
    }
   ],
   "source": [
    "# decision to overcome the problem of entire missing columns\n",
    "X_train = np.nan_to_num(X_train)\n",
    "X_test = np.nan_to_num(X_test)\n",
    "\n",
    "# features normalization\n",
    "scaler = StandardScaler().fit(X_train)\n",
    "X_train =scaler.transform(X_train)\n",
    "X_test = scaler.transform(X_test)\n",
    "\n",
    "# switch to one hot encoded labels\n",
    "onehot_encoder = OneHotEncoder(sparse=False)\n",
    "Y_train_oh = onehot_encoder.fit_transform(Y_train.reshape(-1, 1))\n",
    "Y_test_oh = onehot_encoder.fit_transform(Y_test.reshape(-1, 1))\n",
    "print(\"\\nClasses in training set: \", Y_train_oh.shape[1],\\\n",
    "      \"\\nClasses in test set:     \", Y_test_oh.shape[1])\n",
    "\n",
    "print(\"Training set:\")\n",
    "X_train_s, Y_train_s = utils.prepareData(X_train, Y_train_oh, window_size, stride, shuffle=False)\n",
    "print(\"\\nTest set:\")\n",
    "X_test_s, Y_test_s = utils.prepareData(X_test, Y_test_oh, window_size, stride, shuffle=False)\n",
    "# add bars plot"
   ]
  },
  {
   "cell_type": "markdown",
   "metadata": {},
   "source": [
    "# Section 2 - Classification with Conv1D\n",
    "\n",
    "### Creation of one-dimensional convolutional neural network"
   ]
  },
  {
   "cell_type": "code",
   "execution_count": 5,
   "metadata": {},
   "outputs": [
    {
     "name": "stdout",
     "output_type": "stream",
     "text": [
      "_________________________________________________________________\n",
      "Layer (type)                 Output Shape              Param #   \n",
      "=================================================================\n",
      "conv1d_1 (Conv1D)            (None, 50, 18)            9918      \n",
      "_________________________________________________________________\n",
      "batch_normalization_1 (Batch (None, 50, 18)            72        \n",
      "_________________________________________________________________\n",
      "leaky_re_lu_1 (LeakyReLU)    (None, 50, 18)            0         \n",
      "_________________________________________________________________\n",
      "max_pooling1d_1 (MaxPooling1 (None, 25, 18)            0         \n",
      "_________________________________________________________________\n",
      "conv1d_2 (Conv1D)            (None, 25, 36)            4572      \n",
      "_________________________________________________________________\n",
      "batch_normalization_2 (Batch (None, 25, 36)            144       \n",
      "_________________________________________________________________\n",
      "leaky_re_lu_2 (LeakyReLU)    (None, 25, 36)            0         \n",
      "_________________________________________________________________\n",
      "max_pooling1d_2 (MaxPooling1 (None, 13, 36)            0         \n",
      "_________________________________________________________________\n",
      "dropout_1 (Dropout)          (None, 13, 36)            0         \n",
      "_________________________________________________________________\n",
      "conv1d_3 (Conv1D)            (None, 13, 72)            18216     \n",
      "_________________________________________________________________\n",
      "batch_normalization_3 (Batch (None, 13, 72)            288       \n",
      "_________________________________________________________________\n",
      "leaky_re_lu_3 (LeakyReLU)    (None, 13, 72)            0         \n",
      "_________________________________________________________________\n",
      "max_pooling1d_3 (MaxPooling1 (None, 7, 72)             0         \n",
      "_________________________________________________________________\n",
      "flatten_1 (Flatten)          (None, 504)               0         \n",
      "_________________________________________________________________\n",
      "dense_1 (Dense)              (None, 64)                32320     \n",
      "_________________________________________________________________\n",
      "leaky_re_lu_4 (LeakyReLU)    (None, 64)                0         \n",
      "_________________________________________________________________\n",
      "dropout_2 (Dropout)          (None, 64)                0         \n",
      "_________________________________________________________________\n",
      "dense_2 (Dense)              (None, 5)                 325       \n",
      "_________________________________________________________________\n",
      "activation_1 (Activation)    (None, 5)                 0         \n",
      "=================================================================\n",
      "Total params: 65,855\n",
      "Trainable params: 65,603\n",
      "Non-trainable params: 252\n",
      "_________________________________________________________________\n",
      "Train on 3141 samples, validate on 1149 samples\n",
      "Epoch 1/10\n",
      "3141/3141 [==============================] - 2s 729us/step - loss: 1.9876 - acc: 0.6982 - val_loss: 1.5446 - val_acc: 0.7624\n",
      "Epoch 2/10\n",
      "3141/3141 [==============================] - 1s 369us/step - loss: 0.8408 - acc: 0.8262 - val_loss: 0.7045 - val_acc: 0.8503\n",
      "Epoch 3/10\n",
      "3141/3141 [==============================] - 1s 363us/step - loss: 0.5337 - acc: 0.8437 - val_loss: 0.5310 - val_acc: 0.8581\n",
      "Epoch 4/10\n",
      "3141/3141 [==============================] - 1s 384us/step - loss: 0.4753 - acc: 0.8494 - val_loss: 0.4789 - val_acc: 0.8903\n",
      "Epoch 5/10\n",
      "3141/3141 [==============================] - 1s 378us/step - loss: 0.4364 - acc: 0.8644 - val_loss: 0.4831 - val_acc: 0.8877\n",
      "Epoch 6/10\n",
      "3141/3141 [==============================] - 1s 393us/step - loss: 0.3866 - acc: 0.8736 - val_loss: 0.4654 - val_acc: 0.8877\n",
      "Epoch 7/10\n",
      "3141/3141 [==============================] - 1s 381us/step - loss: 0.3894 - acc: 0.8832 - val_loss: 0.4108 - val_acc: 0.9017\n",
      "Epoch 8/10\n",
      "3141/3141 [==============================] - 1s 368us/step - loss: 0.3678 - acc: 0.8787 - val_loss: 0.4139 - val_acc: 0.8999\n",
      "Epoch 9/10\n",
      "3141/3141 [==============================] - 1s 364us/step - loss: 0.3622 - acc: 0.8812 - val_loss: 0.4030 - val_acc: 0.9086\n",
      "Epoch 10/10\n",
      "3141/3141 [==============================] - 1s 364us/step - loss: 0.3531 - acc: 0.8870 - val_loss: 0.4113 - val_acc: 0.9034\n",
      "F1-measure:  0.9026191287349764\n",
      "AUC w.r. to each class:  {0: 0.970487701922186, 1: 0.9881130870339866, 2: 0.9734836695621009, 3: 0.9920834202294055, 4: 0.8631427396133278}\n"
     ]
    },
    {
     "data": {
      "image/png": "[encoded data removed]",
      "text/plain": [
       "<Figure size 432x288 with 2 Axes>"
      ]
     },
     "metadata": {},
     "output_type": "display_data"
    }
   ],
   "source": [
    "classes = np.max((Y_train_s.shape[1], Y_test_s.shape[1]))\n",
    "\n",
    "model_unidim = utils.Model1D((window_size, features), classes)\n",
    "\n",
    "opt = Adam(lr=0.01)\n",
    "model_unidim.compile(optimizer = opt, loss = \"categorical_crossentropy\", metrics = [\"accuracy\"])\n",
    "\n",
    "model_unidim.fit(x = X_train_s, y = Y_train_s, epochs = 10, batch_size = 128, validation_data=(X_test_s, Y_test_s))\n",
    "\n",
    "# Classification and evaluation of performances\n",
    "\n",
    "# predict labels\n",
    "Y_pred_s = model_unidim.predict(X_test_s)\n",
    "\n",
    "# print results\n",
    "#reverse the one-ot encoder procedure\n",
    "Y_test_hard = np.argmax(Y_test_s, axis=1)\n",
    "Y_pred_hard = np.argmax(Y_pred_s, axis=1)\n",
    "\n",
    "print(\"F1-measure: \", utils.f1_score(Y_test_hard, Y_pred_hard, average='weighted'))\n",
    "print(\"AUC w.r. to each class: \", utils.AUC(Y_test_s, Y_pred_s, classes))\n",
    "\n",
    "# Compute and plot confusion matrix\n",
    "cnf_matrix = utils.confusion_matrix(Y_test_hard, Y_pred_hard)\n",
    "np.set_printoptions(precision=2)\n",
    "\n",
    "plt.figure()\n",
    "utils.plot_confusion_matrix(cnf_matrix, classes=[0,1,2,4,5],\n",
    "                      title='Confusion matrix, without normalization')"
   ]
  },
  {
   "cell_type": "markdown",
   "metadata": {},
   "source": [
    "# Section 3 - Classification with Conv2D"
   ]
  },
  {
   "cell_type": "code",
   "execution_count": 6,
   "metadata": {
    "scrolled": true
   },
   "outputs": [
    {
     "name": "stdout",
     "output_type": "stream",
     "text": [
      "_________________________________________________________________\n",
      "Layer (type)                 Output Shape              Param #   \n",
      "=================================================================\n",
      "conv2d_1 (Conv2D)            (None, 1, 17, 18)         49518     \n",
      "_________________________________________________________________\n",
      "batch_normalization_4 (Batch (None, 1, 17, 18)         72        \n",
      "_________________________________________________________________\n",
      "leaky_re_lu_5 (LeakyReLU)    (None, 1, 17, 18)         0         \n",
      "_________________________________________________________________\n",
      "max_pooling2d_1 (MaxPooling2 (None, 1, 9, 18)          0         \n",
      "_________________________________________________________________\n",
      "conv2d_2 (Conv2D)            (None, 1, 3, 36)          16236     \n",
      "_________________________________________________________________\n",
      "batch_normalization_5 (Batch (None, 1, 3, 36)          144       \n",
      "_________________________________________________________________\n",
      "leaky_re_lu_6 (LeakyReLU)    (None, 1, 3, 36)          0         \n",
      "_________________________________________________________________\n",
      "max_pooling2d_2 (MaxPooling2 (None, 1, 2, 36)          0         \n",
      "_________________________________________________________________\n",
      "dropout_3 (Dropout)          (None, 1, 2, 36)          0         \n",
      "_________________________________________________________________\n",
      "conv2d_3 (Conv2D)            (None, 1, 1, 72)          64872     \n",
      "_________________________________________________________________\n",
      "batch_normalization_6 (Batch (None, 1, 1, 72)          288       \n",
      "_________________________________________________________________\n",
      "leaky_re_lu_7 (LeakyReLU)    (None, 1, 1, 72)          0         \n",
      "_________________________________________________________________\n",
      "max_pooling2d_3 (MaxPooling2 (None, 1, 1, 72)          0         \n",
      "_________________________________________________________________\n",
      "flatten_2 (Flatten)          (None, 72)                0         \n",
      "_________________________________________________________________\n",
      "dense_3 (Dense)              (None, 64)                4672      \n",
      "_________________________________________________________________\n",
      "leaky_re_lu_8 (LeakyReLU)    (None, 64)                0         \n",
      "_________________________________________________________________\n",
      "dense_4 (Dense)              (None, 5)                 325       \n",
      "_________________________________________________________________\n",
      "activation_2 (Activation)    (None, 5)                 0         \n",
      "=================================================================\n",
      "Total params: 136,127\n",
      "Trainable params: 135,875\n",
      "Non-trainable params: 252\n",
      "_________________________________________________________________\n",
      "Train on 3141 samples, validate on 1149 samples\n",
      "Epoch 1/10\n",
      "3141/3141 [==============================] - 2s 699us/step - loss: 1.1748 - acc: 0.7262 - val_loss: 1.0270 - val_acc: 0.7685\n",
      "Epoch 2/10\n",
      "3141/3141 [==============================] - 1s 454us/step - loss: 0.5584 - acc: 0.8303 - val_loss: 0.4763 - val_acc: 0.8425\n",
      "Epoch 3/10\n",
      "3141/3141 [==============================] - 1s 428us/step - loss: 0.4165 - acc: 0.8571 - val_loss: 0.4762 - val_acc: 0.8590\n",
      "Epoch 4/10\n",
      "3141/3141 [==============================] - 1s 433us/step - loss: 0.3734 - acc: 0.8698 - val_loss: 0.4139 - val_acc: 0.8782\n",
      "Epoch 5/10\n",
      "3141/3141 [==============================] - 1s 443us/step - loss: 0.3327 - acc: 0.8841 - val_loss: 0.4321 - val_acc: 0.8668\n",
      "Epoch 6/10\n",
      "3141/3141 [==============================] - 1s 431us/step - loss: 0.3131 - acc: 0.8975 - val_loss: 0.4314 - val_acc: 0.8712\n",
      "Epoch 7/10\n",
      "3141/3141 [==============================] - 1s 434us/step - loss: 0.3064 - acc: 0.9000 - val_loss: 0.4609 - val_acc: 0.8695\n",
      "Epoch 8/10\n",
      "3141/3141 [==============================] - 1s 442us/step - loss: 0.3283 - acc: 0.8895 - val_loss: 0.4698 - val_acc: 0.8625\n",
      "Epoch 9/10\n",
      "3141/3141 [==============================] - 1s 410us/step - loss: 0.3012 - acc: 0.9023 - val_loss: 0.4671 - val_acc: 0.8729\n",
      "Epoch 10/10\n",
      "3141/3141 [==============================] - 1s 413us/step - loss: 0.2649 - acc: 0.9163 - val_loss: 0.4535 - val_acc: 0.8686\n",
      "F1-measure:  0.870527730017569\n",
      "AUC w.r. to each class:  {0: 0.976443698586416, 1: 0.9799341110027902, 2: 0.9609069216912355, 3: 0.9998748696558916, 4: 0.8634512546277252}\n"
     ]
    },
    {
     "data": {
      "image/png": "[encoded data removed]",
      "text/plain": [
       "<Figure size 432x288 with 2 Axes>"
      ]
     },
     "metadata": {},
     "output_type": "display_data"
    }
   ],
   "source": [
    "model_new2D = utils.Model2D((1,window_size,features), classes)\n",
    "opt4 = Adam(lr=0.01)\n",
    "model_new2D.compile(optimizer = opt4, loss = \"categorical_crossentropy\", metrics = [\"accuracy\"])\n",
    "\n",
    "# need to reshape in order to fit to the new 2D model\n",
    "X_train = X_train_s.reshape(X_train_s.shape[0], 1, window_size, features)\n",
    "X_test = X_test_s.reshape(X_test_s.shape[0], 1, window_size, features)\n",
    "\n",
    "model_new2D.fit(x = X_train, y = Y_train_s, epochs = 10, batch_size = 128, validation_data=(X_test, Y_test_s))\n",
    "\n",
    "### Classification and evaluation of performances\n",
    "\n",
    "# predict labels\n",
    "Y_pred_s = model_new2D.predict(X_test)\n",
    "\n",
    "# print results\n",
    "#reverse the one-ot encoder procedure\n",
    "Y_test_hard = np.argmax(Y_test_s, axis=1)\n",
    "Y_pred_hard = np.argmax(Y_pred_s, axis=1)\n",
    "\n",
    "print(\"F1-measure: \", utils.f1_score(Y_test_hard, Y_pred_hard, average='weighted'))\n",
    "print(\"AUC w.r. to each class: \", utils.AUC(Y_test_s, Y_pred_s, classes))\n",
    "\n",
    "# Compute and plot confusion matrix\n",
    "cnf_matrix = utils.confusion_matrix(Y_test_hard, Y_pred_hard)\n",
    "np.set_printoptions(precision=2)\n",
    "\n",
    "plt.figure()\n",
    "utils.plot_confusion_matrix(cnf_matrix, classes=[0,1,2,4,5],\n",
    "                      title='Confusion matrix, without normalization')"
   ]
  },
  {
   "cell_type": "markdown",
   "metadata": {},
   "source": [
    "# Test with Deep CNN and LSTM"
   ]
  },
  {
   "cell_type": "code",
   "execution_count": 7,
   "metadata": {},
   "outputs": [],
   "source": [
    "def ModelDeep(input_shape, classes):\n",
    "    \"\"\" \n",
    "    Arguments:\n",
    "    input_shape -- shape of the images of the dataset\n",
    "\n",
    "    Returns: \n",
    "    model -- a Model() instance in Keras\n",
    "    \"\"\"\n",
    "    \n",
    "    model = Sequential()\n",
    "    model.add(Conv2D(filters = 18,\n",
    "                    kernel_size=(5,5),\n",
    "                    strides=(1,1),\n",
    "                    padding='same',\n",
    "                    data_format = 'channels_first',\n",
    "                    input_shape = input_shape))\n",
    "    model.add(BatchNormalization())\n",
    "    model.add(LeakyReLU(alpha=0.3))\n",
    "    model.add(MaxPooling2D(pool_size=(2,2),\n",
    "                          strides=2,\n",
    "                          padding='same'))\n",
    "    \n",
    "    model.add(Dropout(0.1))\n",
    "    \n",
    "    model.add(Conv2D(filters = 36,\n",
    "                    kernel_size=(5,5),\n",
    "                    strides=(1,3),\n",
    "                    data_format = 'channels_first',\n",
    "                    padding='same'))\n",
    "    model.add(BatchNormalization())\n",
    "    model.add(LeakyReLU(alpha=0.3))\n",
    "    model.add(MaxPooling2D(pool_size=(2,2),\n",
    "                          strides=2,\n",
    "                          padding='same'))\n",
    "    \n",
    "    model.add(Dropout(0.2))\n",
    "    \n",
    "    model.add(Conv2D(filters = 72,\n",
    "              kernel_size=(5,5),\n",
    "              strides=(1,3),\n",
    "              data_format = 'channels_first',\n",
    "              padding='same'))\n",
    "    model.add(BatchNormalization())\n",
    "    model.add(LeakyReLU(alpha=0.3))\n",
    "    model.add(MaxPooling2D(pool_size=(2,2),\n",
    "                          strides=2,\n",
    "                          padding='same'))\n",
    "    \n",
    "    model.add(Dropout(0.5))\n",
    "    \n",
    "    model.add(Flatten())\n",
    "    \n",
    "    #model.add(LSTM(64, activation='tanh', recurrent_activation='hard_sigmoid', use_bias=True))\n",
    "    \n",
    "    model.add(Dense(64, kernel_regularizer=regularizers.l2(0.01)))\n",
    "    \n",
    "    model.add(LeakyReLU(alpha=0.3))\n",
    "\n",
    "    model.add(Dense(classes))\n",
    "    model.add(Activation('softmax'))\n",
    "    \n",
    "    model.summary()\n",
    "    \n",
    "    return model"
   ]
  },
  {
   "cell_type": "code",
   "execution_count": 8,
   "metadata": {},
   "outputs": [
    {
     "name": "stdout",
     "output_type": "stream",
     "text": [
      "_________________________________________________________________\n",
      "Layer (type)                 Output Shape              Param #   \n",
      "=================================================================\n",
      "conv2d_4 (Conv2D)            (None, 18, 50, 110)       468       \n",
      "_________________________________________________________________\n",
      "batch_normalization_7 (Batch (None, 18, 50, 110)       440       \n",
      "_________________________________________________________________\n",
      "leaky_re_lu_9 (LeakyReLU)    (None, 18, 50, 110)       0         \n",
      "_________________________________________________________________\n",
      "max_pooling2d_4 (MaxPooling2 (None, 9, 25, 110)        0         \n",
      "_________________________________________________________________\n",
      "dropout_4 (Dropout)          (None, 9, 25, 110)        0         \n",
      "_________________________________________________________________\n",
      "conv2d_5 (Conv2D)            (None, 36, 25, 37)        8136      \n",
      "_________________________________________________________________\n",
      "batch_normalization_8 (Batch (None, 36, 25, 37)        148       \n",
      "_________________________________________________________________\n",
      "leaky_re_lu_10 (LeakyReLU)   (None, 36, 25, 37)        0         \n",
      "_________________________________________________________________\n",
      "max_pooling2d_5 (MaxPooling2 (None, 18, 13, 37)        0         \n",
      "_________________________________________________________________\n",
      "dropout_5 (Dropout)          (None, 18, 13, 37)        0         \n",
      "_________________________________________________________________\n",
      "conv2d_6 (Conv2D)            (None, 72, 13, 13)        32472     \n",
      "_________________________________________________________________\n",
      "batch_normalization_9 (Batch (None, 72, 13, 13)        52        \n",
      "_________________________________________________________________\n",
      "leaky_re_lu_11 (LeakyReLU)   (None, 72, 13, 13)        0         \n",
      "_________________________________________________________________\n",
      "max_pooling2d_6 (MaxPooling2 (None, 36, 7, 13)         0         \n",
      "_________________________________________________________________\n",
      "dropout_6 (Dropout)          (None, 36, 7, 13)         0         \n",
      "_________________________________________________________________\n",
      "flatten_3 (Flatten)          (None, 3276)              0         \n",
      "_________________________________________________________________\n",
      "dense_5 (Dense)              (None, 64)                209728    \n",
      "_________________________________________________________________\n",
      "leaky_re_lu_12 (LeakyReLU)   (None, 64)                0         \n",
      "_________________________________________________________________\n",
      "dense_6 (Dense)              (None, 5)                 325       \n",
      "_________________________________________________________________\n",
      "activation_3 (Activation)    (None, 5)                 0         \n",
      "=================================================================\n",
      "Total params: 251,769\n",
      "Trainable params: 251,449\n",
      "Non-trainable params: 320\n",
      "_________________________________________________________________\n"
     ]
    }
   ],
   "source": [
    "model_temp = ModelDeep((1,window_size,features), 5)"
   ]
  },
  {
   "cell_type": "code",
   "execution_count": 9,
   "metadata": {},
   "outputs": [],
   "source": [
    "opt4 = Adam(lr=0.01)\n",
    "model_temp.compile(optimizer = opt4, loss = \"categorical_crossentropy\", metrics = [\"accuracy\"])\n",
    "\n",
    "# need to reshape in order to fit to the new 2D model\n",
    "X_train = X_train_s.reshape(X_train_s.shape[0], 1, window_size, features)\n",
    "X_test = X_test_s.reshape(X_test_s.shape[0], 1, window_size, features)"
   ]
  },
  {
   "cell_type": "code",
   "execution_count": 10,
   "metadata": {},
   "outputs": [
    {
     "name": "stdout",
     "output_type": "stream",
     "text": [
      "Train on 3141 samples, validate on 1149 samples\n",
      "Epoch 1/15\n",
      "3141/3141 [==============================] - 75s 24ms/step - loss: 14.3209 - acc: 0.2518 - val_loss: 12.6661 - val_acc: 0.3864\n",
      "Epoch 2/15\n",
      "3141/3141 [==============================] - 74s 23ms/step - loss: 7.9281 - acc: 0.6052 - val_loss: 6.7632 - val_acc: 0.6623\n",
      "Epoch 3/15\n",
      "3141/3141 [==============================] - 74s 24ms/step - loss: 4.3468 - acc: 0.6921 - val_loss: 4.8624 - val_acc: 0.6301\n",
      "Epoch 4/15\n",
      "3141/3141 [==============================] - 72s 23ms/step - loss: 2.6872 - acc: 0.7084 - val_loss: 1.9211 - val_acc: 0.7859\n",
      "Epoch 5/15\n",
      "3141/3141 [==============================] - 73s 23ms/step - loss: 1.4364 - acc: 0.7415 - val_loss: 1.9821 - val_acc: 0.7415\n",
      "Epoch 6/15\n",
      "3141/3141 [==============================] - 73s 23ms/step - loss: 1.0850 - acc: 0.7463 - val_loss: 1.1151 - val_acc: 0.7546\n",
      "Epoch 7/15\n",
      "3141/3141 [==============================] - 72s 23ms/step - loss: 0.7747 - acc: 0.7835 - val_loss: 0.8321 - val_acc: 0.7728\n",
      "Epoch 8/15\n",
      "3141/3141 [==============================] - 72s 23ms/step - loss: 0.6558 - acc: 0.7899 - val_loss: 0.7914 - val_acc: 0.7633\n",
      "Epoch 9/15\n",
      "3141/3141 [==============================] - 71s 23ms/step - loss: 0.6798 - acc: 0.7966 - val_loss: 0.8708 - val_acc: 0.7702\n",
      "Epoch 10/15\n",
      "3141/3141 [==============================] - 71s 22ms/step - loss: 0.6358 - acc: 0.7978 - val_loss: 0.7171 - val_acc: 0.7868\n",
      "Epoch 11/15\n",
      "3141/3141 [==============================] - 71s 23ms/step - loss: 0.6333 - acc: 0.7982 - val_loss: 0.7704 - val_acc: 0.7903\n",
      "Epoch 12/15\n",
      "3141/3141 [==============================] - 72s 23ms/step - loss: 0.6688 - acc: 0.8001 - val_loss: 0.9923 - val_acc: 0.6258\n",
      "Epoch 13/15\n",
      "3141/3141 [==============================] - 71s 23ms/step - loss: 0.6174 - acc: 0.8036 - val_loss: 1.0461 - val_acc: 0.6345\n",
      "Epoch 14/15\n",
      "3141/3141 [==============================] - 75s 24ms/step - loss: 0.6213 - acc: 0.8048 - val_loss: 0.8733 - val_acc: 0.6789\n",
      "Epoch 15/15\n",
      "3141/3141 [==============================] - 75s 24ms/step - loss: 0.5498 - acc: 0.8278 - val_loss: 1.2152 - val_acc: 0.5744\n"
     ]
    },
    {
     "data": {
      "text/plain": [
       "<keras.callbacks.History at 0x19fad344588>"
      ]
     },
     "execution_count": 10,
     "metadata": {},
     "output_type": "execute_result"
    }
   ],
   "source": [
    "model_temp.fit(x = X_train, y = Y_train_s, epochs = 15, batch_size = 128, validation_data=(X_test, Y_test_s))"
   ]
  },
  {
   "cell_type": "code",
   "execution_count": 11,
   "metadata": {},
   "outputs": [
    {
     "name": "stdout",
     "output_type": "stream",
     "text": [
      "F1-measure:  0.4810172835535927\n",
      "AUC w.r. to each class:  {0: 0.940470920116546, 1: 0.9115641913470265, 2: 0.9283120655669675, 3: 0.9937768508863399, 4: 0.8627313862607979}\n"
     ]
    },
    {
     "data": {
      "image/png": "[encoded data removed]",
      "text/plain": [
       "<Figure size 432x288 with 2 Axes>"
      ]
     },
     "metadata": {},
     "output_type": "display_data"
    }
   ],
   "source": [
    "Y_pred_s = model_temp.predict(X_test)\n",
    "\n",
    "# print results\n",
    "#reverse the one-ot encoder procedure\n",
    "Y_test_hard = np.argmax(Y_test_s, axis=1)\n",
    "Y_pred_hard = np.argmax(Y_pred_s, axis=1)\n",
    "\n",
    "print(\"F1-measure: \", utils.f1_score(Y_test_hard, Y_pred_hard, average='weighted'))\n",
    "print(\"AUC w.r. to each class: \", utils.AUC(Y_test_s, Y_pred_s, 5))\n",
    "\n",
    "# Compute and plot confusion matrix\n",
    "cnf_matrix = utils.confusion_matrix(Y_test_hard, Y_pred_hard)\n",
    "np.set_printoptions(precision=2)\n",
    "\n",
    "plt.figure()\n",
    "utils.plot_confusion_matrix(cnf_matrix, classes=[0,1,2,4,5],\n",
    "                      title='Confusion matrix, without normalization')"
   ]
  },
  {
   "cell_type": "code",
   "execution_count": null,
   "metadata": {},
   "outputs": [],
   "source": []
  }
 ],
 "metadata": {
  "kernelspec": {
   "display_name": "Python 3",
   "language": "python",
   "name": "python3"
  },
  "language_info": {
   "codemirror_mode": {
    "name": "ipython",
    "version": 3
   },
   "file_extension": ".py",
   "mimetype": "text/x-python",
   "name": "python",
   "nbconvert_exporter": "python",
   "pygments_lexer": "ipython3",
   "version": "3.6.4"
  }
 },
 "nbformat": 4,
 "nbformat_minor": 2
}
