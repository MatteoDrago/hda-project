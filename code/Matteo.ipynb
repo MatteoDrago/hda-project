{
 "cells": [
  {
   "cell_type": "markdown",
   "metadata": {},
   "source": [
    "# HDA - Project 3"
   ]
  },
  {
   "cell_type": "code",
   "execution_count": 1,
   "metadata": {},
   "outputs": [
    {
     "name": "stderr",
     "output_type": "stream",
     "text": [
      "Using TensorFlow backend.\n"
     ]
    }
   ],
   "source": [
    "import utils\n",
    "import numpy as np\n",
    "import matplotlib.pyplot as plt\n",
    "from tqdm import tqdm # progress bar in loop cycles\n",
    "\n",
    "from sklearn.svm import LinearSVC\n",
    "from sklearn.metrics import accuracy_score\n",
    "\n",
    "from keras import regularizers\n",
    "from keras.activations import relu\n",
    "from keras.layers import Conv2D, BatchNormalization, Dropout, LeakyReLU, Flatten, Activation, Dense, MaxPooling2D, LSTM, Reshape\n",
    "from keras.models import Model, Sequential\n",
    "from keras.optimizers import Adam"
   ]
  },
  {
   "cell_type": "markdown",
   "metadata": {},
   "source": [
    "The following cell contains the hyper-parameters that can be tuned for code execution:\n",
    "- subject: select the subject on which to test the model, between [1,4];\n",
    "- folder: directory name where '.mat' files are stored;\n",
    "- label_col: column of features to be selected to perform activity detection, between [0,6]:\n",
    "\n",
    "|  Label |  Feature |\n",
    "|:-:     |:-:|\n",
    "|  0     | Locomotion (TASK A)  |\n",
    "|  1     | High Level Activity |\n",
    "|  2     | Low Level Left Arm  |\n",
    "|  3     | Low Level Left Arm Object  |\n",
    "|  4     | Low Level Right Arm  |\n",
    "|  5     | Low Level Right Arm Object  |\n",
    "|  6     | Medium Level Both Arms (TASK B2) |\n",
    "\n",
    "- window_size: parameter that sets the length of temporal windows on which to perform the convolution;\n",
    "- stride: step length to chose the next window.\n",
    "\n",
    "The size of the temporal window seems to be fundamental in order to get a more specific and powerful model; of course the choice of the step lenght between consequent windows has to be consistent and to make sense. Thinking about a real-time situation, as long as we collect data we can use a sliding window of real-time samples; in this way, it is reasonable to use also a small value for the stride. Another important reason behind the choice of the value of the "
   ]
  },
  {
   "cell_type": "code",
   "execution_count": 2,
   "metadata": {},
   "outputs": [],
   "source": [
    "subject = 1\n",
    "folder = \"./data/full/\"\n",
    "label = 0     # default for task A\n",
    "window_size = 64\n",
    "stride = 3\n",
    "null_class = True"
   ]
  },
  {
   "cell_type": "code",
   "execution_count": 3,
   "metadata": {},
   "outputs": [
    {
     "name": "stdout",
     "output_type": "stream",
     "text": [
      "\n",
      "Session shapes:\n",
      "ADL1:   (45810, 110)\n",
      "ADL2:   (28996, 110)\n",
      "ADL3:   (30167, 110)\n",
      "ADL4:   (30228, 110)\n",
      "ADL5:   (27308, 110)\n",
      "Drill:  (52152, 110)\n",
      "Training samples:  157125 \n",
      "Test samples:       57536 \n",
      "Features:             110\n",
      "Features have shape:  (52354, 64, 110) \n",
      "Labels have shape:    (52354, 5) \n",
      "Fraction of labels:   [0.10988654 0.41987241 0.27476411 0.17119991 0.02427704]\n",
      "Features have shape:  (19157, 64, 110) \n",
      "Labels have shape:    (19157, 5) \n",
      "Fraction of labels:   [0.17742862 0.34337318 0.20290233 0.23771989 0.03857598]\n"
     ]
    }
   ],
   "source": [
    "[x_train, y_train, x_test, y_test] = utils.preprocessing(subject,\n",
    "                                                         folder,\n",
    "                                                         label,\n",
    "                                                         window_size,\n",
    "                                                         stride,\n",
    "                                                         null_class)"
   ]
  },
  {
   "cell_type": "markdown",
   "metadata": {},
   "source": [
    "# Test with Deep CNN and LSTM"
   ]
  },
  {
   "cell_type": "code",
   "execution_count": 4,
   "metadata": {},
   "outputs": [],
   "source": [
    "def ModelDeep2D(input_shape, classes, withSoftmax = True):\n",
    "    \"\"\" \n",
    "    Arguments:\n",
    "    input_shape -- shape of the images of the dataset\n",
    "\n",
    "    Returns: \n",
    "    model -- a Model() instance in Keras\n",
    "    \"\"\"\n",
    "    \n",
    "    model = Sequential()\n",
    "  \n",
    "    model.add(BatchNormalization(input_shape = input_shape))\n",
    "    model.add(Conv2D(filters = 50,\n",
    "                    kernel_size = (11,1),\n",
    "                    activation='relu'))\n",
    "    \n",
    "    model.add(MaxPooling2D(pool_size=(2,1)))\n",
    "    \n",
    "    model.add(Reshape((27,5500)))\n",
    "    \n",
    "    model.add(LSTM(100,\n",
    "                  return_sequences=True))\n",
    "    \n",
    "    model.add(LSTM(100))\n",
    "   \n",
    "    model.add(Dense(512,activation = 'relu'))\n",
    "    \n",
    "    if (withSoftmax):\n",
    "        model.add(Dense(classes, activation = 'softmax'))\n",
    "    \n",
    "    return model"
   ]
  },
  {
   "cell_type": "code",
   "execution_count": 5,
   "metadata": {},
   "outputs": [
    {
     "name": "stdout",
     "output_type": "stream",
     "text": [
      "_________________________________________________________________\n",
      "Layer (type)                 Output Shape              Param #   \n",
      "=================================================================\n",
      "batch_normalization_1 (Batch (None, 64, 110, 1)        4         \n",
      "_________________________________________________________________\n",
      "conv2d_1 (Conv2D)            (None, 54, 110, 50)       600       \n",
      "_________________________________________________________________\n",
      "max_pooling2d_1 (MaxPooling2 (None, 27, 110, 50)       0         \n",
      "_________________________________________________________________\n",
      "reshape_1 (Reshape)          (None, 27, 5500)          0         \n",
      "_________________________________________________________________\n",
      "lstm_1 (LSTM)                (None, 27, 100)           2240400   \n",
      "_________________________________________________________________\n",
      "lstm_2 (LSTM)                (None, 100)               80400     \n",
      "_________________________________________________________________\n",
      "dense_1 (Dense)              (None, 512)               51712     \n",
      "_________________________________________________________________\n",
      "dense_2 (Dense)              (None, 5)                 2565      \n",
      "=================================================================\n",
      "Total params: 2,375,681\n",
      "Trainable params: 2,375,679\n",
      "Non-trainable params: 2\n",
      "_________________________________________________________________\n"
     ]
    }
   ],
   "source": [
    "model_temp = ModelDeep2D((window_size,features,1), n_classes)"
   ]
  },
  {
   "cell_type": "code",
   "execution_count": 6,
   "metadata": {},
   "outputs": [],
   "source": [
    "opt4 = Adam(lr=0.01)\n",
    "model_temp.compile(optimizer = opt4, loss = \"categorical_crossentropy\", metrics = [\"accuracy\"])\n",
    "\n",
    "# need to reshape in order to fit to the new 2D model\n",
    "X_train = X_train_s.reshape(X_train_s.shape[0], window_size, features, 1)\n",
    "X_test = X_test_s.reshape(X_test_s.shape[0], window_size, features, 1)"
   ]
  },
  {
   "cell_type": "code",
   "execution_count": null,
   "metadata": {},
   "outputs": [],
   "source": [
    "model_temp.fit(x = X_train, \n",
    "               y = Y_train_s, \n",
    "               epochs = 25, \n",
    "               batch_size = 500,\n",
    "               verbose = 1,\n",
    "               validation_data=(X_test, Y_test_s))"
   ]
  },
  {
   "cell_type": "code",
   "execution_count": 7,
   "metadata": {},
   "outputs": [
    {
     "name": "stdout",
     "output_type": "stream",
     "text": [
      "_________________________________________________________________\n",
      "Layer (type)                 Output Shape              Param #   \n",
      "=================================================================\n",
      "batch_normalization_2 (Batch (None, 64, 110, 1)        4         \n",
      "_________________________________________________________________\n",
      "conv2d_2 (Conv2D)            (None, 54, 110, 50)       600       \n",
      "_________________________________________________________________\n",
      "max_pooling2d_2 (MaxPooling2 (None, 27, 110, 50)       0         \n",
      "_________________________________________________________________\n",
      "reshape_2 (Reshape)          (None, 27, 5500)          0         \n",
      "_________________________________________________________________\n",
      "lstm_3 (LSTM)                (None, 27, 100)           2240400   \n",
      "_________________________________________________________________\n",
      "lstm_4 (LSTM)                (None, 100)               80400     \n",
      "_________________________________________________________________\n",
      "dense_3 (Dense)              (None, 512)               51712     \n",
      "_________________________________________________________________\n",
      "dense_4 (Dense)              (None, 5)                 2565      \n",
      "=================================================================\n",
      "Total params: 2,375,681\n",
      "Trainable params: 2,375,679\n",
      "Non-trainable params: 2\n",
      "_________________________________________________________________\n"
     ]
    }
   ],
   "source": [
    "model = ModelDeep2D((window_size,features,1), n_classes)\n",
    "\n",
    "model.load_weights('./data/model.h5',by_name=True)"
   ]
  },
  {
   "cell_type": "code",
   "execution_count": 8,
   "metadata": {},
   "outputs": [
    {
     "name": "stdout",
     "output_type": "stream",
     "text": [
      "Loading the training and testing data ...\n",
      "(52354, 64, 110, 1)\n",
      "   52354 training examples loaded\n",
      "   19157 testing examples loaded\n",
      "Computing DNN features on the training set...\n"
     ]
    },
    {
     "name": "stderr",
     "output_type": "stream",
     "text": [
      "TRAINING: 100%|#####################################################| 88/88 [06:08<00:00,  4.19s/it]\n"
     ]
    },
    {
     "name": "stdout",
     "output_type": "stream",
     "text": [
      "Computing DNN features on the testing set...\n"
     ]
    },
    {
     "name": "stderr",
     "output_type": "stream",
     "text": [
      "TESTING: 100%|######################################################| 32/32 [01:58<00:00,  3.70s/it]\n"
     ]
    }
   ],
   "source": [
    "# Load the data and labels\n",
    "trainingShape = X_train.shape\n",
    "testingShape = X_test.shape\n",
    "\n",
    "nbTrainingExamples = trainingShape[0]\n",
    "nbTestingExamples = testingShape[0]\n",
    "\n",
    "# Allocate the feature arrays\n",
    "featureSize = 5\n",
    "trainingDnnFeatures = np.empty((nbTrainingExamples,featureSize),dtype=np.float32)\n",
    "testingDnnFeatures = np.empty((nbTestingExamples,featureSize),dtype=np.float32)\n",
    "\n",
    "print('Computing DNN features on the training set...')\n",
    "idx = 0\n",
    "batchSize = 600\n",
    "\n",
    "iterations = int (nbTrainingExamples // batchSize)\n",
    "for i in tqdm(range(iterations+1),ncols=100,ascii=True,desc=\"TRAINING\"):\n",
    "    if idx + batchSize < nbTrainingExamples:\n",
    "        endIdx = idx+batchSize\n",
    "        size = batchSize\n",
    "    else:\n",
    "        endIdx = nbTrainingExamples\n",
    "        size = nbTrainingExamples-idx\n",
    "    predictions = model.predict(X_train[idx:endIdx],batch_size=size)\n",
    "    trainingDnnFeatures[idx:endIdx] = predictions\n",
    "    idx += batchSize\n",
    "\n",
    "print('Computing DNN features on the testing set...')\n",
    "idx = 0\n",
    "iterations = int (nbTestingExamples // batchSize)\n",
    "for i in tqdm(range(iterations+1),ncols=100,ascii=True,desc=\"TESTING\"):\n",
    "    if idx + batchSize < nbTestingExamples:\n",
    "        endIdx = idx+batchSize\n",
    "        size = batchSize\n",
    "    else:\n",
    "        endIdx = nbTestingExamples\n",
    "        size = nbTestingExamples-idx\n",
    "    predictions = model.predict(X_test[idx:endIdx],batch_size=size)\n",
    "    testingDnnFeatures[idx:endIdx] = predictions\n",
    "    idx += batchSize\n",
    "    "
   ]
  },
  {
   "cell_type": "code",
   "execution_count": 12,
   "metadata": {},
   "outputs": [
    {
     "name": "stdout",
     "output_type": "stream",
     "text": [
      "(52354, 5)\n",
      "(52354, 5)\n",
      "Training the model with C = 0.0156\n",
      "   Evaluating the model\n",
      "   Test accuracy = 90.38 %\n",
      "   Weighted F1-score = 0.9034\n"
     ]
    }
   ],
   "source": [
    "# Train the linear SVM model\n",
    "\n",
    "C = [2**(-6)]\n",
    "\n",
    "y_train = np.argmax(Y_train_s, axis=1)\n",
    "y_test = np.argmax(Y_test_s, axis=1)\n",
    "\n",
    "print(trainingDnnFeatures.shape)\n",
    "print(Y_train_s.shape)\n",
    "for idx in range(len(C)):\n",
    "    print('Training the model with C = %.4f' % (C[idx]))\n",
    "    classifier = LinearSVC(C=C[idx])\n",
    "    classifier.fit(trainingDnnFeatures,y_train)\n",
    "\n",
    "    # Evaluate the model on the testing set\n",
    "    print('   Evaluating the model')\n",
    "    estimatedLabels = classifier.predict(testingDnnFeatures)\n",
    "\n",
    "    # Compute the accuracy, weighted F1-score and average F1-score\n",
    "    accuracy = accuracy_score(y_test,estimatedLabels)\n",
    "    weightedF1 = utils.f1_score(y_test,estimatedLabels,average='weighted')\n",
    "\n",
    "    # Print results\n",
    "    print('   Test accuracy = %.2f %%' % (accuracy*100))\n",
    "    print('   Weighted F1-score = %.4f' % (weightedF1))\n"
   ]
  },
  {
   "cell_type": "code",
   "execution_count": 13,
   "metadata": {},
   "outputs": [
    {
     "name": "stdout",
     "output_type": "stream",
     "text": [
      "F1-measure:  0.9038421616134698\n",
      "AUC w.r. to each class:  {0: 0.9714909654598172, 1: 0.9863360430428733, 2: 0.9755386660722718, 3: 0.9993081567906872, 4: 0.9985806230916952}\n"
     ]
    },
    {
     "data": {
      "image/png": "[encoded data removed]",
      "text/plain": [
       "<matplotlib.figure.Figure at 0x1fb5ee69630>"
      ]
     },
     "metadata": {},
     "output_type": "display_data"
    }
   ],
   "source": [
    "Y_pred_s = model.predict(X_test)\n",
    "\n",
    "# print results\n",
    "#reverse the one-ot encoder procedure\n",
    "Y_test_hard = np.argmax(Y_test_s, axis=1)\n",
    "Y_pred_hard = np.argmax(Y_pred_s, axis=1)\n",
    "\n",
    "print(\"F1-measure: \", utils.f1_score(Y_test_hard, Y_pred_hard, average='weighted'))\n",
    "print(\"AUC w.r. to each class: \", utils.AUC(Y_test_s, Y_pred_s, 5))\n",
    "\n",
    "# Compute and plot confusion matrix\n",
    "cnf_matrix = utils.confusion_matrix(Y_test_hard, Y_pred_hard)\n",
    "np.set_printoptions(precision=2)\n",
    "\n",
    "plt.figure()\n",
    "utils.plot_confusion_matrix(cnf_matrix, classes=classes,\n",
    "                      title='Confusion matrix, without normalization')"
   ]
  },
  {
   "cell_type": "code",
   "execution_count": null,
   "metadata": {},
   "outputs": [],
   "source": []
  }
 ],
 "metadata": {
  "kernelspec": {
   "display_name": "Python 3",
   "language": "python",
   "name": "python3"
  },
  "language_info": {
   "codemirror_mode": {
    "name": "ipython",
    "version": 3
   },
   "file_extension": ".py",
   "mimetype": "text/x-python",
   "name": "python",
   "nbconvert_exporter": "python",
   "pygments_lexer": "ipython3",
   "version": "3.6.4"
  }
 },
 "nbformat": 4,
 "nbformat_minor": 2
}
