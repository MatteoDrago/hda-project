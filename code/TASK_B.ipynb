{
 "cells": [
  {
   "cell_type": "markdown",
   "metadata": {},
   "source": [
    "# HDA - Project 3\n",
    "## TASK B1: Activity detection\n",
    "This task consists of a binary classification, where a gesture denotes activity and thus the model detects wheter there is a gesture label or not (labeled in column 6).\n",
    "\n",
    "This first cell contains the parameters that can be tuned for code execution:\n",
    "- subject: select the subject on which to test the model, between [1,4];\n",
    "- folder: directory name where '.mat' files are stored;\n",
    "- label_col: index of feature column to be selected to perform activity detection, between [0,6];\n",
    "- window_size: parameter that sets the length of temporal windows on which to perform the convolution;\n",
    "- stride: step length to chose the next window."
   ]
  },
  {
   "cell_type": "code",
   "execution_count": 1,
   "metadata": {},
   "outputs": [],
   "source": [
    "subject = 1\n",
    "folder = \"./data/full/\"\n",
    "label = 0     # default for task B1\n",
    "window_size = 15\n",
    "stride = 15\n",
    "# make_binary = True"
   ]
  },
  {
   "cell_type": "code",
   "execution_count": 2,
   "metadata": {},
   "outputs": [
    {
     "name": "stderr",
     "output_type": "stream",
     "text": [
      "Using TensorFlow backend.\n"
     ]
    }
   ],
   "source": [
    "import utils\n",
    "import deeplearning\n",
    "import numpy as np\n",
    "from sklearn.preprocessing import OneHotEncoder, StandardScaler\n",
    "from sklearn.metrics import classification_report\n",
    "import matplotlib.pyplot as plt\n",
    "from keras.optimizers import Adam\n",
    "from keras.utils import to_categorical\n",
    "from keras.callbacks import ModelCheckpoint\n",
    "from keras.models import load_model"
   ]
  },
  {
   "cell_type": "markdown",
   "metadata": {},
   "source": [
    "Creation of training set and test set"
   ]
  },
  {
   "cell_type": "code",
   "execution_count": 3,
   "metadata": {},
   "outputs": [
    {
     "name": "stdout",
     "output_type": "stream",
     "text": [
      "Training samples:  157125 \n",
      "Test samples:       57536 \n",
      "Features:             110\n",
      "Classes: 2\n",
      "\n",
      "TRAINING SET:\n",
      "Dataset of Images have shape:  (10474, 15, 110) \n",
      "Dataset of Labels have shape:    (10474, 2) \n",
      "Fraction of labels:   [0.11065496 0.88934504]\n",
      "\n",
      "TEST SET:\n",
      "Dataset of Images have shape:  (3834, 15, 110) \n",
      "Dataset of Labels have shape:    (3834, 2) \n",
      "Fraction of labels:   [0.17736046 0.82263954]\n"
     ]
    }
   ],
   "source": [
    "[x_train, y_train, x_test, y_test, n_features, n_classes] = utils.preprocessing(subject,\n",
    "                                                                                folder,\n",
    "                                                                                label,\n",
    "                                                                                window_size,\n",
    "                                                                                stride,\n",
    "                                                                                printInfo = True,\n",
    "                                                                                make_binary = True)"
   ]
  },
  {
   "cell_type": "markdown",
   "metadata": {},
   "source": [
    "Preparation of data in a input-suitable form"
   ]
  },
  {
   "cell_type": "code",
   "execution_count": 4,
   "metadata": {},
   "outputs": [
    {
     "name": "stdout",
     "output_type": "stream",
     "text": [
      "_________________________________________________________________\n",
      "Layer (type)                 Output Shape              Param #   \n",
      "=================================================================\n",
      "batch_normalization_1 (Batch (None, 15, 110, 1)        4         \n",
      "_________________________________________________________________\n",
      "conv2d_1 (Conv2D)            (None, 5, 108, 50)        1700      \n",
      "_________________________________________________________________\n",
      "max_pooling2d_1 (MaxPooling2 (None, 2, 108, 50)        0         \n",
      "_________________________________________________________________\n",
      "reshape_1 (Reshape)          (None, 2, 5400)           0         \n",
      "_________________________________________________________________\n",
      "lstm_1 (LSTM)                (None, 2, 20)             433680    \n",
      "_________________________________________________________________\n",
      "lstm_2 (LSTM)                (None, 20)                3280      \n",
      "_________________________________________________________________\n",
      "dense_1 (Dense)              (None, 512)               10752     \n",
      "_________________________________________________________________\n",
      "dense_2 (Dense)              (None, 2)                 1026      \n",
      "=================================================================\n",
      "Total params: 450,442\n",
      "Trainable params: 450,440\n",
      "Non-trainable params: 2\n",
      "_________________________________________________________________\n"
     ]
    }
   ],
   "source": [
    "detection_model = deeplearning.MotionDetection((window_size,n_features,1), n_classes)\n",
    "detection_model.summary() # model visualization"
   ]
  },
  {
   "cell_type": "code",
   "execution_count": 5,
   "metadata": {
    "scrolled": true
   },
   "outputs": [
    {
     "name": "stdout",
     "output_type": "stream",
     "text": [
      "Train on 10474 samples, validate on 3834 samples\n",
      "Epoch 1/10\n",
      "10474/10474 [==============================] - 5s 498us/step - loss: 0.2044 - acc: 0.9264 - val_loss: 0.2039 - val_acc: 0.9178\n",
      "\n",
      "Epoch 00001: val_loss improved from inf to 0.20391, saving model to ./data/weights_d.hdf5\n",
      "Epoch 2/10\n",
      "10474/10474 [==============================] - 2s 209us/step - loss: 0.1618 - acc: 0.9478 - val_loss: 0.2247 - val_acc: 0.9244\n",
      "\n",
      "Epoch 00002: val_loss did not improve\n",
      "Epoch 3/10\n",
      "10474/10474 [==============================] - 2s 209us/step - loss: 0.1597 - acc: 0.9489 - val_loss: 0.2438 - val_acc: 0.9197\n",
      "\n",
      "Epoch 00003: val_loss did not improve\n",
      "Epoch 4/10\n",
      "10474/10474 [==============================] - 2s 209us/step - loss: 0.1574 - acc: 0.9479 - val_loss: 0.2584 - val_acc: 0.9069\n",
      "\n",
      "Epoch 00004: val_loss did not improve\n",
      "Epoch 5/10\n",
      "10474/10474 [==============================] - 2s 210us/step - loss: 0.1525 - acc: 0.9525 - val_loss: 0.2305 - val_acc: 0.9275\n",
      "\n",
      "Epoch 00005: val_loss did not improve\n",
      "Epoch 6/10\n",
      "10474/10474 [==============================] - 2s 213us/step - loss: 0.1443 - acc: 0.9568 - val_loss: 0.2303 - val_acc: 0.9197\n",
      "\n",
      "Epoch 00006: val_loss did not improve\n",
      "Epoch 7/10\n",
      "10474/10474 [==============================] - 2s 218us/step - loss: 0.1497 - acc: 0.9539 - val_loss: 0.2817 - val_acc: 0.9061\n",
      "\n",
      "Epoch 00007: val_loss did not improve\n",
      "Epoch 8/10\n",
      "10474/10474 [==============================] - 2s 221us/step - loss: 0.1545 - acc: 0.9524 - val_loss: 0.2018 - val_acc: 0.9301\n",
      "\n",
      "Epoch 00008: val_loss improved from 0.20391 to 0.20182, saving model to ./data/weights_d.hdf5\n",
      "Epoch 9/10\n",
      "10474/10474 [==============================] - 2s 213us/step - loss: 0.1461 - acc: 0.9520 - val_loss: 0.1851 - val_acc: 0.9338\n",
      "\n",
      "Epoch 00009: val_loss improved from 0.20182 to 0.18506, saving model to ./data/weights_d.hdf5\n",
      "Epoch 10/10\n",
      "10474/10474 [==============================] - 2s 215us/step - loss: 0.1328 - acc: 0.9610 - val_loss: 0.2040 - val_acc: 0.9340\n",
      "\n",
      "Epoch 00010: val_loss did not improve\n"
     ]
    },
    {
     "data": {
      "text/plain": [
       "<keras.callbacks.History at 0x1b39bd77438>"
      ]
     },
     "execution_count": 5,
     "metadata": {},
     "output_type": "execute_result"
    }
   ],
   "source": [
    "detection_model.compile(optimizer = Adam(lr=0.01), \n",
    "                        loss = \"categorical_crossentropy\", \n",
    "                        metrics = [\"accuracy\"])\n",
    "\n",
    "input_train = x_train.reshape(x_train.shape[0], window_size, n_features, 1)\n",
    "input_test = x_test.reshape(x_test.shape[0], window_size, n_features, 1)\n",
    "\n",
    "checkpointer = ModelCheckpoint(filepath='./data/weights_d.hdf5', verbose=1, save_best_only=True)\n",
    "\n",
    "detection_model.fit(x = input_train, \n",
    "                    y = y_train, \n",
    "                    epochs = 10, \n",
    "                    batch_size = 128,\n",
    "                    verbose = 1,\n",
    "                    validation_data=(input_test, y_test),\n",
    "                    callbacks=[checkpointer])"
   ]
  },
  {
   "cell_type": "code",
   "execution_count": 6,
   "metadata": {},
   "outputs": [
    {
     "name": "stdout",
     "output_type": "stream",
     "text": [
      "             precision    recall  f1-score   support\n",
      "\n",
      "          0       0.89      0.72      0.79       680\n",
      "          1       0.94      0.98      0.96      3154\n",
      "\n",
      "avg / total       0.93      0.93      0.93      3834\n",
      "\n"
     ]
    }
   ],
   "source": [
    "y_pred = detection_model.predict(input_test)\n",
    "y_pred = np.argmax(y_pred, 1)\n",
    "\n",
    "print(classification_report(y_test, to_categorical(y_pred)))"
   ]
  },
  {
   "cell_type": "code",
   "execution_count": 7,
   "metadata": {},
   "outputs": [
    {
     "name": "stdout",
     "output_type": "stream",
     "text": [
      "             precision    recall  f1-score   support\n",
      "\n",
      "          0       0.88      0.73      0.80       680\n",
      "          1       0.94      0.98      0.96      3154\n",
      "\n",
      "avg / total       0.93      0.93      0.93      3834\n",
      "\n"
     ]
    }
   ],
   "source": [
    "detection_model_best = load_model('./data/weights_d.hdf5')\n",
    "\n",
    "y_pred = detection_model_best.predict(input_test)\n",
    "y_pred = np.argmax(y_pred, 1)\n",
    "\n",
    "print(classification_report(y_test, to_categorical(y_pred)))"
   ]
  },
  {
   "cell_type": "markdown",
   "metadata": {},
   "source": [
    "## Task B2: gesture recognition\n",
    "This task consists of a 17-class classification, where gestures are labeled in column 6.\n",
    "\n",
    "To tune the following parameters, refer to the first cell of task B1:\n",
    "- subject: select the subject on which to test the model, between [1,4];\n",
    "- folder: directory name where '.mat' files are stored;\n",
    "- label_col: index of feature column to be selected to perform activity detection, between [0,6];\n",
    "- window_size: parameter that sets the length of temporal windows on which to perform the convolution;\n",
    "- stride: step length to chose the next window.\n",
    "\n",
    "Here we just need to preserve the different labels, thus we set 'make_binary' to False. We have then 18 different labels, keeping into account the null class, with label 0."
   ]
  },
  {
   "cell_type": "code",
   "execution_count": 8,
   "metadata": {},
   "outputs": [
    {
     "name": "stdout",
     "output_type": "stream",
     "text": [
      "Training samples:  157125 \n",
      "Test samples:       57536 \n",
      "Features:             110\n",
      "\n",
      "TRAINING SET:\n",
      "Dataset of Images have shape:  (9314, 15, 110) \n",
      "Dataset of Labels have shape:    (9314, 4) \n",
      "Fraction of labels:   [0.46993773 0.31028559 0.19229117 0.02748551]\n",
      "\n",
      "TEST SET:\n",
      "Dataset of Images have shape:  (3154, 15, 110) \n",
      "Dataset of Labels have shape:    (3154, 4) \n",
      "Fraction of labels:   [0.41661382 0.24793912 0.28883957 0.04660748]\n"
     ]
    }
   ],
   "source": [
    "[x_train, y_train, x_test, y_test, n_classes] = utils.preprocessing(subject,\n",
    "                                                                    folder,\n",
    "                                                                    label,\n",
    "                                                                    window_size,\n",
    "                                                                    stride,\n",
    "                                                                    printInfo = True,\n",
    "                                                                    make_binary = False,\n",
    "                                                                    null_class = False)"
   ]
  },
  {
   "cell_type": "code",
   "execution_count": 9,
   "metadata": {},
   "outputs": [],
   "source": [
    "n_classes = 4 # OVERWRITE TO BE FIXED"
   ]
  },
  {
   "cell_type": "code",
   "execution_count": 10,
   "metadata": {},
   "outputs": [
    {
     "name": "stdout",
     "output_type": "stream",
     "text": [
      "_________________________________________________________________\n",
      "Layer (type)                 Output Shape              Param #   \n",
      "=================================================================\n",
      "batch_normalization_2 (Batch (None, 15, 110, 1)        4         \n",
      "_________________________________________________________________\n",
      "conv2d_2 (Conv2D)            (None, 5, 110, 50)        600       \n",
      "_________________________________________________________________\n",
      "max_pooling2d_2 (MaxPooling2 (None, 2, 110, 50)        0         \n",
      "_________________________________________________________________\n",
      "reshape_2 (Reshape)          (None, 2, 5500)           0         \n",
      "_________________________________________________________________\n",
      "lstm_3 (LSTM)                (None, 2, 300)            6961200   \n",
      "_________________________________________________________________\n",
      "lstm_4 (LSTM)                (None, 300)               721200    \n",
      "_________________________________________________________________\n",
      "dropout_1 (Dropout)          (None, 300)               0         \n",
      "_________________________________________________________________\n",
      "dense_3 (Dense)              (None, 512)               154112    \n",
      "_________________________________________________________________\n",
      "dropout_2 (Dropout)          (None, 512)               0         \n",
      "_________________________________________________________________\n",
      "dense_4 (Dense)              (None, 4)                 2052      \n",
      "=================================================================\n",
      "Total params: 7,839,168\n",
      "Trainable params: 7,839,166\n",
      "Non-trainable params: 2\n",
      "_________________________________________________________________\n"
     ]
    }
   ],
   "source": [
    "classification_model = deeplearning.MotionClassification((window_size,n_features,1), n_classes)\n",
    "classification_model.summary() # model visualization"
   ]
  },
  {
   "cell_type": "code",
   "execution_count": 11,
   "metadata": {},
   "outputs": [
    {
     "name": "stdout",
     "output_type": "stream",
     "text": [
      "Train on 9314 samples, validate on 3154 samples\n",
      "Epoch 1/10\n",
      "9314/9314 [==============================] - 9s 914us/step - loss: 0.4329 - acc: 0.8246 - val_loss: 0.2436 - val_acc: 0.9309\n",
      "\n",
      "Epoch 00001: val_loss improved from inf to 0.24357, saving model to ./data/weights_c.hdf5\n",
      "Epoch 2/10\n",
      "9314/9314 [==============================] - 5s 503us/step - loss: 0.2765 - acc: 0.8876 - val_loss: 0.1523 - val_acc: 0.9388\n",
      "\n",
      "Epoch 00002: val_loss improved from 0.24357 to 0.15234, saving model to ./data/weights_c.hdf5\n",
      "Epoch 3/10\n",
      "9314/9314 [==============================] - 5s 503us/step - loss: 0.2525 - acc: 0.9012 - val_loss: 0.2264 - val_acc: 0.9363\n",
      "\n",
      "Epoch 00003: val_loss did not improve\n",
      "Epoch 4/10\n",
      "9314/9314 [==============================] - 5s 503us/step - loss: 0.2729 - acc: 0.8891 - val_loss: 0.1805 - val_acc: 0.9321\n",
      "\n",
      "Epoch 00004: val_loss did not improve\n",
      "Epoch 5/10\n",
      "9314/9314 [==============================] - 5s 503us/step - loss: 0.2657 - acc: 0.8955 - val_loss: 0.1748 - val_acc: 0.9363\n",
      "\n",
      "Epoch 00005: val_loss did not improve\n",
      "Epoch 6/10\n",
      "9314/9314 [==============================] - 5s 503us/step - loss: 0.2567 - acc: 0.8995 - val_loss: 0.2432 - val_acc: 0.9052\n",
      "\n",
      "Epoch 00006: val_loss did not improve\n",
      "Epoch 7/10\n",
      "9314/9314 [==============================] - 5s 503us/step - loss: 0.2816 - acc: 0.8877 - val_loss: 0.2148 - val_acc: 0.9328\n",
      "\n",
      "Epoch 00007: val_loss did not improve\n",
      "Epoch 8/10\n",
      "9314/9314 [==============================] - 5s 503us/step - loss: 0.3002 - acc: 0.8898 - val_loss: 0.2161 - val_acc: 0.9296\n",
      "\n",
      "Epoch 00008: val_loss did not improve\n",
      "Epoch 9/10\n",
      "9314/9314 [==============================] - 5s 503us/step - loss: 0.2829 - acc: 0.8866 - val_loss: 0.2559 - val_acc: 0.9252\n",
      "\n",
      "Epoch 00009: val_loss did not improve\n",
      "Epoch 10/10\n",
      "9314/9314 [==============================] - 5s 504us/step - loss: 0.2878 - acc: 0.8871 - val_loss: 0.3247 - val_acc: 0.9249\n",
      "\n",
      "Epoch 00010: val_loss did not improve\n"
     ]
    },
    {
     "data": {
      "text/plain": [
       "<keras.callbacks.History at 0x129398d9dd8>"
      ]
     },
     "execution_count": 11,
     "metadata": {},
     "output_type": "execute_result"
    }
   ],
   "source": [
    "classification_model.compile(optimizer = Adam(lr=0.01), \n",
    "                             loss = \"categorical_crossentropy\", \n",
    "                             metrics = [\"accuracy\"])\n",
    "\n",
    "input_train = x_train.reshape(x_train.shape[0], window_size, n_features, 1)\n",
    "input_test = x_test.reshape(x_test.shape[0], window_size, n_features, 1)\n",
    "\n",
    "checkpointer = ModelCheckpoint(filepath='./data/weights_c.hdf5', verbose=1, save_best_only=True)\n",
    "\n",
    "classification_model.fit(x = input_train, \n",
    "                         y = y_train, \n",
    "                         epochs = 10, \n",
    "                         batch_size = 128,\n",
    "                         verbose = 1,\n",
    "                         validation_data=(input_test, y_test),\n",
    "                         callbacks=[checkpointer])"
   ]
  },
  {
   "cell_type": "code",
   "execution_count": 12,
   "metadata": {},
   "outputs": [
    {
     "name": "stdout",
     "output_type": "stream",
     "text": [
      "             precision    recall  f1-score   support\n",
      "\n",
      "          0       0.94      0.89      0.92      1314\n",
      "          1       0.85      0.90      0.88       782\n",
      "          2       0.95      1.00      0.97       911\n",
      "          3       1.00      0.84      0.91       147\n",
      "\n",
      "avg / total       0.93      0.92      0.92      3154\n",
      "\n"
     ]
    }
   ],
   "source": [
    "y_pred = classification_model.predict(input_test)\n",
    "y_pred = np.argmax(y_pred, 1)\n",
    "\n",
    "print(classification_report(y_test, to_categorical(y_pred)))"
   ]
  },
  {
   "cell_type": "code",
   "execution_count": 13,
   "metadata": {},
   "outputs": [
    {
     "name": "stdout",
     "output_type": "stream",
     "text": [
      "             precision    recall  f1-score   support\n",
      "\n",
      "          0       0.92      0.94      0.93      1314\n",
      "          1       0.90      0.86      0.88       782\n",
      "          2       0.99      0.99      0.99       911\n",
      "          3       0.99      1.00      1.00       147\n",
      "\n",
      "avg / total       0.94      0.94      0.94      3154\n",
      "\n"
     ]
    }
   ],
   "source": [
    "detection_model_best = load_model('./data/weights_c.hdf5')\n",
    "\n",
    "y_pred = detection_model_best.predict(input_test)\n",
    "y_pred = np.argmax(y_pred, 1)\n",
    "\n",
    "print(classification_report(y_test, to_categorical(y_pred)))"
   ]
  },
  {
   "cell_type": "markdown",
   "metadata": {},
   "source": [
    "## Classification with null class\n",
    "(detection and classification are performed together)"
   ]
  },
  {
   "cell_type": "code",
   "execution_count": 3,
   "metadata": {},
   "outputs": [
    {
     "name": "stdout",
     "output_type": "stream",
     "text": [
      "Training samples:  157125 \n",
      "Test samples:       57536 \n",
      "Features:             110\n",
      "Classes: 5\n",
      "\n",
      "TRAINING SET:\n",
      "Dataset of Images have shape:  (10474, 15, 110) \n",
      "Dataset of Labels have shape:    (10474, 5) \n",
      "Fraction of labels:   [0.11075043 0.41789192 0.27592133 0.17099484 0.02444147]\n",
      "\n",
      "TEST SET:\n",
      "Dataset of Images have shape:  (3834, 15, 110) \n",
      "Dataset of Labels have shape:    (3834, 5) \n",
      "Fraction of labels:   [0.17736046 0.342723   0.20396453 0.23761085 0.03834116]\n"
     ]
    }
   ],
   "source": [
    "[x_train, y_train, x_test, y_test, n_features, n_classes] = utils.preprocessing(subject,\n",
    "                                                                                folder,\n",
    "                                                                                label,\n",
    "                                                                                window_size,\n",
    "                                                                                stride,\n",
    "                                                                                printInfo = True,\n",
    "                                                                                make_binary = False,)"
   ]
  },
  {
   "cell_type": "code",
   "execution_count": 5,
   "metadata": {},
   "outputs": [
    {
     "name": "stdout",
     "output_type": "stream",
     "text": [
      "_________________________________________________________________\n",
      "Layer (type)                 Output Shape              Param #   \n",
      "=================================================================\n",
      "batch_normalization_2 (Batch (None, 15, 110, 1)        4         \n",
      "_________________________________________________________________\n",
      "conv2d_1 (Conv2D)            (None, 5, 110, 50)        600       \n",
      "_________________________________________________________________\n",
      "max_pooling2d_1 (MaxPooling2 (None, 2, 110, 50)        0         \n",
      "_________________________________________________________________\n",
      "reshape_1 (Reshape)          (None, 2, 5500)           0         \n",
      "_________________________________________________________________\n",
      "lstm_1 (LSTM)                (None, 2, 300)            6961200   \n",
      "_________________________________________________________________\n",
      "lstm_2 (LSTM)                (None, 300)               721200    \n",
      "_________________________________________________________________\n",
      "dropout_1 (Dropout)          (None, 300)               0         \n",
      "_________________________________________________________________\n",
      "dense_1 (Dense)              (None, 512)               154112    \n",
      "_________________________________________________________________\n",
      "dropout_2 (Dropout)          (None, 512)               0         \n",
      "_________________________________________________________________\n",
      "dense_2 (Dense)              (None, 5)                 2565      \n",
      "=================================================================\n",
      "Total params: 7,839,681\n",
      "Trainable params: 7,839,679\n",
      "Non-trainable params: 2\n",
      "_________________________________________________________________\n"
     ]
    }
   ],
   "source": [
    "classification_model = deeplearning.MotionClassification((window_size,n_features,1), n_classes)\n",
    "classification_model.summary() # model visualization"
   ]
  },
  {
   "cell_type": "code",
   "execution_count": 6,
   "metadata": {},
   "outputs": [
    {
     "name": "stdout",
     "output_type": "stream",
     "text": [
      "Train on 10474 samples, validate on 3834 samples\n",
      "Epoch 1/10\n",
      "10474/10474 [==============================] - 9s 850us/step - loss: 0.7202 - acc: 0.7326 - val_loss: 0.4568 - val_acc: 0.8638\n",
      "\n",
      "Epoch 00001: val_loss improved from inf to 0.45680, saving model to ./data/weights_dc.hdf5\n",
      "Epoch 2/10\n",
      "10474/10474 [==============================] - 4s 343us/step - loss: 0.3461 - acc: 0.8675 - val_loss: 0.4182 - val_acc: 0.8876\n",
      "\n",
      "Epoch 00002: val_loss improved from 0.45680 to 0.41824, saving model to ./data/weights_dc.hdf5\n",
      "Epoch 3/10\n",
      "10474/10474 [==============================] - 4s 343us/step - loss: 0.2983 - acc: 0.8893 - val_loss: 0.3834 - val_acc: 0.8714\n",
      "\n",
      "Epoch 00003: val_loss improved from 0.41824 to 0.38337, saving model to ./data/weights_dc.hdf5\n",
      "Epoch 4/10\n",
      "10474/10474 [==============================] - 4s 344us/step - loss: 0.2653 - acc: 0.9011 - val_loss: 0.4114 - val_acc: 0.8761\n",
      "\n",
      "Epoch 00004: val_loss did not improve\n",
      "Epoch 5/10\n",
      "10474/10474 [==============================] - 4s 345us/step - loss: 0.2234 - acc: 0.9187 - val_loss: 0.4284 - val_acc: 0.9001\n",
      "\n",
      "Epoch 00005: val_loss did not improve\n",
      "Epoch 6/10\n",
      "10474/10474 [==============================] - 4s 343us/step - loss: 0.2048 - acc: 0.9276 - val_loss: 0.4328 - val_acc: 0.8818\n",
      "\n",
      "Epoch 00006: val_loss did not improve\n",
      "Epoch 7/10\n",
      "10474/10474 [==============================] - 4s 343us/step - loss: 0.2009 - acc: 0.9287 - val_loss: 0.3465 - val_acc: 0.8967\n",
      "\n",
      "Epoch 00007: val_loss improved from 0.38337 to 0.34646, saving model to ./data/weights_dc.hdf5\n",
      "Epoch 8/10\n",
      "10474/10474 [==============================] - 4s 343us/step - loss: 0.1849 - acc: 0.9335 - val_loss: 0.4077 - val_acc: 0.8847\n",
      "\n",
      "Epoch 00008: val_loss did not improve\n",
      "Epoch 9/10\n",
      "10474/10474 [==============================] - 4s 342us/step - loss: 0.1580 - acc: 0.9448 - val_loss: 0.4098 - val_acc: 0.9032\n",
      "\n",
      "Epoch 00009: val_loss did not improve\n",
      "Epoch 10/10\n",
      "10474/10474 [==============================] - 4s 343us/step - loss: 0.1591 - acc: 0.9437 - val_loss: 0.3971 - val_acc: 0.9061\n",
      "\n",
      "Epoch 00010: val_loss did not improve\n"
     ]
    },
    {
     "data": {
      "text/plain": [
       "<keras.callbacks.History at 0x1e3d959f978>"
      ]
     },
     "execution_count": 6,
     "metadata": {},
     "output_type": "execute_result"
    }
   ],
   "source": [
    "classification_model.compile(optimizer = Adam(lr=0.01), \n",
    "                             loss = \"categorical_crossentropy\", \n",
    "                             metrics = [\"accuracy\"])\n",
    "\n",
    "input_train = x_train.reshape(x_train.shape[0], window_size, n_features, 1)\n",
    "input_test = x_test.reshape(x_test.shape[0], window_size, n_features, 1)\n",
    "\n",
    "checkpointer = ModelCheckpoint(filepath='./data/weights_dc.hdf5', verbose=1, save_best_only=True)\n",
    "\n",
    "classification_model.fit(x = input_train, \n",
    "                         y = y_train, \n",
    "                         epochs = 10, \n",
    "                         batch_size = 300,\n",
    "                         verbose = 1,\n",
    "                         validation_data=(input_test, y_test),\n",
    "                         callbacks=[checkpointer])"
   ]
  },
  {
   "cell_type": "code",
   "execution_count": 7,
   "metadata": {},
   "outputs": [
    {
     "name": "stdout",
     "output_type": "stream",
     "text": [
      "             precision    recall  f1-score   support\n",
      "\n",
      "          0       0.90      0.82      0.86       680\n",
      "          1       0.88      0.95      0.92      1314\n",
      "          2       0.86      0.79      0.82       782\n",
      "          3       0.98      0.99      0.99       911\n",
      "          4       0.91      0.99      0.95       147\n",
      "\n",
      "avg / total       0.91      0.91      0.90      3834\n",
      "\n"
     ]
    }
   ],
   "source": [
    "y_pred = classification_model.predict(input_test)\n",
    "y_pred = np.argmax(y_pred, 1)\n",
    "\n",
    "print(classification_report(y_test, to_categorical(y_pred)))"
   ]
  },
  {
   "cell_type": "code",
   "execution_count": 8,
   "metadata": {},
   "outputs": [
    {
     "name": "stdout",
     "output_type": "stream",
     "text": [
      "             precision    recall  f1-score   support\n",
      "\n",
      "          0       0.88      0.82      0.85       680\n",
      "          1       0.88      0.94      0.91      1314\n",
      "          2       0.84      0.76      0.80       782\n",
      "          3       0.98      1.00      0.99       911\n",
      "          4       0.91      0.92      0.92       147\n",
      "\n",
      "avg / total       0.90      0.90      0.90      3834\n",
      "\n"
     ]
    }
   ],
   "source": [
    "classification_model_best = load_model('./data/weights_dc.hdf5')\n",
    "\n",
    "y_pred = classification_model_best.predict(input_test)\n",
    "y_pred = np.argmax(y_pred, 1)\n",
    "\n",
    "print(classification_report(y_test, to_categorical(y_pred)))"
   ]
  },
  {
   "cell_type": "code",
   "execution_count": null,
   "metadata": {},
   "outputs": [],
   "source": []
  }
 ],
 "metadata": {
  "kernelspec": {
   "display_name": "Python 3",
   "language": "python",
   "name": "python3"
  },
  "language_info": {
   "codemirror_mode": {
    "name": "ipython",
    "version": 3
   },
   "file_extension": ".py",
   "mimetype": "text/x-python",
   "name": "python",
   "nbconvert_exporter": "python",
   "pygments_lexer": "ipython3",
   "version": "3.6.4"
  }
 },
 "nbformat": 4,
 "nbformat_minor": 2
}
