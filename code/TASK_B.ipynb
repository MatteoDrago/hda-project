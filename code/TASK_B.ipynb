{
 "cells": [
  {
   "cell_type": "markdown",
   "metadata": {},
   "source": [
    "# HDA - Project 3: TASK B1\n",
    "## Activity detection\n",
    "This first cell contains the parameters that can be tuned for code execution:\n",
    "- subject: select the subject on which to test the model, between [1,4];\n",
    "- folder: directory name where '.mat' files are stored;\n",
    "- label_col: column of features to be selected to perform activity detection, between [0,6];\n",
    "- window_size: parameter that sets the length of temporal windows on which to perform the convolution;\n",
    "- stride: step length to chose the next window."
   ]
  },
  {
   "cell_type": "code",
   "execution_count": 1,
   "metadata": {},
   "outputs": [],
   "source": [
    "subject = 2\n",
    "folder = \"./data/\"\n",
    "label_col = 6     # default for task B1\n",
    "window_size = 15\n",
    "stride = 15"
   ]
  },
  {
   "cell_type": "code",
   "execution_count": 2,
   "metadata": {},
   "outputs": [
    {
     "name": "stderr",
     "output_type": "stream",
     "text": [
      "Using TensorFlow backend.\n"
     ]
    }
   ],
   "source": [
    "import utils\n",
    "import numpy as np\n",
    "from sklearn.preprocessing import OneHotEncoder, StandardScaler\n",
    "import matplotlib.pyplot as plt\n",
    "from keras.optimizers import Adam"
   ]
  },
  {
   "cell_type": "markdown",
   "metadata": {},
   "source": [
    "Creation of training set and test set"
   ]
  },
  {
   "cell_type": "code",
   "execution_count": 3,
   "metadata": {},
   "outputs": [
    {
     "name": "stdout",
     "output_type": "stream",
     "text": [
      "\n",
      "Session shapes:\n",
      "ADL1:   (38733, 110)\n",
      "ADL2:   (26824, 110)\n",
      "ADL3:   (31242, 110)\n",
      "ADL4:   (29723, 110)\n",
      "ADL5:   (27997, 110)\n",
      "Drill:  (49009, 110)\n",
      "\n",
      "Training samples:  145808 \n",
      "Test samples:       57720 \n",
      "Features:             110\n",
      "\n",
      "Classes in training set:  2 \n",
      "Classes in test set:      2\n"
     ]
    }
   ],
   "source": [
    "# import all sessions for a subject\n",
    "(data1, data2, data3, data4, data5, data6) = utils.loadData(subject, folder=folder)\n",
    "\n",
    "# create training set and test set\n",
    "X_train = np.concatenate((data1['features_interp'],\\\n",
    "                          data2['features_interp'],\\\n",
    "                          data3['features_interp'],\\\n",
    "                          data6['features_interp']), axis=0)\n",
    "\n",
    "Y_train = np.concatenate((data1['labels_cut'][:,label_col],\\\n",
    "                          data2['labels_cut'][:,label_col],\\\n",
    "                          data3['labels_cut'][:,label_col],\\\n",
    "                          data6['labels_cut'][:,label_col]), axis=0)\n",
    "\n",
    "X_test = np.concatenate((data4['features_interp'],\\\n",
    "                         data5['features_interp']), axis=0)\n",
    "\n",
    "Y_test = np.concatenate((data4['labels_cut'][:,label_col],\\\n",
    "                         data5['labels_cut'][:,label_col]))\n",
    "\n",
    "features = X_test.shape[1]\n",
    "print(\"\\nTraining samples: \", X_train.shape[0],\\\n",
    "      \"\\nTest samples:      \", X_test.shape[0],\\\n",
    "      \"\\nFeatures:            \", features)\n",
    "\n",
    "# decision to overcome the problem of entire missing columns\n",
    "X_train = np.nan_to_num(X_train)\n",
    "X_test = np.nan_to_num(X_test)\n",
    "\n",
    "# features normalization\n",
    "scaler = StandardScaler().fit(X_train)\n",
    "X_train =scaler.transform(X_train)\n",
    "X_test = scaler.transform(X_test)\n",
    "\n",
    "# make the problem binary\n",
    "Y_train[Y_train != 0] = 1\n",
    "Y_test[Y_test != 0] = 1\n",
    "\n",
    "# switch to one hot encoded labels\n",
    "onehot_encoder = OneHotEncoder(sparse=False)\n",
    "Y_train_oh = onehot_encoder.fit_transform(Y_train.reshape(-1, 1))\n",
    "Y_test_oh = onehot_encoder.fit_transform(Y_test.reshape(-1, 1))\n",
    "print(\"\\nClasses in training set: \", Y_train_oh.shape[1],\\\n",
    "      \"\\nClasses in test set:     \", Y_test_oh.shape[1])"
   ]
  },
  {
   "cell_type": "markdown",
   "metadata": {},
   "source": [
    "Preparation of data in a input-suitable form"
   ]
  },
  {
   "cell_type": "code",
   "execution_count": 4,
   "metadata": {},
   "outputs": [
    {
     "name": "stdout",
     "output_type": "stream",
     "text": [
      "\n",
      "Features have shape:  (9719, 15, 110) \n",
      "Labels have shape:    (9719, 2) \n",
      "Fraction of labels:   [0.6275337 0.3724663]\n",
      "\n",
      "Features have shape:  (3847, 15, 110) \n",
      "Labels have shape:    (3847, 2) \n",
      "Fraction of labels:   [0.84169483 0.15830517]\n"
     ]
    }
   ],
   "source": [
    "X_train_s, Y_train_s = utils.prepareData(X_train, Y_train_oh, window_size, stride, shuffle=True)\n",
    "X_test_s, Y_test_s = utils.prepareData(X_test, Y_test_oh, window_size, stride, shuffle=False)"
   ]
  },
  {
   "cell_type": "code",
   "execution_count": 5,
   "metadata": {},
   "outputs": [
    {
     "data": {
      "text/plain": [
       "<Figure size 2880x1440 with 0 Axes>"
      ]
     },
     "execution_count": 5,
     "metadata": {},
     "output_type": "execute_result"
    },
    {
     "data": {
      "image/png": "[encoded data removed]",
      "text/plain": [
       "<Figure size 432x288 with 1 Axes>"
      ]
     },
     "metadata": {},
     "output_type": "display_data"
    },
    {
     "data": {
      "text/plain": [
       "<Figure size 2880x1440 with 0 Axes>"
      ]
     },
     "metadata": {},
     "output_type": "display_data"
    }
   ],
   "source": [
    "plt.plot(Y_train_s[8980:9000, :])\n",
    "\n",
    "plt.figure(figsize=(40,20))"
   ]
  },
  {
   "cell_type": "code",
   "execution_count": 6,
   "metadata": {},
   "outputs": [],
   "source": [
    "classes = 2"
   ]
  },
  {
   "cell_type": "code",
   "execution_count": 7,
   "metadata": {},
   "outputs": [
    {
     "name": "stdout",
     "output_type": "stream",
     "text": [
      "_________________________________________________________________\n",
      "Layer (type)                 Output Shape              Param #   \n",
      "=================================================================\n",
      "conv1d_1 (Conv1D)            (None, 15, 18)            9918      \n",
      "_________________________________________________________________\n",
      "batch_normalization_1 (Batch (None, 15, 18)            72        \n",
      "_________________________________________________________________\n",
      "activation_1 (Activation)    (None, 15, 18)            0         \n",
      "_________________________________________________________________\n",
      "max_pooling1d_1 (MaxPooling1 (None, 8, 18)             0         \n",
      "_________________________________________________________________\n",
      "conv1d_2 (Conv1D)            (None, 8, 36)             4572      \n",
      "_________________________________________________________________\n",
      "batch_normalization_2 (Batch (None, 8, 36)             144       \n",
      "_________________________________________________________________\n",
      "activation_2 (Activation)    (None, 8, 36)             0         \n",
      "_________________________________________________________________\n",
      "max_pooling1d_2 (MaxPooling1 (None, 4, 36)             0         \n",
      "_________________________________________________________________\n",
      "dropout_1 (Dropout)          (None, 4, 36)             0         \n",
      "_________________________________________________________________\n",
      "conv1d_3 (Conv1D)            (None, 4, 72)             18216     \n",
      "_________________________________________________________________\n",
      "batch_normalization_3 (Batch (None, 4, 72)             288       \n",
      "_________________________________________________________________\n",
      "activation_3 (Activation)    (None, 4, 72)             0         \n",
      "_________________________________________________________________\n",
      "max_pooling1d_3 (MaxPooling1 (None, 2, 72)             0         \n",
      "_________________________________________________________________\n",
      "flatten_1 (Flatten)          (None, 144)               0         \n",
      "_________________________________________________________________\n",
      "dense_1 (Dense)              (None, 64)                9280      \n",
      "_________________________________________________________________\n",
      "activation_4 (Activation)    (None, 64)                0         \n",
      "_________________________________________________________________\n",
      "dropout_2 (Dropout)          (None, 64)                0         \n",
      "_________________________________________________________________\n",
      "dense_2 (Dense)              (None, 2)                 130       \n",
      "_________________________________________________________________\n",
      "activation_5 (Activation)    (None, 2)                 0         \n",
      "=================================================================\n",
      "Total params: 42,620\n",
      "Trainable params: 42,368\n",
      "Non-trainable params: 252\n",
      "_________________________________________________________________\n"
     ]
    }
   ],
   "source": [
    "model_unidim = utils.Model1D((window_size, features), classes)"
   ]
  },
  {
   "cell_type": "code",
   "execution_count": 8,
   "metadata": {},
   "outputs": [
    {
     "name": "stdout",
     "output_type": "stream",
     "text": [
      "Train on 9719 samples, validate on 3847 samples\n",
      "Epoch 1/50\n",
      "9719/9719 [==============================] - 5s 475us/step - loss: 0.7744 - acc: 0.6959 - val_loss: 0.3446 - val_acc: 0.8388\n",
      "Epoch 2/50\n",
      "9719/9719 [==============================] - 1s 109us/step - loss: 0.5498 - acc: 0.7345 - val_loss: 0.3920 - val_acc: 0.8362\n",
      "Epoch 3/50\n",
      "9719/9719 [==============================] - 1s 111us/step - loss: 0.5401 - acc: 0.7395 - val_loss: 0.3776 - val_acc: 0.8399\n",
      "Epoch 4/50\n",
      "9719/9719 [==============================] - 1s 113us/step - loss: 0.5303 - acc: 0.7445 - val_loss: 0.3705 - val_acc: 0.8339\n",
      "Epoch 5/50\n",
      "9719/9719 [==============================] - 1s 111us/step - loss: 0.5154 - acc: 0.7553 - val_loss: 0.3975 - val_acc: 0.8446\n",
      "Epoch 6/50\n",
      "9719/9719 [==============================] - 1s 111us/step - loss: 0.5003 - acc: 0.7673 - val_loss: 0.3805 - val_acc: 0.8420\n",
      "Epoch 7/50\n",
      "9719/9719 [==============================] - 1s 112us/step - loss: 0.4956 - acc: 0.7760 - val_loss: 0.3386 - val_acc: 0.8547\n",
      "Epoch 8/50\n",
      "9719/9719 [==============================] - 1s 110us/step - loss: 0.4843 - acc: 0.7828 - val_loss: 0.3853 - val_acc: 0.8464\n",
      "Epoch 9/50\n",
      "9719/9719 [==============================] - 1s 111us/step - loss: 0.4859 - acc: 0.7846 - val_loss: 0.3778 - val_acc: 0.8357\n",
      "Epoch 10/50\n",
      "9719/9719 [==============================] - 1s 110us/step - loss: 0.4728 - acc: 0.7955 - val_loss: 0.3888 - val_acc: 0.8464\n",
      "Epoch 11/50\n",
      "9719/9719 [==============================] - 1s 111us/step - loss: 0.4631 - acc: 0.8019 - val_loss: 0.3839 - val_acc: 0.8485\n",
      "Epoch 12/50\n",
      "9719/9719 [==============================] - 1s 111us/step - loss: 0.4490 - acc: 0.8082 - val_loss: 0.3611 - val_acc: 0.8539\n",
      "Epoch 13/50\n",
      "9719/9719 [==============================] - 1s 112us/step - loss: 0.4582 - acc: 0.8027 - val_loss: 0.3219 - val_acc: 0.8591\n",
      "Epoch 14/50\n",
      "9719/9719 [==============================] - 1s 115us/step - loss: 0.4467 - acc: 0.8079 - val_loss: 0.3502 - val_acc: 0.8583\n",
      "Epoch 15/50\n",
      "9719/9719 [==============================] - 1s 110us/step - loss: 0.4442 - acc: 0.8034 - val_loss: 0.4423 - val_acc: 0.7907\n",
      "Epoch 16/50\n",
      "9719/9719 [==============================] - 1s 112us/step - loss: 0.4350 - acc: 0.8140 - val_loss: 0.3071 - val_acc: 0.8617\n",
      "Epoch 17/50\n",
      "9719/9719 [==============================] - 1s 111us/step - loss: 0.4226 - acc: 0.8185 - val_loss: 0.3942 - val_acc: 0.8349\n",
      "Epoch 18/50\n",
      "9719/9719 [==============================] - 1s 113us/step - loss: 0.4258 - acc: 0.8160 - val_loss: 0.3659 - val_acc: 0.8589\n",
      "Epoch 19/50\n",
      "9719/9719 [==============================] - 1s 111us/step - loss: 0.4324 - acc: 0.8148 - val_loss: 0.5080 - val_acc: 0.7013\n",
      "Epoch 20/50\n",
      "9719/9719 [==============================] - 1s 115us/step - loss: 0.4230 - acc: 0.8151 - val_loss: 0.3607 - val_acc: 0.8383\n",
      "Epoch 21/50\n",
      "9719/9719 [==============================] - 1s 114us/step - loss: 0.4126 - acc: 0.8250 - val_loss: 0.3820 - val_acc: 0.8412\n",
      "Epoch 22/50\n",
      "9719/9719 [==============================] - 1s 112us/step - loss: 0.4149 - acc: 0.8236 - val_loss: 0.3317 - val_acc: 0.8604\n",
      "Epoch 23/50\n",
      "9719/9719 [==============================] - 1s 110us/step - loss: 0.4040 - acc: 0.8247 - val_loss: 0.3979 - val_acc: 0.8217\n",
      "Epoch 24/50\n",
      "9719/9719 [==============================] - 1s 110us/step - loss: 0.4029 - acc: 0.8275 - val_loss: 0.3518 - val_acc: 0.8591\n",
      "Epoch 25/50\n",
      "9719/9719 [==============================] - 1s 110us/step - loss: 0.4019 - acc: 0.8278 - val_loss: 0.4000 - val_acc: 0.8336\n",
      "Epoch 26/50\n",
      "9719/9719 [==============================] - 1s 111us/step - loss: 0.4010 - acc: 0.8294 - val_loss: 0.3102 - val_acc: 0.8653\n",
      "Epoch 27/50\n",
      "9719/9719 [==============================] - 1s 112us/step - loss: 0.3931 - acc: 0.8303 - val_loss: 0.3581 - val_acc: 0.8425\n",
      "Epoch 28/50\n",
      "9719/9719 [==============================] - 1s 111us/step - loss: 0.3867 - acc: 0.8355 - val_loss: 0.3671 - val_acc: 0.8347\n",
      "Epoch 29/50\n",
      "9719/9719 [==============================] - 1s 113us/step - loss: 0.3859 - acc: 0.8321 - val_loss: 0.3585 - val_acc: 0.8308\n",
      "Epoch 30/50\n",
      "9719/9719 [==============================] - 1s 112us/step - loss: 0.3824 - acc: 0.8334 - val_loss: 0.3158 - val_acc: 0.8568\n",
      "Epoch 31/50\n",
      "9719/9719 [==============================] - 1s 110us/step - loss: 0.3816 - acc: 0.8342 - val_loss: 0.3906 - val_acc: 0.8381\n",
      "Epoch 32/50\n",
      "9719/9719 [==============================] - 1s 111us/step - loss: 0.3801 - acc: 0.8438 - val_loss: 0.3075 - val_acc: 0.8609\n",
      "Epoch 33/50\n",
      "9719/9719 [==============================] - 1s 111us/step - loss: 0.3681 - acc: 0.8446 - val_loss: 0.3114 - val_acc: 0.8659\n",
      "Epoch 34/50\n",
      "9719/9719 [==============================] - 1s 111us/step - loss: 0.3668 - acc: 0.8446 - val_loss: 0.3504 - val_acc: 0.8472\n",
      "Epoch 35/50\n",
      "9719/9719 [==============================] - 1s 110us/step - loss: 0.3683 - acc: 0.8440 - val_loss: 0.3460 - val_acc: 0.8383\n",
      "Epoch 36/50\n",
      "9719/9719 [==============================] - 1s 111us/step - loss: 0.3647 - acc: 0.8448 - val_loss: 0.3162 - val_acc: 0.8583\n",
      "Epoch 37/50\n",
      "9719/9719 [==============================] - 1s 111us/step - loss: 0.3635 - acc: 0.8491 - val_loss: 0.3517 - val_acc: 0.8472\n",
      "Epoch 38/50\n",
      "9719/9719 [==============================] - 1s 109us/step - loss: 0.3632 - acc: 0.8472 - val_loss: 0.3682 - val_acc: 0.8477\n",
      "Epoch 39/50\n",
      "9719/9719 [==============================] - 1s 112us/step - loss: 0.3629 - acc: 0.8456 - val_loss: 0.3236 - val_acc: 0.8518\n",
      "Epoch 40/50\n",
      "9719/9719 [==============================] - 1s 110us/step - loss: 0.3524 - acc: 0.8534 - val_loss: 0.3544 - val_acc: 0.8430\n",
      "Epoch 41/50\n",
      "9719/9719 [==============================] - 1s 110us/step - loss: 0.3513 - acc: 0.8507 - val_loss: 0.3856 - val_acc: 0.8157\n",
      "Epoch 42/50\n",
      "9719/9719 [==============================] - 1s 110us/step - loss: 0.3549 - acc: 0.8534 - val_loss: 0.3467 - val_acc: 0.8581\n",
      "Epoch 43/50\n",
      "9719/9719 [==============================] - 1s 110us/step - loss: 0.3427 - acc: 0.8591 - val_loss: 0.3429 - val_acc: 0.8482\n",
      "Epoch 44/50\n",
      "9719/9719 [==============================] - 1s 111us/step - loss: 0.3401 - acc: 0.8598 - val_loss: 0.3254 - val_acc: 0.8625\n",
      "Epoch 45/50\n",
      "9719/9719 [==============================] - 1s 112us/step - loss: 0.3435 - acc: 0.8591 - val_loss: 0.3207 - val_acc: 0.8622\n",
      "Epoch 46/50\n",
      "9719/9719 [==============================] - 1s 112us/step - loss: 0.3417 - acc: 0.8558 - val_loss: 0.3556 - val_acc: 0.8435\n",
      "Epoch 47/50\n",
      "9719/9719 [==============================] - 1s 111us/step - loss: 0.3376 - acc: 0.8589 - val_loss: 0.4270 - val_acc: 0.8178\n",
      "Epoch 48/50\n",
      "9719/9719 [==============================] - 1s 110us/step - loss: 0.3301 - acc: 0.8625 - val_loss: 0.3322 - val_acc: 0.8607\n",
      "Epoch 49/50\n",
      "9719/9719 [==============================] - 1s 109us/step - loss: 0.3247 - acc: 0.8654 - val_loss: 0.3269 - val_acc: 0.8516\n",
      "Epoch 50/50\n",
      "9719/9719 [==============================] - 1s 109us/step - loss: 0.3332 - acc: 0.8638 - val_loss: 0.3579 - val_acc: 0.8516\n"
     ]
    },
    {
     "data": {
      "text/plain": [
       "<keras.callbacks.History at 0x29ec7caa400>"
      ]
     },
     "execution_count": 8,
     "metadata": {},
     "output_type": "execute_result"
    }
   ],
   "source": [
    "opt = Adam(lr=0.01)\n",
    "model_unidim.compile(optimizer = opt, loss = \"categorical_crossentropy\", metrics = [\"accuracy\"])\n",
    "\n",
    "model_unidim.fit(x = X_train_s, y = Y_train_s, epochs = 50, batch_size = 128, validation_data=(X_test_s, Y_test_s))"
   ]
  },
  {
   "cell_type": "code",
   "execution_count": 9,
   "metadata": {},
   "outputs": [],
   "source": [
    "# predict labels\n",
    "Y_pred_s = model_unidim.predict(X_test_s)"
   ]
  },
  {
   "cell_type": "code",
   "execution_count": 10,
   "metadata": {},
   "outputs": [
    {
     "name": "stdout",
     "output_type": "stream",
     "text": [
      "F1-measure:  0.8570194377782149\n",
      "AUC w.r. to each class:  {0: 0.8599411138867167, 1: 0.8599411138867168}\n"
     ]
    },
    {
     "data": {
      "image/png": "[encoded data removed]",
      "text/plain": [
       "<Figure size 432x288 with 2 Axes>"
      ]
     },
     "metadata": {},
     "output_type": "display_data"
    }
   ],
   "source": [
    "# print results\n",
    "#reverse the one-ot encoder procedure\n",
    "Y_test_hard = np.argmax(Y_test_s, axis=1)\n",
    "Y_pred_hard = np.argmax(Y_pred_s, axis=1)\n",
    "\n",
    "print(\"F1-measure: \", utils.f1_score(Y_test_hard, Y_pred_hard, average='weighted'))\n",
    "print(\"AUC w.r. to each class: \", utils.AUC(Y_test_s, Y_pred_s, classes))\n",
    "\n",
    "# Compute and plot confusion matrix\n",
    "cnf_matrix = utils.confusion_matrix(Y_test_hard, Y_pred_hard)\n",
    "np.set_printoptions(precision=2)\n",
    "\n",
    "plt.figure()\n",
    "utils.plot_confusion_matrix(cnf_matrix, classes=[1,2],\n",
    "                      title='Confusion matrix, without normalization')"
   ]
  },
  {
   "cell_type": "code",
   "execution_count": null,
   "metadata": {},
   "outputs": [],
   "source": []
  }
 ],
 "metadata": {
  "kernelspec": {
   "display_name": "Python 3",
   "language": "python",
   "name": "python3"
  },
  "language_info": {
   "codemirror_mode": {
    "name": "ipython",
    "version": 3
   },
   "file_extension": ".py",
   "mimetype": "text/x-python",
   "name": "python",
   "nbconvert_exporter": "python",
   "pygments_lexer": "ipython3",
   "version": "3.6.4"
  }
 },
 "nbformat": 4,
 "nbformat_minor": 2
}
