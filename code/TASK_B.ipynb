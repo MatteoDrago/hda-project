{
 "cells": [
  {
   "cell_type": "markdown",
   "metadata": {},
   "source": [
    "# HDA - Project 3: TASK B1\n",
    "## Activity detection\n",
    "This first cell contains the parameters that can be tuned for code execution:\n",
    "- subject: select the subject on which to test the model, between [1,4];\n",
    "- folder: directory name where '.mat' files are stored;\n",
    "- label_col: column of features to be selected to perform activity detection, between [0,6];\n",
    "- window_size: parameter that sets the length of temporal windows on which to perform the convolution;\n",
    "- stride: step length to chose the next window."
   ]
  },
  {
   "cell_type": "code",
   "execution_count": 1,
   "metadata": {},
   "outputs": [],
   "source": [
    "subject = 2\n",
    "folder = \"./data/\"\n",
    "label_col = 6     # default for task B1\n",
    "window_size = 15\n",
    "stride = 15"
   ]
  },
  {
   "cell_type": "code",
   "execution_count": 2,
   "metadata": {},
   "outputs": [
    {
     "name": "stderr",
     "output_type": "stream",
     "text": [
      "Using TensorFlow backend.\n"
     ]
    }
   ],
   "source": [
    "import utils\n",
    "import numpy as np\n",
    "from sklearn.preprocessing import OneHotEncoder, StandardScaler\n",
    "import matplotlib.pyplot as plt\n",
    "from keras.optimizers import Adam"
   ]
  },
  {
   "cell_type": "markdown",
   "metadata": {},
   "source": [
    "Creation of training set and test set"
   ]
  },
  {
   "cell_type": "code",
   "execution_count": 3,
   "metadata": {},
   "outputs": [
    {
     "name": "stdout",
     "output_type": "stream",
     "text": [
      "\n",
      "Session shapes:\n",
      "ADL1:   (38733, 110)\n",
      "ADL2:   (26824, 110)\n",
      "ADL3:   (31242, 110)\n",
      "ADL4:   (29723, 110)\n",
      "ADL5:   (27997, 110)\n",
      "Drill:  (49009, 110)\n",
      "\n",
      "Training samples:  145808 \n",
      "Test samples:       57720 \n",
      "Features:             110\n",
      "\n",
      "Classes in training set:  2 \n",
      "Classes in test set:      2\n"
     ]
    }
   ],
   "source": [
    "# import all sessions for a subject\n",
    "(data1, data2, data3, data4, data5, data6) = utils.loadData(subject, folder=folder)\n",
    "\n",
    "# create training set and test set\n",
    "X_train = np.concatenate((data1['features_interp'],\\\n",
    "                          data2['features_interp'],\\\n",
    "                          data3['features_interp'],\\\n",
    "                          data6['features_interp']), axis=0)\n",
    "\n",
    "Y_train = np.concatenate((data1['labels_cut'][:,label_col],\\\n",
    "                          data2['labels_cut'][:,label_col],\\\n",
    "                          data3['labels_cut'][:,label_col],\\\n",
    "                          data6['labels_cut'][:,label_col]), axis=0)\n",
    "\n",
    "X_test = np.concatenate((data4['features_interp'],\\\n",
    "                         data5['features_interp']), axis=0)\n",
    "\n",
    "Y_test = np.concatenate((data4['labels_cut'][:,label_col],\\\n",
    "                         data5['labels_cut'][:,label_col]))\n",
    "\n",
    "features = X_test.shape[1]\n",
    "print(\"\\nTraining samples: \", X_train.shape[0],\\\n",
    "      \"\\nTest samples:      \", X_test.shape[0],\\\n",
    "      \"\\nFeatures:            \", features)\n",
    "\n",
    "# decision to overcome the problem of entire missing columns\n",
    "X_train = np.nan_to_num(X_train)\n",
    "X_test = np.nan_to_num(X_test)\n",
    "\n",
    "# features normalization\n",
    "scaler = StandardScaler().fit(X_train)\n",
    "X_train =scaler.transform(X_train)\n",
    "X_test = scaler.transform(X_test)\n",
    "\n",
    "# make the problem binary\n",
    "Y_train[Y_train != 0] = 1\n",
    "Y_test[Y_test != 0] = 1\n",
    "\n",
    "# switch to one hot encoded labels\n",
    "onehot_encoder = OneHotEncoder(sparse=False)\n",
    "Y_train_oh = onehot_encoder.fit_transform(Y_train.reshape(-1, 1))\n",
    "Y_test_oh = onehot_encoder.fit_transform(Y_test.reshape(-1, 1))\n",
    "print(\"\\nClasses in training set: \", Y_train_oh.shape[1],\\\n",
    "      \"\\nClasses in test set:     \", Y_test_oh.shape[1])"
   ]
  },
  {
   "cell_type": "markdown",
   "metadata": {},
   "source": [
    "Preparation of data in a input-suitable form"
   ]
  },
  {
   "cell_type": "code",
   "execution_count": 4,
   "metadata": {},
   "outputs": [
    {
     "name": "stdout",
     "output_type": "stream",
     "text": [
      "\n",
      "Features have shape:  (9719, 15, 110) \n",
      "Labels have shape:    (9719, 2) \n",
      "Fraction of labels:   [0.6275337 0.3724663]\n",
      "\n",
      "Features have shape:  (3847, 15, 110) \n",
      "Labels have shape:    (3847, 2) \n",
      "Fraction of labels:   [0.84169483 0.15830517]\n"
     ]
    }
   ],
   "source": [
    "X_train_s, Y_train_s = utils.prepareData(X_train, Y_train_oh, window_size, stride, shuffle=True)\n",
    "X_test_s, Y_test_s = utils.prepareData(X_test, Y_test_oh, window_size, stride, shuffle=False)"
   ]
  },
  {
   "cell_type": "code",
   "execution_count": 5,
   "metadata": {},
   "outputs": [
    {
     "data": {
      "text/plain": [
       "<Figure size 2880x1440 with 0 Axes>"
      ]
     },
     "execution_count": 5,
     "metadata": {},
     "output_type": "execute_result"
    },
    {
     "data": {
      "image/png": "[encoded data removed]",
      "text/plain": [
       "<Figure size 432x288 with 1 Axes>"
      ]
     },
     "metadata": {},
     "output_type": "display_data"
    },
    {
     "data": {
      "text/plain": [
       "<Figure size 2880x1440 with 0 Axes>"
      ]
     },
     "metadata": {},
     "output_type": "display_data"
    }
   ],
   "source": [
    "plt.plot(Y_train_s[8980:9000, :])\n",
    "\n",
    "plt.figure(figsize=(40,20))"
   ]
  },
  {
   "cell_type": "code",
   "execution_count": 6,
   "metadata": {},
   "outputs": [],
   "source": [
    "classes = np.max((Y_train_oh.shape[1], Y_test_oh.shape[1]))"
   ]
  },
  {
   "cell_type": "code",
   "execution_count": 7,
   "metadata": {},
   "outputs": [
    {
     "name": "stdout",
     "output_type": "stream",
     "text": [
      "_________________________________________________________________\n",
      "Layer (type)                 Output Shape              Param #   \n",
      "=================================================================\n",
      "conv1d_1 (Conv1D)            (None, 15, 18)            9918      \n",
      "_________________________________________________________________\n",
      "batch_normalization_1 (Batch (None, 15, 18)            72        \n",
      "_________________________________________________________________\n",
      "leaky_re_lu_1 (LeakyReLU)    (None, 15, 18)            0         \n",
      "_________________________________________________________________\n",
      "max_pooling1d_1 (MaxPooling1 (None, 8, 18)             0         \n",
      "_________________________________________________________________\n",
      "conv1d_2 (Conv1D)            (None, 8, 36)             4572      \n",
      "_________________________________________________________________\n",
      "batch_normalization_2 (Batch (None, 8, 36)             144       \n",
      "_________________________________________________________________\n",
      "leaky_re_lu_2 (LeakyReLU)    (None, 8, 36)             0         \n",
      "_________________________________________________________________\n",
      "max_pooling1d_2 (MaxPooling1 (None, 4, 36)             0         \n",
      "_________________________________________________________________\n",
      "dropout_1 (Dropout)          (None, 4, 36)             0         \n",
      "_________________________________________________________________\n",
      "conv1d_3 (Conv1D)            (None, 4, 72)             18216     \n",
      "_________________________________________________________________\n",
      "batch_normalization_3 (Batch (None, 4, 72)             288       \n",
      "_________________________________________________________________\n",
      "leaky_re_lu_3 (LeakyReLU)    (None, 4, 72)             0         \n",
      "_________________________________________________________________\n",
      "max_pooling1d_3 (MaxPooling1 (None, 2, 72)             0         \n",
      "_________________________________________________________________\n",
      "flatten_1 (Flatten)          (None, 144)               0         \n",
      "_________________________________________________________________\n",
      "dense_1 (Dense)              (None, 64)                9280      \n",
      "_________________________________________________________________\n",
      "leaky_re_lu_4 (LeakyReLU)    (None, 64)                0         \n",
      "_________________________________________________________________\n",
      "dropout_2 (Dropout)          (None, 64)                0         \n",
      "_________________________________________________________________\n",
      "dense_2 (Dense)              (None, 2)                 130       \n",
      "_________________________________________________________________\n",
      "activation_1 (Activation)    (None, 2)                 0         \n",
      "=================================================================\n",
      "Total params: 42,620\n",
      "Trainable params: 42,368\n",
      "Non-trainable params: 252\n",
      "_________________________________________________________________\n"
     ]
    }
   ],
   "source": [
    "model_unidim = utils.Model1D((window_size, features), classes)"
   ]
  },
  {
   "cell_type": "code",
   "execution_count": 8,
   "metadata": {},
   "outputs": [
    {
     "name": "stdout",
     "output_type": "stream",
     "text": [
      "Train on 9719 samples, validate on 3847 samples\n",
      "Epoch 1/50\n",
      "9719/9719 [==============================] - 5s 484us/step - loss: 0.8160 - acc: 0.7038 - val_loss: 0.4188 - val_acc: 0.8399\n",
      "Epoch 2/50\n",
      "9719/9719 [==============================] - 1s 115us/step - loss: 0.5449 - acc: 0.7389 - val_loss: 0.4804 - val_acc: 0.8199\n",
      "Epoch 3/50\n",
      "9719/9719 [==============================] - 1s 118us/step - loss: 0.5207 - acc: 0.7601 - val_loss: 0.4370 - val_acc: 0.8396\n",
      "Epoch 4/50\n",
      "9719/9719 [==============================] - 1s 118us/step - loss: 0.5179 - acc: 0.7639 - val_loss: 0.3904 - val_acc: 0.8492\n",
      "Epoch 5/50\n",
      "9719/9719 [==============================] - 1s 119us/step - loss: 0.5032 - acc: 0.7691 - val_loss: 0.4127 - val_acc: 0.8417\n",
      "Epoch 6/50\n",
      "9719/9719 [==============================] - 1s 118us/step - loss: 0.4903 - acc: 0.7766 - val_loss: 0.4192 - val_acc: 0.8407\n",
      "Epoch 7/50\n",
      "9719/9719 [==============================] - 1s 114us/step - loss: 0.4854 - acc: 0.7798 - val_loss: 0.4362 - val_acc: 0.8261\n",
      "Epoch 8/50\n",
      "9719/9719 [==============================] - 1s 117us/step - loss: 0.4739 - acc: 0.7903 - val_loss: 0.4119 - val_acc: 0.8404\n",
      "Epoch 9/50\n",
      "9719/9719 [==============================] - 1s 117us/step - loss: 0.4800 - acc: 0.7844 - val_loss: 0.4125 - val_acc: 0.8344\n",
      "Epoch 10/50\n",
      "9719/9719 [==============================] - 1s 117us/step - loss: 0.4695 - acc: 0.7928 - val_loss: 0.3619 - val_acc: 0.8586\n",
      "Epoch 11/50\n",
      "9719/9719 [==============================] - 1s 118us/step - loss: 0.4650 - acc: 0.7990 - val_loss: 0.4044 - val_acc: 0.8448\n",
      "Epoch 12/50\n",
      "9719/9719 [==============================] - 1s 115us/step - loss: 0.4605 - acc: 0.8002 - val_loss: 0.4012 - val_acc: 0.8386\n",
      "Epoch 13/50\n",
      "9719/9719 [==============================] - 1s 119us/step - loss: 0.4588 - acc: 0.8045 - val_loss: 0.4178 - val_acc: 0.8282\n",
      "Epoch 14/50\n",
      "9719/9719 [==============================] - 1s 120us/step - loss: 0.4551 - acc: 0.8016 - val_loss: 0.4977 - val_acc: 0.8212\n",
      "Epoch 15/50\n",
      "9719/9719 [==============================] - 1s 118us/step - loss: 0.4534 - acc: 0.8005 - val_loss: 0.3625 - val_acc: 0.8469\n",
      "Epoch 16/50\n",
      "9719/9719 [==============================] - 1s 119us/step - loss: 0.4454 - acc: 0.8043 - val_loss: 0.3715 - val_acc: 0.8495\n",
      "Epoch 17/50\n",
      "9719/9719 [==============================] - 1s 120us/step - loss: 0.4445 - acc: 0.8057 - val_loss: 0.3756 - val_acc: 0.8365\n",
      "Epoch 18/50\n",
      "9719/9719 [==============================] - 1s 119us/step - loss: 0.4359 - acc: 0.8122 - val_loss: 0.4094 - val_acc: 0.8347\n",
      "Epoch 19/50\n",
      "9719/9719 [==============================] - 1s 119us/step - loss: 0.4417 - acc: 0.8057 - val_loss: 0.3547 - val_acc: 0.8472\n",
      "Epoch 20/50\n",
      "9719/9719 [==============================] - 1s 118us/step - loss: 0.4356 - acc: 0.8081 - val_loss: 0.4765 - val_acc: 0.7598\n",
      "Epoch 21/50\n",
      "9719/9719 [==============================] - 1s 115us/step - loss: 0.4253 - acc: 0.8187 - val_loss: 0.3516 - val_acc: 0.8482\n",
      "Epoch 22/50\n",
      "9719/9719 [==============================] - 1s 117us/step - loss: 0.4288 - acc: 0.8165 - val_loss: 0.3594 - val_acc: 0.8433\n",
      "Epoch 23/50\n",
      "9719/9719 [==============================] - 1s 116us/step - loss: 0.4302 - acc: 0.8177 - val_loss: 0.3440 - val_acc: 0.8456\n",
      "Epoch 24/50\n",
      "9719/9719 [==============================] - 1s 116us/step - loss: 0.4174 - acc: 0.8185 - val_loss: 0.3955 - val_acc: 0.8360\n",
      "Epoch 25/50\n",
      "9719/9719 [==============================] - 1s 115us/step - loss: 0.4164 - acc: 0.8253 - val_loss: 0.3841 - val_acc: 0.8459\n",
      "Epoch 26/50\n",
      "9719/9719 [==============================] - 1s 115us/step - loss: 0.4090 - acc: 0.8255 - val_loss: 0.3321 - val_acc: 0.8591\n",
      "Epoch 27/50\n",
      "9719/9719 [==============================] - 1s 114us/step - loss: 0.4167 - acc: 0.8265 - val_loss: 0.3672 - val_acc: 0.8456\n",
      "Epoch 28/50\n",
      "9719/9719 [==============================] - 1s 116us/step - loss: 0.4141 - acc: 0.8211 - val_loss: 0.3313 - val_acc: 0.8563\n",
      "Epoch 29/50\n",
      "9719/9719 [==============================] - 1s 115us/step - loss: 0.4139 - acc: 0.8223 - val_loss: 0.3977 - val_acc: 0.8422\n",
      "Epoch 30/50\n",
      "9719/9719 [==============================] - 1s 114us/step - loss: 0.4089 - acc: 0.8283 - val_loss: 0.3990 - val_acc: 0.8305\n",
      "Epoch 31/50\n",
      "9719/9719 [==============================] - 1s 115us/step - loss: 0.3933 - acc: 0.8353 - val_loss: 0.3955 - val_acc: 0.8303\n",
      "Epoch 32/50\n",
      "9719/9719 [==============================] - 1s 116us/step - loss: 0.4010 - acc: 0.8278 - val_loss: 0.3573 - val_acc: 0.8500\n",
      "Epoch 33/50\n",
      "9719/9719 [==============================] - 1s 113us/step - loss: 0.3994 - acc: 0.8343 - val_loss: 0.3338 - val_acc: 0.8524\n",
      "Epoch 34/50\n",
      "9719/9719 [==============================] - 1s 115us/step - loss: 0.4069 - acc: 0.8261 - val_loss: 0.3513 - val_acc: 0.8612\n",
      "Epoch 35/50\n",
      "9719/9719 [==============================] - 1s 115us/step - loss: 0.3905 - acc: 0.8356 - val_loss: 0.3819 - val_acc: 0.8524\n",
      "Epoch 36/50\n",
      "9719/9719 [==============================] - 1s 115us/step - loss: 0.4008 - acc: 0.8325 - val_loss: 0.3490 - val_acc: 0.8521\n",
      "Epoch 37/50\n",
      "9719/9719 [==============================] - 1s 114us/step - loss: 0.3857 - acc: 0.8373 - val_loss: 0.3542 - val_acc: 0.8459\n",
      "Epoch 38/50\n",
      "9719/9719 [==============================] - 1s 111us/step - loss: 0.3920 - acc: 0.8387 - val_loss: 0.3994 - val_acc: 0.8355\n",
      "Epoch 39/50\n",
      "9719/9719 [==============================] - 1s 115us/step - loss: 0.3868 - acc: 0.8385 - val_loss: 0.3351 - val_acc: 0.8573\n",
      "Epoch 40/50\n",
      "9719/9719 [==============================] - 1s 110us/step - loss: 0.3819 - acc: 0.8379 - val_loss: 0.3287 - val_acc: 0.8578\n",
      "Epoch 41/50\n",
      "9719/9719 [==============================] - 1s 115us/step - loss: 0.3823 - acc: 0.8377 - val_loss: 0.3161 - val_acc: 0.8669\n",
      "Epoch 42/50\n",
      "9719/9719 [==============================] - 1s 111us/step - loss: 0.3843 - acc: 0.8429 - val_loss: 0.3311 - val_acc: 0.8565\n",
      "Epoch 43/50\n",
      "9719/9719 [==============================] - 1s 113us/step - loss: 0.3954 - acc: 0.8378 - val_loss: 0.3313 - val_acc: 0.8568\n",
      "Epoch 44/50\n",
      "9719/9719 [==============================] - 1s 112us/step - loss: 0.3901 - acc: 0.8379 - val_loss: 0.3619 - val_acc: 0.8555\n",
      "Epoch 45/50\n",
      "9719/9719 [==============================] - 1s 114us/step - loss: 0.3756 - acc: 0.8420 - val_loss: 0.3556 - val_acc: 0.8511\n",
      "Epoch 46/50\n",
      "9719/9719 [==============================] - 1s 113us/step - loss: 0.3775 - acc: 0.8400 - val_loss: 0.3685 - val_acc: 0.8375\n",
      "Epoch 47/50\n",
      "9719/9719 [==============================] - 1s 113us/step - loss: 0.3705 - acc: 0.8459 - val_loss: 0.3562 - val_acc: 0.8570\n",
      "Epoch 48/50\n",
      "9719/9719 [==============================] - 1s 113us/step - loss: 0.3762 - acc: 0.8390 - val_loss: 0.3883 - val_acc: 0.8464\n",
      "Epoch 49/50\n",
      "9719/9719 [==============================] - 1s 113us/step - loss: 0.3674 - acc: 0.8486 - val_loss: 0.3872 - val_acc: 0.8547\n",
      "Epoch 50/50\n",
      "9719/9719 [==============================] - 1s 114us/step - loss: 0.3674 - acc: 0.8467 - val_loss: 0.3176 - val_acc: 0.8640\n"
     ]
    },
    {
     "data": {
      "text/plain": [
       "<keras.callbacks.History at 0x26a20a380f0>"
      ]
     },
     "execution_count": 8,
     "metadata": {},
     "output_type": "execute_result"
    }
   ],
   "source": [
    "opt = Adam(lr=0.01)\n",
    "model_unidim.compile(optimizer = opt, loss = \"categorical_crossentropy\", metrics = [\"accuracy\"])\n",
    "\n",
    "model_unidim.fit(x = X_train_s, y = Y_train_s, epochs = 50, batch_size = 128, validation_data=(X_test_s, Y_test_s))"
   ]
  },
  {
   "cell_type": "code",
   "execution_count": 9,
   "metadata": {},
   "outputs": [],
   "source": [
    "# predict labels\n",
    "Y_pred_s = model_unidim.predict(X_test_s)"
   ]
  },
  {
   "cell_type": "code",
   "execution_count": 10,
   "metadata": {},
   "outputs": [
    {
     "name": "stdout",
     "output_type": "stream",
     "text": [
      "F1-measure:  0.8640951739012361\n",
      "AUC w.r. to each class:  {0: 0.8854398354515498, 1: 0.8854398354515498}\n"
     ]
    },
    {
     "data": {
      "image/png": "[encoded data removed]",
      "text/plain": [
       "<Figure size 432x288 with 2 Axes>"
      ]
     },
     "metadata": {},
     "output_type": "display_data"
    }
   ],
   "source": [
    "# print results\n",
    "#reverse the one-ot encoder procedure\n",
    "Y_test_hard = np.argmax(Y_test_s, axis=1)\n",
    "Y_pred_hard = np.argmax(Y_pred_s, axis=1)\n",
    "\n",
    "print(\"F1-measure: \", utils.f1_score(Y_test_hard, Y_pred_hard, average='weighted'))\n",
    "print(\"AUC w.r. to each class: \", utils.AUC(Y_test_s, Y_pred_s, classes))\n",
    "\n",
    "# Compute and plot confusion matrix\n",
    "cnf_matrix = utils.confusion_matrix(Y_test_hard, Y_pred_hard)\n",
    "np.set_printoptions(precision=2)\n",
    "\n",
    "plt.figure()\n",
    "utils.plot_confusion_matrix(cnf_matrix, classes=[1,2],\n",
    "                      title='Confusion matrix, without normalization')"
   ]
  },
  {
   "cell_type": "code",
   "execution_count": null,
   "metadata": {},
   "outputs": [],
   "source": []
  }
 ],
 "metadata": {
  "kernelspec": {
   "display_name": "Python 3",
   "language": "python",
   "name": "python3"
  },
  "language_info": {
   "codemirror_mode": {
    "name": "ipython",
    "version": 3
   },
   "file_extension": ".py",
   "mimetype": "text/x-python",
   "name": "python",
   "nbconvert_exporter": "python",
   "pygments_lexer": "ipython3",
   "version": "3.6.4"
  }
 },
 "nbformat": 4,
 "nbformat_minor": 2
}
