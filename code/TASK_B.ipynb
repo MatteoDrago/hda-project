{
 "cells": [
  {
   "cell_type": "markdown",
   "metadata": {},
   "source": [
    "# HDA - Project 3\n",
    "## TASK B1: Activity detection\n",
    "This task consists of a binary classification, where a gesture denotes activity and thus the model detects wheter there is a gesture label or not (labeled in column 6).\n",
    "\n",
    "This first cell contains the parameters that can be tuned for code execution:\n",
    "- subject: select the subject on which to test the model, between [1,4];\n",
    "- folder: directory name where '.mat' files are stored;\n",
    "- label_col: index of feature column to be selected to perform activity detection, between [0,6];\n",
    "- window_size: parameter that sets the length of temporal windows on which to perform the convolution;\n",
    "- stride: step length to chose the next window."
   ]
  },
  {
   "cell_type": "code",
   "execution_count": 1,
   "metadata": {},
   "outputs": [],
   "source": [
    "subject = 1\n",
    "folder = \"./data/full/\"\n",
    "label = 0     # default for task B1\n",
    "window_size = 15\n",
    "stride = 5\n",
    "# make_binary = True"
   ]
  },
  {
   "cell_type": "code",
   "execution_count": 2,
   "metadata": {},
   "outputs": [
    {
     "name": "stderr",
     "output_type": "stream",
     "text": [
      "Using TensorFlow backend.\n"
     ]
    }
   ],
   "source": [
    "import utils\n",
    "import deeplearning\n",
    "import numpy as np\n",
    "from sklearn.preprocessing import OneHotEncoder, StandardScaler\n",
    "from sklearn.metrics import classification_report\n",
    "import matplotlib.pyplot as plt\n",
    "from keras.optimizers import Adam\n",
    "from keras.utils import to_categorical"
   ]
  },
  {
   "cell_type": "markdown",
   "metadata": {},
   "source": [
    "Creation of training set and test set"
   ]
  },
  {
   "cell_type": "code",
   "execution_count": 3,
   "metadata": {},
   "outputs": [
    {
     "name": "stdout",
     "output_type": "stream",
     "text": [
      "Training samples:  157125 \n",
      "Test samples:       57536 \n",
      "Features:             110\n",
      "\n",
      "TRAINING SET:\n",
      "Dataset of Images have shape:  (31422, 15, 110) \n",
      "Dataset of Labels have shape:    (31422, 2) \n",
      "Fraction of labels:   [0.11036853 0.88963147]\n",
      "\n",
      "TEST SET:\n",
      "Dataset of Images have shape:  (11504, 15, 110) \n",
      "Dataset of Labels have shape:    (11504, 2) \n",
      "Fraction of labels:   [0.1772427 0.8227573]\n"
     ]
    }
   ],
   "source": [
    "[x_train, y_train, x_test, y_test, n_classes] = utils.preprocessing(subject,\n",
    "                                                                    folder,\n",
    "                                                                    label,\n",
    "                                                                    window_size,\n",
    "                                                                    stride,\n",
    "                                                                    printInfo = True,\n",
    "                                                                    make_binary = True)"
   ]
  },
  {
   "cell_type": "markdown",
   "metadata": {},
   "source": [
    "Preparation of data in a input-suitable form"
   ]
  },
  {
   "cell_type": "code",
   "execution_count": 4,
   "metadata": {},
   "outputs": [
    {
     "name": "stdout",
     "output_type": "stream",
     "text": [
      "_________________________________________________________________\n",
      "Layer (type)                 Output Shape              Param #   \n",
      "=================================================================\n",
      "batch_normalization_1 (Batch (None, 15, 110, 1)        4         \n",
      "_________________________________________________________________\n",
      "conv2d_1 (Conv2D)            (None, 5, 108, 50)        1700      \n",
      "_________________________________________________________________\n",
      "max_pooling2d_1 (MaxPooling2 (None, 2, 108, 50)        0         \n",
      "_________________________________________________________________\n",
      "reshape_1 (Reshape)          (None, 2, 5400)           0         \n",
      "_________________________________________________________________\n",
      "lstm_1 (LSTM)                (None, 2, 20)             433680    \n",
      "_________________________________________________________________\n",
      "lstm_2 (LSTM)                (None, 20)                3280      \n",
      "_________________________________________________________________\n",
      "dense_1 (Dense)              (None, 512)               10752     \n",
      "_________________________________________________________________\n",
      "dense_2 (Dense)              (None, 2)                 1026      \n",
      "=================================================================\n",
      "Total params: 450,442\n",
      "Trainable params: 450,440\n",
      "Non-trainable params: 2\n",
      "_________________________________________________________________\n"
     ]
    }
   ],
   "source": [
    "n_features = 110 #number of features taken into consideration for the solution of the problem\n",
    "n_classes = 2\n",
    "\n",
    "detection_model = deeplearning.MotionDetection((window_size,n_features,1), n_classes)\n",
    "detection_model.summary() # model visualization"
   ]
  },
  {
   "cell_type": "code",
   "execution_count": 5,
   "metadata": {},
   "outputs": [
    {
     "name": "stdout",
     "output_type": "stream",
     "text": [
      "Train on 31422 samples, validate on 11504 samples\n",
      "Epoch 1/20\n",
      "31422/31422 [==============================] - 10s 305us/step - loss: 0.2529 - acc: 0.9226 - val_loss: 0.2745 - val_acc: 0.9238\n",
      "Epoch 2/20\n",
      "31422/31422 [==============================] - 7s 208us/step - loss: 0.2138 - acc: 0.9244 - val_loss: 0.2703 - val_acc: 0.9265\n",
      "Epoch 3/20\n",
      "31422/31422 [==============================] - 7s 209us/step - loss: 0.1910 - acc: 0.9504 - val_loss: 0.3105 - val_acc: 0.9092\n",
      "Epoch 4/20\n",
      "31422/31422 [==============================] - 7s 208us/step - loss: 0.2186 - acc: 0.9124 - val_loss: 0.3186 - val_acc: 0.8228\n",
      "Epoch 5/20\n",
      "31422/31422 [==============================] - 7s 209us/step - loss: 0.2434 - acc: 0.8880 - val_loss: 0.3472 - val_acc: 0.8228\n",
      "Epoch 6/20\n",
      "31422/31422 [==============================] - 7s 209us/step - loss: 0.2087 - acc: 0.9222 - val_loss: 0.2805 - val_acc: 0.9246\n",
      "Epoch 7/20\n",
      "31422/31422 [==============================] - 7s 210us/step - loss: 0.2072 - acc: 0.9138 - val_loss: 0.2950 - val_acc: 0.9245\n",
      "Epoch 8/20\n",
      "31422/31422 [==============================] - 7s 214us/step - loss: 0.1939 - acc: 0.9334 - val_loss: 0.2994 - val_acc: 0.8228\n",
      "Epoch 9/20\n",
      "31422/31422 [==============================] - 7s 213us/step - loss: 0.2054 - acc: 0.9379 - val_loss: 0.3262 - val_acc: 0.9060\n",
      "Epoch 10/20\n",
      "31422/31422 [==============================] - 7s 219us/step - loss: 0.1861 - acc: 0.9350 - val_loss: 0.2708 - val_acc: 0.9229\n",
      "Epoch 11/20\n",
      "31422/31422 [==============================] - 7s 218us/step - loss: 0.1794 - acc: 0.9534 - val_loss: 0.3006 - val_acc: 0.9207\n",
      "Epoch 12/20\n",
      "31422/31422 [==============================] - 7s 215us/step - loss: 0.1797 - acc: 0.9429 - val_loss: 0.3861 - val_acc: 0.8930\n",
      "Epoch 13/20\n",
      "31422/31422 [==============================] - 7s 214us/step - loss: 0.1819 - acc: 0.9501 - val_loss: 0.2486 - val_acc: 0.9257\n",
      "Epoch 14/20\n",
      "31422/31422 [==============================] - 7s 211us/step - loss: 0.1739 - acc: 0.9508 - val_loss: 0.2792 - val_acc: 0.9276\n",
      "Epoch 15/20\n",
      "31422/31422 [==============================] - 7s 211us/step - loss: 0.2220 - acc: 0.9083 - val_loss: 0.2936 - val_acc: 0.8228\n",
      "Epoch 16/20\n",
      "31422/31422 [==============================] - 7s 214us/step - loss: 0.1947 - acc: 0.9309 - val_loss: 0.2401 - val_acc: 0.9295\n",
      "Epoch 17/20\n",
      "31422/31422 [==============================] - 7s 211us/step - loss: 0.2052 - acc: 0.9299 - val_loss: 0.2879 - val_acc: 0.8934\n",
      "Epoch 18/20\n",
      "31422/31422 [==============================] - 7s 216us/step - loss: 0.2086 - acc: 0.9079 - val_loss: 0.2423 - val_acc: 0.9334\n",
      "Epoch 19/20\n",
      "31422/31422 [==============================] - 7s 215us/step - loss: 0.1825 - acc: 0.9449 - val_loss: 0.2546 - val_acc: 0.9242\n",
      "Epoch 20/20\n",
      "31422/31422 [==============================] - 7s 214us/step - loss: 0.2202 - acc: 0.8976 - val_loss: 0.2488 - val_acc: 0.9321\n"
     ]
    },
    {
     "data": {
      "text/plain": [
       "<keras.callbacks.History at 0x2891e062eb8>"
      ]
     },
     "execution_count": 5,
     "metadata": {},
     "output_type": "execute_result"
    }
   ],
   "source": [
    "detection_model.compile(optimizer = Adam(lr=0.01), \n",
    "                        loss = \"categorical_crossentropy\", \n",
    "                        metrics = [\"accuracy\"])\n",
    "\n",
    "input_train = x_train.reshape(x_train.shape[0], window_size, n_features, 1)\n",
    "input_test = x_test.reshape(x_test.shape[0], window_size, n_features, 1)\n",
    "\n",
    "detection_model.fit(x = input_train, \n",
    "                    y = y_train, \n",
    "                    epochs = 20, \n",
    "                    batch_size = 128,\n",
    "                    verbose = 1,\n",
    "                    validation_data=(input_test, y_test))"
   ]
  },
  {
   "cell_type": "code",
   "execution_count": 6,
   "metadata": {},
   "outputs": [
    {
     "name": "stdout",
     "output_type": "stream",
     "text": [
      "             precision    recall  f1-score   support\n",
      "\n",
      "          0       0.87      0.72      0.79      2039\n",
      "          1       0.94      0.98      0.96      9465\n",
      "\n",
      "avg / total       0.93      0.93      0.93     11504\n",
      "\n"
     ]
    }
   ],
   "source": [
    "y_pred = detection_model.predict(input_test)\n",
    "y_pred = np.argmax(y_pred, 1)\n",
    "\n",
    "print(classification_report(y_test, to_categorical(y_pred)))"
   ]
  },
  {
   "cell_type": "markdown",
   "metadata": {},
   "source": [
    "## Task B2: gesture recognition\n",
    "This task consists of a 17-class classification, where gestures are labeled in column 6.\n",
    "\n",
    "To tune the following parameters, refer to the first cell of task B1:\n",
    "- subject: select the subject on which to test the model, between [1,4];\n",
    "- folder: directory name where '.mat' files are stored;\n",
    "- label_col: index of feature column to be selected to perform activity detection, between [0,6];\n",
    "- window_size: parameter that sets the length of temporal windows on which to perform the convolution;\n",
    "- stride: step length to chose the next window.\n",
    "\n",
    "Here we just need to preserve the different labels, thus we set 'make_binary' to False. We have then 18 different labels, keeping into account the null class, with label 0."
   ]
  },
  {
   "cell_type": "code",
   "execution_count": 7,
   "metadata": {},
   "outputs": [
    {
     "name": "stdout",
     "output_type": "stream",
     "text": [
      "Training samples:  157125 \n",
      "Test samples:       57536 \n",
      "Features:             110\n",
      "\n",
      "TRAINING SET:\n",
      "Dataset of Images have shape:  (27948, 15, 110) \n",
      "Dataset of Labels have shape:    (27948, 4) \n",
      "Fraction of labels:   [0.47098182 0.30918134 0.19253614 0.0273007 ]\n",
      "\n",
      "TEST SET:\n",
      "Dataset of Images have shape:  (9465, 15, 110) \n",
      "Dataset of Labels have shape:    (9465, 4) \n",
      "Fraction of labels:   [0.41817221 0.24638141 0.28874802 0.04669836]\n"
     ]
    }
   ],
   "source": [
    "[x_train, y_train, x_test, y_test, n_classes] = utils.preprocessing(subject,\n",
    "                                                                    folder,\n",
    "                                                                    label,\n",
    "                                                                    window_size,\n",
    "                                                                    stride,\n",
    "                                                                    printInfo = True,\n",
    "                                                                    make_binary = False,\n",
    "                                                                    null_class = False)"
   ]
  },
  {
   "cell_type": "code",
   "execution_count": 8,
   "metadata": {},
   "outputs": [],
   "source": [
    "n_classes = 4 # OVERWRITE TO BE FIXED"
   ]
  },
  {
   "cell_type": "code",
   "execution_count": 9,
   "metadata": {},
   "outputs": [
    {
     "name": "stdout",
     "output_type": "stream",
     "text": [
      "_________________________________________________________________\n",
      "Layer (type)                 Output Shape              Param #   \n",
      "=================================================================\n",
      "batch_normalization_2 (Batch (None, 15, 110, 1)        4         \n",
      "_________________________________________________________________\n",
      "conv2d_2 (Conv2D)            (None, 5, 110, 50)        600       \n",
      "_________________________________________________________________\n",
      "max_pooling2d_2 (MaxPooling2 (None, 2, 110, 50)        0         \n",
      "_________________________________________________________________\n",
      "reshape_2 (Reshape)          (None, 2, 5500)           0         \n",
      "_________________________________________________________________\n",
      "lstm_3 (LSTM)                (None, 2, 300)            6961200   \n",
      "_________________________________________________________________\n",
      "lstm_4 (LSTM)                (None, 300)               721200    \n",
      "_________________________________________________________________\n",
      "dropout_1 (Dropout)          (None, 300)               0         \n",
      "_________________________________________________________________\n",
      "dense_3 (Dense)              (None, 512)               154112    \n",
      "_________________________________________________________________\n",
      "dropout_2 (Dropout)          (None, 512)               0         \n",
      "_________________________________________________________________\n",
      "dense_4 (Dense)              (None, 4)                 2052      \n",
      "=================================================================\n",
      "Total params: 7,839,168\n",
      "Trainable params: 7,839,166\n",
      "Non-trainable params: 2\n",
      "_________________________________________________________________\n"
     ]
    }
   ],
   "source": [
    "classification_model = deeplearning.MotionClassification((window_size,n_features,1), n_classes)\n",
    "classification_model.summary() # model visualization"
   ]
  },
  {
   "cell_type": "code",
   "execution_count": 10,
   "metadata": {},
   "outputs": [
    {
     "name": "stdout",
     "output_type": "stream",
     "text": [
      "Train on 27948 samples, validate on 9465 samples\n",
      "Epoch 1/20\n",
      "27948/27948 [==============================] - 18s 654us/step - loss: 0.3210 - acc: 0.8688 - val_loss: 0.1714 - val_acc: 0.9397\n",
      "Epoch 2/20\n",
      "27948/27948 [==============================] - 14s 510us/step - loss: 0.2475 - acc: 0.9025 - val_loss: 0.2732 - val_acc: 0.9328\n",
      "Epoch 3/20\n",
      "27948/27948 [==============================] - 14s 511us/step - loss: 0.2596 - acc: 0.8956 - val_loss: 0.1870 - val_acc: 0.9311\n",
      "Epoch 4/20\n",
      "27948/27948 [==============================] - 14s 512us/step - loss: 0.3014 - acc: 0.8760 - val_loss: 0.1892 - val_acc: 0.9315\n",
      "Epoch 5/20\n",
      "27948/27948 [==============================] - 14s 511us/step - loss: 0.2843 - acc: 0.8844 - val_loss: 0.1883 - val_acc: 0.9369\n",
      "Epoch 6/20\n",
      "27948/27948 [==============================] - 14s 511us/step - loss: 0.2704 - acc: 0.8903 - val_loss: 0.2774 - val_acc: 0.9177\n",
      "Epoch 7/20\n",
      "27948/27948 [==============================] - 14s 510us/step - loss: 0.2606 - acc: 0.8952 - val_loss: 0.2249 - val_acc: 0.9208\n",
      "Epoch 8/20\n",
      "27948/27948 [==============================] - 14s 510us/step - loss: 0.3163 - acc: 0.8741 - val_loss: 0.3061 - val_acc: 0.9209\n",
      "Epoch 9/20\n",
      "27948/27948 [==============================] - 14s 511us/step - loss: 0.3155 - acc: 0.8717 - val_loss: 0.3428 - val_acc: 0.9157\n",
      "Epoch 10/20\n",
      "27948/27948 [==============================] - 14s 511us/step - loss: 0.3280 - acc: 0.8681 - val_loss: 0.2969 - val_acc: 0.9226\n",
      "Epoch 11/20\n",
      "27948/27948 [==============================] - 14s 511us/step - loss: 0.2898 - acc: 0.8818 - val_loss: 0.3190 - val_acc: 0.9220\n",
      "Epoch 12/20\n",
      "27948/27948 [==============================] - 14s 511us/step - loss: 0.2807 - acc: 0.8883 - val_loss: 0.2983 - val_acc: 0.9249\n",
      "Epoch 13/20\n",
      "27948/27948 [==============================] - 14s 513us/step - loss: 0.2758 - acc: 0.8881 - val_loss: 0.2318 - val_acc: 0.9380\n",
      "Epoch 14/20\n",
      "27948/27948 [==============================] - 14s 510us/step - loss: 0.2701 - acc: 0.8899 - val_loss: 0.3546 - val_acc: 0.9240\n",
      "Epoch 15/20\n",
      "27948/27948 [==============================] - 14s 510us/step - loss: 0.2889 - acc: 0.8852 - val_loss: 0.2702 - val_acc: 0.9302\n",
      "Epoch 16/20\n",
      "27948/27948 [==============================] - 14s 511us/step - loss: 0.3308 - acc: 0.8698 - val_loss: 0.3591 - val_acc: 0.9045\n",
      "Epoch 17/20\n",
      "27948/27948 [==============================] - 14s 511us/step - loss: 0.3295 - acc: 0.8757 - val_loss: 0.3091 - val_acc: 0.9225\n",
      "Epoch 18/20\n",
      "27948/27948 [==============================] - 14s 511us/step - loss: 0.3605 - acc: 0.8611 - val_loss: 0.2799 - val_acc: 0.9181\n",
      "Epoch 19/20\n",
      "27948/27948 [==============================] - 14s 511us/step - loss: 0.3552 - acc: 0.8614 - val_loss: 0.3905 - val_acc: 0.9199\n",
      "Epoch 20/20\n",
      "27948/27948 [==============================] - 14s 510us/step - loss: 0.3449 - acc: 0.8626 - val_loss: 0.3235 - val_acc: 0.9270\n"
     ]
    },
    {
     "data": {
      "text/plain": [
       "<keras.callbacks.History at 0x2895c01fb70>"
      ]
     },
     "execution_count": 10,
     "metadata": {},
     "output_type": "execute_result"
    }
   ],
   "source": [
    "classification_model.compile(optimizer = Adam(lr=0.01), \n",
    "                             loss = \"categorical_crossentropy\", \n",
    "                             metrics = [\"accuracy\"])\n",
    "\n",
    "input_train = x_train.reshape(x_train.shape[0], window_size, n_features, 1)\n",
    "input_test = x_test.reshape(x_test.shape[0], window_size, n_features, 1)\n",
    "\n",
    "classification_model.fit(x = input_train, \n",
    "                         y = y_train, \n",
    "                         epochs = 20, \n",
    "                         batch_size = 128,\n",
    "                         verbose = 1,\n",
    "                         validation_data=(input_test, y_test))"
   ]
  },
  {
   "cell_type": "code",
   "execution_count": 11,
   "metadata": {},
   "outputs": [
    {
     "name": "stdout",
     "output_type": "stream",
     "text": [
      "             precision    recall  f1-score   support\n",
      "\n",
      "          0       0.92      0.93      0.92      3958\n",
      "          1       0.89      0.86      0.87      2332\n",
      "          2       0.96      1.00      0.98      2733\n",
      "          3       1.00      0.85      0.92       442\n",
      "\n",
      "avg / total       0.93      0.93      0.93      9465\n",
      "\n"
     ]
    }
   ],
   "source": [
    "y_pred = classification_model.predict(input_test)\n",
    "y_pred = np.argmax(y_pred, 1)\n",
    "\n",
    "print(classification_report(y_test, to_categorical(y_pred)))"
   ]
  },
  {
   "cell_type": "markdown",
   "metadata": {},
   "source": [
    "## Classification with null class\n",
    "(detection and classification are performed together)"
   ]
  },
  {
   "cell_type": "code",
   "execution_count": 12,
   "metadata": {},
   "outputs": [
    {
     "name": "stdout",
     "output_type": "stream",
     "text": [
      "Training samples:  157125 \n",
      "Test samples:       57536 \n",
      "Features:             110\n",
      "\n",
      "TRAINING SET:\n",
      "Dataset of Images have shape:  (31422, 15, 110) \n",
      "Dataset of Labels have shape:    (31422, 5) \n",
      "Fraction of labels:   [0.11055948 0.41891032 0.27499841 0.17124944 0.02428235]\n",
      "\n",
      "TEST SET:\n",
      "Dataset of Images have shape:  (11504, 15, 110) \n",
      "Dataset of Labels have shape:    (11504, 5) \n",
      "Fraction of labels:   [0.1772427  0.34405424 0.2027121  0.23756954 0.03842142]\n"
     ]
    }
   ],
   "source": [
    "[x_train, y_train, x_test, y_test, n_classes] = utils.preprocessing(subject,\n",
    "                                                                    folder,\n",
    "                                                                    label,\n",
    "                                                                    window_size,\n",
    "                                                                    stride,\n",
    "                                                                    printInfo = True,\n",
    "                                                                    make_binary = False,)"
   ]
  },
  {
   "cell_type": "code",
   "execution_count": 13,
   "metadata": {},
   "outputs": [
    {
     "name": "stdout",
     "output_type": "stream",
     "text": [
      "_________________________________________________________________\n",
      "Layer (type)                 Output Shape              Param #   \n",
      "=================================================================\n",
      "batch_normalization_3 (Batch (None, 15, 110, 1)        4         \n",
      "_________________________________________________________________\n",
      "conv2d_3 (Conv2D)            (None, 5, 110, 50)        600       \n",
      "_________________________________________________________________\n",
      "max_pooling2d_3 (MaxPooling2 (None, 2, 110, 50)        0         \n",
      "_________________________________________________________________\n",
      "reshape_3 (Reshape)          (None, 2, 5500)           0         \n",
      "_________________________________________________________________\n",
      "lstm_5 (LSTM)                (None, 2, 300)            6961200   \n",
      "_________________________________________________________________\n",
      "lstm_6 (LSTM)                (None, 300)               721200    \n",
      "_________________________________________________________________\n",
      "dropout_3 (Dropout)          (None, 300)               0         \n",
      "_________________________________________________________________\n",
      "dense_5 (Dense)              (None, 512)               154112    \n",
      "_________________________________________________________________\n",
      "dropout_4 (Dropout)          (None, 512)               0         \n",
      "_________________________________________________________________\n",
      "dense_6 (Dense)              (None, 5)                 2565      \n",
      "=================================================================\n",
      "Total params: 7,839,681\n",
      "Trainable params: 7,839,679\n",
      "Non-trainable params: 2\n",
      "_________________________________________________________________\n"
     ]
    }
   ],
   "source": [
    "classification_model = deeplearning.MotionClassification((window_size,n_features,1), n_classes)\n",
    "classification_model.summary() # model visualization"
   ]
  },
  {
   "cell_type": "code",
   "execution_count": 18,
   "metadata": {},
   "outputs": [
    {
     "name": "stdout",
     "output_type": "stream",
     "text": [
      "Train on 31422 samples, validate on 11504 samples\n",
      "Epoch 1/20\n",
      "31422/31422 [==============================] - 16s 509us/step - loss: 0.3747 - acc: 0.8647 - val_loss: 0.4855 - val_acc: 0.8094\n",
      "Epoch 2/20\n",
      "31422/31422 [==============================] - 11s 345us/step - loss: 0.3560 - acc: 0.8680 - val_loss: 0.3965 - val_acc: 0.8736\n",
      "Epoch 3/20\n",
      "31422/31422 [==============================] - 11s 344us/step - loss: 0.3533 - acc: 0.8715 - val_loss: 0.4224 - val_acc: 0.8766\n",
      "Epoch 4/20\n",
      "31422/31422 [==============================] - 11s 344us/step - loss: 0.3447 - acc: 0.8695 - val_loss: 0.3853 - val_acc: 0.8657\n",
      "Epoch 5/20\n",
      "31422/31422 [==============================] - 11s 345us/step - loss: 0.3577 - acc: 0.8667 - val_loss: 0.4108 - val_acc: 0.8733\n",
      "Epoch 6/20\n",
      "31422/31422 [==============================] - 11s 344us/step - loss: 0.3567 - acc: 0.8664 - val_loss: 0.3705 - val_acc: 0.8629\n",
      "Epoch 7/20\n",
      "31422/31422 [==============================] - 11s 345us/step - loss: 0.3523 - acc: 0.8680 - val_loss: 0.3883 - val_acc: 0.8601\n",
      "Epoch 8/20\n",
      "31422/31422 [==============================] - 11s 345us/step - loss: 0.3484 - acc: 0.8702 - val_loss: 0.3658 - val_acc: 0.8732\n",
      "Epoch 9/20\n",
      "31422/31422 [==============================] - 11s 344us/step - loss: 0.3460 - acc: 0.8716 - val_loss: 0.3959 - val_acc: 0.8535\n",
      "Epoch 10/20\n",
      "31422/31422 [==============================] - 11s 344us/step - loss: 0.3479 - acc: 0.8716 - val_loss: 0.3944 - val_acc: 0.8660\n",
      "Epoch 11/20\n",
      "31422/31422 [==============================] - 11s 344us/step - loss: 0.3584 - acc: 0.8681 - val_loss: 0.3303 - val_acc: 0.8853\n",
      "Epoch 12/20\n",
      "31422/31422 [==============================] - 11s 344us/step - loss: 0.3607 - acc: 0.8666 - val_loss: 0.3591 - val_acc: 0.8671\n",
      "Epoch 13/20\n",
      "31422/31422 [==============================] - 11s 345us/step - loss: 0.3460 - acc: 0.8725 - val_loss: 0.3318 - val_acc: 0.8780\n",
      "Epoch 14/20\n",
      "31422/31422 [==============================] - 11s 344us/step - loss: 0.3547 - acc: 0.8688 - val_loss: 0.4006 - val_acc: 0.8615\n",
      "Epoch 15/20\n",
      "31422/31422 [==============================] - 11s 344us/step - loss: 0.3490 - acc: 0.8702 - val_loss: 0.4084 - val_acc: 0.8656\n",
      "Epoch 16/20\n",
      "31422/31422 [==============================] - 11s 344us/step - loss: 0.3432 - acc: 0.8728 - val_loss: 0.3490 - val_acc: 0.8871\n",
      "Epoch 17/20\n",
      "31422/31422 [==============================] - 11s 344us/step - loss: 0.3493 - acc: 0.8701 - val_loss: 0.3922 - val_acc: 0.8589\n",
      "Epoch 18/20\n",
      "31422/31422 [==============================] - 11s 344us/step - loss: 0.3417 - acc: 0.8719 - val_loss: 0.3366 - val_acc: 0.8917\n",
      "Epoch 19/20\n",
      "31422/31422 [==============================] - 11s 345us/step - loss: 0.3364 - acc: 0.8755 - val_loss: 0.3433 - val_acc: 0.8837\n",
      "Epoch 20/20\n",
      "31422/31422 [==============================] - 11s 345us/step - loss: 0.3385 - acc: 0.8740 - val_loss: 0.3976 - val_acc: 0.8661\n"
     ]
    },
    {
     "data": {
      "text/plain": [
       "<keras.callbacks.History at 0x289721370b8>"
      ]
     },
     "execution_count": 18,
     "metadata": {},
     "output_type": "execute_result"
    }
   ],
   "source": [
    "classification_model.compile(optimizer = Adam(lr=0.01), \n",
    "                             loss = \"categorical_crossentropy\", \n",
    "                             metrics = [\"accuracy\"])\n",
    "\n",
    "input_train = x_train.reshape(x_train.shape[0], window_size, n_features, 1)\n",
    "input_test = x_test.reshape(x_test.shape[0], window_size, n_features, 1)\n",
    "\n",
    "classification_model.fit(x = input_train, \n",
    "                         y = y_train, \n",
    "                         epochs = 20, \n",
    "                         batch_size = 300,\n",
    "                         verbose = 1,\n",
    "                         validation_data=(input_test, y_test))"
   ]
  },
  {
   "cell_type": "code",
   "execution_count": 19,
   "metadata": {},
   "outputs": [
    {
     "name": "stdout",
     "output_type": "stream",
     "text": [
      "             precision    recall  f1-score   support\n",
      "\n",
      "          0       0.94      0.59      0.72      2039\n",
      "          1       0.86      0.95      0.90      3958\n",
      "          2       0.73      0.82      0.77      2332\n",
      "          3       0.96      1.00      0.98      2733\n",
      "          4       0.98      0.81      0.88       442\n",
      "\n",
      "avg / total       0.87      0.87      0.86     11504\n",
      "\n"
     ]
    }
   ],
   "source": [
    "y_pred = classification_model.predict(input_test)\n",
    "y_pred = np.argmax(y_pred, 1)\n",
    "\n",
    "print(classification_report(y_test, to_categorical(y_pred)))"
   ]
  }
 ],
 "metadata": {
  "kernelspec": {
   "display_name": "Python 3",
   "language": "python",
   "name": "python3"
  },
  "language_info": {
   "codemirror_mode": {
    "name": "ipython",
    "version": 3
   },
   "file_extension": ".py",
   "mimetype": "text/x-python",
   "name": "python",
   "nbconvert_exporter": "python",
   "pygments_lexer": "ipython3",
   "version": "3.6.4"
  }
 },
 "nbformat": 4,
 "nbformat_minor": 2
}
