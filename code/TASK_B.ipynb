{
 "cells": [
  {
   "cell_type": "markdown",
   "metadata": {},
   "source": [
    "# HDA - Project 3\n",
    "## TASK B1: Activity detection\n",
    "This task consists of a binary classification, where a gesture denotes activity and thus the model detects wheter there is a gesture label or not (labeled in column 6).\n",
    "\n",
    "This first cell contains the parameters that can be tuned for code execution:\n",
    "- subject: select the subject on which to test the model, between [1,4];\n",
    "- folder: directory name where '.mat' files are stored;\n",
    "- label_col: index of feature column to be selected to perform activity detection, between [0,6];\n",
    "- window_size: parameter that sets the length of temporal windows on which to perform the convolution;\n",
    "- stride: step length to chose the next window."
   ]
  },
  {
   "cell_type": "code",
   "execution_count": 1,
   "metadata": {},
   "outputs": [],
   "source": [
    "subject = 1\n",
    "folder = \"./data/\"\n",
    "label_col = 6     # 6 is default for task B1\n",
    "window_size = 15\n",
    "stride = 15\n",
    "make_binary = True"
   ]
  },
  {
   "cell_type": "code",
   "execution_count": 2,
   "metadata": {},
   "outputs": [
    {
     "name": "stderr",
     "output_type": "stream",
     "text": [
      "Using TensorFlow backend.\n"
     ]
    }
   ],
   "source": [
    "import utils\n",
    "import numpy as np\n",
    "from sklearn.preprocessing import OneHotEncoder, StandardScaler\n",
    "import matplotlib.pyplot as plt\n",
    "from keras.optimizers import Adam"
   ]
  },
  {
   "cell_type": "markdown",
   "metadata": {},
   "source": [
    "Creation of training set and test set"
   ]
  },
  {
   "cell_type": "code",
   "execution_count": 3,
   "metadata": {},
   "outputs": [
    {
     "name": "stdout",
     "output_type": "stream",
     "text": [
      "\n",
      "Session shapes:\n",
      "ADL1:   (45810, 110)\n",
      "ADL2:   (28996, 110)\n",
      "ADL3:   (30167, 110)\n",
      "ADL4:   (30228, 110)\n",
      "ADL5:   (27308, 110)\n",
      "Drill:  (52152, 110)\n",
      "\n",
      "Training samples:  157125 \n",
      "Test samples:       57536 \n",
      "Features:             110\n",
      "\n",
      "Classes in training set:  2 \n",
      "Classes in test set:      2\n"
     ]
    }
   ],
   "source": [
    "# import all sessions for a subject\n",
    "(data1, data2, data3, data4, data5, data6) = utils.loadData(subject, folder=folder)\n",
    "\n",
    "# create training set and test set\n",
    "X_train = np.concatenate((data1['features_interp'],\\\n",
    "                          data2['features_interp'],\\\n",
    "                          data3['features_interp'],\\\n",
    "                          data6['features_interp']), axis=0)\n",
    "\n",
    "Y_train = np.concatenate((data1['labels_cut'][:,label_col],\\\n",
    "                          data2['labels_cut'][:,label_col],\\\n",
    "                          data3['labels_cut'][:,label_col],\\\n",
    "                          data6['labels_cut'][:,label_col]), axis=0)\n",
    "\n",
    "X_test = np.concatenate((data4['features_interp'],\\\n",
    "                         data5['features_interp']), axis=0)\n",
    "\n",
    "Y_test = np.concatenate((data4['labels_cut'][:,label_col],\\\n",
    "                         data5['labels_cut'][:,label_col]))\n",
    "\n",
    "features = X_test.shape[1]\n",
    "print(\"\\nTraining samples: \", X_train.shape[0],\\\n",
    "      \"\\nTest samples:      \", X_test.shape[0],\\\n",
    "      \"\\nFeatures:            \", features)\n",
    "\n",
    "# decision to overcome the problem of entire missing columns\n",
    "X_train = np.nan_to_num(X_train)\n",
    "X_test = np.nan_to_num(X_test)\n",
    "\n",
    "# features normalization\n",
    "scaler = StandardScaler().fit(X_train)\n",
    "X_train =scaler.transform(X_train)\n",
    "X_test = scaler.transform(X_test)\n",
    "\n",
    "# make the problem binary\n",
    "if make_binary:\n",
    "    Y_train[Y_train != 0] = 1\n",
    "    Y_test[Y_test != 0] = 1\n",
    "\n",
    "# switch to one hot encoded labels\n",
    "onehot_encoder = OneHotEncoder(sparse=False)\n",
    "Y_train_oh = onehot_encoder.fit_transform(Y_train.reshape(-1, 1))\n",
    "Y_test_oh = onehot_encoder.fit_transform(Y_test.reshape(-1, 1))\n",
    "print(\"\\nClasses in training set: \", Y_train_oh.shape[1],\\\n",
    "      \"\\nClasses in test set:     \", Y_test_oh.shape[1])"
   ]
  },
  {
   "cell_type": "markdown",
   "metadata": {},
   "source": [
    "Preparation of data in a input-suitable form"
   ]
  },
  {
   "cell_type": "code",
   "execution_count": 4,
   "metadata": {},
   "outputs": [
    {
     "name": "stdout",
     "output_type": "stream",
     "text": [
      "\n",
      "Features have shape:  (10474, 15, 110) \n",
      "Labels have shape:    (10474, 2) \n",
      "Fraction of labels:   [0.66612564 0.33387436]\n",
      "\n",
      "Features have shape:  (3834, 15, 110) \n",
      "Labels have shape:    (3834, 2) \n",
      "Fraction of labels:   [0.77464789 0.22535211]\n"
     ]
    }
   ],
   "source": [
    "X_train_s, Y_train_s = utils.prepareData(X_train, Y_train_oh, window_size, stride, shuffle=False)\n",
    "X_test_s, Y_test_s = utils.prepareData(X_test, Y_test_oh, window_size, stride, shuffle=False)"
   ]
  },
  {
   "cell_type": "code",
   "execution_count": 5,
   "metadata": {},
   "outputs": [
    {
     "data": {
      "text/plain": [
       "<Figure size 2880x1440 with 0 Axes>"
      ]
     },
     "execution_count": 5,
     "metadata": {},
     "output_type": "execute_result"
    },
    {
     "data": {
      "image/png": "[encoded data removed]",
      "text/plain": [
       "<Figure size 432x288 with 1 Axes>"
      ]
     },
     "metadata": {},
     "output_type": "display_data"
    },
    {
     "data": {
      "text/plain": [
       "<Figure size 2880x1440 with 0 Axes>"
      ]
     },
     "metadata": {},
     "output_type": "display_data"
    }
   ],
   "source": [
    "plt.plot(Y_train_s[8980:9000, :])\n",
    "\n",
    "plt.figure(figsize=(40,20))"
   ]
  },
  {
   "cell_type": "code",
   "execution_count": 6,
   "metadata": {},
   "outputs": [],
   "source": [
    "classes = np.max((Y_train_s.shape[1], Y_test_s.shape[1]))"
   ]
  },
  {
   "cell_type": "code",
   "execution_count": 7,
   "metadata": {},
   "outputs": [
    {
     "name": "stdout",
     "output_type": "stream",
     "text": [
      "_________________________________________________________________\n",
      "Layer (type)                 Output Shape              Param #   \n",
      "=================================================================\n",
      "conv1d_1 (Conv1D)            (None, 15, 18)            9918      \n",
      "_________________________________________________________________\n",
      "batch_normalization_1 (Batch (None, 15, 18)            72        \n",
      "_________________________________________________________________\n",
      "leaky_re_lu_1 (LeakyReLU)    (None, 15, 18)            0         \n",
      "_________________________________________________________________\n",
      "max_pooling1d_1 (MaxPooling1 (None, 8, 18)             0         \n",
      "_________________________________________________________________\n",
      "conv1d_2 (Conv1D)            (None, 8, 36)             4572      \n",
      "_________________________________________________________________\n",
      "batch_normalization_2 (Batch (None, 8, 36)             144       \n",
      "_________________________________________________________________\n",
      "leaky_re_lu_2 (LeakyReLU)    (None, 8, 36)             0         \n",
      "_________________________________________________________________\n",
      "max_pooling1d_2 (MaxPooling1 (None, 4, 36)             0         \n",
      "_________________________________________________________________\n",
      "dropout_1 (Dropout)          (None, 4, 36)             0         \n",
      "_________________________________________________________________\n",
      "conv1d_3 (Conv1D)            (None, 4, 72)             18216     \n",
      "_________________________________________________________________\n",
      "batch_normalization_3 (Batch (None, 4, 72)             288       \n",
      "_________________________________________________________________\n",
      "leaky_re_lu_3 (LeakyReLU)    (None, 4, 72)             0         \n",
      "_________________________________________________________________\n",
      "max_pooling1d_3 (MaxPooling1 (None, 2, 72)             0         \n",
      "_________________________________________________________________\n",
      "flatten_1 (Flatten)          (None, 144)               0         \n",
      "_________________________________________________________________\n",
      "dense_1 (Dense)              (None, 64)                9280      \n",
      "_________________________________________________________________\n",
      "leaky_re_lu_4 (LeakyReLU)    (None, 64)                0         \n",
      "_________________________________________________________________\n",
      "dropout_2 (Dropout)          (None, 64)                0         \n",
      "_________________________________________________________________\n",
      "dense_2 (Dense)              (None, 2)                 130       \n",
      "_________________________________________________________________\n",
      "activation_1 (Activation)    (None, 2)                 0         \n",
      "=================================================================\n",
      "Total params: 42,620\n",
      "Trainable params: 42,368\n",
      "Non-trainable params: 252\n",
      "_________________________________________________________________\n"
     ]
    }
   ],
   "source": [
    "model_unidim = utils.Model1D((window_size, features), classes)"
   ]
  },
  {
   "cell_type": "code",
   "execution_count": 8,
   "metadata": {},
   "outputs": [
    {
     "name": "stdout",
     "output_type": "stream",
     "text": [
      "Train on 10474 samples, validate on 3834 samples\n",
      "Epoch 1/50\n",
      "10474/10474 [==============================] - 5s 452us/step - loss: 0.5207 - acc: 0.8603 - val_loss: 0.3764 - val_acc: 0.8492\n",
      "Epoch 2/50\n",
      "10474/10474 [==============================] - 1s 111us/step - loss: 0.2352 - acc: 0.9143 - val_loss: 0.3948 - val_acc: 0.8758\n",
      "Epoch 3/50\n",
      "10474/10474 [==============================] - 1s 114us/step - loss: 0.2127 - acc: 0.9249 - val_loss: 0.2796 - val_acc: 0.8967\n",
      "Epoch 4/50\n",
      "10474/10474 [==============================] - 1s 112us/step - loss: 0.1964 - acc: 0.9300 - val_loss: 0.5080 - val_acc: 0.8539\n",
      "Epoch 5/50\n",
      "10474/10474 [==============================] - 1s 111us/step - loss: 0.1961 - acc: 0.9285 - val_loss: 0.2601 - val_acc: 0.8991\n",
      "Epoch 6/50\n",
      "10474/10474 [==============================] - 1s 112us/step - loss: 0.1814 - acc: 0.9379 - val_loss: 0.3269 - val_acc: 0.8873\n",
      "Epoch 7/50\n",
      "10474/10474 [==============================] - 1s 113us/step - loss: 0.1785 - acc: 0.9382 - val_loss: 0.4430 - val_acc: 0.8878\n",
      "Epoch 8/50\n",
      "10474/10474 [==============================] - 1s 114us/step - loss: 0.1682 - acc: 0.9415 - val_loss: 0.2703 - val_acc: 0.9051\n",
      "Epoch 9/50\n",
      "10474/10474 [==============================] - 1s 107us/step - loss: 0.1613 - acc: 0.9428 - val_loss: 0.2456 - val_acc: 0.9137\n",
      "Epoch 10/50\n",
      "10474/10474 [==============================] - 1s 107us/step - loss: 0.1510 - acc: 0.9454 - val_loss: 0.4448 - val_acc: 0.8738\n",
      "Epoch 11/50\n",
      "10474/10474 [==============================] - 1s 111us/step - loss: 0.1488 - acc: 0.9477 - val_loss: 0.3000 - val_acc: 0.9009\n",
      "Epoch 12/50\n",
      "10474/10474 [==============================] - 1s 111us/step - loss: 0.1550 - acc: 0.9447 - val_loss: 0.2832 - val_acc: 0.9113\n",
      "Epoch 13/50\n",
      "10474/10474 [==============================] - 1s 116us/step - loss: 0.1553 - acc: 0.9490 - val_loss: 0.3054 - val_acc: 0.9116\n",
      "Epoch 14/50\n",
      "10474/10474 [==============================] - 1s 112us/step - loss: 0.1470 - acc: 0.9503 - val_loss: 0.3329 - val_acc: 0.8957\n",
      "Epoch 15/50\n",
      "10474/10474 [==============================] - 1s 113us/step - loss: 0.1496 - acc: 0.9492 - val_loss: 0.4653 - val_acc: 0.8756\n",
      "Epoch 16/50\n",
      "10474/10474 [==============================] - 1s 113us/step - loss: 0.1487 - acc: 0.9491 - val_loss: 0.2461 - val_acc: 0.9124\n",
      "Epoch 17/50\n",
      "10474/10474 [==============================] - 1s 113us/step - loss: 0.1381 - acc: 0.9528 - val_loss: 0.2919 - val_acc: 0.8991\n",
      "Epoch 18/50\n",
      "10474/10474 [==============================] - 1s 114us/step - loss: 0.1386 - acc: 0.9517 - val_loss: 0.2668 - val_acc: 0.9082\n",
      "Epoch 19/50\n",
      "10474/10474 [==============================] - 1s 112us/step - loss: 0.1289 - acc: 0.9552 - val_loss: 0.3367 - val_acc: 0.8970\n",
      "Epoch 20/50\n",
      "10474/10474 [==============================] - 1s 113us/step - loss: 0.1291 - acc: 0.9558 - val_loss: 0.3982 - val_acc: 0.8928\n",
      "Epoch 21/50\n",
      "10474/10474 [==============================] - 1s 115us/step - loss: 0.1273 - acc: 0.9546 - val_loss: 0.2876 - val_acc: 0.9098\n",
      "Epoch 22/50\n",
      "10474/10474 [==============================] - 1s 113us/step - loss: 0.1249 - acc: 0.9549 - val_loss: 0.2403 - val_acc: 0.9184\n",
      "Epoch 23/50\n",
      "10474/10474 [==============================] - 1s 112us/step - loss: 0.1197 - acc: 0.9610 - val_loss: 0.3545 - val_acc: 0.9011\n",
      "Epoch 24/50\n",
      "10474/10474 [==============================] - 1s 112us/step - loss: 0.1204 - acc: 0.9575 - val_loss: 0.3564 - val_acc: 0.9009\n",
      "Epoch 25/50\n",
      "10474/10474 [==============================] - 1s 112us/step - loss: 0.1174 - acc: 0.9596 - val_loss: 0.4881 - val_acc: 0.8949\n",
      "Epoch 26/50\n",
      "10474/10474 [==============================] - 1s 113us/step - loss: 0.1282 - acc: 0.9562 - val_loss: 0.3035 - val_acc: 0.9056\n",
      "Epoch 27/50\n",
      "10474/10474 [==============================] - 1s 113us/step - loss: 0.1207 - acc: 0.9601 - val_loss: 0.3445 - val_acc: 0.9058\n",
      "Epoch 28/50\n",
      "10474/10474 [==============================] - 1s 115us/step - loss: 0.1167 - acc: 0.9589 - val_loss: 0.3025 - val_acc: 0.9105\n",
      "Epoch 29/50\n",
      "10474/10474 [==============================] - 1s 113us/step - loss: 0.1070 - acc: 0.9652 - val_loss: 0.3175 - val_acc: 0.9147\n",
      "Epoch 30/50\n",
      "10474/10474 [==============================] - 1s 112us/step - loss: 0.1118 - acc: 0.9627 - val_loss: 0.3132 - val_acc: 0.9137\n",
      "Epoch 31/50\n",
      "10474/10474 [==============================] - 1s 112us/step - loss: 0.1083 - acc: 0.9626 - val_loss: 0.2935 - val_acc: 0.9155\n",
      "Epoch 32/50\n",
      "10474/10474 [==============================] - 1s 112us/step - loss: 0.1099 - acc: 0.9642 - val_loss: 0.3591 - val_acc: 0.9173\n",
      "Epoch 33/50\n",
      "10474/10474 [==============================] - 1s 111us/step - loss: 0.0968 - acc: 0.9672 - val_loss: 0.3240 - val_acc: 0.9121\n",
      "Epoch 34/50\n",
      "10474/10474 [==============================] - 1s 113us/step - loss: 0.0997 - acc: 0.9669 - val_loss: 0.2940 - val_acc: 0.9137\n",
      "Epoch 35/50\n",
      "10474/10474 [==============================] - 1s 112us/step - loss: 0.1102 - acc: 0.9634 - val_loss: 0.3874 - val_acc: 0.9124\n",
      "Epoch 36/50\n",
      "10474/10474 [==============================] - 1s 114us/step - loss: 0.0971 - acc: 0.9682 - val_loss: 0.3199 - val_acc: 0.9173\n",
      "Epoch 37/50\n",
      "10474/10474 [==============================] - 1s 112us/step - loss: 0.1077 - acc: 0.9651 - val_loss: 0.3776 - val_acc: 0.9131\n",
      "Epoch 38/50\n",
      "10474/10474 [==============================] - 1s 113us/step - loss: 0.1033 - acc: 0.9653 - val_loss: 0.4181 - val_acc: 0.9098\n",
      "Epoch 39/50\n",
      "10474/10474 [==============================] - 1s 112us/step - loss: 0.1131 - acc: 0.9673 - val_loss: 0.3530 - val_acc: 0.9210\n",
      "Epoch 40/50\n",
      "10474/10474 [==============================] - 1s 112us/step - loss: 0.1087 - acc: 0.9664 - val_loss: 0.2927 - val_acc: 0.9215\n",
      "Epoch 41/50\n",
      "10474/10474 [==============================] - 1s 112us/step - loss: 0.0966 - acc: 0.9678 - val_loss: 0.5649 - val_acc: 0.8920\n",
      "Epoch 42/50\n",
      "10474/10474 [==============================] - 1s 112us/step - loss: 0.0927 - acc: 0.9711 - val_loss: 0.3346 - val_acc: 0.9121\n",
      "Epoch 43/50\n",
      "10474/10474 [==============================] - 1s 112us/step - loss: 0.0837 - acc: 0.9725 - val_loss: 0.4200 - val_acc: 0.9064\n",
      "Epoch 44/50\n",
      "10474/10474 [==============================] - 1s 112us/step - loss: 0.0825 - acc: 0.9715 - val_loss: 0.3719 - val_acc: 0.9079\n",
      "Epoch 45/50\n",
      "10474/10474 [==============================] - 1s 113us/step - loss: 0.0861 - acc: 0.9731 - val_loss: 0.4419 - val_acc: 0.9158\n",
      "Epoch 46/50\n",
      "10474/10474 [==============================] - 1s 112us/step - loss: 0.0880 - acc: 0.9707 - val_loss: 0.4240 - val_acc: 0.9056\n",
      "Epoch 47/50\n",
      "10474/10474 [==============================] - 1s 111us/step - loss: 0.0922 - acc: 0.9714 - val_loss: 0.4318 - val_acc: 0.9064\n",
      "Epoch 48/50\n",
      "10474/10474 [==============================] - 1s 112us/step - loss: 0.0899 - acc: 0.9706 - val_loss: 0.3190 - val_acc: 0.9090\n",
      "Epoch 49/50\n",
      "10474/10474 [==============================] - 1s 113us/step - loss: 0.0886 - acc: 0.9708 - val_loss: 0.3504 - val_acc: 0.9126\n",
      "Epoch 50/50\n",
      "10474/10474 [==============================] - 1s 113us/step - loss: 0.0859 - acc: 0.9736 - val_loss: 0.2867 - val_acc: 0.9111\n"
     ]
    },
    {
     "data": {
      "text/plain": [
       "<keras.callbacks.History at 0x217a5ba9128>"
      ]
     },
     "execution_count": 8,
     "metadata": {},
     "output_type": "execute_result"
    }
   ],
   "source": [
    "opt = Adam(lr=0.01)\n",
    "model_unidim.compile(optimizer = opt, loss = \"categorical_crossentropy\", metrics = [\"accuracy\"])\n",
    "\n",
    "model_unidim.fit(x = X_train_s, y = Y_train_s, epochs = 50, batch_size = 128, validation_data=(X_test_s, Y_test_s))"
   ]
  },
  {
   "cell_type": "code",
   "execution_count": 9,
   "metadata": {},
   "outputs": [],
   "source": [
    "# predict labels\n",
    "Y_pred_s = model_unidim.predict(X_test_s)"
   ]
  },
  {
   "cell_type": "code",
   "execution_count": 10,
   "metadata": {},
   "outputs": [
    {
     "name": "stdout",
     "output_type": "stream",
     "text": [
      "F1-measure:  0.9113645456495558\n",
      "AUC w.r. to each class:  {0: 0.9552699058486095, 1: 0.9552695161491459}\n"
     ]
    },
    {
     "data": {
      "image/png": "[encoded data removed]",
      "text/plain": [
       "<Figure size 432x288 with 2 Axes>"
      ]
     },
     "metadata": {},
     "output_type": "display_data"
    }
   ],
   "source": [
    "# print results\n",
    "#reverse the one-ot encoder procedure\n",
    "Y_test_hard = np.argmax(Y_test_s, axis=1)\n",
    "Y_pred_hard = np.argmax(Y_pred_s, axis=1)\n",
    "\n",
    "print(\"F1-measure: \", utils.f1_score(Y_test_hard, Y_pred_hard, average='weighted'))\n",
    "print(\"AUC w.r. to each class: \", utils.AUC(Y_test_s, Y_pred_s, classes))\n",
    "\n",
    "# Compute and plot confusion matrix\n",
    "cnf_matrix = utils.confusion_matrix(Y_test_hard, Y_pred_hard)\n",
    "np.set_printoptions(precision=2)\n",
    "\n",
    "plt.figure()\n",
    "utils.plot_confusion_matrix(cnf_matrix, classes=[1,2],\n",
    "                      title='Confusion matrix, without normalization')"
   ]
  },
  {
   "cell_type": "markdown",
   "metadata": {},
   "source": [
    "## Task B2: gesture recognition\n",
    "This task consists of a 17-class classification, where gestures are labeled in column 6.\n",
    "\n",
    "To tune the following parameters, refer to the first cell of task B1:\n",
    "- subject: select the subject on which to test the model, between [1,4];\n",
    "- folder: directory name where '.mat' files are stored;\n",
    "- label_col: index of feature column to be selected to perform activity detection, between [0,6];\n",
    "- window_size: parameter that sets the length of temporal windows on which to perform the convolution;\n",
    "- stride: step length to chose the next window.\n",
    "\n",
    "Here we just need to preserve the different labels, thus we set 'make_binary' to False. We have then 18 different labels, keeping into account the null class, with label 0."
   ]
  },
  {
   "cell_type": "code",
   "execution_count": 11,
   "metadata": {},
   "outputs": [],
   "source": [
    "make_binary = False"
   ]
  },
  {
   "cell_type": "code",
   "execution_count": 12,
   "metadata": {},
   "outputs": [
    {
     "name": "stdout",
     "output_type": "stream",
     "text": [
      "\n",
      "Session shapes:\n",
      "ADL1:   (45810, 110)\n",
      "ADL2:   (28996, 110)\n",
      "ADL3:   (30167, 110)\n",
      "ADL4:   (30228, 110)\n",
      "ADL5:   (27308, 110)\n",
      "Drill:  (52152, 110)\n",
      "\n",
      "Training samples:  157125 \n",
      "Test samples:       57536 \n",
      "Features:             110\n",
      "\n",
      "Classes in training set:  18 \n",
      "Classes in test set:      18\n"
     ]
    }
   ],
   "source": [
    "# import all sessions for a subject\n",
    "(data1, data2, data3, data4, data5, data6) = utils.loadData(subject, folder=folder)\n",
    "\n",
    "# create training set and test set\n",
    "X_train = np.concatenate((data1['features_interp'],\\\n",
    "                          data2['features_interp'],\\\n",
    "                          data3['features_interp'],\\\n",
    "                          data6['features_interp']), axis=0)\n",
    "\n",
    "Y_train = np.concatenate((data1['labels_cut'][:,label_col],\\\n",
    "                          data2['labels_cut'][:,label_col],\\\n",
    "                          data3['labels_cut'][:,label_col],\\\n",
    "                          data6['labels_cut'][:,label_col]), axis=0)\n",
    "\n",
    "X_test = np.concatenate((data4['features_interp'],\\\n",
    "                         data5['features_interp']), axis=0)\n",
    "\n",
    "Y_test = np.concatenate((data4['labels_cut'][:,label_col],\\\n",
    "                         data5['labels_cut'][:,label_col]))\n",
    "\n",
    "features = X_test.shape[1]\n",
    "print(\"\\nTraining samples: \", X_train.shape[0],\\\n",
    "      \"\\nTest samples:      \", X_test.shape[0],\\\n",
    "      \"\\nFeatures:            \", features)\n",
    "\n",
    "# decision to overcome the problem of entire missing columns\n",
    "X_train = np.nan_to_num(X_train)\n",
    "X_test = np.nan_to_num(X_test)\n",
    "\n",
    "# features normalization\n",
    "scaler = StandardScaler().fit(X_train)\n",
    "X_train =scaler.transform(X_train)\n",
    "X_test = scaler.transform(X_test)\n",
    "\n",
    "# make the problem binary\n",
    "if make_binary:\n",
    "    Y_train[Y_train != 0] = 1\n",
    "    Y_test[Y_test != 0] = 1\n",
    "\n",
    "# switch to one hot encoded labels\n",
    "onehot_encoder = OneHotEncoder(sparse=False)\n",
    "Y_train_oh = onehot_encoder.fit_transform(Y_train.reshape(-1, 1))\n",
    "Y_test_oh = onehot_encoder.fit_transform(Y_test.reshape(-1, 1))\n",
    "print(\"\\nClasses in training set: \", Y_train_oh.shape[1],\\\n",
    "      \"\\nClasses in test set:     \", Y_test_oh.shape[1])"
   ]
  },
  {
   "cell_type": "code",
   "execution_count": 13,
   "metadata": {},
   "outputs": [
    {
     "name": "stdout",
     "output_type": "stream",
     "text": [
      "Training set:\n",
      "\n",
      "Features have shape:  (3491, 15, 110) \n",
      "Labels have shape:    (3491, 17) \n",
      "Fraction of labels:   [0.04 0.04 0.03 0.06 0.06 0.04 0.05 0.04 0.04 0.05 0.04 0.06 0.07 0.03\n",
      " 0.05 0.24 0.05]\n",
      "Test set:\n",
      "\n",
      "Features have shape:  (863, 15, 110) \n",
      "Labels have shape:    (863, 17) \n",
      "Fraction of labels:   [0.03 0.02 0.03 0.06 0.05 0.02 0.08 0.05 0.03 0.04 0.03 0.07 0.06 0.01\n",
      " 0.07 0.31 0.03]\n"
     ]
    }
   ],
   "source": [
    "import utils\n",
    "print(\"Training set:\")\n",
    "X_train_s, Y_train_s = utils.prepareData(X_train, Y_train_oh, window_size, stride, shuffle=False, null_class=False)\n",
    "print(\"Test set:\")\n",
    "X_test_s, Y_test_s = utils.prepareData(X_test, Y_test_oh, window_size, stride, shuffle=False, null_class=False)\n",
    "# add bars plot"
   ]
  },
  {
   "cell_type": "code",
   "execution_count": 18,
   "metadata": {},
   "outputs": [],
   "source": [
    "classes = np.max((Y_train_s.shape[1], Y_test_s.shape[1]))"
   ]
  },
  {
   "cell_type": "code",
   "execution_count": 19,
   "metadata": {},
   "outputs": [
    {
     "name": "stdout",
     "output_type": "stream",
     "text": [
      "_________________________________________________________________\n",
      "Layer (type)                 Output Shape              Param #   \n",
      "=================================================================\n",
      "conv1d_7 (Conv1D)            (None, 15, 18)            9918      \n",
      "_________________________________________________________________\n",
      "batch_normalization_7 (Batch (None, 15, 18)            72        \n",
      "_________________________________________________________________\n",
      "leaky_re_lu_9 (LeakyReLU)    (None, 15, 18)            0         \n",
      "_________________________________________________________________\n",
      "max_pooling1d_7 (MaxPooling1 (None, 8, 18)             0         \n",
      "_________________________________________________________________\n",
      "conv1d_8 (Conv1D)            (None, 8, 36)             4572      \n",
      "_________________________________________________________________\n",
      "batch_normalization_8 (Batch (None, 8, 36)             144       \n",
      "_________________________________________________________________\n",
      "leaky_re_lu_10 (LeakyReLU)   (None, 8, 36)             0         \n",
      "_________________________________________________________________\n",
      "max_pooling1d_8 (MaxPooling1 (None, 4, 36)             0         \n",
      "_________________________________________________________________\n",
      "dropout_5 (Dropout)          (None, 4, 36)             0         \n",
      "_________________________________________________________________\n",
      "conv1d_9 (Conv1D)            (None, 4, 72)             18216     \n",
      "_________________________________________________________________\n",
      "batch_normalization_9 (Batch (None, 4, 72)             288       \n",
      "_________________________________________________________________\n",
      "leaky_re_lu_11 (LeakyReLU)   (None, 4, 72)             0         \n",
      "_________________________________________________________________\n",
      "max_pooling1d_9 (MaxPooling1 (None, 2, 72)             0         \n",
      "_________________________________________________________________\n",
      "flatten_3 (Flatten)          (None, 144)               0         \n",
      "_________________________________________________________________\n",
      "dense_5 (Dense)              (None, 64)                9280      \n",
      "_________________________________________________________________\n",
      "leaky_re_lu_12 (LeakyReLU)   (None, 64)                0         \n",
      "_________________________________________________________________\n",
      "dropout_6 (Dropout)          (None, 64)                0         \n",
      "_________________________________________________________________\n",
      "dense_6 (Dense)              (None, 17)                1105      \n",
      "_________________________________________________________________\n",
      "activation_3 (Activation)    (None, 17)                0         \n",
      "=================================================================\n",
      "Total params: 43,595\n",
      "Trainable params: 43,343\n",
      "Non-trainable params: 252\n",
      "_________________________________________________________________\n"
     ]
    }
   ],
   "source": [
    "model_unidim = utils.Model1D((window_size, features), classes)"
   ]
  },
  {
   "cell_type": "code",
   "execution_count": 20,
   "metadata": {},
   "outputs": [
    {
     "name": "stdout",
     "output_type": "stream",
     "text": [
      "Train on 3491 samples, validate on 863 samples\n",
      "Epoch 1/50\n",
      "3491/3491 [==============================] - 2s 621us/step - loss: 2.1070 - acc: 0.5107 - val_loss: 1.8029 - val_acc: 0.6338\n",
      "Epoch 2/50\n",
      "3491/3491 [==============================] - 0s 115us/step - loss: 1.0573 - acc: 0.6795 - val_loss: 1.2100 - val_acc: 0.6663\n",
      "Epoch 3/50\n",
      "3491/3491 [==============================] - 0s 113us/step - loss: 0.8613 - acc: 0.7133 - val_loss: 1.1436 - val_acc: 0.6732\n",
      "Epoch 4/50\n",
      "3491/3491 [==============================] - 0s 115us/step - loss: 0.7439 - acc: 0.7462 - val_loss: 1.1648 - val_acc: 0.6651\n",
      "Epoch 5/50\n",
      "3491/3491 [==============================] - 0s 116us/step - loss: 0.6937 - acc: 0.7605 - val_loss: 1.1301 - val_acc: 0.6906\n",
      "Epoch 6/50\n",
      "3491/3491 [==============================] - 0s 111us/step - loss: 0.6595 - acc: 0.7663 - val_loss: 1.0862 - val_acc: 0.7080\n",
      "Epoch 7/50\n",
      "3491/3491 [==============================] - 0s 113us/step - loss: 0.6385 - acc: 0.7763 - val_loss: 1.2054 - val_acc: 0.6883\n",
      "Epoch 8/50\n",
      "3491/3491 [==============================] - 0s 113us/step - loss: 0.6269 - acc: 0.7797 - val_loss: 1.3398 - val_acc: 0.6825\n",
      "Epoch 9/50\n",
      "3491/3491 [==============================] - 0s 112us/step - loss: 0.6095 - acc: 0.7903 - val_loss: 1.0781 - val_acc: 0.7126\n",
      "Epoch 10/50\n",
      "3491/3491 [==============================] - 0s 112us/step - loss: 0.5771 - acc: 0.7958 - val_loss: 1.0100 - val_acc: 0.7474\n",
      "Epoch 11/50\n",
      "3491/3491 [==============================] - 0s 114us/step - loss: 0.6044 - acc: 0.7958 - val_loss: 1.0915 - val_acc: 0.7080\n",
      "Epoch 12/50\n",
      "3491/3491 [==============================] - 0s 115us/step - loss: 0.5923 - acc: 0.7969 - val_loss: 1.3972 - val_acc: 0.7068\n",
      "Epoch 13/50\n",
      "3491/3491 [==============================] - 0s 115us/step - loss: 0.5816 - acc: 0.8012 - val_loss: 1.2775 - val_acc: 0.7242\n",
      "Epoch 14/50\n",
      "3491/3491 [==============================] - 0s 112us/step - loss: 0.5532 - acc: 0.8190 - val_loss: 1.0530 - val_acc: 0.7509\n",
      "Epoch 15/50\n",
      "3491/3491 [==============================] - 0s 113us/step - loss: 0.5573 - acc: 0.8181 - val_loss: 1.0077 - val_acc: 0.7659\n",
      "Epoch 16/50\n",
      "3491/3491 [==============================] - 0s 114us/step - loss: 0.5289 - acc: 0.8373 - val_loss: 1.0306 - val_acc: 0.7636\n",
      "Epoch 17/50\n",
      "3491/3491 [==============================] - 0s 113us/step - loss: 0.4540 - acc: 0.8611 - val_loss: 1.0228 - val_acc: 0.7578\n",
      "Epoch 18/50\n",
      "3491/3491 [==============================] - 0s 112us/step - loss: 0.4782 - acc: 0.8565 - val_loss: 1.0656 - val_acc: 0.7335\n",
      "Epoch 19/50\n",
      "3491/3491 [==============================] - 0s 115us/step - loss: 0.4780 - acc: 0.8510 - val_loss: 1.1327 - val_acc: 0.7416\n",
      "Epoch 20/50\n",
      "3491/3491 [==============================] - 0s 115us/step - loss: 0.4855 - acc: 0.8536 - val_loss: 1.0827 - val_acc: 0.7590\n",
      "Epoch 21/50\n",
      "3491/3491 [==============================] - 0s 112us/step - loss: 0.4267 - acc: 0.8722 - val_loss: 0.9646 - val_acc: 0.7822\n",
      "Epoch 22/50\n",
      "3491/3491 [==============================] - 0s 114us/step - loss: 0.4665 - acc: 0.8585 - val_loss: 0.9625 - val_acc: 0.7555\n",
      "Epoch 23/50\n",
      "3491/3491 [==============================] - 0s 112us/step - loss: 0.4412 - acc: 0.8740 - val_loss: 1.0492 - val_acc: 0.7601\n",
      "Epoch 24/50\n",
      "3491/3491 [==============================] - 0s 113us/step - loss: 0.4356 - acc: 0.8688 - val_loss: 1.1316 - val_acc: 0.7300\n",
      "Epoch 25/50\n",
      "3491/3491 [==============================] - 0s 116us/step - loss: 0.4135 - acc: 0.8820 - val_loss: 1.2193 - val_acc: 0.7416\n",
      "Epoch 26/50\n",
      "3491/3491 [==============================] - 0s 114us/step - loss: 0.4367 - acc: 0.8671 - val_loss: 1.1291 - val_acc: 0.7567\n",
      "Epoch 27/50\n",
      "3491/3491 [==============================] - 0s 115us/step - loss: 0.4125 - acc: 0.8791 - val_loss: 1.1830 - val_acc: 0.7509\n",
      "Epoch 28/50\n",
      "3491/3491 [==============================] - 0s 115us/step - loss: 0.4010 - acc: 0.8817 - val_loss: 1.3060 - val_acc: 0.7439\n",
      "Epoch 29/50\n",
      "3491/3491 [==============================] - 0s 112us/step - loss: 0.3968 - acc: 0.8820 - val_loss: 1.3855 - val_acc: 0.7312\n",
      "Epoch 30/50\n",
      "3491/3491 [==============================] - 0s 115us/step - loss: 0.4113 - acc: 0.8805 - val_loss: 1.2403 - val_acc: 0.7532\n",
      "Epoch 31/50\n",
      "3491/3491 [==============================] - 0s 114us/step - loss: 0.3668 - acc: 0.8937 - val_loss: 1.2272 - val_acc: 0.7289\n",
      "Epoch 32/50\n",
      "3491/3491 [==============================] - 0s 109us/step - loss: 0.3636 - acc: 0.8975 - val_loss: 1.1900 - val_acc: 0.7393\n",
      "Epoch 33/50\n",
      "3491/3491 [==============================] - 0s 113us/step - loss: 0.3689 - acc: 0.8980 - val_loss: 1.2390 - val_acc: 0.7648\n",
      "Epoch 34/50\n",
      "3491/3491 [==============================] - 0s 115us/step - loss: 0.3835 - acc: 0.8917 - val_loss: 1.1203 - val_acc: 0.7648\n",
      "Epoch 35/50\n",
      "3491/3491 [==============================] - 0s 116us/step - loss: 0.3642 - acc: 0.9038 - val_loss: 1.2771 - val_acc: 0.7184\n",
      "Epoch 36/50\n",
      "3491/3491 [==============================] - 0s 109us/step - loss: 0.4063 - acc: 0.8863 - val_loss: 1.1729 - val_acc: 0.7567\n",
      "Epoch 37/50\n",
      "3491/3491 [==============================] - 0s 111us/step - loss: 0.3820 - acc: 0.9003 - val_loss: 1.1222 - val_acc: 0.7717\n",
      "Epoch 38/50\n",
      "3491/3491 [==============================] - 0s 114us/step - loss: 0.3727 - acc: 0.8932 - val_loss: 1.0597 - val_acc: 0.7937\n",
      "Epoch 39/50\n",
      "3491/3491 [==============================] - 0s 118us/step - loss: 0.3746 - acc: 0.9017 - val_loss: 1.0670 - val_acc: 0.7636\n",
      "Epoch 40/50\n",
      "3491/3491 [==============================] - 0s 114us/step - loss: 0.3223 - acc: 0.9149 - val_loss: 1.0732 - val_acc: 0.7822\n",
      "Epoch 41/50\n",
      "3491/3491 [==============================] - 0s 113us/step - loss: 0.3130 - acc: 0.9189 - val_loss: 1.0498 - val_acc: 0.7822\n",
      "Epoch 42/50\n",
      "3491/3491 [==============================] - 0s 116us/step - loss: 0.3236 - acc: 0.9123 - val_loss: 1.1041 - val_acc: 0.7648\n",
      "Epoch 43/50\n",
      "3491/3491 [==============================] - 0s 113us/step - loss: 0.3383 - acc: 0.9038 - val_loss: 1.1207 - val_acc: 0.7613\n",
      "Epoch 44/50\n",
      "3491/3491 [==============================] - 0s 111us/step - loss: 0.3652 - acc: 0.9000 - val_loss: 1.1645 - val_acc: 0.7439\n",
      "Epoch 45/50\n",
      "3491/3491 [==============================] - 0s 111us/step - loss: 0.3244 - acc: 0.9132 - val_loss: 1.0538 - val_acc: 0.7729\n",
      "Epoch 46/50\n",
      "3491/3491 [==============================] - 0s 113us/step - loss: 0.3246 - acc: 0.9144 - val_loss: 1.1629 - val_acc: 0.7590\n",
      "Epoch 47/50\n",
      "3491/3491 [==============================] - 0s 112us/step - loss: 0.3798 - acc: 0.8995 - val_loss: 1.3473 - val_acc: 0.7717\n",
      "Epoch 48/50\n",
      "3491/3491 [==============================] - 0s 112us/step - loss: 0.3361 - acc: 0.9132 - val_loss: 1.2623 - val_acc: 0.7404\n",
      "Epoch 49/50\n",
      "3491/3491 [==============================] - 0s 112us/step - loss: 0.3359 - acc: 0.9138 - val_loss: 1.2107 - val_acc: 0.7659\n",
      "Epoch 50/50\n",
      "3491/3491 [==============================] - 0s 114us/step - loss: 0.3355 - acc: 0.9112 - val_loss: 1.1653 - val_acc: 0.7671\n"
     ]
    },
    {
     "data": {
      "text/plain": [
       "<keras.callbacks.History at 0x217c6174518>"
      ]
     },
     "execution_count": 20,
     "metadata": {},
     "output_type": "execute_result"
    }
   ],
   "source": [
    "opt = Adam(lr=0.01)\n",
    "model_unidim.compile(optimizer = opt, loss = \"categorical_crossentropy\", metrics = [\"accuracy\"])\n",
    "\n",
    "model_unidim.fit(x = X_train_s, y = Y_train_s, epochs = 50, batch_size = 128, validation_data=(X_test_s, Y_test_s))"
   ]
  },
  {
   "cell_type": "code",
   "execution_count": 21,
   "metadata": {},
   "outputs": [],
   "source": [
    "# predict labels\n",
    "Y_pred_s = model_unidim.predict(X_test_s)"
   ]
  },
  {
   "cell_type": "code",
   "execution_count": 22,
   "metadata": {},
   "outputs": [
    {
     "name": "stdout",
     "output_type": "stream",
     "text": [
      "F1-measure:  0.7610596490583601\n",
      "AUC w.r. to each class:  {0: 0.9204911932522948, 1: 0.9767560230743129, 2: 0.9575030012004802, 3: 0.9805580558055805, 4: 0.9925907425907426, 5: 0.9917550058892814, 6: 0.9466140275999431, 7: 0.959360219068957, 8: 0.9456324582338902, 9: 0.9823588709677419, 10: 0.9582207328937412, 11: 0.9827579365079365, 12: 0.9879137481115232, 13: 0.9376224050137094, 14: 0.9849730178497302, 15: 0.9999812628817688, 16: 1.0}\n"
     ]
    },
    {
     "data": {
      "image/png": "[encoded data removed]",
      "text/plain": [
       "<Figure size 432x288 with 2 Axes>"
      ]
     },
     "metadata": {},
     "output_type": "display_data"
    }
   ],
   "source": [
    "# print results\n",
    "#reverse the one-ot encoder procedure\n",
    "Y_test_hard = np.argmax(Y_test_s, axis=1)\n",
    "Y_pred_hard = np.argmax(Y_pred_s, axis=1)\n",
    "\n",
    "print(\"F1-measure: \", utils.f1_score(Y_test_hard, Y_pred_hard, average='weighted'))\n",
    "print(\"AUC w.r. to each class: \", utils.AUC(Y_test_s, Y_pred_s, classes))\n",
    "\n",
    "# Compute and plot confusion matrix\n",
    "cnf_matrix = utils.confusion_matrix(Y_test_hard, Y_pred_hard)\n",
    "np.set_printoptions(precision=2)\n",
    "\n",
    "plt.figure()\n",
    "utils.plot_confusion_matrix(cnf_matrix, classes=[1,2],\n",
    "                      title='Confusion matrix, without normalization')"
   ]
  },
  {
   "cell_type": "code",
   "execution_count": null,
   "metadata": {},
   "outputs": [],
   "source": []
  }
 ],
 "metadata": {
  "kernelspec": {
   "display_name": "Python 3",
   "language": "python",
   "name": "python3"
  },
  "language_info": {
   "codemirror_mode": {
    "name": "ipython",
    "version": 3
   },
   "file_extension": ".py",
   "mimetype": "text/x-python",
   "name": "python",
   "nbconvert_exporter": "python",
   "pygments_lexer": "ipython3",
   "version": "3.6.4"
  }
 },
 "nbformat": 4,
 "nbformat_minor": 2
}
