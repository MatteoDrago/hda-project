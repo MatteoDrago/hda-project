{
 "cells": [
  {
   "cell_type": "markdown",
   "metadata": {},
   "source": [
    "# HDA - Project 3\n",
    "## TASK B1: Activity detection\n",
    "This task consists of a binary classification, where a gesture denotes activity and thus the model detects wheter there is a gesture label or not (labeled in column 6).\n",
    "\n",
    "This first cell contains the parameters that can be tuned for code execution:\n",
    "- subject: select the subject on which to test the model, between [1,4];\n",
    "- folder: directory name where '.mat' files are stored;\n",
    "- label_col: index of feature column to be selected to perform activity detection, between [0,6];\n",
    "- window_size: parameter that sets the length of temporal windows on which to perform the convolution;\n",
    "- stride: step length to chose the next window."
   ]
  },
  {
   "cell_type": "code",
   "execution_count": 1,
   "metadata": {},
   "outputs": [],
   "source": [
    "subject = 1\n",
    "folder = \"./data/\"\n",
    "label_col = 0     # 6 is default for task B1\n",
    "window_size = 15\n",
    "stride = 15\n",
    "make_binary = True"
   ]
  },
  {
   "cell_type": "code",
   "execution_count": 2,
   "metadata": {},
   "outputs": [
    {
     "name": "stderr",
     "output_type": "stream",
     "text": [
      "Using TensorFlow backend.\n"
     ]
    }
   ],
   "source": [
    "import utils\n",
    "import numpy as np\n",
    "from sklearn.preprocessing import OneHotEncoder, StandardScaler\n",
    "import matplotlib.pyplot as plt\n",
    "from keras.optimizers import Adam"
   ]
  },
  {
   "cell_type": "markdown",
   "metadata": {},
   "source": [
    "Creation of training set and test set"
   ]
  },
  {
   "cell_type": "code",
   "execution_count": 3,
   "metadata": {},
   "outputs": [
    {
     "name": "stdout",
     "output_type": "stream",
     "text": [
      "\n",
      "Session shapes:\n",
      "ADL1:   (45810, 110)\n",
      "ADL2:   (28996, 110)\n",
      "ADL3:   (30167, 110)\n",
      "ADL4:   (30228, 110)\n",
      "ADL5:   (27308, 110)\n",
      "Drill:  (52152, 110)\n",
      "\n",
      "Training samples:  157125 \n",
      "Test samples:       57536 \n",
      "Features:             110\n",
      "\n",
      "Classes in training set:  2 \n",
      "Classes in test set:      2\n"
     ]
    }
   ],
   "source": [
    "# import all sessions for a subject\n",
    "(data1, data2, data3, data4, data5, data6) = utils.loadData(subject, folder=folder)\n",
    "\n",
    "# create training set and test set\n",
    "X_train = np.concatenate((data1['features_interp'],\\\n",
    "                          data2['features_interp'],\\\n",
    "                          data3['features_interp'],\\\n",
    "                          data6['features_interp']), axis=0)\n",
    "\n",
    "Y_train = np.concatenate((data1['labels_cut'][:,label_col],\\\n",
    "                          data2['labels_cut'][:,label_col],\\\n",
    "                          data3['labels_cut'][:,label_col],\\\n",
    "                          data6['labels_cut'][:,label_col]), axis=0)\n",
    "\n",
    "X_test = np.concatenate((data4['features_interp'],\\\n",
    "                         data5['features_interp']), axis=0)\n",
    "\n",
    "Y_test = np.concatenate((data4['labels_cut'][:,label_col],\\\n",
    "                         data5['labels_cut'][:,label_col]))\n",
    "\n",
    "features = X_test.shape[1]\n",
    "print(\"\\nTraining samples: \", X_train.shape[0],\\\n",
    "      \"\\nTest samples:      \", X_test.shape[0],\\\n",
    "      \"\\nFeatures:            \", features)\n",
    "\n",
    "# decision to overcome the problem of entire missing columns\n",
    "X_train = np.nan_to_num(X_train)\n",
    "X_test = np.nan_to_num(X_test)\n",
    "\n",
    "# features normalization\n",
    "scaler = StandardScaler().fit(X_train)\n",
    "X_train =scaler.transform(X_train)\n",
    "X_test = scaler.transform(X_test)\n",
    "\n",
    "# make the problem binary\n",
    "if make_binary:\n",
    "    Y_train[Y_train != 0] = 1\n",
    "    Y_test[Y_test != 0] = 1\n",
    "\n",
    "# switch to one hot encoded labels\n",
    "onehot_encoder = OneHotEncoder(sparse=False)\n",
    "Y_train_oh = onehot_encoder.fit_transform(Y_train.reshape(-1, 1))\n",
    "Y_test_oh = onehot_encoder.fit_transform(Y_test.reshape(-1, 1))\n",
    "print(\"\\nClasses in training set: \", Y_train_oh.shape[1],\\\n",
    "      \"\\nClasses in test set:     \", Y_test_oh.shape[1])"
   ]
  },
  {
   "cell_type": "markdown",
   "metadata": {},
   "source": [
    "Preparation of data in a input-suitable form"
   ]
  },
  {
   "cell_type": "code",
   "execution_count": 4,
   "metadata": {},
   "outputs": [
    {
     "name": "stdout",
     "output_type": "stream",
     "text": [
      "Training set:\n",
      "<class 'numpy.ndarray'> (10474, 15, 110) <class 'numpy.ndarray'> (10474, 2)\n",
      "\n",
      "Features have shape:  (10474, 15, 110) \n",
      "Labels have shape:    (10474, 2) \n",
      "Fraction of labels:   [0.11065496 0.88934504]\n",
      "\n",
      "Test set:\n",
      "<class 'numpy.ndarray'> (3834, 15, 110) <class 'numpy.ndarray'> (3834, 2)\n",
      "\n",
      "Features have shape:  (3834, 15, 110) \n",
      "Labels have shape:    (3834, 2) \n",
      "Fraction of labels:   [0.17736046 0.82263954]\n"
     ]
    }
   ],
   "source": [
    "print(\"Training set:\")\n",
    "X_train_s, Y_train_s = utils.prepareData(X_train, Y_train_oh, window_size, stride, shuffle=False)\n",
    "print(\"\\nTest set:\")\n",
    "X_test_s, Y_test_s = utils.prepareData(X_test, Y_test_oh, window_size, stride, shuffle=False)"
   ]
  },
  {
   "cell_type": "code",
   "execution_count": 5,
   "metadata": {},
   "outputs": [
    {
     "data": {
      "text/plain": [
       "<Figure size 2880x1440 with 0 Axes>"
      ]
     },
     "execution_count": 5,
     "metadata": {},
     "output_type": "execute_result"
    },
    {
     "data": {
      "image/png": "[encoded data removed]",
      "text/plain": [
       "<Figure size 432x288 with 1 Axes>"
      ]
     },
     "metadata": {},
     "output_type": "display_data"
    },
    {
     "data": {
      "text/plain": [
       "<Figure size 2880x1440 with 0 Axes>"
      ]
     },
     "metadata": {},
     "output_type": "display_data"
    }
   ],
   "source": [
    "plt.plot(Y_train_s[8950:8990, :])\n",
    "\n",
    "plt.figure(figsize=(40,20))"
   ]
  },
  {
   "cell_type": "code",
   "execution_count": 6,
   "metadata": {},
   "outputs": [],
   "source": [
    "classes = np.max((Y_train_s.shape[1], Y_test_s.shape[1]))"
   ]
  },
  {
   "cell_type": "code",
   "execution_count": 7,
   "metadata": {},
   "outputs": [
    {
     "name": "stdout",
     "output_type": "stream",
     "text": [
      "_________________________________________________________________\n",
      "Layer (type)                 Output Shape              Param #   \n",
      "=================================================================\n",
      "conv1d_1 (Conv1D)            (None, 15, 18)            9918      \n",
      "_________________________________________________________________\n",
      "batch_normalization_1 (Batch (None, 15, 18)            72        \n",
      "_________________________________________________________________\n",
      "leaky_re_lu_1 (LeakyReLU)    (None, 15, 18)            0         \n",
      "_________________________________________________________________\n",
      "max_pooling1d_1 (MaxPooling1 (None, 8, 18)             0         \n",
      "_________________________________________________________________\n",
      "conv1d_2 (Conv1D)            (None, 8, 36)             4572      \n",
      "_________________________________________________________________\n",
      "batch_normalization_2 (Batch (None, 8, 36)             144       \n",
      "_________________________________________________________________\n",
      "leaky_re_lu_2 (LeakyReLU)    (None, 8, 36)             0         \n",
      "_________________________________________________________________\n",
      "max_pooling1d_2 (MaxPooling1 (None, 4, 36)             0         \n",
      "_________________________________________________________________\n",
      "dropout_1 (Dropout)          (None, 4, 36)             0         \n",
      "_________________________________________________________________\n",
      "conv1d_3 (Conv1D)            (None, 4, 72)             18216     \n",
      "_________________________________________________________________\n",
      "batch_normalization_3 (Batch (None, 4, 72)             288       \n",
      "_________________________________________________________________\n",
      "leaky_re_lu_3 (LeakyReLU)    (None, 4, 72)             0         \n",
      "_________________________________________________________________\n",
      "max_pooling1d_3 (MaxPooling1 (None, 2, 72)             0         \n",
      "_________________________________________________________________\n",
      "flatten_1 (Flatten)          (None, 144)               0         \n",
      "_________________________________________________________________\n",
      "dense_1 (Dense)              (None, 64)                9280      \n",
      "_________________________________________________________________\n",
      "leaky_re_lu_4 (LeakyReLU)    (None, 64)                0         \n",
      "_________________________________________________________________\n",
      "dropout_2 (Dropout)          (None, 64)                0         \n",
      "_________________________________________________________________\n",
      "dense_2 (Dense)              (None, 2)                 130       \n",
      "_________________________________________________________________\n",
      "activation_1 (Activation)    (None, 2)                 0         \n",
      "=================================================================\n",
      "Total params: 42,620\n",
      "Trainable params: 42,368\n",
      "Non-trainable params: 252\n",
      "_________________________________________________________________\n"
     ]
    }
   ],
   "source": [
    "model_unidim = utils.Model1D((window_size, features), classes)"
   ]
  },
  {
   "cell_type": "code",
   "execution_count": 8,
   "metadata": {},
   "outputs": [
    {
     "name": "stdout",
     "output_type": "stream",
     "text": [
      "Train on 10474 samples, validate on 3834 samples\n",
      "Epoch 1/50\n",
      "10474/10474 [==============================] - 5s 477us/step - loss: 0.4264 - acc: 0.9346 - val_loss: 0.1925 - val_acc: 0.9533\n",
      "Epoch 2/50\n",
      "10474/10474 [==============================] - 1s 114us/step - loss: 0.1310 - acc: 0.9624 - val_loss: 0.2329 - val_acc: 0.9502\n",
      "Epoch 3/50\n",
      "10474/10474 [==============================] - 1s 119us/step - loss: 0.1095 - acc: 0.9672 - val_loss: 0.2665 - val_acc: 0.9515\n",
      "Epoch 4/50\n",
      "10474/10474 [==============================] - 1s 118us/step - loss: 0.1028 - acc: 0.9694 - val_loss: 0.2167 - val_acc: 0.9564\n",
      "Epoch 5/50\n",
      "10474/10474 [==============================] - 1s 118us/step - loss: 0.0976 - acc: 0.9714 - val_loss: 0.2487 - val_acc: 0.9512\n",
      "Epoch 6/50\n",
      "10474/10474 [==============================] - 1s 115us/step - loss: 0.0885 - acc: 0.9739 - val_loss: 0.2956 - val_acc: 0.9424\n",
      "Epoch 7/50\n",
      "10474/10474 [==============================] - 1s 117us/step - loss: 0.0859 - acc: 0.9749 - val_loss: 0.2334 - val_acc: 0.9471\n",
      "Epoch 8/50\n",
      "10474/10474 [==============================] - 1s 114us/step - loss: 0.0790 - acc: 0.9768 - val_loss: 0.2489 - val_acc: 0.9515\n",
      "Epoch 9/50\n",
      "10474/10474 [==============================] - 1s 118us/step - loss: 0.0817 - acc: 0.9759 - val_loss: 0.2186 - val_acc: 0.9502\n",
      "Epoch 10/50\n",
      "10474/10474 [==============================] - 1s 120us/step - loss: 0.0729 - acc: 0.9794 - val_loss: 0.2762 - val_acc: 0.9489\n",
      "Epoch 11/50\n",
      "10474/10474 [==============================] - 1s 118us/step - loss: 0.0746 - acc: 0.9793 - val_loss: 0.1831 - val_acc: 0.9520\n",
      "Epoch 12/50\n",
      "10474/10474 [==============================] - 1s 116us/step - loss: 0.0781 - acc: 0.9770 - val_loss: 0.2719 - val_acc: 0.9481\n",
      "Epoch 13/50\n",
      "10474/10474 [==============================] - 1s 117us/step - loss: 0.0670 - acc: 0.9807 - val_loss: 0.1957 - val_acc: 0.9557\n",
      "Epoch 14/50\n",
      "10474/10474 [==============================] - 1s 117us/step - loss: 0.0623 - acc: 0.9808 - val_loss: 0.2501 - val_acc: 0.9533\n",
      "Epoch 15/50\n",
      "10474/10474 [==============================] - 1s 115us/step - loss: 0.0569 - acc: 0.9833 - val_loss: 0.1883 - val_acc: 0.9536\n",
      "Epoch 16/50\n",
      "10474/10474 [==============================] - 1s 117us/step - loss: 0.0557 - acc: 0.9851 - val_loss: 0.2693 - val_acc: 0.9517\n",
      "Epoch 17/50\n",
      "10474/10474 [==============================] - 1s 114us/step - loss: 0.0587 - acc: 0.9831 - val_loss: 0.2751 - val_acc: 0.9478\n",
      "Epoch 18/50\n",
      "10474/10474 [==============================] - 1s 114us/step - loss: 0.0596 - acc: 0.9825 - val_loss: 0.2627 - val_acc: 0.9455\n",
      "Epoch 19/50\n",
      "10474/10474 [==============================] - 1s 113us/step - loss: 0.0626 - acc: 0.9824 - val_loss: 0.2650 - val_acc: 0.9497\n",
      "Epoch 20/50\n",
      "10474/10474 [==============================] - 1s 113us/step - loss: 0.0529 - acc: 0.9838 - val_loss: 0.2837 - val_acc: 0.9437\n",
      "Epoch 21/50\n",
      "10474/10474 [==============================] - 1s 116us/step - loss: 0.0508 - acc: 0.9866 - val_loss: 0.2593 - val_acc: 0.9523\n",
      "Epoch 22/50\n",
      "10474/10474 [==============================] - 1s 116us/step - loss: 0.0507 - acc: 0.9869 - val_loss: 0.2815 - val_acc: 0.9583\n",
      "Epoch 23/50\n",
      "10474/10474 [==============================] - 1s 115us/step - loss: 0.0610 - acc: 0.9841 - val_loss: 0.3343 - val_acc: 0.9450\n",
      "Epoch 24/50\n",
      "10474/10474 [==============================] - 1s 116us/step - loss: 0.0464 - acc: 0.9876 - val_loss: 0.2659 - val_acc: 0.9497\n",
      "Epoch 25/50\n",
      "10474/10474 [==============================] - 1s 116us/step - loss: 0.0487 - acc: 0.9860 - val_loss: 0.3183 - val_acc: 0.9457\n",
      "Epoch 26/50\n",
      "10474/10474 [==============================] - 1s 115us/step - loss: 0.0558 - acc: 0.9853 - val_loss: 0.2905 - val_acc: 0.9570\n",
      "Epoch 27/50\n",
      "10474/10474 [==============================] - 1s 116us/step - loss: 0.0517 - acc: 0.9861 - val_loss: 0.2336 - val_acc: 0.9541\n",
      "Epoch 28/50\n",
      "10474/10474 [==============================] - 1s 116us/step - loss: 0.0529 - acc: 0.9868 - val_loss: 0.2385 - val_acc: 0.9536\n",
      "Epoch 29/50\n",
      "10474/10474 [==============================] - 1s 116us/step - loss: 0.0486 - acc: 0.9877 - val_loss: 0.1872 - val_acc: 0.9544\n",
      "Epoch 30/50\n",
      "10474/10474 [==============================] - 1s 117us/step - loss: 0.0404 - acc: 0.9897 - val_loss: 0.3134 - val_acc: 0.9460\n",
      "Epoch 31/50\n",
      "10474/10474 [==============================] - 1s 116us/step - loss: 0.0554 - acc: 0.9873 - val_loss: 0.2706 - val_acc: 0.9564\n",
      "Epoch 32/50\n",
      "10474/10474 [==============================] - 1s 117us/step - loss: 0.0438 - acc: 0.9900 - val_loss: 0.2669 - val_acc: 0.9499\n",
      "Epoch 33/50\n",
      "10474/10474 [==============================] - 1s 116us/step - loss: 0.0540 - acc: 0.9863 - val_loss: 0.2501 - val_acc: 0.9471\n",
      "Epoch 34/50\n",
      "10474/10474 [==============================] - 1s 117us/step - loss: 0.0414 - acc: 0.9885 - val_loss: 0.2177 - val_acc: 0.9515\n",
      "Epoch 35/50\n",
      "10474/10474 [==============================] - 1s 117us/step - loss: 0.0387 - acc: 0.9905 - val_loss: 0.3311 - val_acc: 0.9439\n",
      "Epoch 36/50\n",
      "10474/10474 [==============================] - 1s 116us/step - loss: 0.0410 - acc: 0.9882 - val_loss: 0.2597 - val_acc: 0.9536\n",
      "Epoch 37/50\n",
      "10474/10474 [==============================] - 1s 116us/step - loss: 0.0386 - acc: 0.9904 - val_loss: 0.2177 - val_acc: 0.9538\n",
      "Epoch 38/50\n",
      "10474/10474 [==============================] - 1s 115us/step - loss: 0.0431 - acc: 0.9891 - val_loss: 0.3559 - val_acc: 0.9431\n",
      "Epoch 39/50\n",
      "10474/10474 [==============================] - 1s 117us/step - loss: 0.0358 - acc: 0.9916 - val_loss: 0.3466 - val_acc: 0.9531\n",
      "Epoch 40/50\n",
      "10474/10474 [==============================] - 1s 116us/step - loss: 0.0340 - acc: 0.9914 - val_loss: 0.3616 - val_acc: 0.9434\n",
      "Epoch 41/50\n",
      "10474/10474 [==============================] - 1s 122us/step - loss: 0.0359 - acc: 0.9911 - val_loss: 0.2476 - val_acc: 0.9450\n",
      "Epoch 42/50\n",
      "10474/10474 [==============================] - 1s 115us/step - loss: 0.0370 - acc: 0.9907 - val_loss: 0.3039 - val_acc: 0.9478\n",
      "Epoch 43/50\n",
      "10474/10474 [==============================] - 1s 118us/step - loss: 0.0377 - acc: 0.9902 - val_loss: 0.2948 - val_acc: 0.9502\n",
      "Epoch 44/50\n",
      "10474/10474 [==============================] - 1s 116us/step - loss: 0.0328 - acc: 0.9920 - val_loss: 0.3345 - val_acc: 0.9476\n",
      "Epoch 45/50\n",
      "10474/10474 [==============================] - 1s 117us/step - loss: 0.0287 - acc: 0.9927 - val_loss: 0.3313 - val_acc: 0.9504\n",
      "Epoch 46/50\n",
      "10474/10474 [==============================] - 1s 116us/step - loss: 0.0319 - acc: 0.9927 - val_loss: 0.3562 - val_acc: 0.9525\n",
      "Epoch 47/50\n",
      "10474/10474 [==============================] - 1s 116us/step - loss: 0.0466 - acc: 0.9893 - val_loss: 0.3330 - val_acc: 0.9447\n",
      "Epoch 48/50\n",
      "10474/10474 [==============================] - 1s 117us/step - loss: 0.0294 - acc: 0.9930 - val_loss: 0.3081 - val_acc: 0.9515\n",
      "Epoch 49/50\n",
      "10474/10474 [==============================] - 1s 121us/step - loss: 0.0270 - acc: 0.9951 - val_loss: 0.2091 - val_acc: 0.9549\n",
      "Epoch 50/50\n",
      "10474/10474 [==============================] - 1s 120us/step - loss: 0.0443 - acc: 0.9920 - val_loss: 0.2678 - val_acc: 0.9557\n"
     ]
    },
    {
     "data": {
      "text/plain": [
       "<keras.callbacks.History at 0x1d607075128>"
      ]
     },
     "execution_count": 8,
     "metadata": {},
     "output_type": "execute_result"
    }
   ],
   "source": [
    "opt = Adam(lr=0.01)\n",
    "model_unidim.compile(optimizer = opt, loss = \"categorical_crossentropy\", metrics = [\"accuracy\"])\n",
    "\n",
    "model_unidim.fit(x = X_train_s, y = Y_train_s, epochs = 50, batch_size = 128, validation_data=(X_test_s, Y_test_s))"
   ]
  },
  {
   "cell_type": "code",
   "execution_count": 9,
   "metadata": {},
   "outputs": [],
   "source": [
    "# predict labels\n",
    "Y_pred_s = model_unidim.predict(X_test_s)"
   ]
  },
  {
   "cell_type": "code",
   "execution_count": 10,
   "metadata": {},
   "outputs": [
    {
     "name": "stdout",
     "output_type": "stream",
     "text": [
      "F1-measure:  0.9549313831498599\n",
      "AUC w.r. to each class:  {0: 0.9655533123204894, 1: 0.9676631448394196}\n"
     ]
    },
    {
     "data": {
      "image/png": "[encoded data removed]",
      "text/plain": [
       "<Figure size 432x288 with 2 Axes>"
      ]
     },
     "metadata": {},
     "output_type": "display_data"
    }
   ],
   "source": [
    "# print results\n",
    "#reverse the one-hot encoder procedure\n",
    "Y_test_hard = np.argmax(Y_test_s, axis=1)\n",
    "Y_pred_hard = np.argmax(Y_pred_s, axis=1)\n",
    "\n",
    "print(\"F1-measure: \", utils.f1_score(Y_test_hard, Y_pred_hard, average='weighted'))\n",
    "print(\"AUC w.r. to each class: \", utils.AUC(Y_test_s, Y_pred_s, classes))\n",
    "\n",
    "# Compute and plot confusion matrix\n",
    "cnf_matrix = utils.confusion_matrix(Y_test_hard, Y_pred_hard)\n",
    "np.set_printoptions(precision=2)\n",
    "\n",
    "plt.figure()\n",
    "utils.plot_confusion_matrix(cnf_matrix, classes=[1,2],\n",
    "                      title='Confusion matrix, without normalization')"
   ]
  },
  {
   "cell_type": "code",
   "execution_count": 22,
   "metadata": {},
   "outputs": [
    {
     "data": {
      "text/plain": [
       "[<matplotlib.lines.Line2D at 0x1d6015c8cf8>]"
      ]
     },
     "execution_count": 22,
     "metadata": {},
     "output_type": "execute_result"
    },
    {
     "data": {
      "image/png": "[encoded data removed]",
      "text/plain": [
       "<Figure size 432x288 with 1 Axes>"
      ]
     },
     "metadata": {},
     "output_type": "display_data"
    }
   ],
   "source": [
    "plt.plot(Y_pred_hard)"
   ]
  },
  {
   "cell_type": "code",
   "execution_count": 23,
   "metadata": {},
   "outputs": [
    {
     "data": {
      "text/plain": [
       "[<matplotlib.lines.Line2D at 0x1d6019155f8>]"
      ]
     },
     "execution_count": 23,
     "metadata": {},
     "output_type": "execute_result"
    },
    {
     "data": {
      "image/png": "[encoded data removed]",
      "text/plain": [
       "<Figure size 432x288 with 1 Axes>"
      ]
     },
     "metadata": {},
     "output_type": "display_data"
    }
   ],
   "source": [
    "plt.plot(Y_test_hard)"
   ]
  },
  {
   "cell_type": "code",
   "execution_count": null,
   "metadata": {},
   "outputs": [],
   "source": [
    "# revert one hot encoded windowed predicted labels to the unwindowed version\n",
    "test_labels = utils.unwindowLabels(Y_test_s, window_size, stride)"
   ]
  },
  {
   "cell_type": "markdown",
   "metadata": {},
   "source": [
    "## Task B2: gesture recognition\n",
    "This task consists of a 17-class classification, where gestures are labeled in column 6.\n",
    "\n",
    "To tune the following parameters, refer to the first cell of task B1:\n",
    "- subject: select the subject on which to test the model, between [1,4];\n",
    "- folder: directory name where '.mat' files are stored;\n",
    "- label_col: index of feature column to be selected to perform activity detection, between [0,6];\n",
    "- window_size: parameter that sets the length of temporal windows on which to perform the convolution;\n",
    "- stride: step length to chose the next window.\n",
    "\n",
    "Here we just need to preserve the different labels, thus we set 'make_binary' to False. We have then 18 different labels, keeping into account the null class, with label 0."
   ]
  },
  {
   "cell_type": "code",
   "execution_count": 11,
   "metadata": {},
   "outputs": [],
   "source": [
    "make_binary = False"
   ]
  },
  {
   "cell_type": "code",
   "execution_count": 12,
   "metadata": {},
   "outputs": [
    {
     "name": "stdout",
     "output_type": "stream",
     "text": [
      "\n",
      "Session shapes:\n",
      "ADL1:   (45810, 110)\n",
      "ADL2:   (28996, 110)\n",
      "ADL3:   (30167, 110)\n",
      "ADL4:   (30228, 110)\n",
      "ADL5:   (27308, 110)\n",
      "Drill:  (52152, 110)\n",
      "\n",
      "Training samples:  157125 \n",
      "Test samples:       57536 \n",
      "Features:             110\n",
      "\n",
      "Classes in training set:  5 \n",
      "Classes in test set:      5\n"
     ]
    }
   ],
   "source": [
    "# import all sessions for a subject\n",
    "(data1, data2, data3, data4, data5, data6) = utils.loadData(subject, folder=folder)\n",
    "\n",
    "# create training set and test set\n",
    "X_train = np.concatenate((data1['features_interp'],\\\n",
    "                          data2['features_interp'],\\\n",
    "                          data3['features_interp'],\\\n",
    "                          data6['features_interp']), axis=0)\n",
    "\n",
    "Y_train = np.concatenate((data1['labels_cut'][:,label_col],\\\n",
    "                          data2['labels_cut'][:,label_col],\\\n",
    "                          data3['labels_cut'][:,label_col],\\\n",
    "                          data6['labels_cut'][:,label_col]), axis=0)\n",
    "\n",
    "X_test = np.concatenate((data4['features_interp'],\\\n",
    "                         data5['features_interp']), axis=0)\n",
    "\n",
    "Y_test = np.concatenate((data4['labels_cut'][:,label_col],\\\n",
    "                         data5['labels_cut'][:,label_col]))\n",
    "\n",
    "features = X_test.shape[1]\n",
    "print(\"\\nTraining samples: \", X_train.shape[0],\\\n",
    "      \"\\nTest samples:      \", X_test.shape[0],\\\n",
    "      \"\\nFeatures:            \", features)\n",
    "\n",
    "# decision to overcome the problem of entire missing columns\n",
    "X_train = np.nan_to_num(X_train)\n",
    "X_test = np.nan_to_num(X_test)\n",
    "\n",
    "# features normalization\n",
    "scaler = StandardScaler().fit(X_train)\n",
    "X_train =scaler.transform(X_train)\n",
    "X_test = scaler.transform(X_test)\n",
    "\n",
    "# make the problem binary\n",
    "if make_binary:\n",
    "    Y_train[Y_train != 0] = 1\n",
    "    Y_test[Y_test != 0] = 1\n",
    "\n",
    "# switch to one hot encoded labels\n",
    "onehot_encoder = OneHotEncoder(sparse=False)\n",
    "Y_train_oh = onehot_encoder.fit_transform(Y_train.reshape(-1, 1))\n",
    "Y_test_oh = onehot_encoder.fit_transform(Y_test.reshape(-1, 1))\n",
    "print(\"\\nClasses in training set: \", Y_train_oh.shape[1],\\\n",
    "      \"\\nClasses in test set:     \", Y_test_oh.shape[1])"
   ]
  },
  {
   "cell_type": "code",
   "execution_count": 13,
   "metadata": {},
   "outputs": [
    {
     "name": "stdout",
     "output_type": "stream",
     "text": [
      "Training set:\n",
      "<class 'numpy.ndarray'> (9314, 15, 110) <class 'numpy.ndarray'> (9314, 4)\n",
      "\n",
      "Features have shape:  (9314, 15, 110) \n",
      "Labels have shape:    (9314, 4) \n",
      "Fraction of labels:   [0.47 0.31 0.19 0.03]\n",
      "\n",
      "Test set:\n",
      "<class 'numpy.ndarray'> (3154, 15, 110) <class 'numpy.ndarray'> (3154, 4)\n",
      "\n",
      "Features have shape:  (3154, 15, 110) \n",
      "Labels have shape:    (3154, 4) \n",
      "Fraction of labels:   [0.42 0.25 0.29 0.05]\n"
     ]
    }
   ],
   "source": [
    "print(\"Training set:\")\n",
    "X_train_s, Y_train_s = utils.prepareData(X_train, Y_train_oh, window_size, stride, shuffle=False, null_class=False)\n",
    "print(\"\\nTest set:\")\n",
    "X_test_s, Y_test_s = utils.prepareData(X_test, Y_test_oh, window_size, stride, shuffle=False, null_class=False)\n",
    "# add bars plot"
   ]
  },
  {
   "cell_type": "code",
   "execution_count": 14,
   "metadata": {},
   "outputs": [],
   "source": [
    "classes = np.max((Y_train_s.shape[1], Y_test_s.shape[1]))"
   ]
  },
  {
   "cell_type": "code",
   "execution_count": 15,
   "metadata": {},
   "outputs": [
    {
     "name": "stdout",
     "output_type": "stream",
     "text": [
      "_________________________________________________________________\n",
      "Layer (type)                 Output Shape              Param #   \n",
      "=================================================================\n",
      "conv1d_4 (Conv1D)            (None, 15, 18)            9918      \n",
      "_________________________________________________________________\n",
      "batch_normalization_4 (Batch (None, 15, 18)            72        \n",
      "_________________________________________________________________\n",
      "leaky_re_lu_5 (LeakyReLU)    (None, 15, 18)            0         \n",
      "_________________________________________________________________\n",
      "max_pooling1d_4 (MaxPooling1 (None, 8, 18)             0         \n",
      "_________________________________________________________________\n",
      "conv1d_5 (Conv1D)            (None, 8, 36)             4572      \n",
      "_________________________________________________________________\n",
      "batch_normalization_5 (Batch (None, 8, 36)             144       \n",
      "_________________________________________________________________\n",
      "leaky_re_lu_6 (LeakyReLU)    (None, 8, 36)             0         \n",
      "_________________________________________________________________\n",
      "max_pooling1d_5 (MaxPooling1 (None, 4, 36)             0         \n",
      "_________________________________________________________________\n",
      "dropout_3 (Dropout)          (None, 4, 36)             0         \n",
      "_________________________________________________________________\n",
      "conv1d_6 (Conv1D)            (None, 4, 72)             18216     \n",
      "_________________________________________________________________\n",
      "batch_normalization_6 (Batch (None, 4, 72)             288       \n",
      "_________________________________________________________________\n",
      "leaky_re_lu_7 (LeakyReLU)    (None, 4, 72)             0         \n",
      "_________________________________________________________________\n",
      "max_pooling1d_6 (MaxPooling1 (None, 2, 72)             0         \n",
      "_________________________________________________________________\n",
      "flatten_2 (Flatten)          (None, 144)               0         \n",
      "_________________________________________________________________\n",
      "dense_3 (Dense)              (None, 64)                9280      \n",
      "_________________________________________________________________\n",
      "leaky_re_lu_8 (LeakyReLU)    (None, 64)                0         \n",
      "_________________________________________________________________\n",
      "dropout_4 (Dropout)          (None, 64)                0         \n",
      "_________________________________________________________________\n",
      "dense_4 (Dense)              (None, 4)                 260       \n",
      "_________________________________________________________________\n",
      "activation_2 (Activation)    (None, 4)                 0         \n",
      "=================================================================\n",
      "Total params: 42,750\n",
      "Trainable params: 42,498\n",
      "Non-trainable params: 252\n",
      "_________________________________________________________________\n"
     ]
    }
   ],
   "source": [
    "model_unidim = utils.Model1D((window_size, features), classes)"
   ]
  },
  {
   "cell_type": "code",
   "execution_count": 16,
   "metadata": {},
   "outputs": [
    {
     "name": "stdout",
     "output_type": "stream",
     "text": [
      "Train on 9314 samples, validate on 3154 samples\n",
      "Epoch 1/50\n",
      "9314/9314 [==============================] - 3s 277us/step - loss: 0.7274 - acc: 0.8265 - val_loss: 0.3815 - val_acc: 0.9023\n",
      "Epoch 2/50\n",
      "9314/9314 [==============================] - 1s 119us/step - loss: 0.3262 - acc: 0.8772 - val_loss: 0.3880 - val_acc: 0.8840\n",
      "Epoch 3/50\n",
      "9314/9314 [==============================] - 1s 119us/step - loss: 0.2882 - acc: 0.8933 - val_loss: 0.3749 - val_acc: 0.9109\n",
      "Epoch 4/50\n",
      "9314/9314 [==============================] - 1s 118us/step - loss: 0.2793 - acc: 0.8977 - val_loss: 0.4262 - val_acc: 0.9214\n",
      "Epoch 5/50\n",
      "9314/9314 [==============================] - 1s 118us/step - loss: 0.2694 - acc: 0.9039 - val_loss: 0.3218 - val_acc: 0.9182\n",
      "Epoch 6/50\n",
      "9314/9314 [==============================] - 1s 117us/step - loss: 0.2739 - acc: 0.8998 - val_loss: 0.3116 - val_acc: 0.9195\n",
      "Epoch 7/50\n",
      "9314/9314 [==============================] - 1s 120us/step - loss: 0.2448 - acc: 0.9139 - val_loss: 0.3626 - val_acc: 0.9084\n",
      "Epoch 8/50\n",
      "9314/9314 [==============================] - 1s 122us/step - loss: 0.2796 - acc: 0.9092 - val_loss: 0.3829 - val_acc: 0.9271\n",
      "Epoch 9/50\n",
      "9314/9314 [==============================] - 1s 120us/step - loss: 0.2459 - acc: 0.9143 - val_loss: 0.4084 - val_acc: 0.8884\n",
      "Epoch 10/50\n",
      "9314/9314 [==============================] - 1s 123us/step - loss: 0.2387 - acc: 0.9185 - val_loss: 0.3127 - val_acc: 0.9261\n",
      "Epoch 11/50\n",
      "9314/9314 [==============================] - 1s 116us/step - loss: 0.2243 - acc: 0.9213 - val_loss: 0.2850 - val_acc: 0.9353\n",
      "Epoch 12/50\n",
      "9314/9314 [==============================] - 1s 114us/step - loss: 0.2078 - acc: 0.9267 - val_loss: 0.3312 - val_acc: 0.9195\n",
      "Epoch 13/50\n",
      "9314/9314 [==============================] - 1s 117us/step - loss: 0.2156 - acc: 0.9239 - val_loss: 0.2959 - val_acc: 0.9293\n",
      "Epoch 14/50\n",
      "9314/9314 [==============================] - 1s 115us/step - loss: 0.2071 - acc: 0.9312 - val_loss: 0.3280 - val_acc: 0.9233\n",
      "Epoch 15/50\n",
      "9314/9314 [==============================] - 1s 117us/step - loss: 0.2151 - acc: 0.9284 - val_loss: 0.2987 - val_acc: 0.9277\n",
      "Epoch 16/50\n",
      "9314/9314 [==============================] - 1s 116us/step - loss: 0.1875 - acc: 0.9369 - val_loss: 0.3093 - val_acc: 0.9252\n",
      "Epoch 17/50\n",
      "9314/9314 [==============================] - 1s 116us/step - loss: 0.1908 - acc: 0.9348 - val_loss: 0.3078 - val_acc: 0.9309\n",
      "Epoch 18/50\n",
      "9314/9314 [==============================] - 1s 119us/step - loss: 0.2021 - acc: 0.9341 - val_loss: 0.3422 - val_acc: 0.9249\n",
      "Epoch 19/50\n",
      "9314/9314 [==============================] - 1s 115us/step - loss: 0.1880 - acc: 0.9379 - val_loss: 0.3054 - val_acc: 0.9249\n",
      "Epoch 20/50\n",
      "9314/9314 [==============================] - 1s 117us/step - loss: 0.1736 - acc: 0.9408 - val_loss: 0.3354 - val_acc: 0.9280\n",
      "Epoch 21/50\n",
      "9314/9314 [==============================] - 1s 118us/step - loss: 0.1904 - acc: 0.9398 - val_loss: 0.3350 - val_acc: 0.9125\n",
      "Epoch 22/50\n",
      "9314/9314 [==============================] - 1s 116us/step - loss: 0.1754 - acc: 0.9425 - val_loss: 0.3418 - val_acc: 0.9239\n",
      "Epoch 23/50\n",
      "9314/9314 [==============================] - 1s 115us/step - loss: 0.1666 - acc: 0.9461 - val_loss: 0.3426 - val_acc: 0.9217\n",
      "Epoch 24/50\n",
      "9314/9314 [==============================] - 1s 116us/step - loss: 0.1663 - acc: 0.9478 - val_loss: 0.3147 - val_acc: 0.9195\n",
      "Epoch 25/50\n",
      "9314/9314 [==============================] - 1s 114us/step - loss: 0.1543 - acc: 0.9492 - val_loss: 0.3743 - val_acc: 0.9220\n",
      "Epoch 26/50\n",
      "9314/9314 [==============================] - 1s 114us/step - loss: 0.1563 - acc: 0.9510 - val_loss: 0.3362 - val_acc: 0.9236\n",
      "Epoch 27/50\n",
      "9314/9314 [==============================] - 1s 116us/step - loss: 0.1672 - acc: 0.9485 - val_loss: 0.3403 - val_acc: 0.9264\n",
      "Epoch 28/50\n",
      "9314/9314 [==============================] - 1s 114us/step - loss: 0.1497 - acc: 0.9508 - val_loss: 0.3481 - val_acc: 0.9258\n",
      "Epoch 29/50\n",
      "9314/9314 [==============================] - 1s 116us/step - loss: 0.1584 - acc: 0.9540 - val_loss: 0.4626 - val_acc: 0.9290\n",
      "Epoch 30/50\n",
      "9314/9314 [==============================] - 1s 115us/step - loss: 0.1558 - acc: 0.9546 - val_loss: 0.4061 - val_acc: 0.9226\n",
      "Epoch 31/50\n",
      "9314/9314 [==============================] - 1s 116us/step - loss: 0.1479 - acc: 0.9545 - val_loss: 0.3267 - val_acc: 0.9255\n",
      "Epoch 32/50\n",
      "9314/9314 [==============================] - 1s 116us/step - loss: 0.1399 - acc: 0.9553 - val_loss: 0.3659 - val_acc: 0.9220\n",
      "Epoch 33/50\n",
      "9314/9314 [==============================] - 1s 118us/step - loss: 0.2333 - acc: 0.9499 - val_loss: 0.5474 - val_acc: 0.9093\n",
      "Epoch 34/50\n",
      "9314/9314 [==============================] - 1s 121us/step - loss: 0.1780 - acc: 0.9472 - val_loss: 0.3551 - val_acc: 0.9283\n",
      "Epoch 35/50\n",
      "9314/9314 [==============================] - 1s 117us/step - loss: 0.1287 - acc: 0.9586 - val_loss: 0.3568 - val_acc: 0.9201\n",
      "Epoch 36/50\n",
      "9314/9314 [==============================] - 1s 115us/step - loss: 0.1267 - acc: 0.9594 - val_loss: 0.3749 - val_acc: 0.9271\n",
      "Epoch 37/50\n",
      "9314/9314 [==============================] - 1s 115us/step - loss: 0.1367 - acc: 0.9608 - val_loss: 0.4011 - val_acc: 0.9207\n",
      "Epoch 38/50\n",
      "9314/9314 [==============================] - 1s 114us/step - loss: 0.1148 - acc: 0.9649 - val_loss: 0.3722 - val_acc: 0.9268\n",
      "Epoch 39/50\n",
      "9314/9314 [==============================] - 1s 117us/step - loss: 0.1171 - acc: 0.9635 - val_loss: 0.3711 - val_acc: 0.9226\n",
      "Epoch 40/50\n",
      "9314/9314 [==============================] - ETA: 0s - loss: 0.1213 - acc: 0.964 - 1s 115us/step - loss: 0.1219 - acc: 0.9639 - val_loss: 0.3990 - val_acc: 0.9176\n",
      "Epoch 41/50\n",
      "9314/9314 [==============================] - 1s 115us/step - loss: 0.1210 - acc: 0.9639 - val_loss: 0.3884 - val_acc: 0.9207\n",
      "Epoch 42/50\n",
      "9314/9314 [==============================] - 1s 116us/step - loss: 0.1157 - acc: 0.9644 - val_loss: 0.3833 - val_acc: 0.9283\n",
      "Epoch 43/50\n",
      "9314/9314 [==============================] - 1s 115us/step - loss: 0.1028 - acc: 0.9673 - val_loss: 0.4485 - val_acc: 0.9062\n",
      "Epoch 44/50\n",
      "9314/9314 [==============================] - 1s 115us/step - loss: 0.1161 - acc: 0.9646 - val_loss: 0.4287 - val_acc: 0.9223\n",
      "Epoch 45/50\n",
      "9314/9314 [==============================] - 1s 117us/step - loss: 0.1132 - acc: 0.9669 - val_loss: 0.4542 - val_acc: 0.9062\n",
      "Epoch 46/50\n",
      "9314/9314 [==============================] - 1s 116us/step - loss: 0.0986 - acc: 0.9698 - val_loss: 0.4352 - val_acc: 0.9239\n",
      "Epoch 47/50\n",
      "9314/9314 [==============================] - 1s 114us/step - loss: 0.1055 - acc: 0.9684 - val_loss: 0.4181 - val_acc: 0.9192\n",
      "Epoch 48/50\n",
      "9314/9314 [==============================] - 1s 115us/step - loss: 0.1090 - acc: 0.9654 - val_loss: 0.4405 - val_acc: 0.9201\n",
      "Epoch 49/50\n",
      "9314/9314 [==============================] - 1s 115us/step - loss: 0.1121 - acc: 0.9676 - val_loss: 0.4172 - val_acc: 0.9157\n",
      "Epoch 50/50\n",
      "9314/9314 [==============================] - 1s 133us/step - loss: 0.0964 - acc: 0.9693 - val_loss: 0.4109 - val_acc: 0.9207\n"
     ]
    },
    {
     "data": {
      "text/plain": [
       "<keras.callbacks.History at 0x1d600c5d320>"
      ]
     },
     "execution_count": 16,
     "metadata": {},
     "output_type": "execute_result"
    }
   ],
   "source": [
    "opt = Adam(lr=0.01)\n",
    "model_unidim.compile(optimizer = opt, loss = \"categorical_crossentropy\", metrics = [\"accuracy\"])\n",
    "\n",
    "model_unidim.fit(x = X_train_s, y = Y_train_s, epochs = 50, batch_size = 128, validation_data=(X_test_s, Y_test_s))"
   ]
  },
  {
   "cell_type": "code",
   "execution_count": 17,
   "metadata": {},
   "outputs": [],
   "source": [
    "# predict labels\n",
    "Y_pred_s = model_unidim.predict(X_test_s)"
   ]
  },
  {
   "cell_type": "code",
   "execution_count": 18,
   "metadata": {},
   "outputs": [
    {
     "name": "stdout",
     "output_type": "stream",
     "text": [
      "F1-measure:  0.9212837819209657\n",
      "AUC w.r. to each class:  {0: 0.9806659883528557, 1: 0.9684204681212613, 2: 0.9997592216399062, 3: 0.8503650212995074}\n"
     ]
    },
    {
     "data": {
      "image/png": "[encoded data removed]",
      "text/plain": [
       "<Figure size 432x288 with 2 Axes>"
      ]
     },
     "metadata": {},
     "output_type": "display_data"
    }
   ],
   "source": [
    "# print results\n",
    "#reverse the one-ot encoder procedure\n",
    "Y_test_hard = np.argmax(Y_test_s, axis=1)\n",
    "Y_pred_hard = np.argmax(Y_pred_s, axis=1)\n",
    "\n",
    "print(\"F1-measure: \", utils.f1_score(Y_test_hard, Y_pred_hard, average='weighted'))\n",
    "print(\"AUC w.r. to each class: \", utils.AUC(Y_test_s, Y_pred_s, classes))\n",
    "\n",
    "# Compute and plot confusion matrix\n",
    "cnf_matrix = utils.confusion_matrix(Y_test_hard, Y_pred_hard)\n",
    "np.set_printoptions(precision=2)\n",
    "\n",
    "plt.figure()\n",
    "utils.plot_confusion_matrix(cnf_matrix, classes=[1,2],\n",
    "                      title='Confusion matrix, without normalization')"
   ]
  },
  {
   "cell_type": "code",
   "execution_count": null,
   "metadata": {},
   "outputs": [],
   "source": []
  }
 ],
 "metadata": {
  "kernelspec": {
   "display_name": "Python 3",
   "language": "python",
   "name": "python3"
  },
  "language_info": {
   "codemirror_mode": {
    "name": "ipython",
    "version": 3
   },
   "file_extension": ".py",
   "mimetype": "text/x-python",
   "name": "python",
   "nbconvert_exporter": "python",
   "pygments_lexer": "ipython3",
   "version": "3.6.4"
  }
 },
 "nbformat": 4,
 "nbformat_minor": 2
}
