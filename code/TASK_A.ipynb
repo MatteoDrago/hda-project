{
 "cells": [
  {
   "cell_type": "markdown",
   "metadata": {},
   "source": [
    "# HDA - Project 3: TASK A\n",
    "## Classification of Modes of Locomotion\n",
    "This first cell contains the parameters that can be tuned for code execution:\n",
    "- subject: select the subject on which to test the model, between [1,4];\n",
    "- folder: directory name where '.mat' files are stored;\n",
    "- label_col: column of features to be selected to perform activity detection, between [0,6];\n",
    "- window_size: parameter that sets the length of temporal windows on which to perform the convolution;\n",
    "- stride: step length to chose the next window."
   ]
  },
  {
   "cell_type": "code",
   "execution_count": 1,
   "metadata": {},
   "outputs": [
    {
     "name": "stderr",
     "output_type": "stream",
     "text": [
      "Using TensorFlow backend.\n"
     ]
    }
   ],
   "source": [
    "import utils\n",
    "import numpy as np\n",
    "from sklearn.preprocessing import OneHotEncoder, StandardScaler\n",
    "import matplotlib.pyplot as plt\n",
    "from keras.optimizers import Adam"
   ]
  },
  {
   "cell_type": "code",
   "execution_count": 2,
   "metadata": {},
   "outputs": [],
   "source": [
    "# parameters definition\n",
    "\n",
    "subject = 1\n",
    "folder = \"./data/reduced/\"\n",
    "label_col = 0     # default for task A\n",
    "window_size = 50\n",
    "stride = 50"
   ]
  },
  {
   "cell_type": "markdown",
   "metadata": {},
   "source": [
    "# Section 1 - Loading and Preprocessing\n",
    "\n",
    "### Dataset Loading "
   ]
  },
  {
   "cell_type": "code",
   "execution_count": 3,
   "metadata": {},
   "outputs": [
    {
     "name": "stdout",
     "output_type": "stream",
     "text": [
      "\n",
      "Session shapes:\n",
      "ADL1:   (45810, 58)\n",
      "ADL2:   (28996, 58)\n",
      "ADL3:   (30167, 58)\n",
      "ADL4:   (30228, 58)\n",
      "ADL5:   (27308, 58)\n",
      "Drill:  (52152, 58)\n",
      "\n",
      "Training samples:  157125 \n",
      "Test samples:       57536 \n",
      "Features:             58\n"
     ]
    }
   ],
   "source": [
    "# import all sessions for a subject\n",
    "(data1, data2, data3, data4, data5, data6) = utils.loadData(subject, folder=folder)\n",
    "\n",
    "# create training set and test set\n",
    "X_train = np.concatenate((data1['features_interp'],\\\n",
    "                          data2['features_interp'],\\\n",
    "                          data3['features_interp'],\\\n",
    "                          data6['features_interp']), axis=0)\n",
    "\n",
    "Y_train = np.concatenate((data1['labels_cut'][:,label_col],\\\n",
    "                          data2['labels_cut'][:,label_col],\\\n",
    "                          data3['labels_cut'][:,label_col],\\\n",
    "                          data6['labels_cut'][:,label_col]), axis=0)\n",
    "\n",
    "X_test = np.concatenate((data4['features_interp'],\\\n",
    "                         data5['features_interp']), axis=0)\n",
    "\n",
    "Y_test = np.concatenate((data4['labels_cut'][:,label_col],\\\n",
    "                         data5['labels_cut'][:,label_col]))\n",
    "\n",
    "features = X_test.shape[1]\n",
    "print(\"\\nTraining samples: \", X_train.shape[0],\\\n",
    "      \"\\nTest samples:      \", X_test.shape[0],\\\n",
    "      \"\\nFeatures:            \", features)"
   ]
  },
  {
   "cell_type": "markdown",
   "metadata": {},
   "source": [
    "### Dataset preparation in order to feed it to the network"
   ]
  },
  {
   "cell_type": "code",
   "execution_count": 4,
   "metadata": {},
   "outputs": [
    {
     "name": "stdout",
     "output_type": "stream",
     "text": [
      "\n",
      "Classes in training set:  5 \n",
      "Classes in test set:      5\n",
      "Training set:\n",
      "<class 'numpy.ndarray'> (3141, 50, 58) <class 'numpy.ndarray'> (3141, 5)\n",
      "\n",
      "Features have shape:  (3141, 50, 58) \n",
      "Labels have shape:    (3141, 5) \n",
      "Fraction of labels:   [0.10983763 0.4237504  0.27029608 0.17191977 0.02419612]\n",
      "\n",
      "Test set:\n",
      "<class 'numpy.ndarray'> (1149, 50, 58) <class 'numpy.ndarray'> (1149, 5)\n",
      "\n",
      "Features have shape:  (1149, 50, 58) \n",
      "Labels have shape:    (1149, 5) \n",
      "Fraction of labels:   [0.17928634 0.34290688 0.20104439 0.23846823 0.03829417]\n"
     ]
    }
   ],
   "source": [
    "# decision to overcome the problem of entire missing columns\n",
    "X_train = np.nan_to_num(X_train)\n",
    "X_test = np.nan_to_num(X_test)\n",
    "\n",
    "# features normalization\n",
    "scaler = StandardScaler().fit(X_train)\n",
    "X_train =scaler.transform(X_train)\n",
    "X_test = scaler.transform(X_test)\n",
    "\n",
    "# switch to one hot encoded labels\n",
    "onehot_encoder = OneHotEncoder(sparse=False)\n",
    "Y_train_oh = onehot_encoder.fit_transform(Y_train.reshape(-1, 1))\n",
    "Y_test_oh = onehot_encoder.fit_transform(Y_test.reshape(-1, 1))\n",
    "print(\"\\nClasses in training set: \", Y_train_oh.shape[1],\\\n",
    "      \"\\nClasses in test set:     \", Y_test_oh.shape[1])\n",
    "\n",
    "print(\"Training set:\")\n",
    "X_train_s, Y_train_s = utils.prepareData(X_train, Y_train_oh, window_size, stride, shuffle=False)\n",
    "print(\"\\nTest set:\")\n",
    "X_test_s, Y_test_s = utils.prepareData(X_test, Y_test_oh, window_size, stride, shuffle=False)\n",
    "# add bars plot"
   ]
  },
  {
   "cell_type": "markdown",
   "metadata": {},
   "source": [
    "# Section 2 - Classification with Conv1D\n",
    "\n",
    "### Creation of one-dimensional convolutional neural network"
   ]
  },
  {
   "cell_type": "code",
   "execution_count": 5,
   "metadata": {},
   "outputs": [],
   "source": [
    "classes = np.max((Y_train_s.shape[1], Y_test_s.shape[1]))"
   ]
  },
  {
   "cell_type": "code",
   "execution_count": 6,
   "metadata": {
    "scrolled": true
   },
   "outputs": [
    {
     "name": "stdout",
     "output_type": "stream",
     "text": [
      "WARNING:tensorflow:From C:\\Users\\Matteo\\Anaconda3\\lib\\site-packages\\tensorflow\\python\\util\\deprecation.py:497: calling conv1d (from tensorflow.python.ops.nn_ops) with data_format=NHWC is deprecated and will be removed in a future version.\n",
      "Instructions for updating:\n",
      "`NHWC` for data_format is deprecated, use `NWC` instead\n",
      "_________________________________________________________________\n",
      "Layer (type)                 Output Shape              Param #   \n",
      "=================================================================\n",
      "conv1d_1 (Conv1D)            (None, 50, 18)            5238      \n",
      "_________________________________________________________________\n",
      "batch_normalization_1 (Batch (None, 50, 18)            72        \n",
      "_________________________________________________________________\n",
      "leaky_re_lu_1 (LeakyReLU)    (None, 50, 18)            0         \n",
      "_________________________________________________________________\n",
      "max_pooling1d_1 (MaxPooling1 (None, 25, 18)            0         \n",
      "_________________________________________________________________\n",
      "conv1d_2 (Conv1D)            (None, 25, 36)            4572      \n",
      "_________________________________________________________________\n",
      "batch_normalization_2 (Batch (None, 25, 36)            144       \n",
      "_________________________________________________________________\n",
      "leaky_re_lu_2 (LeakyReLU)    (None, 25, 36)            0         \n",
      "_________________________________________________________________\n",
      "max_pooling1d_2 (MaxPooling1 (None, 13, 36)            0         \n",
      "_________________________________________________________________\n",
      "dropout_1 (Dropout)          (None, 13, 36)            0         \n",
      "_________________________________________________________________\n",
      "conv1d_3 (Conv1D)            (None, 13, 72)            18216     \n",
      "_________________________________________________________________\n",
      "batch_normalization_3 (Batch (None, 13, 72)            288       \n",
      "_________________________________________________________________\n",
      "leaky_re_lu_3 (LeakyReLU)    (None, 13, 72)            0         \n",
      "_________________________________________________________________\n",
      "max_pooling1d_3 (MaxPooling1 (None, 7, 72)             0         \n",
      "_________________________________________________________________\n",
      "flatten_1 (Flatten)          (None, 504)               0         \n",
      "_________________________________________________________________\n",
      "dense_1 (Dense)              (None, 64)                32320     \n",
      "_________________________________________________________________\n",
      "leaky_re_lu_4 (LeakyReLU)    (None, 64)                0         \n",
      "_________________________________________________________________\n",
      "dropout_2 (Dropout)          (None, 64)                0         \n",
      "_________________________________________________________________\n",
      "dense_2 (Dense)              (None, 5)                 325       \n",
      "_________________________________________________________________\n",
      "activation_1 (Activation)    (None, 5)                 0         \n",
      "=================================================================\n",
      "Total params: 61,175\n",
      "Trainable params: 60,923\n",
      "Non-trainable params: 252\n",
      "_________________________________________________________________\n"
     ]
    }
   ],
   "source": [
    "model_unidim = utils.Model1D((window_size, features), classes)"
   ]
  },
  {
   "cell_type": "code",
   "execution_count": 7,
   "metadata": {},
   "outputs": [],
   "source": [
    "opt = Adam(lr=0.01)\n",
    "model_unidim.compile(optimizer = opt, loss = \"categorical_crossentropy\", metrics = [\"accuracy\"])"
   ]
  },
  {
   "cell_type": "code",
   "execution_count": 8,
   "metadata": {},
   "outputs": [
    {
     "name": "stdout",
     "output_type": "stream",
     "text": [
      "Train on 3141 samples, validate on 1149 samples\n",
      "Epoch 1/10\n",
      "3141/3141 [==============================] - 4s 1ms/step - loss: 2.0585 - acc: 0.6705 - val_loss: 1.1818 - val_acc: 0.8451\n",
      "Epoch 2/10\n",
      "3141/3141 [==============================] - 2s 698us/step - loss: 0.9685 - acc: 0.7950 - val_loss: 0.6171 - val_acc: 0.8895\n",
      "Epoch 3/10\n",
      "3141/3141 [==============================] - 2s 690us/step - loss: 0.6178 - acc: 0.8182 - val_loss: 0.5245 - val_acc: 0.8773\n",
      "Epoch 4/10\n",
      "3141/3141 [==============================] - 2s 711us/step - loss: 0.5006 - acc: 0.8329 - val_loss: 0.4983 - val_acc: 0.8729\n",
      "Epoch 5/10\n",
      "3141/3141 [==============================] - 2s 699us/step - loss: 0.4594 - acc: 0.8459 - val_loss: 0.4860 - val_acc: 0.8851\n",
      "Epoch 6/10\n",
      "3141/3141 [==============================] - 2s 706us/step - loss: 0.4502 - acc: 0.8488 - val_loss: 0.5502 - val_acc: 0.8547\n",
      "Epoch 7/10\n",
      "3141/3141 [==============================] - 2s 734us/step - loss: 0.4181 - acc: 0.8586 - val_loss: 0.5566 - val_acc: 0.8642\n",
      "Epoch 8/10\n",
      "3141/3141 [==============================] - 2s 691us/step - loss: 0.4028 - acc: 0.8663 - val_loss: 0.5602 - val_acc: 0.8625\n",
      "Epoch 9/10\n",
      "3141/3141 [==============================] - 2s 707us/step - loss: 0.4082 - acc: 0.8660 - val_loss: 0.5731 - val_acc: 0.8468\n",
      "Epoch 10/10\n",
      "3141/3141 [==============================] - 2s 711us/step - loss: 0.4025 - acc: 0.8707 - val_loss: 0.5937 - val_acc: 0.8529\n"
     ]
    },
    {
     "data": {
      "text/plain": [
       "<keras.callbacks.History at 0x20192655550>"
      ]
     },
     "execution_count": 8,
     "metadata": {},
     "output_type": "execute_result"
    }
   ],
   "source": [
    "model_unidim.fit(x = X_train_s, y = Y_train_s, epochs = 10, batch_size = 128, validation_data=(X_test_s, Y_test_s))"
   ]
  },
  {
   "cell_type": "markdown",
   "metadata": {},
   "source": [
    "### Classification and evaluation of performances"
   ]
  },
  {
   "cell_type": "code",
   "execution_count": 9,
   "metadata": {},
   "outputs": [],
   "source": [
    "# predict labels\n",
    "Y_pred_s = model_unidim.predict(X_test_s)"
   ]
  },
  {
   "cell_type": "code",
   "execution_count": 10,
   "metadata": {},
   "outputs": [
    {
     "name": "stdout",
     "output_type": "stream",
     "text": [
      "F1-measure:  0.8468201177977069\n",
      "AUC w.r. to each class:  {0: 0.9207600201793491, 1: 0.9769926379130668, 2: 0.9412424902620982, 3: 0.9984150156412931, 4: 0.8635129576306046}\n"
     ]
    }
   ],
   "source": [
    "# print results\n",
    "#reverse the one-ot encoder procedure\n",
    "Y_test_hard = np.argmax(Y_test_s, axis=1)\n",
    "Y_pred_hard = np.argmax(Y_pred_s, axis=1)\n",
    "\n",
    "print(\"F1-measure: \", utils.f1_score(Y_test_hard, Y_pred_hard, average='weighted'))\n",
    "print(\"AUC w.r. to each class: \", utils.AUC(Y_test_s, Y_pred_s, classes))"
   ]
  },
  {
   "cell_type": "code",
   "execution_count": 11,
   "metadata": {},
   "outputs": [
    {
     "data": {
      "image/png": "[encoded data removed]",
      "text/plain": [
       "<matplotlib.figure.Figure at 0x2019ee8eb00>"
      ]
     },
     "metadata": {},
     "output_type": "display_data"
    }
   ],
   "source": [
    "# Compute and plot confusion matrix\n",
    "cnf_matrix = utils.confusion_matrix(Y_test_hard, Y_pred_hard)\n",
    "np.set_printoptions(precision=2)\n",
    "\n",
    "plt.figure()\n",
    "utils.plot_confusion_matrix(cnf_matrix, classes=[0,1,2,4,5],\n",
    "                      title='Confusion matrix, without normalization')"
   ]
  },
  {
   "cell_type": "markdown",
   "metadata": {},
   "source": [
    "# Section 3 - Classification with Conv2D"
   ]
  },
  {
   "cell_type": "code",
   "execution_count": 12,
   "metadata": {
    "scrolled": true
   },
   "outputs": [
    {
     "name": "stdout",
     "output_type": "stream",
     "text": [
      "_________________________________________________________________\n",
      "Layer (type)                 Output Shape              Param #   \n",
      "=================================================================\n",
      "conv2d_1 (Conv2D)            (None, 1, 17, 18)         26118     \n",
      "_________________________________________________________________\n",
      "batch_normalization_4 (Batch (None, 1, 17, 18)         72        \n",
      "_________________________________________________________________\n",
      "leaky_re_lu_5 (LeakyReLU)    (None, 1, 17, 18)         0         \n",
      "_________________________________________________________________\n",
      "max_pooling2d_1 (MaxPooling2 (None, 1, 9, 18)          0         \n",
      "_________________________________________________________________\n",
      "conv2d_2 (Conv2D)            (None, 1, 3, 36)          16236     \n",
      "_________________________________________________________________\n",
      "batch_normalization_5 (Batch (None, 1, 3, 36)          144       \n",
      "_________________________________________________________________\n",
      "leaky_re_lu_6 (LeakyReLU)    (None, 1, 3, 36)          0         \n",
      "_________________________________________________________________\n",
      "max_pooling2d_2 (MaxPooling2 (None, 1, 2, 36)          0         \n",
      "_________________________________________________________________\n",
      "dropout_3 (Dropout)          (None, 1, 2, 36)          0         \n",
      "_________________________________________________________________\n",
      "conv2d_3 (Conv2D)            (None, 1, 1, 72)          64872     \n",
      "_________________________________________________________________\n",
      "batch_normalization_6 (Batch (None, 1, 1, 72)          288       \n",
      "_________________________________________________________________\n",
      "leaky_re_lu_7 (LeakyReLU)    (None, 1, 1, 72)          0         \n",
      "_________________________________________________________________\n",
      "max_pooling2d_3 (MaxPooling2 (None, 1, 1, 72)          0         \n",
      "_________________________________________________________________\n",
      "flatten_2 (Flatten)          (None, 72)                0         \n",
      "_________________________________________________________________\n",
      "dense_3 (Dense)              (None, 64)                4672      \n",
      "_________________________________________________________________\n",
      "leaky_re_lu_8 (LeakyReLU)    (None, 64)                0         \n",
      "_________________________________________________________________\n",
      "dense_4 (Dense)              (None, 5)                 325       \n",
      "_________________________________________________________________\n",
      "activation_2 (Activation)    (None, 5)                 0         \n",
      "=================================================================\n",
      "Total params: 112,727\n",
      "Trainable params: 112,475\n",
      "Non-trainable params: 252\n",
      "_________________________________________________________________\n"
     ]
    }
   ],
   "source": [
    "model_new2D = utils.Model2D((1,window_size,features), classes)\n",
    "opt4 = Adam(lr=0.01)\n",
    "model_new2D.compile(optimizer = opt4, loss = \"categorical_crossentropy\", metrics = [\"accuracy\"])"
   ]
  },
  {
   "cell_type": "code",
   "execution_count": 13,
   "metadata": {},
   "outputs": [
    {
     "name": "stdout",
     "output_type": "stream",
     "text": [
      "Train on 3141 samples, validate on 1149 samples\n",
      "Epoch 1/10\n",
      "3141/3141 [==============================] - 4s 1ms/step - loss: 1.1706 - acc: 0.7275 - val_loss: 0.8622 - val_acc: 0.7737\n",
      "Epoch 2/10\n",
      "3141/3141 [==============================] - 2s 793us/step - loss: 0.5955 - acc: 0.8144 - val_loss: 0.6153 - val_acc: 0.8042\n",
      "Epoch 3/10\n",
      "3141/3141 [==============================] - 3s 889us/step - loss: 0.4700 - acc: 0.8376 - val_loss: 0.5804 - val_acc: 0.8242\n",
      "Epoch 4/10\n",
      "3141/3141 [==============================] - 3s 998us/step - loss: 0.4121 - acc: 0.8571 - val_loss: 0.4802 - val_acc: 0.8721\n",
      "Epoch 5/10\n",
      "3141/3141 [==============================] - 3s 869us/step - loss: 0.3850 - acc: 0.8653 - val_loss: 0.5717 - val_acc: 0.8451\n",
      "Epoch 6/10\n",
      "3141/3141 [==============================] - 3s 860us/step - loss: 0.3506 - acc: 0.8876 - val_loss: 0.5171 - val_acc: 0.8590\n",
      "Epoch 7/10\n",
      "3141/3141 [==============================] - 2s 714us/step - loss: 0.3486 - acc: 0.8812 - val_loss: 0.5728 - val_acc: 0.8512\n",
      "Epoch 8/10\n",
      "3141/3141 [==============================] - 3s 870us/step - loss: 0.3346 - acc: 0.8895 - val_loss: 0.4712 - val_acc: 0.8842\n",
      "Epoch 9/10\n",
      "3141/3141 [==============================] - 2s 792us/step - loss: 0.2849 - acc: 0.9067 - val_loss: 0.5224 - val_acc: 0.8668\n",
      "Epoch 10/10\n",
      "3141/3141 [==============================] - 2s 787us/step - loss: 0.3186 - acc: 0.9004 - val_loss: 0.6046 - val_acc: 0.8390\n"
     ]
    },
    {
     "data": {
      "text/plain": [
       "<keras.callbacks.History at 0x201a13f6278>"
      ]
     },
     "execution_count": 13,
     "metadata": {},
     "output_type": "execute_result"
    }
   ],
   "source": [
    "# need to reshape in order to fit to the new 2D model\n",
    "X_train = X_train_s.reshape(X_train_s.shape[0], 1, window_size, features)\n",
    "X_test = X_test_s.reshape(X_test_s.shape[0], 1, window_size, features)\n",
    "\n",
    "model_new2D.fit(x = X_train, y = Y_train_s, epochs = 10, batch_size = 128, validation_data=(X_test, Y_test_s))"
   ]
  },
  {
   "cell_type": "markdown",
   "metadata": {},
   "source": [
    "### Classification and evaluation of performances"
   ]
  },
  {
   "cell_type": "code",
   "execution_count": 14,
   "metadata": {},
   "outputs": [
    {
     "name": "stdout",
     "output_type": "stream",
     "text": [
      "F1-measure:  0.8381181064649618\n",
      "AUC w.r. to each class:  {0: 0.9258203008370312, 1: 0.970834033684069, 2: 0.9114770487319507, 3: 0.9987320125130343, 4: 0.8629576306046893}\n"
     ]
    },
    {
     "data": {
      "image/png": "[encoded data removed]",
      "text/plain": [
       "<matplotlib.figure.Figure at 0x201940040b8>"
      ]
     },
     "metadata": {},
     "output_type": "display_data"
    }
   ],
   "source": [
    "# predict labels\n",
    "Y_pred_s = model_new2D.predict(X_test)\n",
    "\n",
    "# print results\n",
    "#reverse the one-ot encoder procedure\n",
    "Y_test_hard = np.argmax(Y_test_s, axis=1)\n",
    "Y_pred_hard = np.argmax(Y_pred_s, axis=1)\n",
    "\n",
    "print(\"F1-measure: \", utils.f1_score(Y_test_hard, Y_pred_hard, average='weighted'))\n",
    "print(\"AUC w.r. to each class: \", utils.AUC(Y_test_s, Y_pred_s, classes))\n",
    "\n",
    "# Compute and plot confusion matrix\n",
    "cnf_matrix = utils.confusion_matrix(Y_test_hard, Y_pred_hard)\n",
    "np.set_printoptions(precision=2)\n",
    "\n",
    "plt.figure()\n",
    "utils.plot_confusion_matrix(cnf_matrix, classes=[0,1,2,4,5],\n",
    "                      title='Confusion matrix, without normalization')"
   ]
  },
  {
   "cell_type": "markdown",
   "metadata": {},
   "source": [
    "# Tries with different models"
   ]
  },
  {
   "cell_type": "code",
   "execution_count": 15,
   "metadata": {},
   "outputs": [
    {
     "name": "stdout",
     "output_type": "stream",
     "text": [
      "_________________________________________________________________\n",
      "Layer (type)                 Output Shape              Param #   \n",
      "=================================================================\n",
      "conv2d_4 (Conv2D)            (None, 1, 50, 20)         11620     \n",
      "_________________________________________________________________\n",
      "batch_normalization_7 (Batch (None, 1, 50, 20)         80        \n",
      "_________________________________________________________________\n",
      "conv2d_5 (Conv2D)            (None, 1, 17, 40)         24040     \n",
      "_________________________________________________________________\n",
      "batch_normalization_8 (Batch (None, 1, 17, 40)         160       \n",
      "_________________________________________________________________\n",
      "leaky_re_lu_9 (LeakyReLU)    (None, 1, 17, 40)         0         \n",
      "_________________________________________________________________\n",
      "max_pooling2d_4 (MaxPooling2 (None, 1, 9, 40)          0         \n",
      "_________________________________________________________________\n",
      "flatten_3 (Flatten)          (None, 360)               0         \n",
      "_________________________________________________________________\n",
      "dense_5 (Dense)              (None, 64)                23104     \n",
      "_________________________________________________________________\n",
      "leaky_re_lu_10 (LeakyReLU)   (None, 64)                0         \n",
      "_________________________________________________________________\n",
      "dropout_4 (Dropout)          (None, 64)                0         \n",
      "_________________________________________________________________\n",
      "dense_6 (Dense)              (None, 5)                 325       \n",
      "_________________________________________________________________\n",
      "activation_3 (Activation)    (None, 5)                 0         \n",
      "=================================================================\n",
      "Total params: 59,329\n",
      "Trainable params: 59,209\n",
      "Non-trainable params: 120\n",
      "_________________________________________________________________\n"
     ]
    }
   ],
   "source": [
    "model_3 = utils.MixedModel((1,window_size,features), classes)\n",
    "opt4 = Adam(lr=0.01)\n",
    "model_3.compile(optimizer = opt4, loss = \"categorical_crossentropy\", metrics = [\"accuracy\"])"
   ]
  },
  {
   "cell_type": "code",
   "execution_count": 16,
   "metadata": {},
   "outputs": [
    {
     "name": "stdout",
     "output_type": "stream",
     "text": [
      "Train on 3141 samples, validate on 1149 samples\n",
      "Epoch 1/30\n",
      "3141/3141 [==============================] - 6s 2ms/step - loss: 1.8518 - acc: 0.6546 - val_loss: 1.1203 - val_acc: 0.8103\n",
      "Epoch 2/30\n",
      "3141/3141 [==============================] - 4s 1ms/step - loss: 0.8676 - acc: 0.7861 - val_loss: 0.6889 - val_acc: 0.8625\n",
      "Epoch 3/30\n",
      "3141/3141 [==============================] - 4s 1ms/step - loss: 0.6187 - acc: 0.8211 - val_loss: 0.5952 - val_acc: 0.8607\n",
      "Epoch 4/30\n",
      "3141/3141 [==============================] - 4s 1ms/step - loss: 0.5557 - acc: 0.8309 - val_loss: 0.5952 - val_acc: 0.8590\n",
      "Epoch 5/30\n",
      "3141/3141 [==============================] - 4s 1ms/step - loss: 0.5016 - acc: 0.8446 - val_loss: 0.5799 - val_acc: 0.8503\n",
      "Epoch 6/30\n",
      "3141/3141 [==============================] - 4s 1ms/step - loss: 0.5482 - acc: 0.8262 - val_loss: 0.6191 - val_acc: 0.8581\n",
      "Epoch 7/30\n",
      "3141/3141 [==============================] - 4s 1ms/step - loss: 0.5611 - acc: 0.8367 - val_loss: 0.5706 - val_acc: 0.8755\n",
      "Epoch 8/30\n",
      "3141/3141 [==============================] - 4s 1ms/step - loss: 0.5082 - acc: 0.8446 - val_loss: 0.6911 - val_acc: 0.8198\n",
      "Epoch 9/30\n",
      "3141/3141 [==============================] - 4s 1ms/step - loss: 0.4925 - acc: 0.8520 - val_loss: 0.5740 - val_acc: 0.8660\n",
      "Epoch 10/30\n",
      "3141/3141 [==============================] - 4s 1ms/step - loss: 0.5075 - acc: 0.8465 - val_loss: 0.6135 - val_acc: 0.8764\n",
      "Epoch 11/30\n",
      "3141/3141 [==============================] - 4s 1ms/step - loss: 0.5382 - acc: 0.8424 - val_loss: 0.5903 - val_acc: 0.8642\n",
      "Epoch 12/30\n",
      "3141/3141 [==============================] - 4s 1ms/step - loss: 0.4752 - acc: 0.8545 - val_loss: 0.5998 - val_acc: 0.8512\n",
      "Epoch 13/30\n",
      "3141/3141 [==============================] - 4s 1ms/step - loss: 0.4629 - acc: 0.8637 - val_loss: 0.6224 - val_acc: 0.8642\n",
      "Epoch 14/30\n",
      "3141/3141 [==============================] - 4s 1ms/step - loss: 0.4439 - acc: 0.8669 - val_loss: 0.5260 - val_acc: 0.8764\n",
      "Epoch 15/30\n",
      "3141/3141 [==============================] - 4s 1ms/step - loss: 0.4537 - acc: 0.8542 - val_loss: 0.5865 - val_acc: 0.8425\n",
      "Epoch 16/30\n",
      "3141/3141 [==============================] - 4s 1ms/step - loss: 0.4428 - acc: 0.8707 - val_loss: 0.6388 - val_acc: 0.8555\n",
      "Epoch 17/30\n",
      "3141/3141 [==============================] - 4s 1ms/step - loss: 0.4620 - acc: 0.8688 - val_loss: 0.5606 - val_acc: 0.8755\n",
      "Epoch 18/30\n",
      "3141/3141 [==============================] - 4s 1ms/step - loss: 0.4307 - acc: 0.8695 - val_loss: 0.5837 - val_acc: 0.8642\n",
      "Epoch 19/30\n",
      "3141/3141 [==============================] - 4s 1ms/step - loss: 0.5110 - acc: 0.8539 - val_loss: 0.6051 - val_acc: 0.8634\n",
      "Epoch 20/30\n",
      "3141/3141 [==============================] - 4s 1ms/step - loss: 0.5006 - acc: 0.8628 - val_loss: 0.6267 - val_acc: 0.8695\n",
      "Epoch 21/30\n",
      "3141/3141 [==============================] - 4s 1ms/step - loss: 0.4713 - acc: 0.8730 - val_loss: 0.5783 - val_acc: 0.8686\n",
      "Epoch 22/30\n",
      "3141/3141 [==============================] - 4s 1ms/step - loss: 0.4495 - acc: 0.8656 - val_loss: 0.6003 - val_acc: 0.8703\n",
      "Epoch 23/30\n",
      "3141/3141 [==============================] - 4s 1ms/step - loss: 0.4309 - acc: 0.8793 - val_loss: 0.6592 - val_acc: 0.8468\n",
      "Epoch 24/30\n",
      "3141/3141 [==============================] - 4s 1ms/step - loss: 0.4168 - acc: 0.8781 - val_loss: 0.5817 - val_acc: 0.8564\n",
      "Epoch 25/30\n",
      "3141/3141 [==============================] - 4s 1ms/step - loss: 0.4605 - acc: 0.8746 - val_loss: 0.6610 - val_acc: 0.8433\n",
      "Epoch 26/30\n",
      "3141/3141 [==============================] - 5s 2ms/step - loss: 0.4437 - acc: 0.8806 - val_loss: 0.6721 - val_acc: 0.8503\n",
      "Epoch 27/30\n",
      "3141/3141 [==============================] - 4s 1ms/step - loss: 0.4329 - acc: 0.8822 - val_loss: 0.7131 - val_acc: 0.8381\n",
      "Epoch 28/30\n",
      "3141/3141 [==============================] - 4s 1ms/step - loss: 0.4321 - acc: 0.8819 - val_loss: 0.7828 - val_acc: 0.8381\n",
      "Epoch 29/30\n",
      "3141/3141 [==============================] - 4s 1ms/step - loss: 0.4124 - acc: 0.8933 - val_loss: 0.6167 - val_acc: 0.8634\n",
      "Epoch 30/30\n",
      "3141/3141 [==============================] - 4s 1ms/step - loss: 0.3884 - acc: 0.8949 - val_loss: 0.7444 - val_acc: 0.8346\n"
     ]
    },
    {
     "data": {
      "text/plain": [
       "<keras.callbacks.History at 0x20193f7cd30>"
      ]
     },
     "execution_count": 16,
     "metadata": {},
     "output_type": "execute_result"
    }
   ],
   "source": [
    "# need to reshape in order to fit to the new 2D model\n",
    "X_train = X_train_s.reshape(X_train_s.shape[0], 1, window_size, features)\n",
    "X_test = X_test_s.reshape(X_test_s.shape[0], 1, window_size, features)\n",
    "\n",
    "model_3.fit(x = X_train, y = Y_train_s, epochs = 30, batch_size = 128, validation_data=(X_test, Y_test_s))"
   ]
  },
  {
   "cell_type": "code",
   "execution_count": 17,
   "metadata": {},
   "outputs": [
    {
     "name": "stdout",
     "output_type": "stream",
     "text": [
      "F1-measure:  0.830039310631993\n",
      "AUC w.r. to each class:  {0: 0.8848438674340311, 1: 0.9651595118835514, 2: 0.92320497222458, 3: 0.9997664233576642, 4: 0.8631221719457014}\n"
     ]
    },
    {
     "data": {
      "image/png": "[encoded data removed]",
      "text/plain": [
       "<matplotlib.figure.Figure at 0x2019a516c88>"
      ]
     },
     "metadata": {},
     "output_type": "display_data"
    }
   ],
   "source": [
    "# predict labels\n",
    "Y_pred_s = model_3.predict(X_test)\n",
    "\n",
    "# print results\n",
    "#reverse the one-ot encoder procedure\n",
    "Y_test_hard = np.argmax(Y_test_s, axis=1)\n",
    "Y_pred_hard = np.argmax(Y_pred_s, axis=1)\n",
    "\n",
    "print(\"F1-measure: \", utils.f1_score(Y_test_hard, Y_pred_hard, average='weighted'))\n",
    "print(\"AUC w.r. to each class: \", utils.AUC(Y_test_s, Y_pred_s, classes))\n",
    "\n",
    "# Compute and plot confusion matrix\n",
    "cnf_matrix = utils.confusion_matrix(Y_test_hard, Y_pred_hard)\n",
    "np.set_printoptions(precision=2)\n",
    "\n",
    "plt.figure()\n",
    "utils.plot_confusion_matrix(cnf_matrix, classes=[0,1,2,4,5],\n",
    "                      title='Confusion matrix, without normalization')"
   ]
  }
 ],
 "metadata": {
  "kernelspec": {
   "display_name": "Python 3",
   "language": "python",
   "name": "python3"
  },
  "language_info": {
   "codemirror_mode": {
    "name": "ipython",
    "version": 3
   },
   "file_extension": ".py",
   "mimetype": "text/x-python",
   "name": "python",
   "nbconvert_exporter": "python",
   "pygments_lexer": "ipython3",
   "version": "3.6.4"
  }
 },
 "nbformat": 4,
 "nbformat_minor": 2
}
