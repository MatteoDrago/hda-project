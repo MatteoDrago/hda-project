{
 "cells": [
  {
   "cell_type": "markdown",
   "metadata": {},
   "source": [
    "# Task A - single subject\n",
    "\n",
    "## Notebook setup\n",
    "This first cell contains the parameters that can be tuned for code execution:\n",
    "- subject: select the subject on which to test the model, between [1,4];\n",
    "- label: index of feature column to be selected to perform activity detection, between [0,6]. The default value for task B is 6;\n",
    "- folder: directory name where '.mat' files are stored;\n",
    "- window_size: parameter that sets the length of temporal windows on which to perform the convolution;\n",
    "- stride: step length to chose the next window."
   ]
  },
  {
   "cell_type": "code",
   "execution_count": 1,
   "metadata": {},
   "outputs": [],
   "source": [
    "subject = 1\n",
    "label = 0\n",
    "folder = \"../data/full/\"\n",
    "window_size = 15\n",
    "stride = 5\n",
    "GPU = True"
   ]
  },
  {
   "cell_type": "code",
   "execution_count": 2,
   "metadata": {},
   "outputs": [
    {
     "name": "stderr",
     "output_type": "stream",
     "text": [
      "C:\\Users\\Riccardo\\Anaconda3\\lib\\site-packages\\h5py\\__init__.py:36: FutureWarning: Conversion of the second argument of issubdtype from `float` to `np.floating` is deprecated. In future, it will be treated as `np.float64 == np.dtype(float).type`.\n",
      "  from ._conv import register_converters as _register_converters\n",
      "Using TensorFlow backend.\n"
     ]
    }
   ],
   "source": [
    "import preprocessing\n",
    "import models\n",
    "import utils\n",
    "import numpy as np\n",
    "import seaborn as sns\n",
    "import matplotlib.pyplot as plt\n",
    "from sklearn.metrics import classification_report, f1_score, confusion_matrix\n",
    "from keras.models import load_model\n",
    "from keras.optimizers import Adam\n",
    "from keras.callbacks import ModelCheckpoint, ReduceLROnPlateau\n",
    "from keras.utils import to_categorical"
   ]
  },
  {
   "cell_type": "markdown",
   "metadata": {},
   "source": [
    "In the following cell, we make use of some functions of Keras which have been removed, but of which the code is still available at https://github.com/keras-team/keras/commit/a56b1a55182acf061b1eb2e2c86b48193a0e88f7. These are used to evaulate the f1 score during training on batches of data: this is only an approximation though, which is the reason why they have been removed."
   ]
  },
  {
   "cell_type": "code",
   "execution_count": 3,
   "metadata": {},
   "outputs": [],
   "source": [
    "import os\n",
    "if not(os.path.exists(\"./data\")):\n",
    "    os.mkdir(\"./data\")"
   ]
  },
  {
   "cell_type": "markdown",
   "metadata": {},
   "source": [
    "# One-shot classification\n",
    "Here classification is performed with null class.\n",
    "### Preprocessing"
   ]
  },
  {
   "cell_type": "code",
   "execution_count": 4,
   "metadata": {},
   "outputs": [],
   "source": [
    "X_train, Y_train, X_test, Y_test, n_features, n_classes, class_weights = preprocessing.loadData(subject=subject,\n",
    "                                                                                                label=label,\n",
    "                                                                                                folder=folder,\n",
    "                                                                                                window_size=window_size,\n",
    "                                                                                                stride=stride,\n",
    "                                                                                                make_binary=False,\n",
    "                                                                                                null_class=True,\n",
    "                                                                                                print_info=False)"
   ]
  },
  {
   "cell_type": "markdown",
   "metadata": {},
   "source": [
    "Y_train and Y_test contain the correct labels for each signals window. Y_test in particular will be used to evaluate predictions for both this (one-shot) and the two-steps models. For this reason it is here saved with a different name, to avoid having it being overwritten later."
   ]
  },
  {
   "cell_type": "code",
   "execution_count": 5,
   "metadata": {},
   "outputs": [],
   "source": [
    "Y_test_true = Y_test"
   ]
  },
  {
   "cell_type": "markdown",
   "metadata": {},
   "source": [
    "### Model"
   ]
  },
  {
   "cell_type": "code",
   "execution_count": 6,
   "metadata": {},
   "outputs": [],
   "source": [
    "oneshot_model = models.Convolutional1DRecurrent((window_size, n_features), n_classes, GPU=GPU, print_info=True)\n",
    "\n",
    "oneshot_model.compile(optimizer = Adam(lr=0.001),\n",
    "                      loss = \"categorical_crossentropy\", \n",
    "                      metrics = [\"accuracy\"])\n",
    "\n",
    "checkpointer = ModelCheckpoint(filepath='./data/model_AOS_1.hdf5', verbose=1, save_best_only=True)\n",
    "lr_reducer = ReduceLROnPlateau(factor=0.15, patience=5, min_lr=0.00001, verbose=1)"
   ]
  },
  {
   "cell_type": "markdown",
   "metadata": {},
   "source": [
    "### Training"
   ]
  },
  {
   "cell_type": "code",
   "execution_count": 7,
   "metadata": {},
   "outputs": [
    {
     "name": "stdout",
     "output_type": "stream",
     "text": [
      "Train on 31422 samples, validate on 11504 samples\n",
      "Epoch 1/20\n",
      "31422/31422 [==============================] - 8s 254us/step - loss: 0.4101 - acc: 0.8393 - val_loss: 0.3367 - val_acc: 0.8873\n",
      "\n",
      "Epoch 00001: val_loss improved from inf to 0.33669, saving model to ./data/model_AOS_1.hdf5\n",
      "Epoch 2/20\n",
      "31422/31422 [==============================] - 5s 144us/step - loss: 0.2570 - acc: 0.8980 - val_loss: 0.3171 - val_acc: 0.8785\n",
      "\n",
      "Epoch 00002: val_loss improved from 0.33669 to 0.31714, saving model to ./data/model_AOS_1.hdf5\n",
      "Epoch 3/20\n",
      "31422/31422 [==============================] - 5s 144us/step - loss: 0.2085 - acc: 0.9171 - val_loss: 0.3859 - val_acc: 0.8700\n",
      "\n",
      "Epoch 00003: val_loss did not improve\n",
      "Epoch 4/20\n",
      "31422/31422 [==============================] - 5s 148us/step - loss: 0.1783 - acc: 0.9297 - val_loss: 0.3685 - val_acc: 0.8707\n",
      "\n",
      "Epoch 00004: val_loss did not improve\n",
      "Epoch 5/20\n",
      "31422/31422 [==============================] - 5s 147us/step - loss: 0.1560 - acc: 0.9385 - val_loss: 0.3923 - val_acc: 0.8795\n",
      "\n",
      "Epoch 00005: val_loss did not improve\n",
      "Epoch 6/20\n",
      "31422/31422 [==============================] - 5s 145us/step - loss: 0.1372 - acc: 0.9443 - val_loss: 0.3945 - val_acc: 0.8928\n",
      "\n",
      "Epoch 00006: val_loss did not improve\n",
      "Epoch 7/20\n",
      "31422/31422 [==============================] - 5s 145us/step - loss: 0.1231 - acc: 0.9515 - val_loss: 0.4332 - val_acc: 0.8791\n",
      "\n",
      "Epoch 00007: val_loss did not improve\n",
      "Epoch 8/20\n",
      "31422/31422 [==============================] - 5s 145us/step - loss: 0.1091 - acc: 0.9582 - val_loss: 0.4470 - val_acc: 0.8807\n",
      "\n",
      "Epoch 00008: val_loss did not improve\n",
      "\n",
      "Epoch 00008: ReduceLROnPlateau reducing learning rate to 0.0001500000071246177.\n",
      "Epoch 9/20\n",
      "31422/31422 [==============================] - 5s 146us/step - loss: 0.0717 - acc: 0.9718 - val_loss: 0.5212 - val_acc: 0.8814\n",
      "\n",
      "Epoch 00009: val_loss did not improve\n",
      "Epoch 10/20\n",
      "31422/31422 [==============================] - 5s 144us/step - loss: 0.0607 - acc: 0.9764 - val_loss: 0.5921 - val_acc: 0.8798\n",
      "\n",
      "Epoch 00010: val_loss did not improve\n",
      "Epoch 11/20\n",
      "31422/31422 [==============================] - 5s 146us/step - loss: 0.0539 - acc: 0.9786 - val_loss: 0.6151 - val_acc: 0.8807\n",
      "\n",
      "Epoch 00011: val_loss did not improve\n",
      "Epoch 12/20\n",
      "31422/31422 [==============================] - 5s 144us/step - loss: 0.0492 - acc: 0.9798 - val_loss: 0.6611 - val_acc: 0.8808\n",
      "\n",
      "Epoch 00012: val_loss did not improve\n",
      "Epoch 13/20\n",
      "31422/31422 [==============================] - 5s 143us/step - loss: 0.0467 - acc: 0.9812 - val_loss: 0.6781 - val_acc: 0.8791\n",
      "\n",
      "Epoch 00013: val_loss did not improve\n",
      "\n",
      "Epoch 00013: ReduceLROnPlateau reducing learning rate to 2.2500001068692655e-05.\n",
      "Epoch 14/20\n",
      "31422/31422 [==============================] - 5s 143us/step - loss: 0.0395 - acc: 0.9843 - val_loss: 0.6750 - val_acc: 0.8797\n",
      "\n",
      "Epoch 00014: val_loss did not improve\n",
      "Epoch 15/20\n",
      "31422/31422 [==============================] - 5s 144us/step - loss: 0.0372 - acc: 0.9851 - val_loss: 0.7087 - val_acc: 0.8807\n",
      "\n",
      "Epoch 00015: val_loss did not improve\n",
      "Epoch 16/20\n",
      "31422/31422 [==============================] - 5s 148us/step - loss: 0.0372 - acc: 0.9852 - val_loss: 0.7212 - val_acc: 0.8791\n",
      "\n",
      "Epoch 00016: val_loss did not improve\n",
      "Epoch 17/20\n",
      "31422/31422 [==============================] - 5s 145us/step - loss: 0.0377 - acc: 0.9855 - val_loss: 0.7241 - val_acc: 0.8799\n",
      "\n",
      "Epoch 00017: val_loss did not improve\n",
      "Epoch 18/20\n",
      "31422/31422 [==============================] - 5s 143us/step - loss: 0.0357 - acc: 0.9861 - val_loss: 0.7440 - val_acc: 0.8791\n",
      "\n",
      "Epoch 00018: val_loss did not improve\n",
      "\n",
      "Epoch 00018: ReduceLROnPlateau reducing learning rate to 1e-05.\n",
      "Epoch 19/20\n",
      "31422/31422 [==============================] - 4s 143us/step - loss: 0.0338 - acc: 0.9870 - val_loss: 0.7435 - val_acc: 0.8796\n",
      "\n",
      "Epoch 00019: val_loss did not improve\n",
      "Epoch 20/20\n",
      "31422/31422 [==============================] - 5s 145us/step - loss: 0.0322 - acc: 0.9865 - val_loss: 0.7547 - val_acc: 0.8792\n",
      "\n",
      "Epoch 00020: val_loss did not improve\n"
     ]
    },
    {
     "data": {
      "text/plain": [
       "<keras.callbacks.History at 0x1fdafceeb38>"
      ]
     },
     "execution_count": 7,
     "metadata": {},
     "output_type": "execute_result"
    }
   ],
   "source": [
    "oneshot_model.fit(x = X_train, \n",
    "                  y = to_categorical(Y_train),\n",
    "                  epochs = 20,\n",
    "                  batch_size = 128,\n",
    "                  verbose = 1,\n",
    "                  callbacks=[checkpointer, lr_reducer],\n",
    "                  validation_data=(X_test, to_categorical(Y_test)),\n",
    "                  class_weight=class_weights)"
   ]
  },
  {
   "cell_type": "markdown",
   "metadata": {},
   "source": [
    "### Evaluation - passare class_weights a class report"
   ]
  },
  {
   "cell_type": "code",
   "execution_count": 8,
   "metadata": {},
   "outputs": [
    {
     "name": "stdout",
     "output_type": "stream",
     "text": [
      "             precision    recall  f1-score   support\n",
      "\n",
      "          0       0.92      0.81      0.86      2039\n",
      "          1       0.92      0.86      0.89      3958\n",
      "          2       0.70      0.84      0.76      2332\n",
      "          3       0.98      0.99      0.98      2733\n",
      "          4       0.93      0.84      0.88       442\n",
      "\n",
      "avg / total       0.89      0.88      0.88     11504\n",
      "\n",
      "Weighted f1-score: 0.8812433764336887\n"
     ]
    }
   ],
   "source": [
    "Y_pred = oneshot_model.predict_classes(X_test)\n",
    "print(classification_report(Y_test, Y_pred))\n",
    "score_OS = f1_score(Y_test, Y_pred, average='weighted')\n",
    "print(\"Weighted f1-score:\", score_OS)"
   ]
  },
  {
   "cell_type": "code",
   "execution_count": 9,
   "metadata": {},
   "outputs": [
    {
     "name": "stdout",
     "output_type": "stream",
     "text": [
      "             precision    recall  f1-score   support\n",
      "\n",
      "          0       0.96      0.79      0.87      2039\n",
      "          1       0.90      0.84      0.87      3958\n",
      "          2       0.70      0.89      0.78      2332\n",
      "          3       0.98      0.99      0.99      2733\n",
      "          4       0.89      0.85      0.87       442\n",
      "\n",
      "avg / total       0.89      0.88      0.88     11504\n",
      "\n",
      "Weighted f1-score: 0.8805286132681011\n"
     ]
    }
   ],
   "source": [
    "oneshot_model_best = load_model('./data/model_AOS_1.hdf5')\n",
    "\n",
    "Y_pred = oneshot_model_best.predict_classes(X_test)\n",
    "print(classification_report(Y_test, Y_pred))\n",
    "score_OS_best = f1_score(Y_test, Y_pred, average='weighted')\n",
    "print(\"Weighted f1-score:\", score_OS_best)\n",
    "if score_OS_best > score_OS:\n",
    "    score_OS = score_OS_best"
   ]
  },
  {
   "cell_type": "code",
   "execution_count": 10,
   "metadata": {},
   "outputs": [
    {
     "data": {
      "image/png": "[encoded data removed]",
      "text/plain": [
       "<Figure size 432x288 with 2 Axes>"
      ]
     },
     "metadata": {},
     "output_type": "display_data"
    }
   ],
   "source": [
    "cnf_matrix = confusion_matrix(Y_test, Y_pred)\n",
    "np.set_printoptions(precision=2)\n",
    "\n",
    "sns.set_style(\"dark\")\n",
    "plt.figure()\n",
    "utils.plot_confusion_matrix(cnf_matrix, classes=[0,1],\n",
    "                      title='Confusion matrix, without normalization')"
   ]
  },
  {
   "cell_type": "markdown",
   "metadata": {},
   "source": [
    "# Two-steps classification\n",
    "## Activity detection\n",
    "This model performs a binary classification.\n",
    "### Preprocessing"
   ]
  },
  {
   "cell_type": "code",
   "execution_count": 11,
   "metadata": {},
   "outputs": [],
   "source": [
    "X_train, Y_train, X_test, Y_test, n_features, n_classes, class_weights = preprocessing.loadData(subject=subject,\n",
    "                                                                                                label=label,\n",
    "                                                                                                folder=folder,\n",
    "                                                                                                window_size=window_size,\n",
    "                                                                                                stride=stride,\n",
    "                                                                                                make_binary=True,\n",
    "                                                                                                null_class=True,\n",
    "                                                                                                print_info=False)"
   ]
  },
  {
   "cell_type": "markdown",
   "metadata": {},
   "source": [
    "### Model"
   ]
  },
  {
   "cell_type": "code",
   "execution_count": 12,
   "metadata": {},
   "outputs": [],
   "source": [
    "detection_model = models.Convolutional1DRecurrent((window_size, n_features), n_classes, GPU=GPU, print_info=False)\n",
    "\n",
    "detection_model.compile(optimizer = Adam(lr=0.001),\n",
    "                        loss = \"categorical_crossentropy\", \n",
    "                        metrics = [\"accuracy\"])\n",
    "\n",
    "checkpointer = ModelCheckpoint(filepath='./data/model_ATSD_1.hdf5', verbose=1, save_best_only=True)\n",
    "lr_reducer = ReduceLROnPlateau(factor=0.15, patience=5, min_lr=0.00001, verbose=1)"
   ]
  },
  {
   "cell_type": "markdown",
   "metadata": {},
   "source": [
    "### Training"
   ]
  },
  {
   "cell_type": "code",
   "execution_count": 13,
   "metadata": {},
   "outputs": [
    {
     "name": "stdout",
     "output_type": "stream",
     "text": [
      "Train on 31422 samples, validate on 11504 samples\n",
      "Epoch 1/20\n",
      "31422/31422 [==============================] - 6s 188us/step - loss: 0.1252 - acc: 0.9585 - val_loss: 0.1979 - val_acc: 0.9139\n",
      "\n",
      "Epoch 00001: val_loss improved from inf to 0.19790, saving model to ./data/model_ATSD_1.hdf5\n",
      "Epoch 2/20\n",
      "31422/31422 [==============================] - 5s 145us/step - loss: 0.0610 - acc: 0.9785 - val_loss: 0.1650 - val_acc: 0.9511\n",
      "\n",
      "Epoch 00002: val_loss improved from 0.19790 to 0.16498, saving model to ./data/model_ATSD_1.hdf5\n",
      "Epoch 3/20\n",
      "31422/31422 [==============================] - 5s 145us/step - loss: 0.0449 - acc: 0.9844 - val_loss: 0.1385 - val_acc: 0.9506\n",
      "\n",
      "Epoch 00003: val_loss improved from 0.16498 to 0.13846, saving model to ./data/model_ATSD_1.hdf5\n",
      "Epoch 4/20\n",
      "31422/31422 [==============================] - 5s 145us/step - loss: 0.0336 - acc: 0.9882 - val_loss: 0.1810 - val_acc: 0.9465\n",
      "\n",
      "Epoch 00004: val_loss did not improve\n",
      "Epoch 5/20\n",
      "31422/31422 [==============================] - 5s 146us/step - loss: 0.0277 - acc: 0.9899 - val_loss: 0.1377 - val_acc: 0.9593\n",
      "\n",
      "Epoch 00005: val_loss improved from 0.13846 to 0.13774, saving model to ./data/model_ATSD_1.hdf5\n",
      "Epoch 6/20\n",
      "31422/31422 [==============================] - 5s 146us/step - loss: 0.0248 - acc: 0.9910 - val_loss: 0.1752 - val_acc: 0.9539\n",
      "\n",
      "Epoch 00006: val_loss did not improve\n",
      "Epoch 7/20\n",
      "31422/31422 [==============================] - 5s 146us/step - loss: 0.0186 - acc: 0.9928 - val_loss: 0.1834 - val_acc: 0.9586\n",
      "\n",
      "Epoch 00007: val_loss did not improve\n",
      "Epoch 8/20\n",
      "31422/31422 [==============================] - 5s 146us/step - loss: 0.0170 - acc: 0.9942 - val_loss: 0.1520 - val_acc: 0.9630\n",
      "\n",
      "Epoch 00008: val_loss did not improve\n",
      "Epoch 9/20\n",
      "31422/31422 [==============================] - 5s 146us/step - loss: 0.0123 - acc: 0.9956 - val_loss: 0.1684 - val_acc: 0.9602\n",
      "\n",
      "Epoch 00009: val_loss did not improve\n",
      "Epoch 10/20\n",
      "31422/31422 [==============================] - 5s 146us/step - loss: 0.0115 - acc: 0.9962 - val_loss: 0.1875 - val_acc: 0.9578\n",
      "\n",
      "Epoch 00010: val_loss did not improve\n",
      "Epoch 11/20\n",
      "31422/31422 [==============================] - 5s 148us/step - loss: 0.0140 - acc: 0.9947 - val_loss: 0.2340 - val_acc: 0.9528\n",
      "\n",
      "Epoch 00011: val_loss did not improve\n",
      "\n",
      "Epoch 00011: ReduceLROnPlateau reducing learning rate to 0.0001500000071246177.\n",
      "Epoch 12/20\n",
      "31422/31422 [==============================] - 5s 145us/step - loss: 0.0055 - acc: 0.9979 - val_loss: 0.2237 - val_acc: 0.9571\n",
      "\n",
      "Epoch 00012: val_loss did not improve\n",
      "Epoch 13/20\n",
      "31422/31422 [==============================] - 5s 146us/step - loss: 0.0026 - acc: 0.9992 - val_loss: 0.2873 - val_acc: 0.9572\n",
      "\n",
      "Epoch 00013: val_loss did not improve\n",
      "Epoch 14/20\n",
      "31422/31422 [==============================] - 5s 146us/step - loss: 0.0023 - acc: 0.9994 - val_loss: 0.2965 - val_acc: 0.9585\n",
      "\n",
      "Epoch 00014: val_loss did not improve\n",
      "Epoch 15/20\n",
      "31422/31422 [==============================] - 5s 146us/step - loss: 0.0026 - acc: 0.9991 - val_loss: 0.3058 - val_acc: 0.9584\n",
      "\n",
      "Epoch 00015: val_loss did not improve\n",
      "Epoch 16/20\n",
      "31422/31422 [==============================] - 5s 145us/step - loss: 0.0021 - acc: 0.9991 - val_loss: 0.3097 - val_acc: 0.9578\n",
      "\n",
      "Epoch 00016: val_loss did not improve\n",
      "\n",
      "Epoch 00016: ReduceLROnPlateau reducing learning rate to 2.2500001068692655e-05.\n",
      "Epoch 17/20\n",
      "31422/31422 [==============================] - 5s 145us/step - loss: 0.0015 - acc: 0.9995 - val_loss: 0.3106 - val_acc: 0.9579\n",
      "\n",
      "Epoch 00017: val_loss did not improve\n",
      "Epoch 18/20\n",
      "31422/31422 [==============================] - 5s 145us/step - loss: 0.0012 - acc: 0.9996 - val_loss: 0.3070 - val_acc: 0.9587\n",
      "\n",
      "Epoch 00018: val_loss did not improve\n",
      "Epoch 19/20\n",
      "31422/31422 [==============================] - 5s 146us/step - loss: 0.0014 - acc: 0.9995 - val_loss: 0.3086 - val_acc: 0.9583\n",
      "\n",
      "Epoch 00019: val_loss did not improve\n",
      "Epoch 20/20\n",
      "31422/31422 [==============================] - 5s 146us/step - loss: 0.0011 - acc: 0.9996 - val_loss: 0.3111 - val_acc: 0.9575\n",
      "\n",
      "Epoch 00020: val_loss did not improve\n"
     ]
    },
    {
     "data": {
      "text/plain": [
       "<keras.callbacks.History at 0x1fdafcee518>"
      ]
     },
     "execution_count": 13,
     "metadata": {},
     "output_type": "execute_result"
    }
   ],
   "source": [
    "detection_model.fit(x = X_train, \n",
    "                    y = to_categorical(Y_train), \n",
    "                    epochs = 20, \n",
    "                    batch_size = 128,\n",
    "                    verbose = 1,\n",
    "                    callbacks=[checkpointer, lr_reducer],\n",
    "                    validation_data=(X_test, to_categorical(Y_test)),\n",
    "                    class_weight=class_weights)"
   ]
  },
  {
   "cell_type": "markdown",
   "metadata": {},
   "source": [
    "### Evaluation"
   ]
  },
  {
   "cell_type": "code",
   "execution_count": 14,
   "metadata": {},
   "outputs": [
    {
     "name": "stdout",
     "output_type": "stream",
     "text": [
      "             precision    recall  f1-score   support\n",
      "\n",
      "          0       0.94      0.82      0.87      2039\n",
      "          1       0.96      0.99      0.97      9465\n",
      "\n",
      "avg / total       0.96      0.96      0.96     11504\n",
      "\n",
      "Weighted f1-score: 0.95633852547153\n"
     ]
    }
   ],
   "source": [
    "Y_pred = detection_model.predict_classes(X_test)\n",
    "print(classification_report(Y_test, Y_pred))\n",
    "score_TSD = f1_score(Y_test, Y_pred, average='weighted')\n",
    "print(\"Weighted f1-score:\", score_TSD)"
   ]
  },
  {
   "cell_type": "code",
   "execution_count": 15,
   "metadata": {},
   "outputs": [
    {
     "name": "stdout",
     "output_type": "stream",
     "text": [
      "             precision    recall  f1-score   support\n",
      "\n",
      "          0       0.92      0.84      0.88      2039\n",
      "          1       0.97      0.98      0.98      9465\n",
      "\n",
      "avg / total       0.96      0.96      0.96     11504\n",
      "\n",
      "Weighted f1-score: 0.9585971816870955\n"
     ]
    }
   ],
   "source": [
    "detection_model_best = load_model('./data/model_ATSD_1.hdf5')\n",
    "\n",
    "Y_pred = detection_model_best.predict_classes(X_test)\n",
    "print(classification_report(Y_test, Y_pred))\n",
    "score_TSD_best = f1_score(Y_test, Y_pred, average='weighted')\n",
    "print(\"Weighted f1-score:\", score_TSD_best)\n",
    "if score_TSD_best > score_TSD:\n",
    "    score_TSD = score_TSD_best"
   ]
  },
  {
   "cell_type": "code",
   "execution_count": 16,
   "metadata": {},
   "outputs": [
    {
     "data": {
      "image/png": "[encoded data removed]",
      "text/plain": [
       "<Figure size 432x288 with 2 Axes>"
      ]
     },
     "metadata": {},
     "output_type": "display_data"
    }
   ],
   "source": [
    "cnf_matrix = confusion_matrix(Y_test, Y_pred)\n",
    "np.set_printoptions(precision=2)\n",
    "\n",
    "sns.set_style(\"dark\")\n",
    "plt.figure()\n",
    "utils.plot_confusion_matrix(cnf_matrix, classes=[0,1],\n",
    "                      title='Confusion matrix, without normalization')"
   ]
  },
  {
   "cell_type": "code",
   "execution_count": 17,
   "metadata": {},
   "outputs": [],
   "source": [
    "Y_pred_d = Y_pred"
   ]
  },
  {
   "cell_type": "code",
   "execution_count": 18,
   "metadata": {},
   "outputs": [
    {
     "data": {
      "text/plain": [
       "9639"
      ]
     },
     "execution_count": 18,
     "metadata": {},
     "output_type": "execute_result"
    }
   ],
   "source": [
    "np.sum(Y_pred_d)"
   ]
  },
  {
   "cell_type": "code",
   "execution_count": 19,
   "metadata": {},
   "outputs": [
    {
     "data": {
      "text/plain": [
       "(11504,)"
      ]
     },
     "execution_count": 19,
     "metadata": {},
     "output_type": "execute_result"
    }
   ],
   "source": [
    "Y_pred_d.shape"
   ]
  },
  {
   "cell_type": "markdown",
   "metadata": {},
   "source": [
    "## Activity classification"
   ]
  },
  {
   "cell_type": "code",
   "execution_count": 20,
   "metadata": {},
   "outputs": [],
   "source": [
    "X_train, Y_train, X_test, Y_test, n_features, n_classes, class_weights = preprocessing.loadData(subject=subject,\n",
    "                                                                                                label=label,\n",
    "                                                                                                folder=folder,\n",
    "                                                                                                window_size=window_size,\n",
    "                                                                                                stride=stride,\n",
    "                                                                                                make_binary=False,\n",
    "                                                                                                null_class=False,\n",
    "                                                                                                print_info=False)"
   ]
  },
  {
   "cell_type": "markdown",
   "metadata": {},
   "source": [
    "### Model"
   ]
  },
  {
   "cell_type": "code",
   "execution_count": 21,
   "metadata": {},
   "outputs": [],
   "source": [
    "classification_model = models.Convolutional1DRecurrent((window_size, n_features), n_classes, GPU=GPU, print_info=False)\n",
    "\n",
    "classification_model.compile(optimizer = Adam(lr=0.001),\n",
    "                             loss = \"categorical_crossentropy\", \n",
    "                             metrics = [\"accuracy\"])\n",
    "\n",
    "checkpointer = ModelCheckpoint(filepath='./data/model_ATSC_1.hdf5', verbose=1, save_best_only=True)\n",
    "lr_reducer = ReduceLROnPlateau(factor=0.15, patience=5, min_lr=0.00001, verbose=1)"
   ]
  },
  {
   "cell_type": "markdown",
   "metadata": {},
   "source": [
    "### Training"
   ]
  },
  {
   "cell_type": "code",
   "execution_count": 22,
   "metadata": {},
   "outputs": [
    {
     "name": "stdout",
     "output_type": "stream",
     "text": [
      "Train on 27948 samples, validate on 9465 samples\n",
      "Epoch 1/20\n",
      "27948/27948 [==============================] - 6s 202us/step - loss: 0.3177 - acc: 0.8665 - val_loss: 0.2700 - val_acc: 0.9231\n",
      "\n",
      "Epoch 00001: val_loss improved from inf to 0.27001, saving model to ./data/model_ATSC_1.hdf5\n",
      "Epoch 2/20\n",
      "27948/27948 [==============================] - 4s 145us/step - loss: 0.2047 - acc: 0.9151 - val_loss: 0.2645 - val_acc: 0.9193\n",
      "\n",
      "Epoch 00002: val_loss improved from 0.27001 to 0.26449, saving model to ./data/model_ATSC_1.hdf5\n",
      "Epoch 3/20\n",
      "27948/27948 [==============================] - 4s 146us/step - loss: 0.1736 - acc: 0.9289 - val_loss: 0.2483 - val_acc: 0.9174\n",
      "\n",
      "Epoch 00003: val_loss improved from 0.26449 to 0.24829, saving model to ./data/model_ATSC_1.hdf5\n",
      "Epoch 4/20\n",
      "27948/27948 [==============================] - 4s 146us/step - loss: 0.1492 - acc: 0.9384 - val_loss: 0.2373 - val_acc: 0.9312\n",
      "\n",
      "Epoch 00004: val_loss improved from 0.24829 to 0.23735, saving model to ./data/model_ATSC_1.hdf5\n",
      "Epoch 5/20\n",
      "27948/27948 [==============================] - 4s 146us/step - loss: 0.1290 - acc: 0.9469 - val_loss: 0.2662 - val_acc: 0.9153\n",
      "\n",
      "Epoch 00005: val_loss did not improve\n",
      "Epoch 6/20\n",
      "27948/27948 [==============================] - 4s 145us/step - loss: 0.1124 - acc: 0.9539 - val_loss: 0.3056 - val_acc: 0.9102\n",
      "\n",
      "Epoch 00006: val_loss did not improve\n",
      "Epoch 7/20\n",
      "27948/27948 [==============================] - 4s 145us/step - loss: 0.1004 - acc: 0.9593 - val_loss: 0.2912 - val_acc: 0.9152\n",
      "\n",
      "Epoch 00007: val_loss did not improve\n",
      "Epoch 8/20\n",
      "27948/27948 [==============================] - 4s 145us/step - loss: 0.0876 - acc: 0.9648 - val_loss: 0.3394 - val_acc: 0.9183\n",
      "\n",
      "Epoch 00008: val_loss did not improve\n",
      "Epoch 9/20\n",
      "27948/27948 [==============================] - 4s 145us/step - loss: 0.0790 - acc: 0.9681 - val_loss: 0.3723 - val_acc: 0.9102\n",
      "\n",
      "Epoch 00009: val_loss did not improve\n",
      "Epoch 10/20\n",
      "27948/27948 [==============================] - 4s 146us/step - loss: 0.0725 - acc: 0.9704 - val_loss: 0.3530 - val_acc: 0.9181\n",
      "\n",
      "Epoch 00010: val_loss did not improve\n",
      "Epoch 11/20\n",
      "27948/27948 [==============================] - 4s 145us/step - loss: 0.0581 - acc: 0.9768 - val_loss: 0.5543 - val_acc: 0.9070\n",
      "\n",
      "Epoch 00011: val_loss did not improve\n",
      "Epoch 12/20\n",
      "27948/27948 [==============================] - 4s 144us/step - loss: 0.0534 - acc: 0.9794 - val_loss: 0.5315 - val_acc: 0.9090\n",
      "\n",
      "Epoch 00012: val_loss did not improve\n",
      "Epoch 13/20\n",
      "27948/27948 [==============================] - 4s 144us/step - loss: 0.0495 - acc: 0.9805 - val_loss: 0.4237 - val_acc: 0.9116\n",
      "\n",
      "Epoch 00013: val_loss did not improve\n",
      "Epoch 14/20\n",
      "27948/27948 [==============================] - 4s 145us/step - loss: 0.0503 - acc: 0.9815 - val_loss: 0.4116 - val_acc: 0.9063\n",
      "\n",
      "Epoch 00014: val_loss did not improve\n",
      "Epoch 15/20\n",
      "27948/27948 [==============================] - 4s 145us/step - loss: 0.0462 - acc: 0.9829 - val_loss: 0.4416 - val_acc: 0.9170\n",
      "\n",
      "Epoch 00015: val_loss did not improve\n",
      "Epoch 16/20\n",
      "27948/27948 [==============================] - 4s 146us/step - loss: 0.0347 - acc: 0.9868 - val_loss: 0.4957 - val_acc: 0.9115\n",
      "\n",
      "Epoch 00016: val_loss did not improve\n",
      "Epoch 17/20\n",
      "27948/27948 [==============================] - 4s 145us/step - loss: 0.0325 - acc: 0.9878 - val_loss: 0.5435 - val_acc: 0.9141\n",
      "\n",
      "Epoch 00017: val_loss did not improve\n",
      "Epoch 18/20\n",
      "27948/27948 [==============================] - 4s 145us/step - loss: 0.0341 - acc: 0.9873 - val_loss: 0.6158 - val_acc: 0.9134\n",
      "\n",
      "Epoch 00018: val_loss did not improve\n",
      "Epoch 19/20\n",
      "27948/27948 [==============================] - 4s 145us/step - loss: 0.0343 - acc: 0.9874 - val_loss: 0.5599 - val_acc: 0.9133\n",
      "\n",
      "Epoch 00019: val_loss did not improve\n",
      "Epoch 20/20\n",
      "27948/27948 [==============================] - 4s 145us/step - loss: 0.0278 - acc: 0.9893 - val_loss: 0.5168 - val_acc: 0.9132\n",
      "\n",
      "Epoch 00020: val_loss did not improve\n"
     ]
    },
    {
     "data": {
      "text/plain": [
       "<keras.callbacks.History at 0x1fddc7c8a90>"
      ]
     },
     "execution_count": 22,
     "metadata": {},
     "output_type": "execute_result"
    }
   ],
   "source": [
    "classification_model.fit(x = X_train,\n",
    "                         y = to_categorical(Y_train), \n",
    "                         epochs = 20, \n",
    "                         batch_size = 128,\n",
    "                         verbose = 1,\n",
    "                         callbacks=[checkpointer],\n",
    "                         validation_data=(X_test, to_categorical(Y_test)),\n",
    "                         class_weight=class_weights)"
   ]
  },
  {
   "cell_type": "markdown",
   "metadata": {},
   "source": [
    "### Evaluation"
   ]
  },
  {
   "cell_type": "code",
   "execution_count": 23,
   "metadata": {},
   "outputs": [
    {
     "name": "stdout",
     "output_type": "stream",
     "text": [
      "             precision    recall  f1-score   support\n",
      "\n",
      "          0       0.94      0.87      0.90      3958\n",
      "          1       0.78      0.90      0.84      2332\n",
      "          2       0.99      1.00      1.00      2733\n",
      "          3       1.00      0.85      0.92       442\n",
      "\n",
      "avg / total       0.92      0.91      0.91      9465\n",
      "\n",
      "Weighted f1-score: 0.914329502844986\n"
     ]
    }
   ],
   "source": [
    "Y_pred = classification_model.predict_classes(X_test)\n",
    "print(classification_report(Y_test, Y_pred))\n",
    "score_TSC = f1_score(Y_test, Y_pred, average='weighted')\n",
    "print(\"Weighted f1-score:\", score_TSC)"
   ]
  },
  {
   "cell_type": "code",
   "execution_count": 25,
   "metadata": {},
   "outputs": [
    {
     "name": "stdout",
     "output_type": "stream",
     "text": [
      "             precision    recall  f1-score   support\n",
      "\n",
      "          0       0.93      0.91      0.92      3958\n",
      "          1       0.86      0.90      0.88      2332\n",
      "          2       0.99      1.00      0.99      2733\n",
      "          3       1.00      0.85      0.92       442\n",
      "\n",
      "avg / total       0.93      0.93      0.93      9465\n",
      "\n",
      "Weighted f1-score: 0.9312764290620789\n"
     ]
    }
   ],
   "source": [
    "classification_model_best = load_model('./data/model_ATSC_1.hdf5')\n",
    "\n",
    "Y_pred = classification_model_best.predict_classes(X_test)\n",
    "print(classification_report(Y_test, Y_pred))\n",
    "score_TSC_best = f1_score(Y_test, Y_pred, average='weighted')\n",
    "print(\"Weighted f1-score:\", score_TSC_best)\n",
    "if score_TSC_best > score_TSC:\n",
    "    score_TSC = score_TSC_best"
   ]
  },
  {
   "cell_type": "code",
   "execution_count": 26,
   "metadata": {},
   "outputs": [
    {
     "data": {
      "image/png": "[encoded data removed]",
      "text/plain": [
       "<Figure size 432x288 with 2 Axes>"
      ]
     },
     "metadata": {},
     "output_type": "display_data"
    }
   ],
   "source": [
    "cnf_matrix = confusion_matrix(Y_test, Y_pred)\n",
    "np.set_printoptions(precision=2)\n",
    "\n",
    "sns.set_style(\"dark\")\n",
    "plt.figure()\n",
    "utils.plot_confusion_matrix(cnf_matrix, classes=[0,1],\n",
    "                      title='Confusion matrix, without normalization')"
   ]
  },
  {
   "cell_type": "markdown",
   "metadata": {},
   "source": [
    "## Cascade of detection and classification\n",
    "The labels that have to be used for assessment are saved in Y_test_true. The labels predicted by the detection_model are saved instead in Y_pred_d."
   ]
  },
  {
   "cell_type": "code",
   "execution_count": 27,
   "metadata": {},
   "outputs": [
    {
     "name": "stdout",
     "output_type": "stream",
     "text": [
      "(11504,) (11504,)\n"
     ]
    }
   ],
   "source": [
    "print(Y_test_true.shape, Y_pred_d.shape)"
   ]
  },
  {
   "cell_type": "code",
   "execution_count": 28,
   "metadata": {},
   "outputs": [],
   "source": [
    "X_train, Y_train, X_test, Y_test, n_features, n_classes, class_weights = preprocessing.loadData(subject=subject,\n",
    "                                                                                                label=label,\n",
    "                                                                                                folder=folder,\n",
    "                                                                                                window_size=window_size,\n",
    "                                                                                                stride=stride,\n",
    "                                                                                                make_binary=True,\n",
    "                                                                                                null_class=True,\n",
    "                                                                                                print_info=False)"
   ]
  },
  {
   "cell_type": "code",
   "execution_count": 29,
   "metadata": {},
   "outputs": [],
   "source": [
    "mask = (Y_pred_d == 1)\n",
    "X_detected = X_test[mask, :, :]\n",
    "Y_pred_c = classification_model_best.predict_classes(X_detected)\n",
    "Y_pred_d[mask] = Y_pred_c"
   ]
  },
  {
   "cell_type": "code",
   "execution_count": 30,
   "metadata": {},
   "outputs": [
    {
     "name": "stdout",
     "output_type": "stream",
     "text": [
      "             precision    recall  f1-score   support\n",
      "\n",
      "          0       0.31      0.87      0.45      2039\n",
      "          1       0.13      0.08      0.10      3958\n",
      "          2       0.00      0.00      0.00      2332\n",
      "          3       0.00      0.00      0.00      2733\n",
      "          4       0.00      0.00      0.00       442\n",
      "\n",
      "avg / total       0.10      0.18      0.12     11504\n",
      "\n",
      "Weighted f1-score: 0.11551761533956331\n"
     ]
    },
    {
     "name": "stderr",
     "output_type": "stream",
     "text": [
      "C:\\Users\\Riccardo\\Anaconda3\\lib\\site-packages\\sklearn\\metrics\\classification.py:1135: UndefinedMetricWarning: Precision and F-score are ill-defined and being set to 0.0 in labels with no predicted samples.\n",
      "  'precision', 'predicted', average, warn_for)\n",
      "C:\\Users\\Riccardo\\Anaconda3\\lib\\site-packages\\sklearn\\metrics\\classification.py:1135: UndefinedMetricWarning: F-score is ill-defined and being set to 0.0 in labels with no predicted samples.\n",
      "  'precision', 'predicted', average, warn_for)\n"
     ]
    }
   ],
   "source": [
    "print(classification_report(Y_test_true, Y_pred_d))\n",
    "print(\"Weighted f1-score:\", f1_score(Y_test_true, Y_pred_d, average='weighted'))"
   ]
  },
  {
   "cell_type": "markdown",
   "metadata": {},
   "source": [
    "One-shot classification instead had:"
   ]
  },
  {
   "cell_type": "code",
   "execution_count": 31,
   "metadata": {},
   "outputs": [],
   "source": [
    "X_train, Y_train, X_test, Y_test, n_features, n_classes, class_weights = preprocessing.loadData(subject=subject,\n",
    "                                                                                                label=label,\n",
    "                                                                                                folder=folder,\n",
    "                                                                                                window_size=window_size,\n",
    "                                                                                                stride=stride,\n",
    "                                                                                                make_binary=False,\n",
    "                                                                                                null_class=True,\n",
    "                                                                                                print_info=False)"
   ]
  },
  {
   "cell_type": "code",
   "execution_count": 32,
   "metadata": {},
   "outputs": [
    {
     "name": "stdout",
     "output_type": "stream",
     "text": [
      "             precision    recall  f1-score   support\n",
      "\n",
      "          0       0.96      0.79      0.87      2039\n",
      "          1       0.90      0.84      0.87      3958\n",
      "          2       0.70      0.89      0.78      2332\n",
      "          3       0.98      0.99      0.99      2733\n",
      "          4       0.89      0.85      0.87       442\n",
      "\n",
      "avg / total       0.89      0.88      0.88     11504\n",
      "\n",
      "Weighted f1-score: 0.8805286132681011\n"
     ]
    }
   ],
   "source": [
    "oneshot_model_best = load_model('./data/model_AOS_1.hdf5')\n",
    "\n",
    "Y_pred = oneshot_model_best.predict_classes(X_test)\n",
    "print(classification_report(Y_test, Y_pred))\n",
    "print(\"Weighted f1-score:\", f1_score(Y_test, Y_pred, average='weighted'))"
   ]
  },
  {
   "cell_type": "markdown",
   "metadata": {},
   "source": [
    "Save results to numpy array"
   ]
  },
  {
   "cell_type": "code",
   "execution_count": 33,
   "metadata": {},
   "outputs": [],
   "source": [
    "np.save(\"./data/results_\"+str(subject), [score_OS, score_TSD, score_TSC])"
   ]
  },
  {
   "cell_type": "markdown",
   "metadata": {},
   "source": [
    "# end"
   ]
  }
 ],
 "metadata": {
  "kernelspec": {
   "display_name": "Python 3",
   "language": "python",
   "name": "python3"
  },
  "language_info": {
   "codemirror_mode": {
    "name": "ipython",
    "version": 3
   },
   "file_extension": ".py",
   "mimetype": "text/x-python",
   "name": "python",
   "nbconvert_exporter": "python",
   "pygments_lexer": "ipython3",
   "version": "3.6.4"
  }
 },
 "nbformat": 4,
 "nbformat_minor": 2
}
