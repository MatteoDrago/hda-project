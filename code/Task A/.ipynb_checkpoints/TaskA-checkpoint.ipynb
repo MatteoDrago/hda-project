{
 "cells": [
  {
   "cell_type": "markdown",
   "metadata": {},
   "source": [
    "# Task A - single subject\n",
    "\n",
    "## Notebook setup\n",
    "This first cell contains the parameters that can be tuned for code execution:\n",
    "- subject: select the subject on which to test the model, between [1,4];\n",
    "- label: index of feature column to be selected to perform activity detection, between [0,6]. The default value for task B is 6;\n",
    "- folder: directory name where '.mat' files are stored;\n",
    "- window_size: parameter that sets the length of temporal windows on which to perform the convolution;\n",
    "- stride: step length to chose the next window."
   ]
  },
  {
   "cell_type": "code",
   "execution_count": 1,
   "metadata": {},
   "outputs": [],
   "source": [
    "subject = 1\n",
    "label = 0\n",
    "folder = \"../data/full/\"\n",
    "window_size = 15\n",
    "stride = 5\n",
    "GPU = True"
   ]
  },
  {
   "cell_type": "code",
   "execution_count": 2,
   "metadata": {},
   "outputs": [
    {
     "name": "stderr",
     "output_type": "stream",
     "text": [
      "C:\\Users\\Riccardo\\Anaconda3\\lib\\site-packages\\h5py\\__init__.py:36: FutureWarning: Conversion of the second argument of issubdtype from `float` to `np.floating` is deprecated. In future, it will be treated as `np.float64 == np.dtype(float).type`.\n",
      "  from ._conv import register_converters as _register_converters\n",
      "Using TensorFlow backend.\n"
     ]
    }
   ],
   "source": [
    "import preprocessing\n",
    "import models\n",
    "import utils\n",
    "import numpy as np\n",
    "import seaborn as sns\n",
    "import matplotlib.pyplot as plt\n",
    "from sklearn.metrics import classification_report, f1_score, confusion_matrix\n",
    "from keras.models import load_model\n",
    "from keras.optimizers import Adam\n",
    "from keras.callbacks import ModelCheckpoint, ReduceLROnPlateau\n",
    "from keras.utils import to_categorical"
   ]
  },
  {
   "cell_type": "markdown",
   "metadata": {},
   "source": [
    "In the following cell, we make use of some functions of Keras which have been removed, but of which the code is still available at https://github.com/keras-team/keras/commit/a56b1a55182acf061b1eb2e2c86b48193a0e88f7. These are used to evaulate the f1 score during training on batches of data: this is only an approximation though, which is the reason why they have been removed."
   ]
  },
  {
   "cell_type": "code",
   "execution_count": 3,
   "metadata": {},
   "outputs": [],
   "source": [
    "import os\n",
    "if not(os.path.exists(\"./data\")):\n",
    "    os.mkdir(\"./data\")"
   ]
  },
  {
   "cell_type": "markdown",
   "metadata": {},
   "source": [
    "# One-shot classification\n",
    "Here classification is performed with null class.\n",
    "### Preprocessing"
   ]
  },
  {
   "cell_type": "code",
   "execution_count": 4,
   "metadata": {},
   "outputs": [],
   "source": [
    "X_train, Y_train, X_test, Y_test, n_features, n_classes, class_weights = preprocessing.loadData(subject=subject,\n",
    "                                                                                                label=label,\n",
    "                                                                                                folder=folder,\n",
    "                                                                                                window_size=window_size,\n",
    "                                                                                                stride=stride,\n",
    "                                                                                                make_binary=False,\n",
    "                                                                                                null_class=True,\n",
    "                                                                                                print_info=False)"
   ]
  },
  {
   "cell_type": "markdown",
   "metadata": {},
   "source": [
    "Y_train and Y_test contain the correct labels for each signals window. Y_test in particular will be used to evaluate predictions for both this (one-shot) and the two-steps models. For this reason it is here saved with a different name, to avoid having it being overwritten later."
   ]
  },
  {
   "cell_type": "code",
   "execution_count": 5,
   "metadata": {},
   "outputs": [],
   "source": [
    "Y_test_true = Y_test"
   ]
  },
  {
   "cell_type": "markdown",
   "metadata": {},
   "source": [
    "### Model"
   ]
  },
  {
   "cell_type": "code",
   "execution_count": 6,
   "metadata": {},
   "outputs": [],
   "source": [
    "oneshot_model = models.Convolutional1DRecurrent((window_size, n_features), n_classes, GPU=GPU, print_info=True)\n",
    "\n",
    "oneshot_model.compile(optimizer = Adam(lr=0.001),\n",
    "                      loss = \"categorical_crossentropy\", \n",
    "                      metrics = [\"accuracy\"])\n",
    "\n",
    "checkpointer = ModelCheckpoint(filepath='./data/model_AOS_1.hdf5', verbose=1, save_best_only=True)\n",
    "lr_reducer = ReduceLROnPlateau(factor=0.15, patience=5, min_lr=0.00001, verbose=1)"
   ]
  },
  {
   "cell_type": "markdown",
   "metadata": {},
   "source": [
    "### Training"
   ]
  },
  {
   "cell_type": "code",
   "execution_count": 7,
   "metadata": {},
   "outputs": [
    {
     "name": "stdout",
     "output_type": "stream",
     "text": [
      "Train on 31422 samples, validate on 11504 samples\n",
      "Epoch 1/20\n",
      "31422/31422 [==============================] - 8s 254us/step - loss: 0.4222 - acc: 0.8347 - val_loss: 0.3556 - val_acc: 0.8635\n",
      "\n",
      "Epoch 00001: val_loss improved from inf to 0.35556, saving model to ./data/model_AOS_1.hdf5\n",
      "Epoch 2/20\n",
      "31422/31422 [==============================] - 5s 144us/step - loss: 0.2614 - acc: 0.8960 - val_loss: 0.3718 - val_acc: 0.8922\n",
      "\n",
      "Epoch 00002: val_loss did not improve\n",
      "Epoch 3/20\n",
      "31422/31422 [==============================] - 5s 144us/step - loss: 0.2091 - acc: 0.9170 - val_loss: 0.3381 - val_acc: 0.9033\n",
      "\n",
      "Epoch 00003: val_loss improved from 0.35556 to 0.33805, saving model to ./data/model_AOS_1.hdf5\n",
      "Epoch 4/20\n",
      "31422/31422 [==============================] - 5s 145us/step - loss: 0.1772 - acc: 0.9296 - val_loss: 0.3730 - val_acc: 0.8786\n",
      "\n",
      "Epoch 00004: val_loss did not improve\n",
      "Epoch 5/20\n",
      "31422/31422 [==============================] - 5s 145us/step - loss: 0.1512 - acc: 0.9402 - val_loss: 0.3587 - val_acc: 0.8910\n",
      "\n",
      "Epoch 00005: val_loss did not improve\n",
      "Epoch 6/20\n",
      "31422/31422 [==============================] - 5s 148us/step - loss: 0.1392 - acc: 0.9445 - val_loss: 0.3983 - val_acc: 0.8822\n",
      "\n",
      "Epoch 00006: val_loss did not improve\n",
      "Epoch 7/20\n",
      "31422/31422 [==============================] - 5s 146us/step - loss: 0.1223 - acc: 0.9517 - val_loss: 0.4948 - val_acc: 0.8716\n",
      "\n",
      "Epoch 00007: val_loss did not improve\n",
      "Epoch 8/20\n",
      "31422/31422 [==============================] - 5s 146us/step - loss: 0.1106 - acc: 0.9553 - val_loss: 0.5172 - val_acc: 0.8739\n",
      "\n",
      "Epoch 00008: val_loss did not improve\n",
      "Epoch 9/20\n",
      "31422/31422 [==============================] - 5s 144us/step - loss: 0.0962 - acc: 0.9623 - val_loss: 0.5549 - val_acc: 0.8663\n",
      "\n",
      "Epoch 00009: val_loss did not improve\n",
      "\n",
      "Epoch 00009: ReduceLROnPlateau reducing learning rate to 0.0001500000071246177.\n",
      "Epoch 10/20\n",
      "31422/31422 [==============================] - 5s 143us/step - loss: 0.0640 - acc: 0.9749 - val_loss: 0.5971 - val_acc: 0.8802\n",
      "\n",
      "Epoch 00010: val_loss did not improve\n",
      "Epoch 11/20\n",
      "31422/31422 [==============================] - 5s 144us/step - loss: 0.0509 - acc: 0.9793 - val_loss: 0.6194 - val_acc: 0.8855\n",
      "\n",
      "Epoch 00011: val_loss did not improve\n",
      "Epoch 12/20\n",
      "31422/31422 [==============================] - 5s 144us/step - loss: 0.0465 - acc: 0.9810 - val_loss: 0.6299 - val_acc: 0.8840\n",
      "\n",
      "Epoch 00012: val_loss did not improve\n",
      "Epoch 13/20\n",
      "31422/31422 [==============================] - 5s 146us/step - loss: 0.0432 - acc: 0.9826 - val_loss: 0.6541 - val_acc: 0.8821\n",
      "\n",
      "Epoch 00013: val_loss did not improve\n",
      "Epoch 14/20\n",
      "31422/31422 [==============================] - 5s 145us/step - loss: 0.0409 - acc: 0.9835 - val_loss: 0.7102 - val_acc: 0.8826\n",
      "\n",
      "Epoch 00014: val_loss did not improve\n",
      "\n",
      "Epoch 00014: ReduceLROnPlateau reducing learning rate to 2.2500001068692655e-05.\n",
      "Epoch 15/20\n",
      "31422/31422 [==============================] - 5s 145us/step - loss: 0.0346 - acc: 0.9865 - val_loss: 0.7215 - val_acc: 0.8819\n",
      "\n",
      "Epoch 00015: val_loss did not improve\n",
      "Epoch 16/20\n",
      "31422/31422 [==============================] - 5s 145us/step - loss: 0.0323 - acc: 0.9871 - val_loss: 0.7462 - val_acc: 0.8822\n",
      "\n",
      "Epoch 00016: val_loss did not improve\n",
      "Epoch 17/20\n",
      "31422/31422 [==============================] - 5s 145us/step - loss: 0.0321 - acc: 0.9873 - val_loss: 0.7408 - val_acc: 0.8831\n",
      "\n",
      "Epoch 00017: val_loss did not improve\n",
      "Epoch 18/20\n",
      "31422/31422 [==============================] - 5s 145us/step - loss: 0.0304 - acc: 0.9881 - val_loss: 0.7501 - val_acc: 0.8830\n",
      "\n",
      "Epoch 00018: val_loss did not improve\n",
      "Epoch 19/20\n",
      "31422/31422 [==============================] - 5s 146us/step - loss: 0.0299 - acc: 0.9883 - val_loss: 0.7796 - val_acc: 0.8828\n",
      "\n",
      "Epoch 00019: val_loss did not improve\n",
      "\n",
      "Epoch 00019: ReduceLROnPlateau reducing learning rate to 1e-05.\n",
      "Epoch 20/20\n",
      "31422/31422 [==============================] - 5s 146us/step - loss: 0.0291 - acc: 0.9882 - val_loss: 0.7835 - val_acc: 0.8834\n",
      "\n",
      "Epoch 00020: val_loss did not improve\n"
     ]
    },
    {
     "data": {
      "text/plain": [
       "<keras.callbacks.History at 0x1e1e4fceb70>"
      ]
     },
     "execution_count": 7,
     "metadata": {},
     "output_type": "execute_result"
    }
   ],
   "source": [
    "oneshot_model.fit(x = X_train, \n",
    "                  y = to_categorical(Y_train),\n",
    "                  epochs = 20,\n",
    "                  batch_size = 128,\n",
    "                  verbose = 1,\n",
    "                  callbacks=[checkpointer, lr_reducer],\n",
    "                  validation_data=(X_test, to_categorical(Y_test)),\n",
    "                  class_weight=class_weights)"
   ]
  },
  {
   "cell_type": "markdown",
   "metadata": {},
   "source": [
    "### Evaluation - passare class_weights a class report"
   ]
  },
  {
   "cell_type": "code",
   "execution_count": 10,
   "metadata": {},
   "outputs": [
    {
     "name": "stdout",
     "output_type": "stream",
     "text": [
      "             precision    recall  f1-score   support\n",
      "\n",
      "          0       0.93      0.82      0.87      2039\n",
      "          1       0.91      0.86      0.89      3958\n",
      "          2       0.72      0.85      0.78      2332\n",
      "          3       0.98      0.99      0.99      2733\n",
      "          4       0.93      0.84      0.88       442\n",
      "\n",
      "avg / total       0.89      0.88      0.89     11504\n",
      "\n",
      "Weighted f1-score: 0.8850508815642414\n"
     ]
    }
   ],
   "source": [
    "Y_pred = oneshot_model.predict_classes(X_test)\n",
    "print(classification_report(Y_test, Y_pred))\n",
    "score_OS = f1_score(Y_test, Y_pred, average='weighted')\n",
    "print(\"Weighted f1-score:\", score_OS)"
   ]
  },
  {
   "cell_type": "code",
   "execution_count": 11,
   "metadata": {},
   "outputs": [
    {
     "name": "stdout",
     "output_type": "stream",
     "text": [
      "             precision    recall  f1-score   support\n",
      "\n",
      "          0       0.91      0.82      0.86      2039\n",
      "          1       0.91      0.92      0.91      3958\n",
      "          2       0.81      0.85      0.83      2332\n",
      "          3       0.97      1.00      0.98      2733\n",
      "          4       0.93      0.84      0.88       442\n",
      "\n",
      "avg / total       0.90      0.90      0.90     11504\n",
      "\n",
      "Weighted f1-score: 0.9031003784841837\n"
     ]
    }
   ],
   "source": [
    "oneshot_model_best = load_model('./data/model_AOS_1.hdf5')\n",
    "\n",
    "Y_pred = oneshot_model_best.predict_classes(X_test)\n",
    "print(classification_report(Y_test, Y_pred))\n",
    "score_OS_best = f1_score(Y_test, Y_pred, average='weighted')\n",
    "print(\"Weighted f1-score:\", score_OS_best)\n",
    "if score_OS_best > score_OS:\n",
    "    score_OS = score_OS_best"
   ]
  },
  {
   "cell_type": "code",
   "execution_count": 10,
   "metadata": {},
   "outputs": [
    {
     "data": {
      "image/png": "[encoded data removed]",
      "text/plain": [
       "<Figure size 432x288 with 2 Axes>"
      ]
     },
     "metadata": {},
     "output_type": "display_data"
    }
   ],
   "source": [
    "cnf_matrix = confusion_matrix(Y_test, Y_pred)\n",
    "np.set_printoptions(precision=2)\n",
    "\n",
    "sns.set_style(\"dark\")\n",
    "plt.figure()\n",
    "utils.plot_confusion_matrix(cnf_matrix, classes=[0,1],\n",
    "                      title='Confusion matrix, without normalization')"
   ]
  },
  {
   "cell_type": "markdown",
   "metadata": {},
   "source": [
    "# Two-steps classification\n",
    "## Activity detection\n",
    "This model performs a binary classification.\n",
    "### Preprocessing"
   ]
  },
  {
   "cell_type": "code",
   "execution_count": 11,
   "metadata": {},
   "outputs": [],
   "source": [
    "X_train, Y_train, X_test, Y_test, n_features, n_classes, class_weights = preprocessing.loadData(subject=subject,\n",
    "                                                                                                label=label,\n",
    "                                                                                                folder=folder,\n",
    "                                                                                                window_size=window_size,\n",
    "                                                                                                stride=stride,\n",
    "                                                                                                make_binary=True,\n",
    "                                                                                                null_class=True,\n",
    "                                                                                                print_info=False)"
   ]
  },
  {
   "cell_type": "markdown",
   "metadata": {},
   "source": [
    "### Model"
   ]
  },
  {
   "cell_type": "code",
   "execution_count": 15,
   "metadata": {},
   "outputs": [],
   "source": [
    "detection_model = models.Convolutional1DRecurrent((window_size, n_features), n_classes, GPU=GPU, print_info=False)\n",
    "\n",
    "detection_model.compile(optimizer = Adam(lr=0.001),\n",
    "                        loss = \"categorical_crossentropy\", \n",
    "                        metrics = [\"accuracy\"])\n",
    "\n",
    "checkpointer = ModelCheckpoint(filepath='./data/model_ATSD_1.hdf5', verbose=1, save_best_only=True)\n",
    "lr_reducer = ReduceLROnPlateau(factor=0.15, patience=5, min_lr=0.00001, verbose=1)"
   ]
  },
  {
   "cell_type": "markdown",
   "metadata": {},
   "source": [
    "### Training"
   ]
  },
  {
   "cell_type": "code",
   "execution_count": 16,
   "metadata": {},
   "outputs": [
    {
     "name": "stdout",
     "output_type": "stream",
     "text": [
      "Train on 31422 samples, validate on 11504 samples\n",
      "Epoch 1/20\n",
      "31422/31422 [==============================] - 5s 167us/step - loss: 0.1197 - acc: 0.9579 - val_loss: 0.1815 - val_acc: 0.9378\n",
      "\n",
      "Epoch 00001: val_loss improved from inf to 0.18147, saving model to ./data/model_ATSD_1.hdf5\n",
      "Epoch 2/20\n",
      "31422/31422 [==============================] - 4s 125us/step - loss: 0.0618 - acc: 0.9782 - val_loss: 0.1664 - val_acc: 0.9365\n",
      "\n",
      "Epoch 00002: val_loss improved from 0.18147 to 0.16637, saving model to ./data/model_ATSD_1.hdf5\n",
      "Epoch 3/20\n",
      "31422/31422 [==============================] - 4s 127us/step - loss: 0.0479 - acc: 0.9838 - val_loss: 0.2179 - val_acc: 0.9437\n",
      "\n",
      "Epoch 00003: val_loss did not improve\n",
      "Epoch 4/20\n",
      "31422/31422 [==============================] - 4s 126us/step - loss: 0.0375 - acc: 0.9867 - val_loss: 0.1442 - val_acc: 0.9531\n",
      "\n",
      "Epoch 00004: val_loss improved from 0.16637 to 0.14419, saving model to ./data/model_ATSD_1.hdf5\n",
      "Epoch 5/20\n",
      "31422/31422 [==============================] - 4s 127us/step - loss: 0.0284 - acc: 0.9901 - val_loss: 0.1795 - val_acc: 0.9508\n",
      "\n",
      "Epoch 00005: val_loss did not improve\n",
      "Epoch 6/20\n",
      "31422/31422 [==============================] - 4s 126us/step - loss: 0.0244 - acc: 0.9911 - val_loss: 0.1692 - val_acc: 0.9517\n",
      "\n",
      "Epoch 00006: val_loss did not improve\n",
      "Epoch 7/20\n",
      "31422/31422 [==============================] - 4s 125us/step - loss: 0.0188 - acc: 0.9935 - val_loss: 0.2042 - val_acc: 0.9412\n",
      "\n",
      "Epoch 00007: val_loss did not improve\n",
      "Epoch 8/20\n",
      "31422/31422 [==============================] - 4s 125us/step - loss: 0.0172 - acc: 0.9938 - val_loss: 0.1754 - val_acc: 0.9548\n",
      "\n",
      "Epoch 00008: val_loss did not improve\n",
      "Epoch 9/20\n",
      "31422/31422 [==============================] - 4s 128us/step - loss: 0.0152 - acc: 0.9947 - val_loss: 0.1942 - val_acc: 0.9581\n",
      "\n",
      "Epoch 00009: val_loss did not improve\n",
      "Epoch 10/20\n",
      "31422/31422 [==============================] - 4s 125us/step - loss: 0.0132 - acc: 0.9953 - val_loss: 0.2154 - val_acc: 0.9481\n",
      "\n",
      "Epoch 00010: val_loss did not improve\n",
      "\n",
      "Epoch 00010: ReduceLROnPlateau reducing learning rate to 0.0001500000071246177.\n",
      "Epoch 11/20\n",
      "31422/31422 [==============================] - 4s 126us/step - loss: 0.0065 - acc: 0.9977 - val_loss: 0.2224 - val_acc: 0.9504\n",
      "\n",
      "Epoch 00011: val_loss did not improve\n",
      "Epoch 12/20\n",
      "31422/31422 [==============================] - 4s 125us/step - loss: 0.0044 - acc: 0.9987 - val_loss: 0.2212 - val_acc: 0.9511\n",
      "\n",
      "Epoch 00012: val_loss did not improve\n",
      "Epoch 13/20\n",
      "31422/31422 [==============================] - 4s 126us/step - loss: 0.0029 - acc: 0.9991 - val_loss: 0.2461 - val_acc: 0.9503\n",
      "\n",
      "Epoch 00013: val_loss did not improve\n",
      "Epoch 14/20\n",
      "31422/31422 [==============================] - 4s 125us/step - loss: 0.0022 - acc: 0.9994 - val_loss: 0.2812 - val_acc: 0.9512\n",
      "\n",
      "Epoch 00014: val_loss did not improve\n",
      "Epoch 15/20\n",
      "31422/31422 [==============================] - 4s 125us/step - loss: 0.0021 - acc: 0.9993 - val_loss: 0.2897 - val_acc: 0.9505\n",
      "\n",
      "Epoch 00015: val_loss did not improve\n",
      "\n",
      "Epoch 00015: ReduceLROnPlateau reducing learning rate to 2.2500001068692655e-05.\n",
      "Epoch 16/20\n",
      "31422/31422 [==============================] - 4s 126us/step - loss: 0.0017 - acc: 0.9994 - val_loss: 0.2982 - val_acc: 0.9514\n",
      "\n",
      "Epoch 00016: val_loss did not improve\n",
      "Epoch 17/20\n",
      "31422/31422 [==============================] - 4s 126us/step - loss: 0.0012 - acc: 0.9996 - val_loss: 0.3010 - val_acc: 0.9507\n",
      "\n",
      "Epoch 00017: val_loss did not improve\n",
      "Epoch 18/20\n",
      "31422/31422 [==============================] - 4s 127us/step - loss: 0.0019 - acc: 0.9995 - val_loss: 0.2999 - val_acc: 0.9505\n",
      "\n",
      "Epoch 00018: val_loss did not improve\n",
      "Epoch 19/20\n",
      "31422/31422 [==============================] - 4s 129us/step - loss: 0.0011 - acc: 0.9997 - val_loss: 0.3071 - val_acc: 0.9503\n",
      "\n",
      "Epoch 00019: val_loss did not improve\n",
      "Epoch 20/20\n",
      "31422/31422 [==============================] - 4s 127us/step - loss: 0.0014 - acc: 0.9996 - val_loss: 0.3084 - val_acc: 0.9511\n",
      "\n",
      "Epoch 00020: val_loss did not improve\n",
      "\n",
      "Epoch 00020: ReduceLROnPlateau reducing learning rate to 1e-05.\n"
     ]
    },
    {
     "data": {
      "text/plain": [
       "<keras.callbacks.History at 0x2ba5e2a7eb8>"
      ]
     },
     "execution_count": 16,
     "metadata": {},
     "output_type": "execute_result"
    }
   ],
   "source": [
    "detection_model.fit(x = X_train, \n",
    "                    y = to_categorical(Y_train), \n",
    "                    epochs = 20, \n",
    "                    batch_size = 128,\n",
    "                    verbose = 1,\n",
    "                    callbacks=[checkpointer, lr_reducer],\n",
    "                    validation_data=(X_test, to_categorical(Y_test)),\n",
    "                    class_weight=class_weights)"
   ]
  },
  {
   "cell_type": "markdown",
   "metadata": {},
   "source": [
    "### Evaluation"
   ]
  },
  {
   "cell_type": "code",
   "execution_count": 17,
   "metadata": {},
   "outputs": [
    {
     "name": "stdout",
     "output_type": "stream",
     "text": [
      "             precision    recall  f1-score   support\n",
      "\n",
      "          0       0.89      0.83      0.86      2039\n",
      "          1       0.96      0.98      0.97      9465\n",
      "\n",
      "avg / total       0.95      0.95      0.95     11504\n",
      "\n",
      "Weighted f1-score: 0.9504377353568368\n"
     ]
    }
   ],
   "source": [
    "Y_pred = detection_model.predict_classes(X_test)\n",
    "print(classification_report(Y_test, Y_pred))\n",
    "score_TSD = f1_score(Y_test, Y_pred, average='weighted')\n",
    "print(\"Weighted f1-score:\", score_TSD)"
   ]
  },
  {
   "cell_type": "code",
   "execution_count": 18,
   "metadata": {},
   "outputs": [
    {
     "name": "stdout",
     "output_type": "stream",
     "text": [
      "             precision    recall  f1-score   support\n",
      "\n",
      "          0       0.89      0.84      0.86      2039\n",
      "          1       0.97      0.98      0.97      9465\n",
      "\n",
      "avg / total       0.95      0.95      0.95     11504\n",
      "\n",
      "Weighted f1-score: 0.9525834907174765\n"
     ]
    }
   ],
   "source": [
    "detection_model_best = load_model('./data/model_ATSD_1.hdf5')\n",
    "\n",
    "Y_pred = detection_model_best.predict_classes(X_test)\n",
    "print(classification_report(Y_test, Y_pred))\n",
    "score_TSD_best = f1_score(Y_test, Y_pred, average='weighted')\n",
    "print(\"Weighted f1-score:\", score_TSD_best)\n",
    "if score_TSD_best > score_TSD:\n",
    "    score_TSD = score_TSD_best"
   ]
  },
  {
   "cell_type": "code",
   "execution_count": 19,
   "metadata": {},
   "outputs": [
    {
     "data": {
      "image/png": "[encoded data removed]",
      "text/plain": [
       "<Figure size 432x288 with 2 Axes>"
      ]
     },
     "metadata": {},
     "output_type": "display_data"
    }
   ],
   "source": [
    "cnf_matrix = confusion_matrix(Y_test, Y_pred)\n",
    "np.set_printoptions(precision=2)\n",
    "\n",
    "sns.set_style(\"dark\")\n",
    "plt.figure()\n",
    "utils.plot_confusion_matrix(cnf_matrix, classes=[0,1],\n",
    "                      title='Confusion matrix, without normalization')"
   ]
  },
  {
   "cell_type": "code",
   "execution_count": 20,
   "metadata": {},
   "outputs": [],
   "source": [
    "Y_pred_d = Y_pred"
   ]
  },
  {
   "cell_type": "code",
   "execution_count": 31,
   "metadata": {},
   "outputs": [
    {
     "data": {
      "text/plain": [
       "9103"
      ]
     },
     "execution_count": 31,
     "metadata": {},
     "output_type": "execute_result"
    }
   ],
   "source": [
    "np.sum(Y_pred_d)"
   ]
  },
  {
   "cell_type": "code",
   "execution_count": 32,
   "metadata": {},
   "outputs": [
    {
     "data": {
      "text/plain": [
       "(11504,)"
      ]
     },
     "execution_count": 32,
     "metadata": {},
     "output_type": "execute_result"
    }
   ],
   "source": [
    "Y_pred_d.shape"
   ]
  },
  {
   "cell_type": "markdown",
   "metadata": {},
   "source": [
    "## Activity classification"
   ]
  },
  {
   "cell_type": "code",
   "execution_count": 21,
   "metadata": {},
   "outputs": [],
   "source": [
    "X_train, Y_train, X_test, Y_test, n_features, n_classes, class_weights = preprocessing.loadData(subject=subject,\n",
    "                                                                                                label=label,\n",
    "                                                                                                folder=folder,\n",
    "                                                                                                window_size=window_size,\n",
    "                                                                                                stride=stride,\n",
    "                                                                                                make_binary=False,\n",
    "                                                                                                null_class=False,\n",
    "                                                                                                print_info=False)"
   ]
  },
  {
   "cell_type": "markdown",
   "metadata": {},
   "source": [
    "### Model"
   ]
  },
  {
   "cell_type": "code",
   "execution_count": 22,
   "metadata": {},
   "outputs": [],
   "source": [
    "classification_model = models.Convolutional1DRecurrent((window_size, n_features), n_classes, GPU=GPU, print_info=False)\n",
    "\n",
    "classification_model.compile(optimizer = Adam(lr=0.001),\n",
    "                             loss = \"categorical_crossentropy\", \n",
    "                             metrics = [\"accuracy\"])\n",
    "\n",
    "checkpointer = ModelCheckpoint(filepath='./data/model_ATSC_1.hdf5', verbose=1, save_best_only=True)\n",
    "lr_reducer = ReduceLROnPlateau(factor=0.15, patience=5, min_lr=0.00001, verbose=1)"
   ]
  },
  {
   "cell_type": "markdown",
   "metadata": {},
   "source": [
    "### Training"
   ]
  },
  {
   "cell_type": "code",
   "execution_count": 23,
   "metadata": {},
   "outputs": [
    {
     "name": "stdout",
     "output_type": "stream",
     "text": [
      "Train on 27948 samples, validate on 9465 samples\n",
      "Epoch 1/20\n",
      "27948/27948 [==============================] - 5s 188us/step - loss: 0.3012 - acc: 0.8713 - val_loss: 0.2736 - val_acc: 0.9204\n",
      "\n",
      "Epoch 00001: val_loss improved from inf to 0.27363, saving model to ./data/model_ATSC_1.hdf5\n",
      "Epoch 2/20\n",
      "27948/27948 [==============================] - 3s 125us/step - loss: 0.2150 - acc: 0.9110 - val_loss: 0.2371 - val_acc: 0.9309\n",
      "\n",
      "Epoch 00002: val_loss improved from 0.27363 to 0.23714, saving model to ./data/model_ATSC_1.hdf5\n",
      "Epoch 3/20\n",
      "27948/27948 [==============================] - 4s 125us/step - loss: 0.1791 - acc: 0.9246 - val_loss: 0.2287 - val_acc: 0.9369\n",
      "\n",
      "Epoch 00003: val_loss improved from 0.23714 to 0.22874, saving model to ./data/model_ATSC_1.hdf5\n",
      "Epoch 4/20\n",
      "27948/27948 [==============================] - 3s 124us/step - loss: 0.1559 - acc: 0.9365 - val_loss: 0.2558 - val_acc: 0.9302\n",
      "\n",
      "Epoch 00004: val_loss did not improve\n",
      "Epoch 5/20\n",
      "27948/27948 [==============================] - 4s 127us/step - loss: 0.1351 - acc: 0.9459 - val_loss: 0.2508 - val_acc: 0.9357\n",
      "\n",
      "Epoch 00005: val_loss did not improve\n",
      "Epoch 6/20\n",
      "27948/27948 [==============================] - 4s 128us/step - loss: 0.1231 - acc: 0.9504 - val_loss: 0.2677 - val_acc: 0.9284\n",
      "\n",
      "Epoch 00006: val_loss did not improve\n",
      "Epoch 7/20\n",
      "27948/27948 [==============================] - 4s 129us/step - loss: 0.1055 - acc: 0.9570 - val_loss: 0.3468 - val_acc: 0.9256\n",
      "\n",
      "Epoch 00007: val_loss did not improve\n",
      "Epoch 8/20\n",
      "27948/27948 [==============================] - 4s 129us/step - loss: 0.0945 - acc: 0.9608 - val_loss: 0.3300 - val_acc: 0.9254\n",
      "\n",
      "Epoch 00008: val_loss did not improve\n",
      "Epoch 9/20\n",
      "27948/27948 [==============================] - 4s 129us/step - loss: 0.0845 - acc: 0.9655 - val_loss: 0.3209 - val_acc: 0.9328\n",
      "\n",
      "Epoch 00009: val_loss did not improve\n",
      "Epoch 10/20\n",
      "27948/27948 [==============================] - 3s 125us/step - loss: 0.0755 - acc: 0.9683 - val_loss: 0.3391 - val_acc: 0.9236\n",
      "\n",
      "Epoch 00010: val_loss did not improve\n",
      "Epoch 11/20\n",
      "27948/27948 [==============================] - 4s 126us/step - loss: 0.0671 - acc: 0.9726 - val_loss: 0.3351 - val_acc: 0.9266\n",
      "\n",
      "Epoch 00011: val_loss did not improve\n",
      "Epoch 12/20\n",
      "27948/27948 [==============================] - 3s 125us/step - loss: 0.0578 - acc: 0.9765 - val_loss: 0.4120 - val_acc: 0.9222\n",
      "\n",
      "Epoch 00012: val_loss did not improve\n",
      "Epoch 13/20\n",
      "27948/27948 [==============================] - 3s 124us/step - loss: 0.0535 - acc: 0.9780 - val_loss: 0.4770 - val_acc: 0.9192\n",
      "\n",
      "Epoch 00013: val_loss did not improve\n",
      "Epoch 14/20\n",
      "27948/27948 [==============================] - 3s 125us/step - loss: 0.0481 - acc: 0.9811 - val_loss: 0.4192 - val_acc: 0.9258\n",
      "\n",
      "Epoch 00014: val_loss did not improve\n",
      "Epoch 15/20\n",
      "27948/27948 [==============================] - 3s 124us/step - loss: 0.0418 - acc: 0.9831 - val_loss: 0.4326 - val_acc: 0.9272\n",
      "\n",
      "Epoch 00015: val_loss did not improve\n",
      "Epoch 16/20\n",
      "27948/27948 [==============================] - 3s 125us/step - loss: 0.0405 - acc: 0.9835 - val_loss: 0.3852 - val_acc: 0.9240\n",
      "\n",
      "Epoch 00016: val_loss did not improve\n",
      "Epoch 17/20\n",
      "27948/27948 [==============================] - 4s 125us/step - loss: 0.0358 - acc: 0.9862 - val_loss: 0.5187 - val_acc: 0.9217\n",
      "\n",
      "Epoch 00017: val_loss did not improve\n",
      "Epoch 18/20\n",
      "27948/27948 [==============================] - 4s 126us/step - loss: 0.0351 - acc: 0.9865 - val_loss: 0.4859 - val_acc: 0.9249\n",
      "\n",
      "Epoch 00018: val_loss did not improve\n",
      "Epoch 19/20\n",
      "27948/27948 [==============================] - 4s 128us/step - loss: 0.0298 - acc: 0.9893 - val_loss: 0.4752 - val_acc: 0.9221\n",
      "\n",
      "Epoch 00019: val_loss did not improve\n",
      "Epoch 20/20\n",
      "27948/27948 [==============================] - 4s 126us/step - loss: 0.0280 - acc: 0.9897 - val_loss: 0.4749 - val_acc: 0.9233\n",
      "\n",
      "Epoch 00020: val_loss did not improve\n"
     ]
    },
    {
     "data": {
      "text/plain": [
       "<keras.callbacks.History at 0x2ba67308198>"
      ]
     },
     "execution_count": 23,
     "metadata": {},
     "output_type": "execute_result"
    }
   ],
   "source": [
    "classification_model.fit(x = X_train,\n",
    "                         y = to_categorical(Y_train), \n",
    "                         epochs = 20, \n",
    "                         batch_size = 128,\n",
    "                         verbose = 1,\n",
    "                         callbacks=[checkpointer],\n",
    "                         validation_data=(X_test, to_categorical(Y_test)),\n",
    "                         class_weight=class_weights)"
   ]
  },
  {
   "cell_type": "markdown",
   "metadata": {},
   "source": [
    "### Evaluation"
   ]
  },
  {
   "cell_type": "code",
   "execution_count": 24,
   "metadata": {},
   "outputs": [
    {
     "name": "stdout",
     "output_type": "stream",
     "text": [
      "             precision    recall  f1-score   support\n",
      "\n",
      "          0       0.90      0.92      0.91      3958\n",
      "          1       0.87      0.86      0.86      2332\n",
      "          2       0.99      1.00      0.99      2733\n",
      "          3       1.00      0.85      0.92       442\n",
      "\n",
      "avg / total       0.92      0.92      0.92      9465\n",
      "\n",
      "Weighted f1-score: 0.9231305402964134\n"
     ]
    }
   ],
   "source": [
    "Y_pred = classification_model.predict_classes(X_test)\n",
    "print(classification_report(Y_test, Y_pred))\n",
    "score_TSC = f1_score(Y_test, Y_pred, average='weighted')\n",
    "print(\"Weighted f1-score:\", score_TSC)"
   ]
  },
  {
   "cell_type": "code",
   "execution_count": 25,
   "metadata": {},
   "outputs": [
    {
     "name": "stdout",
     "output_type": "stream",
     "text": [
      "             precision    recall  f1-score   support\n",
      "\n",
      "          0       0.92      0.93      0.93      3958\n",
      "          1       0.89      0.89      0.89      2332\n",
      "          2       1.00      1.00      1.00      2733\n",
      "          3       1.00      0.85      0.92       442\n",
      "\n",
      "avg / total       0.94      0.94      0.94      9465\n",
      "\n",
      "Weighted f1-score: 0.9369103208922189\n"
     ]
    }
   ],
   "source": [
    "classification_model_best = load_model('./data/model_ATSC_1.hdf5')\n",
    "\n",
    "Y_pred = classification_model_best.predict_classes(X_test)\n",
    "print(classification_report(Y_test, Y_pred))\n",
    "score_TRC_best = f1_score(Y_test, Y_pred, average='weighted')\n",
    "print(\"Weighted f1-score:\", score_TSC_best)\n",
    "if score_TSC_best > score_TSC:\n",
    "    score_TSC = score_TSC_best"
   ]
  },
  {
   "cell_type": "code",
   "execution_count": 26,
   "metadata": {},
   "outputs": [
    {
     "data": {
      "image/png": "[encoded data removed]",
      "text/plain": [
       "<Figure size 432x288 with 2 Axes>"
      ]
     },
     "metadata": {},
     "output_type": "display_data"
    }
   ],
   "source": [
    "cnf_matrix = confusion_matrix(Y_test, Y_pred)\n",
    "np.set_printoptions(precision=2)\n",
    "\n",
    "sns.set_style(\"dark\")\n",
    "plt.figure()\n",
    "utils.plot_confusion_matrix(cnf_matrix, classes=[0,1],\n",
    "                      title='Confusion matrix, without normalization')"
   ]
  },
  {
   "cell_type": "markdown",
   "metadata": {},
   "source": [
    "## Cascade of detection and classification\n",
    "The labels that have to be used for assessment are saved in Y_test_true. The labels predicted by the detection_model are saved instead in Y_pred_d."
   ]
  },
  {
   "cell_type": "code",
   "execution_count": 27,
   "metadata": {},
   "outputs": [
    {
     "name": "stdout",
     "output_type": "stream",
     "text": [
      "(11504,) (11504,)\n"
     ]
    }
   ],
   "source": [
    "print(Y_test_true.shape, Y_pred_d.shape)"
   ]
  },
  {
   "cell_type": "code",
   "execution_count": 28,
   "metadata": {},
   "outputs": [],
   "source": [
    "X_train, Y_train, X_test, Y_test, n_features, n_classes, class_weights = preprocessing.loadData(subject=subject,\n",
    "                                                                                                label=label,\n",
    "                                                                                                folder=folder,\n",
    "                                                                                                window_size=window_size,\n",
    "                                                                                                stride=stride,\n",
    "                                                                                                make_binary=True,\n",
    "                                                                                                null_class=True,\n",
    "                                                                                                print_info=False)"
   ]
  },
  {
   "cell_type": "code",
   "execution_count": 29,
   "metadata": {},
   "outputs": [],
   "source": [
    "mask = (Y_pred_d == 1)\n",
    "X_detected = X_test[mask, :, :]\n",
    "Y_pred_c = classification_model_best.predict_classes(X_detected)\n",
    "Y_pred_d[mask] = Y_pred_c"
   ]
  },
  {
   "cell_type": "code",
   "execution_count": 30,
   "metadata": {},
   "outputs": [
    {
     "name": "stdout",
     "output_type": "stream",
     "text": [
      "             precision    recall  f1-score   support\n",
      "\n",
      "          0       0.31      0.90      0.46      2039\n",
      "          1       0.11      0.06      0.08      3958\n",
      "          2       0.00      0.00      0.00      2332\n",
      "          3       0.00      0.00      0.00      2733\n",
      "          4       0.00      0.00      0.00       442\n",
      "\n",
      "avg / total       0.09      0.18      0.11     11504\n",
      "\n",
      "Weighted f1-score: 0.1086209165354563\n"
     ]
    },
    {
     "name": "stderr",
     "output_type": "stream",
     "text": [
      "C:\\Users\\Riccardo\\Anaconda3\\lib\\site-packages\\sklearn\\metrics\\classification.py:1135: UndefinedMetricWarning: Precision and F-score are ill-defined and being set to 0.0 in labels with no predicted samples.\n",
      "  'precision', 'predicted', average, warn_for)\n",
      "C:\\Users\\Riccardo\\Anaconda3\\lib\\site-packages\\sklearn\\metrics\\classification.py:1135: UndefinedMetricWarning: F-score is ill-defined and being set to 0.0 in labels with no predicted samples.\n",
      "  'precision', 'predicted', average, warn_for)\n"
     ]
    }
   ],
   "source": [
    "print(classification_report(Y_test_true, Y_pred_d))\n",
    "print(\"Weighted f1-score:\", f1_score(Y_test_true, Y_pred_d, average='weighted'))"
   ]
  },
  {
   "cell_type": "markdown",
   "metadata": {},
   "source": [
    "One-shot classification instead had:"
   ]
  },
  {
   "cell_type": "code",
   "execution_count": 28,
   "metadata": {},
   "outputs": [],
   "source": [
    "X_train, Y_train, X_test, Y_test, n_features, n_classes, class_weights = preprocessing.loadData(subject=subject,\n",
    "                                                                                                label=label,\n",
    "                                                                                                folder=folder,\n",
    "                                                                                                window_size=window_size,\n",
    "                                                                                                stride=stride,\n",
    "                                                                                                make_binary=False,\n",
    "                                                                                                null_class=True,\n",
    "                                                                                                print_info=False)"
   ]
  },
  {
   "cell_type": "code",
   "execution_count": 29,
   "metadata": {},
   "outputs": [
    {
     "name": "stdout",
     "output_type": "stream",
     "text": [
      "             precision    recall  f1-score   support\n",
      "\n",
      "          0       0.88      0.88      0.88      2039\n",
      "          1       0.92      0.91      0.92      3958\n",
      "          2       0.83      0.83      0.83      2333\n",
      "          3       0.97      1.00      0.98      2733\n",
      "          4       0.91      0.84      0.88       442\n",
      "\n",
      "avg / total       0.91      0.91      0.91     11505\n",
      "\n",
      "Weighted f1-score: 0.9073576036830062\n"
     ]
    }
   ],
   "source": [
    "oneshot_model_best = load_model('./data/model_AOS_1.hdf5')\n",
    "\n",
    "Y_pred = oneshot_model_best.predict_classes(X_test)\n",
    "print(classification_report(Y_test, Y_pred))\n",
    "print(\"Weighted f1-score:\", f1_score(Y_test, Y_pred, average='weighted'))"
   ]
  },
  {
   "cell_type": "markdown",
   "metadata": {},
   "source": [
    "Save results to numpy array"
   ]
  },
  {
   "cell_type": "code",
   "execution_count": null,
   "metadata": {},
   "outputs": [],
   "source": [
    "np.save(\"./data/results_\"+str(subject), [score_OS, score_TSD, score_TSC])"
   ]
  },
  {
   "cell_type": "markdown",
   "metadata": {},
   "source": [
    "# end"
   ]
  }
 ],
 "metadata": {
  "kernelspec": {
   "display_name": "Python 3",
   "language": "python",
   "name": "python3"
  },
  "language_info": {
   "codemirror_mode": {
    "name": "ipython",
    "version": 3
   },
   "file_extension": ".py",
   "mimetype": "text/x-python",
   "name": "python",
   "nbconvert_exporter": "python",
   "pygments_lexer": "ipython3",
   "version": "3.6.4"
  }
 },
 "nbformat": 4,
 "nbformat_minor": 2
}
