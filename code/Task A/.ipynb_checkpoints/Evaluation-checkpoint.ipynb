{
 "cells": [
  {
   "cell_type": "markdown",
   "metadata": {},
   "source": [
    "# Evaluation notebook\n",
    "This notebook is meant to be executed after 'main.py'. The results obtained are here reported and displayed.\n",
    "\n",
    "The first cell contains the parameters to be tuned for a correct execution."
   ]
  },
  {
   "cell_type": "code",
   "execution_count": 1,
   "metadata": {},
   "outputs": [],
   "source": [
    "datapath = \"./data/results/\"\n",
    "subjects = [1,2]\n",
    "model_names = [\"Convolutional\", \"Convolutional1DRecurrent\"]"
   ]
  },
  {
   "cell_type": "code",
   "execution_count": 2,
   "metadata": {},
   "outputs": [],
   "source": [
    "from numpy import loadtxt, zeros"
   ]
  },
  {
   "cell_type": "markdown",
   "metadata": {},
   "source": [
    "## Task A"
   ]
  },
  {
   "cell_type": "code",
   "execution_count": 8,
   "metadata": {},
   "outputs": [
    {
     "name": "stdout",
     "output_type": "stream",
     "text": [
      "(3, 2, 1)\n"
     ]
    }
   ],
   "source": [
    "task = \"A\"\n",
    "results = zeros([3,len(subjects),len(model_names)])\n",
    "print(results.shape)"
   ]
  },
  {
   "cell_type": "code",
   "execution_count": 10,
   "metadata": {},
   "outputs": [
    {
     "name": "stdout",
     "output_type": "stream",
     "text": [
      "Loading A_Convolutional_1.txt\n",
      "Loading A_Convolutional_2.txt\n"
     ]
    }
   ],
   "source": [
    "for model in enumerate(model_names):\n",
    "    for s in enumerate(subjects):\n",
    "        filename = task + \"_\" + model[1] + \"_\" + str(s[1]) + \".txt\"\n",
    "        print(\"Loading\", filename)\n",
    "        results[:,s[0], model[0]] = loadtxt(datapath + filename, comments=\"#\", delimiter=\"\\n\", unpack=False)"
   ]
  },
  {
   "cell_type": "code",
   "execution_count": 11,
   "metadata": {},
   "outputs": [
    {
     "data": {
      "text/plain": [
       "array([[[0.9009],\n",
       "        [0.8277]],\n",
       "\n",
       "       [[0.949 ],\n",
       "        [0.9506]],\n",
       "\n",
       "       [[0.9445],\n",
       "        [0.7799]]])"
      ]
     },
     "execution_count": 11,
     "metadata": {},
     "output_type": "execute_result"
    }
   ],
   "source": [
    "results"
   ]
  },
  {
   "cell_type": "markdown",
   "metadata": {},
   "source": [
    "### Results for classification with null class\n",
    "These results consist of the ones of One-Shot classification, which are stored on the top matrix."
   ]
  },
  {
   "cell_type": "code",
   "execution_count": 12,
   "metadata": {},
   "outputs": [
    {
     "data": {
      "text/plain": [
       "array([[0.9009],\n",
       "       [0.8277]])"
      ]
     },
     "execution_count": 12,
     "metadata": {},
     "output_type": "execute_result"
    }
   ],
   "source": [
    "results[0,:,:]"
   ]
  },
  {
   "cell_type": "markdown",
   "metadata": {},
   "source": [
    "### Results for classification without null class\n",
    "These results consist of the ones of Two-Steps classification, which are stored on the bottom matrix."
   ]
  },
  {
   "cell_type": "code",
   "execution_count": 13,
   "metadata": {},
   "outputs": [
    {
     "data": {
      "text/plain": [
       "array([[0.9445],\n",
       "       [0.7799]])"
      ]
     },
     "execution_count": 13,
     "metadata": {},
     "output_type": "execute_result"
    }
   ],
   "source": [
    "results[2,:,:]"
   ]
  },
  {
   "cell_type": "code",
   "execution_count": null,
   "metadata": {},
   "outputs": [],
   "source": []
  }
 ],
 "metadata": {
  "kernelspec": {
   "display_name": "Python 3",
   "language": "python",
   "name": "python3"
  },
  "language_info": {
   "codemirror_mode": {
    "name": "ipython",
    "version": 3
   },
   "file_extension": ".py",
   "mimetype": "text/x-python",
   "name": "python",
   "nbconvert_exporter": "python",
   "pygments_lexer": "ipython3",
   "version": "3.6.4"
  }
 },
 "nbformat": 4,
 "nbformat_minor": 2
}
