{
 "cells": [
  {
   "cell_type": "markdown",
   "metadata": {},
   "source": [
    "# Evaluation notebook\n",
    "This notebook is meant to be executed after 'main.py' and 'main_multiuser.py', since it uses the results stored by those programs for visualisation purposes.\n",
    "The first cell contains the parameters to be tuned for a correct execution. Here's a quick explanation:\n",
    "- datapath: string, containing the folder where results have been stored by 'main.py' and 'main_multiuser.py'. Note that results are saved as .txt files;\n",
    "- subjects: list of integers, containing the different configurations of subjects on which models have been tested;\n",
    "- model_names: list of strings, containing the names of models that have been deployed."
   ]
  },
  {
   "cell_type": "code",
   "execution_count": 1,
   "metadata": {},
   "outputs": [],
   "source": [
    "datapath = \"./data/results/\"\n",
    "subjects = [1,2,3,4,23]\n",
    "model_names = [\"Convolutional\", \"Convolutional1DRecurrent\"]"
   ]
  },
  {
   "cell_type": "markdown",
   "metadata": {},
   "source": [
    "Import useful packeges."
   ]
  },
  {
   "cell_type": "code",
   "execution_count": 2,
   "metadata": {},
   "outputs": [],
   "source": [
    "import numpy as np\n",
    "import pandas as pd\n",
    "import matplotlib.pyplot as plt"
   ]
  },
  {
   "cell_type": "markdown",
   "metadata": {},
   "source": [
    "# Task A"
   ]
  },
  {
   "cell_type": "code",
   "execution_count": 3,
   "metadata": {},
   "outputs": [
    {
     "name": "stdout",
     "output_type": "stream",
     "text": [
      "Results matrix has shape (3, 5, 2)\n",
      "Loading A_Convolutional_1.txt\n",
      "Loading A_Convolutional_2.txt\n",
      "Loading A_Convolutional_3.txt\n",
      "Loading A_Convolutional_4.txt\n",
      "Loading A_Convolutional_23.txt\n",
      "Loading A_Convolutional1DRecurrent_1.txt\n",
      "Loading A_Convolutional1DRecurrent_2.txt\n",
      "Loading A_Convolutional1DRecurrent_3.txt\n",
      "Loading A_Convolutional1DRecurrent_4.txt\n",
      "Loading A_Convolutional1DRecurrent_23.txt\n"
     ]
    }
   ],
   "source": [
    "task = \"A\"\n",
    "results = np.zeros([3,len(subjects),len(model_names)])\n",
    "print(\"Results matrix has shape\", results.shape)\n",
    "for model in enumerate(model_names):\n",
    "    for s in enumerate(subjects):\n",
    "        filename = task + \"_\" + model[1] + \"_\" + str(s[1]) + \".txt\"\n",
    "        print(\"Loading\", filename)\n",
    "        results[:,s[0], model[0]] = np.loadtxt(datapath + filename, comments=\"#\", delimiter=\"\\n\", unpack=False)"
   ]
  },
  {
   "cell_type": "markdown",
   "metadata": {},
   "source": [
    "## Results for classification with null class\n",
    "These results consist of the ones of One-Shot classification, which are stored on the top matrix."
   ]
  },
  {
   "cell_type": "code",
   "execution_count": 4,
   "metadata": {},
   "outputs": [
    {
     "data": {
      "text/html": [
       "<div>\n",
       "<style scoped>\n",
       "    .dataframe tbody tr th:only-of-type {\n",
       "        vertical-align: middle;\n",
       "    }\n",
       "\n",
       "    .dataframe tbody tr th {\n",
       "        vertical-align: top;\n",
       "    }\n",
       "\n",
       "    .dataframe thead th {\n",
       "        text-align: right;\n",
       "    }\n",
       "</style>\n",
       "<table border=\"1\" class=\"dataframe\">\n",
       "  <thead>\n",
       "    <tr style=\"text-align: right;\">\n",
       "      <th></th>\n",
       "      <th>Convolutional</th>\n",
       "      <th>Convolutional1DRecurrent</th>\n",
       "    </tr>\n",
       "  </thead>\n",
       "  <tbody>\n",
       "    <tr>\n",
       "      <th>S1</th>\n",
       "      <td>0.9009</td>\n",
       "      <td>0.8943</td>\n",
       "    </tr>\n",
       "    <tr>\n",
       "      <th>S2</th>\n",
       "      <td>0.8277</td>\n",
       "      <td>0.7461</td>\n",
       "    </tr>\n",
       "    <tr>\n",
       "      <th>S3</th>\n",
       "      <td>0.8225</td>\n",
       "      <td>0.8090</td>\n",
       "    </tr>\n",
       "    <tr>\n",
       "      <th>S4</th>\n",
       "      <td>0.8689</td>\n",
       "      <td>0.8720</td>\n",
       "    </tr>\n",
       "    <tr>\n",
       "      <th>S2+S3</th>\n",
       "      <td>0.7805</td>\n",
       "      <td>0.7889</td>\n",
       "    </tr>\n",
       "  </tbody>\n",
       "</table>\n",
       "</div>"
      ],
      "text/plain": [
       "       Convolutional  Convolutional1DRecurrent\n",
       "S1            0.9009                    0.8943\n",
       "S2            0.8277                    0.7461\n",
       "S3            0.8225                    0.8090\n",
       "S4            0.8689                    0.8720\n",
       "S2+S3         0.7805                    0.7889"
      ]
     },
     "execution_count": 4,
     "metadata": {},
     "output_type": "execute_result"
    }
   ],
   "source": [
    "res_A1 = pd.DataFrame(results[0,:,:], index=[\"S1\", \"S2\", \"S3\", \"S4\", \"S2+S3\"], columns=model_names)\n",
    "res_A1"
   ]
  },
  {
   "cell_type": "code",
   "execution_count": 5,
   "metadata": {},
   "outputs": [
    {
     "data": {
      "text/plain": [
       "<matplotlib.legend.Legend at 0x2b4b0dbef98>"
      ]
     },
     "execution_count": 5,
     "metadata": {},
     "output_type": "execute_result"
    },
    {
     "data": {
      "text/plain": [
       "<Figure size 432x288 with 0 Axes>"
      ]
     },
     "metadata": {},
     "output_type": "display_data"
    },
    {
     "data": {
      "image/png": "[encoded data removed]",
      "text/plain": [
       "<Figure size 432x288 with 1 Axes>"
      ]
     },
     "metadata": {},
     "output_type": "display_data"
    }
   ],
   "source": [
    "plt.figure()\n",
    "res_A1.plot(kind='bar', layout=\"t\", logy=False);\n",
    "plt.legend(loc=9, bbox_to_anchor=(0.5, -0.1))"
   ]
  },
  {
   "cell_type": "markdown",
   "metadata": {},
   "source": [
    "## Results for classification without null class\n",
    "These results consist of the ones of Two-Steps classification, which are stored on the bottom matrix."
   ]
  },
  {
   "cell_type": "code",
   "execution_count": 6,
   "metadata": {},
   "outputs": [],
   "source": [
    "res_A2 = pd.DataFrame(results[2,:,:], index=[\"S1\", \"S2\", \"S3\", \"S4\", \"S2+S3\"], columns=model_names)"
   ]
  },
  {
   "cell_type": "code",
   "execution_count": 7,
   "metadata": {},
   "outputs": [
    {
     "data": {
      "text/plain": [
       "<matplotlib.legend.Legend at 0x2b4b0dbef60>"
      ]
     },
     "execution_count": 7,
     "metadata": {},
     "output_type": "execute_result"
    },
    {
     "data": {
      "text/plain": [
       "<Figure size 432x288 with 0 Axes>"
      ]
     },
     "metadata": {},
     "output_type": "display_data"
    },
    {
     "data": {
      "image/png": "[encoded data removed]",
      "text/plain": [
       "<Figure size 432x288 with 1 Axes>"
      ]
     },
     "metadata": {},
     "output_type": "display_data"
    }
   ],
   "source": [
    "plt.figure()\n",
    "res_A2.plot(kind='bar', layout=\"t\", logy=False);\n",
    "plt.legend(loc=9, bbox_to_anchor=(0.5, -0.1))"
   ]
  },
  {
   "cell_type": "markdown",
   "metadata": {},
   "source": [
    "## Comparison between classifications with and without null class"
   ]
  },
  {
   "cell_type": "code",
   "execution_count": 8,
   "metadata": {},
   "outputs": [
    {
     "data": {
      "text/html": [
       "<div>\n",
       "<style scoped>\n",
       "    .dataframe tbody tr th:only-of-type {\n",
       "        vertical-align: middle;\n",
       "    }\n",
       "\n",
       "    .dataframe tbody tr th {\n",
       "        vertical-align: top;\n",
       "    }\n",
       "\n",
       "    .dataframe thead tr th {\n",
       "        text-align: left;\n",
       "    }\n",
       "</style>\n",
       "<table border=\"1\" class=\"dataframe\">\n",
       "  <thead>\n",
       "    <tr>\n",
       "      <th></th>\n",
       "      <th colspan=\"2\" halign=\"left\">null class</th>\n",
       "      <th colspan=\"2\" halign=\"left\">no null class</th>\n",
       "    </tr>\n",
       "    <tr>\n",
       "      <th></th>\n",
       "      <th>Convolutional</th>\n",
       "      <th>Convolutional1DRecurrent</th>\n",
       "      <th>Convolutional</th>\n",
       "      <th>Convolutional1DRecurrent</th>\n",
       "    </tr>\n",
       "  </thead>\n",
       "  <tbody>\n",
       "    <tr>\n",
       "      <th>S1</th>\n",
       "      <td>0.9009</td>\n",
       "      <td>0.8943</td>\n",
       "      <td>0.9445</td>\n",
       "      <td>0.9338</td>\n",
       "    </tr>\n",
       "    <tr>\n",
       "      <th>S2</th>\n",
       "      <td>0.8277</td>\n",
       "      <td>0.7461</td>\n",
       "      <td>0.7799</td>\n",
       "      <td>0.7790</td>\n",
       "    </tr>\n",
       "    <tr>\n",
       "      <th>S3</th>\n",
       "      <td>0.8225</td>\n",
       "      <td>0.8090</td>\n",
       "      <td>0.8998</td>\n",
       "      <td>0.8881</td>\n",
       "    </tr>\n",
       "    <tr>\n",
       "      <th>S4</th>\n",
       "      <td>0.8689</td>\n",
       "      <td>0.8720</td>\n",
       "      <td>0.8816</td>\n",
       "      <td>0.8895</td>\n",
       "    </tr>\n",
       "    <tr>\n",
       "      <th>S2+S3</th>\n",
       "      <td>0.7805</td>\n",
       "      <td>0.7889</td>\n",
       "      <td>0.8229</td>\n",
       "      <td>0.8377</td>\n",
       "    </tr>\n",
       "  </tbody>\n",
       "</table>\n",
       "</div>"
      ],
      "text/plain": [
       "         null class                          no null class  \\\n",
       "      Convolutional Convolutional1DRecurrent Convolutional   \n",
       "S1           0.9009                   0.8943        0.9445   \n",
       "S2           0.8277                   0.7461        0.7799   \n",
       "S3           0.8225                   0.8090        0.8998   \n",
       "S4           0.8689                   0.8720        0.8816   \n",
       "S2+S3        0.7805                   0.7889        0.8229   \n",
       "\n",
       "                                \n",
       "      Convolutional1DRecurrent  \n",
       "S1                      0.9338  \n",
       "S2                      0.7790  \n",
       "S3                      0.8881  \n",
       "S4                      0.8895  \n",
       "S2+S3                   0.8377  "
      ]
     },
     "execution_count": 8,
     "metadata": {},
     "output_type": "execute_result"
    }
   ],
   "source": [
    "df = pd.concat([res_A1, res_A2], axis=1, keys=[\"null class\", \"no null class\"])\n",
    "df"
   ]
  },
  {
   "cell_type": "code",
   "execution_count": 9,
   "metadata": {},
   "outputs": [
    {
     "data": {
      "text/plain": [
       "<matplotlib.legend.Legend at 0x2b4b2ef6dd8>"
      ]
     },
     "execution_count": 9,
     "metadata": {},
     "output_type": "execute_result"
    },
    {
     "data": {
      "text/plain": [
       "<Figure size 432x288 with 0 Axes>"
      ]
     },
     "metadata": {},
     "output_type": "display_data"
    },
    {
     "data": {
      "image/png": "[encoded data removed]",
      "text/plain": [
       "<Figure size 432x288 with 1 Axes>"
      ]
     },
     "metadata": {},
     "output_type": "display_data"
    }
   ],
   "source": [
    "plt.figure()\n",
    "df.plot(kind='bar', layout=\"t\", logy=False);\n",
    "plt.legend(loc=9, bbox_to_anchor=(0.5, -0.1))"
   ]
  },
  {
   "cell_type": "markdown",
   "metadata": {},
   "source": [
    "### Results for Convolutional model"
   ]
  },
  {
   "cell_type": "code",
   "execution_count": 10,
   "metadata": {},
   "outputs": [
    {
     "data": {
      "text/html": [
       "<div>\n",
       "<style scoped>\n",
       "    .dataframe tbody tr th:only-of-type {\n",
       "        vertical-align: middle;\n",
       "    }\n",
       "\n",
       "    .dataframe tbody tr th {\n",
       "        vertical-align: top;\n",
       "    }\n",
       "\n",
       "    .dataframe thead th {\n",
       "        text-align: right;\n",
       "    }\n",
       "</style>\n",
       "<table border=\"1\" class=\"dataframe\">\n",
       "  <thead>\n",
       "    <tr style=\"text-align: right;\">\n",
       "      <th></th>\n",
       "      <th>One-Shot Classification</th>\n",
       "      <th>Two-Step Detection</th>\n",
       "      <th>Two-Step Classification</th>\n",
       "    </tr>\n",
       "  </thead>\n",
       "  <tbody>\n",
       "    <tr>\n",
       "      <th>S1</th>\n",
       "      <td>0.9009</td>\n",
       "      <td>0.9490</td>\n",
       "      <td>0.9445</td>\n",
       "    </tr>\n",
       "    <tr>\n",
       "      <th>S2</th>\n",
       "      <td>0.8277</td>\n",
       "      <td>0.9506</td>\n",
       "      <td>0.7799</td>\n",
       "    </tr>\n",
       "    <tr>\n",
       "      <th>S3</th>\n",
       "      <td>0.8225</td>\n",
       "      <td>0.9361</td>\n",
       "      <td>0.8998</td>\n",
       "    </tr>\n",
       "    <tr>\n",
       "      <th>S4</th>\n",
       "      <td>0.8689</td>\n",
       "      <td>0.9672</td>\n",
       "      <td>0.8816</td>\n",
       "    </tr>\n",
       "    <tr>\n",
       "      <th>S2+S3</th>\n",
       "      <td>0.7805</td>\n",
       "      <td>0.9390</td>\n",
       "      <td>0.8229</td>\n",
       "    </tr>\n",
       "  </tbody>\n",
       "</table>\n",
       "</div>"
      ],
      "text/plain": [
       "       One-Shot Classification  Two-Step Detection  Two-Step Classification\n",
       "S1                      0.9009              0.9490                   0.9445\n",
       "S2                      0.8277              0.9506                   0.7799\n",
       "S3                      0.8225              0.9361                   0.8998\n",
       "S4                      0.8689              0.9672                   0.8816\n",
       "S2+S3                   0.7805              0.9390                   0.8229"
      ]
     },
     "execution_count": 10,
     "metadata": {},
     "output_type": "execute_result"
    }
   ],
   "source": [
    "res_A3 = pd.DataFrame(results[:,:,0].T,\n",
    "                      index=[\"S1\", \"S2\", \"S3\", \"S4\", \"S2+S3\"],\n",
    "                      columns=[\"One-Shot Classification\", \"Two-Step Detection\", \"Two-Step Classification\"])\n",
    "res_A3"
   ]
  },
  {
   "cell_type": "code",
   "execution_count": 11,
   "metadata": {},
   "outputs": [
    {
     "data": {
      "text/plain": [
       "<matplotlib.legend.Legend at 0x2b4b2f81c88>"
      ]
     },
     "execution_count": 11,
     "metadata": {},
     "output_type": "execute_result"
    },
    {
     "data": {
      "text/plain": [
       "<Figure size 432x288 with 0 Axes>"
      ]
     },
     "metadata": {},
     "output_type": "display_data"
    },
    {
     "data": {
      "image/png": "[encoded data removed]",
      "text/plain": [
       "<Figure size 432x288 with 1 Axes>"
      ]
     },
     "metadata": {},
     "output_type": "display_data"
    }
   ],
   "source": [
    "plt.figure()\n",
    "res_A3.plot(kind='bar', layout=\"t\");\n",
    "plt.legend(loc=9, bbox_to_anchor=(0.5, -0.1))"
   ]
  },
  {
   "cell_type": "markdown",
   "metadata": {},
   "source": [
    "### Results for Convolutional1DRecurrent model"
   ]
  },
  {
   "cell_type": "code",
   "execution_count": 12,
   "metadata": {},
   "outputs": [
    {
     "data": {
      "text/html": [
       "<div>\n",
       "<style scoped>\n",
       "    .dataframe tbody tr th:only-of-type {\n",
       "        vertical-align: middle;\n",
       "    }\n",
       "\n",
       "    .dataframe tbody tr th {\n",
       "        vertical-align: top;\n",
       "    }\n",
       "\n",
       "    .dataframe thead th {\n",
       "        text-align: right;\n",
       "    }\n",
       "</style>\n",
       "<table border=\"1\" class=\"dataframe\">\n",
       "  <thead>\n",
       "    <tr style=\"text-align: right;\">\n",
       "      <th></th>\n",
       "      <th>One-Shot Classification</th>\n",
       "      <th>Two-Step Detection</th>\n",
       "      <th>Two-Step Classification</th>\n",
       "    </tr>\n",
       "  </thead>\n",
       "  <tbody>\n",
       "    <tr>\n",
       "      <th>S1</th>\n",
       "      <td>0.8943</td>\n",
       "      <td>0.9603</td>\n",
       "      <td>0.9338</td>\n",
       "    </tr>\n",
       "    <tr>\n",
       "      <th>S2</th>\n",
       "      <td>0.7461</td>\n",
       "      <td>0.9432</td>\n",
       "      <td>0.7790</td>\n",
       "    </tr>\n",
       "    <tr>\n",
       "      <th>S3</th>\n",
       "      <td>0.8090</td>\n",
       "      <td>0.9089</td>\n",
       "      <td>0.8881</td>\n",
       "    </tr>\n",
       "    <tr>\n",
       "      <th>S4</th>\n",
       "      <td>0.8720</td>\n",
       "      <td>0.9729</td>\n",
       "      <td>0.8895</td>\n",
       "    </tr>\n",
       "    <tr>\n",
       "      <th>S2+S3</th>\n",
       "      <td>0.7889</td>\n",
       "      <td>0.9278</td>\n",
       "      <td>0.8377</td>\n",
       "    </tr>\n",
       "  </tbody>\n",
       "</table>\n",
       "</div>"
      ],
      "text/plain": [
       "       One-Shot Classification  Two-Step Detection  Two-Step Classification\n",
       "S1                      0.8943              0.9603                   0.9338\n",
       "S2                      0.7461              0.9432                   0.7790\n",
       "S3                      0.8090              0.9089                   0.8881\n",
       "S4                      0.8720              0.9729                   0.8895\n",
       "S2+S3                   0.7889              0.9278                   0.8377"
      ]
     },
     "execution_count": 12,
     "metadata": {},
     "output_type": "execute_result"
    }
   ],
   "source": [
    "res_A4 = pd.DataFrame(results[:,:,1].T,\n",
    "                      index=[\"S1\", \"S2\", \"S3\", \"S4\", \"S2+S3\"],\n",
    "                      columns=[\"One-Shot Classification\", \"Two-Step Detection\", \"Two-Step Classification\"])\n",
    "res_A4"
   ]
  },
  {
   "cell_type": "code",
   "execution_count": 13,
   "metadata": {},
   "outputs": [
    {
     "data": {
      "text/plain": [
       "<matplotlib.legend.Legend at 0x2b4b300e8d0>"
      ]
     },
     "execution_count": 13,
     "metadata": {},
     "output_type": "execute_result"
    },
    {
     "data": {
      "text/plain": [
       "<Figure size 432x288 with 0 Axes>"
      ]
     },
     "metadata": {},
     "output_type": "display_data"
    },
    {
     "data": {
      "image/png": "[encoded data removed]",
      "text/plain": [
       "<Figure size 432x288 with 1 Axes>"
      ]
     },
     "metadata": {},
     "output_type": "display_data"
    }
   ],
   "source": [
    "plt.figure()\n",
    "res_A4.plot(kind='bar', layout=\"t\");\n",
    "plt.legend(loc=9, bbox_to_anchor=(0.5, -0.1))"
   ]
  },
  {
   "cell_type": "markdown",
   "metadata": {},
   "source": [
    "# Task B"
   ]
  },
  {
   "cell_type": "code",
   "execution_count": 14,
   "metadata": {},
   "outputs": [
    {
     "name": "stdout",
     "output_type": "stream",
     "text": [
      "Results matrix has shape (3, 5, 2)\n",
      "Loading B_Convolutional_1.txt\n",
      "Loading B_Convolutional_2.txt\n",
      "Loading B_Convolutional_3.txt\n",
      "Loading B_Convolutional_4.txt\n",
      "Loading B_Convolutional_23.txt\n",
      "Loading B_Convolutional1DRecurrent_1.txt\n",
      "Loading B_Convolutional1DRecurrent_2.txt\n",
      "Loading B_Convolutional1DRecurrent_3.txt\n",
      "Loading B_Convolutional1DRecurrent_4.txt\n",
      "Loading B_Convolutional1DRecurrent_23.txt\n"
     ]
    }
   ],
   "source": [
    "task = \"B\"\n",
    "results = np.zeros([3,len(subjects),len(model_names)])\n",
    "print(\"Results matrix has shape\", results.shape)\n",
    "for model in enumerate(model_names):\n",
    "    for s in enumerate(subjects):\n",
    "        filename = task + \"_\" + model[1] + \"_\" + str(s[1]) + \".txt\"\n",
    "        print(\"Loading\", filename)\n",
    "        results[:,s[0], model[0]] = np.loadtxt(datapath + filename, comments=\"#\", delimiter=\"\\n\", unpack=False)"
   ]
  },
  {
   "cell_type": "markdown",
   "metadata": {},
   "source": [
    "## Results for classification with null class\n",
    "These results consist of the ones of One-Shot classification, which are stored on the top matrix."
   ]
  },
  {
   "cell_type": "code",
   "execution_count": 15,
   "metadata": {},
   "outputs": [
    {
     "data": {
      "text/html": [
       "<div>\n",
       "<style scoped>\n",
       "    .dataframe tbody tr th:only-of-type {\n",
       "        vertical-align: middle;\n",
       "    }\n",
       "\n",
       "    .dataframe tbody tr th {\n",
       "        vertical-align: top;\n",
       "    }\n",
       "\n",
       "    .dataframe thead th {\n",
       "        text-align: right;\n",
       "    }\n",
       "</style>\n",
       "<table border=\"1\" class=\"dataframe\">\n",
       "  <thead>\n",
       "    <tr style=\"text-align: right;\">\n",
       "      <th></th>\n",
       "      <th>Convolutional</th>\n",
       "      <th>Convolutional1DRecurrent</th>\n",
       "    </tr>\n",
       "  </thead>\n",
       "  <tbody>\n",
       "    <tr>\n",
       "      <th>S1</th>\n",
       "      <td>0.8743</td>\n",
       "      <td>0.8900</td>\n",
       "    </tr>\n",
       "    <tr>\n",
       "      <th>S2</th>\n",
       "      <td>0.8001</td>\n",
       "      <td>0.8105</td>\n",
       "    </tr>\n",
       "    <tr>\n",
       "      <th>S3</th>\n",
       "      <td>0.8573</td>\n",
       "      <td>0.8758</td>\n",
       "    </tr>\n",
       "    <tr>\n",
       "      <th>S4</th>\n",
       "      <td>0.8458</td>\n",
       "      <td>0.8407</td>\n",
       "    </tr>\n",
       "    <tr>\n",
       "      <th>S2+S3</th>\n",
       "      <td>0.8178</td>\n",
       "      <td>0.8329</td>\n",
       "    </tr>\n",
       "  </tbody>\n",
       "</table>\n",
       "</div>"
      ],
      "text/plain": [
       "       Convolutional  Convolutional1DRecurrent\n",
       "S1            0.8743                    0.8900\n",
       "S2            0.8001                    0.8105\n",
       "S3            0.8573                    0.8758\n",
       "S4            0.8458                    0.8407\n",
       "S2+S3         0.8178                    0.8329"
      ]
     },
     "execution_count": 15,
     "metadata": {},
     "output_type": "execute_result"
    }
   ],
   "source": [
    "res_B1 = pd.DataFrame(results[0,:,:], index=[\"S1\", \"S2\", \"S3\", \"S4\", \"S2+S3\"], columns=model_names)\n",
    "res_B1"
   ]
  },
  {
   "cell_type": "code",
   "execution_count": 16,
   "metadata": {},
   "outputs": [
    {
     "data": {
      "text/plain": [
       "<matplotlib.legend.Legend at 0x2b4b40abb70>"
      ]
     },
     "execution_count": 16,
     "metadata": {},
     "output_type": "execute_result"
    },
    {
     "data": {
      "text/plain": [
       "<Figure size 432x288 with 0 Axes>"
      ]
     },
     "metadata": {},
     "output_type": "display_data"
    },
    {
     "data": {
      "image/png": "[encoded data removed]",
      "text/plain": [
       "<Figure size 432x288 with 1 Axes>"
      ]
     },
     "metadata": {},
     "output_type": "display_data"
    }
   ],
   "source": [
    "plt.figure()\n",
    "res_B1.plot(kind='bar', layout=\"t\", logy=False);\n",
    "plt.legend(loc=9, bbox_to_anchor=(0.5, -0.1))"
   ]
  },
  {
   "cell_type": "markdown",
   "metadata": {},
   "source": [
    "## Results for classification without null class\n",
    "These results consist of the ones of Two-Steps classification, which are stored on the bottom matrix."
   ]
  },
  {
   "cell_type": "code",
   "execution_count": 17,
   "metadata": {},
   "outputs": [
    {
     "data": {
      "text/html": [
       "<div>\n",
       "<style scoped>\n",
       "    .dataframe tbody tr th:only-of-type {\n",
       "        vertical-align: middle;\n",
       "    }\n",
       "\n",
       "    .dataframe tbody tr th {\n",
       "        vertical-align: top;\n",
       "    }\n",
       "\n",
       "    .dataframe thead th {\n",
       "        text-align: right;\n",
       "    }\n",
       "</style>\n",
       "<table border=\"1\" class=\"dataframe\">\n",
       "  <thead>\n",
       "    <tr style=\"text-align: right;\">\n",
       "      <th></th>\n",
       "      <th>Convolutional</th>\n",
       "      <th>Convolutional1DRecurrent</th>\n",
       "    </tr>\n",
       "  </thead>\n",
       "  <tbody>\n",
       "    <tr>\n",
       "      <th>S1</th>\n",
       "      <td>0.7811</td>\n",
       "      <td>0.7941</td>\n",
       "    </tr>\n",
       "    <tr>\n",
       "      <th>S2</th>\n",
       "      <td>0.3284</td>\n",
       "      <td>0.3490</td>\n",
       "    </tr>\n",
       "    <tr>\n",
       "      <th>S3</th>\n",
       "      <td>0.7354</td>\n",
       "      <td>0.7559</td>\n",
       "    </tr>\n",
       "    <tr>\n",
       "      <th>S4</th>\n",
       "      <td>0.6448</td>\n",
       "      <td>0.6564</td>\n",
       "    </tr>\n",
       "    <tr>\n",
       "      <th>S2+S3</th>\n",
       "      <td>0.5627</td>\n",
       "      <td>0.6042</td>\n",
       "    </tr>\n",
       "  </tbody>\n",
       "</table>\n",
       "</div>"
      ],
      "text/plain": [
       "       Convolutional  Convolutional1DRecurrent\n",
       "S1            0.7811                    0.7941\n",
       "S2            0.3284                    0.3490\n",
       "S3            0.7354                    0.7559\n",
       "S4            0.6448                    0.6564\n",
       "S2+S3         0.5627                    0.6042"
      ]
     },
     "execution_count": 17,
     "metadata": {},
     "output_type": "execute_result"
    }
   ],
   "source": [
    "res_B2 = pd.DataFrame(results[2,:,:], index=[\"S1\", \"S2\", \"S3\", \"S4\", \"S2+S3\"], columns=model_names)\n",
    "res_B2"
   ]
  },
  {
   "cell_type": "code",
   "execution_count": 18,
   "metadata": {},
   "outputs": [
    {
     "data": {
      "text/plain": [
       "<matplotlib.legend.Legend at 0x2b4b4105400>"
      ]
     },
     "execution_count": 18,
     "metadata": {},
     "output_type": "execute_result"
    },
    {
     "data": {
      "text/plain": [
       "<Figure size 432x288 with 0 Axes>"
      ]
     },
     "metadata": {},
     "output_type": "display_data"
    },
    {
     "data": {
      "image/png": "[encoded data removed]",
      "text/plain": [
       "<Figure size 432x288 with 1 Axes>"
      ]
     },
     "metadata": {},
     "output_type": "display_data"
    }
   ],
   "source": [
    "plt.figure()\n",
    "res_B2.plot(kind='bar', layout=\"t\", logy=False);\n",
    "plt.legend(loc=9, bbox_to_anchor=(0.5, -0.1))"
   ]
  },
  {
   "cell_type": "markdown",
   "metadata": {},
   "source": [
    "## Comparison between classifications with and without null class"
   ]
  },
  {
   "cell_type": "code",
   "execution_count": 19,
   "metadata": {},
   "outputs": [
    {
     "data": {
      "text/html": [
       "<div>\n",
       "<style scoped>\n",
       "    .dataframe tbody tr th:only-of-type {\n",
       "        vertical-align: middle;\n",
       "    }\n",
       "\n",
       "    .dataframe tbody tr th {\n",
       "        vertical-align: top;\n",
       "    }\n",
       "\n",
       "    .dataframe thead tr th {\n",
       "        text-align: left;\n",
       "    }\n",
       "</style>\n",
       "<table border=\"1\" class=\"dataframe\">\n",
       "  <thead>\n",
       "    <tr>\n",
       "      <th></th>\n",
       "      <th colspan=\"2\" halign=\"left\">null class</th>\n",
       "      <th colspan=\"2\" halign=\"left\">no null class</th>\n",
       "    </tr>\n",
       "    <tr>\n",
       "      <th></th>\n",
       "      <th>Convolutional</th>\n",
       "      <th>Convolutional1DRecurrent</th>\n",
       "      <th>Convolutional</th>\n",
       "      <th>Convolutional1DRecurrent</th>\n",
       "    </tr>\n",
       "  </thead>\n",
       "  <tbody>\n",
       "    <tr>\n",
       "      <th>S1</th>\n",
       "      <td>0.8743</td>\n",
       "      <td>0.8900</td>\n",
       "      <td>0.7811</td>\n",
       "      <td>0.7941</td>\n",
       "    </tr>\n",
       "    <tr>\n",
       "      <th>S2</th>\n",
       "      <td>0.8001</td>\n",
       "      <td>0.8105</td>\n",
       "      <td>0.3284</td>\n",
       "      <td>0.3490</td>\n",
       "    </tr>\n",
       "    <tr>\n",
       "      <th>S3</th>\n",
       "      <td>0.8573</td>\n",
       "      <td>0.8758</td>\n",
       "      <td>0.7354</td>\n",
       "      <td>0.7559</td>\n",
       "    </tr>\n",
       "    <tr>\n",
       "      <th>S4</th>\n",
       "      <td>0.8458</td>\n",
       "      <td>0.8407</td>\n",
       "      <td>0.6448</td>\n",
       "      <td>0.6564</td>\n",
       "    </tr>\n",
       "    <tr>\n",
       "      <th>S2+S3</th>\n",
       "      <td>0.8178</td>\n",
       "      <td>0.8329</td>\n",
       "      <td>0.5627</td>\n",
       "      <td>0.6042</td>\n",
       "    </tr>\n",
       "  </tbody>\n",
       "</table>\n",
       "</div>"
      ],
      "text/plain": [
       "         null class                          no null class  \\\n",
       "      Convolutional Convolutional1DRecurrent Convolutional   \n",
       "S1           0.8743                   0.8900        0.7811   \n",
       "S2           0.8001                   0.8105        0.3284   \n",
       "S3           0.8573                   0.8758        0.7354   \n",
       "S4           0.8458                   0.8407        0.6448   \n",
       "S2+S3        0.8178                   0.8329        0.5627   \n",
       "\n",
       "                                \n",
       "      Convolutional1DRecurrent  \n",
       "S1                      0.7941  \n",
       "S2                      0.3490  \n",
       "S3                      0.7559  \n",
       "S4                      0.6564  \n",
       "S2+S3                   0.6042  "
      ]
     },
     "execution_count": 19,
     "metadata": {},
     "output_type": "execute_result"
    }
   ],
   "source": [
    "df = pd.concat([res_B1, res_B2], axis=1, keys=[\"null class\", \"no null class\"])\n",
    "df"
   ]
  },
  {
   "cell_type": "code",
   "execution_count": 20,
   "metadata": {},
   "outputs": [
    {
     "data": {
      "text/plain": [
       "<matplotlib.legend.Legend at 0x2b4b416e278>"
      ]
     },
     "execution_count": 20,
     "metadata": {},
     "output_type": "execute_result"
    },
    {
     "data": {
      "text/plain": [
       "<Figure size 432x288 with 0 Axes>"
      ]
     },
     "metadata": {},
     "output_type": "display_data"
    },
    {
     "data": {
      "image/png": "[encoded data removed]",
      "text/plain": [
       "<Figure size 432x288 with 1 Axes>"
      ]
     },
     "metadata": {},
     "output_type": "display_data"
    }
   ],
   "source": [
    "plt.figure()\n",
    "df.plot(kind='bar', layout=\"t\", logy=False);\n",
    "plt.legend(loc=9, bbox_to_anchor=(0.5, -0.1))"
   ]
  },
  {
   "cell_type": "code",
   "execution_count": 21,
   "metadata": {},
   "outputs": [
    {
     "data": {
      "text/html": [
       "<div>\n",
       "<style scoped>\n",
       "    .dataframe tbody tr th:only-of-type {\n",
       "        vertical-align: middle;\n",
       "    }\n",
       "\n",
       "    .dataframe tbody tr th {\n",
       "        vertical-align: top;\n",
       "    }\n",
       "\n",
       "    .dataframe thead th {\n",
       "        text-align: right;\n",
       "    }\n",
       "</style>\n",
       "<table border=\"1\" class=\"dataframe\">\n",
       "  <thead>\n",
       "    <tr style=\"text-align: right;\">\n",
       "      <th></th>\n",
       "      <th>One-Shot Classification</th>\n",
       "      <th>Two-Step Detection</th>\n",
       "      <th>Two-Step Classification</th>\n",
       "    </tr>\n",
       "  </thead>\n",
       "  <tbody>\n",
       "    <tr>\n",
       "      <th>S1</th>\n",
       "      <td>0.8743</td>\n",
       "      <td>0.9198</td>\n",
       "      <td>0.7811</td>\n",
       "    </tr>\n",
       "    <tr>\n",
       "      <th>S2</th>\n",
       "      <td>0.8001</td>\n",
       "      <td>0.8629</td>\n",
       "      <td>0.3284</td>\n",
       "    </tr>\n",
       "    <tr>\n",
       "      <th>S3</th>\n",
       "      <td>0.8573</td>\n",
       "      <td>0.8948</td>\n",
       "      <td>0.7354</td>\n",
       "    </tr>\n",
       "    <tr>\n",
       "      <th>S4</th>\n",
       "      <td>0.8458</td>\n",
       "      <td>0.8784</td>\n",
       "      <td>0.6448</td>\n",
       "    </tr>\n",
       "    <tr>\n",
       "      <th>S2+S3</th>\n",
       "      <td>0.8178</td>\n",
       "      <td>0.8692</td>\n",
       "      <td>0.5627</td>\n",
       "    </tr>\n",
       "  </tbody>\n",
       "</table>\n",
       "</div>"
      ],
      "text/plain": [
       "       One-Shot Classification  Two-Step Detection  Two-Step Classification\n",
       "S1                      0.8743              0.9198                   0.7811\n",
       "S2                      0.8001              0.8629                   0.3284\n",
       "S3                      0.8573              0.8948                   0.7354\n",
       "S4                      0.8458              0.8784                   0.6448\n",
       "S2+S3                   0.8178              0.8692                   0.5627"
      ]
     },
     "execution_count": 21,
     "metadata": {},
     "output_type": "execute_result"
    }
   ],
   "source": [
    "res_B3 = pd.DataFrame(results[:,:,0].T,\n",
    "                      index=[\"S1\", \"S2\", \"S3\", \"S4\", \"S2+S3\"],\n",
    "                      columns=[\"One-Shot Classification\", \"Two-Step Detection\", \"Two-Step Classification\"])\n",
    "res_B3"
   ]
  },
  {
   "cell_type": "code",
   "execution_count": 22,
   "metadata": {},
   "outputs": [
    {
     "data": {
      "text/plain": [
       "<matplotlib.legend.Legend at 0x2b4b416e1d0>"
      ]
     },
     "execution_count": 22,
     "metadata": {},
     "output_type": "execute_result"
    },
    {
     "data": {
      "text/plain": [
       "<Figure size 432x288 with 0 Axes>"
      ]
     },
     "metadata": {},
     "output_type": "display_data"
    },
    {
     "data": {
      "image/png": "[encoded data removed]",
      "text/plain": [
       "<Figure size 432x288 with 1 Axes>"
      ]
     },
     "metadata": {},
     "output_type": "display_data"
    }
   ],
   "source": [
    "plt.figure()\n",
    "res_B3.plot(kind='bar', layout=\"t\");\n",
    "plt.legend(loc=9, bbox_to_anchor=(0.5, -0.1))"
   ]
  },
  {
   "cell_type": "code",
   "execution_count": 23,
   "metadata": {},
   "outputs": [
    {
     "data": {
      "text/html": [
       "<div>\n",
       "<style scoped>\n",
       "    .dataframe tbody tr th:only-of-type {\n",
       "        vertical-align: middle;\n",
       "    }\n",
       "\n",
       "    .dataframe tbody tr th {\n",
       "        vertical-align: top;\n",
       "    }\n",
       "\n",
       "    .dataframe thead th {\n",
       "        text-align: right;\n",
       "    }\n",
       "</style>\n",
       "<table border=\"1\" class=\"dataframe\">\n",
       "  <thead>\n",
       "    <tr style=\"text-align: right;\">\n",
       "      <th></th>\n",
       "      <th>One-Shot Classification</th>\n",
       "      <th>Two-Step Detection</th>\n",
       "      <th>Two-Step Classification</th>\n",
       "    </tr>\n",
       "  </thead>\n",
       "  <tbody>\n",
       "    <tr>\n",
       "      <th>S1</th>\n",
       "      <td>0.8900</td>\n",
       "      <td>0.9222</td>\n",
       "      <td>0.7941</td>\n",
       "    </tr>\n",
       "    <tr>\n",
       "      <th>S2</th>\n",
       "      <td>0.8105</td>\n",
       "      <td>0.8586</td>\n",
       "      <td>0.3490</td>\n",
       "    </tr>\n",
       "    <tr>\n",
       "      <th>S3</th>\n",
       "      <td>0.8758</td>\n",
       "      <td>0.8919</td>\n",
       "      <td>0.7559</td>\n",
       "    </tr>\n",
       "    <tr>\n",
       "      <th>S4</th>\n",
       "      <td>0.8407</td>\n",
       "      <td>0.8854</td>\n",
       "      <td>0.6564</td>\n",
       "    </tr>\n",
       "    <tr>\n",
       "      <th>S2+S3</th>\n",
       "      <td>0.8329</td>\n",
       "      <td>0.8759</td>\n",
       "      <td>0.6042</td>\n",
       "    </tr>\n",
       "  </tbody>\n",
       "</table>\n",
       "</div>"
      ],
      "text/plain": [
       "       One-Shot Classification  Two-Step Detection  Two-Step Classification\n",
       "S1                      0.8900              0.9222                   0.7941\n",
       "S2                      0.8105              0.8586                   0.3490\n",
       "S3                      0.8758              0.8919                   0.7559\n",
       "S4                      0.8407              0.8854                   0.6564\n",
       "S2+S3                   0.8329              0.8759                   0.6042"
      ]
     },
     "execution_count": 23,
     "metadata": {},
     "output_type": "execute_result"
    }
   ],
   "source": [
    "res_B4 = pd.DataFrame(results[:,:,1].T,\n",
    "                      index=[\"S1\", \"S2\", \"S3\", \"S4\", \"S2+S3\"],\n",
    "                      columns=[\"One-Shot Classification\", \"Two-Step Detection\", \"Two-Step Classification\"])\n",
    "res_B4"
   ]
  },
  {
   "cell_type": "code",
   "execution_count": 24,
   "metadata": {},
   "outputs": [
    {
     "data": {
      "text/plain": [
       "<matplotlib.legend.Legend at 0x2b4b4280438>"
      ]
     },
     "execution_count": 24,
     "metadata": {},
     "output_type": "execute_result"
    },
    {
     "data": {
      "text/plain": [
       "<Figure size 432x288 with 0 Axes>"
      ]
     },
     "metadata": {},
     "output_type": "display_data"
    },
    {
     "data": {
      "image/png": "[encoded data removed]",
      "text/plain": [
       "<Figure size 432x288 with 1 Axes>"
      ]
     },
     "metadata": {},
     "output_type": "display_data"
    }
   ],
   "source": [
    "plt.figure()\n",
    "res_B4.plot(kind='bar', layout=\"t\");\n",
    "plt.legend(loc=9, bbox_to_anchor=(0.5, -0.1))"
   ]
  },
  {
   "cell_type": "markdown",
   "metadata": {},
   "source": [
    "# End"
   ]
  }
 ],
 "metadata": {
  "kernelspec": {
   "display_name": "Python 3",
   "language": "python",
   "name": "python3"
  },
  "language_info": {
   "codemirror_mode": {
    "name": "ipython",
    "version": 3
   },
   "file_extension": ".py",
   "mimetype": "text/x-python",
   "name": "python",
   "nbconvert_exporter": "python",
   "pygments_lexer": "ipython3",
   "version": "3.6.4"
  }
 },
 "nbformat": 4,
 "nbformat_minor": 2
}
