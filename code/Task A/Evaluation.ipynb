{
 "cells": [
  {
   "cell_type": "markdown",
   "metadata": {},
   "source": [
    "# Evaluation notebook\n",
    "This notebook is meant to be executed after 'main.py' and 'main_multiuser.py', since it uses the results stored by those programs for visualisation purposes.\n",
    "The first cell contains the parameters to be tuned for a correct execution. Here's a quick explanation:\n",
    "- datapath: string, containing the folder where results have been stored by 'main.py' and 'main_multiuser.py'. Note that results are saved as .txt files;\n",
    "- subjects: list of integers, containing the different configurations of subjects on which models have been tested;\n",
    "- model_names: list of strings, containing the names of models that have been deployed."
   ]
  },
  {
   "cell_type": "code",
   "execution_count": null,
   "metadata": {},
   "outputs": [],
   "source": [
    "datapath = \"./data/results/\"\n",
    "subjects = [1,2,3,4,23]\n",
    "model_names = [\"Convolutional\", \"Convolutional1DRecurrent\"]"
   ]
  },
  {
   "cell_type": "markdown",
   "metadata": {},
   "source": [
    "Import useful packeges."
   ]
  },
  {
   "cell_type": "code",
   "execution_count": null,
   "metadata": {},
   "outputs": [],
   "source": [
    "import numpy as np\n",
    "import pandas as pd\n",
    "import matplotlib.pyplot as plt"
   ]
  },
  {
   "cell_type": "markdown",
   "metadata": {},
   "source": [
    "# Task A"
   ]
  },
  {
   "cell_type": "code",
   "execution_count": null,
   "metadata": {},
   "outputs": [],
   "source": [
    "task = \"A\"\n",
    "results = np.zeros([3,len(subjects),len(model_names)])\n",
    "print(\"Results matrix has shape\", results.shape)\n",
    "for model in enumerate(model_names):\n",
    "    for s in enumerate(subjects):\n",
    "        filename = task + \"_\" + model[1] + \"_\" + str(s[1]) + \".txt\"\n",
    "        print(\"Loading\", filename)\n",
    "        results[:,s[0], model[0]] = np.loadtxt(datapath + filename, comments=\"#\", delimiter=\"\\n\", unpack=False)"
   ]
  },
  {
   "cell_type": "markdown",
   "metadata": {},
   "source": [
    "## Results for classification with null class\n",
    "These results consist of the ones of One-Shot classification, which are stored on the top matrix."
   ]
  },
  {
   "cell_type": "code",
   "execution_count": null,
   "metadata": {},
   "outputs": [],
   "source": [
    "res_A1 = pd.DataFrame(results[0,:,:], index=[\"S1\", \"S2\", \"S3\", \"S4\", \"S2+S3\"], columns=model_names)\n",
    "res_A1"
   ]
  },
  {
   "cell_type": "code",
   "execution_count": null,
   "metadata": {},
   "outputs": [],
   "source": [
    "plt.figure()\n",
    "res_A1.plot(kind='bar', layout=\"t\", logy=False);\n",
    "plt.legend(loc=9, bbox_to_anchor=(0.5, -0.1))"
   ]
  },
  {
   "cell_type": "markdown",
   "metadata": {},
   "source": [
    "## Results for classification without null class\n",
    "These results consist of the ones of Two-Steps classification, which are stored on the bottom matrix."
   ]
  },
  {
   "cell_type": "code",
   "execution_count": null,
   "metadata": {},
   "outputs": [],
   "source": [
    "res_A2 = pd.DataFrame(results[2,:,:], index=[\"S1\", \"S2\", \"S3\", \"S4\", \"S2+S3\"], columns=model_names)"
   ]
  },
  {
   "cell_type": "code",
   "execution_count": null,
   "metadata": {},
   "outputs": [],
   "source": [
    "plt.figure()\n",
    "res_A2.plot(kind='bar', layout=\"t\", logy=False);\n",
    "plt.legend(loc=9, bbox_to_anchor=(0.5, -0.1))"
   ]
  },
  {
   "cell_type": "markdown",
   "metadata": {},
   "source": [
    "## Comparison between classifications with and without null class"
   ]
  },
  {
   "cell_type": "code",
   "execution_count": null,
   "metadata": {},
   "outputs": [],
   "source": [
    "df = pd.concat([res_A1, res_A2], axis=1, keys=[\"null class\", \"no null class\"])\n",
    "df"
   ]
  },
  {
   "cell_type": "code",
   "execution_count": null,
   "metadata": {},
   "outputs": [],
   "source": [
    "plt.figure()\n",
    "df.plot(kind='bar', layout=\"t\", logy=False);\n",
    "plt.legend(loc=9, bbox_to_anchor=(0.5, -0.1))"
   ]
  },
  {
   "cell_type": "code",
   "execution_count": null,
   "metadata": {},
   "outputs": [],
   "source": [
    "res_A3 = pd.DataFrame(results[:,:,0].T,\n",
    "                      index=[\"S1\", \"S2\", \"S3\", \"S4\", \"S2+S3\"],\n",
    "                      columns=[\"One-Shot Classification\", \"Two-Step Detection\", \"Two-Step Classification\"])\n",
    "res_A3"
   ]
  },
  {
   "cell_type": "code",
   "execution_count": null,
   "metadata": {},
   "outputs": [],
   "source": [
    "plt.figure()\n",
    "res_A3.plot(kind='bar', layout=\"t\");\n",
    "plt.legend(loc=9, bbox_to_anchor=(0.5, -0.1))"
   ]
  },
  {
   "cell_type": "code",
   "execution_count": null,
   "metadata": {},
   "outputs": [],
   "source": [
    "res_A4 = pd.DataFrame(results[:,:,1].T,\n",
    "                      index=[\"S1\", \"S2\", \"S3\", \"S4\", \"S2+S3\"],\n",
    "                      columns=[\"One-Shot Classification\", \"Two-Step Detection\", \"Two-Step Classification\"])\n",
    "res_A4"
   ]
  },
  {
   "cell_type": "code",
   "execution_count": null,
   "metadata": {},
   "outputs": [],
   "source": [
    "plt.figure()\n",
    "res_A4.plot(kind='bar', layout=\"t\");\n",
    "plt.legend(loc=9, bbox_to_anchor=(0.5, -0.1))"
   ]
  },
  {
   "cell_type": "markdown",
   "metadata": {},
   "source": [
    "# Task B"
   ]
  },
  {
   "cell_type": "code",
   "execution_count": null,
   "metadata": {},
   "outputs": [],
   "source": [
    "task = \"B\"\n",
    "results = zeros([3,len(subjects),len(model_names)])\n",
    "print(\"Results matrix has shape\", results.shape)\n",
    "for model in enumerate(model_names):\n",
    "    for s in enumerate(subjects):\n",
    "        filename = task + \"_\" + model[1] + \"_\" + str(s[1]) + \".txt\"\n",
    "        print(\"Loading\", filename)\n",
    "        results[:,s[0], model[0]] = np.loadtxt(datapath + filename, comments=\"#\", delimiter=\"\\n\", unpack=False)"
   ]
  },
  {
   "cell_type": "markdown",
   "metadata": {},
   "source": [
    "## Results for classification with null class\n",
    "These results consist of the ones of One-Shot classification, which are stored on the top matrix."
   ]
  },
  {
   "cell_type": "code",
   "execution_count": null,
   "metadata": {},
   "outputs": [],
   "source": [
    "res_B1 = pd.DataFrame(results[0,:,:], index=[\"S1\", \"S2\", \"S3\", \"S4\", \"S2+S3\"], columns=model_names)\n",
    "res_B1"
   ]
  },
  {
   "cell_type": "code",
   "execution_count": null,
   "metadata": {},
   "outputs": [],
   "source": [
    "plt.figure()\n",
    "res_B1.plot(kind='bar', layout=\"t\", logy=False);\n",
    "plt.legend(loc=9, bbox_to_anchor=(0.5, -0.1))"
   ]
  },
  {
   "cell_type": "markdown",
   "metadata": {},
   "source": [
    "## Results for classification without null class\n",
    "These results consist of the ones of Two-Steps classification, which are stored on the bottom matrix."
   ]
  },
  {
   "cell_type": "code",
   "execution_count": null,
   "metadata": {},
   "outputs": [],
   "source": [
    "res_B2 = pd.DataFrame(results[2,:,:], index=[\"S1\", \"S2\", \"S3\", \"S4\", \"S2+S3\"], columns=model_names)\n",
    "res_B2"
   ]
  },
  {
   "cell_type": "code",
   "execution_count": null,
   "metadata": {},
   "outputs": [],
   "source": [
    "plt.figure()\n",
    "res_B2.plot(kind='bar', layout=\"t\", logy=False);\n",
    "plt.legend(loc=9, bbox_to_anchor=(0.5, -0.1))"
   ]
  },
  {
   "cell_type": "markdown",
   "metadata": {},
   "source": [
    "## Comparison between classifications with and without null class"
   ]
  },
  {
   "cell_type": "code",
   "execution_count": null,
   "metadata": {},
   "outputs": [],
   "source": [
    "df = pd.concat([res_A1, res_A2], axis=1, keys=[\"null class\", \"no null class\"])\n",
    "df"
   ]
  },
  {
   "cell_type": "code",
   "execution_count": null,
   "metadata": {},
   "outputs": [],
   "source": [
    "plt.figure()\n",
    "df.plot(kind='bar', layout=\"t\", logy=False);\n",
    "plt.legend(loc=9, bbox_to_anchor=(0.5, -0.1))"
   ]
  },
  {
   "cell_type": "code",
   "execution_count": null,
   "metadata": {},
   "outputs": [],
   "source": [
    "res_B3 = pd.DataFrame(results[:,:,0].T,\n",
    "                      index=[\"S1\", \"S2\", \"S3\", \"S4\", \"S2+S3\"],\n",
    "                      columns=[\"One-Shot Classification\", \"Two-Step Detection\", \"Two-Step Classification\"])\n",
    "res_B3"
   ]
  },
  {
   "cell_type": "code",
   "execution_count": null,
   "metadata": {},
   "outputs": [],
   "source": [
    "plt.figure()\n",
    "res_B3.plot(kind='bar', layout=\"t\");\n",
    "plt.legend(loc=9, bbox_to_anchor=(0.5, -0.1))"
   ]
  },
  {
   "cell_type": "code",
   "execution_count": null,
   "metadata": {},
   "outputs": [],
   "source": [
    "res_B4 = pd.DataFrame(results[:,:,1].T,\n",
    "                      index=[\"S1\", \"S2\", \"S3\", \"S4\", \"S2+S3\"],\n",
    "                      columns=[\"One-Shot Classification\", \"Two-Step Detection\", \"Two-Step Classification\"])\n",
    "res_B4"
   ]
  },
  {
   "cell_type": "code",
   "execution_count": null,
   "metadata": {},
   "outputs": [],
   "source": [
    "plt.figure()\n",
    "res_4B.plot(kind='bar', layout=\"t\");\n",
    "plt.legend(loc=9, bbox_to_anchor=(0.5, -0.1))"
   ]
  }
 ],
 "metadata": {
  "kernelspec": {
   "display_name": "Python 3",
   "language": "python",
   "name": "python3"
  },
  "language_info": {
   "codemirror_mode": {
    "name": "ipython",
    "version": 3
   },
   "file_extension": ".py",
   "mimetype": "text/x-python",
   "name": "python",
   "nbconvert_exporter": "python",
   "pygments_lexer": "ipython3",
   "version": "3.6.4"
  }
 },
 "nbformat": 4,
 "nbformat_minor": 2
}
