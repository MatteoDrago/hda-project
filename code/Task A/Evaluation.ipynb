{
 "cells": [
  {
   "cell_type": "markdown",
   "metadata": {},
   "source": [
    "# Evaluation notebook\n",
    "This notebook is meant to be executed after 'main.py'. The results obtained are here reported and displayed.\n",
    "\n",
    "The first cell contains the parameters to be tuned for a correct execution."
   ]
  },
  {
   "cell_type": "code",
   "execution_count": 1,
   "metadata": {},
   "outputs": [],
   "source": [
    "datapath = \"./data/results/\"\n",
    "subjects = [1,2,23]\n",
    "model_names = [\"Convolutional\", \"Convolutional1DRecurrent\"]"
   ]
  },
  {
   "cell_type": "code",
   "execution_count": 2,
   "metadata": {},
   "outputs": [],
   "source": [
    "from numpy import loadtxt, zeros"
   ]
  },
  {
   "cell_type": "markdown",
   "metadata": {},
   "source": [
    "## Task A"
   ]
  },
  {
   "cell_type": "code",
   "execution_count": 3,
   "metadata": {},
   "outputs": [
    {
     "name": "stdout",
     "output_type": "stream",
     "text": [
      "(3, 2, 2)\n"
     ]
    }
   ],
   "source": [
    "task = \"A\"\n",
    "results = zeros([3,len(subjects),len(model_names)])\n",
    "print(results.shape)"
   ]
  },
  {
   "cell_type": "code",
   "execution_count": 4,
   "metadata": {},
   "outputs": [
    {
     "name": "stdout",
     "output_type": "stream",
     "text": [
      "Loading A_Convolutional_1.txt\n",
      "Loading A_Convolutional_2.txt\n",
      "Loading A_Convolutional1DRecurrent_1.txt\n",
      "Loading A_Convolutional1DRecurrent_2.txt\n"
     ]
    }
   ],
   "source": [
    "for model in enumerate(model_names):\n",
    "    for s in enumerate(subjects):\n",
    "        filename = task + \"_\" + model[1] + \"_\" + str(s[1]) + \".txt\"\n",
    "        print(\"Loading\", filename)\n",
    "        results[:,s[0], model[0]] = loadtxt(datapath + filename, comments=\"#\", delimiter=\"\\n\", unpack=False)"
   ]
  },
  {
   "cell_type": "code",
   "execution_count": 5,
   "metadata": {},
   "outputs": [
    {
     "data": {
      "text/plain": [
       "array([[[0.9009, 0.8943],\n",
       "        [0.8277, 0.7461]],\n",
       "\n",
       "       [[0.949 , 0.9603],\n",
       "        [0.9506, 0.9432]],\n",
       "\n",
       "       [[0.9445, 0.9338],\n",
       "        [0.7799, 0.779 ]]])"
      ]
     },
     "execution_count": 5,
     "metadata": {},
     "output_type": "execute_result"
    }
   ],
   "source": [
    "results"
   ]
  },
  {
   "cell_type": "markdown",
   "metadata": {},
   "source": [
    "### Results for classification with null class\n",
    "These results consist of the ones of One-Shot classification, which are stored on the top matrix."
   ]
  },
  {
   "cell_type": "code",
   "execution_count": 6,
   "metadata": {},
   "outputs": [
    {
     "data": {
      "text/plain": [
       "array([[0.9009, 0.8943],\n",
       "       [0.8277, 0.7461]])"
      ]
     },
     "execution_count": 6,
     "metadata": {},
     "output_type": "execute_result"
    }
   ],
   "source": [
    "results[0,:,:]"
   ]
  },
  {
   "cell_type": "markdown",
   "metadata": {},
   "source": [
    "### Results for classification without null class\n",
    "These results consist of the ones of Two-Steps classification, which are stored on the bottom matrix."
   ]
  },
  {
   "cell_type": "code",
   "execution_count": 7,
   "metadata": {},
   "outputs": [
    {
     "data": {
      "text/plain": [
       "array([[0.9445, 0.9338],\n",
       "       [0.7799, 0.779 ]])"
      ]
     },
     "execution_count": 7,
     "metadata": {},
     "output_type": "execute_result"
    }
   ],
   "source": [
    "results[2,:,:]"
   ]
  },
  {
   "cell_type": "code",
   "execution_count": null,
   "metadata": {},
   "outputs": [],
   "source": []
  }
 ],
 "metadata": {
  "kernelspec": {
   "display_name": "Python 3",
   "language": "python",
   "name": "python3"
  },
  "language_info": {
   "codemirror_mode": {
    "name": "ipython",
    "version": 3
   },
   "file_extension": ".py",
   "mimetype": "text/x-python",
   "name": "python",
   "nbconvert_exporter": "python",
   "pygments_lexer": "ipython3",
   "version": "3.6.4"
  }
 },
 "nbformat": 4,
 "nbformat_minor": 2
}
