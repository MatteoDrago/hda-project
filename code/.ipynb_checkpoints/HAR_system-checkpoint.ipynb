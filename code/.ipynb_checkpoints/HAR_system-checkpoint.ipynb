{
 "cells": [
  {
   "cell_type": "markdown",
   "metadata": {},
   "source": [
    "# HAR system - Lincetto Riccardo, Drago Matteo\n",
    "This notebook runs:\n",
    "- Classification with null class (One Shot classification);\n",
    "- Binary classification for activity detection;\n",
    "- Classification without null class (activity classification);\n",
    "- Cascade of the last two methods.\n",
    "\n",
    "The operations performed here are very similar to those executed in 'main.py', with the exception that here the program is executed for specified user, task and model.\n",
    "\n",
    "## Notebook setup\n",
    "This first cell contains the parameters that can be tuned for code execution:\n",
    "- subject: select the subject on which to test the model, among [1,2,3,4,23]. If 23 is selected, the program will use the data from subjects 2 and 3;\n",
    "- task: choose \"A\" for locomotion classification or \"B\" for gesture recognition;\n",
    "- model_name: choose between \"Convolutional\", \"Convolutional1DRecurrent\", \"Convolutional2DRecurrent\" and \"ConvolutionalDeepRecurrent\";\n",
    "- data_folder: directory name where '.mat' files are stored;\n",
    "- window_size: parameter that sets the length of temporal windows on which to perform the convolution;\n",
    "- stride: step length to chose the next window;\n",
    "- epochs: number of complete sweeps of the data signals during training;\n",
    "- batch_size: number of forward propagations in the networks between consecutives backpropagations;\n",
    "- GPU: boolean flag indicating wheter GPU is present on the machine that executes the code;\n",
    "- print_info: boolean flag to control displayed information."
   ]
  },
  {
   "cell_type": "code",
   "execution_count": 1,
   "metadata": {},
   "outputs": [],
   "source": [
    "subject = 1\n",
    "task = \"A\"\n",
    "model_name = \"ConvolutionalDeepRecurrent\"\n",
    "data_folder = \"./data/full/\"\n",
    "window_size = 15\n",
    "stride = 5\n",
    "epochs = 15\n",
    "batch_size = 128\n",
    "GPU = True\n",
    "balance_classes = False\n",
    "print_info = False"
   ]
  },
  {
   "cell_type": "markdown",
   "metadata": {},
   "source": [
    "Here the useful functions are imported."
   ]
  },
  {
   "cell_type": "code",
   "execution_count": 2,
   "metadata": {},
   "outputs": [
    {
     "name": "stderr",
     "output_type": "stream",
     "text": [
      "C:\\Users\\Riccardo\\Anaconda3\\lib\\site-packages\\h5py\\__init__.py:36: FutureWarning: Conversion of the second argument of issubdtype from `float` to `np.floating` is deprecated. In future, it will be treated as `np.float64 == np.dtype(float).type`.\n",
      "  from ._conv import register_converters as _register_converters\n",
      "Using TensorFlow backend.\n"
     ]
    }
   ],
   "source": [
    "import launch\n",
    "import preprocessing\n",
    "#import models\n",
    "import utils\n",
    "import os\n",
    "import numpy as np\n",
    "from sklearn.metrics import classification_report, f1_score, confusion_matrix\n",
    "from keras.models import load_model\n",
    "from keras.optimizers import Adam\n",
    "from keras.callbacks import ModelCheckpoint, ReduceLROnPlateau\n",
    "from keras.utils import to_categorical\n",
    "import seaborn as sns\n",
    "import matplotlib.pyplot as plt"
   ]
  },
  {
   "cell_type": "markdown",
   "metadata": {},
   "source": [
    "Differently from 'main.py', all results saved from this notebook are going to be stored in a dedicated folder: './data/notebook/'. For proper execution, this folder needs first to be created."
   ]
  },
  {
   "cell_type": "code",
   "execution_count": 3,
   "metadata": {},
   "outputs": [],
   "source": [
    "if not(os.path.exists(\"./data\")):\n",
    "    os.mkdir(\"./data\")\n",
    "if not(os.path.exists(\"./data/notebook\")):\n",
    "    os.mkdir(\"./data/notebook\")"
   ]
  },
  {
   "cell_type": "markdown",
   "metadata": {},
   "source": [
    "If task A is selected, calssifications in the following notebook are based on the labels of column 0; if instead it's task B, column 6 labels are used."
   ]
  },
  {
   "cell_type": "code",
   "execution_count": 4,
   "metadata": {},
   "outputs": [
    {
     "name": "stdout",
     "output_type": "stream",
     "text": [
      "Task A uses labels column 0\n"
     ]
    }
   ],
   "source": [
    "if task == \"A\":\n",
    "    label = 0\n",
    "    classes = [\"Inactive\",\"Stand\",\"Walk\",\"Sit\",\"Lie\"]\n",
    "elif task == \"B\":\n",
    "    label = 6\n",
    "    classes = [\"Close Dishwasher\",\"Close Drawer 3\",\"Close Drawer 2\",\"Inactive\",\"Close Door 1\",\"Close Door 2\",\"Close Drawer 1\",\"Close Fridge\",\"Toggle Switch\",\"Open Dishwasher\",\"Open Drawer 3\",\"Open Drawer 2\",\"Open Door 1\",\"Open Door 2\",\"Open Drawer 1\",\"Open Fridge\",\"Drink from Cup\",\"Clean Table\"]\n",
    "else:\n",
    "    print(\"Error: invalid task.\")\n",
    "print(\"Task\", task, \"uses labels column\", label)"
   ]
  },
  {
   "cell_type": "markdown",
   "metadata": {},
   "source": [
    "## Classification with null class: One Shot classification\n",
    "Here classification is performed considering inactivity as a class, alongside with the others. In the case of locomotion classification (task A), this becomes a 5-class problem, while in the case of gesture recognition (task B) the classes become 18. In the following cell are perfomed in order:\n",
    "- preprocessing;\n",
    "- model selection;\n",
    "- model compilation;\n",
    "- training.\n",
    "\n",
    "Note that in case \"Convolutional2DRecurrent\" is the model selected, then the preprocessed data needs to be reshaped, adding one dimension; this is automatically done by the code inside 'launch.py'."
   ]
  },
  {
   "cell_type": "code",
   "execution_count": 5,
   "metadata": {},
   "outputs": [
    {
     "name": "stdout",
     "output_type": "stream",
     "text": [
      "\n",
      "Session shapes:\n",
      "ADL1:   (45810, 110)\n",
      "ADL2:   (28996, 110)\n",
      "ADL3:   (30167, 110)\n",
      "ADL4:   (30228, 110)\n",
      "ADL5:   (27308, 110)\n",
      "Drill:  (52152, 110)\n",
      "\n",
      "Features: 110 \n",
      "Classes: 5 \n",
      "Fraction of labels:   [0.11055948 0.41891032 0.27499841 0.17124944 0.02428235]\n",
      "\n",
      "Features: 110 \n",
      "Classes: 5 \n",
      "Fraction of labels:   [0.1772427  0.34405424 0.2027121  0.23756954 0.03842142]\n",
      "_________________________________________________________________\n",
      "Layer (type)                 Output Shape              Param #   \n",
      "=================================================================\n",
      "batch_normalization_1 (Batch (None, 15, 110)           440       \n",
      "_________________________________________________________________\n",
      "conv1d_1 (Conv1D)            (None, 15, 18)            9918      \n",
      "_________________________________________________________________\n",
      "leaky_re_lu_1 (LeakyReLU)    (None, 15, 18)            0         \n",
      "_________________________________________________________________\n",
      "max_pooling1d_1 (MaxPooling1 (None, 8, 18)             0         \n",
      "_________________________________________________________________\n",
      "batch_normalization_2 (Batch (None, 8, 18)             72        \n",
      "_________________________________________________________________\n",
      "conv1d_2 (Conv1D)            (None, 8, 36)             4572      \n",
      "_________________________________________________________________\n",
      "leaky_re_lu_2 (LeakyReLU)    (None, 8, 36)             0         \n",
      "_________________________________________________________________\n",
      "max_pooling1d_2 (MaxPooling1 (None, 4, 36)             0         \n",
      "_________________________________________________________________\n",
      "dropout_1 (Dropout)          (None, 4, 36)             0         \n",
      "_________________________________________________________________\n",
      "batch_normalization_3 (Batch (None, 4, 36)             144       \n",
      "_________________________________________________________________\n",
      "conv1d_3 (Conv1D)            (None, 4, 72)             18216     \n",
      "_________________________________________________________________\n",
      "leaky_re_lu_3 (LeakyReLU)    (None, 4, 72)             0         \n",
      "_________________________________________________________________\n",
      "max_pooling1d_3 (MaxPooling1 (None, 2, 72)             0         \n",
      "_________________________________________________________________\n",
      "cu_dnnlstm_1 (CuDNNLSTM)     (None, 2, 60)             32160     \n",
      "_________________________________________________________________\n",
      "cu_dnnlstm_2 (CuDNNLSTM)     (None, 60)                29280     \n",
      "_________________________________________________________________\n",
      "dense_1 (Dense)              (None, 512)               31232     \n",
      "_________________________________________________________________\n",
      "leaky_re_lu_4 (LeakyReLU)    (None, 512)               0         \n",
      "_________________________________________________________________\n",
      "dense_2 (Dense)              (None, 5)                 2565      \n",
      "=================================================================\n",
      "Total params: 128,599\n",
      "Trainable params: 128,271\n",
      "Non-trainable params: 328\n",
      "_________________________________________________________________\n",
      "Model: A_ConvolutionalDeepRecurrent_OS_1 \n",
      "Location: ./data/models/A_ConvolutionalDeepRecurrent_OS_1.hdf5 \n",
      "\n",
      "Train on 31422 samples, validate on 11504 samples\n",
      "Epoch 1/15\n",
      "31422/31422 [==============================] - 8s 267us/step - loss: 0.4704 - acc: 0.8199 - val_loss: 0.3478 - val_acc: 0.8873\n",
      "\n",
      "Epoch 00001: val_loss improved from inf to 0.34784, saving model to ./data/models/A_ConvolutionalDeepRecurrent_OS_1.hdf5\n",
      "Epoch 2/15\n",
      "31422/31422 [==============================] - 4s 139us/step - loss: 0.3119 - acc: 0.8769 - val_loss: 0.3335 - val_acc: 0.8928\n",
      "\n",
      "Epoch 00002: val_loss improved from 0.34784 to 0.33347, saving model to ./data/models/A_ConvolutionalDeepRecurrent_OS_1.hdf5\n",
      "Epoch 3/15\n",
      "31422/31422 [==============================] - 4s 134us/step - loss: 0.2764 - acc: 0.8913 - val_loss: 0.3238 - val_acc: 0.9025\n",
      "\n",
      "Epoch 00003: val_loss improved from 0.33347 to 0.32375, saving model to ./data/models/A_ConvolutionalDeepRecurrent_OS_1.hdf5\n",
      "Epoch 4/15\n",
      "31422/31422 [==============================] - 4s 134us/step - loss: 0.2533 - acc: 0.9017 - val_loss: 0.3279 - val_acc: 0.9005\n",
      "\n",
      "Epoch 00004: val_loss did not improve\n",
      "Epoch 5/15\n",
      "31422/31422 [==============================] - 4s 136us/step - loss: 0.2384 - acc: 0.9065 - val_loss: 0.3754 - val_acc: 0.8889\n",
      "\n",
      "Epoch 00005: val_loss did not improve\n",
      "Epoch 6/15\n",
      "31422/31422 [==============================] - 4s 139us/step - loss: 0.2253 - acc: 0.9129 - val_loss: 0.3660 - val_acc: 0.8995\n",
      "\n",
      "Epoch 00006: val_loss did not improve\n",
      "Epoch 7/15\n",
      "31422/31422 [==============================] - 4s 135us/step - loss: 0.2166 - acc: 0.9160 - val_loss: 0.3196 - val_acc: 0.9017\n",
      "\n",
      "Epoch 00007: val_loss improved from 0.32375 to 0.31964, saving model to ./data/models/A_ConvolutionalDeepRecurrent_OS_1.hdf5\n",
      "Epoch 8/15\n",
      "31422/31422 [==============================] - 4s 134us/step - loss: 0.2050 - acc: 0.9191 - val_loss: 0.3491 - val_acc: 0.8977\n",
      "\n",
      "Epoch 00008: val_loss did not improve\n",
      "Epoch 9/15\n",
      "31422/31422 [==============================] - 4s 141us/step - loss: 0.1983 - acc: 0.9214 - val_loss: 0.3241 - val_acc: 0.9004\n",
      "\n",
      "Epoch 00009: val_loss did not improve\n",
      "Epoch 10/15\n",
      "31422/31422 [==============================] - 4s 140us/step - loss: 0.1914 - acc: 0.9257 - val_loss: 0.3750 - val_acc: 0.8986\n",
      "\n",
      "Epoch 00010: val_loss did not improve\n",
      "Epoch 11/15\n",
      "31422/31422 [==============================] - 4s 137us/step - loss: 0.1826 - acc: 0.9279 - val_loss: 0.3955 - val_acc: 0.8893\n",
      "\n",
      "Epoch 00011: val_loss did not improve\n",
      "Epoch 12/15\n",
      "31422/31422 [==============================] - 4s 135us/step - loss: 0.1794 - acc: 0.9287 - val_loss: 0.4081 - val_acc: 0.8980\n",
      "\n",
      "Epoch 00012: val_loss did not improve\n",
      "Epoch 13/15\n",
      "31422/31422 [==============================] - 4s 140us/step - loss: 0.1753 - acc: 0.9311 - val_loss: 0.4220 - val_acc: 0.8947\n",
      "\n",
      "Epoch 00013: val_loss did not improve\n",
      "\n",
      "Epoch 00013: ReduceLROnPlateau reducing learning rate to 0.00010000000474974513.\n",
      "Epoch 14/15\n",
      "31422/31422 [==============================] - 4s 136us/step - loss: 0.1509 - acc: 0.9391 - val_loss: 0.3990 - val_acc: 0.8990\n",
      "\n",
      "Epoch 00014: val_loss did not improve\n",
      "Epoch 15/15\n",
      "31422/31422 [==============================] - 4s 136us/step - loss: 0.1425 - acc: 0.9447 - val_loss: 0.4094 - val_acc: 0.9013\n",
      "\n",
      "Epoch 00015: val_loss did not improve\n"
     ]
    }
   ],
   "source": [
    "model, X_test, Y_test, filepath, save_model_name = launch.oneshot_classification(subject,\n",
    "                                                                                 task,\n",
    "                                                                                 model_name,\n",
    "                                                                                 data_folder,\n",
    "                                                                                 window_size=window_size,\n",
    "                                                                                 stride=stride,\n",
    "                                                                                 epochs=epochs,\n",
    "                                                                                 batch_size=batch_size,\n",
    "                                                                                 balcance_classes=balance_classes,\n",
    "                                                                                 GPU=GPU,\n",
    "                                                                                 print_info=print_info)"
   ]
  },
  {
   "cell_type": "markdown",
   "metadata": {},
   "source": [
    "### Results"
   ]
  },
  {
   "cell_type": "code",
   "execution_count": 6,
   "metadata": {},
   "outputs": [
    {
     "name": "stdout",
     "output_type": "stream",
     "text": [
      "\n",
      "Results for last A_ConvolutionalDeepRecurrent_OS_1:\n",
      "              precision    recall  f1-score   support\n",
      "\n",
      "          0       0.95      0.77      0.85      2039\n",
      "          1       0.89      0.94      0.92      3958\n",
      "          2       0.80      0.84      0.82      2332\n",
      "          3       0.99      0.99      0.99      2733\n",
      "          4       0.87      0.85      0.86       442\n",
      "\n",
      "avg / total       0.90      0.90      0.90     11504\n",
      "\n"
     ]
    },
    {
     "data": {
      "image/png": "[encoded data removed]",
      "text/plain": [
       "<Figure size 432x288 with 2 Axes>"
      ]
     },
     "metadata": {},
     "output_type": "display_data"
    }
   ],
   "source": [
    "Y_pred_os, score_os = launch.evaluation(model, X_test, Y_test, filepath, save_model_name)\n",
    "# save for future use\n",
    "Y_true = Y_test\n",
    "# confusion matrix\n",
    "cnf_matrix = confusion_matrix(Y_test, Y_pred_os)\n",
    "np.set_printoptions(precision=2)\n",
    "sns.set_style(\"dark\")\n",
    "plt.figure()\n",
    "utils.plot_confusion_matrix(cnf_matrix, classes=classes, title='Confusion matrix, without normalization')"
   ]
  },
  {
   "cell_type": "markdown",
   "metadata": {},
   "source": [
    "## Binary classification for activity detection\n",
    "Here all the \"activity\" classes are labelled with 1, while the inactivity class remains labelled with 0. As before, in the following cell are perfomed in order:\n",
    "- preprocessing;\n",
    "- model selection;\n",
    "- model compilation;\n",
    "- training."
   ]
  },
  {
   "cell_type": "code",
   "execution_count": 7,
   "metadata": {},
   "outputs": [
    {
     "name": "stdout",
     "output_type": "stream",
     "text": [
      "\n",
      "Session shapes:\n",
      "ADL1:   (45810, 110)\n",
      "ADL2:   (28996, 110)\n",
      "ADL3:   (30167, 110)\n",
      "ADL4:   (30228, 110)\n",
      "ADL5:   (27308, 110)\n",
      "Drill:  (52152, 110)\n",
      "\n",
      "Features: 110 \n",
      "Classes: 2 \n",
      "Fraction of labels:   [0.11 0.89]\n",
      "\n",
      "Features: 110 \n",
      "Classes: 2 \n",
      "Fraction of labels:   [0.18 0.82]\n",
      "_________________________________________________________________\n",
      "Layer (type)                 Output Shape              Param #   \n",
      "=================================================================\n",
      "batch_normalization_4 (Batch (None, 15, 110)           440       \n",
      "_________________________________________________________________\n",
      "conv1d_4 (Conv1D)            (None, 15, 18)            9918      \n",
      "_________________________________________________________________\n",
      "leaky_re_lu_5 (LeakyReLU)    (None, 15, 18)            0         \n",
      "_________________________________________________________________\n",
      "max_pooling1d_4 (MaxPooling1 (None, 8, 18)             0         \n",
      "_________________________________________________________________\n",
      "batch_normalization_5 (Batch (None, 8, 18)             72        \n",
      "_________________________________________________________________\n",
      "conv1d_5 (Conv1D)            (None, 8, 36)             4572      \n",
      "_________________________________________________________________\n",
      "leaky_re_lu_6 (LeakyReLU)    (None, 8, 36)             0         \n",
      "_________________________________________________________________\n",
      "max_pooling1d_5 (MaxPooling1 (None, 4, 36)             0         \n",
      "_________________________________________________________________\n",
      "dropout_2 (Dropout)          (None, 4, 36)             0         \n",
      "_________________________________________________________________\n",
      "batch_normalization_6 (Batch (None, 4, 36)             144       \n",
      "_________________________________________________________________\n",
      "conv1d_6 (Conv1D)            (None, 4, 72)             18216     \n",
      "_________________________________________________________________\n",
      "leaky_re_lu_7 (LeakyReLU)    (None, 4, 72)             0         \n",
      "_________________________________________________________________\n",
      "max_pooling1d_6 (MaxPooling1 (None, 2, 72)             0         \n",
      "_________________________________________________________________\n",
      "cu_dnnlstm_3 (CuDNNLSTM)     (None, 2, 60)             32160     \n",
      "_________________________________________________________________\n",
      "cu_dnnlstm_4 (CuDNNLSTM)     (None, 60)                29280     \n",
      "_________________________________________________________________\n",
      "dense_3 (Dense)              (None, 512)               31232     \n",
      "_________________________________________________________________\n",
      "leaky_re_lu_8 (LeakyReLU)    (None, 512)               0         \n",
      "_________________________________________________________________\n",
      "dense_4 (Dense)              (None, 2)                 1026      \n",
      "=================================================================\n",
      "Total params: 127,060\n",
      "Trainable params: 126,732\n",
      "Non-trainable params: 328\n",
      "_________________________________________________________________\n",
      "Model: A_ConvolutionalDeepRecurrent_TSD_1 \n",
      "Location: ./data/models/A_ConvolutionalDeepRecurrent_TSD_1.hdf5 \n",
      "\n",
      "Train on 31422 samples, validate on 11504 samples\n",
      "Epoch 1/15\n",
      "31422/31422 [==============================] - 6s 201us/step - loss: 0.1290 - acc: 0.9578 - val_loss: 0.1732 - val_acc: 0.9511\n",
      "\n",
      "Epoch 00001: val_loss improved from inf to 0.17316, saving model to ./data/models/A_ConvolutionalDeepRecurrent_TSD_1.hdf5\n",
      "Epoch 2/15\n",
      "31422/31422 [==============================] - 4s 136us/step - loss: 0.0737 - acc: 0.9743 - val_loss: 0.2031 - val_acc: 0.9464\n",
      "\n",
      "Epoch 00002: val_loss did not improve\n",
      "Epoch 3/15\n",
      "31422/31422 [==============================] - 4s 139us/step - loss: 0.0572 - acc: 0.9798 - val_loss: 0.1998 - val_acc: 0.9486\n",
      "\n",
      "Epoch 00003: val_loss did not improve\n",
      "Epoch 4/15\n",
      "31422/31422 [==============================] - 4s 141us/step - loss: 0.0518 - acc: 0.9811 - val_loss: 0.2329 - val_acc: 0.9409\n",
      "\n",
      "Epoch 00004: val_loss did not improve\n",
      "Epoch 5/15\n",
      "31422/31422 [==============================] - 4s 142us/step - loss: 0.0457 - acc: 0.9826 - val_loss: 0.1769 - val_acc: 0.9511\n",
      "\n",
      "Epoch 00005: val_loss did not improve\n",
      "Epoch 6/15\n",
      "31422/31422 [==============================] - 4s 136us/step - loss: 0.0407 - acc: 0.9848 - val_loss: 0.1936 - val_acc: 0.9533\n",
      "\n",
      "Epoch 00006: val_loss did not improve\n",
      "Epoch 7/15\n",
      "31422/31422 [==============================] - 4s 135us/step - loss: 0.0373 - acc: 0.9867 - val_loss: 0.2049 - val_acc: 0.9508\n",
      "\n",
      "Epoch 00007: val_loss did not improve\n",
      "\n",
      "Epoch 00007: ReduceLROnPlateau reducing learning rate to 0.00010000000474974513.\n",
      "Epoch 8/15\n",
      "31422/31422 [==============================] - 4s 137us/step - loss: 0.0251 - acc: 0.9908 - val_loss: 0.1937 - val_acc: 0.9535\n",
      "\n",
      "Epoch 00008: val_loss did not improve\n",
      "Epoch 9/15\n",
      "31422/31422 [==============================] - 4s 137us/step - loss: 0.0227 - acc: 0.9918 - val_loss: 0.2051 - val_acc: 0.9534\n",
      "\n",
      "Epoch 00009: val_loss did not improve\n",
      "Epoch 10/15\n",
      "31422/31422 [==============================] - 4s 135us/step - loss: 0.0228 - acc: 0.9919 - val_loss: 0.2115 - val_acc: 0.9531\n",
      "\n",
      "Epoch 00010: val_loss did not improve\n",
      "Epoch 11/15\n",
      "31422/31422 [==============================] - 4s 135us/step - loss: 0.0218 - acc: 0.9920 - val_loss: 0.1948 - val_acc: 0.9540\n",
      "\n",
      "Epoch 00011: val_loss did not improve\n",
      "Epoch 12/15\n",
      "31422/31422 [==============================] - 4s 135us/step - loss: 0.0196 - acc: 0.9929 - val_loss: 0.2051 - val_acc: 0.9546\n",
      "\n",
      "Epoch 00012: val_loss did not improve\n",
      "\n",
      "Epoch 00012: ReduceLROnPlateau reducing learning rate to 1.0000000474974514e-05.\n",
      "Epoch 13/15\n",
      "31422/31422 [==============================] - 4s 136us/step - loss: 0.0170 - acc: 0.9937 - val_loss: 0.2143 - val_acc: 0.9540\n",
      "\n",
      "Epoch 00013: val_loss did not improve\n",
      "Epoch 14/15\n",
      "31422/31422 [==============================] - 4s 134us/step - loss: 0.0189 - acc: 0.9933 - val_loss: 0.2126 - val_acc: 0.9545\n",
      "\n",
      "Epoch 00014: val_loss did not improve\n",
      "Epoch 15/15\n",
      "31422/31422 [==============================] - 4s 135us/step - loss: 0.0184 - acc: 0.9935 - val_loss: 0.2166 - val_acc: 0.9540\n",
      "\n",
      "Epoch 00015: val_loss did not improve\n"
     ]
    }
   ],
   "source": [
    "model, X_test, Y_test, filepath, save_model_name = launch.cascade_detection(subject,\n",
    "                                                                            task,\n",
    "                                                                            model_name,\n",
    "                                                                            data_folder,\n",
    "                                                                            window_size=window_size,\n",
    "                                                                            stride=stride,\n",
    "                                                                            epochs=epochs,\n",
    "                                                                            batch_size=batch_size,\n",
    "                                                                            balcance_classes=balance_classes,\n",
    "                                                                            GPU=GPU,\n",
    "                                                                            print_info=print_info)"
   ]
  },
  {
   "cell_type": "markdown",
   "metadata": {},
   "source": [
    "### Results"
   ]
  },
  {
   "cell_type": "code",
   "execution_count": 8,
   "metadata": {},
   "outputs": [
    {
     "name": "stdout",
     "output_type": "stream",
     "text": [
      "\n",
      "Results for last A_ConvolutionalDeepRecurrent_TSD_1:\n",
      "              precision    recall  f1-score   support\n",
      "\n",
      "          0       0.92      0.81      0.86      2039\n",
      "          1       0.96      0.98      0.97      9465\n",
      "\n",
      "avg / total       0.95      0.95      0.95     11504\n",
      "\n"
     ]
    },
    {
     "data": {
      "image/png": "[encoded data removed]",
      "text/plain": [
       "<Figure size 432x288 with 2 Axes>"
      ]
     },
     "metadata": {},
     "output_type": "display_data"
    }
   ],
   "source": [
    "# results\n",
    "Y_pred_ad, score_ad = launch.evaluation(model, X_test, Y_test, filepath, save_model_name)\n",
    "# confusion matrix\n",
    "cnf_matrix = confusion_matrix(Y_test, Y_pred_ad)\n",
    "np.set_printoptions(precision=2)\n",
    "sns.set_style(\"dark\")\n",
    "plt.figure()\n",
    "utils.plot_confusion_matrix(cnf_matrix, classes=[\"Inactive\",\"Active\"], title='Confusion matrix, without normalization')"
   ]
  },
  {
   "cell_type": "markdown",
   "metadata": {},
   "source": [
    "## Classification without null class: activity classification\n",
    "Here all the \"activity\" classes are kept while the inactivity class is discarded during preprocessing. Again, in the following cell are perfomed in order:\n",
    "- preprocessing;\n",
    "- model selection;\n",
    "- model compilation;\n",
    "- training."
   ]
  },
  {
   "cell_type": "code",
   "execution_count": 9,
   "metadata": {},
   "outputs": [
    {
     "name": "stdout",
     "output_type": "stream",
     "text": [
      "\n",
      "Session shapes:\n",
      "ADL1:   (45810, 110)\n",
      "ADL2:   (28996, 110)\n",
      "ADL3:   (30167, 110)\n",
      "ADL4:   (30228, 110)\n",
      "ADL5:   (27308, 110)\n",
      "Drill:  (52152, 110)\n",
      "\n",
      "Features: 110 \n",
      "Classes: 4 \n",
      "Fraction of labels:   [0.47 0.31 0.19 0.03]\n",
      "\n",
      "Features: 110 \n",
      "Classes: 4 \n",
      "Fraction of labels:   [0.42 0.25 0.29 0.05]\n",
      "_________________________________________________________________\n",
      "Layer (type)                 Output Shape              Param #   \n",
      "=================================================================\n",
      "batch_normalization_7 (Batch (None, 15, 110)           440       \n",
      "_________________________________________________________________\n",
      "conv1d_7 (Conv1D)            (None, 15, 18)            9918      \n",
      "_________________________________________________________________\n",
      "leaky_re_lu_9 (LeakyReLU)    (None, 15, 18)            0         \n",
      "_________________________________________________________________\n",
      "max_pooling1d_7 (MaxPooling1 (None, 8, 18)             0         \n",
      "_________________________________________________________________\n",
      "batch_normalization_8 (Batch (None, 8, 18)             72        \n",
      "_________________________________________________________________\n",
      "conv1d_8 (Conv1D)            (None, 8, 36)             4572      \n",
      "_________________________________________________________________\n",
      "leaky_re_lu_10 (LeakyReLU)   (None, 8, 36)             0         \n",
      "_________________________________________________________________\n",
      "max_pooling1d_8 (MaxPooling1 (None, 4, 36)             0         \n",
      "_________________________________________________________________\n",
      "dropout_3 (Dropout)          (None, 4, 36)             0         \n",
      "_________________________________________________________________\n",
      "batch_normalization_9 (Batch (None, 4, 36)             144       \n",
      "_________________________________________________________________\n",
      "conv1d_9 (Conv1D)            (None, 4, 72)             18216     \n",
      "_________________________________________________________________\n",
      "leaky_re_lu_11 (LeakyReLU)   (None, 4, 72)             0         \n",
      "_________________________________________________________________\n",
      "max_pooling1d_9 (MaxPooling1 (None, 2, 72)             0         \n",
      "_________________________________________________________________\n",
      "cu_dnnlstm_5 (CuDNNLSTM)     (None, 2, 60)             32160     \n",
      "_________________________________________________________________\n",
      "cu_dnnlstm_6 (CuDNNLSTM)     (None, 60)                29280     \n",
      "_________________________________________________________________\n",
      "dense_5 (Dense)              (None, 512)               31232     \n",
      "_________________________________________________________________\n",
      "leaky_re_lu_12 (LeakyReLU)   (None, 512)               0         \n",
      "_________________________________________________________________\n",
      "dense_6 (Dense)              (None, 4)                 2052      \n",
      "=================================================================\n",
      "Total params: 128,086\n",
      "Trainable params: 127,758\n",
      "Non-trainable params: 328\n",
      "_________________________________________________________________\n",
      "Model: A_ConvolutionalDeepRecurrent_TSC_1 \n",
      "Location: ./data/models/A_ConvolutionalDeepRecurrent_TSC_1.hdf5 \n",
      "\n",
      "Train on 27948 samples, validate on 9465 samples\n",
      "Epoch 1/15\n",
      "27948/27948 [==============================] - 6s 225us/step - loss: 0.3520 - acc: 0.8666 - val_loss: 0.2533 - val_acc: 0.9153\n",
      "\n",
      "Epoch 00001: val_loss improved from inf to 0.25331, saving model to ./data/models/A_ConvolutionalDeepRecurrent_TSC_1.hdf5\n",
      "Epoch 2/15\n",
      "27948/27948 [==============================] - 4s 145us/step - loss: 0.2281 - acc: 0.9009 - val_loss: 0.2379 - val_acc: 0.9301\n",
      "\n",
      "Epoch 00002: val_loss improved from 0.25331 to 0.23792, saving model to ./data/models/A_ConvolutionalDeepRecurrent_TSC_1.hdf5\n",
      "Epoch 3/15\n",
      "27948/27948 [==============================] - 4s 139us/step - loss: 0.2030 - acc: 0.9140 - val_loss: 0.2407 - val_acc: 0.9334\n",
      "\n",
      "Epoch 00003: val_loss did not improve\n",
      "Epoch 4/15\n",
      "27948/27948 [==============================] - 4s 139us/step - loss: 0.1892 - acc: 0.9180 - val_loss: 0.2609 - val_acc: 0.9308\n",
      "\n",
      "Epoch 00004: val_loss did not improve\n",
      "Epoch 5/15\n",
      "27948/27948 [==============================] - 4s 137us/step - loss: 0.1748 - acc: 0.9279 - val_loss: 0.2514 - val_acc: 0.9300\n",
      "\n",
      "Epoch 00005: val_loss did not improve\n",
      "Epoch 6/15\n",
      "27948/27948 [==============================] - 4s 137us/step - loss: 0.1682 - acc: 0.9290 - val_loss: 0.2583 - val_acc: 0.9271\n",
      "\n",
      "Epoch 00006: val_loss did not improve\n",
      "Epoch 7/15\n",
      "27948/27948 [==============================] - 4s 136us/step - loss: 0.1592 - acc: 0.9347 - val_loss: 0.2495 - val_acc: 0.9371\n",
      "\n",
      "Epoch 00007: val_loss did not improve\n",
      "Epoch 8/15\n",
      "27948/27948 [==============================] - 4s 136us/step - loss: 0.1554 - acc: 0.9357 - val_loss: 0.2325 - val_acc: 0.9359\n",
      "\n",
      "Epoch 00008: val_loss improved from 0.23792 to 0.23253, saving model to ./data/models/A_ConvolutionalDeepRecurrent_TSC_1.hdf5\n",
      "Epoch 9/15\n",
      "27948/27948 [==============================] - 4s 134us/step - loss: 0.1465 - acc: 0.9394 - val_loss: 0.2492 - val_acc: 0.9354\n",
      "\n",
      "Epoch 00009: val_loss did not improve\n",
      "Epoch 10/15\n",
      "27948/27948 [==============================] - 4s 134us/step - loss: 0.1456 - acc: 0.9395 - val_loss: 0.2480 - val_acc: 0.9351\n",
      "\n",
      "Epoch 00010: val_loss did not improve\n",
      "Epoch 11/15\n",
      "27948/27948 [==============================] - 4s 134us/step - loss: 0.1347 - acc: 0.9440 - val_loss: 0.2986 - val_acc: 0.9225\n",
      "\n",
      "Epoch 00011: val_loss did not improve\n",
      "Epoch 12/15\n",
      "27948/27948 [==============================] - 4s 134us/step - loss: 0.1310 - acc: 0.9465 - val_loss: 0.2865 - val_acc: 0.9297\n",
      "\n",
      "Epoch 00012: val_loss did not improve\n",
      "Epoch 13/15\n",
      "27948/27948 [==============================] - 4s 135us/step - loss: 0.1268 - acc: 0.9480 - val_loss: 0.2757 - val_acc: 0.9264\n",
      "\n",
      "Epoch 00013: val_loss did not improve\n",
      "Epoch 14/15\n",
      "27948/27948 [==============================] - 4s 137us/step - loss: 0.1252 - acc: 0.9478 - val_loss: 0.2833 - val_acc: 0.9270\n",
      "\n",
      "Epoch 00014: val_loss did not improve\n",
      "\n",
      "Epoch 00014: ReduceLROnPlateau reducing learning rate to 0.00010000000474974513.\n",
      "Epoch 15/15\n",
      "27948/27948 [==============================] - 4s 135us/step - loss: 0.1011 - acc: 0.9590 - val_loss: 0.3004 - val_acc: 0.9223\n",
      "\n",
      "Epoch 00015: val_loss did not improve\n"
     ]
    }
   ],
   "source": [
    "model, X_test, Y_test, filepath, save_model_name = launch.cascade_classification(subject,\n",
    "                                                                                 task,\n",
    "                                                                                 model_name,\n",
    "                                                                                 data_folder,\n",
    "                                                                                 window_size=window_size,\n",
    "                                                                                 stride=stride,\n",
    "                                                                                 epochs=epochs,\n",
    "                                                                                 batch_size=batch_size,\n",
    "                                                                                 balcance_classes=balance_classes,\n",
    "                                                                                 GPU=GPU,\n",
    "                                                                                 print_info=print_info)"
   ]
  },
  {
   "cell_type": "markdown",
   "metadata": {},
   "source": [
    "### Results"
   ]
  },
  {
   "cell_type": "code",
   "execution_count": 10,
   "metadata": {},
   "outputs": [
    {
     "name": "stdout",
     "output_type": "stream",
     "text": [
      "\n",
      "Results for best A_ConvolutionalDeepRecurrent_TSC_1:\n",
      "              precision    recall  f1-score   support\n",
      "\n",
      "          0       0.94      0.92      0.93      3958\n",
      "          1       0.85      0.90      0.88      2332\n",
      "          2       1.00      1.00      1.00      2733\n",
      "          3       1.00      0.85      0.92       442\n",
      "\n",
      "avg / total       0.94      0.94      0.94      9465\n",
      "\n"
     ]
    },
    {
     "data": {
      "image/png": "[encoded data removed]",
      "text/plain": [
       "<Figure size 432x288 with 2 Axes>"
      ]
     },
     "metadata": {},
     "output_type": "display_data"
    }
   ],
   "source": [
    "# results\n",
    "Y_pred_ac, score_ac = launch.evaluation(model, X_test, Y_test, filepath, save_model_name)\n",
    "# confusion matrix\n",
    "cnf_matrix = confusion_matrix(Y_test, Y_pred_ac)\n",
    "np.set_printoptions(precision=2)\n",
    "sns.set_style(\"dark\")\n",
    "plt.figure()\n",
    "utils.plot_confusion_matrix(cnf_matrix, classes=classes[1:], title='Confusion matrix, without normalization')"
   ]
  },
  {
   "cell_type": "markdown",
   "metadata": {},
   "source": [
    "For comparison purposes, the best F1-scores of the three classifications performed above are saved in the variables: 'score_os', 'score_ad', 'score_ac'. These will be plotted later, to be compared with the cascade approach implemented next.\n",
    "## Cascade of detection and classification\n",
    "For the evaluation of this approach, the model previously trained are fine: the classification model in particular is trained on the \"correct\" training set, but then makes its prediction on data coming from the detector. For this part we need some results from the previous code:\n",
    "- true labels, which correspond to those obtained with the preprocessing of the One Shot classification model ('Y_true');\n",
    "- predicted labels, by the One Shot classification model ('Y_pred_os');\n",
    "- detector predictions on test data, which need to be passed to the second stage of the cascade ('Y_pred_ad');\n",
    "- classification model, which is the last one that has been used ('model').\n",
    "\n",
    "In the following cells, until the end of the notebook, the following operations are performed: true and predicted labels from above are reported here; the test set is loaded again with the right parameters; then the labels predicted by the activity detection model are used to perform a further classification, using the activity classification model; finally the one-shot approach and the cascade are compared."
   ]
  },
  {
   "cell_type": "code",
   "execution_count": 11,
   "metadata": {},
   "outputs": [
    {
     "name": "stdout",
     "output_type": "stream",
     "text": [
      "Y_true:  Shape: (11504,)  Labels: [0 1 2 3 4] \n",
      "Y_pred_os:  Shape: (11504,)  Labels: [0 1 2 3 4] \n",
      "Y_pred_ad:  Shape: (11504,)  Labels: [0 1] \n",
      "Y_pred_ac:  Shape: (9465,)  Labels: [0 1 2 3]\n"
     ]
    }
   ],
   "source": [
    "# print info on previous predictions\n",
    "print(\"Y_true:  Shape:\", Y_true.shape, \" Labels:\", np.unique(Y_true),\n",
    "     \"\\nY_pred_os:  Shape:\", Y_pred_os.shape, \" Labels:\", np.unique(Y_pred_os),\n",
    "     \"\\nY_pred_ad:  Shape:\", Y_pred_ad.shape, \" Labels:\", np.unique(Y_pred_ad),\n",
    "     \"\\nY_pred_ac:  Shape:\", Y_pred_ac.shape, \" Labels:\", np.unique(Y_pred_ac))"
   ]
  },
  {
   "cell_type": "markdown",
   "metadata": {},
   "source": [
    "Keep in mind that Y_pred, the predictions by the classifier without the null class, should have label values starting from 1, thus a manual correction will be needed."
   ]
  },
  {
   "cell_type": "code",
   "execution_count": 12,
   "metadata": {},
   "outputs": [
    {
     "name": "stdout",
     "output_type": "stream",
     "text": [
      "\n",
      "Session shapes:\n",
      "ADL1:   (45810, 110)\n",
      "ADL2:   (28996, 110)\n",
      "ADL3:   (30167, 110)\n",
      "ADL4:   (30228, 110)\n",
      "ADL5:   (27308, 110)\n",
      "Drill:  (52152, 110)\n",
      "\n",
      "Features: 110 \n",
      "Classes: 5 \n",
      "Fraction of labels:   [0.11 0.42 0.27 0.17 0.02]\n",
      "\n",
      "Features: 110 \n",
      "Classes: 5 \n",
      "Fraction of labels:   [0.18 0.34 0.2  0.24 0.04]\n"
     ]
    }
   ],
   "source": [
    "# get test set\n",
    "if subject == 23:\n",
    "    X_test = preprocessing.loadDataMultiple(label=label,\n",
    "                                            folder=data_folder,\n",
    "                                            window_size=window_size,\n",
    "                                            stride=stride,\n",
    "                                            make_binary=False,\n",
    "                                            null_class=True,\n",
    "                                            print_info=print_info)[2]\n",
    "else:\n",
    "    X_test = preprocessing.loadData(subject=subject,\n",
    "                                    label=label,\n",
    "                                    folder=data_folder,\n",
    "                                    window_size=window_size,\n",
    "                                    stride=stride,\n",
    "                                    make_binary=False,\n",
    "                                    null_class=True,\n",
    "                                    print_info=print_info)[2]"
   ]
  },
  {
   "cell_type": "markdown",
   "metadata": {},
   "source": [
    "Here a mask is used to select all the windows where activity is detected. Note that this number of windows can be different from the number of non-zero labels (which correspond to the shape of Y_pred, reported above)."
   ]
  },
  {
   "cell_type": "code",
   "execution_count": 13,
   "metadata": {},
   "outputs": [
    {
     "name": "stdout",
     "output_type": "stream",
     "text": [
      "Mask shape: (11504,) \n",
      "Detected activities: 9702\n"
     ]
    }
   ],
   "source": [
    "# mask\n",
    "mask = (Y_pred_ad == 1)\n",
    "print(\"Mask shape:\", mask.shape, \"\\nDetected activities:\", np.sum(mask))"
   ]
  },
  {
   "cell_type": "code",
   "execution_count": 14,
   "metadata": {},
   "outputs": [
    {
     "name": "stdout",
     "output_type": "stream",
     "text": [
      "New test set has shape: (9702, 15, 110)\n"
     ]
    }
   ],
   "source": [
    "activity_windows = X_test[mask, :, :]\n",
    "# reshaping for 2D convolution\n",
    "if model_name == \"Convolutional2DRecurrent\":\n",
    "    activity_windows = activity_windows.reshape(activity_windows.shape[0], window_size, X_test.shape[2], 1)\n",
    "print(\"New test set has shape:\", activity_windows.shape)"
   ]
  },
  {
   "cell_type": "markdown",
   "metadata": {},
   "source": [
    "The classification previously trained is now used to predict the classes on the new test set."
   ]
  },
  {
   "cell_type": "code",
   "execution_count": 15,
   "metadata": {},
   "outputs": [
    {
     "name": "stdout",
     "output_type": "stream",
     "text": [
      "Y_casc_ac:  Shape: (9702,)  Labels: [1 2 3 4]\n"
     ]
    }
   ],
   "source": [
    "Y_casc_ac = model.predict_classes(activity_windows) + 1\n",
    "print(\"Y_casc_ac:  Shape:\", Y_casc_ac.shape, \" Labels:\", np.unique(Y_casc_ac))"
   ]
  },
  {
   "cell_type": "markdown",
   "metadata": {},
   "source": [
    "These predictions are inserted back in the detector's values, substituting these new labels to the ones with value 1. The locations to be modified are still those flagged by the 'mask'."
   ]
  },
  {
   "cell_type": "code",
   "execution_count": 16,
   "metadata": {},
   "outputs": [
    {
     "name": "stdout",
     "output_type": "stream",
     "text": [
      "Y_casc:    Shape: (11504,)  Labels: [0 1 2 3 4]\n"
     ]
    }
   ],
   "source": [
    "Y_casc = Y_pred_ad\n",
    "Y_casc[mask] = Y_casc_ac\n",
    "print(\"Y_casc:    Shape:\", Y_casc.shape, \" Labels:\", np.unique(Y_casc))"
   ]
  },
  {
   "cell_type": "code",
   "execution_count": 17,
   "metadata": {},
   "outputs": [
    {
     "name": "stdout",
     "output_type": "stream",
     "text": [
      "             precision    recall  f1-score   support\n",
      "\n",
      "          0       0.92      0.81      0.86      2039\n",
      "          1       0.91      0.89      0.90      3958\n",
      "          2       0.76      0.87      0.81      2332\n",
      "          3       0.98      1.00      0.99      2733\n",
      "          4       0.91      0.85      0.88       442\n",
      "\n",
      "avg / total       0.90      0.90      0.90     11504\n",
      "\n"
     ]
    },
    {
     "data": {
      "image/png": "[encoded data removed]",
      "text/plain": [
       "<Figure size 432x288 with 2 Axes>"
      ]
     },
     "metadata": {},
     "output_type": "display_data"
    }
   ],
   "source": [
    "print(classification_report(Y_true, Y_casc))\n",
    "cnf_matrix = confusion_matrix(Y_true, Y_casc)\n",
    "np.set_printoptions(precision=2)\n",
    "sns.set_style(\"dark\")\n",
    "plt.figure()\n",
    "utils.plot_confusion_matrix(cnf_matrix, classes=classes[1:], title='Confusion matrix, without normalization')"
   ]
  },
  {
   "cell_type": "markdown",
   "metadata": {},
   "source": [
    "## Comparison between the two pipelines"
   ]
  },
  {
   "cell_type": "code",
   "execution_count": 18,
   "metadata": {},
   "outputs": [
    {
     "name": "stdout",
     "output_type": "stream",
     "text": [
      "One-Shot weighted f1-score:   0.9007601467400558\n",
      "Two-Steps weighted f1-score:  0.8968638967219102\n",
      "With partials:\n",
      "\t\tDetection:      0.9528816223782642 \n",
      "\t\tClassification: 0.9361798446567\n"
     ]
    }
   ],
   "source": [
    "print(\"One-Shot weighted f1-score:  \", score_os)\n",
    "print(\"Two-Steps weighted f1-score: \", f1_score(Y_true, Y_casc, average='weighted'))\n",
    "print(\"With partials:\\n\\t\\tDetection:     \",score_ad,\"\\n\\t\\tClassification:\", score_ac)"
   ]
  },
  {
   "cell_type": "markdown",
   "metadata": {},
   "source": [
    "# The end"
   ]
  }
 ],
 "metadata": {
  "kernelspec": {
   "display_name": "Python 3",
   "language": "python",
   "name": "python3"
  },
  "language_info": {
   "codemirror_mode": {
    "name": "ipython",
    "version": 3
   },
   "file_extension": ".py",
   "mimetype": "text/x-python",
   "name": "python",
   "nbconvert_exporter": "python",
   "pygments_lexer": "ipython3",
   "version": "3.6.4"
  }
 },
 "nbformat": 4,
 "nbformat_minor": 2
}
