{
 "cells": [
  {
   "cell_type": "markdown",
   "metadata": {},
   "source": [
    "# HAR system - Lincetto Riccardo, Drago Matteo\n",
    "This notebook runs:\n",
    "- Classification with null class (One Shot classification);\n",
    "- Binary classification for activity detection (Two Steps - detection);\n",
    "- Classification without null class (Two Steps - classification);\n",
    "- Cascade of the last two methods.\n",
    "\n",
    "The operations performed here are very similar to those execute in 'main.py', with the exception that here the program is executed for specified user and model.\n",
    "\n",
    "## Notebook setup\n",
    "This first cell contains the parameters that can be tuned for code execution:\n",
    "- subject: select the subject on which to test the model, between [1,4];\n",
    "- task: choose \"A\" for locomotion classification or \"B\" for gesture recognition;\n",
    "- model_name: choose between \"Convolutional\", \"Convolutional1DRecurrent\", \"Convolutional2DRecurrent\" and \"ConvolutionalDeepRecurrent\";\n",
    "- data_folder: directory name where '.mat' files are stored;\n",
    "- window_size: parameter that sets the length of temporal windows on which to perform the convolution;\n",
    "- stride: step length to chose the next window;\n",
    "- GPU: boolean flag indicatin wheter GPU is present on the machine that executes the code;\n",
    "- epochs: number of complete sweeps of the data signals during training;\n",
    "- batch_size: number of forward propagations in the networks between consecutives backpropagations;\n",
    "- print_info: boolean flag to control displayed information."
   ]
  },
  {
   "cell_type": "code",
   "execution_count": 6,
   "metadata": {},
   "outputs": [],
   "source": [
    "subject = 1\n",
    "task = \"A\"\n",
    "model_name = \"Convolutional\"\n",
    "data_folder = \"./data/full/\"\n",
    "window_size = 15\n",
    "stride = 5\n",
    "GPU = True\n",
    "epochs = 10\n",
    "batch_size = 32\n",
    "balance_classes = False\n",
    "print_info = False"
   ]
  },
  {
   "cell_type": "markdown",
   "metadata": {},
   "source": [
    "Here the useful functions are imported."
   ]
  },
  {
   "cell_type": "code",
   "execution_count": 7,
   "metadata": {},
   "outputs": [],
   "source": [
    "import launch\n",
    "import preprocessing\n",
    "import models\n",
    "import utils\n",
    "import os\n",
    "import numpy as np\n",
    "from sklearn.metrics import classification_report, f1_score, confusion_matrix\n",
    "from keras.models import load_model\n",
    "from keras.optimizers import Adam\n",
    "from keras.callbacks import ModelCheckpoint, ReduceLROnPlateau\n",
    "from keras.utils import to_categorical\n",
    "import seaborn as sns\n",
    "import matplotlib.pyplot as plt"
   ]
  },
  {
   "cell_type": "markdown",
   "metadata": {},
   "source": [
    "Differently from 'main.py', all results saved from this notebook are going to be stored in a dedicated folder: './data/notebook/'. For proper execution, this folder needs first to be created."
   ]
  },
  {
   "cell_type": "code",
   "execution_count": 8,
   "metadata": {},
   "outputs": [],
   "source": [
    "if not(os.path.exists(\"./data\")):\n",
    "    os.mkdir(\"./data\")\n",
    "if not(os.path.exists(\"./data/notebook\")):\n",
    "    os.mkdir(\"./data/notebook\")"
   ]
  },
  {
   "cell_type": "markdown",
   "metadata": {},
   "source": [
    "If task A is selected, calssifications in the following notebook are based on the labels of column 0; if instead it's task B, column 6 labels are used."
   ]
  },
  {
   "cell_type": "code",
   "execution_count": 9,
   "metadata": {},
   "outputs": [
    {
     "name": "stdout",
     "output_type": "stream",
     "text": [
      "Task A uses labels column 0\n"
     ]
    }
   ],
   "source": [
    "if task == \"A\":\n",
    "    label = 0\n",
    "    classes = [\"Inactive\",\"Stand\",\"Walk\",\"Sit\",\"Lie\"]\n",
    "elif task == \"B\":\n",
    "    label = 6\n",
    "    classes = [\"Close Dishwasher\",\"Close Drawer 3\",\"Close Drawer 2\",\"Inactive\",\"Close Door 1\",\"Close Door 2\",\"Close Drawer 1\",\"Close Fridge\",\"Toggle Switch\",\"Open Dishwasher\",\"Open Drawer 3\",\"Open Drawer 2\",\"Open Door 1\",\"Open Door 2\",\"Open Drawer 1\",\"Open Fridge\",\"Drink from Cup\",\"Clean Table\"]\n",
    "else:\n",
    "    print(\"Error: invalid task.\")\n",
    "print(\"Task\", task, \"uses labels column\", label)"
   ]
  },
  {
   "cell_type": "markdown",
   "metadata": {},
   "source": [
    "## Classification with null class: One Shot classification\n",
    "Here classification is performed considering inactivity as a class, alongside with the others. In the case of locomotion classification (task A), this becomes a 5-class problem, while in the case of gesture recognition (task B) the classes become 18. In the following cell are perfomed in order:\n",
    "- preprocessing;\n",
    "- model selection;\n",
    "- model compilation;\n",
    "- training.\n",
    "\n",
    "Note that in case \"Convolutional2DRecurrent\" is the model selected, then the preprocessed data need to be reshaped, adding one dimension; this is automatically done by the code inside 'launch.py'."
   ]
  },
  {
   "cell_type": "code",
   "execution_count": 12,
   "metadata": {},
   "outputs": [
    {
     "name": "stdout",
     "output_type": "stream",
     "text": [
      "Model: A_Convolutional_OS_1 \n",
      "Location: ./data/models/A_Convolutional_OS_1.hdf5 \n",
      "\n",
      "Train on 31422 samples, validate on 11504 samples\n",
      "Epoch 1/10\n",
      "31422/31422 [==============================] - 12s 382us/step - loss: 0.5994 - acc: 0.8431 - val_loss: 0.4263 - val_acc: 0.8852\n",
      "\n",
      "Epoch 00001: val_loss improved from inf to 0.42630, saving model to ./data/models/A_Convolutional_OS_1.hdf5\n",
      "Epoch 2/10\n",
      "31422/31422 [==============================] - 10s 330us/step - loss: 0.3243 - acc: 0.8822 - val_loss: 0.3869 - val_acc: 0.8939\n",
      "\n",
      "Epoch 00002: val_loss improved from 0.42630 to 0.38686, saving model to ./data/models/A_Convolutional_OS_1.hdf5\n",
      "Epoch 3/10\n",
      "31422/31422 [==============================] - 10s 326us/step - loss: 0.2832 - acc: 0.8987 - val_loss: 0.4476 - val_acc: 0.8786\n",
      "\n",
      "Epoch 00003: val_loss did not improve\n",
      "Epoch 4/10\n",
      "31422/31422 [==============================] - 10s 327us/step - loss: 0.2621 - acc: 0.9050 - val_loss: 0.4251 - val_acc: 0.8738\n",
      "\n",
      "Epoch 00004: val_loss did not improve\n",
      "Epoch 5/10\n",
      "31422/31422 [==============================] - 10s 320us/step - loss: 0.2438 - acc: 0.9119 - val_loss: 0.3885 - val_acc: 0.8926\n",
      "\n",
      "Epoch 00005: val_loss did not improve\n",
      "Epoch 6/10\n",
      "31422/31422 [==============================] - 10s 327us/step - loss: 0.2341 - acc: 0.9135 - val_loss: 0.3740 - val_acc: 0.9026\n",
      "\n",
      "Epoch 00006: val_loss improved from 0.38686 to 0.37397, saving model to ./data/models/A_Convolutional_OS_1.hdf5\n",
      "Epoch 7/10\n",
      "31422/31422 [==============================] - 10s 328us/step - loss: 0.2207 - acc: 0.9190 - val_loss: 0.3830 - val_acc: 0.8956\n",
      "\n",
      "Epoch 00007: val_loss did not improve\n",
      "Epoch 8/10\n",
      "31422/31422 [==============================] - 10s 332us/step - loss: 0.2150 - acc: 0.9236 - val_loss: 0.3761 - val_acc: 0.8962\n",
      "\n",
      "Epoch 00008: val_loss did not improve\n",
      "Epoch 9/10\n",
      "31422/31422 [==============================] - 10s 330us/step - loss: 0.2035 - acc: 0.9274 - val_loss: 0.3825 - val_acc: 0.9032\n",
      "\n",
      "Epoch 00009: val_loss did not improve\n",
      "Epoch 10/10\n",
      "31422/31422 [==============================] - 10s 325us/step - loss: 0.2005 - acc: 0.9267 - val_loss: 0.5005 - val_acc: 0.8677\n",
      "\n",
      "Epoch 00010: val_loss did not improve\n"
     ]
    }
   ],
   "source": [
    "model, X_test, Y_test, filepath, save_model_name = launch.oneshot_classification(subject,\n",
    "                                                                                 task,\n",
    "                                                                                 model_name,\n",
    "                                                                                 data_folder,\n",
    "                                                                                 window_size=window_size,\n",
    "                                                                                 stride=stride,\n",
    "                                                                                 epochs=epochs,\n",
    "                                                                                 batch_size=batch_size,\n",
    "                                                                                 balcance_classes=balance_classes,\n",
    "                                                                                 GPU=GPU,\n",
    "                                                                                 print_info=print_info)"
   ]
  },
  {
   "cell_type": "markdown",
   "metadata": {},
   "source": [
    "### Results"
   ]
  },
  {
   "cell_type": "code",
   "execution_count": 13,
   "metadata": {},
   "outputs": [
    {
     "name": "stdout",
     "output_type": "stream",
     "text": [
      "\n",
      "Results for best A_Convolutional_OS_1:\n",
      "              precision    recall  f1-score   support\n",
      "\n",
      "          0       0.91      0.78      0.84      2039\n",
      "          1       0.88      0.96      0.92      3958\n",
      "          2       0.84      0.82      0.83      2332\n",
      "          3       0.99      1.00      0.99      2733\n",
      "          4       0.92      0.84      0.88       442\n",
      "\n",
      "avg / total       0.90      0.90      0.90     11504\n",
      "\n"
     ]
    },
    {
     "data": {
      "image/png": "[encoded data removed]",
      "text/plain": [
       "<Figure size 432x288 with 2 Axes>"
      ]
     },
     "metadata": {},
     "output_type": "display_data"
    }
   ],
   "source": [
    "# results\n",
    "Y_pred_os, score_os = launch.evaluation(model, X_test, Y_test, filepath, save_model_name)\n",
    "# save for future use\n",
    "Y_true = Y_test\n",
    "# confusion matrix\n",
    "cnf_matrix = confusion_matrix(Y_test, Y_pred_os)\n",
    "np.set_printoptions(precision=2)\n",
    "sns.set_style(\"dark\")\n",
    "plt.figure()\n",
    "utils.plot_confusion_matrix(cnf_matrix, classes=classes, title='Confusion matrix, without normalization')"
   ]
  },
  {
   "cell_type": "markdown",
   "metadata": {},
   "source": [
    "## Binary classification for activity detection\n",
    "Here all the \"activity\" classes are labelled with 1, while the inactivity class remains labelled with 0. As before, in the following cell are perfomed in order:\n",
    "- preprocessing;\n",
    "- model selection;\n",
    "- model compilation;\n",
    "- training."
   ]
  },
  {
   "cell_type": "code",
   "execution_count": 16,
   "metadata": {},
   "outputs": [
    {
     "name": "stdout",
     "output_type": "stream",
     "text": [
      "Model: A_Convolutional_TSD_1 \n",
      "Location: ./data/models/A_Convolutional_TSD_1.hdf5 \n",
      "\n",
      "Train on 31422 samples, validate on 11504 samples\n",
      "Epoch 1/10\n",
      "31422/31422 [==============================] - 12s 395us/step - loss: 0.2416 - acc: 0.9591 - val_loss: 0.2510 - val_acc: 0.9465\n",
      "\n",
      "Epoch 00001: val_loss improved from inf to 0.25097, saving model to ./data/models/A_Convolutional_TSD_1.hdf5\n",
      "Epoch 2/10\n",
      "31422/31422 [==============================] - 10s 328us/step - loss: 0.0828 - acc: 0.9738 - val_loss: 0.2682 - val_acc: 0.9408\n",
      "\n",
      "Epoch 00002: val_loss did not improve\n",
      "Epoch 3/10\n",
      "31422/31422 [==============================] - 10s 331us/step - loss: 0.0707 - acc: 0.9771 - val_loss: 0.2453 - val_acc: 0.9479\n",
      "\n",
      "Epoch 00003: val_loss improved from 0.25097 to 0.24527, saving model to ./data/models/A_Convolutional_TSD_1.hdf5\n",
      "Epoch 4/10\n",
      "31422/31422 [==============================] - 11s 336us/step - loss: 0.0643 - acc: 0.9792 - val_loss: 0.2514 - val_acc: 0.9465\n",
      "\n",
      "Epoch 00004: val_loss did not improve\n",
      "Epoch 5/10\n",
      "31422/31422 [==============================] - 10s 333us/step - loss: 0.0553 - acc: 0.9821 - val_loss: 0.3055 - val_acc: 0.9386\n",
      "\n",
      "Epoch 00005: val_loss did not improve\n",
      "Epoch 6/10\n",
      "31422/31422 [==============================] - 10s 332us/step - loss: 0.0513 - acc: 0.9836 - val_loss: 0.2572 - val_acc: 0.9442\n",
      "\n",
      "Epoch 00006: val_loss did not improve\n",
      "Epoch 7/10\n",
      "31422/31422 [==============================] - 10s 328us/step - loss: 0.0478 - acc: 0.9845 - val_loss: 0.2645 - val_acc: 0.9405\n",
      "\n",
      "Epoch 00007: val_loss did not improve\n",
      "Epoch 8/10\n",
      "31422/31422 [==============================] - 10s 331us/step - loss: 0.0433 - acc: 0.9860 - val_loss: 0.2461 - val_acc: 0.9525\n",
      "\n",
      "Epoch 00008: val_loss did not improve\n",
      "Epoch 9/10\n",
      "31422/31422 [==============================] - 10s 331us/step - loss: 0.0422 - acc: 0.9860 - val_loss: 0.2562 - val_acc: 0.9462\n",
      "\n",
      "Epoch 00009: val_loss did not improve\n",
      "\n",
      "Epoch 00009: ReduceLROnPlateau reducing learning rate to 0.00010000000474974513.\n",
      "Epoch 10/10\n",
      "31422/31422 [==============================] - 11s 337us/step - loss: 0.0284 - acc: 0.9914 - val_loss: 0.2468 - val_acc: 0.9484\n",
      "\n",
      "Epoch 00010: val_loss did not improve\n"
     ]
    }
   ],
   "source": [
    "model, X_test, Y_test, filepath, save_model_name = launch.cascade_detection(subject,\n",
    "                                                                            task,\n",
    "                                                                            model_name,\n",
    "                                                                            data_folder,\n",
    "                                                                            window_size=window_size,\n",
    "                                                                            stride=stride,\n",
    "                                                                            epochs=epochs,\n",
    "                                                                            batch_size=batch_size,\n",
    "                                                                            balcance_classes=balance_classes,\n",
    "                                                                            GPU=GPU,\n",
    "                                                                            print_info=print_info)"
   ]
  },
  {
   "cell_type": "markdown",
   "metadata": {},
   "source": [
    "### Results"
   ]
  },
  {
   "cell_type": "code",
   "execution_count": 18,
   "metadata": {},
   "outputs": [
    {
     "name": "stdout",
     "output_type": "stream",
     "text": [
      "\n",
      "Results for last A_Convolutional_TSD_1:\n",
      "              precision    recall  f1-score   support\n",
      "\n",
      "          0       0.91      0.79      0.84      2039\n",
      "          1       0.96      0.98      0.97      9465\n",
      "\n",
      "avg / total       0.95      0.95      0.95     11504\n",
      "\n"
     ]
    },
    {
     "data": {
      "image/png": "[encoded data removed]",
      "text/plain": [
       "<Figure size 432x288 with 2 Axes>"
      ]
     },
     "metadata": {},
     "output_type": "display_data"
    }
   ],
   "source": [
    "# results\n",
    "Y_pred_ad, score_ad = launch.evaluation(model, X_test, Y_test, filepath, save_model_name)\n",
    "# confusion matrix\n",
    "cnf_matrix = confusion_matrix(Y_test, Y_pred_ad)\n",
    "np.set_printoptions(precision=2)\n",
    "sns.set_style(\"dark\")\n",
    "plt.figure()\n",
    "utils.plot_confusion_matrix(cnf_matrix, classes=[\"Inactive\",\"Active\"], title='Confusion matrix, without normalization')"
   ]
  },
  {
   "cell_type": "markdown",
   "metadata": {},
   "source": [
    "## Classification without null class: Two Steps - classification\n",
    "Here all the \"activity\" classes are kept while the inactivity class is discarded during preprocessing. Again, in the following cell are perfomed in order:\n",
    "- preprocessing;\n",
    "- model selection;\n",
    "- model compilation;\n",
    "- training."
   ]
  },
  {
   "cell_type": "code",
   "execution_count": null,
   "metadata": {},
   "outputs": [
    {
     "name": "stdout",
     "output_type": "stream",
     "text": [
      "Model: A_Convolutional_TSC_1 \n",
      "Location: ./data/models/A_Convolutional_TSC_1.hdf5 \n",
      "\n",
      "Train on 27948 samples, validate on 9465 samples\n",
      "Epoch 1/10\n",
      "27948/27948 [==============================] - 12s 426us/step - loss: 0.4507 - acc: 0.8803 - val_loss: 0.2899 - val_acc: 0.9287\n",
      "\n",
      "Epoch 00001: val_loss improved from inf to 0.28985, saving model to ./data/models/A_Convolutional_TSC_1.hdf5\n",
      "Epoch 2/10\n",
      "14304/27948 [==============>...............] - ETA: 4s - loss: 0.2427 - acc: 0.9070"
     ]
    }
   ],
   "source": [
    "model, X_test, Y_test, filepath, save_model_name = launch.cascade_classification(subject,\n",
    "                                                                                 task,\n",
    "                                                                                 model_name,\n",
    "                                                                                 data_folder,\n",
    "                                                                                 window_size=window_size,\n",
    "                                                                                 stride=stride,\n",
    "                                                                                 epochs=epochs,\n",
    "                                                                                 batch_size=batch_size,\n",
    "                                                                                 balcance_classes=balance_classes,\n",
    "                                                                                 GPU=GPU,\n",
    "                                                                                 print_info=print_info)"
   ]
  },
  {
   "cell_type": "markdown",
   "metadata": {},
   "source": [
    "### Results"
   ]
  },
  {
   "cell_type": "code",
   "execution_count": 10,
   "metadata": {},
   "outputs": [
    {
     "name": "stdout",
     "output_type": "stream",
     "text": [
      "Results for best A_Convolutional_TSC_1:\n",
      "\n",
      "              precision    recall  f1-score   support\n",
      "\n",
      "          0       0.93      0.94      0.93      3958\n",
      "          1       0.87      0.87      0.87      2332\n",
      "          2       1.00      1.00      1.00      2733\n",
      "          3       1.00      0.85      0.92       442\n",
      "\n",
      "avg / total       0.94      0.94      0.94      9465\n",
      "\n"
     ]
    },
    {
     "data": {
      "image/png": "[encoded data removed]",
      "text/plain": [
       "<Figure size 432x288 with 2 Axes>"
      ]
     },
     "metadata": {},
     "output_type": "display_data"
    }
   ],
   "source": [
    "# last model\n",
    "Y_pred = model.predict_classes(X_test)\n",
    "score_TSC = f1_score(Y_test, Y_pred, average='weighted')\n",
    "\n",
    "# best model\n",
    "model_best = load_model(filepath)\n",
    "Y_pred_best = model_best.predict_classes(X_test)\n",
    "score_TSC_best = f1_score(Y_test, Y_pred_best, average='weighted')\n",
    "\n",
    "# keep highest f1-score\n",
    "if score_TSC_best > score_TSC:\n",
    "    score_TSC = score_TSC_best\n",
    "    print(\"Results for best \"+ save_model_name + \":\\n\\n\", classification_report(Y_test, Y_pred_best))\n",
    "    # confusion matrix\n",
    "    cnf_matrix = confusion_matrix(Y_test, Y_pred_best)\n",
    "else:\n",
    "    print(\"Results for last \"+ save_model_name + \":\\n\\n\", classification_report(Y_test, Y_pred))\n",
    "    # confusion matrix\n",
    "    cnf_matrix = confusion_matrix(Y_test, Y_pred)\n",
    "    \n",
    "# print confusion matrix\n",
    "np.set_printoptions(precision=2)\n",
    "sns.set_style(\"dark\")\n",
    "plt.figure()\n",
    "utils.plot_confusion_matrix(cnf_matrix, classes=classes[1:], title='Confusion matrix, without normalization')"
   ]
  },
  {
   "cell_type": "markdown",
   "metadata": {},
   "source": [
    "For comparison purposes, the best F1-scores of the three classifications performed above are saved in the variables: 'score_OS', 'score_TSD', 'score_TSC'. These will be plotted later, to be compared with the cascade approach implemented next.\n",
    "## Cascade of detection and classification\n",
    "For the evaluation of this approach, the model previously trained are fine: the classification model in particular is trained on the \"correct\" training set, but then makes its prediction on data coming from the detector. For this part we need some results from the previous code:\n",
    "- true labels, which correspond to those obtained with the preprocessing of the One Shot classification model ('Y_true');\n",
    "- predicted labels, by the One Shot classification model ('Y_OS');\n",
    "- detector predictions on test data, which need to be passed to the second stage of the cascade ('Y_det');\n",
    "- classification model, which is the last one that has been used ('model').\n",
    "\n",
    "In the following cell true labels are recalled, the detection model is loaded and used to predict the labels on the test set and, finally, the predictions are used to perform a further classification. Once the predictions are made, they are compared to the true labels: note that to this end, classification predictions need to be inserted in an array containing the detection predictions."
   ]
  },
  {
   "cell_type": "code",
   "execution_count": 11,
   "metadata": {},
   "outputs": [
    {
     "name": "stdout",
     "output_type": "stream",
     "text": [
      "Y_true:  Shape: (11504,)  Labels: [0 1 2 3 4] \n",
      "Y_OS:    Shape: (11504,)  Labels: [0 1 2 3 4] \n",
      "Y_det:   Shape: (11504,)  Labels: [0 1] \n",
      "Y_pred:  Shape: (9465,)   Labels: [0 1 2 3]\n"
     ]
    }
   ],
   "source": [
    "# print info on previous predictions\n",
    "print(\"Y_true:  Shape:\", Y_true.shape, \" Labels:\", np.unique(Y_true),\n",
    "     \"\\nY_OS:    Shape:\", Y_OS.shape, \" Labels:\", np.unique(Y_OS),\n",
    "     \"\\nY_det:   Shape:\", Y_det.shape, \" Labels:\", np.unique(Y_det),\n",
    "     \"\\nY_pred:  Shape:\", Y_pred.shape, \"  Labels:\", np.unique(Y_pred))"
   ]
  },
  {
   "cell_type": "markdown",
   "metadata": {},
   "source": [
    "Keep in mind that Y_pred, the predictions by the classifier without the null class, should have label values starting from 1, thus a manual correction will be needed."
   ]
  },
  {
   "cell_type": "code",
   "execution_count": 12,
   "metadata": {},
   "outputs": [],
   "source": [
    "# get test set\n",
    "if subject == 23:\n",
    "    X_test = preprocessing.loadDataMultiple(label=label,\n",
    "                                            folder=data_folder,\n",
    "                                            window_size=window_size,\n",
    "                                            stride=stride,\n",
    "                                            make_binary=False,\n",
    "                                            null_class=True,\n",
    "                                            print_info=print_info)[2]\n",
    "else:\n",
    "    X_test = preprocessing.loadData(subject=subject,\n",
    "                                    label=label,\n",
    "                                    folder=data_folder,\n",
    "                                    window_size=window_size,\n",
    "                                    stride=stride,\n",
    "                                    make_binary=False,\n",
    "                                    null_class=True,\n",
    "                                    print_info=print_info)[2]\n",
    "\n",
    "# load detection model\n",
    "# detector_name = task + \"_\" + model_name + \"_TSD_\" + str(subject)\n",
    "# filepath = './data/notebook/'+save_model_name+'.hdf5'\n",
    "# detector = load_model(filepath)\n",
    "\n",
    "# predict binary classes\n",
    "# Y_det = detector.predict_classes(X_test)\n"
   ]
  },
  {
   "cell_type": "markdown",
   "metadata": {},
   "source": [
    "Here a mask is used to select all the windows where activity is detected. Note that this number of windows can be different from the number of non-zero labels (which correspond to the shape of Y_pred, reported above)."
   ]
  },
  {
   "cell_type": "code",
   "execution_count": 13,
   "metadata": {},
   "outputs": [
    {
     "name": "stdout",
     "output_type": "stream",
     "text": [
      "Mask shape: (11504,) \n",
      "Detected activities: 9775\n"
     ]
    }
   ],
   "source": [
    "# mask\n",
    "mask = (Y_det == 1)\n",
    "print(\"Mask shape:\", mask.shape, \"\\nDetected activities:\", np.sum(mask))"
   ]
  },
  {
   "cell_type": "code",
   "execution_count": 14,
   "metadata": {},
   "outputs": [
    {
     "name": "stdout",
     "output_type": "stream",
     "text": [
      "New test set has shape: (9775, 15, 110)\n"
     ]
    }
   ],
   "source": [
    "activity_windows = X_test[mask, :, :]\n",
    "print(\"New test set has shape:\", activity_windows.shape)"
   ]
  },
  {
   "cell_type": "markdown",
   "metadata": {},
   "source": [
    "The classification previously trained is now used to predict the classes on the new test set."
   ]
  },
  {
   "cell_type": "code",
   "execution_count": 15,
   "metadata": {},
   "outputs": [
    {
     "name": "stdout",
     "output_type": "stream",
     "text": [
      "Y_clas:  Shape: (9775,)  Labels: [1 2 3 4]\n"
     ]
    }
   ],
   "source": [
    "Y_clas = model_best.predict_classes(activity_windows) + 1\n",
    "print(\"Y_clas:  Shape:\", Y_clas.shape, \" Labels:\", np.unique(Y_clas))"
   ]
  },
  {
   "cell_type": "markdown",
   "metadata": {},
   "source": [
    "These predictions are inserted back in the detector's values, substituting these new labels to the ones with value 1. The locations to be modified are still those flagged by the 'mask'."
   ]
  },
  {
   "cell_type": "code",
   "execution_count": 16,
   "metadata": {},
   "outputs": [
    {
     "name": "stdout",
     "output_type": "stream",
     "text": [
      "Y_TS:    Shape: (11504,)  Labels: [0 1 2 3 4]\n"
     ]
    }
   ],
   "source": [
    "Y_TS = Y_det\n",
    "Y_TS[mask] = Y_clas\n",
    "print(\"Y_TS:    Shape:\", Y_TS.shape, \" Labels:\", np.unique(Y_TS))"
   ]
  },
  {
   "cell_type": "code",
   "execution_count": 17,
   "metadata": {},
   "outputs": [
    {
     "name": "stdout",
     "output_type": "stream",
     "text": [
      "             precision    recall  f1-score   support\n",
      "\n",
      "          0       0.94      0.79      0.86      2039\n",
      "          1       0.90      0.94      0.92      3958\n",
      "          2       0.80      0.83      0.82      2332\n",
      "          3       0.98      1.00      0.99      2733\n",
      "          4       0.87      0.85      0.86       442\n",
      "\n",
      "avg / total       0.90      0.90      0.90     11504\n",
      "\n"
     ]
    },
    {
     "data": {
      "image/png": "[encoded data removed]",
      "text/plain": [
       "<Figure size 432x288 with 2 Axes>"
      ]
     },
     "metadata": {},
     "output_type": "display_data"
    }
   ],
   "source": [
    "print(classification_report(Y_true, Y_TS))\n",
    "cnf_matrix = confusion_matrix(Y_true, Y_TS)\n",
    "np.set_printoptions(precision=2)\n",
    "sns.set_style(\"dark\")\n",
    "plt.figure()\n",
    "utils.plot_confusion_matrix(cnf_matrix, classes=classes[1:], title='Confusion matrix, without normalization')"
   ]
  },
  {
   "cell_type": "markdown",
   "metadata": {},
   "source": [
    "## Comparison between the two pipelines"
   ]
  },
  {
   "cell_type": "code",
   "execution_count": 18,
   "metadata": {},
   "outputs": [
    {
     "name": "stdout",
     "output_type": "stream",
     "text": [
      "One-Shot weighted f1-score:   0.8991855741093522\n",
      "Two-Steps weighted f1-score:  0.9011827729250993\n",
      "With partials:\n",
      "\t\tDetection:      0.9524050533322855 \n",
      "\t\tClassification: 0.9359140747138319\n"
     ]
    }
   ],
   "source": [
    "print(\"One-Shot weighted f1-score:  \", score_OS)\n",
    "print(\"Two-Steps weighted f1-score: \", f1_score(Y_true, Y_TS, average='weighted'))\n",
    "print(\"With partials:\\n\\t\\tDetection:     \",score_TSD,\"\\n\\t\\tClassification:\", score_TSC)"
   ]
  },
  {
   "cell_type": "markdown",
   "metadata": {},
   "source": [
    "# The end"
   ]
  }
 ],
 "metadata": {
  "kernelspec": {
   "display_name": "Python 3",
   "language": "python",
   "name": "python3"
  },
  "language_info": {
   "codemirror_mode": {
    "name": "ipython",
    "version": 3
   },
   "file_extension": ".py",
   "mimetype": "text/x-python",
   "name": "python",
   "nbconvert_exporter": "python",
   "pygments_lexer": "ipython3",
   "version": "3.6.4"
  }
 },
 "nbformat": 4,
 "nbformat_minor": 2
}
