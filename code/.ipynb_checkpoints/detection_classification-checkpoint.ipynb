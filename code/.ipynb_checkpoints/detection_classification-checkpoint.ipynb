{
 "cells": [
  {
   "cell_type": "markdown",
   "metadata": {},
   "source": [
    "# HDA - Project 3"
   ]
  },
  {
   "cell_type": "code",
   "execution_count": null,
   "metadata": {},
   "outputs": [],
   "source": [
    "import utils\n",
    "import deeplearning\n",
    "import numpy as np\n",
    "\n",
    "import matplotlib.pyplot as plt\n",
    "import seaborn as sns \n",
    "\n",
    "from sklearn.svm import LinearSVC\n",
    "from sklearn.metrics import accuracy_score\n",
    "\n",
    "from keras import regularizers\n",
    "from keras.activations import relu\n",
    "from keras.layers import Conv2D, BatchNormalization, Dropout, LeakyReLU, Flatten, Activation, Dense, MaxPooling2D, LSTM, Reshape\n",
    "from keras.models import Model, Sequential\n",
    "from keras.optimizers import Adam"
   ]
  },
  {
   "cell_type": "markdown",
   "metadata": {},
   "source": [
    "The following cell contains the hyper-parameters that can be tuned for code execution:\n",
    "- subject: select the subject on which to test the model, between [1,4];\n",
    "- folder: directory name where '.mat' files are stored;\n",
    "- label_col: column of features to be selected to perform activity detection, between [0,6]:\n",
    "\n",
    "|  Label |  Feature |\n",
    "|:-:     |:-:|\n",
    "|  0     | Locomotion (TASK A)  |\n",
    "|  1     | High Level Activity |\n",
    "|  2     | Low Level Left Arm  |\n",
    "|  3     | Low Level Left Arm Object  |\n",
    "|  4     | Low Level Right Arm  |\n",
    "|  5     | Low Level Right Arm Object  |\n",
    "|  6     | Medium Level Both Arms (TASK B2) |\n",
    "\n",
    "- window_size: parameter that sets the length of temporal windows on which to perform the convolution;\n",
    "- stride: step length to chose the next window.\n",
    "\n",
    "The size of the temporal window seems to be fundamental in order to get a more specific and powerful model; of course the choice of the step lenght between consequent windows has to be consistent and to make sense. Thinking about a real-time situation, as long as we collect data we can use a sliding window of real-time samples; in this way, it is reasonable to use also a small value for the stride. Another important reason behind the choice of the value of the "
   ]
  },
  {
   "cell_type": "code",
   "execution_count": null,
   "metadata": {},
   "outputs": [],
   "source": [
    "subject = 1\n",
    "folder = \"./data/full/\"\n",
    "#folder = \"/floyd/input/hdadataset/full/\" # To be used with FloydHub\n",
    "label = 0     # default for task A\n",
    "window_size = 64\n",
    "stride = 3"
   ]
  },
  {
   "cell_type": "markdown",
   "metadata": {},
   "source": [
    "# Detection\n",
    "\n",
    "The following section consists on the first part of the structure; our idea is to treat separately the detection of the movement (i.e. the _null class_) and the movement classication itself.\n",
    "\n",
    "The steps that we take are the following: first we set all the labels different from 0 to 1, making the problem binary; then, we build a suitable network that can spot the movement."
   ]
  },
  {
   "cell_type": "code",
   "execution_count": null,
   "metadata": {},
   "outputs": [],
   "source": [
    "[x_train, y_train, x_test, y_test, n_classes] = utils.preprocessing(subject,\n",
    "                                                                    folder,\n",
    "                                                                    label,\n",
    "                                                                    window_size,\n",
    "                                                                    stride,\n",
    "                                                                    make_binary = True)"
   ]
  },
  {
   "cell_type": "code",
   "execution_count": null,
   "metadata": {},
   "outputs": [],
   "source": [
    "# plot of the labels distribution for this user (might be useful)\n",
    "\n",
    "sns.set(style=\"whitegrid\")\n",
    "\n",
    "fig = plt.figure()\n",
    "ax1 = fig.add_subplot(121)\n",
    "ax2 = fig.add_subplot(122)\n",
    "\n",
    "x_classes = ['Null Class','Other']\n",
    "y_values = np.sum(y_train, axis = 0)\n",
    "sns.barplot(x=x_classes, y=y_values, ax=ax1).set_title('Labels distribution - Training set')\n",
    "\n",
    "y_values = np.sum(y_test, axis = 0)\n",
    "sns.barplot(x=x_classes, y=y_values, ax=ax2).set_title('Labels distribution - Test set')"
   ]
  },
  {
   "cell_type": "markdown",
   "metadata": {},
   "source": [
    "### Model Definition"
   ]
  },
  {
   "cell_type": "code",
   "execution_count": null,
   "metadata": {},
   "outputs": [],
   "source": [
    "def MotionDetection(input_shape, classes, withSoftmax = True):\n",
    "    \n",
    "    model = Sequential()\n",
    "  \n",
    "    # Layer 0\n",
    "    model.add(BatchNormalization(input_shape = input_shape))\n",
    "\n",
    "    # Layer 1\n",
    "    model.add(Conv2D(filters = 50,\n",
    "                    kernel_size = (11,3),\n",
    "                    strides=(1,1),\n",
    "                    activation='relu'))\n",
    "    \n",
    "    # Layer 2\n",
    "    model.add(MaxPooling2D(pool_size=(2,1)))\n",
    "    \n",
    "    # Layer 3\n",
    "    # This layer dimension are automatically scanned in order to avoid updating by hand each time\n",
    "    model.add(Reshape((model.layers[2].output_shape[1],model.layers[2].output_shape[2] * model.layers[2].output_shape[3])))  \n",
    "\n",
    "    # Layer 4\n",
    "    model.add(LSTM(20,\n",
    "                  return_sequences=True))\n",
    "    \n",
    "    # Layer 5 \n",
    "    model.add(LSTM(20))\n",
    "   \n",
    "    # Layer 6\n",
    "    model.add(Dense(512,activation = 'relu'))\n",
    "    \n",
    "    if (withSoftmax):\n",
    "        # Layer 7\n",
    "        model.add(Dense(classes, activation = 'softmax'))\n",
    "    \n",
    "    return model"
   ]
  },
  {
   "cell_type": "markdown",
   "metadata": {},
   "source": [
    "### Model compilation and input reshaping"
   ]
  },
  {
   "cell_type": "code",
   "execution_count": null,
   "metadata": {},
   "outputs": [],
   "source": [
    "n_features = x_train.shape[2] #number of features taken into consideration for the solution of the problem\n",
    "n_classes = 2\n",
    "\n",
    "detection_model = MotionDetection((window_size,n_features,1), n_classes)\n",
    "detection_model.summary() # model visualization\n",
    "\n",
    "detection_model.compile(optimizer = Adam(lr=0.01), \n",
    "                   loss = \"categorical_crossentropy\", \n",
    "                   metrics = [\"accuracy\"])\n",
    "\n",
    "input_train = x_train.reshape(x_train.shape[0], window_size, n_features, 1)\n",
    "input_test = x_test.reshape(x_test.shape[0], window_size, n_features, 1)"
   ]
  },
  {
   "cell_type": "markdown",
   "metadata": {},
   "source": [
    "### Model fitting\n",
    "\n",
    "After the training procedure, the model will be saved on the local disk."
   ]
  },
  {
   "cell_type": "code",
   "execution_count": null,
   "metadata": {},
   "outputs": [],
   "source": [
    "detection_model.fit(x = input_train, \n",
    "               y = y_train, \n",
    "               epochs = 20, \n",
    "               batch_size = 300,\n",
    "               verbose = 1,\n",
    "               validation_data=(input_test, y_test))\n",
    "\n",
    "detection_model.save('./detection_model.h5')\n",
    "detection_model.save_weights('./detection_model_weights.h5')"
   ]
  },
  {
   "cell_type": "markdown",
   "metadata": {},
   "source": [
    "### Performance evaluation"
   ]
  },
  {
   "cell_type": "code",
   "execution_count": null,
   "metadata": {},
   "outputs": [],
   "source": [
    "output_test = detection_model.predict(input_test)\n",
    "prediction = np.argmax(output_test, axis=1)"
   ]
  },
  {
   "cell_type": "code",
   "execution_count": null,
   "metadata": {},
   "outputs": [],
   "source": [
    "cnf_matrix = utils.confusion_matrix(np.argmax(y_test, axis=1), prediction)\n",
    "np.set_printoptions(precision=2)\n",
    "\n",
    "sns.set_style(\"dark\")\n",
    "plt.figure()\n",
    "utils.plot_confusion_matrix(cnf_matrix, classes=[0,1],\n",
    "                      title='Confusion matrix, without normalization')"
   ]
  },
  {
   "cell_type": "markdown",
   "metadata": {},
   "source": [
    "# Classification\n",
    "\n",
    "After the _detection_ step we import and preprocess again the dataset, this time excluding all the samples associated to the _null class_; in this way we could build a neural network cleaned of the null class and that can distinguish better the difference between motions."
   ]
  },
  {
   "cell_type": "code",
   "execution_count": null,
   "metadata": {
    "scrolled": true
   },
   "outputs": [],
   "source": [
    "[x_train, y_train, x_test, y_test, n_classes] = utils.preprocessing(subject,\n",
    "                                                                    folder,\n",
    "                                                                    label,\n",
    "                                                                    window_size,\n",
    "                                                                    stride,\n",
    "                                                                    null_class = False)"
   ]
  },
  {
   "cell_type": "code",
   "execution_count": null,
   "metadata": {},
   "outputs": [],
   "source": [
    "# plot of the labels distribution for this user (might be useful)\n",
    "\n",
    "sns.set(style=\"whitegrid\")\n",
    "\n",
    "fig = plt.figure()\n",
    "ax1 = fig.add_subplot(121)\n",
    "ax2 = fig.add_subplot(122)\n",
    "\n",
    "x_classes = ['Stand','Walk','Sit','Lie']\n",
    "y_values = np.sum(y_train, axis = 0)\n",
    "sns.barplot(x=x_classes, y=y_values, ax=ax1).set_title('Labels distribution - Training set')\n",
    "\n",
    "y_values = np.sum(y_test, axis = 0)\n",
    "sns.barplot(x=x_classes, y=y_values, ax=ax2).set_title('Labels distribution - Test set')"
   ]
  },
  {
   "cell_type": "markdown",
   "metadata": {},
   "source": [
    "### Model definition, compilation and input reshaping"
   ]
  },
  {
   "cell_type": "code",
   "execution_count": null,
   "metadata": {},
   "outputs": [],
   "source": [
    "n_features = x_train.shape[2] #number of features taken into consideration for the solution of the problem\n",
    "n_classes = 4\n",
    "\n",
    "classification_model = deeplearning.Hybrid((window_size,n_features,1), n_classes)\n",
    "classification_model.summary() # model visualization\n",
    "\n",
    "classification_model.compile(optimizer = Adam(lr=0.01), \n",
    "                   loss = \"categorical_crossentropy\", \n",
    "                   metrics = [\"accuracy\"])\n",
    "\n",
    "input_train = x_train.reshape(x_train.shape[0], window_size, n_features, 1)\n",
    "input_test = x_test.reshape(x_test.shape[0], window_size, n_features, 1)"
   ]
  },
  {
   "cell_type": "markdown",
   "metadata": {},
   "source": [
    "### Model fitting\n",
    "\n",
    "After the training procedure, the model will be saved on disk"
   ]
  },
  {
   "cell_type": "code",
   "execution_count": null,
   "metadata": {},
   "outputs": [],
   "source": [
    "classification_model.fit(x = input_train, \n",
    "               y = y_train, \n",
    "               epochs = 20, \n",
    "               batch_size = 300,\n",
    "               verbose = 1,\n",
    "               validation_data=(input_test, y_test))\n",
    "\n",
    "classification_model.save('./detection_model.h5')\n",
    "classification_model.save_weights('./detection_model_weights.h5')"
   ]
  },
  {
   "cell_type": "code",
   "execution_count": null,
   "metadata": {},
   "outputs": [],
   "source": [
    "output_test = classification_model.predict(input_test)\n",
    "prediction = np.argmax(output_test, axis=1)\n",
    "\n",
    "cnf_matrix = utils.confusion_matrix(y_test, prediction)\n",
    "np.set_printoptions(precision=2)\n",
    "\n",
    "sns.set_style(\"dark\")\n",
    "plt.figure()\n",
    "utils.plot_confusion_matrix(cnf_matrix, classes=[1,2,4,5],\n",
    "                      title='Confusion matrix, without normalization')"
   ]
  }
 ],
 "metadata": {
  "kernelspec": {
   "display_name": "Python 3",
   "language": "python",
   "name": "python3"
  },
  "language_info": {
   "codemirror_mode": {
    "name": "ipython",
    "version": 3
   },
   "file_extension": ".py",
   "mimetype": "text/x-python",
   "name": "python",
   "nbconvert_exporter": "python",
   "pygments_lexer": "ipython3",
   "version": "3.6.4"
  }
 },
 "nbformat": 4,
 "nbformat_minor": 2
}
