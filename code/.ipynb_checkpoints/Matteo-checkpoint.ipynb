{
 "cells": [
  {
   "cell_type": "markdown",
   "metadata": {},
   "source": [
    "# HDA - Project 3\n",
    "\n",
    "This first cell contains the hyper-parameters that can be tuned for code execution:\n",
    "- subject: select the subject on which to test the model, between [1,4];\n",
    "- folder: directory name where '.mat' files are stored;\n",
    "- label_col: column of features to be selected to perform activity detection, between [0,6];\n",
    "- window_size: parameter that sets the length of temporal windows on which to perform the convolution;\n",
    "- stride: step length to chose the next window."
   ]
  },
  {
   "cell_type": "code",
   "execution_count": 1,
   "metadata": {},
   "outputs": [
    {
     "name": "stderr",
     "output_type": "stream",
     "text": [
      "Using TensorFlow backend.\n"
     ]
    }
   ],
   "source": [
    "import utils\n",
    "import numpy as np\n",
    "from sklearn.preprocessing import OneHotEncoder, StandardScaler\n",
    "import matplotlib.pyplot as plt\n",
    "from keras import regularizers\n",
    "from keras.activations import relu\n",
    "from keras.layers import Conv1D, Conv2D, BatchNormalization, Dropout, LeakyReLU, Flatten, Activation, Dense, MaxPooling1D, MaxPooling2D, LSTM, Reshape, TimeDistributed, Bidirectional\n",
    "from keras.models import Model, Sequential\n",
    "from keras.optimizers import Adam"
   ]
  },
  {
   "cell_type": "code",
   "execution_count": 2,
   "metadata": {},
   "outputs": [],
   "source": [
    "# parameters definition\n",
    "\n",
    "subject = 1\n",
    "folder = \"./data/full/\"\n",
    "label_col = 0     # default for task A\n",
    "window_size = 50\n",
    "stride = 50\n",
    "null_class = True\n",
    "\n",
    "if(null_class):\n",
    "    n_classes = 5\n",
    "    classes = [0,1,2,4,5]\n",
    "else:\n",
    "    n_classes = 4\n",
    "    classes = [1,2,4,5]"
   ]
  },
  {
   "cell_type": "markdown",
   "metadata": {},
   "source": [
    "# Section 1 - Loading and Preprocessing\n",
    "\n",
    "### Dataset Loading "
   ]
  },
  {
   "cell_type": "code",
   "execution_count": 3,
   "metadata": {
    "scrolled": true
   },
   "outputs": [
    {
     "name": "stdout",
     "output_type": "stream",
     "text": [
      "\n",
      "Session shapes:\n",
      "ADL1:   (45810, 110)\n",
      "ADL2:   (28996, 110)\n",
      "ADL3:   (30167, 110)\n",
      "ADL4:   (30228, 110)\n",
      "ADL5:   (27308, 110)\n",
      "Drill:  (52152, 110)\n",
      "\n",
      "Training samples:  157125 \n",
      "Test samples:       57536 \n",
      "Features:             110\n",
      "\n",
      "Classes in training set:  5 \n",
      "Classes in test set:      5\n",
      "Training set:\n",
      "<class 'numpy.ndarray'> (3141, 50, 110) <class 'numpy.ndarray'> (3141, 5)\n",
      "\n",
      "Features have shape:  (3141, 50, 110) \n",
      "Labels have shape:    (3141, 5) \n",
      "Fraction of labels:   [0.10983763 0.4237504  0.27029608 0.17191977 0.02419612]\n",
      "\n",
      "Test set:\n",
      "<class 'numpy.ndarray'> (1149, 50, 110) <class 'numpy.ndarray'> (1149, 5)\n",
      "\n",
      "Features have shape:  (1149, 50, 110) \n",
      "Labels have shape:    (1149, 5) \n",
      "Fraction of labels:   [0.17928634 0.34290688 0.20104439 0.23846823 0.03829417]\n"
     ]
    }
   ],
   "source": [
    "# import all sessions for a subject\n",
    "(data1, data2, data3, data4, data5, data6) = utils.loadData(subject, folder=folder)\n",
    "\n",
    "# create training set and test set\n",
    "X_train = np.concatenate((data1['features_interp'],\\\n",
    "                          data2['features_interp'],\\\n",
    "                          data3['features_interp'],\\\n",
    "                          data6['features_interp']), axis=0)\n",
    "\n",
    "Y_train = np.concatenate((data1['labels_cut'][:,label_col],\\\n",
    "                          data2['labels_cut'][:,label_col],\\\n",
    "                          data3['labels_cut'][:,label_col],\\\n",
    "                          data6['labels_cut'][:,label_col]), axis=0)\n",
    "\n",
    "X_test = np.concatenate((data4['features_interp'],\\\n",
    "                         data5['features_interp']), axis=0)\n",
    "\n",
    "Y_test = np.concatenate((data4['labels_cut'][:,label_col],\\\n",
    "                         data5['labels_cut'][:,label_col]))\n",
    "\n",
    "features = X_test.shape[1]\n",
    "print(\"\\nTraining samples: \", X_train.shape[0],\\\n",
    "      \"\\nTest samples:      \", X_test.shape[0],\\\n",
    "      \"\\nFeatures:            \", features)\n",
    "\n",
    "# decision to overcome the problem of entire missing columns\n",
    "X_train = np.nan_to_num(X_train)\n",
    "X_test = np.nan_to_num(X_test)\n",
    "\n",
    "# features normalization\n",
    "scaler = StandardScaler().fit(X_train)\n",
    "X_train =scaler.transform(X_train)\n",
    "X_test = scaler.transform(X_test)\n",
    "\n",
    "# switch to one hot encoded labels\n",
    "onehot_encoder = OneHotEncoder(sparse=False)\n",
    "Y_train_oh = onehot_encoder.fit_transform(Y_train.reshape(-1, 1))\n",
    "Y_test_oh = onehot_encoder.fit_transform(Y_test.reshape(-1, 1))\n",
    "print(\"\\nClasses in training set: \", Y_train_oh.shape[1],\\\n",
    "      \"\\nClasses in test set:     \", Y_test_oh.shape[1])\n",
    "\n",
    "print(\"Training set:\")\n",
    "X_train_s, Y_train_s = utils.prepareData(X_train, Y_train_oh, window_size, stride, shuffle=False, null_class = null_class)\n",
    "print(\"\\nTest set:\")\n",
    "X_test_s, Y_test_s = utils.prepareData(X_test, Y_test_oh, window_size, stride, shuffle=False, null_class = null_class)\n",
    "# add bars plot"
   ]
  },
  {
   "cell_type": "markdown",
   "metadata": {},
   "source": [
    "# Test with Deep CNN and LSTM"
   ]
  },
  {
   "cell_type": "markdown",
   "metadata": {},
   "source": [
    "# Conv2D"
   ]
  },
  {
   "cell_type": "code",
   "execution_count": 37,
   "metadata": {},
   "outputs": [],
   "source": [
    "def ModelDeep2D(input_shape, classes):\n",
    "    \"\"\" \n",
    "    Arguments:\n",
    "    input_shape -- shape of the images of the dataset\n",
    "\n",
    "    Returns: \n",
    "    model -- a Model() instance in Keras\n",
    "    \"\"\"\n",
    "    \n",
    "    model = Sequential()\n",
    "\n",
    "    # 1st Convolutional Block \n",
    "    \n",
    "    model.add(Conv2D(filters = 1,\n",
    "                    kernel_size = (11,1),\n",
    "                    strides=(1,1),\n",
    "                    data_format='channels_first',\n",
    "                    padding='valid',\n",
    "                    input_shape = input_shape))\n",
    "    model.add(BatchNormalization())\n",
    "    model.add(LeakyReLU(alpha=0.1))\n",
    "    model.add(MaxPooling2D(pool_size=(2,1),\n",
    "                           data_format='channels_first',\n",
    "                          padding='valid'))\n",
    "    \n",
    "    model.add(Reshape((20,110)))\n",
    "    \n",
    "    model.add(LSTM(20,\n",
    "                  return_sequences=True))\n",
    "    \n",
    "    model.add(LSTM(20))\n",
    "    \n",
    "    model.add(Dropout(0.4))\n",
    "    \n",
    "    model.add(Dense(classes, activation = 'softmax'))\n",
    "    \n",
    "    model.summary()\n",
    "    \n",
    "    return model"
   ]
  },
  {
   "cell_type": "code",
   "execution_count": 38,
   "metadata": {},
   "outputs": [
    {
     "name": "stdout",
     "output_type": "stream",
     "text": [
      "_________________________________________________________________\n",
      "Layer (type)                 Output Shape              Param #   \n",
      "=================================================================\n",
      "conv2d_11 (Conv2D)           (None, 1, 40, 110)        12        \n",
      "_________________________________________________________________\n",
      "batch_normalization_11 (Batc (None, 1, 40, 110)        440       \n",
      "_________________________________________________________________\n",
      "leaky_re_lu_11 (LeakyReLU)   (None, 1, 40, 110)        0         \n",
      "_________________________________________________________________\n",
      "max_pooling2d_11 (MaxPooling (None, 1, 20, 110)        0         \n",
      "_________________________________________________________________\n",
      "reshape_9 (Reshape)          (None, 20, 110)           0         \n",
      "_________________________________________________________________\n",
      "lstm_16 (LSTM)               (None, 20, 20)            10480     \n",
      "_________________________________________________________________\n",
      "lstm_17 (LSTM)               (None, 20)                3280      \n",
      "_________________________________________________________________\n",
      "dropout_2 (Dropout)          (None, 20)                0         \n",
      "_________________________________________________________________\n",
      "dense_8 (Dense)              (None, 5)                 105       \n",
      "=================================================================\n",
      "Total params: 14,317\n",
      "Trainable params: 14,097\n",
      "Non-trainable params: 220\n",
      "_________________________________________________________________\n"
     ]
    }
   ],
   "source": [
    "model_temp = ModelDeep2D((window_size,features,1), n_classes)"
   ]
  },
  {
   "cell_type": "code",
   "execution_count": 39,
   "metadata": {},
   "outputs": [],
   "source": [
    "opt4 = Adam(lr=0.01)\n",
    "model_temp.compile(optimizer = opt4, loss = \"categorical_crossentropy\", metrics = [\"accuracy\"])\n",
    "\n",
    "# need to reshape in order to fit to the new 2D model\n",
    "X_train = X_train_s.reshape(X_train_s.shape[0], window_size, features, 1)\n",
    "X_test = X_test_s.reshape(X_test_s.shape[0], window_size, features, 1)"
   ]
  },
  {
   "cell_type": "code",
   "execution_count": 42,
   "metadata": {},
   "outputs": [
    {
     "name": "stdout",
     "output_type": "stream",
     "text": [
      "Train on 3141 samples, validate on 1149 samples\n",
      "Epoch 1/15\n",
      "3141/3141 [==============================] - 14s 5ms/step - loss: 0.2159 - acc: 0.9271 - val_loss: 0.3126 - val_acc: 0.8938\n",
      "Epoch 2/15\n",
      "3141/3141 [==============================] - 14s 4ms/step - loss: 0.1983 - acc: 0.9322 - val_loss: 0.4109 - val_acc: 0.8677\n",
      "Epoch 3/15\n",
      "3141/3141 [==============================] - 14s 4ms/step - loss: 0.2066 - acc: 0.9316 - val_loss: 0.3715 - val_acc: 0.8860\n",
      "Epoch 4/15\n",
      "3141/3141 [==============================] - 14s 4ms/step - loss: 0.2203 - acc: 0.9239 - val_loss: 0.3943 - val_acc: 0.8721\n",
      "Epoch 5/15\n",
      "3141/3141 [==============================] - 14s 4ms/step - loss: 0.1890 - acc: 0.9312 - val_loss: 0.3734 - val_acc: 0.8825\n",
      "Epoch 6/15\n",
      "3141/3141 [==============================] - 14s 5ms/step - loss: 0.1969 - acc: 0.9296 - val_loss: 0.3660 - val_acc: 0.8938\n",
      "Epoch 7/15\n",
      "3141/3141 [==============================] - 13s 4ms/step - loss: 0.1896 - acc: 0.9389 - val_loss: 0.3824 - val_acc: 0.8782\n",
      "Epoch 8/15\n",
      "3141/3141 [==============================] - 14s 4ms/step - loss: 0.1901 - acc: 0.9331 - val_loss: 0.4201 - val_acc: 0.8773\n",
      "Epoch 9/15\n",
      "3141/3141 [==============================] - 13s 4ms/step - loss: 0.1996 - acc: 0.9268 - val_loss: 0.4716 - val_acc: 0.8590\n",
      "Epoch 10/15\n",
      "3141/3141 [==============================] - 14s 5ms/step - loss: 0.1701 - acc: 0.9427 - val_loss: 0.4642 - val_acc: 0.8755\n",
      "Epoch 11/15\n",
      "3141/3141 [==============================] - 14s 5ms/step - loss: 0.1831 - acc: 0.9347 - val_loss: 0.3933 - val_acc: 0.8851\n",
      "Epoch 12/15\n",
      "3141/3141 [==============================] - 14s 4ms/step - loss: 0.1713 - acc: 0.9427 - val_loss: 0.4186 - val_acc: 0.8782\n",
      "Epoch 13/15\n",
      "3141/3141 [==============================] - 14s 5ms/step - loss: 0.1562 - acc: 0.9462 - val_loss: 0.5194 - val_acc: 0.8616\n",
      "Epoch 14/15\n",
      "3141/3141 [==============================] - 14s 4ms/step - loss: 0.1767 - acc: 0.9376 - val_loss: 0.4565 - val_acc: 0.8651\n",
      "Epoch 15/15\n",
      "3141/3141 [==============================] - 14s 4ms/step - loss: 0.1375 - acc: 0.9522 - val_loss: 0.4533 - val_acc: 0.8825\n"
     ]
    },
    {
     "data": {
      "text/plain": [
       "<keras.callbacks.History at 0x245d7daec88>"
      ]
     },
     "execution_count": 42,
     "metadata": {},
     "output_type": "execute_result"
    }
   ],
   "source": [
    "model_temp.fit(x = X_train, y = Y_train_s, epochs = 15, batch_size = 30, validation_data=(X_test, Y_test_s))"
   ]
  },
  {
   "cell_type": "code",
   "execution_count": 43,
   "metadata": {},
   "outputs": [
    {
     "name": "stdout",
     "output_type": "stream",
     "text": [
      "F1-measure:  0.8809012563976288\n",
      "AUC w.r. to each class:  {0: 0.9713036271350473, 1: 0.9797357716744545, 2: 0.9547812390949646, 3: 0.9998873826903023, 4: 0.9867441382147264}\n"
     ]
    },
    {
     "data": {
      "image/png": "[encoded data removed]",
      "text/plain": [
       "<matplotlib.figure.Figure at 0x245dbad56d8>"
      ]
     },
     "metadata": {},
     "output_type": "display_data"
    }
   ],
   "source": [
    "Y_pred_s = model_temp.predict(X_test)\n",
    "\n",
    "# print results\n",
    "#reverse the one-ot encoder procedure\n",
    "Y_test_hard = np.argmax(Y_test_s, axis=1)\n",
    "Y_pred_hard = np.argmax(Y_pred_s, axis=1)\n",
    "\n",
    "print(\"F1-measure: \", utils.f1_score(Y_test_hard, Y_pred_hard, average='weighted'))\n",
    "print(\"AUC w.r. to each class: \", utils.AUC(Y_test_s, Y_pred_s, 5))\n",
    "\n",
    "# Compute and plot confusion matrix\n",
    "cnf_matrix = utils.confusion_matrix(Y_test_hard, Y_pred_hard)\n",
    "np.set_printoptions(precision=2)\n",
    "\n",
    "plt.figure()\n",
    "utils.plot_confusion_matrix(cnf_matrix, classes=classes,\n",
    "                      title='Confusion matrix, without normalization')"
   ]
  },
  {
   "cell_type": "code",
   "execution_count": null,
   "metadata": {},
   "outputs": [],
   "source": []
  }
 ],
 "metadata": {
  "kernelspec": {
   "display_name": "Python 3",
   "language": "python",
   "name": "python3"
  },
  "language_info": {
   "codemirror_mode": {
    "name": "ipython",
    "version": 3
   },
   "file_extension": ".py",
   "mimetype": "text/x-python",
   "name": "python",
   "nbconvert_exporter": "python",
   "pygments_lexer": "ipython3",
   "version": "3.6.4"
  }
 },
 "nbformat": 4,
 "nbformat_minor": 2
}
