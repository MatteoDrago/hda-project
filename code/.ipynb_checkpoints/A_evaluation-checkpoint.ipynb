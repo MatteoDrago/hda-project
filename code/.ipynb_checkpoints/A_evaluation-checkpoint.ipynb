{
 "cells": [
  {
   "cell_type": "markdown",
   "metadata": {},
   "source": [
    "# HDA - Project 3"
   ]
  },
  {
   "cell_type": "code",
   "execution_count": 14,
   "metadata": {},
   "outputs": [],
   "source": [
    "import utils\n",
    "import deeplearning\n",
    "import numpy as np\n",
    "import time\n",
    "\n",
    "import matplotlib.pyplot as plt\n",
    "import seaborn as sns \n",
    "\n",
    "from sklearn.svm import LinearSVC\n",
    "from sklearn.metrics import accuracy_score\n",
    "\n",
    "from keras import regularizers\n",
    "from keras.activations import relu\n",
    "from keras.layers import Conv2D, BatchNormalization, Dropout, LeakyReLU, Flatten, Activation, Dense, MaxPooling2D, LSTM, Reshape\n",
    "from keras.models import load_model, Model, Sequential\n",
    "from keras.optimizers import Adam"
   ]
  },
  {
   "cell_type": "markdown",
   "metadata": {},
   "source": [
    "The following cell contains the hyper-parameters that can be tuned for code execution:\n",
    "- subject: select the subject on which to test the model, between [1,4];\n",
    "- folder: directory name where '.mat' files are stored;\n",
    "- label_col: column of features to be selected to perform activity detection, between [0,6]:\n",
    "\n",
    "|  Label |  Feature |\n",
    "|:-:     |:-:|\n",
    "|  0     | Locomotion (TASK A)  |\n",
    "|  1     | High Level Activity |\n",
    "|  2     | Low Level Left Arm  |\n",
    "|  3     | Low Level Left Arm Object  |\n",
    "|  4     | Low Level Right Arm  |\n",
    "|  5     | Low Level Right Arm Object  |\n",
    "|  6     | Medium Level Both Arms (TASK B2) |\n",
    "\n",
    "- window_size: parameter that sets the length of temporal windows on which to perform the convolution;\n",
    "- stride: step length to chose the next window.\n",
    "\n",
    "The size of the temporal window seems to be fundamental in order to get a more specific and powerful model; of course the choice of the step lenght between consequent windows has to be consistent and to make sense. Thinking about a real-time situation, as long as we collect data we can use a sliding window of real-time samples; in this way, it is reasonable to use also a small value for the stride. Another important reason behind the choice of the value of the "
   ]
  },
  {
   "cell_type": "code",
   "execution_count": 15,
   "metadata": {},
   "outputs": [],
   "source": [
    "subject = 2\n",
    "folder = \"./data/full/\"\n",
    "#folder = \"/floyd/input/hdadataset/full/\" # To be used with FloydHub\n",
    "label = 0     # default for task A\n",
    "window_size = 64\n",
    "stride = 3"
   ]
  },
  {
   "cell_type": "markdown",
   "metadata": {},
   "source": [
    "Let's load the models: "
   ]
  },
  {
   "cell_type": "code",
   "execution_count": 16,
   "metadata": {},
   "outputs": [
    {
     "name": "stdout",
     "output_type": "stream",
     "text": [
      "Time to load the detection model: 10.124 s\n",
      "Time to load the classification model: 10.871 s\n"
     ]
    }
   ],
   "source": [
    "start = time.time()\n",
    "detection_model = load_model('./data/detection_model_A.h5')\n",
    "end = time.time()\n",
    "print(\"Time to load the detection model: %.3f s\" % (end - start))\n",
    "\n",
    "start = time.time()\n",
    "classification_model = load_model('./data/classification_model_A.h5')\n",
    "end = time.time()\n",
    "print(\"Time to load the classification model: %.3f s\" % (end - start))"
   ]
  },
  {
   "cell_type": "markdown",
   "metadata": {},
   "source": [
    "# USER 1\n",
    "### Detection"
   ]
  },
  {
   "cell_type": "code",
   "execution_count": 17,
   "metadata": {},
   "outputs": [
    {
     "name": "stdout",
     "output_type": "stream",
     "text": [
      "Training samples:  157125 \n",
      "Test samples:       57536 \n",
      "Features:             110\n",
      "TRAINING SET:\n",
      "Dataset of Images have shape:  (52354, 64, 110) \n",
      "Dataset of Labels have shape:    (52354, 2) \n",
      "Fraction of labels:   [0.10986744 0.89013256]\n",
      "TEST SET:\n",
      "Dataset of Images have shape:  (19157, 64, 110) \n",
      "Dataset of Labels have shape:    (19157, 2) \n",
      "Fraction of labels:   [0.17737642 0.82262358]\n"
     ]
    }
   ],
   "source": [
    "[x_train, y_train, x_test, y_test, n_classes] = utils.preprocessing(1,\n",
    "                                                                    folder,\n",
    "                                                                    label,\n",
    "                                                                    window_size,\n",
    "                                                                    stride,\n",
    "                                                                    make_binary = True)"
   ]
  },
  {
   "cell_type": "code",
   "execution_count": 18,
   "metadata": {},
   "outputs": [
    {
     "name": "stdout",
     "output_type": "stream",
     "text": [
      "Time to evaluate predictions: 193.143\n"
     ]
    }
   ],
   "source": [
    "n_features = x_train.shape[2] #number of features taken into consideration for the solution of the problem\n",
    "n_classes = 2\n",
    "\n",
    "input_test = x_test.reshape(x_test.shape[0], window_size, n_features, 1)\n",
    "\n",
    "start = time.time()\n",
    "output_test = detection_model.predict(input_test)\n",
    "end = time.time()\n",
    "print(\"Time to evaluate predictions: %.3f\" % (end - start))\n",
    "\n",
    "prediction = np.argmax(output_test, axis=1)"
   ]
  },
  {
   "cell_type": "code",
   "execution_count": 19,
   "metadata": {},
   "outputs": [
    {
     "name": "stdout",
     "output_type": "stream",
     "text": [
      "Accuracy:  0.9232656470219763\n",
      "F1-measure:  0.915635003127542\n"
     ]
    },
    {
     "data": {
      "image/png": "[encoded data removed]",
      "text/plain": [
       "<matplotlib.figure.Figure at 0x1b4b392bfd0>"
      ]
     },
     "metadata": {},
     "output_type": "display_data"
    }
   ],
   "source": [
    "print(\"Accuracy: \", accuracy_score(np.argmax(y_test, axis=1), prediction))\n",
    "print(\"F1-measure: \", utils.f1_score(np.argmax(y_test, axis=1), prediction, average='weighted'))\n",
    "\n",
    "cnf_matrix = utils.confusion_matrix(np.argmax(y_test, axis=1), prediction)\n",
    "np.set_printoptions(precision=2)\n",
    "\n",
    "sns.set_style(\"dark\")\n",
    "plt.figure()\n",
    "utils.plot_confusion_matrix(cnf_matrix, classes=[0,1],\n",
    "                      title='Confusion matrix, without normalization')"
   ]
  },
  {
   "cell_type": "markdown",
   "metadata": {},
   "source": [
    "### Classification"
   ]
  },
  {
   "cell_type": "code",
   "execution_count": null,
   "metadata": {},
   "outputs": [
    {
     "name": "stdout",
     "output_type": "stream",
     "text": [
      "Training samples:  157125 \n",
      "Test samples:       57536 \n",
      "Features:             110\n",
      "TRAINING SET:\n",
      "Dataset of Images have shape:  (46601, 64, 110) \n",
      "Dataset of Labels have shape:    (46601, 4) \n",
      "Fraction of labels:   [0.47 0.31 0.19 0.03]\n",
      "TEST SET:\n",
      "Dataset of Images have shape:  (15758, 64, 110) \n",
      "Dataset of Labels have shape:    (15758, 4) \n",
      "Fraction of labels:   [0.42 0.25 0.29 0.05]\n"
     ]
    }
   ],
   "source": [
    "[x_train, y_train, x_test, y_test, n_classes] = utils.preprocessing(1,\n",
    "                                                                    folder,\n",
    "                                                                    label,\n",
    "                                                                    window_size,\n",
    "                                                                    stride,\n",
    "                                                                    null_class = False)"
   ]
  },
  {
   "cell_type": "code",
   "execution_count": null,
   "metadata": {
    "scrolled": true
   },
   "outputs": [],
   "source": [
    "n_features = x_train.shape[2] #number of features taken into consideration for the solution of the problem\n",
    "n_classes = 4\n",
    "\n",
    "input_test = x_test.reshape(x_test.shape[0], window_size, n_features, 1)\n",
    "\n",
    "start = time.time()\n",
    "output_test = classification_model.predict(input_test)\n",
    "end = time.time()\n",
    "print(\"Time to evaluate predictions: %.3f\" % (end - start))\n",
    "\n",
    "prediction = np.argmax(output_test, axis=1)"
   ]
  },
  {
   "cell_type": "code",
   "execution_count": null,
   "metadata": {},
   "outputs": [],
   "source": [
    "# Performances\n",
    "\n",
    "print(\"Accuracy: \", accuracy_score(np.argmax(y_test, axis=1), prediction))\n",
    "print(\"F1-measure: \", utils.f1_score(np.argmax(y_test, axis=1), prediction, average='weighted'))\n",
    "\n",
    "cnf_matrix = utils.confusion_matrix(np.argmax(y_test, axis=1), prediction)\n",
    "np.set_printoptions(precision=2)\n",
    "\n",
    "sns.set_style(\"dark\")\n",
    "plt.figure()\n",
    "utils.plot_confusion_matrix(cnf_matrix, classes=[1,2,4,5],\n",
    "                      title='Confusion matrix, without normalization')"
   ]
  },
  {
   "cell_type": "code",
   "execution_count": null,
   "metadata": {},
   "outputs": [],
   "source": [
    "# SVM Feature Extraction\n",
    "\n",
    "[trainingFeatures, testingFeatures] = deeplearning.extractFeatures(classification_model,\n",
    "                                                                   input_train,\n",
    "                                                                   input_test,\n",
    "                                                                   classification_model.layers[-1].output_shape[1],\n",
    "                                                                   batchSize = 300)\n",
    "# SVM Prediction\n",
    "\n",
    "output_train = np.argmax(y_train, axis=1)\n",
    "prediction_svm = deeplearning.SVMLayer(C,\n",
    "                                        output_train,\n",
    "                                        trainingFeatures,\n",
    "                                        testingFeatures) "
   ]
  },
  {
   "cell_type": "code",
   "execution_count": null,
   "metadata": {},
   "outputs": [],
   "source": [
    "# Performances with SVM\n",
    "\n",
    "print(\"Accuracy with SVM: \", accuracy_score(np.argmax(y_test, axis=1), prediction_svm))\n",
    "print(\"F1-measure with SVM: \", utils.f1_score(np.argmax(y_test, axis=1), prediction_svm, average='weighted'))\n",
    "\n",
    "cnf_matrix = utils.confusion_matrix(np.argmax(y_test, axis=1), prediction-svm)\n",
    "np.set_printoptions(precision=2)\n",
    "\n",
    "sns.set_style(\"dark\")\n",
    "plt.figure()\n",
    "utils.plot_confusion_matrix(cnf_matrix, classes=[1,2,4,5],\n",
    "                      title='Confusion matrix, without normalization')"
   ]
  },
  {
   "cell_type": "markdown",
   "metadata": {},
   "source": [
    "# USER 2"
   ]
  },
  {
   "cell_type": "code",
   "execution_count": null,
   "metadata": {},
   "outputs": [],
   "source": [
    "# Detection\n",
    "\n",
    "[x_train, y_train, x_test, y_test, n_classes] = utils.preprocessing(2,\n",
    "                                                                    folder,\n",
    "                                                                    label,\n",
    "                                                                    window_size,\n",
    "                                                                    stride,\n",
    "                                                                    make_binary = True)\n",
    "\n",
    "n_features = x_train.shape[2] #number of features taken into consideration for the solution of the problem\n",
    "n_classes = 2\n",
    "\n",
    "input_test = x_test.reshape(x_test.shape[0], window_size, n_features, 1)\n",
    "\n",
    "start = time.time()\n",
    "output_test = detection_model.predict(input_test)\n",
    "end = time.time()\n",
    "print(\"Time to evaluate predictions: %.3f\" % (end - start))\n",
    "\n",
    "prediction = np.argmax(output_test, axis=1)\n",
    "\n",
    "print(\"Accuracy: \", accuracy_score(np.argmax(y_test, axis=1), prediction))\n",
    "print(\"F1-measure: \", utils.f1_score(np.argmax(y_test, axis=1), prediction, average='weighted'))\n",
    "\n",
    "cnf_matrix = utils.confusion_matrix(np.argmax(y_test, axis=1), prediction)\n",
    "np.set_printoptions(precision=2)\n",
    "\n",
    "sns.set_style(\"dark\")\n",
    "plt.figure()\n",
    "utils.plot_confusion_matrix(cnf_matrix, classes=[0,1],\n",
    "                      title='Confusion matrix, without normalization')"
   ]
  },
  {
   "cell_type": "code",
   "execution_count": null,
   "metadata": {},
   "outputs": [],
   "source": [
    "# Classification\n",
    "\n",
    "[x_train, y_train, x_test, y_test, n_classes] = utils.preprocessing(2,\n",
    "                                                                    folder,\n",
    "                                                                    label,\n",
    "                                                                    window_size,\n",
    "                                                                    stride,\n",
    "                                                                    null_class = False)\n",
    "\n",
    "n_features = x_train.shape[2] #number of features taken into consideration for the solution of the problem\n",
    "n_classes = 4\n",
    "\n",
    "input_test = x_test.reshape(x_test.shape[0], window_size, n_features, 1)\n",
    "\n",
    "start = time.time()\n",
    "output_test = classification_model.predict(input_test)\n",
    "end = time.time()\n",
    "print(\"Time to evaluate predictions: %.3f\" % (end - start))\n",
    "\n",
    "prediction = np.argmax(output_test, axis=1)\n",
    "\n",
    "print(\"Accuracy: \", accuracy_score(np.argmax(y_test, axis=1), prediction))\n",
    "print(\"F1-measure: \", utils.f1_score(np.argmax(y_test, axis=1), prediction, average='weighted'))\n",
    "\n",
    "cnf_matrix = utils.confusion_matrix(np.argmax(y_test, axis=1), prediction)\n",
    "np.set_printoptions(precision=2)\n",
    "\n",
    "sns.set_style(\"dark\")\n",
    "plt.figure()\n",
    "utils.plot_confusion_matrix(cnf_matrix, classes=[1,2,4,5],\n",
    "                      title='Confusion matrix, without normalization')"
   ]
  },
  {
   "cell_type": "markdown",
   "metadata": {},
   "source": [
    "# USER 3"
   ]
  },
  {
   "cell_type": "code",
   "execution_count": null,
   "metadata": {},
   "outputs": [],
   "source": [
    "# Detection\n",
    "\n",
    "[x_train, y_train, x_test, y_test, n_classes] = utils.preprocessing(3,\n",
    "                                                                    folder,\n",
    "                                                                    label,\n",
    "                                                                    window_size,\n",
    "                                                                    stride,\n",
    "                                                                    make_binary = True)\n",
    "\n",
    "n_features = x_train.shape[2] #number of features taken into consideration for the solution of the problem\n",
    "n_classes = 2\n",
    "\n",
    "input_test = x_test.reshape(x_test.shape[0], window_size, n_features, 1)\n",
    "\n",
    "start = time.time()\n",
    "output_test = detection_model.predict(input_test)\n",
    "end = time.time()\n",
    "print(\"Time to evaluate predictions: %.3f\" % (end - start))\n",
    "\n",
    "prediction = np.argmax(output_test, axis=1)\n",
    "\n",
    "print(\"Accuracy: \", accuracy_score(np.argmax(y_test, axis=1), prediction))\n",
    "print(\"F1-measure: \", utils.f1_score(np.argmax(y_test, axis=1), prediction, average='weighted'))\n",
    "\n",
    "cnf_matrix = utils.confusion_matrix(np.argmax(y_test, axis=1), prediction)\n",
    "np.set_printoptions(precision=2)\n",
    "\n",
    "sns.set_style(\"dark\")\n",
    "plt.figure()\n",
    "utils.plot_confusion_matrix(cnf_matrix, classes=[0,1],\n",
    "                      title='Confusion matrix, without normalization')"
   ]
  },
  {
   "cell_type": "code",
   "execution_count": null,
   "metadata": {},
   "outputs": [],
   "source": [
    "# Classification\n",
    "\n",
    "[x_train, y_train, x_test, y_test, n_classes] = utils.preprocessing(3,\n",
    "                                                                    folder,\n",
    "                                                                    label,\n",
    "                                                                    window_size,\n",
    "                                                                    stride,\n",
    "                                                                    null_class = False)\n",
    "\n",
    "n_features = x_train.shape[2] #number of features taken into consideration for the solution of the problem\n",
    "n_classes = 4\n",
    "\n",
    "input_test = x_test.reshape(x_test.shape[0], window_size, n_features, 1)\n",
    "\n",
    "start = time.time()\n",
    "output_test = classification_model.predict(input_test)\n",
    "end = time.time()\n",
    "print(\"Time to evaluate predictions: %.3f\" % (end - start))\n",
    "\n",
    "prediction = np.argmax(output_test, axis=1)\n",
    "\n",
    "print(\"Accuracy: \", accuracy_score(np.argmax(y_test, axis=1), prediction))\n",
    "print(\"F1-measure: \", utils.f1_score(np.argmax(y_test, axis=1), prediction, average='weighted'))\n",
    "\n",
    "cnf_matrix = utils.confusion_matrix(np.argmax(y_test, axis=1), prediction)\n",
    "np.set_printoptions(precision=2)\n",
    "\n",
    "sns.set_style(\"dark\")\n",
    "plt.figure()\n",
    "utils.plot_confusion_matrix(cnf_matrix, classes=[1,2,4,5],\n",
    "                      title='Confusion matrix, without normalization')"
   ]
  },
  {
   "cell_type": "markdown",
   "metadata": {},
   "source": [
    "# USER 4"
   ]
  },
  {
   "cell_type": "code",
   "execution_count": null,
   "metadata": {},
   "outputs": [],
   "source": [
    "# Detection\n",
    "\n",
    "[x_train, y_train, x_test, y_test, n_classes] = utils.preprocessing(4,\n",
    "                                                                    folder,\n",
    "                                                                    label,\n",
    "                                                                    window_size,\n",
    "                                                                    stride,\n",
    "                                                                    make_binary = True)\n",
    "\n",
    "n_features = x_train.shape[2] #number of features taken into consideration for the solution of the problem\n",
    "n_classes = 2\n",
    "\n",
    "input_test = x_test.reshape(x_test.shape[0], window_size, n_features, 1)\n",
    "\n",
    "start = time.time()\n",
    "output_test = detection_model.predict(input_test)\n",
    "end = time.time()\n",
    "print(\"Time to evaluate predictions: %.3f\" % (end - start))\n",
    "\n",
    "prediction = np.argmax(output_test, axis=1)\n",
    "\n",
    "print(\"Accuracy: \", accuracy_score(np.argmax(y_test, axis=1), prediction))\n",
    "print(\"F1-measure: \", utils.f1_score(np.argmax(y_test, axis=1), prediction, average='weighted'))\n",
    "\n",
    "cnf_matrix = utils.confusion_matrix(np.argmax(y_test, axis=1), prediction)\n",
    "np.set_printoptions(precision=2)\n",
    "\n",
    "sns.set_style(\"dark\")\n",
    "plt.figure()\n",
    "utils.plot_confusion_matrix(cnf_matrix, classes=[0,1],\n",
    "                      title='Confusion matrix, without normalization')"
   ]
  },
  {
   "cell_type": "code",
   "execution_count": null,
   "metadata": {},
   "outputs": [],
   "source": [
    "# Classification\n",
    "\n",
    "[x_train, y_train, x_test, y_test, n_classes] = utils.preprocessing(4,\n",
    "                                                                    folder,\n",
    "                                                                    label,\n",
    "                                                                    window_size,\n",
    "                                                                    stride,\n",
    "                                                                    null_class = False)\n",
    "\n",
    "n_features = x_train.shape[2] #number of features taken into consideration for the solution of the problem\n",
    "n_classes = 4\n",
    "\n",
    "input_test = x_test.reshape(x_test.shape[0], window_size, n_features, 1)\n",
    "\n",
    "start = time.time()\n",
    "output_test = classification_model.predict(input_test)\n",
    "end = time.time()\n",
    "print(\"Time to evaluate predictions: %.3f\" % (end - start))\n",
    "\n",
    "prediction = np.argmax(output_test, axis=1)\n",
    "\n",
    "print(\"Accuracy: \", accuracy_score(np.argmax(y_test, axis=1), prediction))\n",
    "print(\"F1-measure: \", utils.f1_score(np.argmax(y_test, axis=1), prediction, average='weighted'))\n",
    "\n",
    "cnf_matrix = utils.confusion_matrix(np.argmax(y_test, axis=1), prediction)\n",
    "np.set_printoptions(precision=2)\n",
    "\n",
    "sns.set_style(\"dark\")\n",
    "plt.figure()\n",
    "utils.plot_confusion_matrix(cnf_matrix, classes=[1,2,4,5],\n",
    "                      title='Confusion matrix, without normalization')"
   ]
  }
 ],
 "metadata": {
  "kernelspec": {
   "display_name": "Python 3",
   "language": "python",
   "name": "python3"
  },
  "language_info": {
   "codemirror_mode": {
    "name": "ipython",
    "version": 3
   },
   "file_extension": ".py",
   "mimetype": "text/x-python",
   "name": "python",
   "nbconvert_exporter": "python",
   "pygments_lexer": "ipython3",
   "version": "3.6.4"
  }
 },
 "nbformat": 4,
 "nbformat_minor": 2
}
