{
 "cells": [
  {
   "cell_type": "markdown",
   "metadata": {},
   "source": [
    "# HDA - Project 3\n",
    "## TASK B1: Activity detection\n",
    "This task consists of a binary classification, where a gesture denotes activity and thus the model detects wheter there is a gesture label or not (labeled in column 6).\n",
    "\n",
    "This first cell contains the parameters that can be tuned for code execution:\n",
    "- subject: select the subject on which to test the model, between [1,4];\n",
    "- folder: directory name where '.mat' files are stored;\n",
    "- label_col: index of feature column to be selected to perform activity detection, between [0,6];\n",
    "- window_size: parameter that sets the length of temporal windows on which to perform the convolution;\n",
    "- stride: step length to chose the next window."
   ]
  },
  {
   "cell_type": "code",
   "execution_count": 1,
   "metadata": {},
   "outputs": [],
   "source": [
    "subject = 1\n",
    "folder = \"./data/full/\"\n",
    "label = 0     # default for task B1\n",
    "window_size = 15\n",
    "stride = 5\n",
    "# make_binary = True"
   ]
  },
  {
   "cell_type": "code",
   "execution_count": 2,
   "metadata": {},
   "outputs": [
    {
     "name": "stderr",
     "output_type": "stream",
     "text": [
      "Using TensorFlow backend.\n"
     ]
    }
   ],
   "source": [
    "import utils\n",
    "import deeplearning\n",
    "import numpy as np\n",
    "from sklearn.preprocessing import OneHotEncoder, StandardScaler\n",
    "from sklearn.metrics import classification_report\n",
    "import matplotlib.pyplot as plt\n",
    "from keras.optimizers import Adam\n",
    "from keras.utils import to_categorical"
   ]
  },
  {
   "cell_type": "markdown",
   "metadata": {},
   "source": [
    "Creation of training set and test set"
   ]
  },
  {
   "cell_type": "code",
   "execution_count": 3,
   "metadata": {},
   "outputs": [
    {
     "name": "stdout",
     "output_type": "stream",
     "text": [
      "Training samples:  157125 \n",
      "Test samples:       57536 \n",
      "Features:             110\n",
      "\n",
      "TRAINING SET:\n",
      "Dataset of Images have shape:  (31422, 15, 110) \n",
      "Dataset of Labels have shape:    (31422, 2) \n",
      "Fraction of labels:   [0.11036853 0.88963147]\n",
      "\n",
      "TEST SET:\n",
      "Dataset of Images have shape:  (11504, 15, 110) \n",
      "Dataset of Labels have shape:    (11504, 2) \n",
      "Fraction of labels:   [0.1772427 0.8227573]\n"
     ]
    }
   ],
   "source": [
    "[x_train, y_train, x_test, y_test, n_classes] = utils.preprocessing(subject,\n",
    "                                                                    folder,\n",
    "                                                                    label,\n",
    "                                                                    window_size,\n",
    "                                                                    stride,\n",
    "                                                                    printInfo = True,\n",
    "                                                                    make_binary = True)"
   ]
  },
  {
   "cell_type": "markdown",
   "metadata": {},
   "source": [
    "Preparation of data in a input-suitable form"
   ]
  },
  {
   "cell_type": "code",
   "execution_count": 4,
   "metadata": {},
   "outputs": [
    {
     "name": "stdout",
     "output_type": "stream",
     "text": [
      "_________________________________________________________________\n",
      "Layer (type)                 Output Shape              Param #   \n",
      "=================================================================\n",
      "batch_normalization_1 (Batch (None, 15, 110, 1)        4         \n",
      "_________________________________________________________________\n",
      "conv2d_1 (Conv2D)            (None, 5, 108, 50)        1700      \n",
      "_________________________________________________________________\n",
      "max_pooling2d_1 (MaxPooling2 (None, 2, 108, 50)        0         \n",
      "_________________________________________________________________\n",
      "reshape_1 (Reshape)          (None, 2, 5400)           0         \n",
      "_________________________________________________________________\n",
      "lstm_1 (LSTM)                (None, 2, 20)             433680    \n",
      "_________________________________________________________________\n",
      "lstm_2 (LSTM)                (None, 20)                3280      \n",
      "_________________________________________________________________\n",
      "dense_1 (Dense)              (None, 512)               10752     \n",
      "_________________________________________________________________\n",
      "dense_2 (Dense)              (None, 2)                 1026      \n",
      "=================================================================\n",
      "Total params: 450,442\n",
      "Trainable params: 450,440\n",
      "Non-trainable params: 2\n",
      "_________________________________________________________________\n"
     ]
    }
   ],
   "source": [
    "n_features = 110 #number of features taken into consideration for the solution of the problem\n",
    "n_classes = 2\n",
    "\n",
    "detection_model = deeplearning.MotionDetection((window_size,n_features,1), n_classes)\n",
    "detection_model.summary() # model visualization"
   ]
  },
  {
   "cell_type": "code",
   "execution_count": 5,
   "metadata": {},
   "outputs": [
    {
     "name": "stdout",
     "output_type": "stream",
     "text": [
      "Train on 31422 samples, validate on 11504 samples\n",
      "Epoch 1/20\n",
      "31422/31422 [==============================] - 9s 276us/step - loss: 0.2609 - acc: 0.9139 - val_loss: 0.2756 - val_acc: 0.9299\n",
      "Epoch 2/20\n",
      "31422/31422 [==============================] - 5s 150us/step - loss: 0.1656 - acc: 0.9561 - val_loss: 0.2212 - val_acc: 0.9413\n",
      "Epoch 3/20\n",
      "31422/31422 [==============================] - 5s 153us/step - loss: 0.1512 - acc: 0.9602 - val_loss: 0.2403 - val_acc: 0.9454\n",
      "Epoch 4/20\n",
      "31422/31422 [==============================] - 5s 150us/step - loss: 0.1280 - acc: 0.9680 - val_loss: 0.1965 - val_acc: 0.9429\n",
      "Epoch 5/20\n",
      "31422/31422 [==============================] - 5s 150us/step - loss: 0.1181 - acc: 0.9672 - val_loss: 0.1939 - val_acc: 0.9491\n",
      "Epoch 6/20\n",
      "31422/31422 [==============================] - 5s 149us/step - loss: 0.1192 - acc: 0.9704 - val_loss: 0.1773 - val_acc: 0.9409\n",
      "Epoch 7/20\n",
      "31422/31422 [==============================] - 5s 149us/step - loss: 0.1080 - acc: 0.9733 - val_loss: 0.1538 - val_acc: 0.9558\n",
      "Epoch 8/20\n",
      "31422/31422 [==============================] - 5s 149us/step - loss: 0.1018 - acc: 0.9750 - val_loss: 0.1745 - val_acc: 0.9463\n",
      "Epoch 9/20\n",
      "31422/31422 [==============================] - 5s 149us/step - loss: 0.0927 - acc: 0.9758 - val_loss: 0.2041 - val_acc: 0.9357\n",
      "Epoch 10/20\n",
      "31422/31422 [==============================] - 5s 149us/step - loss: 0.0954 - acc: 0.9757 - val_loss: 0.1618 - val_acc: 0.9509\n",
      "Epoch 11/20\n",
      "31422/31422 [==============================] - 5s 149us/step - loss: 0.0942 - acc: 0.9768 - val_loss: 0.1902 - val_acc: 0.9398\n",
      "Epoch 12/20\n",
      "31422/31422 [==============================] - 5s 149us/step - loss: 0.0944 - acc: 0.9760 - val_loss: 0.1776 - val_acc: 0.9387\n",
      "Epoch 13/20\n",
      "31422/31422 [==============================] - 5s 149us/step - loss: 0.0913 - acc: 0.9767 - val_loss: 0.2121 - val_acc: 0.9353\n",
      "Epoch 14/20\n",
      "31422/31422 [==============================] - 5s 148us/step - loss: 0.0884 - acc: 0.9762 - val_loss: 0.1832 - val_acc: 0.9340\n",
      "Epoch 15/20\n",
      "31422/31422 [==============================] - 5s 149us/step - loss: 0.0896 - acc: 0.9768 - val_loss: 0.1761 - val_acc: 0.9381\n",
      "Epoch 16/20\n",
      "31422/31422 [==============================] - 5s 149us/step - loss: 0.0829 - acc: 0.9776 - val_loss: 0.1718 - val_acc: 0.9443\n",
      "Epoch 17/20\n",
      "31422/31422 [==============================] - 5s 151us/step - loss: 0.0762 - acc: 0.9809 - val_loss: 0.2298 - val_acc: 0.9406\n",
      "Epoch 18/20\n",
      "31422/31422 [==============================] - 5s 152us/step - loss: 0.0828 - acc: 0.9786 - val_loss: 0.2051 - val_acc: 0.9392\n",
      "Epoch 19/20\n",
      "31422/31422 [==============================] - 5s 150us/step - loss: 0.0820 - acc: 0.9796 - val_loss: 0.2008 - val_acc: 0.9478\n",
      "Epoch 20/20\n",
      "31422/31422 [==============================] - 5s 150us/step - loss: 0.0794 - acc: 0.9786 - val_loss: 0.2291 - val_acc: 0.9315\n"
     ]
    },
    {
     "data": {
      "text/plain": [
       "<keras.callbacks.History at 0x1398f64ef60>"
      ]
     },
     "execution_count": 5,
     "metadata": {},
     "output_type": "execute_result"
    }
   ],
   "source": [
    "detection_model.compile(optimizer = Adam(lr=0.01), \n",
    "                        loss = \"categorical_crossentropy\", \n",
    "                        metrics = [\"accuracy\"])\n",
    "\n",
    "input_train = x_train.reshape(x_train.shape[0], window_size, n_features, 1)\n",
    "input_test = x_test.reshape(x_test.shape[0], window_size, n_features, 1)\n",
    "\n",
    "detection_model.fit(x = input_train, \n",
    "                    y = y_train, \n",
    "                    epochs = 20, \n",
    "                    batch_size = 300,\n",
    "                    verbose = 1,\n",
    "                    validation_data=(input_test, y_test))"
   ]
  },
  {
   "cell_type": "code",
   "execution_count": 6,
   "metadata": {},
   "outputs": [
    {
     "name": "stdout",
     "output_type": "stream",
     "text": [
      "             precision    recall  f1-score   support\n",
      "\n",
      "          0       0.93      0.66      0.77      2039\n",
      "          1       0.93      0.99      0.96      9465\n",
      "\n",
      "avg / total       0.93      0.93      0.93     11504\n",
      "\n"
     ]
    }
   ],
   "source": [
    "y_pred = detection_model.predict(input_test)\n",
    "y_pred = np.argmax(y_pred, 1)\n",
    "\n",
    "print(classification_report(y_test, to_categorical(y_pred)))"
   ]
  },
  {
   "cell_type": "markdown",
   "metadata": {},
   "source": [
    "## Task B2: gesture recognition\n",
    "This task consists of a 17-class classification, where gestures are labeled in column 6.\n",
    "\n",
    "To tune the following parameters, refer to the first cell of task B1:\n",
    "- subject: select the subject on which to test the model, between [1,4];\n",
    "- folder: directory name where '.mat' files are stored;\n",
    "- label_col: index of feature column to be selected to perform activity detection, between [0,6];\n",
    "- window_size: parameter that sets the length of temporal windows on which to perform the convolution;\n",
    "- stride: step length to chose the next window.\n",
    "\n",
    "Here we just need to preserve the different labels, thus we set 'make_binary' to False. We have then 18 different labels, keeping into account the null class, with label 0."
   ]
  },
  {
   "cell_type": "code",
   "execution_count": 7,
   "metadata": {},
   "outputs": [
    {
     "name": "stdout",
     "output_type": "stream",
     "text": [
      "Training samples:  157125 \n",
      "Test samples:       57536 \n",
      "Features:             110\n",
      "\n",
      "TRAINING SET:\n",
      "Dataset of Images have shape:  (27948, 15, 110) \n",
      "Dataset of Labels have shape:    (27948, 4) \n",
      "Fraction of labels:   [0.47098182 0.30918134 0.19253614 0.0273007 ]\n",
      "\n",
      "TEST SET:\n",
      "Dataset of Images have shape:  (9465, 15, 110) \n",
      "Dataset of Labels have shape:    (9465, 4) \n",
      "Fraction of labels:   [0.41817221 0.24638141 0.28874802 0.04669836]\n"
     ]
    }
   ],
   "source": [
    "[x_train, y_train, x_test, y_test, n_classes] = utils.preprocessing(subject,\n",
    "                                                                    folder,\n",
    "                                                                    label,\n",
    "                                                                    window_size,\n",
    "                                                                    stride,\n",
    "                                                                    printInfo = True,\n",
    "                                                                    make_binary = False,\n",
    "                                                                    null_class = False)"
   ]
  },
  {
   "cell_type": "code",
   "execution_count": 13,
   "metadata": {},
   "outputs": [],
   "source": [
    "n_classes = 4 # OVERWRITE TO BE FIXED"
   ]
  },
  {
   "cell_type": "code",
   "execution_count": 14,
   "metadata": {},
   "outputs": [
    {
     "name": "stdout",
     "output_type": "stream",
     "text": [
      "_________________________________________________________________\n",
      "Layer (type)                 Output Shape              Param #   \n",
      "=================================================================\n",
      "batch_normalization_3 (Batch (None, 15, 110, 1)        4         \n",
      "_________________________________________________________________\n",
      "conv2d_3 (Conv2D)            (None, 5, 110, 50)        600       \n",
      "_________________________________________________________________\n",
      "max_pooling2d_3 (MaxPooling2 (None, 2, 110, 50)        0         \n",
      "_________________________________________________________________\n",
      "reshape_3 (Reshape)          (None, 2, 5500)           0         \n",
      "_________________________________________________________________\n",
      "lstm_5 (LSTM)                (None, 2, 300)            6961200   \n",
      "_________________________________________________________________\n",
      "lstm_6 (LSTM)                (None, 300)               721200    \n",
      "_________________________________________________________________\n",
      "dropout_3 (Dropout)          (None, 300)               0         \n",
      "_________________________________________________________________\n",
      "dense_5 (Dense)              (None, 512)               154112    \n",
      "_________________________________________________________________\n",
      "dropout_4 (Dropout)          (None, 512)               0         \n",
      "_________________________________________________________________\n",
      "dense_6 (Dense)              (None, 4)                 2052      \n",
      "=================================================================\n",
      "Total params: 7,839,168\n",
      "Trainable params: 7,839,166\n",
      "Non-trainable params: 2\n",
      "_________________________________________________________________\n"
     ]
    }
   ],
   "source": [
    "classification_model = deeplearning.MotionClassification((window_size,n_features,1), n_classes)\n",
    "classification_model.summary() # model visualization"
   ]
  },
  {
   "cell_type": "code",
   "execution_count": 16,
   "metadata": {},
   "outputs": [
    {
     "name": "stdout",
     "output_type": "stream",
     "text": [
      "Train on 27948 samples, validate on 9465 samples\n",
      "Epoch 1/20\n",
      "27948/27948 [==============================] - 14s 510us/step - loss: 0.3323 - acc: 0.8740 - val_loss: 0.2544 - val_acc: 0.9248\n",
      "Epoch 2/20\n",
      "27948/27948 [==============================] - 10s 341us/step - loss: 0.2129 - acc: 0.9155 - val_loss: 0.2954 - val_acc: 0.9301\n",
      "Epoch 3/20\n",
      "27948/27948 [==============================] - 10s 341us/step - loss: 0.2016 - acc: 0.9217 - val_loss: 0.2658 - val_acc: 0.9277\n",
      "Epoch 4/20\n",
      "27948/27948 [==============================] - 10s 341us/step - loss: 0.1947 - acc: 0.9241 - val_loss: 0.3243 - val_acc: 0.9230\n",
      "Epoch 5/20\n",
      "27948/27948 [==============================] - 10s 342us/step - loss: 0.1925 - acc: 0.9254 - val_loss: 0.2888 - val_acc: 0.9344\n",
      "Epoch 6/20\n",
      "27948/27948 [==============================] - 10s 341us/step - loss: 0.1787 - acc: 0.9316 - val_loss: 0.2533 - val_acc: 0.9351\n",
      "Epoch 7/20\n",
      "27948/27948 [==============================] - 10s 342us/step - loss: 0.1624 - acc: 0.9360 - val_loss: 0.2406 - val_acc: 0.9353\n",
      "Epoch 8/20\n",
      "27948/27948 [==============================] - 10s 341us/step - loss: 0.1569 - acc: 0.9385 - val_loss: 0.2377 - val_acc: 0.9250\n",
      "Epoch 9/20\n",
      "27948/27948 [==============================] - 10s 342us/step - loss: 0.1576 - acc: 0.9400 - val_loss: 0.1836 - val_acc: 0.9406\n",
      "Epoch 10/20\n",
      "27948/27948 [==============================] - 10s 343us/step - loss: 0.1468 - acc: 0.9432 - val_loss: 0.2044 - val_acc: 0.9424\n",
      "Epoch 11/20\n",
      "27948/27948 [==============================] - 10s 342us/step - loss: 0.1501 - acc: 0.9430 - val_loss: 0.1813 - val_acc: 0.9359\n",
      "Epoch 12/20\n",
      "27948/27948 [==============================] - 10s 343us/step - loss: 0.1402 - acc: 0.9464 - val_loss: 0.1950 - val_acc: 0.9370\n",
      "Epoch 13/20\n",
      "27948/27948 [==============================] - 10s 342us/step - loss: 0.1280 - acc: 0.9499 - val_loss: 0.1806 - val_acc: 0.9380\n",
      "Epoch 14/20\n",
      "27948/27948 [==============================] - 10s 342us/step - loss: 0.1301 - acc: 0.9492 - val_loss: 0.1886 - val_acc: 0.9423\n",
      "Epoch 15/20\n",
      "27948/27948 [==============================] - 10s 342us/step - loss: 0.1522 - acc: 0.9429 - val_loss: 0.2865 - val_acc: 0.9293\n",
      "Epoch 16/20\n",
      "27948/27948 [==============================] - 10s 342us/step - loss: 0.1392 - acc: 0.9464 - val_loss: 0.1906 - val_acc: 0.9357\n",
      "Epoch 17/20\n",
      "27948/27948 [==============================] - 10s 342us/step - loss: 0.1354 - acc: 0.9477 - val_loss: 0.2125 - val_acc: 0.9408\n",
      "Epoch 18/20\n",
      "27948/27948 [==============================] - 10s 342us/step - loss: 0.1268 - acc: 0.9498 - val_loss: 0.1994 - val_acc: 0.9328\n",
      "Epoch 19/20\n",
      "27948/27948 [==============================] - 10s 342us/step - loss: 0.1265 - acc: 0.9528 - val_loss: 0.2784 - val_acc: 0.9283\n",
      "Epoch 20/20\n",
      "27948/27948 [==============================] - 10s 342us/step - loss: 0.1225 - acc: 0.9539 - val_loss: 0.3013 - val_acc: 0.9242\n"
     ]
    },
    {
     "data": {
      "text/plain": [
       "<keras.callbacks.History at 0x139a517ae80>"
      ]
     },
     "execution_count": 16,
     "metadata": {},
     "output_type": "execute_result"
    }
   ],
   "source": [
    "classification_model.compile(optimizer = Adam(lr=0.01), \n",
    "                             loss = \"categorical_crossentropy\", \n",
    "                             metrics = [\"accuracy\"])\n",
    "\n",
    "input_train = x_train.reshape(x_train.shape[0], window_size, n_features, 1)\n",
    "input_test = x_test.reshape(x_test.shape[0], window_size, n_features, 1)\n",
    "\n",
    "classification_model.fit(x = input_train, \n",
    "                         y = y_train, \n",
    "                         epochs = 20, \n",
    "                         batch_size = 300,\n",
    "                         verbose = 1,\n",
    "                         validation_data=(input_test, y_test))"
   ]
  },
  {
   "cell_type": "code",
   "execution_count": 17,
   "metadata": {},
   "outputs": [
    {
     "name": "stdout",
     "output_type": "stream",
     "text": [
      "             precision    recall  f1-score   support\n",
      "\n",
      "          0       0.95      0.88      0.91      3958\n",
      "          1       0.83      0.92      0.87      2332\n",
      "          2       0.97      1.00      0.98      2733\n",
      "          3       1.00      0.87      0.93       442\n",
      "\n",
      "avg / total       0.93      0.92      0.92      9465\n",
      "\n"
     ]
    }
   ],
   "source": [
    "y_pred = classification_model.predict(input_test)\n",
    "y_pred = np.argmax(y_pred, 1)\n",
    "\n",
    "print(classification_report(y_test, to_categorical(y_pred)))"
   ]
  },
  {
   "cell_type": "markdown",
   "metadata": {},
   "source": [
    "## Classification with null class\n",
    "(detection and classification are performed together)"
   ]
  },
  {
   "cell_type": "code",
   "execution_count": 18,
   "metadata": {},
   "outputs": [
    {
     "name": "stdout",
     "output_type": "stream",
     "text": [
      "Training samples:  157125 \n",
      "Test samples:       57536 \n",
      "Features:             110\n",
      "\n",
      "TRAINING SET:\n",
      "Dataset of Images have shape:  (31422, 15, 110) \n",
      "Dataset of Labels have shape:    (31422, 5) \n",
      "Fraction of labels:   [0.11055948 0.41891032 0.27499841 0.17124944 0.02428235]\n",
      "\n",
      "TEST SET:\n",
      "Dataset of Images have shape:  (11504, 15, 110) \n",
      "Dataset of Labels have shape:    (11504, 5) \n",
      "Fraction of labels:   [0.1772427  0.34405424 0.2027121  0.23756954 0.03842142]\n"
     ]
    }
   ],
   "source": [
    "[x_train, y_train, x_test, y_test, n_classes] = utils.preprocessing(subject,\n",
    "                                                                    folder,\n",
    "                                                                    label,\n",
    "                                                                    window_size,\n",
    "                                                                    stride,\n",
    "                                                                    printInfo = True,\n",
    "                                                                    make_binary = False,)"
   ]
  },
  {
   "cell_type": "code",
   "execution_count": 19,
   "metadata": {},
   "outputs": [
    {
     "name": "stdout",
     "output_type": "stream",
     "text": [
      "_________________________________________________________________\n",
      "Layer (type)                 Output Shape              Param #   \n",
      "=================================================================\n",
      "batch_normalization_4 (Batch (None, 15, 110, 1)        4         \n",
      "_________________________________________________________________\n",
      "conv2d_4 (Conv2D)            (None, 5, 110, 50)        600       \n",
      "_________________________________________________________________\n",
      "max_pooling2d_4 (MaxPooling2 (None, 2, 110, 50)        0         \n",
      "_________________________________________________________________\n",
      "reshape_4 (Reshape)          (None, 2, 5500)           0         \n",
      "_________________________________________________________________\n",
      "lstm_7 (LSTM)                (None, 2, 300)            6961200   \n",
      "_________________________________________________________________\n",
      "lstm_8 (LSTM)                (None, 300)               721200    \n",
      "_________________________________________________________________\n",
      "dropout_5 (Dropout)          (None, 300)               0         \n",
      "_________________________________________________________________\n",
      "dense_7 (Dense)              (None, 512)               154112    \n",
      "_________________________________________________________________\n",
      "dropout_6 (Dropout)          (None, 512)               0         \n",
      "_________________________________________________________________\n",
      "dense_8 (Dense)              (None, 5)                 2565      \n",
      "=================================================================\n",
      "Total params: 7,839,681\n",
      "Trainable params: 7,839,679\n",
      "Non-trainable params: 2\n",
      "_________________________________________________________________\n"
     ]
    }
   ],
   "source": [
    "classification_model = deeplearning.MotionClassification((window_size,n_features,1), n_classes)\n",
    "classification_model.summary() # model visualization"
   ]
  },
  {
   "cell_type": "code",
   "execution_count": 20,
   "metadata": {},
   "outputs": [
    {
     "name": "stdout",
     "output_type": "stream",
     "text": [
      "Train on 31422 samples, validate on 11504 samples\n",
      "Epoch 1/20\n",
      "31422/31422 [==============================] - 15s 487us/step - loss: 0.4507 - acc: 0.8288 - val_loss: 0.3207 - val_acc: 0.8907\n",
      "Epoch 2/20\n",
      "31422/31422 [==============================] - 11s 344us/step - loss: 0.2686 - acc: 0.8979 - val_loss: 0.2793 - val_acc: 0.8923\n",
      "Epoch 3/20\n",
      "31422/31422 [==============================] - 11s 343us/step - loss: 0.2402 - acc: 0.9102 - val_loss: 0.3738 - val_acc: 0.8855\n",
      "Epoch 4/20\n",
      "31422/31422 [==============================] - 11s 343us/step - loss: 0.2113 - acc: 0.9215 - val_loss: 0.4058 - val_acc: 0.8912\n",
      "Epoch 5/20\n",
      "31422/31422 [==============================] - 11s 345us/step - loss: 0.1901 - acc: 0.9293 - val_loss: 0.3288 - val_acc: 0.9072\n",
      "Epoch 6/20\n",
      "31422/31422 [==============================] - 11s 346us/step - loss: 0.1733 - acc: 0.9353 - val_loss: 0.3951 - val_acc: 0.8966\n",
      "Epoch 7/20\n",
      "31422/31422 [==============================] - 11s 344us/step - loss: 0.1662 - acc: 0.9392 - val_loss: 0.4708 - val_acc: 0.8915\n",
      "Epoch 8/20\n",
      "31422/31422 [==============================] - 11s 343us/step - loss: 0.1526 - acc: 0.9427 - val_loss: 0.3766 - val_acc: 0.8982\n",
      "Epoch 9/20\n",
      "31422/31422 [==============================] - 11s 343us/step - loss: 0.1370 - acc: 0.9488 - val_loss: 0.4015 - val_acc: 0.9020\n",
      "Epoch 10/20\n",
      "31422/31422 [==============================] - 11s 344us/step - loss: 0.1482 - acc: 0.9455 - val_loss: 0.4212 - val_acc: 0.8935\n",
      "Epoch 11/20\n",
      "31422/31422 [==============================] - 11s 344us/step - loss: 0.1352 - acc: 0.9511 - val_loss: 0.4888 - val_acc: 0.8981\n",
      "Epoch 12/20\n",
      "31422/31422 [==============================] - 11s 345us/step - loss: 0.1201 - acc: 0.9558 - val_loss: 0.4562 - val_acc: 0.8979\n",
      "Epoch 13/20\n",
      "31422/31422 [==============================] - 11s 344us/step - loss: 0.1289 - acc: 0.9538 - val_loss: 0.4127 - val_acc: 0.8963\n",
      "Epoch 14/20\n",
      "31422/31422 [==============================] - 11s 344us/step - loss: 0.1170 - acc: 0.9578 - val_loss: 0.4610 - val_acc: 0.8997\n",
      "Epoch 15/20\n",
      "31422/31422 [==============================] - 11s 344us/step - loss: 0.1058 - acc: 0.9611 - val_loss: 0.3903 - val_acc: 0.8928\n",
      "Epoch 16/20\n",
      "31422/31422 [==============================] - 11s 344us/step - loss: 0.1108 - acc: 0.9598 - val_loss: 0.4581 - val_acc: 0.8928\n",
      "Epoch 17/20\n",
      "31422/31422 [==============================] - 11s 344us/step - loss: 0.0998 - acc: 0.9637 - val_loss: 0.5829 - val_acc: 0.8818\n",
      "Epoch 18/20\n",
      "31422/31422 [==============================] - 11s 344us/step - loss: 0.0909 - acc: 0.9675 - val_loss: 0.5628 - val_acc: 0.8978\n",
      "Epoch 19/20\n",
      "31422/31422 [==============================] - 11s 343us/step - loss: 0.0866 - acc: 0.9684 - val_loss: 0.5223 - val_acc: 0.8877\n",
      "Epoch 20/20\n",
      "31422/31422 [==============================] - 11s 343us/step - loss: 0.1027 - acc: 0.9657 - val_loss: 0.5621 - val_acc: 0.8968\n"
     ]
    },
    {
     "data": {
      "text/plain": [
       "<keras.callbacks.History at 0x139a8e51898>"
      ]
     },
     "execution_count": 20,
     "metadata": {},
     "output_type": "execute_result"
    }
   ],
   "source": [
    "classification_model.compile(optimizer = Adam(lr=0.01), \n",
    "                             loss = \"categorical_crossentropy\", \n",
    "                             metrics = [\"accuracy\"])\n",
    "\n",
    "input_train = x_train.reshape(x_train.shape[0], window_size, n_features, 1)\n",
    "input_test = x_test.reshape(x_test.shape[0], window_size, n_features, 1)\n",
    "\n",
    "classification_model.fit(x = input_train, \n",
    "                         y = y_train, \n",
    "                         epochs = 20, \n",
    "                         batch_size = 300,\n",
    "                         verbose = 1,\n",
    "                         validation_data=(input_test, y_test))"
   ]
  },
  {
   "cell_type": "code",
   "execution_count": 21,
   "metadata": {},
   "outputs": [
    {
     "name": "stdout",
     "output_type": "stream",
     "text": [
      "             precision    recall  f1-score   support\n",
      "\n",
      "          0       0.90      0.81      0.85      2039\n",
      "          1       0.90      0.93      0.91      3958\n",
      "          2       0.82      0.81      0.82      2332\n",
      "          3       0.95      0.99      0.97      2733\n",
      "          4       0.91      0.86      0.88       442\n",
      "\n",
      "avg / total       0.90      0.90      0.90     11504\n",
      "\n"
     ]
    }
   ],
   "source": [
    "y_pred = classification_model.predict(input_test)\n",
    "y_pred = np.argmax(y_pred, 1)\n",
    "\n",
    "print(classification_report(y_test, to_categorical(y_pred)))"
   ]
  }
 ],
 "metadata": {
  "kernelspec": {
   "display_name": "Python 3",
   "language": "python",
   "name": "python3"
  },
  "language_info": {
   "codemirror_mode": {
    "name": "ipython",
    "version": 3
   },
   "file_extension": ".py",
   "mimetype": "text/x-python",
   "name": "python",
   "nbconvert_exporter": "python",
   "pygments_lexer": "ipython3",
   "version": "3.6.4"
  }
 },
 "nbformat": 4,
 "nbformat_minor": 2
}
