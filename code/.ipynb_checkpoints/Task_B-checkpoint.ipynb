{
 "cells": [
  {
   "cell_type": "markdown",
   "metadata": {},
   "source": [
    "# HDA - Project 3\n",
    "## TASK B1: Activity detection\n",
    "This task consists of a binary classification, where a gesture denotes activity and thus the model detects wheter there is a gesture label or not (labeled in column 6).\n",
    "\n",
    "This first cell contains the parameters that can be tuned for code execution:\n",
    "- subject: select the subject on which to test the model, between [1,4];\n",
    "- folder: directory name where '.mat' files are stored;\n",
    "- label_col: index of feature column to be selected to perform activity detection, between [0,6];\n",
    "- window_size: parameter that sets the length of temporal windows on which to perform the convolution;\n",
    "- stride: step length to chose the next window."
   ]
  },
  {
   "cell_type": "code",
   "execution_count": 1,
   "metadata": {},
   "outputs": [],
   "source": [
    "subject = 1\n",
    "folder = \"./data/\"\n",
    "label_col = 0     # 6 is default for task B1\n",
    "window_size = 15\n",
    "stride = 15\n",
    "make_binary = True"
   ]
  },
  {
   "cell_type": "code",
   "execution_count": 2,
   "metadata": {},
   "outputs": [
    {
     "name": "stderr",
     "output_type": "stream",
     "text": [
      "Using TensorFlow backend.\n"
     ]
    }
   ],
   "source": [
    "import utils\n",
    "import numpy as np\n",
    "from sklearn.preprocessing import OneHotEncoder, StandardScaler\n",
    "import matplotlib.pyplot as plt\n",
    "from keras.optimizers import Adam"
   ]
  },
  {
   "cell_type": "markdown",
   "metadata": {},
   "source": [
    "Creation of training set and test set"
   ]
  },
  {
   "cell_type": "code",
   "execution_count": 3,
   "metadata": {},
   "outputs": [
    {
     "name": "stdout",
     "output_type": "stream",
     "text": [
      "\n",
      "Session shapes:\n",
      "ADL1:   (45810, 110)\n",
      "ADL2:   (28996, 110)\n",
      "ADL3:   (30167, 110)\n",
      "ADL4:   (30228, 110)\n",
      "ADL5:   (27308, 110)\n",
      "Drill:  (52152, 110)\n",
      "\n",
      "Training samples:  157125 \n",
      "Test samples:       57536 \n",
      "Features:             110\n",
      "\n",
      "Classes in training set:  2 \n",
      "Classes in test set:      2\n"
     ]
    }
   ],
   "source": [
    "# import all sessions for a subject\n",
    "(data1, data2, data3, data4, data5, data6) = utils.loadData(subject, folder=folder)\n",
    "\n",
    "# create training set and test set\n",
    "X_train = np.concatenate((data1['features_interp'],\\\n",
    "                          data2['features_interp'],\\\n",
    "                          data3['features_interp'],\\\n",
    "                          data6['features_interp']), axis=0)\n",
    "\n",
    "Y_train = np.concatenate((data1['labels_cut'][:,label_col],\\\n",
    "                          data2['labels_cut'][:,label_col],\\\n",
    "                          data3['labels_cut'][:,label_col],\\\n",
    "                          data6['labels_cut'][:,label_col]), axis=0)\n",
    "\n",
    "X_test = np.concatenate((data4['features_interp'],\\\n",
    "                         data5['features_interp']), axis=0)\n",
    "\n",
    "Y_test = np.concatenate((data4['labels_cut'][:,label_col],\\\n",
    "                         data5['labels_cut'][:,label_col]))\n",
    "\n",
    "features = X_test.shape[1]\n",
    "print(\"\\nTraining samples: \", X_train.shape[0],\\\n",
    "      \"\\nTest samples:      \", X_test.shape[0],\\\n",
    "      \"\\nFeatures:            \", features)\n",
    "\n",
    "# decision to overcome the problem of entire missing columns\n",
    "X_train = np.nan_to_num(X_train)\n",
    "X_test = np.nan_to_num(X_test)\n",
    "\n",
    "# features normalization\n",
    "scaler = StandardScaler().fit(X_train)\n",
    "X_train =scaler.transform(X_train)\n",
    "X_test = scaler.transform(X_test)\n",
    "\n",
    "# make the problem binary\n",
    "if make_binary:\n",
    "    Y_train[Y_train != 0] = 1\n",
    "    Y_test[Y_test != 0] = 1\n",
    "\n",
    "# switch to one hot encoded labels\n",
    "onehot_encoder = OneHotEncoder(sparse=False)\n",
    "Y_train_oh = onehot_encoder.fit_transform(Y_train.reshape(-1, 1))\n",
    "Y_test_oh = onehot_encoder.fit_transform(Y_test.reshape(-1, 1))\n",
    "print(\"\\nClasses in training set: \", Y_train_oh.shape[1],\\\n",
    "      \"\\nClasses in test set:     \", Y_test_oh.shape[1])"
   ]
  },
  {
   "cell_type": "markdown",
   "metadata": {},
   "source": [
    "Preparation of data in a input-suitable form"
   ]
  },
  {
   "cell_type": "code",
   "execution_count": 4,
   "metadata": {},
   "outputs": [
    {
     "name": "stdout",
     "output_type": "stream",
     "text": [
      "Training set:\n",
      "<class 'numpy.ndarray'> (10474, 15, 110) <class 'numpy.ndarray'> (10474, 2)\n",
      "\n",
      "Features have shape:  (10474, 15, 110) \n",
      "Labels have shape:    (10474, 2) \n",
      "Fraction of labels:   [0.11065496 0.88934504]\n",
      "\n",
      "Test set:\n",
      "<class 'numpy.ndarray'> (3834, 15, 110) <class 'numpy.ndarray'> (3834, 2)\n",
      "\n",
      "Features have shape:  (3834, 15, 110) \n",
      "Labels have shape:    (3834, 2) \n",
      "Fraction of labels:   [0.17736046 0.82263954]\n"
     ]
    }
   ],
   "source": [
    "print(\"Training set:\")\n",
    "X_train_s, Y_train_s = utils.prepareData(X_train, Y_train_oh, window_size, stride, shuffle=False)\n",
    "print(\"\\nTest set:\")\n",
    "X_test_s, Y_test_s = utils.prepareData(X_test, Y_test_oh, window_size, stride, shuffle=False)"
   ]
  },
  {
   "cell_type": "code",
   "execution_count": 5,
   "metadata": {},
   "outputs": [
    {
     "data": {
      "text/plain": [
       "<Figure size 2880x1440 with 0 Axes>"
      ]
     },
     "execution_count": 5,
     "metadata": {},
     "output_type": "execute_result"
    },
    {
     "data": {
      "image/png": "[encoded data removed]",
      "text/plain": [
       "<Figure size 432x288 with 1 Axes>"
      ]
     },
     "metadata": {},
     "output_type": "display_data"
    },
    {
     "data": {
      "text/plain": [
       "<Figure size 2880x1440 with 0 Axes>"
      ]
     },
     "metadata": {},
     "output_type": "display_data"
    }
   ],
   "source": [
    "plt.plot(Y_train_s[8950:8990, :])\n",
    "\n",
    "plt.figure(figsize=(40,20))"
   ]
  },
  {
   "cell_type": "code",
   "execution_count": 6,
   "metadata": {},
   "outputs": [],
   "source": [
    "classes = np.max((Y_train_s.shape[1], Y_test_s.shape[1]))"
   ]
  },
  {
   "cell_type": "code",
   "execution_count": 7,
   "metadata": {},
   "outputs": [
    {
     "name": "stdout",
     "output_type": "stream",
     "text": [
      "_________________________________________________________________\n",
      "Layer (type)                 Output Shape              Param #   \n",
      "=================================================================\n",
      "conv1d_1 (Conv1D)            (None, 15, 18)            9918      \n",
      "_________________________________________________________________\n",
      "batch_normalization_1 (Batch (None, 15, 18)            72        \n",
      "_________________________________________________________________\n",
      "leaky_re_lu_1 (LeakyReLU)    (None, 15, 18)            0         \n",
      "_________________________________________________________________\n",
      "max_pooling1d_1 (MaxPooling1 (None, 8, 18)             0         \n",
      "_________________________________________________________________\n",
      "conv1d_2 (Conv1D)            (None, 8, 36)             4572      \n",
      "_________________________________________________________________\n",
      "batch_normalization_2 (Batch (None, 8, 36)             144       \n",
      "_________________________________________________________________\n",
      "leaky_re_lu_2 (LeakyReLU)    (None, 8, 36)             0         \n",
      "_________________________________________________________________\n",
      "max_pooling1d_2 (MaxPooling1 (None, 4, 36)             0         \n",
      "_________________________________________________________________\n",
      "dropout_1 (Dropout)          (None, 4, 36)             0         \n",
      "_________________________________________________________________\n",
      "conv1d_3 (Conv1D)            (None, 4, 72)             18216     \n",
      "_________________________________________________________________\n",
      "batch_normalization_3 (Batch (None, 4, 72)             288       \n",
      "_________________________________________________________________\n",
      "leaky_re_lu_3 (LeakyReLU)    (None, 4, 72)             0         \n",
      "_________________________________________________________________\n",
      "max_pooling1d_3 (MaxPooling1 (None, 2, 72)             0         \n",
      "_________________________________________________________________\n",
      "flatten_1 (Flatten)          (None, 144)               0         \n",
      "_________________________________________________________________\n",
      "dense_1 (Dense)              (None, 64)                9280      \n",
      "_________________________________________________________________\n",
      "leaky_re_lu_4 (LeakyReLU)    (None, 64)                0         \n",
      "_________________________________________________________________\n",
      "dropout_2 (Dropout)          (None, 64)                0         \n",
      "_________________________________________________________________\n",
      "dense_2 (Dense)              (None, 2)                 130       \n",
      "_________________________________________________________________\n",
      "activation_1 (Activation)    (None, 2)                 0         \n",
      "=================================================================\n",
      "Total params: 42,620\n",
      "Trainable params: 42,368\n",
      "Non-trainable params: 252\n",
      "_________________________________________________________________\n"
     ]
    }
   ],
   "source": [
    "model_detection = utils.Model1D((window_size, features), classes)"
   ]
  },
  {
   "cell_type": "code",
   "execution_count": 8,
   "metadata": {},
   "outputs": [
    {
     "name": "stdout",
     "output_type": "stream",
     "text": [
      "Train on 10474 samples, validate on 3834 samples\n",
      "Epoch 1/50\n",
      "10474/10474 [==============================] - 5s 434us/step - loss: 0.5227 - acc: 0.9281 - val_loss: 0.2651 - val_acc: 0.9510\n",
      "Epoch 2/50\n",
      "10474/10474 [==============================] - 1s 112us/step - loss: 0.1367 - acc: 0.9608 - val_loss: 0.2277 - val_acc: 0.9416\n",
      "Epoch 3/50\n",
      "10474/10474 [==============================] - 1s 111us/step - loss: 0.1149 - acc: 0.9674 - val_loss: 0.2211 - val_acc: 0.9523\n",
      "Epoch 4/50\n",
      "10474/10474 [==============================] - 1s 112us/step - loss: 0.1021 - acc: 0.9694 - val_loss: 0.1521 - val_acc: 0.9614\n",
      "Epoch 5/50\n",
      "10474/10474 [==============================] - 1s 114us/step - loss: 0.0957 - acc: 0.9716 - val_loss: 0.1670 - val_acc: 0.9585\n",
      "Epoch 6/50\n",
      "10474/10474 [==============================] - 1s 115us/step - loss: 0.0973 - acc: 0.9712 - val_loss: 0.1668 - val_acc: 0.9575\n",
      "Epoch 7/50\n",
      "10474/10474 [==============================] - 1s 112us/step - loss: 0.0863 - acc: 0.9754 - val_loss: 0.1931 - val_acc: 0.9486\n",
      "Epoch 8/50\n",
      "10474/10474 [==============================] - 1s 110us/step - loss: 0.0871 - acc: 0.9736 - val_loss: 0.1727 - val_acc: 0.9577\n",
      "Epoch 9/50\n",
      "10474/10474 [==============================] - 1s 113us/step - loss: 0.0780 - acc: 0.9778 - val_loss: 0.1816 - val_acc: 0.9567\n",
      "Epoch 10/50\n",
      "10474/10474 [==============================] - 1s 113us/step - loss: 0.0840 - acc: 0.9751 - val_loss: 0.1829 - val_acc: 0.9562\n",
      "Epoch 11/50\n",
      "10474/10474 [==============================] - 1s 110us/step - loss: 0.0754 - acc: 0.9788 - val_loss: 0.1859 - val_acc: 0.9497\n",
      "Epoch 12/50\n",
      "10474/10474 [==============================] - 1s 111us/step - loss: 0.0710 - acc: 0.9802 - val_loss: 0.2839 - val_acc: 0.9397\n",
      "Epoch 13/50\n",
      "10474/10474 [==============================] - 1s 113us/step - loss: 0.0761 - acc: 0.9791 - val_loss: 0.2736 - val_acc: 0.9468\n",
      "Epoch 14/50\n",
      "10474/10474 [==============================] - 1s 111us/step - loss: 0.0620 - acc: 0.9812 - val_loss: 0.2938 - val_acc: 0.9418\n",
      "Epoch 15/50\n",
      "10474/10474 [==============================] - 1s 111us/step - loss: 0.0642 - acc: 0.9823 - val_loss: 0.2772 - val_acc: 0.9455\n",
      "Epoch 16/50\n",
      "10474/10474 [==============================] - 1s 111us/step - loss: 0.0655 - acc: 0.9820 - val_loss: 0.2442 - val_acc: 0.9531\n",
      "Epoch 17/50\n",
      "10474/10474 [==============================] - 1s 111us/step - loss: 0.0497 - acc: 0.9864 - val_loss: 0.2713 - val_acc: 0.9452\n",
      "Epoch 18/50\n",
      "10474/10474 [==============================] - 1s 110us/step - loss: 0.0625 - acc: 0.9818 - val_loss: 0.2434 - val_acc: 0.9447\n",
      "Epoch 19/50\n",
      "10474/10474 [==============================] - 1s 111us/step - loss: 0.0600 - acc: 0.9836 - val_loss: 0.2677 - val_acc: 0.9431\n",
      "Epoch 20/50\n",
      "10474/10474 [==============================] - 1s 111us/step - loss: 0.0613 - acc: 0.9828 - val_loss: 0.2521 - val_acc: 0.9499\n",
      "Epoch 21/50\n",
      "10474/10474 [==============================] - 1s 111us/step - loss: 0.0546 - acc: 0.9842 - val_loss: 0.2715 - val_acc: 0.9491\n",
      "Epoch 22/50\n",
      "10474/10474 [==============================] - 1s 112us/step - loss: 0.0548 - acc: 0.9842 - val_loss: 0.2820 - val_acc: 0.9478\n",
      "Epoch 23/50\n",
      "10474/10474 [==============================] - 1s 111us/step - loss: 0.0747 - acc: 0.9811 - val_loss: 0.2162 - val_acc: 0.9403\n",
      "Epoch 24/50\n",
      "10474/10474 [==============================] - 1s 111us/step - loss: 0.0592 - acc: 0.9830 - val_loss: 0.1850 - val_acc: 0.9606\n",
      "Epoch 25/50\n",
      "10474/10474 [==============================] - 1s 110us/step - loss: 0.0599 - acc: 0.9838 - val_loss: 0.2651 - val_acc: 0.9444\n",
      "Epoch 26/50\n",
      "10474/10474 [==============================] - 1s 111us/step - loss: 0.0473 - acc: 0.9878 - val_loss: 0.2328 - val_acc: 0.9512\n",
      "Epoch 27/50\n",
      "10474/10474 [==============================] - 1s 111us/step - loss: 0.0462 - acc: 0.9870 - val_loss: 0.2515 - val_acc: 0.9489\n",
      "Epoch 28/50\n",
      "10474/10474 [==============================] - 1s 112us/step - loss: 0.0474 - acc: 0.9858 - val_loss: 0.1909 - val_acc: 0.9512\n",
      "Epoch 29/50\n",
      "10474/10474 [==============================] - 1s 111us/step - loss: 0.0736 - acc: 0.9810 - val_loss: 0.2399 - val_acc: 0.9476\n",
      "Epoch 30/50\n",
      "10474/10474 [==============================] - 1s 112us/step - loss: 0.0436 - acc: 0.9873 - val_loss: 0.2253 - val_acc: 0.9437\n",
      "Epoch 31/50\n",
      "10474/10474 [==============================] - 1s 113us/step - loss: 0.0517 - acc: 0.9881 - val_loss: 0.2170 - val_acc: 0.9484\n",
      "Epoch 32/50\n",
      "10474/10474 [==============================] - 1s 113us/step - loss: 0.0488 - acc: 0.9876 - val_loss: 0.2110 - val_acc: 0.9471\n",
      "Epoch 33/50\n",
      "10474/10474 [==============================] - 1s 117us/step - loss: 0.0379 - acc: 0.9897 - val_loss: 0.2247 - val_acc: 0.9528\n",
      "Epoch 34/50\n",
      "10474/10474 [==============================] - 1s 112us/step - loss: 0.0422 - acc: 0.9892 - val_loss: 0.2890 - val_acc: 0.9382\n",
      "Epoch 35/50\n",
      "10474/10474 [==============================] - 1s 111us/step - loss: 0.0466 - acc: 0.9883 - val_loss: 0.1965 - val_acc: 0.9478\n",
      "Epoch 36/50\n",
      "10474/10474 [==============================] - 1s 112us/step - loss: 0.0408 - acc: 0.9884 - val_loss: 0.2300 - val_acc: 0.9583\n",
      "Epoch 37/50\n",
      "10474/10474 [==============================] - 1s 111us/step - loss: 0.0381 - acc: 0.9899 - val_loss: 0.2399 - val_acc: 0.9473\n",
      "Epoch 38/50\n",
      "10474/10474 [==============================] - 1s 110us/step - loss: 0.0394 - acc: 0.9900 - val_loss: 0.3175 - val_acc: 0.9497\n",
      "Epoch 39/50\n",
      "10474/10474 [==============================] - 1s 110us/step - loss: 0.0359 - acc: 0.9911 - val_loss: 0.2351 - val_acc: 0.9570\n",
      "Epoch 40/50\n",
      "10474/10474 [==============================] - 1s 109us/step - loss: 0.0400 - acc: 0.9905 - val_loss: 0.2367 - val_acc: 0.9515\n",
      "Epoch 41/50\n",
      "10474/10474 [==============================] - 1s 110us/step - loss: 0.0415 - acc: 0.9902 - val_loss: 0.2559 - val_acc: 0.9515\n",
      "Epoch 42/50\n",
      "10474/10474 [==============================] - 1s 111us/step - loss: 0.0375 - acc: 0.9910 - val_loss: 0.3098 - val_acc: 0.9463\n",
      "Epoch 43/50\n",
      "10474/10474 [==============================] - 1s 110us/step - loss: 0.0342 - acc: 0.9920 - val_loss: 0.3017 - val_acc: 0.9429\n",
      "Epoch 44/50\n",
      "10474/10474 [==============================] - 1s 109us/step - loss: 0.0341 - acc: 0.9930 - val_loss: 0.2918 - val_acc: 0.9504\n",
      "Epoch 45/50\n",
      "10474/10474 [==============================] - 1s 109us/step - loss: 0.0380 - acc: 0.9914 - val_loss: 0.3277 - val_acc: 0.9520\n",
      "Epoch 46/50\n",
      "10474/10474 [==============================] - 1s 108us/step - loss: 0.0745 - acc: 0.9901 - val_loss: 0.5890 - val_acc: 0.9478\n",
      "Epoch 47/50\n",
      "10474/10474 [==============================] - 1s 109us/step - loss: 0.0930 - acc: 0.9811 - val_loss: 0.2173 - val_acc: 0.9486\n",
      "Epoch 48/50\n",
      "10474/10474 [==============================] - 1s 109us/step - loss: 0.0402 - acc: 0.9903 - val_loss: 0.3019 - val_acc: 0.9457\n",
      "Epoch 49/50\n",
      "10474/10474 [==============================] - 1s 109us/step - loss: 0.0322 - acc: 0.9905 - val_loss: 0.1968 - val_acc: 0.9567\n",
      "Epoch 50/50\n",
      "10474/10474 [==============================] - 1s 110us/step - loss: 0.0367 - acc: 0.9914 - val_loss: 0.2153 - val_acc: 0.9577\n"
     ]
    },
    {
     "data": {
      "text/plain": [
       "<keras.callbacks.History at 0x2a38143a128>"
      ]
     },
     "execution_count": 8,
     "metadata": {},
     "output_type": "execute_result"
    }
   ],
   "source": [
    "opt = Adam(lr=0.01)\n",
    "model_detection.compile(optimizer = opt, loss = \"categorical_crossentropy\", metrics = [\"accuracy\"])\n",
    "\n",
    "model_detection.fit(x = X_train_s, y = Y_train_s, epochs = 50, batch_size = 128, validation_data=(X_test_s, Y_test_s))"
   ]
  },
  {
   "cell_type": "code",
   "execution_count": 9,
   "metadata": {},
   "outputs": [
    {
     "name": "stdout",
     "output_type": "stream",
     "text": [
      "(3834,)\n"
     ]
    }
   ],
   "source": [
    "# predict labels\n",
    "Y_pred_s = model_detection.predict(X_test_s)\n",
    "activity_ind = (Y_pred_s[:,1] == 1)\n",
    "print(activity_ind.shape)"
   ]
  },
  {
   "cell_type": "code",
   "execution_count": 10,
   "metadata": {},
   "outputs": [
    {
     "name": "stdout",
     "output_type": "stream",
     "text": [
      "F1-measure:  0.956127215123649\n",
      "AUC w.r. to each class:  {0: 0.965496195307546, 1: 0.9660526782050803}\n"
     ]
    },
    {
     "data": {
      "image/png": "[encoded data removed]",
      "text/plain": [
       "<Figure size 432x288 with 2 Axes>"
      ]
     },
     "metadata": {},
     "output_type": "display_data"
    }
   ],
   "source": [
    "# print results\n",
    "#reverse the one-ot encoder procedure\n",
    "Y_test_hard = np.argmax(Y_test_s, axis=1)\n",
    "Y_pred_hard = np.argmax(Y_pred_s, axis=1)\n",
    "\n",
    "print(\"F1-measure: \", utils.f1_score(Y_test_hard, Y_pred_hard, average='weighted'))\n",
    "print(\"AUC w.r. to each class: \", utils.AUC(Y_test_s, Y_pred_s, classes))\n",
    "\n",
    "# Compute and plot confusion matrix\n",
    "cnf_matrix = utils.confusion_matrix(Y_test_hard, Y_pred_hard)\n",
    "np.set_printoptions(precision=2)\n",
    "\n",
    "plt.figure()\n",
    "utils.plot_confusion_matrix(cnf_matrix, classes=[1,2],\n",
    "                      title='Confusion matrix, without normalization')"
   ]
  },
  {
   "cell_type": "markdown",
   "metadata": {},
   "source": [
    "## Task B2: gesture recognition\n",
    "This task consists of a 17-class classification, where gestures are labeled in column 6.\n",
    "\n",
    "To tune the following parameters, refer to the first cell of task B1:\n",
    "- subject: select the subject on which to test the model, between [1,4];\n",
    "- folder: directory name where '.mat' files are stored;\n",
    "- label_col: index of feature column to be selected to perform activity detection, between [0,6];\n",
    "- window_size: parameter that sets the length of temporal windows on which to perform the convolution;\n",
    "- stride: step length to chose the next window.\n",
    "\n",
    "Here we just need to preserve the different labels, thus we set 'make_binary' to False. We have then 18 different labels, keeping into account the null class, with label 0."
   ]
  },
  {
   "cell_type": "code",
   "execution_count": 11,
   "metadata": {},
   "outputs": [],
   "source": [
    "make_binary = False"
   ]
  },
  {
   "cell_type": "code",
   "execution_count": 12,
   "metadata": {},
   "outputs": [
    {
     "name": "stdout",
     "output_type": "stream",
     "text": [
      "\n",
      "Session shapes:\n",
      "ADL1:   (45810, 110)\n",
      "ADL2:   (28996, 110)\n",
      "ADL3:   (30167, 110)\n",
      "ADL4:   (30228, 110)\n",
      "ADL5:   (27308, 110)\n",
      "Drill:  (52152, 110)\n",
      "\n",
      "Training samples:  157125 \n",
      "Test samples:       57536 \n",
      "Features:             110\n",
      "\n",
      "Classes in training set:  5 \n",
      "Classes in test set:      5\n"
     ]
    }
   ],
   "source": [
    "# import all sessions for a subject\n",
    "(data1, data2, data3, data4, data5, data6) = utils.loadData(subject, folder=folder)\n",
    "\n",
    "# create training set and test set\n",
    "X_train = np.concatenate((data1['features_interp'],\\\n",
    "                          data2['features_interp'],\\\n",
    "                          data3['features_interp'],\\\n",
    "                          data6['features_interp']), axis=0)\n",
    "\n",
    "Y_train = np.concatenate((data1['labels_cut'][:,label_col],\\\n",
    "                          data2['labels_cut'][:,label_col],\\\n",
    "                          data3['labels_cut'][:,label_col],\\\n",
    "                          data6['labels_cut'][:,label_col]), axis=0)\n",
    "\n",
    "X_test = np.concatenate((data4['features_interp'],\\\n",
    "                         data5['features_interp']), axis=0)\n",
    "\n",
    "Y_test = np.concatenate((data4['labels_cut'][:,label_col],\\\n",
    "                         data5['labels_cut'][:,label_col]))\n",
    "\n",
    "features = X_test.shape[1]\n",
    "print(\"\\nTraining samples: \", X_train.shape[0],\\\n",
    "      \"\\nTest samples:      \", X_test.shape[0],\\\n",
    "      \"\\nFeatures:            \", features)\n",
    "\n",
    "# decision to overcome the problem of entire missing columns\n",
    "X_train = np.nan_to_num(X_train)\n",
    "X_test = np.nan_to_num(X_test)\n",
    "\n",
    "# features normalization\n",
    "scaler = StandardScaler().fit(X_train)\n",
    "X_train =scaler.transform(X_train)\n",
    "X_test = scaler.transform(X_test)\n",
    "\n",
    "# make the problem binary\n",
    "if make_binary:\n",
    "    Y_train[Y_train != 0] = 1\n",
    "    Y_test[Y_test != 0] = 1\n",
    "\n",
    "# switch to one hot encoded labels\n",
    "onehot_encoder = OneHotEncoder(sparse=False)\n",
    "Y_train_oh = onehot_encoder.fit_transform(Y_train.reshape(-1, 1))\n",
    "Y_test_oh = onehot_encoder.fit_transform(Y_test.reshape(-1, 1))\n",
    "print(\"\\nClasses in training set: \", Y_train_oh.shape[1],\\\n",
    "      \"\\nClasses in test set:     \", Y_test_oh.shape[1])"
   ]
  },
  {
   "cell_type": "code",
   "execution_count": 13,
   "metadata": {},
   "outputs": [
    {
     "name": "stdout",
     "output_type": "stream",
     "text": [
      "Training set:\n",
      "<class 'numpy.ndarray'> (9314, 15, 110) <class 'numpy.ndarray'> (9314, 4)\n",
      "\n",
      "Features have shape:  (9314, 15, 110) \n",
      "Labels have shape:    (9314, 4) \n",
      "Fraction of labels:   [0.47 0.31 0.19 0.03]\n",
      "\n",
      "Test set:\n",
      "<class 'numpy.ndarray'> (3154, 15, 110) <class 'numpy.ndarray'> (3154, 4)\n",
      "\n",
      "Features have shape:  (3154, 15, 110) \n",
      "Labels have shape:    (3154, 4) \n",
      "Fraction of labels:   [0.42 0.25 0.29 0.05]\n"
     ]
    }
   ],
   "source": [
    "print(\"Training set:\")\n",
    "X_train_s, Y_train_s = utils.prepareData(X_train, Y_train_oh, window_size, stride, shuffle=False, null_class=False)\n",
    "print(\"\\nTest set:\")\n",
    "X_test_s, Y_test_s = utils.prepareData(X_test, Y_test_oh, window_size, stride, shuffle=False, null_class=False)\n",
    "# add bars plot"
   ]
  },
  {
   "cell_type": "code",
   "execution_count": 14,
   "metadata": {},
   "outputs": [],
   "source": [
    "classes = np.max((Y_train_s.shape[1], Y_test_s.shape[1]))"
   ]
  },
  {
   "cell_type": "code",
   "execution_count": 15,
   "metadata": {},
   "outputs": [
    {
     "name": "stdout",
     "output_type": "stream",
     "text": [
      "_________________________________________________________________\n",
      "Layer (type)                 Output Shape              Param #   \n",
      "=================================================================\n",
      "conv1d_4 (Conv1D)            (None, 15, 18)            9918      \n",
      "_________________________________________________________________\n",
      "batch_normalization_4 (Batch (None, 15, 18)            72        \n",
      "_________________________________________________________________\n",
      "leaky_re_lu_5 (LeakyReLU)    (None, 15, 18)            0         \n",
      "_________________________________________________________________\n",
      "max_pooling1d_4 (MaxPooling1 (None, 8, 18)             0         \n",
      "_________________________________________________________________\n",
      "conv1d_5 (Conv1D)            (None, 8, 36)             4572      \n",
      "_________________________________________________________________\n",
      "batch_normalization_5 (Batch (None, 8, 36)             144       \n",
      "_________________________________________________________________\n",
      "leaky_re_lu_6 (LeakyReLU)    (None, 8, 36)             0         \n",
      "_________________________________________________________________\n",
      "max_pooling1d_5 (MaxPooling1 (None, 4, 36)             0         \n",
      "_________________________________________________________________\n",
      "dropout_3 (Dropout)          (None, 4, 36)             0         \n",
      "_________________________________________________________________\n",
      "conv1d_6 (Conv1D)            (None, 4, 72)             18216     \n",
      "_________________________________________________________________\n",
      "batch_normalization_6 (Batch (None, 4, 72)             288       \n",
      "_________________________________________________________________\n",
      "leaky_re_lu_7 (LeakyReLU)    (None, 4, 72)             0         \n",
      "_________________________________________________________________\n",
      "max_pooling1d_6 (MaxPooling1 (None, 2, 72)             0         \n",
      "_________________________________________________________________\n",
      "flatten_2 (Flatten)          (None, 144)               0         \n",
      "_________________________________________________________________\n",
      "dense_3 (Dense)              (None, 64)                9280      \n",
      "_________________________________________________________________\n",
      "leaky_re_lu_8 (LeakyReLU)    (None, 64)                0         \n",
      "_________________________________________________________________\n",
      "dropout_4 (Dropout)          (None, 64)                0         \n",
      "_________________________________________________________________\n",
      "dense_4 (Dense)              (None, 4)                 260       \n",
      "_________________________________________________________________\n",
      "activation_2 (Activation)    (None, 4)                 0         \n",
      "=================================================================\n",
      "Total params: 42,750\n",
      "Trainable params: 42,498\n",
      "Non-trainable params: 252\n",
      "_________________________________________________________________\n"
     ]
    }
   ],
   "source": [
    "model_classification = utils.Model1D((window_size, features), classes)"
   ]
  },
  {
   "cell_type": "code",
   "execution_count": 16,
   "metadata": {},
   "outputs": [
    {
     "name": "stdout",
     "output_type": "stream",
     "text": [
      "Train on 9314 samples, validate on 3154 samples\n",
      "Epoch 1/50\n",
      "9314/9314 [==============================] - 2s 239us/step - loss: 0.7783 - acc: 0.8298 - val_loss: 0.3165 - val_acc: 0.9096\n",
      "Epoch 2/50\n",
      "9314/9314 [==============================] - 1s 112us/step - loss: 0.3368 - acc: 0.8705 - val_loss: 0.2892 - val_acc: 0.8954\n",
      "Epoch 3/50\n",
      "9314/9314 [==============================] - 1s 111us/step - loss: 0.2996 - acc: 0.8871 - val_loss: 0.3834 - val_acc: 0.8871\n",
      "Epoch 4/50\n",
      "9314/9314 [==============================] - 1s 111us/step - loss: 0.2863 - acc: 0.8953 - val_loss: 0.3222 - val_acc: 0.9214\n",
      "Epoch 5/50\n",
      "9314/9314 [==============================] - 1s 112us/step - loss: 0.2608 - acc: 0.9043 - val_loss: 0.3285 - val_acc: 0.9065\n",
      "Epoch 6/50\n",
      "9314/9314 [==============================] - 1s 112us/step - loss: 0.2522 - acc: 0.9121 - val_loss: 0.3133 - val_acc: 0.9315\n",
      "Epoch 7/50\n",
      "9314/9314 [==============================] - 1s 112us/step - loss: 0.2450 - acc: 0.9127 - val_loss: 0.3411 - val_acc: 0.9236\n",
      "Epoch 8/50\n",
      "9314/9314 [==============================] - 1s 111us/step - loss: 0.2360 - acc: 0.9166 - val_loss: 0.3588 - val_acc: 0.9271\n",
      "Epoch 9/50\n",
      "9314/9314 [==============================] - 1s 111us/step - loss: 0.2216 - acc: 0.9208 - val_loss: 0.3148 - val_acc: 0.9287\n",
      "Epoch 10/50\n",
      "9314/9314 [==============================] - 1s 111us/step - loss: 0.2143 - acc: 0.9233 - val_loss: 0.3222 - val_acc: 0.9226\n",
      "Epoch 11/50\n",
      "9314/9314 [==============================] - 1s 112us/step - loss: 0.2449 - acc: 0.9226 - val_loss: 0.3334 - val_acc: 0.9242\n",
      "Epoch 12/50\n",
      "9314/9314 [==============================] - 1s 113us/step - loss: 0.2131 - acc: 0.9269 - val_loss: 0.3231 - val_acc: 0.9236\n",
      "Epoch 13/50\n",
      "9314/9314 [==============================] - 1s 112us/step - loss: 0.2105 - acc: 0.9287 - val_loss: 0.3660 - val_acc: 0.9249\n",
      "Epoch 14/50\n",
      "9314/9314 [==============================] - 1s 111us/step - loss: 0.2116 - acc: 0.9297 - val_loss: 0.2908 - val_acc: 0.9325\n",
      "Epoch 15/50\n",
      "9314/9314 [==============================] - 1s 110us/step - loss: 0.1887 - acc: 0.9320 - val_loss: 0.3143 - val_acc: 0.9258\n",
      "Epoch 16/50\n",
      "9314/9314 [==============================] - 1s 110us/step - loss: 0.2249 - acc: 0.9314 - val_loss: 0.3539 - val_acc: 0.9217\n",
      "Epoch 17/50\n",
      "9314/9314 [==============================] - 1s 111us/step - loss: 0.1983 - acc: 0.9338 - val_loss: 0.3152 - val_acc: 0.9280\n",
      "Epoch 18/50\n",
      "9314/9314 [==============================] - 1s 111us/step - loss: 0.1888 - acc: 0.9405 - val_loss: 0.3407 - val_acc: 0.9290\n",
      "Epoch 19/50\n",
      "9314/9314 [==============================] - 1s 111us/step - loss: 0.1683 - acc: 0.9403 - val_loss: 0.3124 - val_acc: 0.9192\n",
      "Epoch 20/50\n",
      "9314/9314 [==============================] - 1s 111us/step - loss: 0.1844 - acc: 0.9406 - val_loss: 0.3955 - val_acc: 0.9201\n",
      "Epoch 21/50\n",
      "9314/9314 [==============================] - 1s 111us/step - loss: 0.1713 - acc: 0.9455 - val_loss: 0.3339 - val_acc: 0.9258\n",
      "Epoch 22/50\n",
      "9314/9314 [==============================] - 1s 111us/step - loss: 0.1749 - acc: 0.9419 - val_loss: 0.3194 - val_acc: 0.9299\n",
      "Epoch 23/50\n",
      "9314/9314 [==============================] - 1s 113us/step - loss: 0.1745 - acc: 0.9445 - val_loss: 0.3929 - val_acc: 0.9264\n",
      "Epoch 24/50\n",
      "9314/9314 [==============================] - 1s 111us/step - loss: 0.1712 - acc: 0.9429 - val_loss: 0.3478 - val_acc: 0.9264\n",
      "Epoch 25/50\n",
      "9314/9314 [==============================] - 1s 112us/step - loss: 0.1777 - acc: 0.9459 - val_loss: 0.3352 - val_acc: 0.9217\n",
      "Epoch 26/50\n",
      "9314/9314 [==============================] - 1s 111us/step - loss: 0.1719 - acc: 0.9450 - val_loss: 0.3856 - val_acc: 0.9185\n",
      "Epoch 27/50\n",
      "9314/9314 [==============================] - 1s 111us/step - loss: 0.1980 - acc: 0.9492 - val_loss: 0.4307 - val_acc: 0.9134\n",
      "Epoch 28/50\n",
      "9314/9314 [==============================] - 1s 111us/step - loss: 0.1637 - acc: 0.9484 - val_loss: 0.3280 - val_acc: 0.9242\n",
      "Epoch 29/50\n",
      "9314/9314 [==============================] - 1s 111us/step - loss: 0.1451 - acc: 0.9537 - val_loss: 0.3388 - val_acc: 0.9239\n",
      "Epoch 30/50\n",
      "9314/9314 [==============================] - 1s 112us/step - loss: 0.1393 - acc: 0.9527 - val_loss: 0.3284 - val_acc: 0.9242\n",
      "Epoch 31/50\n",
      "9314/9314 [==============================] - 1s 111us/step - loss: 0.1383 - acc: 0.9559 - val_loss: 0.2894 - val_acc: 0.9268\n",
      "Epoch 32/50\n",
      "9314/9314 [==============================] - 1s 111us/step - loss: 0.1467 - acc: 0.9505 - val_loss: 0.3437 - val_acc: 0.9271\n",
      "Epoch 33/50\n",
      "9314/9314 [==============================] - 1s 111us/step - loss: 0.1400 - acc: 0.9567 - val_loss: 0.2308 - val_acc: 0.9293\n",
      "Epoch 34/50\n",
      "9314/9314 [==============================] - 1s 111us/step - loss: 0.1226 - acc: 0.9604 - val_loss: 0.2426 - val_acc: 0.9299\n",
      "Epoch 35/50\n",
      "9314/9314 [==============================] - 1s 112us/step - loss: 0.1164 - acc: 0.9641 - val_loss: 0.3631 - val_acc: 0.9233\n",
      "Epoch 36/50\n",
      "9314/9314 [==============================] - 1s 110us/step - loss: 0.1404 - acc: 0.9562 - val_loss: 0.2525 - val_acc: 0.9350\n",
      "Epoch 37/50\n",
      "9314/9314 [==============================] - 1s 111us/step - loss: 0.1369 - acc: 0.9600 - val_loss: 0.2563 - val_acc: 0.9261\n",
      "Epoch 38/50\n",
      "9314/9314 [==============================] - 1s 111us/step - loss: 0.1353 - acc: 0.9572 - val_loss: 0.2631 - val_acc: 0.9318\n",
      "Epoch 39/50\n",
      "9314/9314 [==============================] - 1s 111us/step - loss: 0.1195 - acc: 0.9650 - val_loss: 0.2972 - val_acc: 0.9299\n",
      "Epoch 40/50\n",
      "9314/9314 [==============================] - 1s 111us/step - loss: 0.1362 - acc: 0.9630 - val_loss: 0.3115 - val_acc: 0.9341\n",
      "Epoch 41/50\n",
      "9314/9314 [==============================] - 1s 110us/step - loss: 0.1334 - acc: 0.9640 - val_loss: 0.2440 - val_acc: 0.9306\n",
      "Epoch 42/50\n",
      "9314/9314 [==============================] - 1s 111us/step - loss: 0.1190 - acc: 0.9645 - val_loss: 0.2980 - val_acc: 0.9207\n",
      "Epoch 43/50\n",
      "9314/9314 [==============================] - 1s 111us/step - loss: 0.1285 - acc: 0.9625 - val_loss: 0.2962 - val_acc: 0.9328\n",
      "Epoch 44/50\n",
      "9314/9314 [==============================] - 1s 111us/step - loss: 0.1057 - acc: 0.9680 - val_loss: 0.2956 - val_acc: 0.9239\n",
      "Epoch 45/50\n",
      "9314/9314 [==============================] - 1s 111us/step - loss: 0.1080 - acc: 0.9683 - val_loss: 0.2789 - val_acc: 0.9344\n",
      "Epoch 46/50\n",
      "9314/9314 [==============================] - 1s 111us/step - loss: 0.1255 - acc: 0.9673 - val_loss: 0.3347 - val_acc: 0.9249\n",
      "Epoch 47/50\n",
      "9314/9314 [==============================] - 1s 111us/step - loss: 0.1084 - acc: 0.9655 - val_loss: 0.4097 - val_acc: 0.9249\n",
      "Epoch 48/50\n",
      "9314/9314 [==============================] - 1s 111us/step - loss: 0.1084 - acc: 0.9693 - val_loss: 0.4200 - val_acc: 0.9239\n",
      "Epoch 49/50\n",
      "9314/9314 [==============================] - 1s 111us/step - loss: 0.1021 - acc: 0.9666 - val_loss: 0.3751 - val_acc: 0.9233\n",
      "Epoch 50/50\n",
      "9314/9314 [==============================] - 1s 111us/step - loss: 0.0960 - acc: 0.9699 - val_loss: 0.3813 - val_acc: 0.9264\n"
     ]
    },
    {
     "data": {
      "text/plain": [
       "<keras.callbacks.History at 0x2a3864cc320>"
      ]
     },
     "execution_count": 16,
     "metadata": {},
     "output_type": "execute_result"
    }
   ],
   "source": [
    "opt = Adam(lr=0.01)\n",
    "model_classification.compile(optimizer = opt, loss = \"categorical_crossentropy\", metrics = [\"accuracy\"])\n",
    "\n",
    "model_classification.fit(x = X_train_s, y = Y_train_s, epochs = 50, batch_size = 128, validation_data=(X_test_s, Y_test_s))"
   ]
  },
  {
   "cell_type": "code",
   "execution_count": 17,
   "metadata": {},
   "outputs": [],
   "source": [
    "# predict labels\n",
    "Y_pred_s = model_classification.predict(X_test_s)"
   ]
  },
  {
   "cell_type": "code",
   "execution_count": 18,
   "metadata": {},
   "outputs": [
    {
     "name": "stdout",
     "output_type": "stream",
     "text": [
      "F1-measure:  0.9267854936657907\n",
      "AUC w.r. to each class:  {0: 0.9794470915227318, 1: 0.9683565834134812, 2: 0.9996368749122162, 3: 0.8775725122107373}\n"
     ]
    },
    {
     "data": {
      "image/png": "[encoded data removed]",
      "text/plain": [
       "<Figure size 432x288 with 2 Axes>"
      ]
     },
     "metadata": {},
     "output_type": "display_data"
    }
   ],
   "source": [
    "# print results\n",
    "#reverse the one-ot encoder procedure\n",
    "Y_test_hard = np.argmax(Y_test_s, axis=1)\n",
    "Y_pred_hard = np.argmax(Y_pred_s, axis=1)\n",
    "\n",
    "print(\"F1-measure: \", utils.f1_score(Y_test_hard, Y_pred_hard, average='weighted'))\n",
    "print(\"AUC w.r. to each class: \", utils.AUC(Y_test_s, Y_pred_s, classes))\n",
    "\n",
    "# Compute and plot confusion matrix\n",
    "cnf_matrix = utils.confusion_matrix(Y_test_hard, Y_pred_hard)\n",
    "np.set_printoptions(precision=2)\n",
    "\n",
    "plt.figure()\n",
    "utils.plot_confusion_matrix(cnf_matrix, classes=[1,2],\n",
    "                      title='Confusion matrix, without normalization')"
   ]
  },
  {
   "cell_type": "markdown",
   "metadata": {},
   "source": [
    "# Cascade of activity detection and classification\n",
    "Here we exploit our segmentation of the signals to perform first an activity detection and then, in case there's activity in the window, a classification. This can be done both on locomotion (label_col = 0) and on gestures (label_col = 6). Subject is defined in the first cell of the notebook.\n",
    "\n",
    "Here we need to perform a new classification, this time keeping also the null labels because the result has to be consistent with the detection. The detection task can be skipped because it has already been performed in the beginning of the notebook: results are stored in the vector 'activity_ind', which has true values where the classification has to be performed."
   ]
  },
  {
   "cell_type": "code",
   "execution_count": 19,
   "metadata": {},
   "outputs": [
    {
     "name": "stdout",
     "output_type": "stream",
     "text": [
      "Labels from detection:  (3834,)\n",
      "Detected activities:  326\n"
     ]
    }
   ],
   "source": [
    "print(\"Labels from detection: \", activity_ind.shape)\n",
    "print(\"Detected activities: \", np.sum(activity_ind))"
   ]
  },
  {
   "cell_type": "code",
   "execution_count": 20,
   "metadata": {},
   "outputs": [
    {
     "name": "stdout",
     "output_type": "stream",
     "text": [
      "Training set:\n",
      "<class 'numpy.ndarray'> (10474, 15, 110) <class 'numpy.ndarray'> (10474, 5)\n",
      "\n",
      "Features have shape:  (10474, 15, 110) \n",
      "Labels have shape:    (10474, 5) \n",
      "Fraction of labels:   [0.11 0.42 0.28 0.17 0.02]\n",
      "\n",
      "Test set:\n",
      "<class 'numpy.ndarray'> (3834, 15, 110) <class 'numpy.ndarray'> (3834, 5)\n",
      "\n",
      "Features have shape:  (3834, 15, 110) \n",
      "Labels have shape:    (3834, 5) \n",
      "Fraction of labels:   [0.18 0.34 0.2  0.24 0.04]\n"
     ]
    }
   ],
   "source": [
    "print(\"Training set:\")\n",
    "X_train_s, Y_train_s = utils.prepareData(X_train, Y_train_oh, window_size, stride, shuffle=False, null_class=True)\n",
    "print(\"\\nTest set:\")\n",
    "X_test_s, Y_test_s = utils.prepareData(X_test, Y_test_oh, window_size, stride, shuffle=False, null_class=True)\n",
    "# add bars plot"
   ]
  },
  {
   "cell_type": "code",
   "execution_count": 21,
   "metadata": {},
   "outputs": [],
   "source": [
    "classes = np.max((Y_train_s.shape[1], Y_test_s.shape[1]))"
   ]
  },
  {
   "cell_type": "code",
   "execution_count": 22,
   "metadata": {},
   "outputs": [
    {
     "name": "stdout",
     "output_type": "stream",
     "text": [
      "_________________________________________________________________\n",
      "Layer (type)                 Output Shape              Param #   \n",
      "=================================================================\n",
      "conv1d_7 (Conv1D)            (None, 15, 18)            9918      \n",
      "_________________________________________________________________\n",
      "batch_normalization_7 (Batch (None, 15, 18)            72        \n",
      "_________________________________________________________________\n",
      "leaky_re_lu_9 (LeakyReLU)    (None, 15, 18)            0         \n",
      "_________________________________________________________________\n",
      "max_pooling1d_7 (MaxPooling1 (None, 8, 18)             0         \n",
      "_________________________________________________________________\n",
      "conv1d_8 (Conv1D)            (None, 8, 36)             4572      \n",
      "_________________________________________________________________\n",
      "batch_normalization_8 (Batch (None, 8, 36)             144       \n",
      "_________________________________________________________________\n",
      "leaky_re_lu_10 (LeakyReLU)   (None, 8, 36)             0         \n",
      "_________________________________________________________________\n",
      "max_pooling1d_8 (MaxPooling1 (None, 4, 36)             0         \n",
      "_________________________________________________________________\n",
      "dropout_5 (Dropout)          (None, 4, 36)             0         \n",
      "_________________________________________________________________\n",
      "conv1d_9 (Conv1D)            (None, 4, 72)             18216     \n",
      "_________________________________________________________________\n",
      "batch_normalization_9 (Batch (None, 4, 72)             288       \n",
      "_________________________________________________________________\n",
      "leaky_re_lu_11 (LeakyReLU)   (None, 4, 72)             0         \n",
      "_________________________________________________________________\n",
      "max_pooling1d_9 (MaxPooling1 (None, 2, 72)             0         \n",
      "_________________________________________________________________\n",
      "flatten_3 (Flatten)          (None, 144)               0         \n",
      "_________________________________________________________________\n",
      "dense_5 (Dense)              (None, 64)                9280      \n",
      "_________________________________________________________________\n",
      "leaky_re_lu_12 (LeakyReLU)   (None, 64)                0         \n",
      "_________________________________________________________________\n",
      "dropout_6 (Dropout)          (None, 64)                0         \n",
      "_________________________________________________________________\n",
      "dense_6 (Dense)              (None, 5)                 325       \n",
      "_________________________________________________________________\n",
      "activation_3 (Activation)    (None, 5)                 0         \n",
      "=================================================================\n",
      "Total params: 42,815\n",
      "Trainable params: 42,563\n",
      "Non-trainable params: 252\n",
      "_________________________________________________________________\n"
     ]
    }
   ],
   "source": [
    "model_classification = utils.Model1D((window_size, features), classes)"
   ]
  },
  {
   "cell_type": "code",
   "execution_count": 23,
   "metadata": {},
   "outputs": [
    {
     "name": "stdout",
     "output_type": "stream",
     "text": [
      "Train on 10474 samples, validate on 3834 samples\n",
      "Epoch 1/50\n",
      "10474/10474 [==============================] - 3s 241us/step - loss: 0.9244 - acc: 0.7701 - val_loss: 0.5046 - val_acc: 0.8539\n",
      "Epoch 2/50\n",
      "10474/10474 [==============================] - 1s 116us/step - loss: 0.4705 - acc: 0.8414 - val_loss: 0.4589 - val_acc: 0.8727\n",
      "Epoch 3/50\n",
      "10474/10474 [==============================] - 1s 116us/step - loss: 0.4097 - acc: 0.8593 - val_loss: 0.4867 - val_acc: 0.8732\n",
      "Epoch 4/50\n",
      "10474/10474 [==============================] - 1s 114us/step - loss: 0.4053 - acc: 0.8629 - val_loss: 0.4062 - val_acc: 0.8957\n",
      "Epoch 5/50\n",
      "10474/10474 [==============================] - 1s 113us/step - loss: 0.3883 - acc: 0.8667 - val_loss: 0.3810 - val_acc: 0.9040\n",
      "Epoch 6/50\n",
      "10474/10474 [==============================] - 1s 113us/step - loss: 0.3672 - acc: 0.8776 - val_loss: 0.4274 - val_acc: 0.8873\n",
      "Epoch 7/50\n",
      "10474/10474 [==============================] - 1s 115us/step - loss: 0.3538 - acc: 0.8830 - val_loss: 0.4308 - val_acc: 0.8941\n",
      "Epoch 8/50\n",
      "10474/10474 [==============================] - 1s 115us/step - loss: 0.3462 - acc: 0.8822 - val_loss: 0.4495 - val_acc: 0.8842\n",
      "Epoch 9/50\n",
      "10474/10474 [==============================] - 1s 113us/step - loss: 0.3518 - acc: 0.8849 - val_loss: 0.3978 - val_acc: 0.8821\n",
      "Epoch 10/50\n",
      "10474/10474 [==============================] - 1s 113us/step - loss: 0.3352 - acc: 0.8893 - val_loss: 0.4272 - val_acc: 0.9019\n",
      "Epoch 11/50\n",
      "10474/10474 [==============================] - 1s 113us/step - loss: 0.3211 - acc: 0.8961 - val_loss: 0.4462 - val_acc: 0.8850\n",
      "Epoch 12/50\n",
      "10474/10474 [==============================] - 1s 113us/step - loss: 0.3172 - acc: 0.8986 - val_loss: 0.4801 - val_acc: 0.8805\n",
      "Epoch 13/50\n",
      "10474/10474 [==============================] - 1s 113us/step - loss: 0.3054 - acc: 0.8992 - val_loss: 0.4643 - val_acc: 0.8873\n",
      "Epoch 14/50\n",
      "10474/10474 [==============================] - 1s 112us/step - loss: 0.2931 - acc: 0.9076 - val_loss: 0.4596 - val_acc: 0.8845\n",
      "Epoch 15/50\n",
      "10474/10474 [==============================] - 1s 113us/step - loss: 0.2894 - acc: 0.9083 - val_loss: 0.4914 - val_acc: 0.8912\n",
      "Epoch 16/50\n",
      "10474/10474 [==============================] - 1s 113us/step - loss: 0.2855 - acc: 0.9103 - val_loss: 0.4225 - val_acc: 0.8975\n",
      "Epoch 17/50\n",
      "10474/10474 [==============================] - 1s 113us/step - loss: 0.2761 - acc: 0.9140 - val_loss: 0.3776 - val_acc: 0.8975\n",
      "Epoch 18/50\n",
      "10474/10474 [==============================] - 1s 112us/step - loss: 0.2701 - acc: 0.9123 - val_loss: 0.3878 - val_acc: 0.8954\n",
      "Epoch 19/50\n",
      "10474/10474 [==============================] - 1s 112us/step - loss: 0.2973 - acc: 0.9093 - val_loss: 0.3919 - val_acc: 0.9030\n",
      "Epoch 20/50\n",
      "10474/10474 [==============================] - 1s 112us/step - loss: 0.2519 - acc: 0.9173 - val_loss: 0.3794 - val_acc: 0.8975\n",
      "Epoch 21/50\n",
      "10474/10474 [==============================] - 1s 113us/step - loss: 0.2676 - acc: 0.9176 - val_loss: 0.4645 - val_acc: 0.8946\n",
      "Epoch 22/50\n",
      "10474/10474 [==============================] - 1s 113us/step - loss: 0.2703 - acc: 0.9168 - val_loss: 0.4645 - val_acc: 0.8829\n",
      "Epoch 23/50\n",
      "10474/10474 [==============================] - 1s 113us/step - loss: 0.2969 - acc: 0.9118 - val_loss: 0.5084 - val_acc: 0.8889\n",
      "Epoch 24/50\n",
      "10474/10474 [==============================] - 1s 113us/step - loss: 0.2662 - acc: 0.9234 - val_loss: 0.4464 - val_acc: 0.8959\n",
      "Epoch 25/50\n",
      "10474/10474 [==============================] - 1s 112us/step - loss: 0.2484 - acc: 0.9239 - val_loss: 0.4891 - val_acc: 0.8873\n",
      "Epoch 26/50\n",
      "10474/10474 [==============================] - 1s 113us/step - loss: 0.2556 - acc: 0.9222 - val_loss: 0.4773 - val_acc: 0.8881\n",
      "Epoch 27/50\n",
      "10474/10474 [==============================] - 1s 113us/step - loss: 0.2422 - acc: 0.9249 - val_loss: 0.4742 - val_acc: 0.8886\n",
      "Epoch 28/50\n",
      "10474/10474 [==============================] - 1s 113us/step - loss: 0.2416 - acc: 0.9234 - val_loss: 0.5899 - val_acc: 0.8852\n",
      "Epoch 29/50\n",
      "10474/10474 [==============================] - 1s 114us/step - loss: 0.2282 - acc: 0.9272 - val_loss: 0.4692 - val_acc: 0.8868\n",
      "Epoch 30/50\n",
      "10474/10474 [==============================] - 1s 113us/step - loss: 0.2207 - acc: 0.9301 - val_loss: 0.4522 - val_acc: 0.8985\n",
      "Epoch 31/50\n",
      "10474/10474 [==============================] - 1s 113us/step - loss: 0.2253 - acc: 0.9285 - val_loss: 0.5069 - val_acc: 0.8847\n",
      "Epoch 32/50\n",
      "10474/10474 [==============================] - 1s 113us/step - loss: 0.2334 - acc: 0.9294 - val_loss: 0.4381 - val_acc: 0.8905\n",
      "Epoch 33/50\n",
      "10474/10474 [==============================] - 1s 113us/step - loss: 0.2142 - acc: 0.9356 - val_loss: 0.4684 - val_acc: 0.8933\n",
      "Epoch 34/50\n",
      "10474/10474 [==============================] - 1s 113us/step - loss: 0.2151 - acc: 0.9326 - val_loss: 0.4853 - val_acc: 0.8795\n",
      "Epoch 35/50\n",
      "10474/10474 [==============================] - 1s 112us/step - loss: 0.2222 - acc: 0.9341 - val_loss: 0.4954 - val_acc: 0.8868\n",
      "Epoch 36/50\n",
      "10474/10474 [==============================] - 1s 112us/step - loss: 0.2077 - acc: 0.9373 - val_loss: 0.5167 - val_acc: 0.8772\n",
      "Epoch 37/50\n",
      "10474/10474 [==============================] - 1s 114us/step - loss: 0.2089 - acc: 0.9332 - val_loss: 0.4755 - val_acc: 0.8918\n",
      "Epoch 38/50\n",
      "10474/10474 [==============================] - 1s 112us/step - loss: 0.2053 - acc: 0.9368 - val_loss: 0.5047 - val_acc: 0.8855\n",
      "Epoch 39/50\n",
      "10474/10474 [==============================] - 1s 113us/step - loss: 0.1977 - acc: 0.9392 - val_loss: 0.4884 - val_acc: 0.8824\n",
      "Epoch 40/50\n",
      "10474/10474 [==============================] - 1s 113us/step - loss: 0.2095 - acc: 0.9376 - val_loss: 0.4673 - val_acc: 0.8894\n",
      "Epoch 41/50\n",
      "10474/10474 [==============================] - 1s 113us/step - loss: 0.1910 - acc: 0.9421 - val_loss: 0.5094 - val_acc: 0.8915\n",
      "Epoch 42/50\n",
      "10474/10474 [==============================] - 1s 112us/step - loss: 0.2072 - acc: 0.9376 - val_loss: 0.5127 - val_acc: 0.8941\n",
      "Epoch 43/50\n",
      "10474/10474 [==============================] - 1s 112us/step - loss: 0.1923 - acc: 0.9441 - val_loss: 0.5424 - val_acc: 0.8925\n",
      "Epoch 44/50\n",
      "10474/10474 [==============================] - 1s 112us/step - loss: 0.1926 - acc: 0.9427 - val_loss: 0.5195 - val_acc: 0.8910\n",
      "Epoch 45/50\n",
      "10474/10474 [==============================] - 1s 112us/step - loss: 0.1888 - acc: 0.9422 - val_loss: 0.5586 - val_acc: 0.8782\n",
      "Epoch 46/50\n",
      "10474/10474 [==============================] - 1s 113us/step - loss: 0.1887 - acc: 0.9448 - val_loss: 0.4889 - val_acc: 0.8978\n",
      "Epoch 47/50\n",
      "10474/10474 [==============================] - 1s 113us/step - loss: 0.1725 - acc: 0.9487 - val_loss: 0.5438 - val_acc: 0.8878\n",
      "Epoch 48/50\n",
      "10474/10474 [==============================] - 1s 113us/step - loss: 0.1847 - acc: 0.9481 - val_loss: 0.5547 - val_acc: 0.8698\n",
      "Epoch 49/50\n",
      "10474/10474 [==============================] - 1s 114us/step - loss: 0.1833 - acc: 0.9427 - val_loss: 0.5307 - val_acc: 0.8798\n",
      "Epoch 50/50\n",
      "10474/10474 [==============================] - 1s 113us/step - loss: 0.1937 - acc: 0.9435 - val_loss: 0.5161 - val_acc: 0.8803\n"
     ]
    },
    {
     "data": {
      "text/plain": [
       "<keras.callbacks.History at 0x2a38776b9b0>"
      ]
     },
     "execution_count": 23,
     "metadata": {},
     "output_type": "execute_result"
    }
   ],
   "source": [
    "opt = Adam(lr=0.01)\n",
    "model_classification.compile(optimizer = opt, loss = \"categorical_crossentropy\", metrics = [\"accuracy\"])\n",
    "\n",
    "model_classification.fit(x = X_train_s, y = Y_train_s, epochs = 50, batch_size = 128, validation_data=(X_test_s, Y_test_s))"
   ]
  },
  {
   "cell_type": "code",
   "execution_count": 27,
   "metadata": {},
   "outputs": [
    {
     "name": "stdout",
     "output_type": "stream",
     "text": [
      "(3834, 5)\n"
     ]
    }
   ],
   "source": [
    "# predict labels\n",
    "Y_pred_s = model_classification.predict(X_test_s)\n",
    "print(Y_pred_s.shape)"
   ]
  },
  {
   "cell_type": "code",
   "execution_count": 29,
   "metadata": {},
   "outputs": [
    {
     "name": "stdout",
     "output_type": "stream",
     "text": [
      "(326, 5)\n"
     ]
    }
   ],
   "source": [
    "Y_pred_s_new = Y_pred_s[activity_ind,:]\n",
    "print(Y_pred_s_new.shape)"
   ]
  },
  {
   "cell_type": "code",
   "execution_count": 34,
   "metadata": {},
   "outputs": [
    {
     "name": "stdout",
     "output_type": "stream",
     "text": [
      "(326, 5)\n"
     ]
    }
   ],
   "source": [
    "Y_test_s_new = Y_test_s[activity_ind,:]\n",
    "print(Y_test_s_new.shape)"
   ]
  },
  {
   "cell_type": "code",
   "execution_count": 37,
   "metadata": {},
   "outputs": [],
   "source": [
    "Y_test_hard = np.argmax(Y_test_s, axis=1)\n",
    "Y_pred_hard = np.argmax(Y_pred_s, axis=1)"
   ]
  },
  {
   "cell_type": "code",
   "execution_count": 39,
   "metadata": {},
   "outputs": [
    {
     "name": "stdout",
     "output_type": "stream",
     "text": [
      "Y_test_hard_new:  (326,)\n",
      "Y_pred_hard_new:  (326,)\n"
     ]
    }
   ],
   "source": [
    "Y_test_hard_new = Y_test_hard[activity_ind]\n",
    "print(\"Y_test_hard_new: \", Y_test_hard_new.shape)\n",
    "Y_pred_hard_new = Y_pred_hard[activity_ind]\n",
    "print(\"Y_pred_hard_new: \", Y_pred_hard_new.shape)"
   ]
  },
  {
   "cell_type": "code",
   "execution_count": 40,
   "metadata": {},
   "outputs": [
    {
     "name": "stdout",
     "output_type": "stream",
     "text": [
      "F1-measure:  0.7859770498402491\n",
      "AUC w.r. to each class:  {0: 0.189873417721519, 1: 0.9725202114427861, 2: 0.9552022445639468, 3: 0.9064935064935065, 4: 0.057715311004784664}\n"
     ]
    },
    {
     "name": "stderr",
     "output_type": "stream",
     "text": [
      "C:\\Users\\Riccardo\\Anaconda3\\lib\\site-packages\\sklearn\\metrics\\classification.py:1135: UndefinedMetricWarning: F-score is ill-defined and being set to 0.0 in labels with no predicted samples.\n",
      "  'precision', 'predicted', average, warn_for)\n"
     ]
    },
    {
     "data": {
      "image/png": "[encoded data removed]",
      "text/plain": [
       "<Figure size 432x288 with 2 Axes>"
      ]
     },
     "metadata": {},
     "output_type": "display_data"
    }
   ],
   "source": [
    "print(\"F1-measure: \", utils.f1_score(Y_test_hard_new, Y_pred_hard_new, average='weighted'))\n",
    "print(\"AUC w.r. to each class: \", utils.AUC(Y_test_s_new, Y_pred_s_new, classes))\n",
    "\n",
    "# Compute and plot confusion matrix\n",
    "cnf_matrix = utils.confusion_matrix(Y_test_hard_new, Y_pred_hard_new)\n",
    "np.set_printoptions(precision=2)\n",
    "\n",
    "plt.figure()\n",
    "utils.plot_confusion_matrix(cnf_matrix, classes=[1,2],\n",
    "                      title='Confusion matrix, without normalization')"
   ]
  },
  {
   "cell_type": "code",
   "execution_count": null,
   "metadata": {},
   "outputs": [],
   "source": []
  }
 ],
 "metadata": {
  "kernelspec": {
   "display_name": "Python 3",
   "language": "python",
   "name": "python3"
  },
  "language_info": {
   "codemirror_mode": {
    "name": "ipython",
    "version": 3
   },
   "file_extension": ".py",
   "mimetype": "text/x-python",
   "name": "python",
   "nbconvert_exporter": "python",
   "pygments_lexer": "ipython3",
   "version": "3.6.4"
  }
 },
 "nbformat": 4,
 "nbformat_minor": 2
}
