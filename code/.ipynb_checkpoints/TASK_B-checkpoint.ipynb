{
 "cells": [
  {
   "cell_type": "markdown",
   "metadata": {},
   "source": [
    "# HDA - Project 3\n",
    "## TASK B1: Activity detection\n",
    "This task consists of a binary classification, where a gesture denotes activity and thus the model detects wheter there is a gesture label or not (labeled in column 6).\n",
    "\n",
    "This first cell contains the parameters that can be tuned for code execution:\n",
    "- subject: select the subject on which to test the model, between [1,4];\n",
    "- folder: directory name where '.mat' files are stored;\n",
    "- label_col: index of feature column to be selected to perform activity detection, between [0,6];\n",
    "- window_size: parameter that sets the length of temporal windows on which to perform the convolution;\n",
    "- stride: step length to chose the next window."
   ]
  },
  {
   "cell_type": "code",
   "execution_count": 1,
   "metadata": {},
   "outputs": [],
   "source": [
    "subject = 1\n",
    "folder = \"./data/full/\"\n",
    "label = 0     # default for task B1\n",
    "window_size = 15\n",
    "stride = 5\n",
    "# make_binary = True"
   ]
  },
  {
   "cell_type": "code",
   "execution_count": 2,
   "metadata": {},
   "outputs": [
    {
     "name": "stderr",
     "output_type": "stream",
     "text": [
      "Using TensorFlow backend.\n"
     ]
    }
   ],
   "source": [
    "import utils\n",
    "import deeplearning\n",
    "import numpy as np\n",
    "from sklearn.preprocessing import OneHotEncoder, StandardScaler\n",
    "from sklearn.metrics import classification_report\n",
    "import matplotlib.pyplot as plt\n",
    "from keras.optimizers import Adam\n",
    "from keras.utils import to_categorical\n",
    "from keras.callbacks import ModelCheckpoint\n",
    "from keras.models import load_model"
   ]
  },
  {
   "cell_type": "markdown",
   "metadata": {},
   "source": [
    "Creation of training set and test set"
   ]
  },
  {
   "cell_type": "code",
   "execution_count": 3,
   "metadata": {},
   "outputs": [
    {
     "name": "stdout",
     "output_type": "stream",
     "text": [
      "Training samples:  157125 \n",
      "Test samples:       57536 \n",
      "Features:             110\n",
      "Classes: 2\n",
      "\n",
      "TRAINING SET:\n",
      "Dataset of Images have shape:  (31422, 15, 110) \n",
      "Dataset of Labels have shape:    (31422, 2) \n",
      "Fraction of labels:   [0.11036853 0.88963147]\n",
      "\n",
      "TEST SET:\n",
      "Dataset of Images have shape:  (11504, 15, 110) \n",
      "Dataset of Labels have shape:    (11504, 2) \n",
      "Fraction of labels:   [0.1772427 0.8227573]\n"
     ]
    }
   ],
   "source": [
    "[x_train, y_train, x_test, y_test, n_features, n_classes] = utils.preprocessing(subject,\n",
    "                                                                                folder,\n",
    "                                                                                label,\n",
    "                                                                                window_size,\n",
    "                                                                                stride,\n",
    "                                                                                printInfo = True,\n",
    "                                                                                make_binary = True)"
   ]
  },
  {
   "cell_type": "markdown",
   "metadata": {},
   "source": [
    "Preparation of data in a input-suitable form"
   ]
  },
  {
   "cell_type": "code",
   "execution_count": 4,
   "metadata": {},
   "outputs": [
    {
     "name": "stdout",
     "output_type": "stream",
     "text": [
      "_________________________________________________________________\n",
      "Layer (type)                 Output Shape              Param #   \n",
      "=================================================================\n",
      "batch_normalization_1 (Batch (None, 15, 110, 1)        4         \n",
      "_________________________________________________________________\n",
      "conv2d_1 (Conv2D)            (None, 5, 108, 50)        1700      \n",
      "_________________________________________________________________\n",
      "max_pooling2d_1 (MaxPooling2 (None, 2, 108, 50)        0         \n",
      "_________________________________________________________________\n",
      "reshape_1 (Reshape)          (None, 2, 5400)           0         \n",
      "_________________________________________________________________\n",
      "lstm_1 (LSTM)                (None, 2, 20)             433680    \n",
      "_________________________________________________________________\n",
      "lstm_2 (LSTM)                (None, 20)                3280      \n",
      "_________________________________________________________________\n",
      "dense_1 (Dense)              (None, 512)               10752     \n",
      "_________________________________________________________________\n",
      "dense_2 (Dense)              (None, 2)                 1026      \n",
      "=================================================================\n",
      "Total params: 450,442\n",
      "Trainable params: 450,440\n",
      "Non-trainable params: 2\n",
      "_________________________________________________________________\n"
     ]
    }
   ],
   "source": [
    "detection_model = deeplearning.MotionDetection((window_size,n_features,1), n_classes)\n",
    "detection_model.summary() # model visualization"
   ]
  },
  {
   "cell_type": "code",
   "execution_count": 5,
   "metadata": {},
   "outputs": [],
   "source": [
    "def f1_loss(y_true, y_pred):\n",
    "    return 1 - utils.f1_score(np.argmax(y_true), y_pred,average='weighted')"
   ]
  },
  {
   "cell_type": "code",
   "execution_count": 6,
   "metadata": {
    "scrolled": true
   },
   "outputs": [
    {
     "name": "stdout",
     "output_type": "stream",
     "text": [
      "Train on 31422 samples, validate on 11504 samples\n",
      "Epoch 1/5\n",
      "31422/31422 [==============================] - 10s 327us/step - loss: 0.1718 - acc: 0.9461 - val_loss: 0.1911 - val_acc: 0.9360\n",
      "\n",
      "Epoch 00001: val_loss improved from inf to 0.19113, saving model to ./data/weights_d.hdf5\n",
      "Epoch 2/5\n",
      "31422/31422 [==============================] - 6s 207us/step - loss: 0.1464 - acc: 0.9541 - val_loss: 0.2154 - val_acc: 0.9237\n",
      "\n",
      "Epoch 00002: val_loss did not improve\n",
      "Epoch 3/5\n",
      "31422/31422 [==============================] - 7s 208us/step - loss: 0.1401 - acc: 0.9551 - val_loss: 0.2317 - val_acc: 0.9265\n",
      "\n",
      "Epoch 00003: val_loss did not improve\n",
      "Epoch 4/5\n",
      "31422/31422 [==============================] - 7s 208us/step - loss: 0.1649 - acc: 0.9473 - val_loss: 0.2631 - val_acc: 0.8913\n",
      "\n",
      "Epoch 00004: val_loss did not improve\n",
      "Epoch 5/5\n",
      "31422/31422 [==============================] - 7s 209us/step - loss: 0.1449 - acc: 0.9535 - val_loss: 0.2164 - val_acc: 0.9183\n",
      "\n",
      "Epoch 00005: val_loss did not improve\n"
     ]
    },
    {
     "data": {
      "text/plain": [
       "<keras.callbacks.History at 0x1a4109beba8>"
      ]
     },
     "execution_count": 6,
     "metadata": {},
     "output_type": "execute_result"
    }
   ],
   "source": [
    "detection_model.compile(optimizer = Adam(lr=0.01), \n",
    "                        loss = \"categorical_crossentropy\",\n",
    "                        metrics = [\"accuracy\"])\n",
    "                        \n",
    "\n",
    "input_train = x_train.reshape(x_train.shape[0], window_size, n_features, 1)\n",
    "input_test = x_test.reshape(x_test.shape[0], window_size, n_features, 1)\n",
    "\n",
    "checkpointer = ModelCheckpoint(filepath='./data/weights_d.hdf5', verbose=1, save_best_only=True)\n",
    "\n",
    "detection_model.fit(x = input_train, \n",
    "                    y = y_train, \n",
    "                    epochs = 5, \n",
    "                    batch_size = 128,\n",
    "                    verbose = 1,\n",
    "                    validation_data=(input_test, y_test),\n",
    "                    callbacks=[checkpointer])"
   ]
  },
  {
   "cell_type": "code",
   "execution_count": 7,
   "metadata": {},
   "outputs": [
    {
     "name": "stdout",
     "output_type": "stream",
     "text": [
      "             precision    recall  f1-score   support\n",
      "\n",
      "          0       0.96      0.56      0.71      2039\n",
      "          1       0.91      1.00      0.95      9465\n",
      "\n",
      "avg / total       0.92      0.92      0.91     11504\n",
      "\n"
     ]
    }
   ],
   "source": [
    "y_pred = detection_model.predict(input_test)\n",
    "y_pred = np.argmax(y_pred, 1)\n",
    "\n",
    "print(classification_report(y_test, to_categorical(y_pred)))"
   ]
  },
  {
   "cell_type": "code",
   "execution_count": 8,
   "metadata": {},
   "outputs": [
    {
     "name": "stdout",
     "output_type": "stream",
     "text": [
      "             precision    recall  f1-score   support\n",
      "\n",
      "          0       0.88      0.74      0.80      2039\n",
      "          1       0.95      0.98      0.96      9465\n",
      "\n",
      "avg / total       0.93      0.94      0.93     11504\n",
      "\n"
     ]
    }
   ],
   "source": [
    "detection_model_best = load_model('./data/weights_d.hdf5')\n",
    "\n",
    "y_pred = detection_model_best.predict(input_test)\n",
    "y_pred = np.argmax(y_pred, 1)\n",
    "\n",
    "print(classification_report(y_test, to_categorical(y_pred)))"
   ]
  },
  {
   "cell_type": "markdown",
   "metadata": {},
   "source": [
    "## Task B2: gesture recognition\n",
    "This task consists of a 17-class classification, where gestures are labeled in column 6.\n",
    "\n",
    "To tune the following parameters, refer to the first cell of task B1:\n",
    "- subject: select the subject on which to test the model, between [1,4];\n",
    "- folder: directory name where '.mat' files are stored;\n",
    "- label_col: index of feature column to be selected to perform activity detection, between [0,6];\n",
    "- window_size: parameter that sets the length of temporal windows on which to perform the convolution;\n",
    "- stride: step length to chose the next window.\n",
    "\n",
    "Here we just need to preserve the different labels, thus we set 'make_binary' to False. We have then 18 different labels, keeping into account the null class, with label 0."
   ]
  },
  {
   "cell_type": "code",
   "execution_count": 10,
   "metadata": {},
   "outputs": [
    {
     "name": "stdout",
     "output_type": "stream",
     "text": [
      "Training samples:  157125 \n",
      "Test samples:       57536 \n",
      "Features:             110\n",
      "Classes: 5\n",
      "\n",
      "TRAINING SET:\n",
      "Dataset of Images have shape:  (27948, 15, 110) \n",
      "Dataset of Labels have shape:    (27948, 4) \n",
      "Fraction of labels:   [0.47098182 0.30918134 0.19253614 0.0273007 ]\n",
      "\n",
      "TEST SET:\n",
      "Dataset of Images have shape:  (9465, 15, 110) \n",
      "Dataset of Labels have shape:    (9465, 4) \n",
      "Fraction of labels:   [0.41817221 0.24638141 0.28874802 0.04669836]\n"
     ]
    }
   ],
   "source": [
    "[x_train, y_train, x_test, y_test, n_features, n_classes] = utils.preprocessing(subject,\n",
    "                                                                    folder,\n",
    "                                                                    label,\n",
    "                                                                    window_size,\n",
    "                                                                    stride,\n",
    "                                                                    printInfo = True,\n",
    "                                                                    make_binary = False,\n",
    "                                                                    null_class = False)"
   ]
  },
  {
   "cell_type": "code",
   "execution_count": 11,
   "metadata": {},
   "outputs": [],
   "source": [
    "n_classes = 4 # OVERWRITE TO BE FIXED"
   ]
  },
  {
   "cell_type": "code",
   "execution_count": 12,
   "metadata": {},
   "outputs": [
    {
     "name": "stdout",
     "output_type": "stream",
     "text": [
      "_________________________________________________________________\n",
      "Layer (type)                 Output Shape              Param #   \n",
      "=================================================================\n",
      "batch_normalization_2 (Batch (None, 15, 110, 1)        4         \n",
      "_________________________________________________________________\n",
      "conv2d_2 (Conv2D)            (None, 5, 110, 50)        600       \n",
      "_________________________________________________________________\n",
      "max_pooling2d_2 (MaxPooling2 (None, 2, 110, 50)        0         \n",
      "_________________________________________________________________\n",
      "reshape_2 (Reshape)          (None, 2, 5500)           0         \n",
      "_________________________________________________________________\n",
      "lstm_3 (LSTM)                (None, 2, 300)            6961200   \n",
      "_________________________________________________________________\n",
      "lstm_4 (LSTM)                (None, 300)               721200    \n",
      "_________________________________________________________________\n",
      "dropout_1 (Dropout)          (None, 300)               0         \n",
      "_________________________________________________________________\n",
      "dense_3 (Dense)              (None, 512)               154112    \n",
      "_________________________________________________________________\n",
      "dropout_2 (Dropout)          (None, 512)               0         \n",
      "_________________________________________________________________\n",
      "dense_4 (Dense)              (None, 4)                 2052      \n",
      "=================================================================\n",
      "Total params: 7,839,168\n",
      "Trainable params: 7,839,166\n",
      "Non-trainable params: 2\n",
      "_________________________________________________________________\n"
     ]
    }
   ],
   "source": [
    "classification_model = deeplearning.MotionClassification((window_size,n_features,1), n_classes)\n",
    "classification_model.summary() # model visualization"
   ]
  },
  {
   "cell_type": "code",
   "execution_count": 13,
   "metadata": {},
   "outputs": [
    {
     "name": "stdout",
     "output_type": "stream",
     "text": [
      "Train on 27948 samples, validate on 9465 samples\n",
      "Epoch 1/10\n",
      "27948/27948 [==============================] - 18s 659us/step - loss: 0.3454 - acc: 0.8650 - val_loss: 0.2811 - val_acc: 0.9306\n",
      "\n",
      "Epoch 00001: val_loss improved from inf to 0.28109, saving model to ./data/weights_c.hdf5\n",
      "Epoch 2/10\n",
      "27948/27948 [==============================] - 14s 511us/step - loss: 0.2712 - acc: 0.8895 - val_loss: 0.3218 - val_acc: 0.9260\n",
      "\n",
      "Epoch 00002: val_loss did not improve\n",
      "Epoch 3/10\n",
      "27948/27948 [==============================] - 14s 510us/step - loss: 0.2653 - acc: 0.8944 - val_loss: 0.2858 - val_acc: 0.9313\n",
      "\n",
      "Epoch 00003: val_loss did not improve\n",
      "Epoch 4/10\n",
      "27948/27948 [==============================] - 14s 511us/step - loss: 0.2733 - acc: 0.8886 - val_loss: 0.3094 - val_acc: 0.9163\n",
      "\n",
      "Epoch 00004: val_loss did not improve\n",
      "Epoch 5/10\n",
      "27948/27948 [==============================] - 14s 513us/step - loss: 0.3031 - acc: 0.8754 - val_loss: 0.1718 - val_acc: 0.9373\n",
      "\n",
      "Epoch 00005: val_loss improved from 0.28109 to 0.17182, saving model to ./data/weights_c.hdf5\n",
      "Epoch 6/10\n",
      "27948/27948 [==============================] - 14s 511us/step - loss: 0.2885 - acc: 0.8833 - val_loss: 0.2764 - val_acc: 0.9237\n",
      "\n",
      "Epoch 00006: val_loss did not improve\n",
      "Epoch 7/10\n",
      "27948/27948 [==============================] - 14s 516us/step - loss: 0.3017 - acc: 0.8786 - val_loss: 0.3169 - val_acc: 0.9196\n",
      "\n",
      "Epoch 00007: val_loss did not improve\n",
      "Epoch 8/10\n",
      "27948/27948 [==============================] - 14s 513us/step - loss: 0.3052 - acc: 0.8754 - val_loss: 0.3125 - val_acc: 0.9274\n",
      "\n",
      "Epoch 00008: val_loss did not improve\n",
      "Epoch 9/10\n",
      "27948/27948 [==============================] - 14s 513us/step - loss: 0.3226 - acc: 0.8691 - val_loss: 0.2445 - val_acc: 0.9085\n",
      "\n",
      "Epoch 00009: val_loss did not improve\n",
      "Epoch 10/10\n",
      "27948/27948 [==============================] - 14s 511us/step - loss: 0.3653 - acc: 0.8533 - val_loss: 0.3653 - val_acc: 0.9304\n",
      "\n",
      "Epoch 00010: val_loss did not improve\n"
     ]
    },
    {
     "data": {
      "text/plain": [
       "<keras.callbacks.History at 0x1a41099eb38>"
      ]
     },
     "execution_count": 13,
     "metadata": {},
     "output_type": "execute_result"
    }
   ],
   "source": [
    "classification_model.compile(optimizer = Adam(lr=0.01), \n",
    "                             loss = \"categorical_crossentropy\", \n",
    "                             metrics = [\"accuracy\"])\n",
    "\n",
    "input_train = x_train.reshape(x_train.shape[0], window_size, n_features, 1)\n",
    "input_test = x_test.reshape(x_test.shape[0], window_size, n_features, 1)\n",
    "\n",
    "checkpointer = ModelCheckpoint(filepath='./data/weights_c.hdf5', verbose=1, save_best_only=True)\n",
    "\n",
    "classification_model.fit(x = input_train, \n",
    "                         y = y_train, \n",
    "                         epochs = 10, \n",
    "                         batch_size = 128,\n",
    "                         verbose = 1,\n",
    "                         validation_data=(input_test, y_test),\n",
    "                         callbacks=[checkpointer])"
   ]
  },
  {
   "cell_type": "code",
   "execution_count": 14,
   "metadata": {},
   "outputs": [
    {
     "name": "stdout",
     "output_type": "stream",
     "text": [
      "             precision    recall  f1-score   support\n",
      "\n",
      "          0       0.91      0.94      0.93      3958\n",
      "          1       0.93      0.84      0.88      2332\n",
      "          2       0.95      1.00      0.97      2733\n",
      "          3       1.00      0.86      0.92       442\n",
      "\n",
      "avg / total       0.93      0.93      0.93      9465\n",
      "\n"
     ]
    }
   ],
   "source": [
    "y_pred = classification_model.predict(input_test)\n",
    "y_pred = np.argmax(y_pred, 1)\n",
    "\n",
    "print(classification_report(y_test, to_categorical(y_pred)))"
   ]
  },
  {
   "cell_type": "code",
   "execution_count": 15,
   "metadata": {},
   "outputs": [
    {
     "name": "stdout",
     "output_type": "stream",
     "text": [
      "             precision    recall  f1-score   support\n",
      "\n",
      "          0       0.92      0.93      0.93      3958\n",
      "          1       0.90      0.87      0.88      2332\n",
      "          2       0.98      1.00      0.99      2733\n",
      "          3       0.99      1.00      0.99       442\n",
      "\n",
      "avg / total       0.94      0.94      0.94      9465\n",
      "\n"
     ]
    }
   ],
   "source": [
    "detection_model_best = load_model('./data/weights_c.hdf5')\n",
    "\n",
    "y_pred = detection_model_best.predict(input_test)\n",
    "y_pred = np.argmax(y_pred, 1)\n",
    "\n",
    "print(classification_report(y_test, to_categorical(y_pred)))"
   ]
  },
  {
   "cell_type": "markdown",
   "metadata": {},
   "source": [
    "## Classification with null class\n",
    "(detection and classification are performed together)"
   ]
  },
  {
   "cell_type": "code",
   "execution_count": 16,
   "metadata": {},
   "outputs": [
    {
     "name": "stdout",
     "output_type": "stream",
     "text": [
      "Training samples:  157125 \n",
      "Test samples:       57536 \n",
      "Features:             110\n",
      "Classes: 5\n",
      "\n",
      "TRAINING SET:\n",
      "Dataset of Images have shape:  (31422, 15, 110) \n",
      "Dataset of Labels have shape:    (31422, 5) \n",
      "Fraction of labels:   [0.11055948 0.41891032 0.27499841 0.17124944 0.02428235]\n",
      "\n",
      "TEST SET:\n",
      "Dataset of Images have shape:  (11504, 15, 110) \n",
      "Dataset of Labels have shape:    (11504, 5) \n",
      "Fraction of labels:   [0.1772427  0.34405424 0.2027121  0.23756954 0.03842142]\n"
     ]
    }
   ],
   "source": [
    "[x_train, y_train, x_test, y_test, n_features, n_classes] = utils.preprocessing(subject,\n",
    "                                                                                folder,\n",
    "                                                                                label,\n",
    "                                                                                window_size,\n",
    "                                                                                stride,\n",
    "                                                                                printInfo = True,\n",
    "                                                                                make_binary = False,)"
   ]
  },
  {
   "cell_type": "code",
   "execution_count": 17,
   "metadata": {},
   "outputs": [
    {
     "name": "stdout",
     "output_type": "stream",
     "text": [
      "_________________________________________________________________\n",
      "Layer (type)                 Output Shape              Param #   \n",
      "=================================================================\n",
      "batch_normalization_3 (Batch (None, 15, 110, 1)        4         \n",
      "_________________________________________________________________\n",
      "conv2d_3 (Conv2D)            (None, 5, 110, 50)        600       \n",
      "_________________________________________________________________\n",
      "max_pooling2d_3 (MaxPooling2 (None, 2, 110, 50)        0         \n",
      "_________________________________________________________________\n",
      "reshape_3 (Reshape)          (None, 2, 5500)           0         \n",
      "_________________________________________________________________\n",
      "lstm_5 (LSTM)                (None, 2, 300)            6961200   \n",
      "_________________________________________________________________\n",
      "lstm_6 (LSTM)                (None, 300)               721200    \n",
      "_________________________________________________________________\n",
      "dropout_3 (Dropout)          (None, 300)               0         \n",
      "_________________________________________________________________\n",
      "dense_5 (Dense)              (None, 512)               154112    \n",
      "_________________________________________________________________\n",
      "dropout_4 (Dropout)          (None, 512)               0         \n",
      "_________________________________________________________________\n",
      "dense_6 (Dense)              (None, 5)                 2565      \n",
      "=================================================================\n",
      "Total params: 7,839,681\n",
      "Trainable params: 7,839,679\n",
      "Non-trainable params: 2\n",
      "_________________________________________________________________\n"
     ]
    }
   ],
   "source": [
    "classification_model = deeplearning.MotionClassification((window_size,n_features,1), n_classes)\n",
    "classification_model.summary() # model visualization"
   ]
  },
  {
   "cell_type": "code",
   "execution_count": 18,
   "metadata": {},
   "outputs": [
    {
     "name": "stdout",
     "output_type": "stream",
     "text": [
      "Train on 31422 samples, validate on 11504 samples\n",
      "Epoch 1/10\n",
      "31422/31422 [==============================] - 16s 511us/step - loss: 0.5017 - acc: 0.8212 - val_loss: 0.2869 - val_acc: 0.9003\n",
      "\n",
      "Epoch 00001: val_loss improved from inf to 0.28693, saving model to ./data/weights_dc.hdf5\n",
      "Epoch 2/10\n",
      "31422/31422 [==============================] - 11s 347us/step - loss: 0.2704 - acc: 0.8961 - val_loss: 0.3399 - val_acc: 0.8954\n",
      "\n",
      "Epoch 00002: val_loss did not improve\n",
      "Epoch 3/10\n",
      "31422/31422 [==============================] - 11s 344us/step - loss: 0.2451 - acc: 0.9074 - val_loss: 0.3722 - val_acc: 0.8842\n",
      "\n",
      "Epoch 00003: val_loss did not improve\n",
      "Epoch 4/10\n",
      "31422/31422 [==============================] - 11s 346us/step - loss: 0.2169 - acc: 0.9199 - val_loss: 0.3124 - val_acc: 0.9015\n",
      "\n",
      "Epoch 00004: val_loss did not improve\n",
      "Epoch 5/10\n",
      "31422/31422 [==============================] - 11s 343us/step - loss: 0.1969 - acc: 0.9273 - val_loss: 0.3162 - val_acc: 0.8998\n",
      "\n",
      "Epoch 00005: val_loss did not improve\n",
      "Epoch 6/10\n",
      "31422/31422 [==============================] - 11s 342us/step - loss: 0.1876 - acc: 0.9307 - val_loss: 0.4430 - val_acc: 0.9051\n",
      "\n",
      "Epoch 00006: val_loss did not improve\n",
      "Epoch 7/10\n",
      "31422/31422 [==============================] - 11s 343us/step - loss: 0.1795 - acc: 0.9333 - val_loss: 0.3022 - val_acc: 0.9037\n",
      "\n",
      "Epoch 00007: val_loss did not improve\n",
      "Epoch 8/10\n",
      "31422/31422 [==============================] - 11s 342us/step - loss: 0.1633 - acc: 0.9399 - val_loss: 0.3868 - val_acc: 0.8972\n",
      "\n",
      "Epoch 00008: val_loss did not improve\n",
      "Epoch 9/10\n",
      "31422/31422 [==============================] - 11s 343us/step - loss: 0.1504 - acc: 0.9442 - val_loss: 0.4601 - val_acc: 0.8886\n",
      "\n",
      "Epoch 00009: val_loss did not improve\n",
      "Epoch 10/10\n",
      "31422/31422 [==============================] - 11s 344us/step - loss: 0.1672 - acc: 0.9407 - val_loss: 0.4091 - val_acc: 0.8836\n",
      "\n",
      "Epoch 00010: val_loss did not improve\n"
     ]
    },
    {
     "data": {
      "text/plain": [
       "<keras.callbacks.History at 0x1a42da7f780>"
      ]
     },
     "execution_count": 18,
     "metadata": {},
     "output_type": "execute_result"
    }
   ],
   "source": [
    "classification_model.compile(optimizer = Adam(lr=0.01), \n",
    "                             loss = \"categorical_crossentropy\", \n",
    "                             metrics = [\"accuracy\"])\n",
    "\n",
    "input_train = x_train.reshape(x_train.shape[0], window_size, n_features, 1)\n",
    "input_test = x_test.reshape(x_test.shape[0], window_size, n_features, 1)\n",
    "\n",
    "checkpointer = ModelCheckpoint(filepath='./data/weights_dc.hdf5', verbose=1, save_best_only=True)\n",
    "\n",
    "classification_model.fit(x = input_train, \n",
    "                         y = y_train, \n",
    "                         epochs = 10, \n",
    "                         batch_size = 300,\n",
    "                         verbose = 1,\n",
    "                         validation_data=(input_test, y_test),\n",
    "                         callbacks=[checkpointer])"
   ]
  },
  {
   "cell_type": "code",
   "execution_count": 19,
   "metadata": {},
   "outputs": [
    {
     "name": "stdout",
     "output_type": "stream",
     "text": [
      "             precision    recall  f1-score   support\n",
      "\n",
      "          0       0.92      0.73      0.81      2039\n",
      "          1       0.92      0.87      0.90      3958\n",
      "          2       0.72      0.89      0.80      2332\n",
      "          3       0.99      0.99      0.99      2733\n",
      "          4       0.87      1.00      0.93       442\n",
      "\n",
      "avg / total       0.89      0.88      0.88     11504\n",
      "\n"
     ]
    }
   ],
   "source": [
    "y_pred = classification_model.predict(input_test)\n",
    "y_pred = np.argmax(y_pred, 1)\n",
    "\n",
    "print(classification_report(y_test, to_categorical(y_pred)))"
   ]
  },
  {
   "cell_type": "code",
   "execution_count": 20,
   "metadata": {},
   "outputs": [
    {
     "name": "stdout",
     "output_type": "stream",
     "text": [
      "             precision    recall  f1-score   support\n",
      "\n",
      "          0       0.90      0.79      0.84      2039\n",
      "          1       0.90      0.93      0.91      3958\n",
      "          2       0.80      0.82      0.81      2332\n",
      "          3       0.98      0.99      0.99      2733\n",
      "          4       0.89      1.00      0.94       442\n",
      "\n",
      "avg / total       0.90      0.90      0.90     11504\n",
      "\n"
     ]
    }
   ],
   "source": [
    "classification_model_best = load_model('./data/weights_dc.hdf5')\n",
    "\n",
    "y_pred = classification_model_best.predict(input_test)\n",
    "y_pred = np.argmax(y_pred, 1)\n",
    "\n",
    "print(classification_report(y_test, to_categorical(y_pred)))"
   ]
  },
  {
   "cell_type": "code",
   "execution_count": null,
   "metadata": {},
   "outputs": [],
   "source": []
  }
 ],
 "metadata": {
  "kernelspec": {
   "display_name": "Python 3",
   "language": "python",
   "name": "python3"
  },
  "language_info": {
   "codemirror_mode": {
    "name": "ipython",
    "version": 3
   },
   "file_extension": ".py",
   "mimetype": "text/x-python",
   "name": "python",
   "nbconvert_exporter": "python",
   "pygments_lexer": "ipython3",
   "version": "3.6.4"
  }
 },
 "nbformat": 4,
 "nbformat_minor": 2
}
