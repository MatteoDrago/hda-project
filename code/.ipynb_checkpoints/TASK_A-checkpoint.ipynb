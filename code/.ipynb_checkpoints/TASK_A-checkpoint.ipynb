{
 "cells": [
  {
   "cell_type": "markdown",
   "metadata": {},
   "source": [
    "# HDA - Project 3: TASK A\n",
    "## Classification of Modes of Locomotion\n",
    "This first cell contains the parameters that can be tuned for code execution:\n",
    "- subject: select the subject on which to test the model, between [1,4];\n",
    "- folder: directory name where '.mat' files are stored;\n",
    "- label_col: column of features to be selected to perform activity detection, between [0,6];\n",
    "- window_size: parameter that sets the length of temporal windows on which to perform the convolution;\n",
    "- stride: step length to chose the next window."
   ]
  },
  {
   "cell_type": "code",
   "execution_count": 1,
   "metadata": {},
   "outputs": [
    {
     "name": "stderr",
     "output_type": "stream",
     "text": [
      "Using TensorFlow backend.\n"
     ]
    }
   ],
   "source": [
    "import utils\n",
    "import numpy as np\n",
    "from sklearn.preprocessing import OneHotEncoder, StandardScaler\n",
    "import matplotlib.pyplot as plt\n",
    "from keras.optimizers import Adam"
   ]
  },
  {
   "cell_type": "code",
   "execution_count": 2,
   "metadata": {},
   "outputs": [],
   "source": [
    "# parameters definition\n",
    "\n",
    "subject = 1\n",
    "folder = \"./data/reduced/\"\n",
    "label_col = 0     # default for task A\n",
    "window_size = 50\n",
    "stride = 50"
   ]
  },
  {
   "cell_type": "markdown",
   "metadata": {},
   "source": [
    "# Section 1 - Loading and Preprocessing\n",
    "\n",
    "### Dataset Loading "
   ]
  },
  {
   "cell_type": "code",
   "execution_count": 3,
   "metadata": {},
   "outputs": [
    {
     "name": "stdout",
     "output_type": "stream",
     "text": [
      "\n",
      "Session shapes:\n",
      "ADL1:   (45810, 58)\n",
      "ADL2:   (28996, 58)\n",
      "ADL3:   (30167, 58)\n",
      "ADL4:   (30228, 58)\n",
      "ADL5:   (27308, 58)\n",
      "Drill:  (52152, 58)\n",
      "\n",
      "Training samples:  157125 \n",
      "Test samples:       57536 \n",
      "Features:             58\n"
     ]
    }
   ],
   "source": [
    "# import all sessions for a subject\n",
    "(data1, data2, data3, data4, data5, data6) = utils.loadData(subject, folder=folder)\n",
    "\n",
    "# create training set and test set\n",
    "X_train = np.concatenate((data1['features_interp'],\\\n",
    "                          data2['features_interp'],\\\n",
    "                          data3['features_interp'],\\\n",
    "                          data6['features_interp']), axis=0)\n",
    "\n",
    "Y_train = np.concatenate((data1['labels_cut'][:,label_col],\\\n",
    "                          data2['labels_cut'][:,label_col],\\\n",
    "                          data3['labels_cut'][:,label_col],\\\n",
    "                          data6['labels_cut'][:,label_col]), axis=0)\n",
    "\n",
    "X_test = np.concatenate((data4['features_interp'],\\\n",
    "                         data5['features_interp']), axis=0)\n",
    "\n",
    "Y_test = np.concatenate((data4['labels_cut'][:,label_col],\\\n",
    "                         data5['labels_cut'][:,label_col]))\n",
    "\n",
    "features = X_test.shape[1]\n",
    "print(\"\\nTraining samples: \", X_train.shape[0],\\\n",
    "      \"\\nTest samples:      \", X_test.shape[0],\\\n",
    "      \"\\nFeatures:            \", features)"
   ]
  },
  {
   "cell_type": "markdown",
   "metadata": {},
   "source": [
    "### Dataset preparation in order to feed it to the network"
   ]
  },
  {
   "cell_type": "code",
   "execution_count": 4,
   "metadata": {},
   "outputs": [
    {
     "name": "stdout",
     "output_type": "stream",
     "text": [
      "\n",
      "Classes in training set:  5 \n",
      "Classes in test set:      5\n",
      "Training set:\n",
      "<class 'numpy.ndarray'> (2796, 50, 58) <class 'numpy.ndarray'> (2796, 4)\n",
      "\n",
      "Features have shape:  (2796, 50, 58) \n",
      "Labels have shape:    (2796, 4) \n",
      "Fraction of labels:   [0.4760372  0.30364807 0.19313305 0.02718169]\n",
      "\n",
      "Test set:\n",
      "<class 'numpy.ndarray'> (943, 50, 58) <class 'numpy.ndarray'> (943, 4)\n",
      "\n",
      "Features have shape:  (943, 50, 58) \n",
      "Labels have shape:    (943, 4) \n",
      "Fraction of labels:   [0.41781548 0.24496288 0.29056204 0.0466596 ]\n"
     ]
    }
   ],
   "source": [
    "# decision to overcome the problem of entire missing columns\n",
    "X_train = np.nan_to_num(X_train)\n",
    "X_test = np.nan_to_num(X_test)\n",
    "\n",
    "# features normalization\n",
    "scaler = StandardScaler().fit(X_train)\n",
    "X_train =scaler.transform(X_train)\n",
    "X_test = scaler.transform(X_test)\n",
    "\n",
    "# switch to one hot encoded labels\n",
    "onehot_encoder = OneHotEncoder(sparse=False)\n",
    "Y_train_oh = onehot_encoder.fit_transform(Y_train.reshape(-1, 1))\n",
    "Y_test_oh = onehot_encoder.fit_transform(Y_test.reshape(-1, 1))\n",
    "print(\"\\nClasses in training set: \", Y_train_oh.shape[1],\\\n",
    "      \"\\nClasses in test set:     \", Y_test_oh.shape[1])\n",
    "\n",
    "print(\"Training set:\")\n",
    "X_train_s, Y_train_s = utils.prepareData(X_train, Y_train_oh, window_size, stride, shuffle=False)\n",
    "print(\"\\nTest set:\")\n",
    "X_test_s, Y_test_s = utils.prepareData(X_test, Y_test_oh, window_size, stride, shuffle=False)\n",
    "# add bars plot"
   ]
  },
  {
   "cell_type": "markdown",
   "metadata": {},
   "source": [
    "# Section 2 - Classification with Conv1D\n",
    "\n",
    "### Creation of one-dimensional convolutional neural network"
   ]
  },
  {
   "cell_type": "code",
   "execution_count": 5,
   "metadata": {},
   "outputs": [],
   "source": [
    "classes = np.max((Y_train_s.shape[1], Y_test_s.shape[1]))"
   ]
  },
  {
   "cell_type": "code",
   "execution_count": 6,
   "metadata": {
    "scrolled": true
   },
   "outputs": [
    {
     "name": "stdout",
     "output_type": "stream",
     "text": [
      "WARNING:tensorflow:From C:\\Users\\Matteo\\Anaconda3\\lib\\site-packages\\tensorflow\\python\\util\\deprecation.py:497: calling conv1d (from tensorflow.python.ops.nn_ops) with data_format=NHWC is deprecated and will be removed in a future version.\n",
      "Instructions for updating:\n",
      "`NHWC` for data_format is deprecated, use `NWC` instead\n",
      "_________________________________________________________________\n",
      "Layer (type)                 Output Shape              Param #   \n",
      "=================================================================\n",
      "conv1d_1 (Conv1D)            (None, 50, 18)            5238      \n",
      "_________________________________________________________________\n",
      "batch_normalization_1 (Batch (None, 50, 18)            72        \n",
      "_________________________________________________________________\n",
      "leaky_re_lu_1 (LeakyReLU)    (None, 50, 18)            0         \n",
      "_________________________________________________________________\n",
      "max_pooling1d_1 (MaxPooling1 (None, 25, 18)            0         \n",
      "_________________________________________________________________\n",
      "conv1d_2 (Conv1D)            (None, 25, 36)            4572      \n",
      "_________________________________________________________________\n",
      "batch_normalization_2 (Batch (None, 25, 36)            144       \n",
      "_________________________________________________________________\n",
      "leaky_re_lu_2 (LeakyReLU)    (None, 25, 36)            0         \n",
      "_________________________________________________________________\n",
      "max_pooling1d_2 (MaxPooling1 (None, 13, 36)            0         \n",
      "_________________________________________________________________\n",
      "dropout_1 (Dropout)          (None, 13, 36)            0         \n",
      "_________________________________________________________________\n",
      "conv1d_3 (Conv1D)            (None, 13, 72)            18216     \n",
      "_________________________________________________________________\n",
      "batch_normalization_3 (Batch (None, 13, 72)            288       \n",
      "_________________________________________________________________\n",
      "leaky_re_lu_3 (LeakyReLU)    (None, 13, 72)            0         \n",
      "_________________________________________________________________\n",
      "max_pooling1d_3 (MaxPooling1 (None, 7, 72)             0         \n",
      "_________________________________________________________________\n",
      "flatten_1 (Flatten)          (None, 504)               0         \n",
      "_________________________________________________________________\n",
      "dense_1 (Dense)              (None, 64)                32320     \n",
      "_________________________________________________________________\n",
      "leaky_re_lu_4 (LeakyReLU)    (None, 64)                0         \n",
      "_________________________________________________________________\n",
      "dropout_2 (Dropout)          (None, 64)                0         \n",
      "_________________________________________________________________\n",
      "dense_2 (Dense)              (None, 4)                 260       \n",
      "_________________________________________________________________\n",
      "activation_1 (Activation)    (None, 4)                 0         \n",
      "=================================================================\n",
      "Total params: 61,110\n",
      "Trainable params: 60,858\n",
      "Non-trainable params: 252\n",
      "_________________________________________________________________\n"
     ]
    }
   ],
   "source": [
    "model_unidim = utils.Model1D((window_size, features), classes)"
   ]
  },
  {
   "cell_type": "code",
   "execution_count": 7,
   "metadata": {},
   "outputs": [],
   "source": [
    "opt = Adam(lr=0.01)\n",
    "model_unidim.compile(optimizer = opt, loss = \"categorical_crossentropy\", metrics = [\"accuracy\"])"
   ]
  },
  {
   "cell_type": "code",
   "execution_count": 8,
   "metadata": {},
   "outputs": [
    {
     "name": "stdout",
     "output_type": "stream",
     "text": [
      "Train on 2796 samples, validate on 943 samples\n",
      "Epoch 1/10\n",
      "2796/2796 [==============================] - 4s 2ms/step - loss: 1.6376 - acc: 0.7575 - val_loss: 1.1766 - val_acc: 0.8293\n",
      "Epoch 2/10\n",
      "2796/2796 [==============================] - 3s 913us/step - loss: 0.6796 - acc: 0.8526 - val_loss: 0.4249 - val_acc: 0.9215\n",
      "Epoch 3/10\n",
      "2796/2796 [==============================] - 2s 751us/step - loss: 0.3916 - acc: 0.8827 - val_loss: 0.3420 - val_acc: 0.9215\n",
      "Epoch 4/10\n",
      "2796/2796 [==============================] - 2s 831us/step - loss: 0.3316 - acc: 0.8848 - val_loss: 0.3385 - val_acc: 0.9141\n",
      "Epoch 5/10\n",
      "2796/2796 [==============================] - 2s 731us/step - loss: 0.2998 - acc: 0.8959 - val_loss: 0.3179 - val_acc: 0.9247\n",
      "Epoch 6/10\n",
      "2796/2796 [==============================] - 2s 750us/step - loss: 0.2859 - acc: 0.8981 - val_loss: 0.3084 - val_acc: 0.9279\n",
      "Epoch 7/10\n",
      "2796/2796 [==============================] - 3s 921us/step - loss: 0.2575 - acc: 0.9099 - val_loss: 0.3017 - val_acc: 0.9311\n",
      "Epoch 8/10\n",
      "2796/2796 [==============================] - 2s 831us/step - loss: 0.2551 - acc: 0.9156 - val_loss: 0.3124 - val_acc: 0.9321\n",
      "Epoch 9/10\n",
      "2796/2796 [==============================] - 2s 730us/step - loss: 0.2882 - acc: 0.9034 - val_loss: 0.4004 - val_acc: 0.9099\n",
      "Epoch 10/10\n",
      "2796/2796 [==============================] - 2s 731us/step - loss: 0.2660 - acc: 0.9206 - val_loss: 0.3525 - val_acc: 0.9247\n"
     ]
    },
    {
     "data": {
      "text/plain": [
       "<keras.callbacks.History at 0x1f6b806ec88>"
      ]
     },
     "execution_count": 8,
     "metadata": {},
     "output_type": "execute_result"
    }
   ],
   "source": [
    "model_unidim.fit(x = X_train_s, y = Y_train_s, epochs = 10, batch_size = 128, validation_data=(X_test_s, Y_test_s))"
   ]
  },
  {
   "cell_type": "markdown",
   "metadata": {},
   "source": [
    "### Classification and evaluation of performances"
   ]
  },
  {
   "cell_type": "code",
   "execution_count": 9,
   "metadata": {},
   "outputs": [],
   "source": [
    "# predict labels\n",
    "Y_pred_s = model_unidim.predict(X_test_s)"
   ]
  },
  {
   "cell_type": "code",
   "execution_count": 10,
   "metadata": {},
   "outputs": [
    {
     "name": "stdout",
     "output_type": "stream",
     "text": [
      "F1-measure:  0.923230708546434\n",
      "AUC w.r. to each class:  {0: 0.9839810268785887, 1: 0.9685843183034195, 2: 0.9999945446412011, 3: 0.8636363636363636}\n"
     ]
    }
   ],
   "source": [
    "# print results\n",
    "#reverse the one-ot encoder procedure\n",
    "Y_test_hard = np.argmax(Y_test_s, axis=1)\n",
    "Y_pred_hard = np.argmax(Y_pred_s, axis=1)\n",
    "\n",
    "print(\"F1-measure: \", utils.f1_score(Y_test_hard, Y_pred_hard, average='weighted'))\n",
    "print(\"AUC w.r. to each class: \", utils.AUC(Y_test_s, Y_pred_s, classes))"
   ]
  },
  {
   "cell_type": "code",
   "execution_count": 11,
   "metadata": {},
   "outputs": [
    {
     "data": {
      "image/png": "[encoded data removed]",
      "text/plain": [
       "<matplotlib.figure.Figure at 0x1f6ba275c50>"
      ]
     },
     "metadata": {},
     "output_type": "display_data"
    }
   ],
   "source": [
    "# Compute and plot confusion matrix\n",
    "cnf_matrix = utils.confusion_matrix(Y_test_hard, Y_pred_hard)\n",
    "np.set_printoptions(precision=2)\n",
    "\n",
    "plt.figure()\n",
    "utils.plot_confusion_matrix(cnf_matrix, classes=[0,1,2,4,5],\n",
    "                      title='Confusion matrix, without normalization')"
   ]
  },
  {
   "cell_type": "markdown",
   "metadata": {},
   "source": [
    "# Section 3 - Classification with Conv2D"
   ]
  },
  {
   "cell_type": "code",
   "execution_count": 12,
   "metadata": {
    "scrolled": true
   },
   "outputs": [
    {
     "name": "stdout",
     "output_type": "stream",
     "text": [
      "_________________________________________________________________\n",
      "Layer (type)                 Output Shape              Param #   \n",
      "=================================================================\n",
      "conv2d_1 (Conv2D)            (None, 1, 17, 18)         26118     \n",
      "_________________________________________________________________\n",
      "batch_normalization_4 (Batch (None, 1, 17, 18)         72        \n",
      "_________________________________________________________________\n",
      "leaky_re_lu_5 (LeakyReLU)    (None, 1, 17, 18)         0         \n",
      "_________________________________________________________________\n",
      "max_pooling2d_1 (MaxPooling2 (None, 1, 9, 18)          0         \n",
      "_________________________________________________________________\n",
      "conv2d_2 (Conv2D)            (None, 1, 3, 36)          16236     \n",
      "_________________________________________________________________\n",
      "batch_normalization_5 (Batch (None, 1, 3, 36)          144       \n",
      "_________________________________________________________________\n",
      "leaky_re_lu_6 (LeakyReLU)    (None, 1, 3, 36)          0         \n",
      "_________________________________________________________________\n",
      "max_pooling2d_2 (MaxPooling2 (None, 1, 2, 36)          0         \n",
      "_________________________________________________________________\n",
      "dropout_3 (Dropout)          (None, 1, 2, 36)          0         \n",
      "_________________________________________________________________\n",
      "conv2d_3 (Conv2D)            (None, 1, 1, 72)          64872     \n",
      "_________________________________________________________________\n",
      "batch_normalization_6 (Batch (None, 1, 1, 72)          288       \n",
      "_________________________________________________________________\n",
      "leaky_re_lu_7 (LeakyReLU)    (None, 1, 1, 72)          0         \n",
      "_________________________________________________________________\n",
      "max_pooling2d_3 (MaxPooling2 (None, 1, 1, 72)          0         \n",
      "_________________________________________________________________\n",
      "flatten_2 (Flatten)          (None, 72)                0         \n",
      "_________________________________________________________________\n",
      "dense_3 (Dense)              (None, 64)                4672      \n",
      "_________________________________________________________________\n",
      "leaky_re_lu_8 (LeakyReLU)    (None, 64)                0         \n",
      "_________________________________________________________________\n",
      "dropout_4 (Dropout)          (None, 64)                0         \n",
      "_________________________________________________________________\n",
      "dense_4 (Dense)              (None, 4)                 260       \n",
      "_________________________________________________________________\n",
      "activation_2 (Activation)    (None, 4)                 0         \n",
      "=================================================================\n",
      "Total params: 112,662\n",
      "Trainable params: 112,410\n",
      "Non-trainable params: 252\n",
      "_________________________________________________________________\n"
     ]
    }
   ],
   "source": [
    "model_new2D = utils.Model2D((1,window_size,features), classes)\n",
    "opt4 = Adam(lr=0.01)\n",
    "model_new2D.compile(optimizer = opt4, loss = \"categorical_crossentropy\", metrics = [\"accuracy\"])"
   ]
  },
  {
   "cell_type": "code",
   "execution_count": 13,
   "metadata": {},
   "outputs": [
    {
     "name": "stdout",
     "output_type": "stream",
     "text": [
      "Train on 2796 samples, validate on 943 samples\n",
      "Epoch 1/10\n",
      "2796/2796 [==============================] - 3s 1ms/step - loss: 1.0565 - acc: 0.7629 - val_loss: 0.6067 - val_acc: 0.8971\n",
      "Epoch 2/10\n",
      "2796/2796 [==============================] - 2s 678us/step - loss: 0.4612 - acc: 0.8791 - val_loss: 0.3661 - val_acc: 0.9236\n",
      "Epoch 3/10\n",
      "2796/2796 [==============================] - 2s 695us/step - loss: 0.3306 - acc: 0.8923 - val_loss: 0.3025 - val_acc: 0.9268\n",
      "Epoch 4/10\n",
      "2796/2796 [==============================] - 2s 716us/step - loss: 0.2642 - acc: 0.9077 - val_loss: 0.3240 - val_acc: 0.9258\n",
      "Epoch 5/10\n",
      "2796/2796 [==============================] - 2s 718us/step - loss: 0.2568 - acc: 0.9117 - val_loss: 0.3268 - val_acc: 0.9236\n",
      "Epoch 6/10\n",
      "2796/2796 [==============================] - 2s 835us/step - loss: 0.2444 - acc: 0.9152 - val_loss: 0.4193 - val_acc: 0.8844\n",
      "Epoch 7/10\n",
      "2796/2796 [==============================] - 2s 806us/step - loss: 0.2295 - acc: 0.9256 - val_loss: 0.3118 - val_acc: 0.9332\n",
      "Epoch 8/10\n",
      "2796/2796 [==============================] - 2s 810us/step - loss: 0.1972 - acc: 0.9345 - val_loss: 0.2266 - val_acc: 0.9300\n",
      "Epoch 9/10\n",
      "2796/2796 [==============================] - 2s 799us/step - loss: 0.1889 - acc: 0.9403 - val_loss: 0.3205 - val_acc: 0.9290\n",
      "Epoch 10/10\n",
      "2796/2796 [==============================] - 2s 821us/step - loss: 0.1689 - acc: 0.9474 - val_loss: 0.3267 - val_acc: 0.9332\n"
     ]
    },
    {
     "data": {
      "text/plain": [
       "<keras.callbacks.History at 0x1f6ba2c1e48>"
      ]
     },
     "execution_count": 13,
     "metadata": {},
     "output_type": "execute_result"
    }
   ],
   "source": [
    "# need to reshape in order to fit to the new 2D model\n",
    "X_train = X_train_s.reshape(X_train_s.shape[0], 1, window_size, features)\n",
    "X_test = X_test_s.reshape(X_test_s.shape[0], 1, window_size, features)\n",
    "\n",
    "model_new2D.fit(x = X_train, y = Y_train_s, epochs = 10, batch_size = 128, validation_data=(X_test, Y_test_s))"
   ]
  },
  {
   "cell_type": "markdown",
   "metadata": {},
   "source": [
    "### Classification and evaluation of performances"
   ]
  },
  {
   "cell_type": "code",
   "execution_count": 14,
   "metadata": {},
   "outputs": [
    {
     "name": "stdout",
     "output_type": "stream",
     "text": [
      "F1-measure:  0.9323094125021004\n",
      "AUC w.r. to each class:  {0: 0.9825108873540263, 1: 0.9772240867746486, 2: 0.992095185100324, 3: 0.8636363636363636}\n"
     ]
    },
    {
     "data": {
      "image/png": "[encoded data removed]",
      "text/plain": [
       "<matplotlib.figure.Figure at 0x1f6bb44e8d0>"
      ]
     },
     "metadata": {},
     "output_type": "display_data"
    }
   ],
   "source": [
    "# predict labels\n",
    "Y_pred_s = model_new2D.predict(X_test)\n",
    "\n",
    "# print results\n",
    "#reverse the one-ot encoder procedure\n",
    "Y_test_hard = np.argmax(Y_test_s, axis=1)\n",
    "Y_pred_hard = np.argmax(Y_pred_s, axis=1)\n",
    "\n",
    "print(\"F1-measure: \", utils.f1_score(Y_test_hard, Y_pred_hard, average='weighted'))\n",
    "print(\"AUC w.r. to each class: \", utils.AUC(Y_test_s, Y_pred_s, classes))\n",
    "\n",
    "# Compute and plot confusion matrix\n",
    "cnf_matrix = utils.confusion_matrix(Y_test_hard, Y_pred_hard)\n",
    "np.set_printoptions(precision=2)\n",
    "\n",
    "plt.figure()\n",
    "utils.plot_confusion_matrix(cnf_matrix, classes=[0,1,2,4,5],\n",
    "                      title='Confusion matrix, without normalization')"
   ]
  },
  {
   "cell_type": "markdown",
   "metadata": {},
   "source": [
    "# Tries with different models"
   ]
  },
  {
   "cell_type": "code",
   "execution_count": 15,
   "metadata": {},
   "outputs": [
    {
     "name": "stdout",
     "output_type": "stream",
     "text": [
      "_________________________________________________________________\n",
      "Layer (type)                 Output Shape              Param #   \n",
      "=================================================================\n",
      "conv2d_4 (Conv2D)            (None, 1, 50, 20)         11620     \n",
      "_________________________________________________________________\n",
      "batch_normalization_7 (Batch (None, 1, 50, 20)         80        \n",
      "_________________________________________________________________\n",
      "conv2d_5 (Conv2D)            (None, 1, 17, 40)         24040     \n",
      "_________________________________________________________________\n",
      "batch_normalization_8 (Batch (None, 1, 17, 40)         160       \n",
      "_________________________________________________________________\n",
      "leaky_re_lu_9 (LeakyReLU)    (None, 1, 17, 40)         0         \n",
      "_________________________________________________________________\n",
      "max_pooling2d_4 (MaxPooling2 (None, 1, 9, 40)          0         \n",
      "_________________________________________________________________\n",
      "flatten_3 (Flatten)          (None, 360)               0         \n",
      "_________________________________________________________________\n",
      "dense_5 (Dense)              (None, 64)                23104     \n",
      "_________________________________________________________________\n",
      "leaky_re_lu_10 (LeakyReLU)   (None, 64)                0         \n",
      "_________________________________________________________________\n",
      "dropout_5 (Dropout)          (None, 64)                0         \n",
      "_________________________________________________________________\n",
      "dense_6 (Dense)              (None, 4)                 260       \n",
      "_________________________________________________________________\n",
      "activation_3 (Activation)    (None, 4)                 0         \n",
      "=================================================================\n",
      "Total params: 59,264\n",
      "Trainable params: 59,144\n",
      "Non-trainable params: 120\n",
      "_________________________________________________________________\n"
     ]
    }
   ],
   "source": [
    "model_3 = utils.MixedModel((1,window_size,features), classes)\n",
    "opt4 = Adam(lr=0.01)\n",
    "model_3.compile(optimizer = opt4, loss = \"categorical_crossentropy\", metrics = [\"accuracy\"])"
   ]
  },
  {
   "cell_type": "code",
   "execution_count": 16,
   "metadata": {},
   "outputs": [
    {
     "name": "stdout",
     "output_type": "stream",
     "text": [
      "Train on 2796 samples, validate on 943 samples\n",
      "Epoch 1/30\n",
      "2796/2796 [==============================] - 5s 2ms/step - loss: 1.7492 - acc: 0.7046 - val_loss: 0.9017 - val_acc: 0.9162\n",
      "Epoch 2/30\n",
      "2796/2796 [==============================] - 3s 1ms/step - loss: 0.7336 - acc: 0.8591 - val_loss: 0.5195 - val_acc: 0.9183\n",
      "Epoch 3/30\n",
      "2796/2796 [==============================] - 3s 1ms/step - loss: 0.4364 - acc: 0.8823 - val_loss: 0.3887 - val_acc: 0.9067\n",
      "Epoch 4/30\n",
      "2796/2796 [==============================] - 4s 1ms/step - loss: 0.3501 - acc: 0.8856 - val_loss: 0.3370 - val_acc: 0.9258\n",
      "Epoch 5/30\n",
      "2796/2796 [==============================] - 5s 2ms/step - loss: 0.3436 - acc: 0.8852 - val_loss: 0.4873 - val_acc: 0.8643\n",
      "Epoch 6/30\n",
      "2796/2796 [==============================] - 4s 1ms/step - loss: 0.3403 - acc: 0.8827 - val_loss: 0.3566 - val_acc: 0.9311\n",
      "Epoch 7/30\n",
      "2796/2796 [==============================] - 4s 1ms/step - loss: 0.3079 - acc: 0.9020 - val_loss: 0.4698 - val_acc: 0.8780\n",
      "Epoch 8/30\n",
      "2796/2796 [==============================] - 4s 1ms/step - loss: 0.3241 - acc: 0.8877 - val_loss: 0.3649 - val_acc: 0.9183\n",
      "Epoch 9/30\n",
      "2796/2796 [==============================] - 4s 1ms/step - loss: 0.3411 - acc: 0.8945 - val_loss: 0.4708 - val_acc: 0.8876\n",
      "Epoch 10/30\n",
      "2796/2796 [==============================] - 4s 1ms/step - loss: 0.3165 - acc: 0.9020 - val_loss: 0.3885 - val_acc: 0.9077\n",
      "Epoch 11/30\n",
      "2796/2796 [==============================] - 3s 1ms/step - loss: 0.2858 - acc: 0.9059 - val_loss: 0.4216 - val_acc: 0.9046\n",
      "Epoch 12/30\n",
      "2796/2796 [==============================] - 4s 1ms/step - loss: 0.2775 - acc: 0.9131 - val_loss: 0.4288 - val_acc: 0.8940\n",
      "Epoch 13/30\n",
      "2796/2796 [==============================] - 3s 1ms/step - loss: 0.2827 - acc: 0.9134 - val_loss: 0.3825 - val_acc: 0.9183\n",
      "Epoch 14/30\n",
      "2796/2796 [==============================] - 4s 1ms/step - loss: 0.2810 - acc: 0.9099 - val_loss: 0.3597 - val_acc: 0.9173\n",
      "Epoch 15/30\n",
      "2796/2796 [==============================] - 3s 1ms/step - loss: 0.2730 - acc: 0.9160 - val_loss: 0.3318 - val_acc: 0.9321\n",
      "Epoch 16/30\n",
      "2796/2796 [==============================] - 4s 1ms/step - loss: 0.2736 - acc: 0.9224 - val_loss: 0.3393 - val_acc: 0.9332\n",
      "Epoch 17/30\n",
      "2796/2796 [==============================] - 4s 1ms/step - loss: 0.2681 - acc: 0.9170 - val_loss: 0.3708 - val_acc: 0.9215\n",
      "Epoch 18/30\n",
      "2796/2796 [==============================] - 3s 1ms/step - loss: 0.2647 - acc: 0.9281 - val_loss: 0.3631 - val_acc: 0.9332\n",
      "Epoch 19/30\n",
      "2796/2796 [==============================] - 4s 1ms/step - loss: 0.2795 - acc: 0.9149 - val_loss: 0.3942 - val_acc: 0.9290\n",
      "Epoch 20/30\n",
      "2796/2796 [==============================] - 3s 1ms/step - loss: 0.2918 - acc: 0.9278 - val_loss: 0.4055 - val_acc: 0.9120\n",
      "Epoch 21/30\n",
      "2796/2796 [==============================] - 3s 1ms/step - loss: 0.2505 - acc: 0.9303 - val_loss: 0.3516 - val_acc: 0.9343\n",
      "Epoch 22/30\n",
      "2796/2796 [==============================] - 3s 1ms/step - loss: 0.2410 - acc: 0.9345 - val_loss: 0.2849 - val_acc: 0.9290\n",
      "Epoch 23/30\n",
      "2796/2796 [==============================] - 4s 1ms/step - loss: 0.2862 - acc: 0.9278 - val_loss: 0.3433 - val_acc: 0.9247\n",
      "Epoch 24/30\n",
      "2796/2796 [==============================] - 4s 1ms/step - loss: 0.2764 - acc: 0.9338 - val_loss: 0.3084 - val_acc: 0.9321\n",
      "Epoch 25/30\n",
      "2796/2796 [==============================] - 4s 1ms/step - loss: 0.2778 - acc: 0.9360 - val_loss: 0.4239 - val_acc: 0.9300\n",
      "Epoch 26/30\n",
      "2796/2796 [==============================] - 3s 1ms/step - loss: 0.2830 - acc: 0.9317 - val_loss: 0.4555 - val_acc: 0.9247\n",
      "Epoch 27/30\n",
      "2796/2796 [==============================] - 4s 1ms/step - loss: 0.2424 - acc: 0.9399 - val_loss: 0.3884 - val_acc: 0.9247\n",
      "Epoch 28/30\n",
      "2796/2796 [==============================] - 4s 1ms/step - loss: 0.2074 - acc: 0.9542 - val_loss: 0.4076 - val_acc: 0.9247\n",
      "Epoch 29/30\n",
      "2796/2796 [==============================] - 3s 1ms/step - loss: 0.2030 - acc: 0.9539 - val_loss: 0.3320 - val_acc: 0.9247\n",
      "Epoch 30/30\n",
      "2796/2796 [==============================] - 3s 1ms/step - loss: 0.2403 - acc: 0.9467 - val_loss: 0.4670 - val_acc: 0.9215\n"
     ]
    },
    {
     "data": {
      "text/plain": [
       "<keras.callbacks.History at 0x1f6bb597978>"
      ]
     },
     "execution_count": 16,
     "metadata": {},
     "output_type": "execute_result"
    }
   ],
   "source": [
    "# need to reshape in order to fit to the new 2D model\n",
    "X_train = X_train_s.reshape(X_train_s.shape[0], 1, window_size, features)\n",
    "X_test = X_test_s.reshape(X_test_s.shape[0], 1, window_size, features)\n",
    "\n",
    "model_3.fit(x = X_train, y = Y_train_s, epochs = 30, batch_size = 128, validation_data=(X_test, Y_test_s))"
   ]
  },
  {
   "cell_type": "code",
   "execution_count": 17,
   "metadata": {},
   "outputs": [
    {
     "name": "stdout",
     "output_type": "stream",
     "text": [
      "F1-measure:  0.9223932897665366\n",
      "AUC w.r. to each class:  {0: 0.9764454060451397, 1: 0.9678273505520697, 2: 0.9999781785648042, 3: 0.8636363636363636}\n"
     ]
    },
    {
     "data": {
      "image/png": "[encoded data removed]",
      "text/plain": [
       "<matplotlib.figure.Figure at 0x1f6bbf9be10>"
      ]
     },
     "metadata": {},
     "output_type": "display_data"
    }
   ],
   "source": [
    "# predict labels\n",
    "Y_pred_s = model_3.predict(X_test)\n",
    "\n",
    "# print results\n",
    "#reverse the one-ot encoder procedure\n",
    "Y_test_hard = np.argmax(Y_test_s, axis=1)\n",
    "Y_pred_hard = np.argmax(Y_pred_s, axis=1)\n",
    "\n",
    "print(\"F1-measure: \", utils.f1_score(Y_test_hard, Y_pred_hard, average='weighted'))\n",
    "print(\"AUC w.r. to each class: \", utils.AUC(Y_test_s, Y_pred_s, classes))\n",
    "\n",
    "# Compute and plot confusion matrix\n",
    "cnf_matrix = utils.confusion_matrix(Y_test_hard, Y_pred_hard)\n",
    "np.set_printoptions(precision=2)\n",
    "\n",
    "plt.figure()\n",
    "utils.plot_confusion_matrix(cnf_matrix, classes=[0,1,2,4,5],\n",
    "                      title='Confusion matrix, without normalization')"
   ]
  }
 ],
 "metadata": {
  "kernelspec": {
   "display_name": "Python 3",
   "language": "python",
   "name": "python3"
  },
  "language_info": {
   "codemirror_mode": {
    "name": "ipython",
    "version": 3
   },
   "file_extension": ".py",
   "mimetype": "text/x-python",
   "name": "python",
   "nbconvert_exporter": "python",
   "pygments_lexer": "ipython3",
   "version": "3.6.4"
  }
 },
 "nbformat": 4,
 "nbformat_minor": 2
}
