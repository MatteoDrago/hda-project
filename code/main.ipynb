{
 "cells": [
  {
   "cell_type": "markdown",
   "metadata": {},
   "source": [
    "# HDA - Project 3"
   ]
  },
  {
   "cell_type": "code",
   "execution_count": 1,
   "metadata": {},
   "outputs": [
    {
     "name": "stderr",
     "output_type": "stream",
     "text": [
      "Using TensorFlow backend.\n"
     ]
    }
   ],
   "source": [
    "import utils\n",
    "import deeplearning\n",
    "import numpy as np\n",
    "import matplotlib.pyplot as plt\n",
    "\n",
    "from sklearn.svm import LinearSVC\n",
    "from sklearn.metrics import accuracy_score\n",
    "\n",
    "from keras import regularizers\n",
    "from keras.activations import relu\n",
    "from keras.layers import Conv2D, BatchNormalization, Dropout, LeakyReLU, Flatten, Activation, Dense, MaxPooling2D, LSTM, Reshape\n",
    "from keras.models import Model, Sequential\n",
    "from keras.optimizers import Adam"
   ]
  },
  {
   "cell_type": "markdown",
   "metadata": {},
   "source": [
    "The following cell contains the hyper-parameters that can be tuned for code execution:\n",
    "- subject: select the subject on which to test the model, between [1,4];\n",
    "- folder: directory name where '.mat' files are stored;\n",
    "- label_col: column of features to be selected to perform activity detection, between [0,6]:\n",
    "\n",
    "|  Label |  Feature |\n",
    "|:-:     |:-:|\n",
    "|  0     | Locomotion (TASK A)  |\n",
    "|  1     | High Level Activity |\n",
    "|  2     | Low Level Left Arm  |\n",
    "|  3     | Low Level Left Arm Object  |\n",
    "|  4     | Low Level Right Arm  |\n",
    "|  5     | Low Level Right Arm Object  |\n",
    "|  6     | Medium Level Both Arms (TASK B2) |\n",
    "\n",
    "- window_size: parameter that sets the length of temporal windows on which to perform the convolution;\n",
    "- stride: step length to chose the next window.\n",
    "\n",
    "The size of the temporal window seems to be fundamental in order to get a more specific and powerful model; of course the choice of the step lenght between consequent windows has to be consistent and to make sense. Thinking about a real-time situation, as long as we collect data we can use a sliding window of real-time samples; in this way, it is reasonable to use also a small value for the stride. Another important reason behind the choice of the value of the "
   ]
  },
  {
   "cell_type": "code",
   "execution_count": 2,
   "metadata": {},
   "outputs": [],
   "source": [
    "subject = 1\n",
    "folder = \"./data/full/\"\n",
    "label = 0     # default for task A\n",
    "window_size = 64\n",
    "stride = 3\n",
    "null_class = True"
   ]
  },
  {
   "cell_type": "code",
   "execution_count": 3,
   "metadata": {},
   "outputs": [
    {
     "name": "stdout",
     "output_type": "stream",
     "text": [
      "\n",
      "Session shapes:\n",
      "ADL1:   (45810, 110)\n",
      "ADL2:   (28996, 110)\n",
      "ADL3:   (30167, 110)\n",
      "ADL4:   (30228, 110)\n",
      "ADL5:   (27308, 110)\n",
      "Drill:  (52152, 110)\n",
      "Training samples:  157125 \n",
      "Test samples:       57536 \n",
      "Features:             110\n",
      "TRAINING SET:\n",
      "Features have shape:  (52354, 64, 110) \n",
      "Labels have shape:    (52354, 5) \n",
      "Fraction of labels:   [0.10988654 0.41987241 0.27476411 0.17119991 0.02427704]\n",
      "TEST SET:\n",
      "Features have shape:  (19157, 64, 110) \n",
      "Labels have shape:    (19157, 5) \n",
      "Fraction of labels:   [0.17742862 0.34337318 0.20290233 0.23771989 0.03857598]\n"
     ]
    }
   ],
   "source": [
    "[x_train, y_train, x_test, y_test, n_classes] = utils.preprocessing(subject,\n",
    "                                                         folder,\n",
    "                                                         label,\n",
    "                                                         window_size,\n",
    "                                                         stride,\n",
    "                                                         null_class)"
   ]
  },
  {
   "cell_type": "markdown",
   "metadata": {},
   "source": [
    "# Hybrid Neural Network\n",
    "In the following section we have implemented the neural network proposed in [1], with one block consisting of (Batch Normalization + Conv2D + MaxPool2D) followed by two layers of **LSTM**. \n",
    "\n",
    "Particular emphasis should be given to how we pass the output of the convolutional block to the recurrent layers; in fact, we need to appropriately reshape the output in order to make it consistent. As we know, the _convolutional power_  consists on being able to extract significant features from our input data; with the reshape procedure we merge these features in order to give them a sense of temporal dependency.\n",
    "\n",
    "Practical example using the following problem: in our case, our samples consist of 64x110 images and we implemented 50 distinct filters in the convolutional block. So, after the conv block, our images are represented by a 27x110x50 tensor. In order to shift this in the _temporal domain_ we consider the 27 lines as temporal dependant and we represent each line as a feature vector of size 110x50. After this procedure we can feed the recurrent neural network appropriately. "
   ]
  },
  {
   "cell_type": "code",
   "execution_count": 4,
   "metadata": {},
   "outputs": [
    {
     "name": "stdout",
     "output_type": "stream",
     "text": [
      "_________________________________________________________________\n",
      "Layer (type)                 Output Shape              Param #   \n",
      "=================================================================\n",
      "batch_normalization_1 (Batch (None, 64, 110, 1)        4         \n",
      "_________________________________________________________________\n",
      "conv2d_1 (Conv2D)            (None, 54, 110, 50)       600       \n",
      "_________________________________________________________________\n",
      "max_pooling2d_1 (MaxPooling2 (None, 27, 110, 50)       0         \n",
      "_________________________________________________________________\n",
      "reshape_1 (Reshape)          (None, 27, 5500)          0         \n",
      "_________________________________________________________________\n",
      "lstm_1 (LSTM)                (None, 27, 300)           6961200   \n",
      "_________________________________________________________________\n",
      "lstm_2 (LSTM)                (None, 300)               721200    \n",
      "_________________________________________________________________\n",
      "dense_1 (Dense)              (None, 512)               154112    \n",
      "_________________________________________________________________\n",
      "dense_2 (Dense)              (None, 5)                 2565      \n",
      "=================================================================\n",
      "Total params: 7,839,681\n",
      "Trainable params: 7,839,679\n",
      "Non-trainable params: 2\n",
      "_________________________________________________________________\n"
     ]
    }
   ],
   "source": [
    "n_features = x_train.shape[2] #number of features taken into consideration for the solution of the problem\n",
    "\n",
    "model_hyb = deeplearning.Hybrid((window_size,n_features,1), n_classes)\n",
    "model_hyb.summary() # model visualization\n",
    "\n",
    "model_hyb.compile(optimizer = Adam(lr=0.01), \n",
    "                   loss = \"categorical_crossentropy\", \n",
    "                   metrics = [\"accuracy\"])\n",
    "\n",
    "input_train = x_train.reshape(x_train.shape[0], window_size, n_features, 1)\n",
    "input_test = x_test.reshape(x_test.shape[0], window_size, n_features, 1)\n"
   ]
  },
  {
   "cell_type": "markdown",
   "metadata": {},
   "source": [
    "Just an implementation note: if we want to use the 2D convolution, we have to add to our input the _depth_ information. Only out dataset representation changes, not its size."
   ]
  },
  {
   "cell_type": "code",
   "execution_count": 5,
   "metadata": {},
   "outputs": [],
   "source": [
    "model = deeplearning.Hybrid((window_size,n_features,1), n_classes)\n",
    "model.load_weights('./data/model_hyb.h5',by_name=True)"
   ]
  },
  {
   "cell_type": "code",
   "execution_count": 6,
   "metadata": {},
   "outputs": [],
   "source": [
    "trainingFeatures = np.load('./data/features_training.npy')\n",
    "testingFeatures = np.load('./data/features_testing.npy')\n",
    "#np.load('/labels_training.npy',y_train)\n",
    "#np.load('/labels_testing.npy',y_test)"
   ]
  },
  {
   "cell_type": "code",
   "execution_count": 10,
   "metadata": {
    "scrolled": true
   },
   "outputs": [
    {
     "name": "stdout",
     "output_type": "stream",
     "text": [
      "Training the model with C = 0.0156 ...\n"
     ]
    }
   ],
   "source": [
    "# Reverse the one-hot encoder procedure in order to obtain the output labels\n",
    "output_train = np.argmax(y_train, axis=1)\n",
    "output_test = np.argmax(y_test, axis=1)\n",
    "prediction_encoded = model.predict(input_test)\n",
    "prediction = np.argmax(prediction_encoded, axis=1)\n",
    "\n",
    "C = [2**(-6)]\n",
    "prediction_svm = deeplearning.SVMLayer(C,\n",
    "                                        output_train,\n",
    "                                        trainingFeatures,\n",
    "                                        testingFeatures) "
   ]
  },
  {
   "cell_type": "code",
   "execution_count": 11,
   "metadata": {},
   "outputs": [
    {
     "name": "stdout",
     "output_type": "stream",
     "text": [
      "\n",
      "BEFORE SVM:\n",
      "Accuracy:  0.16803257294983556\n",
      "F1-measure:  0.1780636296416476\n",
      "\n",
      "AFTER SVM:\n",
      "Accuracy:  0.9039515581771677\n",
      "F1-measure:  0.9037009549398655\n"
     ]
    }
   ],
   "source": [
    "print(\"\\nBEFORE SVM:\")\n",
    "print(\"Accuracy: \", accuracy_score(output_test, prediction))\n",
    "print(\"F1-measure: \", utils.f1_score(output_test, prediction, average='weighted'))\n",
    "\n",
    "print(\"\\nAFTER SVM:\")\n",
    "print(\"Accuracy: \", accuracy_score(output_test, prediction_svm))\n",
    "print(\"F1-measure: \", utils.f1_score(output_test, prediction_svm, average='weighted'))"
   ]
  },
  {
   "cell_type": "code",
   "execution_count": 9,
   "metadata": {},
   "outputs": [],
   "source": [
    "\n",
    "      \n",
    "# Compute and plot confusion matrix\n",
    "#cnf_matrix = utils.confusion_matrix(Y_test_hard, Y_pred_hard)\n",
    "#np.set_printoptions(precision=2)\n",
    "\n",
    "#plt.figure()\n",
    "#utils.plot_confusion_matrix(cnf_matrix, classes=classes,\n",
    "#                      title='Confusion matrix, without normalization')"
   ]
  }
 ],
 "metadata": {
  "kernelspec": {
   "display_name": "Python 3",
   "language": "python",
   "name": "python3"
  },
  "language_info": {
   "codemirror_mode": {
    "name": "ipython",
    "version": 3
   },
   "file_extension": ".py",
   "mimetype": "text/x-python",
   "name": "python",
   "nbconvert_exporter": "python",
   "pygments_lexer": "ipython3",
   "version": "3.6.4"
  }
 },
 "nbformat": 4,
 "nbformat_minor": 2
}
