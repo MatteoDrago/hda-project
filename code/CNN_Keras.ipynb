{
 "cells": [
  {
   "cell_type": "markdown",
   "metadata": {},
   "source": [
    "# Keras Implementation - Human Data Analytics Project \n",
    "\n",
    "Importing all modules that we need for our elaboration"
   ]
  },
  {
   "cell_type": "code",
   "execution_count": 1,
   "metadata": {},
   "outputs": [
    {
     "name": "stderr",
     "output_type": "stream",
     "text": [
      "Using TensorFlow backend.\n"
     ]
    }
   ],
   "source": [
    "import numpy as np\n",
    "import scipy.io\n",
    "from sklearn.preprocessing import OneHotEncoder, StandardScaler\n",
    "from sklearn.metrics import f1_score, roc_curve, auc\n",
    "import matplotlib as plt\n",
    "\n",
    "import warnings\n",
    "with warnings.catch_warnings():\n",
    "    warnings.filterwarnings(\"ignore\",category=FutureWarning)\n",
    "    \n",
    "    from keras import regularizers\n",
    "    from keras.layers import Conv1D, BatchNormalization, Dropout, LeakyReLU, Flatten, Activation, Dense, MaxPooling1D\n",
    "    from keras.models import Model, Sequential\n",
    "    from keras.optimizers import Adam\n",
    "    import keras.backend as K\n",
    "    \n",
    "K.set_image_data_format('channels_last')\n",
    "\n",
    "%matplotlib inline"
   ]
  },
  {
   "cell_type": "markdown",
   "metadata": {},
   "source": [
    "# Preprocessing Section\n",
    "Importing data sessions for subject 1"
   ]
  },
  {
   "cell_type": "code",
   "execution_count": 2,
   "metadata": {},
   "outputs": [],
   "source": [
    "x1 = scipy.io.loadmat(\"data/full/S1-ADL1\", mdict={'filled_features':'features', 'labels':'labels'})\n",
    "x2 = scipy.io.loadmat(\"data/full/S1-ADL2\", mdict={'filled_features':'features', 'labels':'labels'})\n",
    "x3 = scipy.io.loadmat(\"data/full/S1-ADL3\", mdict={'filled_features':'features', 'labels':'labels'})\n",
    "x4 = scipy.io.loadmat(\"data/full/S1-ADL4\", mdict={'filled_features':'features', 'labels':'labels'})\n",
    "x5 = scipy.io.loadmat(\"data/full/S1-ADL5\", mdict={'filled_features':'features', 'labels':'labels'})\n",
    "x6 = scipy.io.loadmat(\"data/full/S1-Drill\", mdict={'filled_features':'features', 'labels':'labels'})"
   ]
  },
  {
   "cell_type": "markdown",
   "metadata": {},
   "source": [
    "Check the number of recorded samples for each session"
   ]
  },
  {
   "cell_type": "code",
   "execution_count": 3,
   "metadata": {},
   "outputs": [
    {
     "name": "stdout",
     "output_type": "stream",
     "text": [
      "Session shapes:\n",
      "\n",
      "ADL1:   (51116, 113)\n",
      "ADL2:   (32224, 113)\n",
      "ADL3:   (33273, 113)\n",
      "ADL4:   (32955, 113)\n",
      "ADL5:   (30127, 113)\n",
      "Drill:  (54966, 113)\n",
      "\n",
      "Training set: ADL1 + ADL2 + ADL3 + Drill =  171579\n",
      "Test set: ADL4 + ADL5 =  63082\n"
     ]
    }
   ],
   "source": [
    "print(\"Session shapes:\\n\")\n",
    "print(\"ADL1:  \", x1['filled_features'].shape)\n",
    "print(\"ADL2:  \", x2['filled_features'].shape)\n",
    "print(\"ADL3:  \", x3['filled_features'].shape)\n",
    "print(\"ADL4:  \", x4['filled_features'].shape)\n",
    "print(\"ADL5:  \", x5['filled_features'].shape)\n",
    "print(\"Drill: \", x6['filled_features'].shape)\n",
    "print(\"\\nTraining set: ADL1 + ADL2 + ADL3 + Drill = \", x1['filled_features'].shape[0] + x2['filled_features'].shape[0] + x3['filled_features'].shape[0] + x6['filled_features'].shape[0])\n",
    "print(\"Test set: ADL4 + ADL5 = \", x4['filled_features'].shape[0] + x5['filled_features'].shape[0])"
   ]
  },
  {
   "cell_type": "markdown",
   "metadata": {},
   "source": [
    "We split the data into train and test set."
   ]
  },
  {
   "cell_type": "code",
   "execution_count": 4,
   "metadata": {},
   "outputs": [
    {
     "name": "stdout",
     "output_type": "stream",
     "text": [
      "X_train shape:  (171579, 113)\n",
      "X_test shape:  (63082, 113)\n"
     ]
    }
   ],
   "source": [
    "# features\n",
    "X_train = np.concatenate((x1['filled_features'],x2['filled_features'],x3['filled_features'],x6['filled_features']),axis=0)\n",
    "X_test = np.concatenate((x4['filled_features'],x5['filled_features']),axis=0)\n",
    "\n",
    "# labels (locomotion activity)\n",
    "Y_train = np.concatenate((x1['labels'][:,0],x2['labels'][:,0],x3['labels'][:,0],x6['labels'][:,0]),axis=0) # here we take just the first column because we want to fulfill the first task\n",
    "Y_test = np.concatenate((x4['labels'][:,0],x5['labels'][:,0]))\n",
    "#Y_test = np.concatenate((x4['labels'][:,0],x5['labels'][:,0]),axis=0)\n",
    "\n",
    "# Initial decision to overcome the problem of entire missing columns\n",
    "X_train = np.nan_to_num(X_train)\n",
    "X_test = np.nan_to_num(X_test)\n",
    "\n",
    "print(\"X_train shape: \", X_train.shape)\n",
    "print(\"X_test shape: \", X_test.shape)\n"
   ]
  },
  {
   "cell_type": "markdown",
   "metadata": {},
   "source": [
    "The dataset needs to be normalized in order to improve performances."
   ]
  },
  {
   "cell_type": "code",
   "execution_count": 5,
   "metadata": {},
   "outputs": [],
   "source": [
    "# fatures normalization\n",
    "scaler = StandardScaler().fit(X_train)\n",
    "X_train =scaler.transform(X_train)\n",
    "X_test = scaler.transform(X_test)"
   ]
  },
  {
   "cell_type": "markdown",
   "metadata": {},
   "source": [
    "We decided to use a onehot encoder for the labels"
   ]
  },
  {
   "cell_type": "code",
   "execution_count": 6,
   "metadata": {},
   "outputs": [
    {
     "name": "stdout",
     "output_type": "stream",
     "text": [
      "The higest label value is:  5\n",
      "YOH_train shape:  (171579, 6)\n",
      "YOH_test shape:  (63082, 6)\n"
     ]
    }
   ],
   "source": [
    "label_max = np.max(Y_train)\n",
    "print(\"The higest label value is: \", label_max)\n",
    "onehot_encoder = OneHotEncoder(n_values=label_max+1, sparse=False)\n",
    "YOH_train = onehot_encoder.fit_transform(Y_train.reshape(-1, 1))\n",
    "YOH_test = onehot_encoder.fit_transform(Y_test.reshape(-1, 1))\n",
    "\n",
    "print(\"YOH_train shape: \", YOH_train.shape)\n",
    "print(\"YOH_test shape: \", YOH_test.shape)"
   ]
  },
  {
   "cell_type": "code",
   "execution_count": 7,
   "metadata": {},
   "outputs": [
    {
     "name": "stdout",
     "output_type": "stream",
     "text": [
      "Number of samples:  171579 \n",
      "Number of classes:  6\n",
      "Number of windows:  34314\n"
     ]
    }
   ],
   "source": [
    "window_size = 10\n",
    "stride = int(window_size / 2)\n",
    "num_features = X_train.shape[1]\n",
    "samples, classes = YOH_train.shape\n",
    "print(\"Number of samples: \", samples, \"\\nNumber of classes: \", classes)\n",
    "\n",
    "windows = int(samples // stride) - 1\n",
    "print(\"Number of windows: \", windows)"
   ]
  },
  {
   "cell_type": "code",
   "execution_count": 8,
   "metadata": {},
   "outputs": [
    {
     "name": "stdout",
     "output_type": "stream",
     "text": [
      "Number of samples:  63082 \n",
      "Number of classes:  6\n",
      "Number of windows:  12615\n"
     ]
    }
   ],
   "source": [
    "num_features_test = X_test.shape[1]\n",
    "samples_test, classes_test = YOH_test.shape\n",
    "print(\"Number of samples: \", samples_test, \"\\nNumber of classes: \", classes_test)\n",
    "\n",
    "windows_test = int(samples_test // stride) - 1\n",
    "print(\"Number of windows: \", windows_test)"
   ]
  },
  {
   "cell_type": "code",
   "execution_count": 9,
   "metadata": {},
   "outputs": [
    {
     "data": {
      "text/plain": [
       "(34314, 10, 113)"
      ]
     },
     "execution_count": 9,
     "metadata": {},
     "output_type": "execute_result"
    }
   ],
   "source": [
    "cube = np.zeros([windows, window_size, num_features])\n",
    "cube.shape"
   ]
  },
  {
   "cell_type": "code",
   "execution_count": 10,
   "metadata": {},
   "outputs": [
    {
     "data": {
      "text/plain": [
       "(12615, 10, 113)"
      ]
     },
     "execution_count": 10,
     "metadata": {},
     "output_type": "execute_result"
    }
   ],
   "source": [
    "cube_test = np.zeros([windows_test, window_size, num_features])\n",
    "cube_test.shape"
   ]
  },
  {
   "cell_type": "code",
   "execution_count": 11,
   "metadata": {},
   "outputs": [
    {
     "data": {
      "text/plain": [
       "(34314,)"
      ]
     },
     "execution_count": 11,
     "metadata": {},
     "output_type": "execute_result"
    }
   ],
   "source": [
    "lab_cum = np.zeros([windows])\n",
    "lab_cum.shape"
   ]
  },
  {
   "cell_type": "code",
   "execution_count": 12,
   "metadata": {},
   "outputs": [
    {
     "data": {
      "text/plain": [
       "(12615,)"
      ]
     },
     "execution_count": 12,
     "metadata": {},
     "output_type": "execute_result"
    }
   ],
   "source": [
    "lab_cum_test = np.zeros([windows_test])\n",
    "lab_cum_test.shape"
   ]
  },
  {
   "cell_type": "code",
   "execution_count": 13,
   "metadata": {},
   "outputs": [],
   "source": [
    "for w in range(windows):\n",
    "    index = int(w * stride)\n",
    "    cube[w,:,:] = X_train[index:index+window_size, :].reshape((window_size,num_features))\n",
    "    l = YOH_train[index:index+window_size,:] # shape 50 x 5\n",
    "    #print(np.sum(l, axis=0),np.argmax(np.sum(l, axis=0)))\n",
    "    lab_cum[w] = np.argmax(np.sum(l, axis=0))"
   ]
  },
  {
   "cell_type": "code",
   "execution_count": 14,
   "metadata": {},
   "outputs": [],
   "source": [
    "for w in range(windows_test):\n",
    "    index = int(w * stride)\n",
    "    cube_test[w,:,:] = X_test[index:index+window_size, :].reshape((window_size,num_features))\n",
    "    l = YOH_test[index:index+window_size,:] # shape 50 x 5\n",
    "    #print(np.sum(l, axis=0),np.argmax(np.sum(l, axis=0)))\n",
    "    lab_cum_test[w] = np.argmax(np.sum(l, axis=0))"
   ]
  },
  {
   "cell_type": "code",
   "execution_count": 15,
   "metadata": {},
   "outputs": [
    {
     "name": "stdout",
     "output_type": "stream",
     "text": [
      "[[1. 0. 0. 0. 0. 0.]\n",
      " [1. 0. 0. 0. 0. 0.]\n",
      " [1. 0. 0. 0. 0. 0.]\n",
      " ...\n",
      " [1. 0. 0. 0. 0. 0.]\n",
      " [1. 0. 0. 0. 0. 0.]\n",
      " [1. 0. 0. 0. 0. 0.]]\n"
     ]
    }
   ],
   "source": [
    "#print('cumulative labels: ', lab_cum.shape, type(lab_cum), \"\\n\", lab_cum)\n",
    "YOH_train_final = onehot_encoder.fit_transform(lab_cum.reshape(-1, 1))\n",
    "print(YOH_train_final)"
   ]
  },
  {
   "cell_type": "code",
   "execution_count": 16,
   "metadata": {},
   "outputs": [
    {
     "name": "stdout",
     "output_type": "stream",
     "text": [
      "[[1. 0. 0. 0. 0. 0.]\n",
      " [1. 0. 0. 0. 0. 0.]\n",
      " [1. 0. 0. 0. 0. 0.]\n",
      " ...\n",
      " [1. 0. 0. 0. 0. 0.]\n",
      " [1. 0. 0. 0. 0. 0.]\n",
      " [1. 0. 0. 0. 0. 0.]]\n"
     ]
    }
   ],
   "source": [
    "YOH_test_final = onehot_encoder.fit_transform(lab_cum_test.reshape(-1, 1))\n",
    "print(YOH_test_final)"
   ]
  },
  {
   "cell_type": "code",
   "execution_count": 17,
   "metadata": {},
   "outputs": [],
   "source": [
    "def TestModel(input_shape):\n",
    "    \"\"\" \n",
    "    Arguments:\n",
    "    input_shape -- shape of the images of the dataset\n",
    "\n",
    "    Returns: \n",
    "    model -- a Model() instance in Keras\n",
    "    \"\"\"\n",
    "    \n",
    "    model = Sequential()\n",
    "    \n",
    "    model.add(Conv1D(filters = 18,\n",
    "                    kernel_size=5,\n",
    "                    strides=1,\n",
    "                    padding='same',\n",
    "                    input_shape = input_shape))\n",
    "    model.add(BatchNormalization())\n",
    "    model.add(LeakyReLU(alpha=0.3))\n",
    "    model.add(MaxPooling1D(pool_size=2,\n",
    "                          strides=2,\n",
    "                          padding='same'))\n",
    "    \n",
    "    model.add(Conv1D(filters = 36,\n",
    "                    kernel_size=7,\n",
    "                    strides=1,\n",
    "                    padding='same'))\n",
    "    model.add(BatchNormalization())\n",
    "    model.add(LeakyReLU(alpha=0.3))\n",
    "    model.add(MaxPooling1D(pool_size=2,\n",
    "                          strides=2,\n",
    "                          padding='same'))\n",
    "    \n",
    "    model.add(Dropout(0.2))\n",
    "    \n",
    "    model.add(Conv1D(filters = 72,\n",
    "                    kernel_size=7,\n",
    "                    strides=1,\n",
    "                    padding='same'))\n",
    "    model.add(BatchNormalization())\n",
    "    model.add(LeakyReLU(alpha=0.3))\n",
    "    model.add(MaxPooling1D(pool_size=2,\n",
    "                          strides=2,\n",
    "                          padding='same'))\n",
    "    \n",
    "    #model.add(Conv1D(filters = 144,\n",
    "    #                kernel_size=7,\n",
    "    #                strides=1,\n",
    "    #                padding='same'))\n",
    "    #model.add(BatchNormalization())\n",
    "    #model.add(Activation('relu'))\n",
    "    #model.add(MaxPooling1D(pool_size=2,\n",
    "    #                      strides=2,\n",
    "    #                      padding='same'))\n",
    "    \n",
    "    model.add(Flatten())\n",
    "    \n",
    "    model.add(Dense(64, kernel_regularizer=regularizers.l2(0.01)))\n",
    "    model.add(Activation('relu'))\n",
    "    \n",
    "    model.add(Dropout(0.4))\n",
    "\n",
    "    model.add(Dense(classes))\n",
    "    model.add(Activation('softmax'))\n",
    "    \n",
    "    model.summary()\n",
    "    \n",
    "    return model"
   ]
  },
  {
   "cell_type": "code",
   "execution_count": 18,
   "metadata": {},
   "outputs": [
    {
     "name": "stdout",
     "output_type": "stream",
     "text": [
      "_________________________________________________________________\n",
      "Layer (type)                 Output Shape              Param #   \n",
      "=================================================================\n",
      "conv1d_1 (Conv1D)            (None, 10, 18)            10188     \n",
      "_________________________________________________________________\n",
      "batch_normalization_1 (Batch (None, 10, 18)            72        \n",
      "_________________________________________________________________\n",
      "leaky_re_lu_1 (LeakyReLU)    (None, 10, 18)            0         \n",
      "_________________________________________________________________\n",
      "max_pooling1d_1 (MaxPooling1 (None, 5, 18)             0         \n",
      "_________________________________________________________________\n",
      "conv1d_2 (Conv1D)            (None, 5, 36)             4572      \n",
      "_________________________________________________________________\n",
      "batch_normalization_2 (Batch (None, 5, 36)             144       \n",
      "_________________________________________________________________\n",
      "leaky_re_lu_2 (LeakyReLU)    (None, 5, 36)             0         \n",
      "_________________________________________________________________\n",
      "max_pooling1d_2 (MaxPooling1 (None, 3, 36)             0         \n",
      "_________________________________________________________________\n",
      "dropout_1 (Dropout)          (None, 3, 36)             0         \n",
      "_________________________________________________________________\n",
      "conv1d_3 (Conv1D)            (None, 3, 72)             18216     \n",
      "_________________________________________________________________\n",
      "batch_normalization_3 (Batch (None, 3, 72)             288       \n",
      "_________________________________________________________________\n",
      "leaky_re_lu_3 (LeakyReLU)    (None, 3, 72)             0         \n",
      "_________________________________________________________________\n",
      "max_pooling1d_3 (MaxPooling1 (None, 2, 72)             0         \n",
      "_________________________________________________________________\n",
      "flatten_1 (Flatten)          (None, 144)               0         \n",
      "_________________________________________________________________\n",
      "dense_1 (Dense)              (None, 64)                9280      \n",
      "_________________________________________________________________\n",
      "activation_1 (Activation)    (None, 64)                0         \n",
      "_________________________________________________________________\n",
      "dropout_2 (Dropout)          (None, 64)                0         \n",
      "_________________________________________________________________\n",
      "dense_2 (Dense)              (None, 6)                 390       \n",
      "_________________________________________________________________\n",
      "activation_2 (Activation)    (None, 6)                 0         \n",
      "=================================================================\n",
      "Total params: 43,150\n",
      "Trainable params: 42,898\n",
      "Non-trainable params: 252\n",
      "_________________________________________________________________\n"
     ]
    }
   ],
   "source": [
    "model_test = TestModel((10,113))"
   ]
  },
  {
   "cell_type": "code",
   "execution_count": 19,
   "metadata": {},
   "outputs": [],
   "source": [
    "opt = Adam(lr=0.01)\n",
    "model_test.compile(optimizer = opt, loss = \"categorical_crossentropy\", metrics = [\"accuracy\"])"
   ]
  },
  {
   "cell_type": "code",
   "execution_count": 20,
   "metadata": {},
   "outputs": [
    {
     "name": "stdout",
     "output_type": "stream",
     "text": [
      "Train on 34314 samples, validate on 12615 samples\n",
      "Epoch 1/50\n",
      "34314/34314 [==============================] - 7s 211us/step - loss: 1.2368 - acc: 0.5179 - val_loss: 2.2610 - val_acc: 0.2851\n",
      "Epoch 2/50\n",
      "34314/34314 [==============================] - 4s 104us/step - loss: 1.0018 - acc: 0.5848 - val_loss: 3.2455 - val_acc: 0.3725\n",
      "Epoch 3/50\n",
      "34314/34314 [==============================] - 3s 101us/step - loss: 0.9578 - acc: 0.6096 - val_loss: 2.4037 - val_acc: 0.2943\n",
      "Epoch 4/50\n",
      "34314/34314 [==============================] - 3s 102us/step - loss: 0.9390 - acc: 0.6188 - val_loss: 3.1788 - val_acc: 0.2809\n",
      "Epoch 5/50\n",
      "34314/34314 [==============================] - 4s 103us/step - loss: 0.9066 - acc: 0.6331 - val_loss: 2.8871 - val_acc: 0.3738\n",
      "Epoch 6/50\n",
      "34314/34314 [==============================] - 3s 102us/step - loss: 0.8897 - acc: 0.6374 - val_loss: 3.1659 - val_acc: 0.3657\n",
      "Epoch 7/50\n",
      "34314/34314 [==============================] - 4s 105us/step - loss: 0.8882 - acc: 0.6304 - val_loss: 1.7619 - val_acc: 0.3799\n",
      "Epoch 8/50\n",
      "34314/34314 [==============================] - 4s 103us/step - loss: 0.8747 - acc: 0.6483 - val_loss: 3.1203 - val_acc: 0.3394\n",
      "Epoch 9/50\n",
      "34314/34314 [==============================] - 4s 104us/step - loss: 0.8608 - acc: 0.6489 - val_loss: 3.1520 - val_acc: 0.3121\n",
      "Epoch 10/50\n",
      "34314/34314 [==============================] - 4s 102us/step - loss: 0.8372 - acc: 0.6634 - val_loss: 3.5217 - val_acc: 0.3696\n",
      "Epoch 11/50\n",
      "34314/34314 [==============================] - 3s 102us/step - loss: 0.8488 - acc: 0.6583 - val_loss: 3.0048 - val_acc: 0.3638\n",
      "Epoch 12/50\n",
      "34314/34314 [==============================] - 3s 101us/step - loss: 0.8315 - acc: 0.6621 - val_loss: 3.4756 - val_acc: 0.3561\n",
      "Epoch 13/50\n",
      "34314/34314 [==============================] - 4s 103us/step - loss: 0.8351 - acc: 0.6636 - val_loss: 3.2567 - val_acc: 0.3408\n",
      "Epoch 14/50\n",
      "34314/34314 [==============================] - 4s 102us/step - loss: 0.8239 - acc: 0.6690 - val_loss: 3.0525 - val_acc: 0.3702\n",
      "Epoch 15/50\n",
      "34314/34314 [==============================] - 4s 107us/step - loss: 0.8080 - acc: 0.6765 - val_loss: 3.5970 - val_acc: 0.3230\n",
      "Epoch 16/50\n",
      "34314/34314 [==============================] - 4s 103us/step - loss: 0.8090 - acc: 0.6735 - val_loss: 3.0898 - val_acc: 0.3518\n",
      "Epoch 17/50\n",
      "34314/34314 [==============================] - 3s 102us/step - loss: 0.7914 - acc: 0.6823 - val_loss: 3.8678 - val_acc: 0.3252\n",
      "Epoch 18/50\n",
      "34314/34314 [==============================] - 3s 99us/step - loss: 0.7902 - acc: 0.6828 - val_loss: 3.4663 - val_acc: 0.3362\n",
      "Epoch 19/50\n",
      "34314/34314 [==============================] - 3s 102us/step - loss: 0.8007 - acc: 0.6777 - val_loss: 3.2263 - val_acc: 0.3598\n",
      "Epoch 20/50\n",
      "34314/34314 [==============================] - 4s 102us/step - loss: 0.8091 - acc: 0.6727 - val_loss: 3.6883 - val_acc: 0.3795\n",
      "Epoch 21/50\n",
      "34314/34314 [==============================] - 4s 103us/step - loss: 0.8056 - acc: 0.6754 - val_loss: 3.2241 - val_acc: 0.3658\n",
      "Epoch 22/50\n",
      "34314/34314 [==============================] - 3s 102us/step - loss: 0.7755 - acc: 0.6889 - val_loss: 3.5514 - val_acc: 0.3516\n",
      "Epoch 23/50\n",
      "34314/34314 [==============================] - 3s 101us/step - loss: 0.7600 - acc: 0.6978 - val_loss: 3.6219 - val_acc: 0.3753\n",
      "Epoch 24/50\n",
      "34314/34314 [==============================] - 3s 102us/step - loss: 0.7669 - acc: 0.6915 - val_loss: 3.7766 - val_acc: 0.2977\n",
      "Epoch 25/50\n",
      "34314/34314 [==============================] - 4s 102us/step - loss: 0.8000 - acc: 0.6756 - val_loss: 3.9791 - val_acc: 0.2612\n",
      "Epoch 26/50\n",
      "34314/34314 [==============================] - 4s 104us/step - loss: 0.7560 - acc: 0.6944 - val_loss: 3.3678 - val_acc: 0.3484\n",
      "Epoch 27/50\n",
      "34314/34314 [==============================] - 4s 103us/step - loss: 0.7477 - acc: 0.7004 - val_loss: 3.3666 - val_acc: 0.3907\n",
      "Epoch 28/50\n",
      "34314/34314 [==============================] - 4s 103us/step - loss: 0.7738 - acc: 0.6898 - val_loss: 3.4154 - val_acc: 0.3602\n",
      "Epoch 29/50\n",
      "34314/34314 [==============================] - 4s 104us/step - loss: 0.7718 - acc: 0.6918 - val_loss: 3.4898 - val_acc: 0.3587\n",
      "Epoch 30/50\n",
      "34314/34314 [==============================] - 3s 99us/step - loss: 0.7517 - acc: 0.6990 - val_loss: 3.6750 - val_acc: 0.3463\n",
      "Epoch 31/50\n",
      "34314/34314 [==============================] - 3s 101us/step - loss: 0.7413 - acc: 0.7043 - val_loss: 3.5910 - val_acc: 0.3432\n",
      "Epoch 32/50\n",
      "34314/34314 [==============================] - 4s 102us/step - loss: 0.7418 - acc: 0.7024 - val_loss: 3.8057 - val_acc: 0.3783\n",
      "Epoch 33/50\n",
      "34314/34314 [==============================] - 4s 103us/step - loss: 0.7336 - acc: 0.7077 - val_loss: 3.3591 - val_acc: 0.3156\n",
      "Epoch 34/50\n",
      "34314/34314 [==============================] - 4s 104us/step - loss: 0.7326 - acc: 0.7106 - val_loss: 3.6740 - val_acc: 0.3541\n",
      "Epoch 35/50\n",
      "34314/34314 [==============================] - 4s 102us/step - loss: 0.7370 - acc: 0.7070 - val_loss: 3.1657 - val_acc: 0.3852\n",
      "Epoch 36/50\n",
      "34314/34314 [==============================] - 3s 102us/step - loss: 0.7357 - acc: 0.7059 - val_loss: 3.8521 - val_acc: 0.3551\n",
      "Epoch 37/50\n",
      "34314/34314 [==============================] - 4s 103us/step - loss: 0.7502 - acc: 0.6992 - val_loss: 3.8687 - val_acc: 0.3500\n",
      "Epoch 38/50\n",
      "34314/34314 [==============================] - 4s 104us/step - loss: 0.7361 - acc: 0.7073 - val_loss: 3.3957 - val_acc: 0.4082\n",
      "Epoch 39/50\n",
      "34314/34314 [==============================] - 4s 105us/step - loss: 0.7473 - acc: 0.7032 - val_loss: 2.9589 - val_acc: 0.3711\n",
      "Epoch 40/50\n",
      "34314/34314 [==============================] - 4s 104us/step - loss: 0.7562 - acc: 0.7020 - val_loss: 3.3341 - val_acc: 0.3065\n",
      "Epoch 41/50\n",
      "34314/34314 [==============================] - 3s 102us/step - loss: 0.7544 - acc: 0.7020 - val_loss: 3.2275 - val_acc: 0.3846\n",
      "Epoch 42/50\n",
      "34314/34314 [==============================] - 3s 102us/step - loss: 0.7202 - acc: 0.7133 - val_loss: 3.3253 - val_acc: 0.4002\n",
      "Epoch 43/50\n",
      "34314/34314 [==============================] - 4s 103us/step - loss: 0.7202 - acc: 0.7129 - val_loss: 3.6568 - val_acc: 0.3568\n",
      "Epoch 44/50\n",
      "34314/34314 [==============================] - 4s 103us/step - loss: 0.7182 - acc: 0.7181 - val_loss: 3.5475 - val_acc: 0.3927\n",
      "Epoch 45/50\n",
      "34314/34314 [==============================] - 3s 98us/step - loss: 0.7140 - acc: 0.7172 - val_loss: 3.6847 - val_acc: 0.3770\n",
      "Epoch 46/50\n",
      "34314/34314 [==============================] - 3s 99us/step - loss: 0.7288 - acc: 0.7112 - val_loss: 3.9262 - val_acc: 0.3776\n",
      "Epoch 47/50\n",
      "34314/34314 [==============================] - 3s 101us/step - loss: 0.7393 - acc: 0.7077 - val_loss: 3.6911 - val_acc: 0.3744\n",
      "Epoch 48/50\n",
      "34314/34314 [==============================] - 4s 103us/step - loss: 0.7153 - acc: 0.7180 - val_loss: 3.9635 - val_acc: 0.3623\n",
      "Epoch 49/50\n",
      "34314/34314 [==============================] - 3s 102us/step - loss: 0.7252 - acc: 0.7146 - val_loss: 3.7927 - val_acc: 0.3929\n",
      "Epoch 50/50\n",
      "34314/34314 [==============================] - 4s 105us/step - loss: 0.7248 - acc: 0.7129 - val_loss: 3.5567 - val_acc: 0.3453\n"
     ]
    },
    {
     "data": {
      "text/plain": [
       "<keras.callbacks.History at 0x131ac316160>"
      ]
     },
     "execution_count": 20,
     "metadata": {},
     "output_type": "execute_result"
    }
   ],
   "source": [
    "model_test.fit(x = cube, y = YOH_train_final, epochs = 50, batch_size = 128, validation_data=(cube_test,YOH_test_final))"
   ]
  },
  {
   "cell_type": "code",
   "execution_count": 39,
   "metadata": {},
   "outputs": [
    {
     "name": "stdout",
     "output_type": "stream",
     "text": [
      "y_pred:\n",
      " [[2.74701668e-11 9.49683905e-01 5.03114127e-02 1.09776814e-11\n",
      "  4.77086496e-06 9.86764892e-10]\n",
      " [1.04694731e-09 8.97237480e-01 1.02724105e-01 6.62097210e-10\n",
      "  3.83340375e-05 8.92026435e-08]\n",
      " [1.04239412e-07 6.94116533e-01 3.05433244e-01 1.23025686e-07\n",
      "  4.25656355e-04 2.44067105e-05]\n",
      " ...\n",
      " [0.00000000e+00 0.00000000e+00 1.00000000e+00 0.00000000e+00\n",
      "  0.00000000e+00 0.00000000e+00]\n",
      " [0.00000000e+00 0.00000000e+00 1.00000000e+00 0.00000000e+00\n",
      "  0.00000000e+00 0.00000000e+00]\n",
      " [0.00000000e+00 0.00000000e+00 1.00000000e+00 0.00000000e+00\n",
      "  0.00000000e+00 0.00000000e+00]]\n",
      "\n",
      "y_pred_hard:\n",
      " [1 1 1 ... 2 2 2]\n",
      "\n",
      "YOH_pred:\n",
      " [[0. 1. 0. 0. 0. 0.]\n",
      " [0. 1. 0. 0. 0. 0.]\n",
      " [0. 1. 0. 0. 0. 0.]\n",
      " ...\n",
      " [0. 0. 1. 0. 0. 0.]\n",
      " [0. 0. 1. 0. 0. 0.]\n",
      " [0. 0. 1. 0. 0. 0.]]\n"
     ]
    }
   ],
   "source": [
    "y_pred = model_test.predict(cube_test)\n",
    "print(\"y_pred:\\n\", y_pred)\n",
    "\n",
    "y_pred_hard = np.argmax(y_pred, axis=1)\n",
    "print(\"\\ny_pred_hard:\\n\", y_pred_hard)\n",
    "\n",
    "YOH_pred = onehot_encoder.fit_transform(y_pred_hard.reshape(-1, 1))\n",
    "print(\"\\nYOH_pred:\\n\", YOH_pred)"
   ]
  },
  {
   "cell_type": "code",
   "execution_count": 40,
   "metadata": {},
   "outputs": [
    {
     "name": "stdout",
     "output_type": "stream",
     "text": [
      "F1-measure:  0.9199016588917385\n",
      "ROC-AUC measure:  {0: nan, 1: 0.9240272828708203, 2: 0.9053215212327809, 3: nan, 4: 0.9960707019522338, 5: 0.9264151251182668}\n"
     ]
    },
    {
     "name": "stderr",
     "output_type": "stream",
     "text": [
      "C:\\Users\\Riccardo\\Anaconda3\\lib\\site-packages\\sklearn\\metrics\\classification.py:1135: UndefinedMetricWarning: F-score is ill-defined and being set to 0.0 in labels with no predicted samples.\n",
      "  'precision', 'predicted', average, warn_for)\n",
      "C:\\Users\\Riccardo\\Anaconda3\\lib\\site-packages\\sklearn\\metrics\\classification.py:1137: UndefinedMetricWarning: F-score is ill-defined and being set to 0.0 in labels with no true samples.\n",
      "  'recall', 'true', average, warn_for)\n",
      "C:\\Users\\Riccardo\\Anaconda3\\lib\\site-packages\\sklearn\\metrics\\ranking.py:571: UndefinedMetricWarning: No positive samples in y_true, true positive value should be meaningless\n",
      "  UndefinedMetricWarning)\n"
     ]
    }
   ],
   "source": [
    "print(\"F1-measure: \", f1_score(YOH_test_final, YOH_pred, average='weighted'))\n",
    "\n",
    "# Compute ROC curve and ROC area for each class\n",
    "fpr = dict()\n",
    "tpr = dict()\n",
    "roc_auc = dict()\n",
    "for i in range(classes):\n",
    "    fpr[i], tpr[i], _ = roc_curve(YOH_test_final[:, i], YOH_pred[:, i])\n",
    "    roc_auc[i] = auc(fpr[i], tpr[i])\n",
    "\n",
    "print(\"ROC-AUC measure: \", roc_auc)"
   ]
  },
  {
   "cell_type": "code",
   "execution_count": null,
   "metadata": {},
   "outputs": [],
   "source": []
  }
 ],
 "metadata": {
  "kernelspec": {
   "display_name": "Python 3",
   "language": "python",
   "name": "python3"
  },
  "language_info": {
   "codemirror_mode": {
    "name": "ipython",
    "version": 3
   },
   "file_extension": ".py",
   "mimetype": "text/x-python",
   "name": "python",
   "nbconvert_exporter": "python",
   "pygments_lexer": "ipython3",
   "version": "3.6.4"
  }
 },
 "nbformat": 4,
 "nbformat_minor": 2
}
