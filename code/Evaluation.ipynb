{
 "cells": [
  {
   "cell_type": "markdown",
   "metadata": {},
   "source": [
    "# Evaluation notebook\n",
    "This notebook is meant to be executed after 'main.py' and 'main_multiuser.py', since it uses the results stored by those programs for visualisation purposes.\n",
    "The first cell contains the parameters to be tuned for a correct execution. Here's a quick explanation:\n",
    "- datapath: string, containing the folder where results have been stored by 'main.py' and 'main_multiuser.py'. Note that results are saved as .txt files;\n",
    "- subjects: list of integers, containing the different configurations of subjects on which models have been tested;\n",
    "- model_names: list of strings, containing the names of models that have been deployed."
   ]
  },
  {
   "cell_type": "code",
   "execution_count": 1,
   "metadata": {},
   "outputs": [],
   "source": [
    "datapath = \"./data/results/\"\n",
    "subjects = [1,2,3,4,23]\n",
    "model_names = [\"Convolutional\", \"Convolutional1DRecurrent\", \"Convolutional2DRecurrent\", \"ConvolutionalDeepRecurrent\"]"
   ]
  },
  {
   "cell_type": "markdown",
   "metadata": {},
   "source": [
    "Import useful packeges."
   ]
  },
  {
   "cell_type": "code",
   "execution_count": 2,
   "metadata": {},
   "outputs": [],
   "source": [
    "import numpy as np\n",
    "import pandas as pd\n",
    "import matplotlib.pyplot as plt"
   ]
  },
  {
   "cell_type": "markdown",
   "metadata": {},
   "source": [
    "# Task A"
   ]
  },
  {
   "cell_type": "code",
   "execution_count": 3,
   "metadata": {
    "scrolled": true
   },
   "outputs": [
    {
     "name": "stdout",
     "output_type": "stream",
     "text": [
      "Results matrix has shape (3, 5, 4)\n",
      "Loading A_Convolutional_1.txt\n",
      "Loading A_Convolutional_2.txt\n",
      "Loading A_Convolutional_3.txt\n",
      "Loading A_Convolutional_4.txt\n",
      "Loading A_Convolutional_23.txt\n",
      "Loading A_Convolutional1DRecurrent_1.txt\n",
      "Loading A_Convolutional1DRecurrent_2.txt\n",
      "Loading A_Convolutional1DRecurrent_3.txt\n",
      "Loading A_Convolutional1DRecurrent_4.txt\n",
      "Loading A_Convolutional1DRecurrent_23.txt\n",
      "Loading A_Convolutional2DRecurrent_1.txt\n",
      "Loading A_Convolutional2DRecurrent_2.txt\n",
      "Loading A_Convolutional2DRecurrent_3.txt\n",
      "Loading A_Convolutional2DRecurrent_4.txt\n",
      "Loading A_Convolutional2DRecurrent_23.txt\n",
      "Loading A_ConvolutionalDeepRecurrent_1.txt\n",
      "Loading A_ConvolutionalDeepRecurrent_2.txt\n",
      "Loading A_ConvolutionalDeepRecurrent_3.txt\n",
      "Loading A_ConvolutionalDeepRecurrent_4.txt\n",
      "Loading A_ConvolutionalDeepRecurrent_23.txt\n"
     ]
    }
   ],
   "source": [
    "task = \"A\"\n",
    "results = np.zeros([3,len(subjects),len(model_names)])\n",
    "print(\"Results matrix has shape\", results.shape)\n",
    "for model in enumerate(model_names):\n",
    "    for s in enumerate(subjects):\n",
    "        filename = task + \"_\" + model[1] + \"_\" + str(s[1]) + \".txt\"\n",
    "        print(\"Loading\", filename)\n",
    "        results[:,s[0], model[0]] = np.loadtxt(datapath + filename, comments=\"#\", delimiter=\"\\n\", unpack=False)"
   ]
  },
  {
   "cell_type": "markdown",
   "metadata": {},
   "source": [
    "## One-Shot classification results\n",
    "These results consist of the classifications performed with the null class, which are stored on the top matrix."
   ]
  },
  {
   "cell_type": "code",
   "execution_count": 4,
   "metadata": {},
   "outputs": [
    {
     "data": {
      "text/html": [
       "<div>\n",
       "<style scoped>\n",
       "    .dataframe tbody tr th:only-of-type {\n",
       "        vertical-align: middle;\n",
       "    }\n",
       "\n",
       "    .dataframe tbody tr th {\n",
       "        vertical-align: top;\n",
       "    }\n",
       "\n",
       "    .dataframe thead th {\n",
       "        text-align: right;\n",
       "    }\n",
       "</style>\n",
       "<table border=\"1\" class=\"dataframe\">\n",
       "  <thead>\n",
       "    <tr style=\"text-align: right;\">\n",
       "      <th></th>\n",
       "      <th>Convolutional</th>\n",
       "      <th>Convolutional1DRecurrent</th>\n",
       "      <th>Convolutional2DRecurrent</th>\n",
       "      <th>ConvolutionalDeepRecurrent</th>\n",
       "    </tr>\n",
       "  </thead>\n",
       "  <tbody>\n",
       "    <tr>\n",
       "      <th>S1</th>\n",
       "      <td>0.9009</td>\n",
       "      <td>0.8943</td>\n",
       "      <td>0.9083</td>\n",
       "      <td>0.8996</td>\n",
       "    </tr>\n",
       "    <tr>\n",
       "      <th>S2</th>\n",
       "      <td>0.8277</td>\n",
       "      <td>0.7461</td>\n",
       "      <td>0.7478</td>\n",
       "      <td>0.7487</td>\n",
       "    </tr>\n",
       "    <tr>\n",
       "      <th>S3</th>\n",
       "      <td>0.8225</td>\n",
       "      <td>0.8090</td>\n",
       "      <td>0.8264</td>\n",
       "      <td>0.8156</td>\n",
       "    </tr>\n",
       "    <tr>\n",
       "      <th>S4</th>\n",
       "      <td>0.8689</td>\n",
       "      <td>0.8720</td>\n",
       "      <td>0.8718</td>\n",
       "      <td>0.8783</td>\n",
       "    </tr>\n",
       "    <tr>\n",
       "      <th>S2+S3</th>\n",
       "      <td>0.7805</td>\n",
       "      <td>0.7889</td>\n",
       "      <td>0.7892</td>\n",
       "      <td>0.7921</td>\n",
       "    </tr>\n",
       "  </tbody>\n",
       "</table>\n",
       "</div>"
      ],
      "text/plain": [
       "       Convolutional  Convolutional1DRecurrent  Convolutional2DRecurrent  \\\n",
       "S1            0.9009                    0.8943                    0.9083   \n",
       "S2            0.8277                    0.7461                    0.7478   \n",
       "S3            0.8225                    0.8090                    0.8264   \n",
       "S4            0.8689                    0.8720                    0.8718   \n",
       "S2+S3         0.7805                    0.7889                    0.7892   \n",
       "\n",
       "       ConvolutionalDeepRecurrent  \n",
       "S1                         0.8996  \n",
       "S2                         0.7487  \n",
       "S3                         0.8156  \n",
       "S4                         0.8783  \n",
       "S2+S3                      0.7921  "
      ]
     },
     "execution_count": 4,
     "metadata": {},
     "output_type": "execute_result"
    }
   ],
   "source": [
    "res_A1 = pd.DataFrame(results[0,:,:], index=[\"S1\", \"S2\", \"S3\", \"S4\", \"S2+S3\"], columns=model_names)\n",
    "res_A1"
   ]
  },
  {
   "cell_type": "code",
   "execution_count": 23,
   "metadata": {},
   "outputs": [
    {
     "data": {
      "text/plain": [
       "<matplotlib.figure.Figure at 0x21547a88fd0>"
      ]
     },
     "metadata": {},
     "output_type": "display_data"
    },
    {
     "data": {
      "image/png": "[encoded data removed]",
      "text/plain": [
       "<matplotlib.figure.Figure at 0x21547a38630>"
      ]
     },
     "metadata": {},
     "output_type": "display_data"
    }
   ],
   "source": [
    "plt.figure()\n",
    "res_A1.plot(kind='bar', layout=\"t\", logy=False);\n",
    "lgd = plt.legend(loc=9, bbox_to_anchor=(0.5, -0.2))\n",
    "plt.title(\"One-Shot classification models on task A\")\n",
    "plt.ylabel(\"F1-measure\")\n",
    "plt.yticks(np.arange(0,1, 0.1))\n",
    "plt.xlabel(\"Subjects\")\n",
    "plt.xticks(rotation=\"horizontal\")\n",
    "plt.grid(linestyle=\"dotted\")\n",
    "plt.tight_layout\n",
    "plt.savefig(datapath+\"A_models_nullclass.eps\", dpi=600, bbox_extra_artists=(lgd,), bbox_inches='tight')"
   ]
  },
  {
   "cell_type": "markdown",
   "metadata": {},
   "source": [
    "## Two-Step classification results\n",
    "These results consist of the classifications performed without the null class, which are stored on the bottom matrix."
   ]
  },
  {
   "cell_type": "code",
   "execution_count": 6,
   "metadata": {},
   "outputs": [
    {
     "data": {
      "text/html": [
       "<div>\n",
       "<style scoped>\n",
       "    .dataframe tbody tr th:only-of-type {\n",
       "        vertical-align: middle;\n",
       "    }\n",
       "\n",
       "    .dataframe tbody tr th {\n",
       "        vertical-align: top;\n",
       "    }\n",
       "\n",
       "    .dataframe thead th {\n",
       "        text-align: right;\n",
       "    }\n",
       "</style>\n",
       "<table border=\"1\" class=\"dataframe\">\n",
       "  <thead>\n",
       "    <tr style=\"text-align: right;\">\n",
       "      <th></th>\n",
       "      <th>Convolutional</th>\n",
       "      <th>Convolutional1DRecurrent</th>\n",
       "      <th>Convolutional2DRecurrent</th>\n",
       "      <th>ConvolutionalDeepRecurrent</th>\n",
       "    </tr>\n",
       "  </thead>\n",
       "  <tbody>\n",
       "    <tr>\n",
       "      <th>S1</th>\n",
       "      <td>0.9445</td>\n",
       "      <td>0.9338</td>\n",
       "      <td>0.9389</td>\n",
       "      <td>0.9383</td>\n",
       "    </tr>\n",
       "    <tr>\n",
       "      <th>S2</th>\n",
       "      <td>0.7799</td>\n",
       "      <td>0.7790</td>\n",
       "      <td>0.7766</td>\n",
       "      <td>0.8398</td>\n",
       "    </tr>\n",
       "    <tr>\n",
       "      <th>S3</th>\n",
       "      <td>0.8998</td>\n",
       "      <td>0.8881</td>\n",
       "      <td>0.8971</td>\n",
       "      <td>0.8972</td>\n",
       "    </tr>\n",
       "    <tr>\n",
       "      <th>S4</th>\n",
       "      <td>0.8816</td>\n",
       "      <td>0.8895</td>\n",
       "      <td>0.8896</td>\n",
       "      <td>0.8882</td>\n",
       "    </tr>\n",
       "    <tr>\n",
       "      <th>S2+S3</th>\n",
       "      <td>0.8229</td>\n",
       "      <td>0.8377</td>\n",
       "      <td>0.8316</td>\n",
       "      <td>0.8344</td>\n",
       "    </tr>\n",
       "  </tbody>\n",
       "</table>\n",
       "</div>"
      ],
      "text/plain": [
       "       Convolutional  Convolutional1DRecurrent  Convolutional2DRecurrent  \\\n",
       "S1            0.9445                    0.9338                    0.9389   \n",
       "S2            0.7799                    0.7790                    0.7766   \n",
       "S3            0.8998                    0.8881                    0.8971   \n",
       "S4            0.8816                    0.8895                    0.8896   \n",
       "S2+S3         0.8229                    0.8377                    0.8316   \n",
       "\n",
       "       ConvolutionalDeepRecurrent  \n",
       "S1                         0.9383  \n",
       "S2                         0.8398  \n",
       "S3                         0.8972  \n",
       "S4                         0.8882  \n",
       "S2+S3                      0.8344  "
      ]
     },
     "execution_count": 6,
     "metadata": {},
     "output_type": "execute_result"
    }
   ],
   "source": [
    "res_A2 = pd.DataFrame(results[2,:,:], index=[\"S1\", \"S2\", \"S3\", \"S4\", \"S2+S3\"], columns=model_names)\n",
    "res_A2"
   ]
  },
  {
   "cell_type": "code",
   "execution_count": 7,
   "metadata": {},
   "outputs": [
    {
     "data": {
      "text/plain": [
       "<matplotlib.figure.Figure at 0x215477d6e48>"
      ]
     },
     "metadata": {},
     "output_type": "display_data"
    },
    {
     "data": {
      "image/png": "[encoded data removed]",
      "text/plain": [
       "<matplotlib.figure.Figure at 0x215477ebef0>"
      ]
     },
     "metadata": {},
     "output_type": "display_data"
    }
   ],
   "source": [
    "plt.figure()\n",
    "res_A2.plot(kind='bar', layout=\"t\", logy=False);\n",
    "lgd = plt.legend(loc=9, bbox_to_anchor=(0.5, -0.2))\n",
    "plt.title(\"Two-Steps classification models on task A\")\n",
    "plt.ylabel(\"F1-measure\")\n",
    "plt.yticks(np.arange(0,1, 0.1))\n",
    "plt.xlabel(\"Subjects\")\n",
    "plt.xticks(rotation=\"horizontal\")\n",
    "plt.grid(linestyle=\"dotted\")\n",
    "plt.tight_layout\n",
    "plt.savefig(datapath+\"A_models_nonullclass.eps\", dpi=600, bbox_extra_artists=(lgd,), bbox_inches='tight')"
   ]
  },
  {
   "cell_type": "markdown",
   "metadata": {},
   "source": [
    "## Comparison between classifications with and without null class"
   ]
  },
  {
   "cell_type": "code",
   "execution_count": 8,
   "metadata": {},
   "outputs": [
    {
     "data": {
      "text/html": [
       "<div>\n",
       "<style scoped>\n",
       "    .dataframe tbody tr th:only-of-type {\n",
       "        vertical-align: middle;\n",
       "    }\n",
       "\n",
       "    .dataframe tbody tr th {\n",
       "        vertical-align: top;\n",
       "    }\n",
       "\n",
       "    .dataframe thead tr th {\n",
       "        text-align: left;\n",
       "    }\n",
       "</style>\n",
       "<table border=\"1\" class=\"dataframe\">\n",
       "  <thead>\n",
       "    <tr>\n",
       "      <th></th>\n",
       "      <th colspan=\"4\" halign=\"left\">with null class</th>\n",
       "      <th colspan=\"4\" halign=\"left\">without null class</th>\n",
       "    </tr>\n",
       "    <tr>\n",
       "      <th></th>\n",
       "      <th>Convolutional</th>\n",
       "      <th>Convolutional1DRecurrent</th>\n",
       "      <th>Convolutional2DRecurrent</th>\n",
       "      <th>ConvolutionalDeepRecurrent</th>\n",
       "      <th>Convolutional</th>\n",
       "      <th>Convolutional1DRecurrent</th>\n",
       "      <th>Convolutional2DRecurrent</th>\n",
       "      <th>ConvolutionalDeepRecurrent</th>\n",
       "    </tr>\n",
       "  </thead>\n",
       "  <tbody>\n",
       "    <tr>\n",
       "      <th>S1</th>\n",
       "      <td>0.9009</td>\n",
       "      <td>0.8943</td>\n",
       "      <td>0.9083</td>\n",
       "      <td>0.8996</td>\n",
       "      <td>0.9445</td>\n",
       "      <td>0.9338</td>\n",
       "      <td>0.9389</td>\n",
       "      <td>0.9383</td>\n",
       "    </tr>\n",
       "    <tr>\n",
       "      <th>S2</th>\n",
       "      <td>0.8277</td>\n",
       "      <td>0.7461</td>\n",
       "      <td>0.7478</td>\n",
       "      <td>0.7487</td>\n",
       "      <td>0.7799</td>\n",
       "      <td>0.7790</td>\n",
       "      <td>0.7766</td>\n",
       "      <td>0.8398</td>\n",
       "    </tr>\n",
       "    <tr>\n",
       "      <th>S3</th>\n",
       "      <td>0.8225</td>\n",
       "      <td>0.8090</td>\n",
       "      <td>0.8264</td>\n",
       "      <td>0.8156</td>\n",
       "      <td>0.8998</td>\n",
       "      <td>0.8881</td>\n",
       "      <td>0.8971</td>\n",
       "      <td>0.8972</td>\n",
       "    </tr>\n",
       "    <tr>\n",
       "      <th>S4</th>\n",
       "      <td>0.8689</td>\n",
       "      <td>0.8720</td>\n",
       "      <td>0.8718</td>\n",
       "      <td>0.8783</td>\n",
       "      <td>0.8816</td>\n",
       "      <td>0.8895</td>\n",
       "      <td>0.8896</td>\n",
       "      <td>0.8882</td>\n",
       "    </tr>\n",
       "    <tr>\n",
       "      <th>S2+S3</th>\n",
       "      <td>0.7805</td>\n",
       "      <td>0.7889</td>\n",
       "      <td>0.7892</td>\n",
       "      <td>0.7921</td>\n",
       "      <td>0.8229</td>\n",
       "      <td>0.8377</td>\n",
       "      <td>0.8316</td>\n",
       "      <td>0.8344</td>\n",
       "    </tr>\n",
       "  </tbody>\n",
       "</table>\n",
       "</div>"
      ],
      "text/plain": [
       "      with null class                                                    \\\n",
       "        Convolutional Convolutional1DRecurrent Convolutional2DRecurrent   \n",
       "S1             0.9009                   0.8943                   0.9083   \n",
       "S2             0.8277                   0.7461                   0.7478   \n",
       "S3             0.8225                   0.8090                   0.8264   \n",
       "S4             0.8689                   0.8720                   0.8718   \n",
       "S2+S3          0.7805                   0.7889                   0.7892   \n",
       "\n",
       "                                 without null class                           \\\n",
       "      ConvolutionalDeepRecurrent      Convolutional Convolutional1DRecurrent   \n",
       "S1                        0.8996             0.9445                   0.9338   \n",
       "S2                        0.7487             0.7799                   0.7790   \n",
       "S3                        0.8156             0.8998                   0.8881   \n",
       "S4                        0.8783             0.8816                   0.8895   \n",
       "S2+S3                     0.7921             0.8229                   0.8377   \n",
       "\n",
       "                                                           \n",
       "      Convolutional2DRecurrent ConvolutionalDeepRecurrent  \n",
       "S1                      0.9389                     0.9383  \n",
       "S2                      0.7766                     0.8398  \n",
       "S3                      0.8971                     0.8972  \n",
       "S4                      0.8896                     0.8882  \n",
       "S2+S3                   0.8316                     0.8344  "
      ]
     },
     "execution_count": 8,
     "metadata": {},
     "output_type": "execute_result"
    }
   ],
   "source": [
    "res_A_comp = pd.concat([res_A1, res_A2], axis=1, keys=[\"with null class\", \"without null class\"])\n",
    "res_A_comp"
   ]
  },
  {
   "cell_type": "code",
   "execution_count": 9,
   "metadata": {},
   "outputs": [
    {
     "data": {
      "text/plain": [
       "<matplotlib.figure.Figure at 0x215479011d0>"
      ]
     },
     "metadata": {},
     "output_type": "display_data"
    },
    {
     "data": {
      "image/png": "[encoded data removed]",
      "text/plain": [
       "<matplotlib.figure.Figure at 0x2154794cda0>"
      ]
     },
     "metadata": {},
     "output_type": "display_data"
    }
   ],
   "source": [
    "plt.figure()\n",
    "res_A_comp.plot(kind='bar', layout=\"t\", logy=False);\n",
    "lgd = plt.legend(loc=9, bbox_to_anchor=(0.5, -0.2))\n",
    "plt.title(\"Comparison of classification models on task A\")\n",
    "plt.ylabel(\"F1-measure\")\n",
    "plt.yticks(np.arange(0,1, 0.1))\n",
    "plt.xlabel(\"Subjects\")\n",
    "plt.xticks(rotation=\"horizontal\")\n",
    "plt.grid(linestyle=\"dotted\")\n",
    "plt.tight_layout\n",
    "plt.savefig(datapath+\"A_models_comparison.eps\", dpi=600, bbox_extra_artists=(lgd,), bbox_inches='tight')"
   ]
  },
  {
   "cell_type": "markdown",
   "metadata": {},
   "source": [
    "## Results by model\n",
    "Select one model to display its 3 results on each run. The available models are the following:\n",
    "- 0: Convolutional\n",
    "- 1: Convolutional1DRecurrent\n",
    "- 2: COnvolutional2DRecurrent\n",
    "- 3: ConvolutionalDeepRecurrend"
   ]
  },
  {
   "cell_type": "code",
   "execution_count": 10,
   "metadata": {},
   "outputs": [
    {
     "name": "stdout",
     "output_type": "stream",
     "text": [
      "Displaying results for ConvolutionalDeepRecurrent model.\n"
     ]
    }
   ],
   "source": [
    "select_model = 3\n",
    "print(\"Displaying results for\", model_names[select_model], \"model.\")"
   ]
  },
  {
   "cell_type": "code",
   "execution_count": 11,
   "metadata": {},
   "outputs": [
    {
     "data": {
      "text/html": [
       "<div>\n",
       "<style scoped>\n",
       "    .dataframe tbody tr th:only-of-type {\n",
       "        vertical-align: middle;\n",
       "    }\n",
       "\n",
       "    .dataframe tbody tr th {\n",
       "        vertical-align: top;\n",
       "    }\n",
       "\n",
       "    .dataframe thead th {\n",
       "        text-align: right;\n",
       "    }\n",
       "</style>\n",
       "<table border=\"1\" class=\"dataframe\">\n",
       "  <thead>\n",
       "    <tr style=\"text-align: right;\">\n",
       "      <th></th>\n",
       "      <th>One-Shot Classification</th>\n",
       "      <th>Two-Step Detection</th>\n",
       "      <th>Two-Step Classification</th>\n",
       "    </tr>\n",
       "  </thead>\n",
       "  <tbody>\n",
       "    <tr>\n",
       "      <th>S1</th>\n",
       "      <td>0.8996</td>\n",
       "      <td>0.9547</td>\n",
       "      <td>0.9383</td>\n",
       "    </tr>\n",
       "    <tr>\n",
       "      <th>S2</th>\n",
       "      <td>0.7487</td>\n",
       "      <td>0.9444</td>\n",
       "      <td>0.8398</td>\n",
       "    </tr>\n",
       "    <tr>\n",
       "      <th>S3</th>\n",
       "      <td>0.8156</td>\n",
       "      <td>0.9087</td>\n",
       "      <td>0.8972</td>\n",
       "    </tr>\n",
       "    <tr>\n",
       "      <th>S4</th>\n",
       "      <td>0.8783</td>\n",
       "      <td>0.9701</td>\n",
       "      <td>0.8882</td>\n",
       "    </tr>\n",
       "    <tr>\n",
       "      <th>S2+S3</th>\n",
       "      <td>0.7921</td>\n",
       "      <td>0.9208</td>\n",
       "      <td>0.8344</td>\n",
       "    </tr>\n",
       "  </tbody>\n",
       "</table>\n",
       "</div>"
      ],
      "text/plain": [
       "       One-Shot Classification  Two-Step Detection  Two-Step Classification\n",
       "S1                      0.8996              0.9547                   0.9383\n",
       "S2                      0.7487              0.9444                   0.8398\n",
       "S3                      0.8156              0.9087                   0.8972\n",
       "S4                      0.8783              0.9701                   0.8882\n",
       "S2+S3                   0.7921              0.9208                   0.8344"
      ]
     },
     "execution_count": 11,
     "metadata": {},
     "output_type": "execute_result"
    }
   ],
   "source": [
    "res_A3 = pd.DataFrame(results[:,:,select_model].T,\n",
    "                      index=[\"S1\", \"S2\", \"S3\", \"S4\", \"S2+S3\"],\n",
    "                      columns=[\"One-Shot Classification\", \"Two-Step Detection\", \"Two-Step Classification\"])\n",
    "res_A3"
   ]
  },
  {
   "cell_type": "code",
   "execution_count": 12,
   "metadata": {},
   "outputs": [
    {
     "data": {
      "text/plain": [
       "<matplotlib.figure.Figure at 0x21547a99be0>"
      ]
     },
     "metadata": {},
     "output_type": "display_data"
    },
    {
     "data": {
      "image/png": "[encoded data removed]",
      "text/plain": [
       "<matplotlib.figure.Figure at 0x21547b04278>"
      ]
     },
     "metadata": {},
     "output_type": "display_data"
    }
   ],
   "source": [
    "plt.figure()\n",
    "res_A3.plot(kind='bar', layout=\"t\", logy=False);\n",
    "lgd = plt.legend(loc=9, bbox_to_anchor=(0.5, -0.2))\n",
    "plt.title(\"Results on task A for\"+model_names[select_model])\n",
    "plt.ylabel(\"F1-measure\")\n",
    "plt.yticks(np.arange(0,1, 0.1))\n",
    "plt.xlabel(\"Subjects\")\n",
    "plt.xticks(rotation=\"horizontal\")\n",
    "plt.grid(linestyle=\"dotted\")\n",
    "plt.tight_layout\n",
    "plt.savefig(datapath+\"A_\"+model_names[select_model]+\".eps\", dpi=600, bbox_extra_artists=(lgd,), bbox_inches='tight')"
   ]
  },
  {
   "cell_type": "markdown",
   "metadata": {},
   "source": [
    "# Task B"
   ]
  },
  {
   "cell_type": "code",
   "execution_count": 13,
   "metadata": {},
   "outputs": [
    {
     "name": "stdout",
     "output_type": "stream",
     "text": [
      "Results matrix has shape (3, 5, 4)\n",
      "Loading B_Convolutional_1.txt\n",
      "Loading B_Convolutional_2.txt\n",
      "Loading B_Convolutional_3.txt\n",
      "Loading B_Convolutional_4.txt\n",
      "Loading B_Convolutional_23.txt\n",
      "Loading B_Convolutional1DRecurrent_1.txt\n",
      "Loading B_Convolutional1DRecurrent_2.txt\n",
      "Loading B_Convolutional1DRecurrent_3.txt\n",
      "Loading B_Convolutional1DRecurrent_4.txt\n",
      "Loading B_Convolutional1DRecurrent_23.txt\n",
      "Loading B_Convolutional2DRecurrent_1.txt\n",
      "Loading B_Convolutional2DRecurrent_2.txt\n",
      "Loading B_Convolutional2DRecurrent_3.txt\n",
      "Loading B_Convolutional2DRecurrent_4.txt\n",
      "Loading B_Convolutional2DRecurrent_23.txt\n",
      "Loading B_ConvolutionalDeepRecurrent_1.txt\n",
      "Loading B_ConvolutionalDeepRecurrent_2.txt\n",
      "Loading B_ConvolutionalDeepRecurrent_3.txt\n",
      "Loading B_ConvolutionalDeepRecurrent_4.txt\n",
      "Loading B_ConvolutionalDeepRecurrent_23.txt\n"
     ]
    }
   ],
   "source": [
    "task = \"B\"\n",
    "results = np.zeros([3,len(subjects),len(model_names)])\n",
    "print(\"Results matrix has shape\", results.shape)\n",
    "for model in enumerate(model_names):\n",
    "    for s in enumerate(subjects):\n",
    "        filename = task + \"_\" + model[1] + \"_\" + str(s[1]) + \".txt\"\n",
    "        print(\"Loading\", filename)\n",
    "        results[:,s[0], model[0]] = np.loadtxt(datapath + filename, comments=\"#\", delimiter=\"\\n\", unpack=False)"
   ]
  },
  {
   "cell_type": "markdown",
   "metadata": {},
   "source": [
    "## One-Shot classification results\n",
    "These results consist of the classifications performed with the null class, which are stored on the top matrix."
   ]
  },
  {
   "cell_type": "code",
   "execution_count": 14,
   "metadata": {},
   "outputs": [
    {
     "data": {
      "text/html": [
       "<div>\n",
       "<style scoped>\n",
       "    .dataframe tbody tr th:only-of-type {\n",
       "        vertical-align: middle;\n",
       "    }\n",
       "\n",
       "    .dataframe tbody tr th {\n",
       "        vertical-align: top;\n",
       "    }\n",
       "\n",
       "    .dataframe thead th {\n",
       "        text-align: right;\n",
       "    }\n",
       "</style>\n",
       "<table border=\"1\" class=\"dataframe\">\n",
       "  <thead>\n",
       "    <tr style=\"text-align: right;\">\n",
       "      <th></th>\n",
       "      <th>Convolutional</th>\n",
       "      <th>Convolutional1DRecurrent</th>\n",
       "      <th>Convolutional2DRecurrent</th>\n",
       "      <th>ConvolutionalDeepRecurrent</th>\n",
       "    </tr>\n",
       "  </thead>\n",
       "  <tbody>\n",
       "    <tr>\n",
       "      <th>S1</th>\n",
       "      <td>0.8743</td>\n",
       "      <td>0.8900</td>\n",
       "      <td>0.8984</td>\n",
       "      <td>0.8707</td>\n",
       "    </tr>\n",
       "    <tr>\n",
       "      <th>S2</th>\n",
       "      <td>0.8001</td>\n",
       "      <td>0.8105</td>\n",
       "      <td>0.8103</td>\n",
       "      <td>0.8054</td>\n",
       "    </tr>\n",
       "    <tr>\n",
       "      <th>S3</th>\n",
       "      <td>0.8573</td>\n",
       "      <td>0.8758</td>\n",
       "      <td>0.8802</td>\n",
       "      <td>0.8597</td>\n",
       "    </tr>\n",
       "    <tr>\n",
       "      <th>S4</th>\n",
       "      <td>0.8458</td>\n",
       "      <td>0.8407</td>\n",
       "      <td>0.8497</td>\n",
       "      <td>0.8488</td>\n",
       "    </tr>\n",
       "    <tr>\n",
       "      <th>S2+S3</th>\n",
       "      <td>0.8178</td>\n",
       "      <td>0.8329</td>\n",
       "      <td>0.8406</td>\n",
       "      <td>0.8188</td>\n",
       "    </tr>\n",
       "  </tbody>\n",
       "</table>\n",
       "</div>"
      ],
      "text/plain": [
       "       Convolutional  Convolutional1DRecurrent  Convolutional2DRecurrent  \\\n",
       "S1            0.8743                    0.8900                    0.8984   \n",
       "S2            0.8001                    0.8105                    0.8103   \n",
       "S3            0.8573                    0.8758                    0.8802   \n",
       "S4            0.8458                    0.8407                    0.8497   \n",
       "S2+S3         0.8178                    0.8329                    0.8406   \n",
       "\n",
       "       ConvolutionalDeepRecurrent  \n",
       "S1                         0.8707  \n",
       "S2                         0.8054  \n",
       "S3                         0.8597  \n",
       "S4                         0.8488  \n",
       "S2+S3                      0.8188  "
      ]
     },
     "execution_count": 14,
     "metadata": {},
     "output_type": "execute_result"
    }
   ],
   "source": [
    "res_B1 = pd.DataFrame(results[0,:,:], index=[\"S1\", \"S2\", \"S3\", \"S4\", \"S2+S3\"], columns=model_names)\n",
    "res_B1"
   ]
  },
  {
   "cell_type": "code",
   "execution_count": 15,
   "metadata": {},
   "outputs": [
    {
     "data": {
      "text/plain": [
       "<matplotlib.figure.Figure at 0x2154752ccc0>"
      ]
     },
     "metadata": {},
     "output_type": "display_data"
    },
    {
     "data": {
      "image/png": "[encoded data removed]",
      "text/plain": [
       "<matplotlib.figure.Figure at 0x21547436470>"
      ]
     },
     "metadata": {},
     "output_type": "display_data"
    }
   ],
   "source": [
    "plt.figure()\n",
    "res_B1.plot(kind='bar', layout=\"t\", logy=False);\n",
    "lgd = plt.legend(loc=9, bbox_to_anchor=(0.5, -0.2))\n",
    "plt.title(\"One-Shot classification models on task B\")\n",
    "plt.ylabel(\"F1-measure\")\n",
    "plt.yticks(np.arange(0,1, 0.1))\n",
    "plt.xlabel(\"Subjects\")\n",
    "plt.xticks(rotation=\"horizontal\")\n",
    "plt.grid(linestyle=\"dotted\")\n",
    "plt.tight_layout\n",
    "plt.savefig(datapath+\"B_models_nullclass.eps\", dpi=600, bbox_extra_artists=(lgd,), bbox_inches='tight')"
   ]
  },
  {
   "cell_type": "markdown",
   "metadata": {},
   "source": [
    "## Two-Step classification results\n",
    "These results consist of the classifications performed without the null class, which are stored on the bottom matrix."
   ]
  },
  {
   "cell_type": "code",
   "execution_count": 16,
   "metadata": {},
   "outputs": [
    {
     "data": {
      "text/html": [
       "<div>\n",
       "<style scoped>\n",
       "    .dataframe tbody tr th:only-of-type {\n",
       "        vertical-align: middle;\n",
       "    }\n",
       "\n",
       "    .dataframe tbody tr th {\n",
       "        vertical-align: top;\n",
       "    }\n",
       "\n",
       "    .dataframe thead th {\n",
       "        text-align: right;\n",
       "    }\n",
       "</style>\n",
       "<table border=\"1\" class=\"dataframe\">\n",
       "  <thead>\n",
       "    <tr style=\"text-align: right;\">\n",
       "      <th></th>\n",
       "      <th>Convolutional</th>\n",
       "      <th>Convolutional1DRecurrent</th>\n",
       "      <th>Convolutional2DRecurrent</th>\n",
       "      <th>ConvolutionalDeepRecurrent</th>\n",
       "    </tr>\n",
       "  </thead>\n",
       "  <tbody>\n",
       "    <tr>\n",
       "      <th>S1</th>\n",
       "      <td>0.7811</td>\n",
       "      <td>0.7941</td>\n",
       "      <td>0.8099</td>\n",
       "      <td>0.7758</td>\n",
       "    </tr>\n",
       "    <tr>\n",
       "      <th>S2</th>\n",
       "      <td>0.3284</td>\n",
       "      <td>0.3490</td>\n",
       "      <td>0.4382</td>\n",
       "      <td>0.3449</td>\n",
       "    </tr>\n",
       "    <tr>\n",
       "      <th>S3</th>\n",
       "      <td>0.7354</td>\n",
       "      <td>0.7559</td>\n",
       "      <td>0.8022</td>\n",
       "      <td>0.7217</td>\n",
       "    </tr>\n",
       "    <tr>\n",
       "      <th>S4</th>\n",
       "      <td>0.6448</td>\n",
       "      <td>0.6564</td>\n",
       "      <td>0.6657</td>\n",
       "      <td>0.6633</td>\n",
       "    </tr>\n",
       "    <tr>\n",
       "      <th>S2+S3</th>\n",
       "      <td>0.5627</td>\n",
       "      <td>0.6042</td>\n",
       "      <td>0.6408</td>\n",
       "      <td>0.5582</td>\n",
       "    </tr>\n",
       "  </tbody>\n",
       "</table>\n",
       "</div>"
      ],
      "text/plain": [
       "       Convolutional  Convolutional1DRecurrent  Convolutional2DRecurrent  \\\n",
       "S1            0.7811                    0.7941                    0.8099   \n",
       "S2            0.3284                    0.3490                    0.4382   \n",
       "S3            0.7354                    0.7559                    0.8022   \n",
       "S4            0.6448                    0.6564                    0.6657   \n",
       "S2+S3         0.5627                    0.6042                    0.6408   \n",
       "\n",
       "       ConvolutionalDeepRecurrent  \n",
       "S1                         0.7758  \n",
       "S2                         0.3449  \n",
       "S3                         0.7217  \n",
       "S4                         0.6633  \n",
       "S2+S3                      0.5582  "
      ]
     },
     "execution_count": 16,
     "metadata": {},
     "output_type": "execute_result"
    }
   ],
   "source": [
    "res_B2 = pd.DataFrame(results[2,:,:], index=[\"S1\", \"S2\", \"S3\", \"S4\", \"S2+S3\"], columns=model_names)\n",
    "res_B2"
   ]
  },
  {
   "cell_type": "code",
   "execution_count": 17,
   "metadata": {},
   "outputs": [
    {
     "data": {
      "text/plain": [
       "<matplotlib.figure.Figure at 0x21548c93940>"
      ]
     },
     "metadata": {},
     "output_type": "display_data"
    },
    {
     "data": {
      "image/png": "[encoded data removed]",
      "text/plain": [
       "<matplotlib.figure.Figure at 0x21548d4d978>"
      ]
     },
     "metadata": {},
     "output_type": "display_data"
    }
   ],
   "source": [
    "plt.figure()\n",
    "res_B2.plot(kind='bar', layout=\"t\", logy=False);\n",
    "lgd = plt.legend(loc=9, bbox_to_anchor=(0.5, -0.2))\n",
    "plt.title(\"Two-Steps classification models on task B\")\n",
    "plt.ylabel(\"F1-measure\")\n",
    "plt.yticks(np.arange(0,1, 0.1))\n",
    "plt.xlabel(\"Subjects\")\n",
    "plt.xticks(rotation=\"horizontal\")\n",
    "plt.grid(linestyle=\"dotted\")\n",
    "plt.tight_layout\n",
    "plt.savefig(datapath+\"B_models_nonullclass.eps\", dpi=600, bbox_extra_artists=(lgd,), bbox_inches='tight')"
   ]
  },
  {
   "cell_type": "markdown",
   "metadata": {},
   "source": [
    "## Comparison between classifications with and without null class"
   ]
  },
  {
   "cell_type": "code",
   "execution_count": 18,
   "metadata": {},
   "outputs": [
    {
     "data": {
      "text/html": [
       "<div>\n",
       "<style scoped>\n",
       "    .dataframe tbody tr th:only-of-type {\n",
       "        vertical-align: middle;\n",
       "    }\n",
       "\n",
       "    .dataframe tbody tr th {\n",
       "        vertical-align: top;\n",
       "    }\n",
       "\n",
       "    .dataframe thead tr th {\n",
       "        text-align: left;\n",
       "    }\n",
       "</style>\n",
       "<table border=\"1\" class=\"dataframe\">\n",
       "  <thead>\n",
       "    <tr>\n",
       "      <th></th>\n",
       "      <th colspan=\"4\" halign=\"left\">with null class</th>\n",
       "      <th colspan=\"4\" halign=\"left\">without null class</th>\n",
       "    </tr>\n",
       "    <tr>\n",
       "      <th></th>\n",
       "      <th>Convolutional</th>\n",
       "      <th>Convolutional1DRecurrent</th>\n",
       "      <th>Convolutional2DRecurrent</th>\n",
       "      <th>ConvolutionalDeepRecurrent</th>\n",
       "      <th>Convolutional</th>\n",
       "      <th>Convolutional1DRecurrent</th>\n",
       "      <th>Convolutional2DRecurrent</th>\n",
       "      <th>ConvolutionalDeepRecurrent</th>\n",
       "    </tr>\n",
       "  </thead>\n",
       "  <tbody>\n",
       "    <tr>\n",
       "      <th>S1</th>\n",
       "      <td>0.8743</td>\n",
       "      <td>0.8900</td>\n",
       "      <td>0.8984</td>\n",
       "      <td>0.8707</td>\n",
       "      <td>0.7811</td>\n",
       "      <td>0.7941</td>\n",
       "      <td>0.8099</td>\n",
       "      <td>0.7758</td>\n",
       "    </tr>\n",
       "    <tr>\n",
       "      <th>S2</th>\n",
       "      <td>0.8001</td>\n",
       "      <td>0.8105</td>\n",
       "      <td>0.8103</td>\n",
       "      <td>0.8054</td>\n",
       "      <td>0.3284</td>\n",
       "      <td>0.3490</td>\n",
       "      <td>0.4382</td>\n",
       "      <td>0.3449</td>\n",
       "    </tr>\n",
       "    <tr>\n",
       "      <th>S3</th>\n",
       "      <td>0.8573</td>\n",
       "      <td>0.8758</td>\n",
       "      <td>0.8802</td>\n",
       "      <td>0.8597</td>\n",
       "      <td>0.7354</td>\n",
       "      <td>0.7559</td>\n",
       "      <td>0.8022</td>\n",
       "      <td>0.7217</td>\n",
       "    </tr>\n",
       "    <tr>\n",
       "      <th>S4</th>\n",
       "      <td>0.8458</td>\n",
       "      <td>0.8407</td>\n",
       "      <td>0.8497</td>\n",
       "      <td>0.8488</td>\n",
       "      <td>0.6448</td>\n",
       "      <td>0.6564</td>\n",
       "      <td>0.6657</td>\n",
       "      <td>0.6633</td>\n",
       "    </tr>\n",
       "    <tr>\n",
       "      <th>S2+S3</th>\n",
       "      <td>0.8178</td>\n",
       "      <td>0.8329</td>\n",
       "      <td>0.8406</td>\n",
       "      <td>0.8188</td>\n",
       "      <td>0.5627</td>\n",
       "      <td>0.6042</td>\n",
       "      <td>0.6408</td>\n",
       "      <td>0.5582</td>\n",
       "    </tr>\n",
       "  </tbody>\n",
       "</table>\n",
       "</div>"
      ],
      "text/plain": [
       "      with null class                                                    \\\n",
       "        Convolutional Convolutional1DRecurrent Convolutional2DRecurrent   \n",
       "S1             0.8743                   0.8900                   0.8984   \n",
       "S2             0.8001                   0.8105                   0.8103   \n",
       "S3             0.8573                   0.8758                   0.8802   \n",
       "S4             0.8458                   0.8407                   0.8497   \n",
       "S2+S3          0.8178                   0.8329                   0.8406   \n",
       "\n",
       "                                 without null class                           \\\n",
       "      ConvolutionalDeepRecurrent      Convolutional Convolutional1DRecurrent   \n",
       "S1                        0.8707             0.7811                   0.7941   \n",
       "S2                        0.8054             0.3284                   0.3490   \n",
       "S3                        0.8597             0.7354                   0.7559   \n",
       "S4                        0.8488             0.6448                   0.6564   \n",
       "S2+S3                     0.8188             0.5627                   0.6042   \n",
       "\n",
       "                                                           \n",
       "      Convolutional2DRecurrent ConvolutionalDeepRecurrent  \n",
       "S1                      0.8099                     0.7758  \n",
       "S2                      0.4382                     0.3449  \n",
       "S3                      0.8022                     0.7217  \n",
       "S4                      0.6657                     0.6633  \n",
       "S2+S3                   0.6408                     0.5582  "
      ]
     },
     "execution_count": 18,
     "metadata": {},
     "output_type": "execute_result"
    }
   ],
   "source": [
    "res_B_comp = pd.concat([res_B1, res_B2], axis=1, keys=[\"with null class\", \"without null class\"])\n",
    "res_B_comp"
   ]
  },
  {
   "cell_type": "code",
   "execution_count": 19,
   "metadata": {},
   "outputs": [
    {
     "data": {
      "text/plain": [
       "<matplotlib.figure.Figure at 0x21548c93d30>"
      ]
     },
     "metadata": {},
     "output_type": "display_data"
    },
    {
     "data": {
      "image/png": "[encoded data removed]",
      "text/plain": [
       "<matplotlib.figure.Figure at 0x21548e50c18>"
      ]
     },
     "metadata": {},
     "output_type": "display_data"
    }
   ],
   "source": [
    "plt.figure()\n",
    "res_B_comp.plot(kind='bar', layout=\"t\", logy=False);\n",
    "lgd = plt.legend(loc=9, bbox_to_anchor=(0.5, -0.2))\n",
    "plt.title(\"Comparison of classification models on task B\")\n",
    "plt.ylabel(\"F1-measure\")\n",
    "plt.yticks(np.arange(0,1, 0.1))\n",
    "plt.xlabel(\"Subjects\")\n",
    "plt.xticks(rotation=\"horizontal\")\n",
    "plt.grid(linestyle=\"dotted\")\n",
    "plt.tight_layout\n",
    "plt.savefig(datapath+\"B_models_comparison.eps\", dpi=600, bbox_extra_artists=(lgd,), bbox_inches='tight')"
   ]
  },
  {
   "cell_type": "markdown",
   "metadata": {},
   "source": [
    "## Results by model\n",
    "Select one model to display its 3 results on each run. The available models are the following:\n",
    "- 0: Convolutional\n",
    "- 1: Convolutional1DRecurrent\n",
    "- 2: COnvolutional2DRecurrent\n",
    "- 3: ConvolutionalDeepRecurrend"
   ]
  },
  {
   "cell_type": "code",
   "execution_count": 20,
   "metadata": {},
   "outputs": [
    {
     "name": "stdout",
     "output_type": "stream",
     "text": [
      "Displaying results for ConvolutionalDeepRecurrent model.\n"
     ]
    }
   ],
   "source": [
    "select_model = 3\n",
    "print(\"Displaying results for\", model_names[select_model], \"model.\")"
   ]
  },
  {
   "cell_type": "code",
   "execution_count": 21,
   "metadata": {},
   "outputs": [
    {
     "data": {
      "text/html": [
       "<div>\n",
       "<style scoped>\n",
       "    .dataframe tbody tr th:only-of-type {\n",
       "        vertical-align: middle;\n",
       "    }\n",
       "\n",
       "    .dataframe tbody tr th {\n",
       "        vertical-align: top;\n",
       "    }\n",
       "\n",
       "    .dataframe thead th {\n",
       "        text-align: right;\n",
       "    }\n",
       "</style>\n",
       "<table border=\"1\" class=\"dataframe\">\n",
       "  <thead>\n",
       "    <tr style=\"text-align: right;\">\n",
       "      <th></th>\n",
       "      <th>One-Shot Classification</th>\n",
       "      <th>Two-Step Detection</th>\n",
       "      <th>Two-Step Classification</th>\n",
       "    </tr>\n",
       "  </thead>\n",
       "  <tbody>\n",
       "    <tr>\n",
       "      <th>S1</th>\n",
       "      <td>0.8707</td>\n",
       "      <td>0.9206</td>\n",
       "      <td>0.7758</td>\n",
       "    </tr>\n",
       "    <tr>\n",
       "      <th>S2</th>\n",
       "      <td>0.8054</td>\n",
       "      <td>0.8594</td>\n",
       "      <td>0.3449</td>\n",
       "    </tr>\n",
       "    <tr>\n",
       "      <th>S3</th>\n",
       "      <td>0.8597</td>\n",
       "      <td>0.8808</td>\n",
       "      <td>0.7217</td>\n",
       "    </tr>\n",
       "    <tr>\n",
       "      <th>S4</th>\n",
       "      <td>0.8488</td>\n",
       "      <td>0.8917</td>\n",
       "      <td>0.6633</td>\n",
       "    </tr>\n",
       "    <tr>\n",
       "      <th>S2+S3</th>\n",
       "      <td>0.8188</td>\n",
       "      <td>0.8686</td>\n",
       "      <td>0.5582</td>\n",
       "    </tr>\n",
       "  </tbody>\n",
       "</table>\n",
       "</div>"
      ],
      "text/plain": [
       "       One-Shot Classification  Two-Step Detection  Two-Step Classification\n",
       "S1                      0.8707              0.9206                   0.7758\n",
       "S2                      0.8054              0.8594                   0.3449\n",
       "S3                      0.8597              0.8808                   0.7217\n",
       "S4                      0.8488              0.8917                   0.6633\n",
       "S2+S3                   0.8188              0.8686                   0.5582"
      ]
     },
     "execution_count": 21,
     "metadata": {},
     "output_type": "execute_result"
    }
   ],
   "source": [
    "res_B3 = pd.DataFrame(results[:,:,select_model].T,\n",
    "                      index=[\"S1\", \"S2\", \"S3\", \"S4\", \"S2+S3\"],\n",
    "                      columns=[\"One-Shot Classification\", \"Two-Step Detection\", \"Two-Step Classification\"])\n",
    "res_B3"
   ]
  },
  {
   "cell_type": "code",
   "execution_count": 22,
   "metadata": {},
   "outputs": [
    {
     "data": {
      "text/plain": [
       "<matplotlib.figure.Figure at 0x21547b918d0>"
      ]
     },
     "metadata": {},
     "output_type": "display_data"
    },
    {
     "data": {
      "image/png": "[encoded data removed]",
      "text/plain": [
       "<matplotlib.figure.Figure at 0x2154791bf28>"
      ]
     },
     "metadata": {},
     "output_type": "display_data"
    }
   ],
   "source": [
    "plt.figure()\n",
    "res_B3.plot(kind='bar', layout=\"t\", logy=False);\n",
    "lgd = plt.legend(loc=9, bbox_to_anchor=(0.5, -0.2))\n",
    "plt.title(\"Results on task B for\"+model_names[select_model])\n",
    "plt.ylabel(\"F1-measure\")\n",
    "plt.yticks(np.arange(0,1, 0.1))\n",
    "plt.xlabel(\"Subjects\")\n",
    "plt.xticks(rotation=\"horizontal\")\n",
    "plt.grid(linestyle=\"dotted\")\n",
    "plt.tight_layout\n",
    "plt.savefig(datapath+\"B_\"+model_names[select_model]+\".eps\", dpi=600, bbox_extra_artists=(lgd,), bbox_inches='tight')"
   ]
  },
  {
   "cell_type": "markdown",
   "metadata": {},
   "source": [
    "# End"
   ]
  }
 ],
 "metadata": {
  "kernelspec": {
   "display_name": "Python 3",
   "language": "python",
   "name": "python3"
  },
  "language_info": {
   "codemirror_mode": {
    "name": "ipython",
    "version": 3
   },
   "file_extension": ".py",
   "mimetype": "text/x-python",
   "name": "python",
   "nbconvert_exporter": "python",
   "pygments_lexer": "ipython3",
   "version": "3.6.4"
  }
 },
 "nbformat": 4,
 "nbformat_minor": 2
}
