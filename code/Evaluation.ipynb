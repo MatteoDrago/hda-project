{
 "cells": [
  {
   "cell_type": "markdown",
   "metadata": {},
   "source": [
    "# Evaluation notebook\n",
    "This notebook is meant to be executed after 'main.py' and 'main_multiuser.py', since it uses the results stored by those programs for visualisation purposes.\n",
    "The first cell contains the parameters to be tuned for a correct execution. Here's a quick explanation:\n",
    "- datapath: string, containing the folder where results have been stored by 'main.py' and 'main_multiuser.py'. Note that results are saved as .txt files;\n",
    "- subjects: list of integers, containing the different configurations of subjects on which models have been tested;\n",
    "- model_names: list of strings, containing the names of models that have been deployed."
   ]
  },
  {
   "cell_type": "code",
   "execution_count": null,
   "metadata": {},
   "outputs": [],
   "source": [
    "datapath = \"./data/results/\"\n",
    "subjects = [1,2,3,4,23]\n",
    "model_names = [\"Convolutional\", \"Convolutional1DRecurrent\", \"Convolutional2DRecurrent\", \"ConvolutionalDeepRecurrent\"]"
   ]
  },
  {
   "cell_type": "markdown",
   "metadata": {},
   "source": [
    "Import useful packeges."
   ]
  },
  {
   "cell_type": "code",
   "execution_count": null,
   "metadata": {},
   "outputs": [],
   "source": [
    "import numpy as np\n",
    "import pandas as pd\n",
    "import matplotlib.pyplot as plt"
   ]
  },
  {
   "cell_type": "markdown",
   "metadata": {},
   "source": [
    "# Task A"
   ]
  },
  {
   "cell_type": "code",
   "execution_count": null,
   "metadata": {
    "scrolled": true
   },
   "outputs": [],
   "source": [
    "task = \"A\"\n",
    "results = np.zeros([4,len(subjects),len(model_names)])\n",
    "print(\"Results matrix has shape\", results.shape)\n",
    "for model in enumerate(model_names):\n",
    "    for s in enumerate(subjects):\n",
    "        filename = task + \"_\" + model[1] + \"_\" + str(s[1]) + \".txt\"\n",
    "        print(\"Loading\", filename)\n",
    "        results[:,s[0], model[0]] = np.loadtxt(datapath + filename, comments=\"#\", delimiter=\"\\n\", unpack=False)"
   ]
  },
  {
   "cell_type": "markdown",
   "metadata": {},
   "source": [
    "## One-Shot classification results\n",
    "These results consist of the classifications performed with the null class, which are stored on the top matrix."
   ]
  },
  {
   "cell_type": "code",
   "execution_count": null,
   "metadata": {},
   "outputs": [],
   "source": [
    "res_A1 = pd.DataFrame(results[0,:,:], index=[\"S1\", \"S2\", \"S3\", \"S4\", \"S2+S3\"], columns=model_names)\n",
    "res_A1"
   ]
  },
  {
   "cell_type": "code",
   "execution_count": null,
   "metadata": {},
   "outputs": [],
   "source": [
    "plt.figure()\n",
    "res_A1.plot(kind='bar', layout=\"t\", logy=False);\n",
    "lgd = plt.legend(loc=9, bbox_to_anchor=(0.5, -0.2))\n",
    "plt.title(\"One-Shot classification models on task A\")\n",
    "plt.ylabel(\"F1-measure\")\n",
    "plt.yticks(np.arange(0,1, 0.1))\n",
    "plt.xlabel(\"Subjects\")\n",
    "plt.xticks(rotation=\"horizontal\")\n",
    "plt.grid(linestyle=\"dotted\")\n",
    "plt.tight_layout\n",
    "plt.savefig(datapath+\"A_models_nullclass.eps\", dpi=600, bbox_extra_artists=(lgd,), bbox_inches='tight')"
   ]
  },
  {
   "cell_type": "markdown",
   "metadata": {},
   "source": [
    "## Two-Steps - classification results\n",
    "These results consist of the classifications performed without the null class, which are stored on the bottom matrix."
   ]
  },
  {
   "cell_type": "code",
   "execution_count": null,
   "metadata": {},
   "outputs": [],
   "source": [
    "res_A2 = pd.DataFrame(results[2,:,:], index=[\"S1\", \"S2\", \"S3\", \"S4\", \"S2+S3\"], columns=model_names)\n",
    "res_A2"
   ]
  },
  {
   "cell_type": "code",
   "execution_count": null,
   "metadata": {},
   "outputs": [],
   "source": [
    "plt.figure()\n",
    "res_A2.plot(kind='bar', layout=\"t\", logy=False);\n",
    "lgd = plt.legend(loc=9, bbox_to_anchor=(0.5, -0.2))\n",
    "plt.title(\"Two-Steps classification models on task A\")\n",
    "plt.ylabel(\"F1-measure\")\n",
    "plt.yticks(np.arange(0,1, 0.1))\n",
    "plt.xlabel(\"Subjects\")\n",
    "plt.xticks(rotation=\"horizontal\")\n",
    "plt.grid(linestyle=\"dotted\")\n",
    "plt.tight_layout\n",
    "plt.savefig(datapath+\"A_models_nonullclass.eps\", dpi=600, bbox_extra_artists=(lgd,), bbox_inches='tight')"
   ]
  },
  {
   "cell_type": "markdown",
   "metadata": {},
   "source": [
    "## Cascade classification results"
   ]
  },
  {
   "cell_type": "code",
   "execution_count": null,
   "metadata": {},
   "outputs": [],
   "source": [
    "res_A_TS = pd.DataFrame(results[3,:,:], index=[\"S1\", \"S2\", \"S3\", \"S4\", \"S2+S3\"], columns=model_names)\n",
    "res_A_TS"
   ]
  },
  {
   "cell_type": "code",
   "execution_count": null,
   "metadata": {},
   "outputs": [],
   "source": [
    "plt.figure()\n",
    "res_A_TS.plot(kind='bar', layout=\"t\", logy=False);\n",
    "lgd = plt.legend(loc=9, bbox_to_anchor=(0.5, -0.2))\n",
    "plt.title(\"Cascade classification models on task A\")\n",
    "plt.ylabel(\"F1-measure\")\n",
    "plt.yticks(np.arange(0,1, 0.1))\n",
    "plt.xlabel(\"Subjects\")\n",
    "plt.xticks(rotation=\"horizontal\")\n",
    "plt.grid(linestyle=\"dotted\")\n",
    "plt.tight_layout\n",
    "plt.savefig(datapath+\"A_models_cascade.eps\", dpi=600, bbox_extra_artists=(lgd,), bbox_inches='tight')"
   ]
  },
  {
   "cell_type": "markdown",
   "metadata": {},
   "source": [
    "## Comparison between classifications with and without null class"
   ]
  },
  {
   "cell_type": "code",
   "execution_count": null,
   "metadata": {},
   "outputs": [],
   "source": [
    "res_A_comp = pd.concat([res_A1, res_A2], axis=1, keys=[\"with null class\", \"without null class\"])\n",
    "res_A_comp"
   ]
  },
  {
   "cell_type": "code",
   "execution_count": null,
   "metadata": {},
   "outputs": [],
   "source": [
    "plt.figure()\n",
    "res_A_comp.plot(kind='bar', layout=\"t\", logy=False);\n",
    "lgd = plt.legend(loc=9, bbox_to_anchor=(0.5, -0.2))\n",
    "plt.title(\"Comparison of classification models on task A\")\n",
    "plt.ylabel(\"F1-measure\")\n",
    "plt.yticks(np.arange(0,1, 0.1))\n",
    "plt.xlabel(\"Subjects\")\n",
    "plt.xticks(rotation=\"horizontal\")\n",
    "plt.grid(linestyle=\"dotted\")\n",
    "plt.tight_layout\n",
    "plt.savefig(datapath+\"A_models_comparison.eps\", dpi=600, bbox_extra_artists=(lgd,), bbox_inches='tight')"
   ]
  },
  {
   "cell_type": "markdown",
   "metadata": {},
   "source": [
    "## Comparison between One Shot and Two Steps (Cascade) classification"
   ]
  },
  {
   "cell_type": "code",
   "execution_count": null,
   "metadata": {},
   "outputs": [],
   "source": [
    "res_A_comp2 = pd.concat([res_A1, res_A_TS], axis=1, keys=[\"One Shot\", \"Two Steps\"])\n",
    "res_A_comp2"
   ]
  },
  {
   "cell_type": "code",
   "execution_count": null,
   "metadata": {},
   "outputs": [],
   "source": [
    "plt.figure()\n",
    "res_A_comp2.plot(kind='bar', layout=\"t\", logy=False);\n",
    "lgd = plt.legend(loc=9, bbox_to_anchor=(0.5, -0.2))\n",
    "plt.title(\"Comparison of classification models on task A\")\n",
    "plt.ylabel(\"F1-measure\")\n",
    "plt.yticks(np.arange(0,1, 0.1))\n",
    "plt.xlabel(\"Subjects\")\n",
    "plt.xticks(rotation=\"horizontal\")\n",
    "plt.grid(linestyle=\"dotted\")\n",
    "plt.tight_layout\n",
    "plt.savefig(datapath+\"A_pipeline_comparison.eps\", dpi=600, bbox_extra_artists=(lgd,), bbox_inches='tight')"
   ]
  },
  {
   "cell_type": "markdown",
   "metadata": {},
   "source": [
    "## Results by model\n",
    "Select one model to display its 3 results on each run. The available models are the following:\n",
    "- 0: Convolutional\n",
    "- 1: Convolutional1DRecurrent\n",
    "- 2: COnvolutional2DRecurrent\n",
    "- 3: ConvolutionalDeepRecurrend"
   ]
  },
  {
   "cell_type": "code",
   "execution_count": null,
   "metadata": {},
   "outputs": [],
   "source": [
    "select_model = 1\n",
    "print(\"Displaying results for\", model_names[select_model], \"model.\")"
   ]
  },
  {
   "cell_type": "code",
   "execution_count": null,
   "metadata": {},
   "outputs": [],
   "source": [
    "res_A3 = pd.DataFrame(results[:,:,select_model].T,\n",
    "                      index=[\"S1\", \"S2\", \"S3\", \"S4\", \"S2+S3\"],\n",
    "                      columns=[\"One-Shot Classification\", \"Two-Step Detection\", \"Two-Step Classification\", \"Cascade Classification\"])\n",
    "res_A3"
   ]
  },
  {
   "cell_type": "code",
   "execution_count": null,
   "metadata": {},
   "outputs": [],
   "source": [
    "plt.figure()\n",
    "res_A3.plot(kind='bar', layout=\"t\", logy=False);\n",
    "lgd = plt.legend(loc=9, bbox_to_anchor=(0.5, -0.2))\n",
    "plt.title(\"Results on task A for\"+model_names[select_model])\n",
    "plt.ylabel(\"F1-measure\")\n",
    "plt.yticks(np.arange(0,1, 0.1))\n",
    "plt.xlabel(\"Subjects\")\n",
    "plt.xticks(rotation=\"horizontal\")\n",
    "plt.grid(linestyle=\"dotted\")\n",
    "plt.tight_layout\n",
    "plt.savefig(datapath+\"A_\"+model_names[select_model]+\".eps\", dpi=600, bbox_extra_artists=(lgd,), bbox_inches='tight')"
   ]
  },
  {
   "cell_type": "markdown",
   "metadata": {},
   "source": [
    "# Task B"
   ]
  },
  {
   "cell_type": "code",
   "execution_count": null,
   "metadata": {},
   "outputs": [],
   "source": [
    "task = \"B\"\n",
    "results = np.zeros([4,len(subjects),len(model_names)])\n",
    "print(\"Results matrix has shape\", results.shape)\n",
    "for model in enumerate(model_names):\n",
    "    for s in enumerate(subjects):\n",
    "        filename = task + \"_\" + model[1] + \"_\" + str(s[1]) + \".txt\"\n",
    "        print(\"Loading\", filename)\n",
    "        results[:,s[0], model[0]] = np.loadtxt(datapath + filename, comments=\"#\", delimiter=\"\\n\", unpack=False)"
   ]
  },
  {
   "cell_type": "markdown",
   "metadata": {},
   "source": [
    "## One-Shot classification results\n",
    "These results consist of the classifications performed with the null class, which are stored on the top matrix."
   ]
  },
  {
   "cell_type": "code",
   "execution_count": null,
   "metadata": {},
   "outputs": [],
   "source": [
    "res_B1 = pd.DataFrame(results[0,:,:], index=[\"S1\", \"S2\", \"S3\", \"S4\", \"S2+S3\"], columns=model_names)\n",
    "res_B1"
   ]
  },
  {
   "cell_type": "code",
   "execution_count": null,
   "metadata": {},
   "outputs": [],
   "source": [
    "plt.figure()\n",
    "res_B1.plot(kind='bar', layout=\"t\", logy=False);\n",
    "lgd = plt.legend(loc=9, bbox_to_anchor=(0.5, -0.2))\n",
    "plt.title(\"One-Shot classification models on task B\")\n",
    "plt.ylabel(\"F1-measure\")\n",
    "plt.yticks(np.arange(0,1, 0.1))\n",
    "plt.xlabel(\"Subjects\")\n",
    "plt.xticks(rotation=\"horizontal\")\n",
    "plt.grid(linestyle=\"dotted\")\n",
    "plt.tight_layout\n",
    "plt.savefig(datapath+\"B_models_nullclass.eps\", dpi=600, bbox_extra_artists=(lgd,), bbox_inches='tight')"
   ]
  },
  {
   "cell_type": "markdown",
   "metadata": {},
   "source": [
    "## Two-Step classification results\n",
    "These results consist of the classifications performed without the null class, which are stored on the bottom matrix."
   ]
  },
  {
   "cell_type": "code",
   "execution_count": null,
   "metadata": {},
   "outputs": [],
   "source": [
    "res_B2 = pd.DataFrame(results[2,:,:], index=[\"S1\", \"S2\", \"S3\", \"S4\", \"S2+S3\"], columns=model_names)\n",
    "res_B2"
   ]
  },
  {
   "cell_type": "code",
   "execution_count": null,
   "metadata": {},
   "outputs": [],
   "source": [
    "plt.figure()\n",
    "res_B2.plot(kind='bar', layout=\"t\", logy=False);\n",
    "lgd = plt.legend(loc=9, bbox_to_anchor=(0.5, -0.2))\n",
    "plt.title(\"Two-Steps classification models on task B\")\n",
    "plt.ylabel(\"F1-measure\")\n",
    "plt.yticks(np.arange(0,1, 0.1))\n",
    "plt.xlabel(\"Subjects\")\n",
    "plt.xticks(rotation=\"horizontal\")\n",
    "plt.grid(linestyle=\"dotted\")\n",
    "plt.tight_layout\n",
    "plt.savefig(datapath+\"B_models_nonullclass.eps\", dpi=600, bbox_extra_artists=(lgd,), bbox_inches='tight')"
   ]
  },
  {
   "cell_type": "markdown",
   "metadata": {},
   "source": [
    "## Cascade classification results"
   ]
  },
  {
   "cell_type": "code",
   "execution_count": null,
   "metadata": {},
   "outputs": [],
   "source": [
    "res_B_TS = pd.DataFrame(results[3,:,:], index=[\"S1\", \"S2\", \"S3\", \"S4\", \"S2+S3\"], columns=model_names)\n",
    "res_B_TS"
   ]
  },
  {
   "cell_type": "code",
   "execution_count": null,
   "metadata": {},
   "outputs": [],
   "source": [
    "plt.figure()\n",
    "res_B_TS.plot(kind='bar', layout=\"t\", logy=False);\n",
    "lgd = plt.legend(loc=9, bbox_to_anchor=(0.5, -0.2))\n",
    "plt.title(\"Cascade classification models on task A\")\n",
    "plt.ylabel(\"F1-measure\")\n",
    "plt.yticks(np.arange(0,1, 0.1))\n",
    "plt.xlabel(\"Subjects\")\n",
    "plt.xticks(rotation=\"horizontal\")\n",
    "plt.grid(linestyle=\"dotted\")\n",
    "plt.tight_layout\n",
    "plt.savefig(datapath+\"A_models_cascade.eps\", dpi=600, bbox_extra_artists=(lgd,), bbox_inches='tight')"
   ]
  },
  {
   "cell_type": "markdown",
   "metadata": {},
   "source": [
    "## Comparison between classifications with and without null class"
   ]
  },
  {
   "cell_type": "code",
   "execution_count": null,
   "metadata": {},
   "outputs": [],
   "source": [
    "res_B_comp = pd.concat([res_B1, res_B2], axis=1, keys=[\"with null class\", \"without null class\"])\n",
    "res_B_comp"
   ]
  },
  {
   "cell_type": "code",
   "execution_count": null,
   "metadata": {},
   "outputs": [],
   "source": [
    "plt.figure()\n",
    "res_B_comp.plot(kind='bar', layout=\"t\", logy=False);\n",
    "lgd = plt.legend(loc=9, bbox_to_anchor=(0.5, -0.2))\n",
    "plt.title(\"Comparison of classification models on task B\")\n",
    "plt.ylabel(\"F1-measure\")\n",
    "plt.yticks(np.arange(0,1, 0.1))\n",
    "plt.xlabel(\"Subjects\")\n",
    "plt.xticks(rotation=\"horizontal\")\n",
    "plt.grid(linestyle=\"dotted\")\n",
    "plt.tight_layout\n",
    "plt.savefig(datapath+\"B_models_comparison.eps\", dpi=600, bbox_extra_artists=(lgd,), bbox_inches='tight')"
   ]
  },
  {
   "cell_type": "markdown",
   "metadata": {},
   "source": [
    "## Comparison between One Shot and Two Steps (Cascade) classification"
   ]
  },
  {
   "cell_type": "code",
   "execution_count": null,
   "metadata": {},
   "outputs": [],
   "source": [
    "res_A_comp2 = pd.concat([res_A1, res_A_TS], axis=1, keys=[\"One Shot\", \"Two Steps\"])\n",
    "res_A_comp2"
   ]
  },
  {
   "cell_type": "code",
   "execution_count": null,
   "metadata": {},
   "outputs": [],
   "source": [
    "plt.figure()\n",
    "res_A_comp2.plot(kind='bar', layout=\"t\", logy=False);\n",
    "lgd = plt.legend(loc=9, bbox_to_anchor=(0.5, -0.2))\n",
    "plt.title(\"Comparison of classification models on task A\")\n",
    "plt.ylabel(\"F1-measure\")\n",
    "plt.yticks(np.arange(0,1, 0.1))\n",
    "plt.xlabel(\"Subjects\")\n",
    "plt.xticks(rotation=\"horizontal\")\n",
    "plt.grid(linestyle=\"dotted\")\n",
    "plt.tight_layout\n",
    "plt.savefig(datapath+\"A_pipeline_comparison.eps\", dpi=600, bbox_extra_artists=(lgd,), bbox_inches='tight')"
   ]
  },
  {
   "cell_type": "markdown",
   "metadata": {},
   "source": [
    "## Results by model\n",
    "Select one model to display its 3 results on each run. The available models are the following:\n",
    "- 0: Convolutional\n",
    "- 1: Convolutional1DRecurrent\n",
    "- 2: COnvolutional2DRecurrent\n",
    "- 3: ConvolutionalDeepRecurrend"
   ]
  },
  {
   "cell_type": "code",
   "execution_count": null,
   "metadata": {},
   "outputs": [],
   "source": [
    "select_model = 3\n",
    "print(\"Displaying results for\", model_names[select_model], \"model.\")"
   ]
  },
  {
   "cell_type": "code",
   "execution_count": null,
   "metadata": {},
   "outputs": [],
   "source": [
    "res_B3 = pd.DataFrame(results[:,:,select_model].T,\n",
    "                      index=[\"S1\", \"S2\", \"S3\", \"S4\", \"S2+S3\"],\n",
    "                      columns=[\"One-Shot Classification\", \"Two-Step Detection\", \"Two-Step Classification\"])\n",
    "res_B3"
   ]
  },
  {
   "cell_type": "code",
   "execution_count": null,
   "metadata": {},
   "outputs": [],
   "source": [
    "plt.figure()\n",
    "res_B3.plot(kind='bar', layout=\"t\", logy=False);\n",
    "lgd = plt.legend(loc=9, bbox_to_anchor=(0.5, -0.2))\n",
    "plt.title(\"Results on task B for\"+model_names[select_model])\n",
    "plt.ylabel(\"F1-measure\")\n",
    "plt.yticks(np.arange(0,1, 0.1))\n",
    "plt.xlabel(\"Subjects\")\n",
    "plt.xticks(rotation=\"horizontal\")\n",
    "plt.grid(linestyle=\"dotted\")\n",
    "plt.tight_layout\n",
    "plt.savefig(datapath+\"B_\"+model_names[select_model]+\".eps\", dpi=600, bbox_extra_artists=(lgd,), bbox_inches='tight')"
   ]
  },
  {
   "cell_type": "markdown",
   "metadata": {},
   "source": [
    "# End"
   ]
  }
 ],
 "metadata": {
  "kernelspec": {
   "display_name": "Python 3",
   "language": "python",
   "name": "python3"
  },
  "language_info": {
   "codemirror_mode": {
    "name": "ipython",
    "version": 3
   },
   "file_extension": ".py",
   "mimetype": "text/x-python",
   "name": "python",
   "nbconvert_exporter": "python",
   "pygments_lexer": "ipython3",
   "version": "3.6.4"
  }
 },
 "nbformat": 4,
 "nbformat_minor": 2
}
