{
 "cells": [
  {
   "cell_type": "markdown",
   "metadata": {},
   "source": [
    "# HDA - Project 3\n",
    "\n",
    "This first cell contains the parameters that can be tuned for code execution:\n",
    "- subject: select the subject on which to test the model, between [1,4];\n",
    "- label_col: index of feature column to be selected to perform activity detection, between [0,6];\n",
    "- folder: directory name where '.mat' files are stored;\n",
    "- window_size: parameter that sets the length of temporal windows on which to perform the convolution;\n",
    "- stride: step length to chose the next window."
   ]
  },
  {
   "cell_type": "code",
   "execution_count": 1,
   "metadata": {},
   "outputs": [],
   "source": [
    "subject = 1\n",
    "label = 6   # default for task B1\n",
    "folder = \"../data/full/\"\n",
    "window_size = 15\n",
    "stride = 5"
   ]
  },
  {
   "cell_type": "code",
   "execution_count": 2,
   "metadata": {},
   "outputs": [
    {
     "name": "stderr",
     "output_type": "stream",
     "text": [
      "C:\\Users\\Riccardo\\Anaconda3\\lib\\site-packages\\h5py\\__init__.py:36: FutureWarning: Conversion of the second argument of issubdtype from `float` to `np.floating` is deprecated. In future, it will be treated as `np.float64 == np.dtype(float).type`.\n",
      "  from ._conv import register_converters as _register_converters\n",
      "Using TensorFlow backend.\n"
     ]
    }
   ],
   "source": [
    "import preprocessing\n",
    "import models\n",
    "import numpy as np\n",
    "from sklearn.metrics import classification_report\n",
    "from keras.models import load_model\n",
    "from keras.optimizers import Adam\n",
    "from keras.callbacks import ModelCheckpoint\n",
    "from keras.utils import to_categorical"
   ]
  },
  {
   "cell_type": "markdown",
   "metadata": {},
   "source": [
    "In the following cell, we make use of some functions of Keras which have been removed, but of which the code is still available at https://github.com/keras-team/keras/commit/a56b1a55182acf061b1eb2e2c86b48193a0e88f7. These are used to evaulate the f1 score during training on batches of data: this is only an approximation though, which is the reason why they have been removed."
   ]
  },
  {
   "cell_type": "code",
   "execution_count": 3,
   "metadata": {},
   "outputs": [],
   "source": [
    "import keras.backend as K\n",
    "from sklearn.metrics import f1_score\n",
    "\n",
    "\n",
    "def precision(y_true, y_pred): \n",
    "    \"\"\"Precision metric.\n",
    "    \n",
    "    Only computes a batch-wise average of precision. \n",
    "    Computes the precision, a metric for multi-label classification of \n",
    "    how many selected items are relevant. \n",
    "    \"\"\" \n",
    "    \n",
    "    true_positives = K.sum(K.round(K.clip(y_true * y_pred, 0, 1)))\n",
    "    predicted_positives = K.sum(K.round(K.clip(y_pred, 0, 1)))\n",
    "    precision = true_positives / (predicted_positives + K.epsilon()) \n",
    "\n",
    "    return precision\n",
    "\n",
    "\n",
    "def recall(y_true, y_pred): \n",
    "    \"\"\"Recall metric. \n",
    "    \n",
    "    Only computes a batch-wise average of recall. \n",
    "    Computes the recall, a metric for multi-label classification of \n",
    "    how many relevant items are selected. \n",
    "    \"\"\" \n",
    "    true_positives = K.sum(K.round(K.clip(y_true * y_pred, 0, 1))) \n",
    "    possible_positives = K.sum(K.round(K.clip(y_true, 0, 1)))\n",
    "    recall = true_positives / (possible_positives + K.epsilon()) \n",
    " \n",
    "    return recall\n",
    "\n",
    "def fbeta_score(y_true, y_pred, beta=1): \n",
    "    \"\"\"Computes the F score. \n",
    "\n",
    "    The F score is the weighted harmonic mean of precision and recall.\n",
    "    Here it is only computed as a batch-wise average, not globally.\n",
    "    This is useful for multi-label classification, where input samples can be\n",
    "    classified as sets of labels. By only using accuracy (precision) a model\n",
    "    would achieve a perfect score by simply assigning every class to every\n",
    "    input. In order to avoid this, a metric should penalize incorrect class\n",
    "    assignments as well (recall). The F-beta score (ranged from 0.0 to 1.0)\n",
    "    computes this, as a weighted mean of the proportion of correct class\n",
    "    assignments vs. the proportion of incorrect class assignments.\n",
    "    With beta = 1, this is equivalent to a F-measure. With beta < 1, assigning\n",
    "    correct classes becomes more important, and with beta > 1 the metric is\n",
    "    instead weighted towards penalizing incorrect class assignments.\n",
    "    \"\"\"\n",
    "    \n",
    "    if beta < 0:\n",
    "        raise ValueError('The lowest choosable beta is zero (only precision).')\n",
    "        \n",
    "    # If there are no true positives, fix the F score at 0 like sklearn.\n",
    "    if K.sum(K.round(K.clip(y_true, 0, 1))) == 0:\n",
    "        return 0 \n",
    "\n",
    "    p = precision(y_true, y_pred)\n",
    "    r = recall(y_true, y_pred)\n",
    "    bb = beta ** 2\n",
    "    fbeta_score = (1 + bb) * (p * r) / (bb * p + r + K.epsilon()) \n",
    "\n",
    "    return fbeta_score \n",
    "\n",
    "\n",
    "def fmeasure(y_true, y_pred):\n",
    "    \"\"\"Computes the f-measure, the harmonic mean of precision and recall.\n",
    "    \n",
    "    Here it is only computed as a batch-wise average, not globally.\n",
    "    \"\"\" \n",
    "\n",
    "    return fbeta_score(y_true, y_pred, beta=1) "
   ]
  },
  {
   "cell_type": "markdown",
   "metadata": {},
   "source": [
    "## Classification with null class\n",
    "### Preprocessing"
   ]
  },
  {
   "cell_type": "code",
   "execution_count": 4,
   "metadata": {},
   "outputs": [
    {
     "name": "stdout",
     "output_type": "stream",
     "text": [
      "\n",
      "Processing data from subject 1\n",
      "\n",
      "Session shapes:\n",
      "ADL1:   (45810, 110)\n",
      "ADL2:   (28996, 110)\n",
      "ADL3:   (30167, 110)\n",
      "ADL4:   (30228, 110)\n",
      "ADL5:   (27308, 110)\n",
      "Drill:  (52152, 110)\n",
      "\n",
      "Features: 110 \n",
      "Classes: 18 \n",
      "Fraction of labels:   [0.66779111 0.01365242 0.01473443 0.01120199 0.02020813 0.02074913\n",
      " 0.01183846 0.01613468 0.01307959 0.01377972 0.01584826 0.01225217\n",
      " 0.02132196 0.02199026 0.01152022 0.01724851 0.07889126 0.01775769]\n",
      "\n",
      "Features: 110 \n",
      "Classes: 18 \n",
      "Fraction of labels:   [0.77548892 0.00764885 0.00591047 0.00808344 0.01425467 0.01156019\n",
      " 0.00365059 0.01833985 0.00990874 0.0065189  0.00808344 0.00582355\n",
      " 0.01642764 0.01399392 0.00295524 0.01521078 0.06996958 0.00617123]\n",
      "\n",
      "Processing data from subject 2\n",
      "\n",
      "Session shapes:\n",
      "ADL1:   (38733, 110)\n",
      "ADL2:   (26824, 110)\n",
      "ADL3:   (31242, 110)\n",
      "ADL4:   (29723, 110)\n",
      "ADL5:   (27997, 110)\n",
      "Drill:  (49009, 110)\n",
      "\n",
      "Features: 110 \n",
      "Classes: 18 \n",
      "Fraction of labels:   [0.6284852  0.01879351 0.01416372 0.00823073 0.0201996  0.02157138\n",
      " 0.00956823 0.02249734 0.01831339 0.02222298 0.01265475 0.01063137\n",
      " 0.01978806 0.01913646 0.0143009  0.02493227 0.08103844 0.03347166]\n",
      "\n",
      "Features: 110 \n",
      "Classes: 18 \n",
      "Fraction of labels:   [0.8403223  0.00935713 0.00658465 0.00294576 0.00441864 0.00944377\n",
      " 0.0030324  0.0183677  0.01031017 0.01221625 0.00641137 0.00407208\n",
      " 0.00537169 0.00953041 0.00441864 0.02269971 0.01602842 0.0144689 ]\n",
      "\n",
      "Processing data from subject 3\n",
      "\n",
      "Session shapes:\n",
      "ADL1:   (32340, 110)\n",
      "ADL2:   (24918, 110)\n",
      "ADL3:   (24395, 110)\n",
      "ADL4:   (25169, 110)\n",
      "ADL5:   (23836, 110)\n",
      "Drill:  (68445, 110)\n",
      "\n",
      "Features: 110 \n",
      "Classes: 18 \n",
      "Fraction of labels:   [0.65879335 0.01522471 0.01389213 0.01096046 0.01868941 0.02045508\n",
      " 0.01069394 0.02238731 0.01552454 0.01502482 0.01339241 0.01182663\n",
      " 0.02152114 0.02395309 0.01192657 0.02571876 0.07115968 0.01885598]\n",
      "\n",
      "Features: 110 \n",
      "Classes: 18 \n",
      "Fraction of labels:   [0.78252883 0.0081641  0.00704153 0.00326564 0.00928666 0.00908256\n",
      " 0.00704153 0.01745076 0.01387897 0.00989897 0.0085723  0.00510256\n",
      " 0.00734769 0.01193999 0.00428615 0.0290846  0.05867946 0.00734769]\n",
      "\n",
      "Processing data from subject 4\n",
      "\n",
      "Session shapes:\n",
      "ADL1:   (32076, 110)\n",
      "ADL2:   (23717, 110)\n",
      "ADL3:   (20794, 110)\n",
      "ADL4:   (18668, 110)\n",
      "ADL5:   (27007, 110)\n",
      "Drill:  (41906, 110)\n",
      "\n",
      "Features: 110 \n",
      "Classes: 18 \n",
      "Fraction of labels:   [0.64905469 0.01612086 0.01240716 0.01008609 0.01911715 0.01996117\n",
      " 0.00915766 0.02536293 0.01341999 0.01768231 0.01295577 0.01114112\n",
      " 0.01928596 0.01966577 0.01266036 0.02553174 0.07866307 0.0277262 ]\n",
      "\n",
      "Features: 110 \n",
      "Classes: 18 \n",
      "Fraction of labels:   [0.78364174 0.0047082  0.00766451 0.00667908 0.01500055 0.00821198\n",
      " 0.00656958 0.02310303 0.01302967 0.00503668 0.00810249 0.00656958\n",
      " 0.0188328  0.01237271 0.00897843 0.02091317 0.03043907 0.02014672]\n",
      "\n",
      "Shapes: \n",
      "X_train:  (114295, 15, 110) \n",
      "Y_train:  (114295, 18) \n",
      "X_test:  (41979, 15, 110) \n",
      "Y_test:  (41979, 18)\n",
      "\n",
      "Class weights:\n",
      " [0.08527123 3.49654307 4.00108521 5.47389847 2.83723066 2.68147053\n",
      " 5.34038875 2.60661832 3.67248249 3.25459878 4.02901156 4.8323609\n",
      " 2.70200946 2.60876016 4.41873502 2.39974385 0.7181319  2.30312739]\n"
     ]
    }
   ],
   "source": [
    "X_train, Y_train, X_test, Y_test, n_features, n_classes, class_weights = preprocessing.loadDataMultiple(label=label,\n",
    "                                                                                                        folder=folder,\n",
    "                                                                                                        window_size=window_size,\n",
    "                                                                                                        stride=stride,\n",
    "                                                                                                        make_binary=False,\n",
    "                                                                                                        null_class=True,\n",
    "                                                                                                        print_info=True)"
   ]
  },
  {
   "cell_type": "markdown",
   "metadata": {},
   "source": [
    "### Model"
   ]
  },
  {
   "cell_type": "code",
   "execution_count": 5,
   "metadata": {},
   "outputs": [
    {
     "name": "stdout",
     "output_type": "stream",
     "text": [
      "_________________________________________________________________\n",
      "Layer (type)                 Output Shape              Param #   \n",
      "=================================================================\n",
      "batch_normalization_1 (Batch (None, 15, 110)           440       \n",
      "_________________________________________________________________\n",
      "conv1d_1 (Conv1D)            (None, 5, 36)             43596     \n",
      "_________________________________________________________________\n",
      "leaky_re_lu_1 (LeakyReLU)    (None, 5, 36)             0         \n",
      "_________________________________________________________________\n",
      "max_pooling1d_1 (MaxPooling1 (None, 2, 36)             0         \n",
      "_________________________________________________________________\n",
      "lstm_1 (LSTM)                (None, 2, 600)            1528800   \n",
      "_________________________________________________________________\n",
      "lstm_2 (LSTM)                (None, 600)               2882400   \n",
      "_________________________________________________________________\n",
      "dense_1 (Dense)              (None, 512)               307712    \n",
      "_________________________________________________________________\n",
      "leaky_re_lu_2 (LeakyReLU)    (None, 512)               0         \n",
      "_________________________________________________________________\n",
      "dense_2 (Dense)              (None, 18)                9234      \n",
      "=================================================================\n",
      "Total params: 4,772,182\n",
      "Trainable params: 4,771,962\n",
      "Non-trainable params: 220\n",
      "_________________________________________________________________\n"
     ]
    }
   ],
   "source": [
    "detection_model = models.MotionDetection((window_size, n_features), n_classes)\n",
    "\n",
    "detection_model.compile(optimizer = Adam(lr=0.001),\n",
    "                        loss = \"categorical_crossentropy\", \n",
    "                        metrics = [\"accuracy\", fmeasure])\n",
    "\n",
    "checkpointer = ModelCheckpoint(filepath='./weights_1.hdf5', verbose=1, save_best_only=True)"
   ]
  },
  {
   "cell_type": "markdown",
   "metadata": {},
   "source": [
    "### Training"
   ]
  },
  {
   "cell_type": "code",
   "execution_count": 6,
   "metadata": {},
   "outputs": [
    {
     "name": "stdout",
     "output_type": "stream",
     "text": [
      "Train on 114295 samples, validate on 41979 samples\n",
      "Epoch 1/20\n",
      "114295/114295 [==============================] - 227s 2ms/step - loss: 0.7730 - acc: 0.7627 - fmeasure: 0.7601 - val_loss: 0.5548 - val_acc: 0.8396 - val_fmeasure: 0.8226\n",
      "\n",
      "Epoch 00001: val_loss improved from inf to 0.55482, saving model to ./weights_1.hdf5\n",
      "Epoch 2/20\n",
      "114295/114295 [==============================] - 221s 2ms/step - loss: 0.5723 - acc: 0.8134 - fmeasure: 0.8145 - val_loss: 0.5196 - val_acc: 0.8408 - val_fmeasure: 0.8303\n",
      "\n",
      "Epoch 00002: val_loss improved from 0.55482 to 0.51959, saving model to ./weights_1.hdf5\n",
      "Epoch 3/20\n",
      "114295/114295 [==============================] - 220s 2ms/step - loss: 0.5145 - acc: 0.8317 - fmeasure: 0.8338 - val_loss: 0.5166 - val_acc: 0.8522 - val_fmeasure: 0.8405\n",
      "\n",
      "Epoch 00003: val_loss improved from 0.51959 to 0.51661, saving model to ./weights_1.hdf5\n",
      "Epoch 4/20\n",
      "114295/114295 [==============================] - 220s 2ms/step - loss: 0.4813 - acc: 0.8408 - fmeasure: 0.8444 - val_loss: 0.5139 - val_acc: 0.8495 - val_fmeasure: 0.8385\n",
      "\n",
      "Epoch 00004: val_loss improved from 0.51661 to 0.51395, saving model to ./weights_1.hdf5\n",
      "Epoch 5/20\n",
      "114295/114295 [==============================] - 221s 2ms/step - loss: 0.4559 - acc: 0.8482 - fmeasure: 0.8506 - val_loss: 0.5285 - val_acc: 0.8506 - val_fmeasure: 0.8365\n",
      "\n",
      "Epoch 00005: val_loss did not improve\n",
      "Epoch 6/20\n",
      "114295/114295 [==============================] - 223s 2ms/step - loss: 0.4441 - acc: 0.8522 - fmeasure: 0.8545 - val_loss: 0.5307 - val_acc: 0.8482 - val_fmeasure: 0.8380\n",
      "\n",
      "Epoch 00006: val_loss did not improve\n",
      "Epoch 7/20\n",
      "114295/114295 [==============================] - 223s 2ms/step - loss: 0.4344 - acc: 0.8547 - fmeasure: 0.8569 - val_loss: 0.5313 - val_acc: 0.8511 - val_fmeasure: 0.8402\n",
      "\n",
      "Epoch 00007: val_loss did not improve\n",
      "Epoch 8/20\n",
      "114295/114295 [==============================] - 222s 2ms/step - loss: 0.4252 - acc: 0.8583 - fmeasure: 0.8611 - val_loss: 0.5096 - val_acc: 0.8564 - val_fmeasure: 0.8515\n",
      "\n",
      "Epoch 00008: val_loss improved from 0.51395 to 0.50956, saving model to ./weights_1.hdf5\n",
      "Epoch 9/20\n",
      "114295/114295 [==============================] - 222s 2ms/step - loss: 0.4178 - acc: 0.8601 - fmeasure: 0.8629 - val_loss: 0.5276 - val_acc: 0.8525 - val_fmeasure: 0.8431\n",
      "\n",
      "Epoch 00009: val_loss did not improve\n",
      "Epoch 10/20\n",
      "114295/114295 [==============================] - 222s 2ms/step - loss: 0.4125 - acc: 0.8619 - fmeasure: 0.8639 - val_loss: 0.5418 - val_acc: 0.8494 - val_fmeasure: 0.8421\n",
      "\n",
      "Epoch 00010: val_loss did not improve\n",
      "Epoch 11/20\n",
      "114295/114295 [==============================] - 222s 2ms/step - loss: 0.4094 - acc: 0.8630 - fmeasure: 0.8658 - val_loss: 0.5298 - val_acc: 0.8542 - val_fmeasure: 0.8468\n",
      "\n",
      "Epoch 00011: val_loss did not improve\n",
      "Epoch 12/20\n",
      "114295/114295 [==============================] - 223s 2ms/step - loss: 0.4006 - acc: 0.8652 - fmeasure: 0.8681 - val_loss: 0.5603 - val_acc: 0.8478 - val_fmeasure: 0.8409\n",
      "\n",
      "Epoch 00012: val_loss did not improve\n",
      "Epoch 13/20\n",
      "114295/114295 [==============================] - 222s 2ms/step - loss: 0.4038 - acc: 0.8649 - fmeasure: 0.8675 - val_loss: 0.5360 - val_acc: 0.8543 - val_fmeasure: 0.8470\n",
      "\n",
      "Epoch 00013: val_loss did not improve\n",
      "Epoch 14/20\n",
      "114295/114295 [==============================] - 222s 2ms/step - loss: 0.3993 - acc: 0.8656 - fmeasure: 0.8688 - val_loss: 0.5829 - val_acc: 0.8460 - val_fmeasure: 0.8374\n",
      "\n",
      "Epoch 00014: val_loss did not improve\n",
      "Epoch 15/20\n",
      "114295/114295 [==============================] - 222s 2ms/step - loss: 0.4009 - acc: 0.8653 - fmeasure: 0.8686 - val_loss: 0.5425 - val_acc: 0.8535 - val_fmeasure: 0.8447\n",
      "\n",
      "Epoch 00015: val_loss did not improve\n",
      "Epoch 16/20\n",
      "114295/114295 [==============================] - 222s 2ms/step - loss: 0.4007 - acc: 0.8651 - fmeasure: 0.8678 - val_loss: 0.5446 - val_acc: 0.8536 - val_fmeasure: 0.8472\n",
      "\n",
      "Epoch 00016: val_loss did not improve\n",
      "Epoch 17/20\n",
      "114295/114295 [==============================] - 222s 2ms/step - loss: 0.3956 - acc: 0.8677 - fmeasure: 0.8709 - val_loss: 0.5580 - val_acc: 0.8527 - val_fmeasure: 0.8478\n",
      "\n",
      "Epoch 00017: val_loss did not improve\n",
      "Epoch 18/20\n",
      "114295/114295 [==============================] - 222s 2ms/step - loss: 0.3971 - acc: 0.8674 - fmeasure: 0.8694 - val_loss: 0.5348 - val_acc: 0.8531 - val_fmeasure: 0.8474\n",
      "\n",
      "Epoch 00018: val_loss did not improve\n",
      "Epoch 19/20\n",
      "114295/114295 [==============================] - 221s 2ms/step - loss: 0.3960 - acc: 0.8667 - fmeasure: 0.8698 - val_loss: 0.5540 - val_acc: 0.8485 - val_fmeasure: 0.8403\n",
      "\n",
      "Epoch 00019: val_loss did not improve\n",
      "Epoch 20/20\n",
      "114295/114295 [==============================] - 222s 2ms/step - loss: 0.3993 - acc: 0.8666 - fmeasure: 0.8700 - val_loss: 0.5492 - val_acc: 0.8586 - val_fmeasure: 0.8536\n",
      "\n",
      "Epoch 00020: val_loss did not improve\n"
     ]
    },
    {
     "data": {
      "text/plain": [
       "<keras.callbacks.History at 0x227055cb748>"
      ]
     },
     "execution_count": 6,
     "metadata": {},
     "output_type": "execute_result"
    }
   ],
   "source": [
    "detection_model.fit(x = X_train, \n",
    "                    y = Y_train, \n",
    "                    epochs = 20, \n",
    "                    batch_size = 16,\n",
    "                    verbose = 1,\n",
    "                    callbacks=[checkpointer],\n",
    "                    validation_data=(X_test, Y_test),\n",
    "                    class_weight=class_weights)"
   ]
  },
  {
   "cell_type": "markdown",
   "metadata": {},
   "source": [
    "### Evaluation"
   ]
  },
  {
   "cell_type": "code",
   "execution_count": 7,
   "metadata": {},
   "outputs": [
    {
     "name": "stdout",
     "output_type": "stream",
     "text": [
      "             precision    recall  f1-score   support\n",
      "\n",
      "          0       0.91      0.95      0.93     33446\n",
      "          1       0.43      0.29      0.34       319\n",
      "          2       0.40      0.36      0.38       283\n",
      "          3       0.28      0.09      0.14       220\n",
      "          4       0.65      0.69      0.67       443\n",
      "          5       0.67      0.72      0.69       406\n",
      "          6       0.37      0.20      0.26       206\n",
      "          7       0.57      0.50      0.53       805\n",
      "          8       0.49      0.47      0.48       488\n",
      "          9       0.38      0.32      0.35       359\n",
      "         10       0.51      0.35      0.42       325\n",
      "         11       0.44      0.19      0.27       224\n",
      "         12       0.70      0.62      0.66       495\n",
      "         13       0.81      0.64      0.71       501\n",
      "         14       0.41      0.21      0.28       209\n",
      "         15       0.55      0.36      0.44       913\n",
      "         16       0.75      0.69      0.72      1843\n",
      "         17       0.61      0.48      0.54       494\n",
      "\n",
      "avg / total       0.84      0.86      0.85     41979\n",
      "\n"
     ]
    }
   ],
   "source": [
    "Y_pred = detection_model.predict(X_test)\n",
    "Y_pred = np.argmax(Y_pred, 1)\n",
    "\n",
    "print(classification_report(Y_test, to_categorical(Y_pred)))"
   ]
  },
  {
   "cell_type": "code",
   "execution_count": 9,
   "metadata": {},
   "outputs": [
    {
     "ename": "ValueError",
     "evalue": "Unknown metric function:fmeasure",
     "output_type": "error",
     "traceback": [
      "\u001b[1;31m---------------------------------------------------------------------------\u001b[0m",
      "\u001b[1;31mValueError\u001b[0m                                Traceback (most recent call last)",
      "\u001b[1;32m<ipython-input-9-3a7014b7a423>\u001b[0m in \u001b[0;36m<module>\u001b[1;34m()\u001b[0m\n\u001b[1;32m----> 1\u001b[1;33m \u001b[0mdetection_model_best\u001b[0m \u001b[1;33m=\u001b[0m \u001b[0mload_model\u001b[0m\u001b[1;33m(\u001b[0m\u001b[1;34m'./weights_1.hdf5'\u001b[0m\u001b[1;33m)\u001b[0m\u001b[1;33m\u001b[0m\u001b[0m\n\u001b[0m\u001b[0;32m      2\u001b[0m \u001b[1;33m\u001b[0m\u001b[0m\n\u001b[0;32m      3\u001b[0m \u001b[0mY_pred\u001b[0m \u001b[1;33m=\u001b[0m \u001b[0mdetection_model\u001b[0m\u001b[1;33m.\u001b[0m\u001b[0mpredict\u001b[0m\u001b[1;33m(\u001b[0m\u001b[0mX_test\u001b[0m\u001b[1;33m)\u001b[0m\u001b[1;33m\u001b[0m\u001b[0m\n\u001b[0;32m      4\u001b[0m \u001b[0mY_pred\u001b[0m \u001b[1;33m=\u001b[0m \u001b[0mnp\u001b[0m\u001b[1;33m.\u001b[0m\u001b[0margmax\u001b[0m\u001b[1;33m(\u001b[0m\u001b[0mY_pred\u001b[0m\u001b[1;33m,\u001b[0m \u001b[1;36m1\u001b[0m\u001b[1;33m)\u001b[0m\u001b[1;33m\u001b[0m\u001b[0m\n\u001b[0;32m      5\u001b[0m \u001b[1;33m\u001b[0m\u001b[0m\n",
      "\u001b[1;32m~\\Anaconda3\\lib\\site-packages\\keras\\models.py\u001b[0m in \u001b[0;36mload_model\u001b[1;34m(filepath, custom_objects, compile)\u001b[0m\n\u001b[0;32m    272\u001b[0m                       \u001b[0mmetrics\u001b[0m\u001b[1;33m=\u001b[0m\u001b[0mmetrics\u001b[0m\u001b[1;33m,\u001b[0m\u001b[1;33m\u001b[0m\u001b[0m\n\u001b[0;32m    273\u001b[0m                       \u001b[0mloss_weights\u001b[0m\u001b[1;33m=\u001b[0m\u001b[0mloss_weights\u001b[0m\u001b[1;33m,\u001b[0m\u001b[1;33m\u001b[0m\u001b[0m\n\u001b[1;32m--> 274\u001b[1;33m                       sample_weight_mode=sample_weight_mode)\n\u001b[0m\u001b[0;32m    275\u001b[0m \u001b[1;33m\u001b[0m\u001b[0m\n\u001b[0;32m    276\u001b[0m         \u001b[1;31m# Set optimizer weights.\u001b[0m\u001b[1;33m\u001b[0m\u001b[1;33m\u001b[0m\u001b[0m\n",
      "\u001b[1;32m~\\Anaconda3\\lib\\site-packages\\keras\\models.py\u001b[0m in \u001b[0;36mcompile\u001b[1;34m(self, optimizer, loss, metrics, sample_weight_mode, weighted_metrics, target_tensors, **kwargs)\u001b[0m\n\u001b[0;32m    822\u001b[0m                            \u001b[0mweighted_metrics\u001b[0m\u001b[1;33m=\u001b[0m\u001b[0mweighted_metrics\u001b[0m\u001b[1;33m,\u001b[0m\u001b[1;33m\u001b[0m\u001b[0m\n\u001b[0;32m    823\u001b[0m                            \u001b[0mtarget_tensors\u001b[0m\u001b[1;33m=\u001b[0m\u001b[0mtarget_tensors\u001b[0m\u001b[1;33m,\u001b[0m\u001b[1;33m\u001b[0m\u001b[0m\n\u001b[1;32m--> 824\u001b[1;33m                            **kwargs)\n\u001b[0m\u001b[0;32m    825\u001b[0m         \u001b[0mself\u001b[0m\u001b[1;33m.\u001b[0m\u001b[0moptimizer\u001b[0m \u001b[1;33m=\u001b[0m \u001b[0mself\u001b[0m\u001b[1;33m.\u001b[0m\u001b[0mmodel\u001b[0m\u001b[1;33m.\u001b[0m\u001b[0moptimizer\u001b[0m\u001b[1;33m\u001b[0m\u001b[0m\n\u001b[0;32m    826\u001b[0m         \u001b[0mself\u001b[0m\u001b[1;33m.\u001b[0m\u001b[0mloss\u001b[0m \u001b[1;33m=\u001b[0m \u001b[0mself\u001b[0m\u001b[1;33m.\u001b[0m\u001b[0mmodel\u001b[0m\u001b[1;33m.\u001b[0m\u001b[0mloss\u001b[0m\u001b[1;33m\u001b[0m\u001b[0m\n",
      "\u001b[1;32m~\\Anaconda3\\lib\\site-packages\\keras\\engine\\training.py\u001b[0m in \u001b[0;36mcompile\u001b[1;34m(self, optimizer, loss, metrics, loss_weights, sample_weight_mode, weighted_metrics, target_tensors, **kwargs)\u001b[0m\n\u001b[0;32m    932\u001b[0m                             \u001b[0mself\u001b[0m\u001b[1;33m.\u001b[0m\u001b[0mmetrics_updates\u001b[0m \u001b[1;33m+=\u001b[0m \u001b[0mmetric_fn\u001b[0m\u001b[1;33m.\u001b[0m\u001b[0mupdates\u001b[0m\u001b[1;33m\u001b[0m\u001b[0m\n\u001b[0;32m    933\u001b[0m \u001b[1;33m\u001b[0m\u001b[0m\n\u001b[1;32m--> 934\u001b[1;33m                 \u001b[0mhandle_metrics\u001b[0m\u001b[1;33m(\u001b[0m\u001b[0moutput_metrics\u001b[0m\u001b[1;33m)\u001b[0m\u001b[1;33m\u001b[0m\u001b[0m\n\u001b[0m\u001b[0;32m    935\u001b[0m                 \u001b[0mhandle_metrics\u001b[0m\u001b[1;33m(\u001b[0m\u001b[0moutput_weighted_metrics\u001b[0m\u001b[1;33m,\u001b[0m \u001b[0mweights\u001b[0m\u001b[1;33m=\u001b[0m\u001b[0mweights\u001b[0m\u001b[1;33m)\u001b[0m\u001b[1;33m\u001b[0m\u001b[0m\n\u001b[0;32m    936\u001b[0m \u001b[1;33m\u001b[0m\u001b[0m\n",
      "\u001b[1;32m~\\Anaconda3\\lib\\site-packages\\keras\\engine\\training.py\u001b[0m in \u001b[0;36mhandle_metrics\u001b[1;34m(metrics, weights)\u001b[0m\n\u001b[0;32m    899\u001b[0m                             \u001b[0mmetric_name\u001b[0m \u001b[1;33m=\u001b[0m \u001b[0mmetric_name_prefix\u001b[0m \u001b[1;33m+\u001b[0m \u001b[0msuffix\u001b[0m\u001b[1;33m\u001b[0m\u001b[0m\n\u001b[0;32m    900\u001b[0m                         \u001b[1;32melse\u001b[0m\u001b[1;33m:\u001b[0m\u001b[1;33m\u001b[0m\u001b[0m\n\u001b[1;32m--> 901\u001b[1;33m                             \u001b[0mmetric_fn\u001b[0m \u001b[1;33m=\u001b[0m \u001b[0mmetrics_module\u001b[0m\u001b[1;33m.\u001b[0m\u001b[0mget\u001b[0m\u001b[1;33m(\u001b[0m\u001b[0mmetric\u001b[0m\u001b[1;33m)\u001b[0m\u001b[1;33m\u001b[0m\u001b[0m\n\u001b[0m\u001b[0;32m    902\u001b[0m                             \u001b[0mweighted_metric_fn\u001b[0m \u001b[1;33m=\u001b[0m \u001b[0m_weighted_masked_objective\u001b[0m\u001b[1;33m(\u001b[0m\u001b[0mmetric_fn\u001b[0m\u001b[1;33m)\u001b[0m\u001b[1;33m\u001b[0m\u001b[0m\n\u001b[0;32m    903\u001b[0m                             \u001b[1;31m# Get metric name as string\u001b[0m\u001b[1;33m\u001b[0m\u001b[1;33m\u001b[0m\u001b[0m\n",
      "\u001b[1;32m~\\Anaconda3\\lib\\site-packages\\keras\\metrics.py\u001b[0m in \u001b[0;36mget\u001b[1;34m(identifier)\u001b[0m\n\u001b[0;32m     73\u001b[0m         \u001b[1;32mreturn\u001b[0m \u001b[0mdeserialize\u001b[0m\u001b[1;33m(\u001b[0m\u001b[0mconfig\u001b[0m\u001b[1;33m)\u001b[0m\u001b[1;33m\u001b[0m\u001b[0m\n\u001b[0;32m     74\u001b[0m     \u001b[1;32melif\u001b[0m \u001b[0misinstance\u001b[0m\u001b[1;33m(\u001b[0m\u001b[0midentifier\u001b[0m\u001b[1;33m,\u001b[0m \u001b[0msix\u001b[0m\u001b[1;33m.\u001b[0m\u001b[0mstring_types\u001b[0m\u001b[1;33m)\u001b[0m\u001b[1;33m:\u001b[0m\u001b[1;33m\u001b[0m\u001b[0m\n\u001b[1;32m---> 75\u001b[1;33m         \u001b[1;32mreturn\u001b[0m \u001b[0mdeserialize\u001b[0m\u001b[1;33m(\u001b[0m\u001b[0mstr\u001b[0m\u001b[1;33m(\u001b[0m\u001b[0midentifier\u001b[0m\u001b[1;33m)\u001b[0m\u001b[1;33m)\u001b[0m\u001b[1;33m\u001b[0m\u001b[0m\n\u001b[0m\u001b[0;32m     76\u001b[0m     \u001b[1;32melif\u001b[0m \u001b[0mcallable\u001b[0m\u001b[1;33m(\u001b[0m\u001b[0midentifier\u001b[0m\u001b[1;33m)\u001b[0m\u001b[1;33m:\u001b[0m\u001b[1;33m\u001b[0m\u001b[0m\n\u001b[0;32m     77\u001b[0m         \u001b[1;32mreturn\u001b[0m \u001b[0midentifier\u001b[0m\u001b[1;33m\u001b[0m\u001b[0m\n",
      "\u001b[1;32m~\\Anaconda3\\lib\\site-packages\\keras\\metrics.py\u001b[0m in \u001b[0;36mdeserialize\u001b[1;34m(config, custom_objects)\u001b[0m\n\u001b[0;32m     65\u001b[0m                                     \u001b[0mmodule_objects\u001b[0m\u001b[1;33m=\u001b[0m\u001b[0mglobals\u001b[0m\u001b[1;33m(\u001b[0m\u001b[1;33m)\u001b[0m\u001b[1;33m,\u001b[0m\u001b[1;33m\u001b[0m\u001b[0m\n\u001b[0;32m     66\u001b[0m                                     \u001b[0mcustom_objects\u001b[0m\u001b[1;33m=\u001b[0m\u001b[0mcustom_objects\u001b[0m\u001b[1;33m,\u001b[0m\u001b[1;33m\u001b[0m\u001b[0m\n\u001b[1;32m---> 67\u001b[1;33m                                     printable_module_name='metric function')\n\u001b[0m\u001b[0;32m     68\u001b[0m \u001b[1;33m\u001b[0m\u001b[0m\n\u001b[0;32m     69\u001b[0m \u001b[1;33m\u001b[0m\u001b[0m\n",
      "\u001b[1;32m~\\Anaconda3\\lib\\site-packages\\keras\\utils\\generic_utils.py\u001b[0m in \u001b[0;36mdeserialize_keras_object\u001b[1;34m(identifier, module_objects, custom_objects, printable_module_name)\u001b[0m\n\u001b[0;32m    162\u001b[0m             \u001b[1;32mif\u001b[0m \u001b[0mfn\u001b[0m \u001b[1;32mis\u001b[0m \u001b[1;32mNone\u001b[0m\u001b[1;33m:\u001b[0m\u001b[1;33m\u001b[0m\u001b[0m\n\u001b[0;32m    163\u001b[0m                 raise ValueError('Unknown ' + printable_module_name +\n\u001b[1;32m--> 164\u001b[1;33m                                  ':' + function_name)\n\u001b[0m\u001b[0;32m    165\u001b[0m         \u001b[1;32mreturn\u001b[0m \u001b[0mfn\u001b[0m\u001b[1;33m\u001b[0m\u001b[0m\n\u001b[0;32m    166\u001b[0m     \u001b[1;32melse\u001b[0m\u001b[1;33m:\u001b[0m\u001b[1;33m\u001b[0m\u001b[0m\n",
      "\u001b[1;31mValueError\u001b[0m: Unknown metric function:fmeasure"
     ]
    }
   ],
   "source": [
    "detection_model_best = load_model('./weights_1.hdf5')\n",
    "\n",
    "Y_pred = detection_model.predict(X_test)\n",
    "Y_pred = np.argmax(Y_pred, 1)\n",
    "\n",
    "print(classification_report(Y_test, to_categorical(Y_pred)))"
   ]
  },
  {
   "cell_type": "markdown",
   "metadata": {},
   "source": [
    "## Classification without null class\n",
    "### Preprocessing"
   ]
  },
  {
   "cell_type": "code",
   "execution_count": 13,
   "metadata": {},
   "outputs": [
    {
     "name": "stdout",
     "output_type": "stream",
     "text": [
      "\n",
      "Processing data from subject 1\n",
      "\n",
      "Session shapes:\n",
      "ADL1:   (45810, 110)\n",
      "ADL2:   (28996, 110)\n",
      "ADL3:   (30167, 110)\n",
      "ADL4:   (30228, 110)\n",
      "ADL5:   (27308, 110)\n",
      "Drill:  (52152, 110)\n",
      "\n",
      "Features: 110 \n",
      "Classes: 17 \n",
      "Fraction of labels:   [0.04109589 0.04435291 0.0337197  0.06082958 0.06245809 0.0356356\n",
      " 0.04856787 0.03937159 0.04147907 0.04770572 0.03688093 0.06418239\n",
      " 0.06619408 0.03467765 0.05192068 0.23747485 0.0534534 ]\n",
      "\n",
      "Features: 110 \n",
      "Classes: 17 \n",
      "Fraction of labels:   [0.03406891 0.02632598 0.03600465 0.06349206 0.05149051 0.01626016\n",
      " 0.08168796 0.04413473 0.029036   0.03600465 0.02593883 0.07317073\n",
      " 0.06233062 0.01316299 0.06775068 0.31165312 0.02748742]\n",
      "\n",
      "Processing data from subject 2\n",
      "\n",
      "Session shapes:\n",
      "ADL1:   (38733, 110)\n",
      "ADL2:   (26824, 110)\n",
      "ADL3:   (31242, 110)\n",
      "ADL4:   (29723, 110)\n",
      "ADL5:   (27997, 110)\n",
      "Drill:  (49009, 110)\n",
      "\n",
      "Features: 110 \n",
      "Classes: 17 \n",
      "Fraction of labels:   [0.05058617 0.03812425 0.02215453 0.0543709  0.05806333 0.02575464\n",
      " 0.06055571 0.04929382 0.05981723 0.03406259 0.02861627 0.05326318\n",
      " 0.05150928 0.03849349 0.06710976 0.21812979 0.09009508]\n",
      "\n",
      "Features: 110 \n",
      "Classes: 17 \n",
      "Fraction of labels:   [0.05860011 0.04123711 0.01844818 0.02767227 0.0591427  0.01899078\n",
      " 0.11502984 0.06456864 0.0765057  0.04015193 0.0255019  0.0336408\n",
      " 0.0596853  0.02767227 0.14215952 0.10037982 0.09061313]\n",
      "\n",
      "Processing data from subject 3\n",
      "\n",
      "Session shapes:\n",
      "ADL1:   (32340, 110)\n",
      "ADL2:   (24918, 110)\n",
      "ADL3:   (24395, 110)\n",
      "ADL4:   (25169, 110)\n",
      "ADL5:   (23836, 110)\n",
      "Drill:  (68445, 110)\n",
      "\n",
      "Features: 110 \n",
      "Classes: 17 \n",
      "Fraction of labels:   [0.04462019 0.0407147  0.03212263 0.05477446 0.05994923 0.03134153\n",
      " 0.06561219 0.04549893 0.04403437 0.03925015 0.0346612  0.06307362\n",
      " 0.07020113 0.03495411 0.0753759  0.20855302 0.05526264]\n",
      "\n",
      "Features: 110 \n",
      "Classes: 17 \n",
      "Fraction of labels:   [0.03754106 0.03237916 0.01501642 0.04270296 0.04176443 0.03237916\n",
      " 0.08024402 0.0638198  0.04551854 0.03941811 0.02346316 0.03378695\n",
      " 0.0549038  0.01970906 0.13374003 0.26982637 0.03378695]\n",
      "\n",
      "Processing data from subject 4\n",
      "\n",
      "Session shapes:\n",
      "ADL1:   (32076, 110)\n",
      "ADL2:   (23717, 110)\n",
      "ADL3:   (20794, 110)\n",
      "ADL4:   (18668, 110)\n",
      "ADL5:   (27007, 110)\n",
      "Drill:  (41906, 110)\n",
      "\n",
      "Features: 110 \n",
      "Classes: 17 \n",
      "Fraction of labels:   [0.04593555 0.03535354 0.02873978 0.0544733  0.05687831 0.02609428\n",
      " 0.07227032 0.03823954 0.0503848  0.03691679 0.03174603 0.0549543\n",
      " 0.05603656 0.03607504 0.07275132 0.22414622 0.07900433]\n",
      "\n",
      "Features: 110 \n",
      "Classes: 17 \n",
      "Fraction of labels:   [0.02176113 0.0354251  0.03087045 0.06933198 0.03795547 0.03036437\n",
      " 0.10678138 0.06022267 0.02327935 0.03744939 0.03036437 0.08704453\n",
      " 0.05718623 0.04149798 0.09665992 0.14068826 0.09311741]\n",
      "\n",
      "Shapes: \n",
      "X_train:  (39830, 15, 110) \n",
      "Y_train:  (39830, 17) \n",
      "X_test:  (8533, 15, 110) \n",
      "Y_test:  (8533, 17)\n",
      "\n",
      "Class weights:\n",
      " [1.29016585 1.47633344 2.01977688 1.04689061 0.98941773 1.97051403\n",
      " 0.96179851 1.35508454 1.20089245 1.4866378  1.78306026 0.99699625\n",
      " 0.96258882 1.63043923 0.8854653  0.26497864 0.84981544]\n"
     ]
    }
   ],
   "source": [
    "X_train, Y_train, X_test, Y_test, n_features, n_classes, class_weights = preprocessing.loadDataMultiple(label=label,\n",
    "                                                                                                        folder=folder,\n",
    "                                                                                                        window_size=window_size,\n",
    "                                                                                                        stride=stride,\n",
    "                                                                                                        make_binary=False,\n",
    "                                                                                                        null_class=False,\n",
    "                                                                                                        print_info=True)"
   ]
  },
  {
   "cell_type": "markdown",
   "metadata": {},
   "source": [
    "### Model"
   ]
  },
  {
   "cell_type": "code",
   "execution_count": 14,
   "metadata": {},
   "outputs": [
    {
     "name": "stdout",
     "output_type": "stream",
     "text": [
      "_________________________________________________________________\n",
      "Layer (type)                 Output Shape              Param #   \n",
      "=================================================================\n",
      "batch_normalization_3 (Batch (None, 15, 110)           440       \n",
      "_________________________________________________________________\n",
      "conv1d_3 (Conv1D)            (None, 5, 36)             43596     \n",
      "_________________________________________________________________\n",
      "leaky_re_lu_5 (LeakyReLU)    (None, 5, 36)             0         \n",
      "_________________________________________________________________\n",
      "max_pooling1d_3 (MaxPooling1 (None, 2, 36)             0         \n",
      "_________________________________________________________________\n",
      "lstm_5 (LSTM)                (None, 2, 600)            1528800   \n",
      "_________________________________________________________________\n",
      "lstm_6 (LSTM)                (None, 600)               2882400   \n",
      "_________________________________________________________________\n",
      "dense_5 (Dense)              (None, 512)               307712    \n",
      "_________________________________________________________________\n",
      "leaky_re_lu_6 (LeakyReLU)    (None, 512)               0         \n",
      "_________________________________________________________________\n",
      "dense_6 (Dense)              (None, 17)                8721      \n",
      "=================================================================\n",
      "Total params: 4,771,669\n",
      "Trainable params: 4,771,449\n",
      "Non-trainable params: 220\n",
      "_________________________________________________________________\n"
     ]
    }
   ],
   "source": [
    "detection_model = models.MotionDetection((window_size, n_features), n_classes)\n",
    "\n",
    "detection_model.compile(optimizer = Adam(lr=0.001),\n",
    "                        loss = \"categorical_crossentropy\", \n",
    "                        metrics = [\"accuracy\", fmeasure])\n",
    "\n",
    "checkpointer = ModelCheckpoint(filepath='./weights_2.hdf5', verbose=1, save_best_only=True)"
   ]
  },
  {
   "cell_type": "markdown",
   "metadata": {},
   "source": [
    "### Training"
   ]
  },
  {
   "cell_type": "code",
   "execution_count": 15,
   "metadata": {},
   "outputs": [
    {
     "name": "stdout",
     "output_type": "stream",
     "text": [
      "Train on 39830 samples, validate on 8533 samples\n",
      "Epoch 1/20\n",
      "39830/39830 [==============================] - 79s 2ms/step - loss: 1.1229 - acc: 0.6110 - fmeasure: 0.6014 - val_loss: 1.1297 - val_acc: 0.6294 - val_fmeasure: 0.5754\n",
      "\n",
      "Epoch 00001: val_loss improved from inf to 1.12972, saving model to ./weights_2.hdf5\n",
      "Epoch 2/20\n",
      "39830/39830 [==============================] - 75s 2ms/step - loss: 0.7401 - acc: 0.7450 - fmeasure: 0.7447 - val_loss: 1.1364 - val_acc: 0.6442 - val_fmeasure: 0.6166\n",
      "\n",
      "Epoch 00002: val_loss did not improve\n",
      "Epoch 3/20\n",
      "39830/39830 [==============================] - 75s 2ms/step - loss: 0.6128 - acc: 0.7888 - fmeasure: 0.7918 - val_loss: 1.1308 - val_acc: 0.6601 - val_fmeasure: 0.6338\n",
      "\n",
      "Epoch 00003: val_loss did not improve\n",
      "Epoch 4/20\n",
      "39830/39830 [==============================] - 75s 2ms/step - loss: 0.5445 - acc: 0.8094 - fmeasure: 0.8150 - val_loss: 1.2089 - val_acc: 0.6585 - val_fmeasure: 0.6381\n",
      "\n",
      "Epoch 00004: val_loss did not improve\n",
      "Epoch 5/20\n",
      "39830/39830 [==============================] - 75s 2ms/step - loss: 0.4962 - acc: 0.8273 - fmeasure: 0.8322 - val_loss: 1.2817 - val_acc: 0.6470 - val_fmeasure: 0.6300\n",
      "\n",
      "Epoch 00005: val_loss did not improve\n",
      "Epoch 6/20\n",
      "39830/39830 [==============================] - 75s 2ms/step - loss: 0.4652 - acc: 0.8352 - fmeasure: 0.8426 - val_loss: 1.1901 - val_acc: 0.6673 - val_fmeasure: 0.6515\n",
      "\n",
      "Epoch 00006: val_loss did not improve\n",
      "Epoch 7/20\n",
      "39830/39830 [==============================] - 75s 2ms/step - loss: 0.4396 - acc: 0.8460 - fmeasure: 0.8507 - val_loss: 1.2274 - val_acc: 0.6672 - val_fmeasure: 0.6532\n",
      "\n",
      "Epoch 00007: val_loss did not improve\n",
      "Epoch 8/20\n",
      "39830/39830 [==============================] - 75s 2ms/step - loss: 0.4202 - acc: 0.8511 - fmeasure: 0.8567 - val_loss: 1.3130 - val_acc: 0.6687 - val_fmeasure: 0.6598\n",
      "\n",
      "Epoch 00008: val_loss did not improve\n",
      "Epoch 9/20\n",
      "39830/39830 [==============================] - 75s 2ms/step - loss: 0.4027 - acc: 0.8559 - fmeasure: 0.8608 - val_loss: 1.2915 - val_acc: 0.6715 - val_fmeasure: 0.6602\n",
      "\n",
      "Epoch 00009: val_loss did not improve\n",
      "Epoch 10/20\n",
      "39830/39830 [==============================] - 75s 2ms/step - loss: 0.3867 - acc: 0.8626 - fmeasure: 0.8678 - val_loss: 1.3401 - val_acc: 0.6619 - val_fmeasure: 0.6501\n",
      "\n",
      "Epoch 00010: val_loss did not improve\n",
      "Epoch 11/20\n",
      "39830/39830 [==============================] - 75s 2ms/step - loss: 0.3740 - acc: 0.8672 - fmeasure: 0.8719 - val_loss: 1.3023 - val_acc: 0.6695 - val_fmeasure: 0.6637\n",
      "\n",
      "Epoch 00011: val_loss did not improve\n",
      "Epoch 12/20\n",
      "39830/39830 [==============================] - 75s 2ms/step - loss: 0.3690 - acc: 0.8696 - fmeasure: 0.8738 - val_loss: 1.4239 - val_acc: 0.6608 - val_fmeasure: 0.6536\n",
      "\n",
      "Epoch 00012: val_loss did not improve\n",
      "Epoch 13/20\n",
      "39830/39830 [==============================] - 75s 2ms/step - loss: 0.3533 - acc: 0.8741 - fmeasure: 0.8779 - val_loss: 1.3628 - val_acc: 0.6702 - val_fmeasure: 0.6590\n",
      "\n",
      "Epoch 00013: val_loss did not improve\n",
      "Epoch 14/20\n",
      "39830/39830 [==============================] - 75s 2ms/step - loss: 0.3478 - acc: 0.8756 - fmeasure: 0.8808 - val_loss: 1.4640 - val_acc: 0.6587 - val_fmeasure: 0.6516\n",
      "\n",
      "Epoch 00014: val_loss did not improve\n",
      "Epoch 15/20\n",
      "39830/39830 [==============================] - 74s 2ms/step - loss: 0.3397 - acc: 0.8810 - fmeasure: 0.8853 - val_loss: 1.4353 - val_acc: 0.6605 - val_fmeasure: 0.6525\n",
      "\n",
      "Epoch 00015: val_loss did not improve\n",
      "Epoch 16/20\n",
      "39830/39830 [==============================] - 74s 2ms/step - loss: 0.3325 - acc: 0.8809 - fmeasure: 0.8856 - val_loss: 1.3867 - val_acc: 0.6664 - val_fmeasure: 0.6564\n",
      "\n",
      "Epoch 00016: val_loss did not improve\n",
      "Epoch 17/20\n",
      "39830/39830 [==============================] - 76s 2ms/step - loss: 0.3311 - acc: 0.8832 - fmeasure: 0.8880 - val_loss: 1.4132 - val_acc: 0.6696 - val_fmeasure: 0.6650\n",
      "\n",
      "Epoch 00017: val_loss did not improve\n",
      "Epoch 18/20\n",
      "39830/39830 [==============================] - 75s 2ms/step - loss: 0.3279 - acc: 0.8845 - fmeasure: 0.8880 - val_loss: 1.4293 - val_acc: 0.6678 - val_fmeasure: 0.6606\n",
      "\n",
      "Epoch 00018: val_loss did not improve\n",
      "Epoch 19/20\n",
      "39830/39830 [==============================] - 75s 2ms/step - loss: 0.3244 - acc: 0.8856 - fmeasure: 0.8899 - val_loss: 1.4814 - val_acc: 0.6619 - val_fmeasure: 0.6558\n",
      "\n",
      "Epoch 00019: val_loss did not improve\n",
      "Epoch 20/20\n",
      "39830/39830 [==============================] - 75s 2ms/step - loss: 0.3150 - acc: 0.8876 - fmeasure: 0.8921 - val_loss: 1.4766 - val_acc: 0.6666 - val_fmeasure: 0.6611\n",
      "\n",
      "Epoch 00020: val_loss did not improve\n"
     ]
    },
    {
     "data": {
      "text/plain": [
       "<keras.callbacks.History at 0x227c681f588>"
      ]
     },
     "execution_count": 15,
     "metadata": {},
     "output_type": "execute_result"
    }
   ],
   "source": [
    "detection_model.fit(x = X_train, \n",
    "                    y = Y_train, \n",
    "                    epochs = 20, \n",
    "                    batch_size = 16,\n",
    "                    verbose = 1,\n",
    "                    callbacks=[checkpointer],\n",
    "                    validation_data=(X_test, Y_test),\n",
    "                    class_weight=class_weights)"
   ]
  },
  {
   "cell_type": "markdown",
   "metadata": {},
   "source": [
    "### Evaluation"
   ]
  },
  {
   "cell_type": "code",
   "execution_count": 16,
   "metadata": {},
   "outputs": [
    {
     "name": "stdout",
     "output_type": "stream",
     "text": [
      "             precision    recall  f1-score   support\n",
      "\n",
      "          0       0.44      0.46      0.45       319\n",
      "          1       0.48      0.47      0.48       283\n",
      "          2       0.36      0.15      0.21       220\n",
      "          3       0.69      0.74      0.72       443\n",
      "          4       0.72      0.76      0.74       406\n",
      "          5       0.30      0.44      0.35       206\n",
      "          6       0.64      0.69      0.67       805\n",
      "          7       0.67      0.66      0.67       488\n",
      "          8       0.37      0.53      0.44       359\n",
      "          9       0.56      0.46      0.51       325\n",
      "         10       0.41      0.29      0.34       224\n",
      "         11       0.61      0.75      0.67       495\n",
      "         12       0.72      0.77      0.75       501\n",
      "         13       0.38      0.30      0.33       209\n",
      "         14       0.74      0.64      0.68       913\n",
      "         15       0.94      0.86      0.90      1843\n",
      "         16       0.69      0.74      0.72       494\n",
      "\n",
      "avg / total       0.67      0.67      0.67      8533\n",
      "\n"
     ]
    }
   ],
   "source": [
    "Y_pred = detection_model.predict(X_test)\n",
    "Y_pred = np.argmax(Y_pred, 1)\n",
    "\n",
    "print(classification_report(Y_test, to_categorical(Y_pred)))"
   ]
  },
  {
   "cell_type": "code",
   "execution_count": 17,
   "metadata": {},
   "outputs": [
    {
     "ename": "ValueError",
     "evalue": "Unknown metric function:fmeasure",
     "output_type": "error",
     "traceback": [
      "\u001b[1;31m---------------------------------------------------------------------------\u001b[0m",
      "\u001b[1;31mValueError\u001b[0m                                Traceback (most recent call last)",
      "\u001b[1;32m<ipython-input-17-05214d942f5a>\u001b[0m in \u001b[0;36m<module>\u001b[1;34m()\u001b[0m\n\u001b[1;32m----> 1\u001b[1;33m \u001b[0mdetection_model_best\u001b[0m \u001b[1;33m=\u001b[0m \u001b[0mload_model\u001b[0m\u001b[1;33m(\u001b[0m\u001b[1;34m'./weights_2.hdf5'\u001b[0m\u001b[1;33m)\u001b[0m\u001b[1;33m\u001b[0m\u001b[0m\n\u001b[0m\u001b[0;32m      2\u001b[0m \u001b[1;33m\u001b[0m\u001b[0m\n\u001b[0;32m      3\u001b[0m \u001b[0mY_pred\u001b[0m \u001b[1;33m=\u001b[0m \u001b[0mdetection_model\u001b[0m\u001b[1;33m.\u001b[0m\u001b[0mpredict\u001b[0m\u001b[1;33m(\u001b[0m\u001b[0mX_test\u001b[0m\u001b[1;33m)\u001b[0m\u001b[1;33m\u001b[0m\u001b[0m\n\u001b[0;32m      4\u001b[0m \u001b[0mY_pred\u001b[0m \u001b[1;33m=\u001b[0m \u001b[0mnp\u001b[0m\u001b[1;33m.\u001b[0m\u001b[0margmax\u001b[0m\u001b[1;33m(\u001b[0m\u001b[0mY_pred\u001b[0m\u001b[1;33m,\u001b[0m \u001b[1;36m1\u001b[0m\u001b[1;33m)\u001b[0m\u001b[1;33m\u001b[0m\u001b[0m\n\u001b[0;32m      5\u001b[0m \u001b[1;33m\u001b[0m\u001b[0m\n",
      "\u001b[1;32m~\\Anaconda3\\lib\\site-packages\\keras\\models.py\u001b[0m in \u001b[0;36mload_model\u001b[1;34m(filepath, custom_objects, compile)\u001b[0m\n\u001b[0;32m    272\u001b[0m                       \u001b[0mmetrics\u001b[0m\u001b[1;33m=\u001b[0m\u001b[0mmetrics\u001b[0m\u001b[1;33m,\u001b[0m\u001b[1;33m\u001b[0m\u001b[0m\n\u001b[0;32m    273\u001b[0m                       \u001b[0mloss_weights\u001b[0m\u001b[1;33m=\u001b[0m\u001b[0mloss_weights\u001b[0m\u001b[1;33m,\u001b[0m\u001b[1;33m\u001b[0m\u001b[0m\n\u001b[1;32m--> 274\u001b[1;33m                       sample_weight_mode=sample_weight_mode)\n\u001b[0m\u001b[0;32m    275\u001b[0m \u001b[1;33m\u001b[0m\u001b[0m\n\u001b[0;32m    276\u001b[0m         \u001b[1;31m# Set optimizer weights.\u001b[0m\u001b[1;33m\u001b[0m\u001b[1;33m\u001b[0m\u001b[0m\n",
      "\u001b[1;32m~\\Anaconda3\\lib\\site-packages\\keras\\models.py\u001b[0m in \u001b[0;36mcompile\u001b[1;34m(self, optimizer, loss, metrics, sample_weight_mode, weighted_metrics, target_tensors, **kwargs)\u001b[0m\n\u001b[0;32m    822\u001b[0m                            \u001b[0mweighted_metrics\u001b[0m\u001b[1;33m=\u001b[0m\u001b[0mweighted_metrics\u001b[0m\u001b[1;33m,\u001b[0m\u001b[1;33m\u001b[0m\u001b[0m\n\u001b[0;32m    823\u001b[0m                            \u001b[0mtarget_tensors\u001b[0m\u001b[1;33m=\u001b[0m\u001b[0mtarget_tensors\u001b[0m\u001b[1;33m,\u001b[0m\u001b[1;33m\u001b[0m\u001b[0m\n\u001b[1;32m--> 824\u001b[1;33m                            **kwargs)\n\u001b[0m\u001b[0;32m    825\u001b[0m         \u001b[0mself\u001b[0m\u001b[1;33m.\u001b[0m\u001b[0moptimizer\u001b[0m \u001b[1;33m=\u001b[0m \u001b[0mself\u001b[0m\u001b[1;33m.\u001b[0m\u001b[0mmodel\u001b[0m\u001b[1;33m.\u001b[0m\u001b[0moptimizer\u001b[0m\u001b[1;33m\u001b[0m\u001b[0m\n\u001b[0;32m    826\u001b[0m         \u001b[0mself\u001b[0m\u001b[1;33m.\u001b[0m\u001b[0mloss\u001b[0m \u001b[1;33m=\u001b[0m \u001b[0mself\u001b[0m\u001b[1;33m.\u001b[0m\u001b[0mmodel\u001b[0m\u001b[1;33m.\u001b[0m\u001b[0mloss\u001b[0m\u001b[1;33m\u001b[0m\u001b[0m\n",
      "\u001b[1;32m~\\Anaconda3\\lib\\site-packages\\keras\\engine\\training.py\u001b[0m in \u001b[0;36mcompile\u001b[1;34m(self, optimizer, loss, metrics, loss_weights, sample_weight_mode, weighted_metrics, target_tensors, **kwargs)\u001b[0m\n\u001b[0;32m    932\u001b[0m                             \u001b[0mself\u001b[0m\u001b[1;33m.\u001b[0m\u001b[0mmetrics_updates\u001b[0m \u001b[1;33m+=\u001b[0m \u001b[0mmetric_fn\u001b[0m\u001b[1;33m.\u001b[0m\u001b[0mupdates\u001b[0m\u001b[1;33m\u001b[0m\u001b[0m\n\u001b[0;32m    933\u001b[0m \u001b[1;33m\u001b[0m\u001b[0m\n\u001b[1;32m--> 934\u001b[1;33m                 \u001b[0mhandle_metrics\u001b[0m\u001b[1;33m(\u001b[0m\u001b[0moutput_metrics\u001b[0m\u001b[1;33m)\u001b[0m\u001b[1;33m\u001b[0m\u001b[0m\n\u001b[0m\u001b[0;32m    935\u001b[0m                 \u001b[0mhandle_metrics\u001b[0m\u001b[1;33m(\u001b[0m\u001b[0moutput_weighted_metrics\u001b[0m\u001b[1;33m,\u001b[0m \u001b[0mweights\u001b[0m\u001b[1;33m=\u001b[0m\u001b[0mweights\u001b[0m\u001b[1;33m)\u001b[0m\u001b[1;33m\u001b[0m\u001b[0m\n\u001b[0;32m    936\u001b[0m \u001b[1;33m\u001b[0m\u001b[0m\n",
      "\u001b[1;32m~\\Anaconda3\\lib\\site-packages\\keras\\engine\\training.py\u001b[0m in \u001b[0;36mhandle_metrics\u001b[1;34m(metrics, weights)\u001b[0m\n\u001b[0;32m    899\u001b[0m                             \u001b[0mmetric_name\u001b[0m \u001b[1;33m=\u001b[0m \u001b[0mmetric_name_prefix\u001b[0m \u001b[1;33m+\u001b[0m \u001b[0msuffix\u001b[0m\u001b[1;33m\u001b[0m\u001b[0m\n\u001b[0;32m    900\u001b[0m                         \u001b[1;32melse\u001b[0m\u001b[1;33m:\u001b[0m\u001b[1;33m\u001b[0m\u001b[0m\n\u001b[1;32m--> 901\u001b[1;33m                             \u001b[0mmetric_fn\u001b[0m \u001b[1;33m=\u001b[0m \u001b[0mmetrics_module\u001b[0m\u001b[1;33m.\u001b[0m\u001b[0mget\u001b[0m\u001b[1;33m(\u001b[0m\u001b[0mmetric\u001b[0m\u001b[1;33m)\u001b[0m\u001b[1;33m\u001b[0m\u001b[0m\n\u001b[0m\u001b[0;32m    902\u001b[0m                             \u001b[0mweighted_metric_fn\u001b[0m \u001b[1;33m=\u001b[0m \u001b[0m_weighted_masked_objective\u001b[0m\u001b[1;33m(\u001b[0m\u001b[0mmetric_fn\u001b[0m\u001b[1;33m)\u001b[0m\u001b[1;33m\u001b[0m\u001b[0m\n\u001b[0;32m    903\u001b[0m                             \u001b[1;31m# Get metric name as string\u001b[0m\u001b[1;33m\u001b[0m\u001b[1;33m\u001b[0m\u001b[0m\n",
      "\u001b[1;32m~\\Anaconda3\\lib\\site-packages\\keras\\metrics.py\u001b[0m in \u001b[0;36mget\u001b[1;34m(identifier)\u001b[0m\n\u001b[0;32m     73\u001b[0m         \u001b[1;32mreturn\u001b[0m \u001b[0mdeserialize\u001b[0m\u001b[1;33m(\u001b[0m\u001b[0mconfig\u001b[0m\u001b[1;33m)\u001b[0m\u001b[1;33m\u001b[0m\u001b[0m\n\u001b[0;32m     74\u001b[0m     \u001b[1;32melif\u001b[0m \u001b[0misinstance\u001b[0m\u001b[1;33m(\u001b[0m\u001b[0midentifier\u001b[0m\u001b[1;33m,\u001b[0m \u001b[0msix\u001b[0m\u001b[1;33m.\u001b[0m\u001b[0mstring_types\u001b[0m\u001b[1;33m)\u001b[0m\u001b[1;33m:\u001b[0m\u001b[1;33m\u001b[0m\u001b[0m\n\u001b[1;32m---> 75\u001b[1;33m         \u001b[1;32mreturn\u001b[0m \u001b[0mdeserialize\u001b[0m\u001b[1;33m(\u001b[0m\u001b[0mstr\u001b[0m\u001b[1;33m(\u001b[0m\u001b[0midentifier\u001b[0m\u001b[1;33m)\u001b[0m\u001b[1;33m)\u001b[0m\u001b[1;33m\u001b[0m\u001b[0m\n\u001b[0m\u001b[0;32m     76\u001b[0m     \u001b[1;32melif\u001b[0m \u001b[0mcallable\u001b[0m\u001b[1;33m(\u001b[0m\u001b[0midentifier\u001b[0m\u001b[1;33m)\u001b[0m\u001b[1;33m:\u001b[0m\u001b[1;33m\u001b[0m\u001b[0m\n\u001b[0;32m     77\u001b[0m         \u001b[1;32mreturn\u001b[0m \u001b[0midentifier\u001b[0m\u001b[1;33m\u001b[0m\u001b[0m\n",
      "\u001b[1;32m~\\Anaconda3\\lib\\site-packages\\keras\\metrics.py\u001b[0m in \u001b[0;36mdeserialize\u001b[1;34m(config, custom_objects)\u001b[0m\n\u001b[0;32m     65\u001b[0m                                     \u001b[0mmodule_objects\u001b[0m\u001b[1;33m=\u001b[0m\u001b[0mglobals\u001b[0m\u001b[1;33m(\u001b[0m\u001b[1;33m)\u001b[0m\u001b[1;33m,\u001b[0m\u001b[1;33m\u001b[0m\u001b[0m\n\u001b[0;32m     66\u001b[0m                                     \u001b[0mcustom_objects\u001b[0m\u001b[1;33m=\u001b[0m\u001b[0mcustom_objects\u001b[0m\u001b[1;33m,\u001b[0m\u001b[1;33m\u001b[0m\u001b[0m\n\u001b[1;32m---> 67\u001b[1;33m                                     printable_module_name='metric function')\n\u001b[0m\u001b[0;32m     68\u001b[0m \u001b[1;33m\u001b[0m\u001b[0m\n\u001b[0;32m     69\u001b[0m \u001b[1;33m\u001b[0m\u001b[0m\n",
      "\u001b[1;32m~\\Anaconda3\\lib\\site-packages\\keras\\utils\\generic_utils.py\u001b[0m in \u001b[0;36mdeserialize_keras_object\u001b[1;34m(identifier, module_objects, custom_objects, printable_module_name)\u001b[0m\n\u001b[0;32m    162\u001b[0m             \u001b[1;32mif\u001b[0m \u001b[0mfn\u001b[0m \u001b[1;32mis\u001b[0m \u001b[1;32mNone\u001b[0m\u001b[1;33m:\u001b[0m\u001b[1;33m\u001b[0m\u001b[0m\n\u001b[0;32m    163\u001b[0m                 raise ValueError('Unknown ' + printable_module_name +\n\u001b[1;32m--> 164\u001b[1;33m                                  ':' + function_name)\n\u001b[0m\u001b[0;32m    165\u001b[0m         \u001b[1;32mreturn\u001b[0m \u001b[0mfn\u001b[0m\u001b[1;33m\u001b[0m\u001b[0m\n\u001b[0;32m    166\u001b[0m     \u001b[1;32melse\u001b[0m\u001b[1;33m:\u001b[0m\u001b[1;33m\u001b[0m\u001b[0m\n",
      "\u001b[1;31mValueError\u001b[0m: Unknown metric function:fmeasure"
     ]
    }
   ],
   "source": [
    "detection_model_best = load_model('./weights_2.hdf5')\n",
    "\n",
    "Y_pred = detection_model.predict(X_test)\n",
    "Y_pred = np.argmax(Y_pred, 1)\n",
    "\n",
    "print(classification_report(Y_test, to_categorical(Y_pred)))"
   ]
  },
  {
   "cell_type": "markdown",
   "metadata": {},
   "source": [
    "## Activity detection (binary classification)\n",
    "### Preprocessing"
   ]
  },
  {
   "cell_type": "code",
   "execution_count": 18,
   "metadata": {},
   "outputs": [
    {
     "name": "stdout",
     "output_type": "stream",
     "text": [
      "\n",
      "Session shapes:\n",
      "ADL1:   (45810, 110)\n",
      "ADL2:   (28996, 110)\n",
      "ADL3:   (30167, 110)\n",
      "ADL4:   (30228, 110)\n",
      "ADL5:   (27308, 110)\n",
      "Drill:  (52152, 110)\n",
      "\n",
      "Features: 110 \n",
      "Classes: 2 \n",
      "Fraction of labels:   [0.66718646 0.33281354]\n",
      "\n",
      "Features: 110 \n",
      "Classes: 2 \n",
      "Fraction of labels:   [0.775402 0.224598]\n"
     ]
    }
   ],
   "source": [
    "X_train, Y_train, X_test, Y_test, n_features, n_classes, class_weights = preprocessing.loadData(subject=subject,\n",
    "                                                                                                label=label,\n",
    "                                                                                                folder=folder,\n",
    "                                                                                                window_size=window_size,\n",
    "                                                                                                stride=stride,\n",
    "                                                                                                make_binary=True,\n",
    "                                                                                                null_class=True,\n",
    "                                                                                                print_info=True)"
   ]
  },
  {
   "cell_type": "markdown",
   "metadata": {},
   "source": [
    "### Model"
   ]
  },
  {
   "cell_type": "code",
   "execution_count": 19,
   "metadata": {},
   "outputs": [
    {
     "name": "stdout",
     "output_type": "stream",
     "text": [
      "_________________________________________________________________\n",
      "Layer (type)                 Output Shape              Param #   \n",
      "=================================================================\n",
      "batch_normalization_4 (Batch (None, 15, 110)           440       \n",
      "_________________________________________________________________\n",
      "conv1d_4 (Conv1D)            (None, 5, 36)             43596     \n",
      "_________________________________________________________________\n",
      "leaky_re_lu_7 (LeakyReLU)    (None, 5, 36)             0         \n",
      "_________________________________________________________________\n",
      "max_pooling1d_4 (MaxPooling1 (None, 2, 36)             0         \n",
      "_________________________________________________________________\n",
      "lstm_7 (LSTM)                (None, 2, 600)            1528800   \n",
      "_________________________________________________________________\n",
      "lstm_8 (LSTM)                (None, 600)               2882400   \n",
      "_________________________________________________________________\n",
      "dense_7 (Dense)              (None, 512)               307712    \n",
      "_________________________________________________________________\n",
      "leaky_re_lu_8 (LeakyReLU)    (None, 512)               0         \n",
      "_________________________________________________________________\n",
      "dense_8 (Dense)              (None, 2)                 1026      \n",
      "=================================================================\n",
      "Total params: 4,763,974\n",
      "Trainable params: 4,763,754\n",
      "Non-trainable params: 220\n",
      "_________________________________________________________________\n"
     ]
    }
   ],
   "source": [
    "detection_model = models.MotionDetection((window_size, n_features), n_classes)\n",
    "\n",
    "detection_model.compile(optimizer = Adam(lr=0.001),\n",
    "                        loss = \"categorical_crossentropy\", \n",
    "                        metrics = [\"accuracy\", fmeasure])\n",
    "\n",
    "checkpointer = ModelCheckpoint(filepath='./weights_3.hdf5', verbose=1, save_best_only=True)"
   ]
  },
  {
   "cell_type": "code",
   "execution_count": 20,
   "metadata": {},
   "outputs": [
    {
     "name": "stdout",
     "output_type": "stream",
     "text": [
      "Train on 31423 samples, validate on 11505 samples\n",
      "Epoch 1/20\n",
      "31423/31423 [==============================] - 66s 2ms/step - loss: 0.2535 - acc: 0.8968 - fmeasure: 0.8968 - val_loss: 0.2881 - val_acc: 0.8795 - val_fmeasure: 0.8795\n",
      "\n",
      "Epoch 00001: val_loss improved from inf to 0.28809, saving model to ./weights_3.hdf5\n",
      "Epoch 2/20\n",
      "31423/31423 [==============================] - 61s 2ms/step - loss: 0.1832 - acc: 0.9281 - fmeasure: 0.9281 - val_loss: 0.2503 - val_acc: 0.9109 - val_fmeasure: 0.9109\n",
      "\n",
      "Epoch 00002: val_loss improved from 0.28809 to 0.25031, saving model to ./weights_3.hdf5\n",
      "Epoch 3/20\n",
      "31423/31423 [==============================] - 61s 2ms/step - loss: 0.1541 - acc: 0.9382 - fmeasure: 0.9382 - val_loss: 0.3410 - val_acc: 0.8827 - val_fmeasure: 0.8827\n",
      "\n",
      "Epoch 00003: val_loss did not improve\n",
      "Epoch 4/20\n",
      "31423/31423 [==============================] - 61s 2ms/step - loss: 0.1360 - acc: 0.9466 - fmeasure: 0.9466 - val_loss: 0.2004 - val_acc: 0.9251 - val_fmeasure: 0.9251\n",
      "\n",
      "Epoch 00004: val_loss improved from 0.25031 to 0.20039, saving model to ./weights_3.hdf5\n",
      "Epoch 5/20\n",
      "31423/31423 [==============================] - 61s 2ms/step - loss: 0.1238 - acc: 0.9519 - fmeasure: 0.9519 - val_loss: 0.2682 - val_acc: 0.9186 - val_fmeasure: 0.9186\n",
      "\n",
      "Epoch 00005: val_loss did not improve\n",
      "Epoch 6/20\n",
      "31423/31423 [==============================] - 61s 2ms/step - loss: 0.1160 - acc: 0.9531 - fmeasure: 0.9531 - val_loss: 0.2746 - val_acc: 0.9226 - val_fmeasure: 0.9226\n",
      "\n",
      "Epoch 00006: val_loss did not improve\n",
      "Epoch 7/20\n",
      "31423/31423 [==============================] - 61s 2ms/step - loss: 0.1083 - acc: 0.9573 - fmeasure: 0.9573 - val_loss: 0.2233 - val_acc: 0.9259 - val_fmeasure: 0.9259\n",
      "\n",
      "Epoch 00007: val_loss did not improve\n",
      "Epoch 8/20\n",
      "31423/31423 [==============================] - 61s 2ms/step - loss: 0.1003 - acc: 0.9614 - fmeasure: 0.9614 - val_loss: 0.2247 - val_acc: 0.9267 - val_fmeasure: 0.9267\n",
      "\n",
      "Epoch 00008: val_loss did not improve\n",
      "Epoch 9/20\n",
      "31423/31423 [==============================] - 61s 2ms/step - loss: 0.0939 - acc: 0.9637 - fmeasure: 0.9637 - val_loss: 0.2167 - val_acc: 0.9264 - val_fmeasure: 0.9264\n",
      "\n",
      "Epoch 00009: val_loss did not improve\n",
      "Epoch 10/20\n",
      "31423/31423 [==============================] - 61s 2ms/step - loss: 0.0904 - acc: 0.9635 - fmeasure: 0.9635 - val_loss: 0.2831 - val_acc: 0.9197 - val_fmeasure: 0.9197\n",
      "\n",
      "Epoch 00010: val_loss did not improve\n",
      "Epoch 11/20\n",
      "31423/31423 [==============================] - 61s 2ms/step - loss: 0.0867 - acc: 0.9655 - fmeasure: 0.9655 - val_loss: 0.3018 - val_acc: 0.9226 - val_fmeasure: 0.9226\n",
      "\n",
      "Epoch 00011: val_loss did not improve\n",
      "Epoch 12/20\n",
      "31423/31423 [==============================] - 61s 2ms/step - loss: 0.0852 - acc: 0.9659 - fmeasure: 0.9659 - val_loss: 0.2804 - val_acc: 0.9231 - val_fmeasure: 0.9231\n",
      "\n",
      "Epoch 00012: val_loss did not improve\n",
      "Epoch 13/20\n",
      "31423/31423 [==============================] - 61s 2ms/step - loss: 0.0790 - acc: 0.9687 - fmeasure: 0.9687 - val_loss: 0.2837 - val_acc: 0.9232 - val_fmeasure: 0.9232\n",
      "\n",
      "Epoch 00013: val_loss did not improve\n",
      "Epoch 14/20\n",
      "31423/31423 [==============================] - 61s 2ms/step - loss: 0.0760 - acc: 0.9710 - fmeasure: 0.9710 - val_loss: 0.2945 - val_acc: 0.9233 - val_fmeasure: 0.9233\n",
      "\n",
      "Epoch 00014: val_loss did not improve\n",
      "Epoch 15/20\n",
      "31423/31423 [==============================] - 61s 2ms/step - loss: 0.0738 - acc: 0.9701 - fmeasure: 0.9701 - val_loss: 0.2507 - val_acc: 0.9179 - val_fmeasure: 0.9179\n",
      "\n",
      "Epoch 00015: val_loss did not improve\n",
      "Epoch 16/20\n",
      "31423/31423 [==============================] - 61s 2ms/step - loss: 0.0720 - acc: 0.9709 - fmeasure: 0.9709 - val_loss: 0.2516 - val_acc: 0.9228 - val_fmeasure: 0.9228\n",
      "\n",
      "Epoch 00016: val_loss did not improve\n",
      "Epoch 17/20\n",
      "31423/31423 [==============================] - 61s 2ms/step - loss: 0.0707 - acc: 0.9723 - fmeasure: 0.9723 - val_loss: 0.3340 - val_acc: 0.9278 - val_fmeasure: 0.9278\n",
      "\n",
      "Epoch 00017: val_loss did not improve\n",
      "Epoch 18/20\n",
      "31423/31423 [==============================] - 61s 2ms/step - loss: 0.0695 - acc: 0.9718 - fmeasure: 0.9718 - val_loss: 0.3482 - val_acc: 0.9154 - val_fmeasure: 0.9154\n",
      "\n",
      "Epoch 00018: val_loss did not improve\n",
      "Epoch 19/20\n",
      "31423/31423 [==============================] - 61s 2ms/step - loss: 0.0685 - acc: 0.9736 - fmeasure: 0.9736 - val_loss: 0.2364 - val_acc: 0.9184 - val_fmeasure: 0.9184\n",
      "\n",
      "Epoch 00019: val_loss did not improve\n",
      "Epoch 20/20\n",
      "31423/31423 [==============================] - 61s 2ms/step - loss: 0.0686 - acc: 0.9728 - fmeasure: 0.9728 - val_loss: 0.2731 - val_acc: 0.9224 - val_fmeasure: 0.9224\n",
      "\n",
      "Epoch 00020: val_loss did not improve\n"
     ]
    },
    {
     "data": {
      "text/plain": [
       "<keras.callbacks.History at 0x227c61baeb8>"
      ]
     },
     "execution_count": 20,
     "metadata": {},
     "output_type": "execute_result"
    }
   ],
   "source": [
    "detection_model.fit(x = X_train, \n",
    "                    y = Y_train, \n",
    "                    epochs = 20, \n",
    "                    batch_size = 16,\n",
    "                    verbose = 1,\n",
    "                    callbacks=[checkpointer],\n",
    "                    validation_data=(X_test, Y_test),\n",
    "                    class_weight=class_weights)"
   ]
  },
  {
   "cell_type": "markdown",
   "metadata": {},
   "source": [
    "### Evaluation"
   ]
  },
  {
   "cell_type": "code",
   "execution_count": 21,
   "metadata": {},
   "outputs": [
    {
     "name": "stdout",
     "output_type": "stream",
     "text": [
      "             precision    recall  f1-score   support\n",
      "\n",
      "          0       0.94      0.96      0.95      8921\n",
      "          1       0.85      0.79      0.82      2584\n",
      "\n",
      "avg / total       0.92      0.92      0.92     11505\n",
      "\n"
     ]
    }
   ],
   "source": [
    "Y_pred = detection_model.predict(X_test)\n",
    "Y_pred = np.argmax(Y_pred, 1)\n",
    "\n",
    "print(classification_report(Y_test, to_categorical(Y_pred)))"
   ]
  },
  {
   "cell_type": "code",
   "execution_count": 22,
   "metadata": {},
   "outputs": [
    {
     "ename": "ValueError",
     "evalue": "Unknown metric function:fmeasure",
     "output_type": "error",
     "traceback": [
      "\u001b[1;31m---------------------------------------------------------------------------\u001b[0m",
      "\u001b[1;31mValueError\u001b[0m                                Traceback (most recent call last)",
      "\u001b[1;32m<ipython-input-22-fd79b668ce64>\u001b[0m in \u001b[0;36m<module>\u001b[1;34m()\u001b[0m\n\u001b[1;32m----> 1\u001b[1;33m \u001b[0mdetection_model_best\u001b[0m \u001b[1;33m=\u001b[0m \u001b[0mload_model\u001b[0m\u001b[1;33m(\u001b[0m\u001b[1;34m'./weights_3.hdf5'\u001b[0m\u001b[1;33m)\u001b[0m\u001b[1;33m\u001b[0m\u001b[0m\n\u001b[0m\u001b[0;32m      2\u001b[0m \u001b[1;33m\u001b[0m\u001b[0m\n\u001b[0;32m      3\u001b[0m \u001b[0mY_pred\u001b[0m \u001b[1;33m=\u001b[0m \u001b[0mdetection_model\u001b[0m\u001b[1;33m.\u001b[0m\u001b[0mpredict\u001b[0m\u001b[1;33m(\u001b[0m\u001b[0mX_test\u001b[0m\u001b[1;33m)\u001b[0m\u001b[1;33m\u001b[0m\u001b[0m\n\u001b[0;32m      4\u001b[0m \u001b[0mY_pred\u001b[0m \u001b[1;33m=\u001b[0m \u001b[0mnp\u001b[0m\u001b[1;33m.\u001b[0m\u001b[0margmax\u001b[0m\u001b[1;33m(\u001b[0m\u001b[0mY_pred\u001b[0m\u001b[1;33m,\u001b[0m \u001b[1;36m1\u001b[0m\u001b[1;33m)\u001b[0m\u001b[1;33m\u001b[0m\u001b[0m\n\u001b[0;32m      5\u001b[0m \u001b[1;33m\u001b[0m\u001b[0m\n",
      "\u001b[1;32m~\\Anaconda3\\lib\\site-packages\\keras\\models.py\u001b[0m in \u001b[0;36mload_model\u001b[1;34m(filepath, custom_objects, compile)\u001b[0m\n\u001b[0;32m    272\u001b[0m                       \u001b[0mmetrics\u001b[0m\u001b[1;33m=\u001b[0m\u001b[0mmetrics\u001b[0m\u001b[1;33m,\u001b[0m\u001b[1;33m\u001b[0m\u001b[0m\n\u001b[0;32m    273\u001b[0m                       \u001b[0mloss_weights\u001b[0m\u001b[1;33m=\u001b[0m\u001b[0mloss_weights\u001b[0m\u001b[1;33m,\u001b[0m\u001b[1;33m\u001b[0m\u001b[0m\n\u001b[1;32m--> 274\u001b[1;33m                       sample_weight_mode=sample_weight_mode)\n\u001b[0m\u001b[0;32m    275\u001b[0m \u001b[1;33m\u001b[0m\u001b[0m\n\u001b[0;32m    276\u001b[0m         \u001b[1;31m# Set optimizer weights.\u001b[0m\u001b[1;33m\u001b[0m\u001b[1;33m\u001b[0m\u001b[0m\n",
      "\u001b[1;32m~\\Anaconda3\\lib\\site-packages\\keras\\models.py\u001b[0m in \u001b[0;36mcompile\u001b[1;34m(self, optimizer, loss, metrics, sample_weight_mode, weighted_metrics, target_tensors, **kwargs)\u001b[0m\n\u001b[0;32m    822\u001b[0m                            \u001b[0mweighted_metrics\u001b[0m\u001b[1;33m=\u001b[0m\u001b[0mweighted_metrics\u001b[0m\u001b[1;33m,\u001b[0m\u001b[1;33m\u001b[0m\u001b[0m\n\u001b[0;32m    823\u001b[0m                            \u001b[0mtarget_tensors\u001b[0m\u001b[1;33m=\u001b[0m\u001b[0mtarget_tensors\u001b[0m\u001b[1;33m,\u001b[0m\u001b[1;33m\u001b[0m\u001b[0m\n\u001b[1;32m--> 824\u001b[1;33m                            **kwargs)\n\u001b[0m\u001b[0;32m    825\u001b[0m         \u001b[0mself\u001b[0m\u001b[1;33m.\u001b[0m\u001b[0moptimizer\u001b[0m \u001b[1;33m=\u001b[0m \u001b[0mself\u001b[0m\u001b[1;33m.\u001b[0m\u001b[0mmodel\u001b[0m\u001b[1;33m.\u001b[0m\u001b[0moptimizer\u001b[0m\u001b[1;33m\u001b[0m\u001b[0m\n\u001b[0;32m    826\u001b[0m         \u001b[0mself\u001b[0m\u001b[1;33m.\u001b[0m\u001b[0mloss\u001b[0m \u001b[1;33m=\u001b[0m \u001b[0mself\u001b[0m\u001b[1;33m.\u001b[0m\u001b[0mmodel\u001b[0m\u001b[1;33m.\u001b[0m\u001b[0mloss\u001b[0m\u001b[1;33m\u001b[0m\u001b[0m\n",
      "\u001b[1;32m~\\Anaconda3\\lib\\site-packages\\keras\\engine\\training.py\u001b[0m in \u001b[0;36mcompile\u001b[1;34m(self, optimizer, loss, metrics, loss_weights, sample_weight_mode, weighted_metrics, target_tensors, **kwargs)\u001b[0m\n\u001b[0;32m    932\u001b[0m                             \u001b[0mself\u001b[0m\u001b[1;33m.\u001b[0m\u001b[0mmetrics_updates\u001b[0m \u001b[1;33m+=\u001b[0m \u001b[0mmetric_fn\u001b[0m\u001b[1;33m.\u001b[0m\u001b[0mupdates\u001b[0m\u001b[1;33m\u001b[0m\u001b[0m\n\u001b[0;32m    933\u001b[0m \u001b[1;33m\u001b[0m\u001b[0m\n\u001b[1;32m--> 934\u001b[1;33m                 \u001b[0mhandle_metrics\u001b[0m\u001b[1;33m(\u001b[0m\u001b[0moutput_metrics\u001b[0m\u001b[1;33m)\u001b[0m\u001b[1;33m\u001b[0m\u001b[0m\n\u001b[0m\u001b[0;32m    935\u001b[0m                 \u001b[0mhandle_metrics\u001b[0m\u001b[1;33m(\u001b[0m\u001b[0moutput_weighted_metrics\u001b[0m\u001b[1;33m,\u001b[0m \u001b[0mweights\u001b[0m\u001b[1;33m=\u001b[0m\u001b[0mweights\u001b[0m\u001b[1;33m)\u001b[0m\u001b[1;33m\u001b[0m\u001b[0m\n\u001b[0;32m    936\u001b[0m \u001b[1;33m\u001b[0m\u001b[0m\n",
      "\u001b[1;32m~\\Anaconda3\\lib\\site-packages\\keras\\engine\\training.py\u001b[0m in \u001b[0;36mhandle_metrics\u001b[1;34m(metrics, weights)\u001b[0m\n\u001b[0;32m    899\u001b[0m                             \u001b[0mmetric_name\u001b[0m \u001b[1;33m=\u001b[0m \u001b[0mmetric_name_prefix\u001b[0m \u001b[1;33m+\u001b[0m \u001b[0msuffix\u001b[0m\u001b[1;33m\u001b[0m\u001b[0m\n\u001b[0;32m    900\u001b[0m                         \u001b[1;32melse\u001b[0m\u001b[1;33m:\u001b[0m\u001b[1;33m\u001b[0m\u001b[0m\n\u001b[1;32m--> 901\u001b[1;33m                             \u001b[0mmetric_fn\u001b[0m \u001b[1;33m=\u001b[0m \u001b[0mmetrics_module\u001b[0m\u001b[1;33m.\u001b[0m\u001b[0mget\u001b[0m\u001b[1;33m(\u001b[0m\u001b[0mmetric\u001b[0m\u001b[1;33m)\u001b[0m\u001b[1;33m\u001b[0m\u001b[0m\n\u001b[0m\u001b[0;32m    902\u001b[0m                             \u001b[0mweighted_metric_fn\u001b[0m \u001b[1;33m=\u001b[0m \u001b[0m_weighted_masked_objective\u001b[0m\u001b[1;33m(\u001b[0m\u001b[0mmetric_fn\u001b[0m\u001b[1;33m)\u001b[0m\u001b[1;33m\u001b[0m\u001b[0m\n\u001b[0;32m    903\u001b[0m                             \u001b[1;31m# Get metric name as string\u001b[0m\u001b[1;33m\u001b[0m\u001b[1;33m\u001b[0m\u001b[0m\n",
      "\u001b[1;32m~\\Anaconda3\\lib\\site-packages\\keras\\metrics.py\u001b[0m in \u001b[0;36mget\u001b[1;34m(identifier)\u001b[0m\n\u001b[0;32m     73\u001b[0m         \u001b[1;32mreturn\u001b[0m \u001b[0mdeserialize\u001b[0m\u001b[1;33m(\u001b[0m\u001b[0mconfig\u001b[0m\u001b[1;33m)\u001b[0m\u001b[1;33m\u001b[0m\u001b[0m\n\u001b[0;32m     74\u001b[0m     \u001b[1;32melif\u001b[0m \u001b[0misinstance\u001b[0m\u001b[1;33m(\u001b[0m\u001b[0midentifier\u001b[0m\u001b[1;33m,\u001b[0m \u001b[0msix\u001b[0m\u001b[1;33m.\u001b[0m\u001b[0mstring_types\u001b[0m\u001b[1;33m)\u001b[0m\u001b[1;33m:\u001b[0m\u001b[1;33m\u001b[0m\u001b[0m\n\u001b[1;32m---> 75\u001b[1;33m         \u001b[1;32mreturn\u001b[0m \u001b[0mdeserialize\u001b[0m\u001b[1;33m(\u001b[0m\u001b[0mstr\u001b[0m\u001b[1;33m(\u001b[0m\u001b[0midentifier\u001b[0m\u001b[1;33m)\u001b[0m\u001b[1;33m)\u001b[0m\u001b[1;33m\u001b[0m\u001b[0m\n\u001b[0m\u001b[0;32m     76\u001b[0m     \u001b[1;32melif\u001b[0m \u001b[0mcallable\u001b[0m\u001b[1;33m(\u001b[0m\u001b[0midentifier\u001b[0m\u001b[1;33m)\u001b[0m\u001b[1;33m:\u001b[0m\u001b[1;33m\u001b[0m\u001b[0m\n\u001b[0;32m     77\u001b[0m         \u001b[1;32mreturn\u001b[0m \u001b[0midentifier\u001b[0m\u001b[1;33m\u001b[0m\u001b[0m\n",
      "\u001b[1;32m~\\Anaconda3\\lib\\site-packages\\keras\\metrics.py\u001b[0m in \u001b[0;36mdeserialize\u001b[1;34m(config, custom_objects)\u001b[0m\n\u001b[0;32m     65\u001b[0m                                     \u001b[0mmodule_objects\u001b[0m\u001b[1;33m=\u001b[0m\u001b[0mglobals\u001b[0m\u001b[1;33m(\u001b[0m\u001b[1;33m)\u001b[0m\u001b[1;33m,\u001b[0m\u001b[1;33m\u001b[0m\u001b[0m\n\u001b[0;32m     66\u001b[0m                                     \u001b[0mcustom_objects\u001b[0m\u001b[1;33m=\u001b[0m\u001b[0mcustom_objects\u001b[0m\u001b[1;33m,\u001b[0m\u001b[1;33m\u001b[0m\u001b[0m\n\u001b[1;32m---> 67\u001b[1;33m                                     printable_module_name='metric function')\n\u001b[0m\u001b[0;32m     68\u001b[0m \u001b[1;33m\u001b[0m\u001b[0m\n\u001b[0;32m     69\u001b[0m \u001b[1;33m\u001b[0m\u001b[0m\n",
      "\u001b[1;32m~\\Anaconda3\\lib\\site-packages\\keras\\utils\\generic_utils.py\u001b[0m in \u001b[0;36mdeserialize_keras_object\u001b[1;34m(identifier, module_objects, custom_objects, printable_module_name)\u001b[0m\n\u001b[0;32m    162\u001b[0m             \u001b[1;32mif\u001b[0m \u001b[0mfn\u001b[0m \u001b[1;32mis\u001b[0m \u001b[1;32mNone\u001b[0m\u001b[1;33m:\u001b[0m\u001b[1;33m\u001b[0m\u001b[0m\n\u001b[0;32m    163\u001b[0m                 raise ValueError('Unknown ' + printable_module_name +\n\u001b[1;32m--> 164\u001b[1;33m                                  ':' + function_name)\n\u001b[0m\u001b[0;32m    165\u001b[0m         \u001b[1;32mreturn\u001b[0m \u001b[0mfn\u001b[0m\u001b[1;33m\u001b[0m\u001b[0m\n\u001b[0;32m    166\u001b[0m     \u001b[1;32melse\u001b[0m\u001b[1;33m:\u001b[0m\u001b[1;33m\u001b[0m\u001b[0m\n",
      "\u001b[1;31mValueError\u001b[0m: Unknown metric function:fmeasure"
     ]
    }
   ],
   "source": [
    "detection_model_best = load_model('./weights_3.hdf5')\n",
    "\n",
    "Y_pred = detection_model.predict(X_test)\n",
    "Y_pred = np.argmax(Y_pred, 1)\n",
    "\n",
    "print(classification_report(Y_test, to_categorical(Y_pred)))"
   ]
  },
  {
   "cell_type": "code",
   "execution_count": null,
   "metadata": {},
   "outputs": [],
   "source": []
  }
 ],
 "metadata": {
  "kernelspec": {
   "display_name": "Python 3",
   "language": "python",
   "name": "python3"
  },
  "language_info": {
   "codemirror_mode": {
    "name": "ipython",
    "version": 3
   },
   "file_extension": ".py",
   "mimetype": "text/x-python",
   "name": "python",
   "nbconvert_exporter": "python",
   "pygments_lexer": "ipython3",
   "version": "3.6.4"
  }
 },
 "nbformat": 4,
 "nbformat_minor": 2
}
