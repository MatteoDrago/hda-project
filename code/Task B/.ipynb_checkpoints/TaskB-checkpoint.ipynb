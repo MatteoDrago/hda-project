{
 "cells": [
  {
   "cell_type": "markdown",
   "metadata": {},
   "source": [
    "# Task B - single subject - model ?\n",
    "\n",
    "## Notebook setup\n",
    "This first cell contains the parameters that can be tuned for code execution:\n",
    "- subject: select the subject on which to test the model, between [1,4];\n",
    "- label: index of feature column to be selected to perform activity detection, between [0,6]. The default value for task B is 6;\n",
    "- folder: directory name where '.mat' files are stored;\n",
    "- window_size: parameter that sets the length of temporal windows on which to perform the convolution;\n",
    "- stride: step length to chose the next window."
   ]
  },
  {
   "cell_type": "code",
   "execution_count": 1,
   "metadata": {},
   "outputs": [],
   "source": [
    "subject = 3\n",
    "label = 6\n",
    "folder = \"../data/full/\"\n",
    "window_size = 15\n",
    "stride = 5"
   ]
  },
  {
   "cell_type": "code",
   "execution_count": 24,
   "metadata": {},
   "outputs": [],
   "source": [
    "import preprocessing\n",
    "import models\n",
    "import utils\n",
    "import numpy as np\n",
    "import seaborn as sns\n",
    "import matplotlib.pyplot as plt\n",
    "from sklearn.metrics import classification_report, f1_score, confusion_matrix\n",
    "from keras.models import load_model\n",
    "from keras.optimizers import Adam\n",
    "from keras.callbacks import ModelCheckpoint\n",
    "from keras.utils import to_categorical"
   ]
  },
  {
   "cell_type": "markdown",
   "metadata": {},
   "source": [
    "In the following cell, we make use of some functions of Keras which have been removed, but of which the code is still available at https://github.com/keras-team/keras/commit/a56b1a55182acf061b1eb2e2c86b48193a0e88f7. These are used to evaulate the f1 score during training on batches of data: this is only an approximation though, which is the reason why they have been removed."
   ]
  },
  {
   "cell_type": "code",
   "execution_count": 4,
   "metadata": {},
   "outputs": [],
   "source": [
    "import os\n",
    "if not(os.path.exists(\"./data\")):\n",
    "    os.mkdir(\"./data\")"
   ]
  },
  {
   "cell_type": "markdown",
   "metadata": {},
   "source": [
    "# One-shot classification\n",
    "Here classification is performed with null class.\n",
    "### Preprocessing"
   ]
  },
  {
   "cell_type": "code",
   "execution_count": 5,
   "metadata": {},
   "outputs": [],
   "source": [
    "X_train, Y_train, X_test, Y_test, n_features, n_classes, class_weights = preprocessing.loadData(subject=subject,\n",
    "                                                                                                label=label,\n",
    "                                                                                                folder=folder,\n",
    "                                                                                                window_size=window_size,\n",
    "                                                                                                stride=stride,\n",
    "                                                                                                make_binary=False,\n",
    "                                                                                                null_class=True,\n",
    "                                                                                                print_info=False)"
   ]
  },
  {
   "cell_type": "markdown",
   "metadata": {},
   "source": [
    "Y_train and Y_test contain the correct labels for each signals window. Y_test in particular will be used to evaluate predictions for both this (one-shot) and the two-steps models. For this reason it is here saved with a different name, to avoid having it being overwritten later."
   ]
  },
  {
   "cell_type": "code",
   "execution_count": 6,
   "metadata": {},
   "outputs": [],
   "source": [
    "Y_test_true = Y_test"
   ]
  },
  {
   "cell_type": "markdown",
   "metadata": {},
   "source": [
    "### Model"
   ]
  },
  {
   "cell_type": "code",
   "execution_count": 7,
   "metadata": {},
   "outputs": [],
   "source": [
    "oneshot_model = models.MotionDetection((window_size, n_features), n_classes, print_info=False)\n",
    "\n",
    "oneshot_model.compile(optimizer = Adam(lr=0.001),\n",
    "                      loss = \"categorical_crossentropy\", \n",
    "                      metrics = [\"accuracy\"])\n",
    "\n",
    "checkpointer = ModelCheckpoint(filepath='./data/model_BOS_3.hdf5', verbose=1, save_best_only=True)"
   ]
  },
  {
   "cell_type": "markdown",
   "metadata": {},
   "source": [
    "### Training"
   ]
  },
  {
   "cell_type": "code",
   "execution_count": 8,
   "metadata": {},
   "outputs": [
    {
     "data": {
      "text/plain": [
       "(30017, 15, 110)"
      ]
     },
     "execution_count": 8,
     "metadata": {},
     "output_type": "execute_result"
    }
   ],
   "source": [
    "X_train.shape"
   ]
  },
  {
   "cell_type": "code",
   "execution_count": 9,
   "metadata": {},
   "outputs": [
    {
     "name": "stdout",
     "output_type": "stream",
     "text": [
      "Train on 30017 samples, validate on 9799 samples\n",
      "Epoch 1/15\n",
      "30017/30017 [==============================] - 15s 506us/step - loss: 0.7604 - acc: 0.7747 - val_loss: 0.5319 - val_acc: 0.8294\n",
      "\n",
      "Epoch 00001: val_loss improved from inf to 0.53194, saving model to ./data/model_BOS_3.hdf5\n",
      "Epoch 2/15\n",
      "30017/30017 [==============================] - 10s 322us/step - loss: 0.4134 - acc: 0.8607 - val_loss: 0.4999 - val_acc: 0.8418\n",
      "\n",
      "Epoch 00002: val_loss improved from 0.53194 to 0.49987, saving model to ./data/model_BOS_3.hdf5\n",
      "Epoch 3/15\n",
      "30017/30017 [==============================] - 10s 323us/step - loss: 0.3144 - acc: 0.8906 - val_loss: 0.4298 - val_acc: 0.8512\n",
      "\n",
      "Epoch 00003: val_loss improved from 0.49987 to 0.42975, saving model to ./data/model_BOS_3.hdf5\n",
      "Epoch 4/15\n",
      "30017/30017 [==============================] - 10s 324us/step - loss: 0.2547 - acc: 0.9129 - val_loss: 0.4926 - val_acc: 0.8372\n",
      "\n",
      "Epoch 00004: val_loss did not improve\n",
      "Epoch 5/15\n",
      "30017/30017 [==============================] - 10s 326us/step - loss: 0.2124 - acc: 0.9271 - val_loss: 0.5107 - val_acc: 0.8523\n",
      "\n",
      "Epoch 00005: val_loss did not improve\n",
      "Epoch 6/15\n",
      "30017/30017 [==============================] - 10s 327us/step - loss: 0.1734 - acc: 0.9392 - val_loss: 0.5038 - val_acc: 0.8554\n",
      "\n",
      "Epoch 00006: val_loss did not improve\n",
      "Epoch 7/15\n",
      "30017/30017 [==============================] - 10s 327us/step - loss: 0.1514 - acc: 0.9446 - val_loss: 0.5215 - val_acc: 0.8596\n",
      "\n",
      "Epoch 00007: val_loss did not improve\n",
      "Epoch 8/15\n",
      "30017/30017 [==============================] - 10s 327us/step - loss: 0.1383 - acc: 0.9509 - val_loss: 0.6132 - val_acc: 0.8531\n",
      "\n",
      "Epoch 00008: val_loss did not improve\n",
      "Epoch 9/15\n",
      "30017/30017 [==============================] - 10s 326us/step - loss: 0.1257 - acc: 0.9544 - val_loss: 0.6004 - val_acc: 0.8535\n",
      "\n",
      "Epoch 00009: val_loss did not improve\n",
      "Epoch 10/15\n",
      "30017/30017 [==============================] - 10s 326us/step - loss: 0.1187 - acc: 0.9564 - val_loss: 0.6240 - val_acc: 0.8444\n",
      "\n",
      "Epoch 00010: val_loss did not improve\n",
      "Epoch 11/15\n",
      "30017/30017 [==============================] - 10s 326us/step - loss: 0.1081 - acc: 0.9608 - val_loss: 0.5836 - val_acc: 0.8591\n",
      "\n",
      "Epoch 00011: val_loss did not improve\n",
      "Epoch 12/15\n",
      "30017/30017 [==============================] - 10s 325us/step - loss: 0.0987 - acc: 0.9643 - val_loss: 0.6154 - val_acc: 0.8684\n",
      "\n",
      "Epoch 00012: val_loss did not improve\n",
      "Epoch 13/15\n",
      "30017/30017 [==============================] - 10s 326us/step - loss: 0.0917 - acc: 0.9654 - val_loss: 0.5849 - val_acc: 0.8717\n",
      "\n",
      "Epoch 00013: val_loss did not improve\n",
      "Epoch 14/15\n",
      "30017/30017 [==============================] - 10s 325us/step - loss: 0.0846 - acc: 0.9688 - val_loss: 0.6540 - val_acc: 0.8708\n",
      "\n",
      "Epoch 00014: val_loss did not improve\n",
      "Epoch 15/15\n",
      "30017/30017 [==============================] - 10s 325us/step - loss: 0.0829 - acc: 0.9694 - val_loss: 0.6990 - val_acc: 0.8646\n",
      "\n",
      "Epoch 00015: val_loss did not improve\n"
     ]
    },
    {
     "data": {
      "text/plain": [
       "<keras.callbacks.History at 0x1cd9109dd30>"
      ]
     },
     "execution_count": 9,
     "metadata": {},
     "output_type": "execute_result"
    }
   ],
   "source": [
    "oneshot_model.fit(x = X_train, \n",
    "                  y = to_categorical(Y_train),\n",
    "                  epochs = 15,\n",
    "                  batch_size = 128,\n",
    "                  verbose = 1,\n",
    "                  callbacks=[checkpointer],\n",
    "                  validation_data=(X_test, to_categorical(Y_test)),\n",
    "                  class_weight=class_weights)"
   ]
  },
  {
   "cell_type": "markdown",
   "metadata": {},
   "source": [
    "### Evaluation - passare class_weights a class report"
   ]
  },
  {
   "cell_type": "code",
   "execution_count": 13,
   "metadata": {},
   "outputs": [
    {
     "name": "stdout",
     "output_type": "stream",
     "text": [
      "             precision    recall  f1-score   support\n",
      "\n",
      "          0       0.92      0.93      0.93      7668\n",
      "          1       0.32      0.41      0.36        80\n",
      "          2       0.59      0.70      0.64        69\n",
      "          3       0.60      0.56      0.58        32\n",
      "          4       0.57      0.59      0.58        91\n",
      "          5       0.89      0.83      0.86        89\n",
      "          6       0.48      0.32      0.38        69\n",
      "          7       0.55      0.80      0.65       171\n",
      "          8       0.79      0.11      0.19       136\n",
      "          9       0.57      0.40      0.47        97\n",
      "         10       0.51      0.50      0.50        84\n",
      "         11       0.57      0.48      0.52        50\n",
      "         12       0.70      0.79      0.74        72\n",
      "         13       0.89      0.93      0.91       117\n",
      "         14       0.79      0.64      0.71        42\n",
      "         15       0.69      0.53      0.60       285\n",
      "         16       0.79      0.75      0.77       575\n",
      "         17       0.34      0.92      0.49        72\n",
      "\n",
      "avg / total       0.87      0.86      0.86      9799\n",
      "\n",
      "Weighted f1-score: 0.8620784799122958\n"
     ]
    }
   ],
   "source": [
    "Y_pred = oneshot_model.predict_classes(X_test)\n",
    "print(classification_report(Y_test, Y_pred))\n",
    "print(\"Weighted f1-score:\", f1_score(Y_test, Y_pred, average='weighted'))"
   ]
  },
  {
   "cell_type": "code",
   "execution_count": 14,
   "metadata": {},
   "outputs": [
    {
     "name": "stdout",
     "output_type": "stream",
     "text": [
      "             precision    recall  f1-score   support\n",
      "\n",
      "          0       0.91      0.93      0.92      7668\n",
      "          1       0.65      0.19      0.29        80\n",
      "          2       0.47      0.62      0.53        69\n",
      "          3       0.23      0.34      0.28        32\n",
      "          4       0.52      0.58      0.55        91\n",
      "          5       0.67      0.79      0.72        89\n",
      "          6       0.52      0.46      0.49        69\n",
      "          7       0.63      0.73      0.67       171\n",
      "          8       0.91      0.24      0.37       136\n",
      "          9       0.62      0.27      0.37        97\n",
      "         10       0.48      0.25      0.33        84\n",
      "         11       1.00      0.06      0.11        50\n",
      "         12       0.52      0.65      0.58        72\n",
      "         13       0.80      0.73      0.76       117\n",
      "         14       0.35      0.62      0.44        42\n",
      "         15       0.63      0.65      0.64       285\n",
      "         16       0.78      0.59      0.67       575\n",
      "         17       0.32      0.85      0.46        72\n",
      "\n",
      "avg / total       0.86      0.85      0.85      9799\n",
      "\n",
      "Weighted f1-score: 0.8456265572402276\n"
     ]
    }
   ],
   "source": [
    "oneshot_model_best = load_model('./data/model_BOS_3.hdf5')\n",
    "\n",
    "Y_pred = oneshot_model_best.predict_classes(X_test)\n",
    "print(classification_report(Y_test, Y_pred))\n",
    "print(\"Weighted f1-score:\", f1_score(Y_test, Y_pred, average='weighted'))"
   ]
  },
  {
   "cell_type": "code",
   "execution_count": 28,
   "metadata": {},
   "outputs": [
    {
     "data": {
      "image/png": "[encoded data removed]",
      "text/plain": [
       "<Figure size 432x288 with 2 Axes>"
      ]
     },
     "metadata": {},
     "output_type": "display_data"
    }
   ],
   "source": [
    "cnf_matrix = confusion_matrix(Y_test, Y_pred)\n",
    "np.set_printoptions(precision=2)\n",
    "\n",
    "sns.set_style(\"dark\")\n",
    "plt.figure()\n",
    "utils.plot_confusion_matrix(cnf_matrix, classes=[0,1],\n",
    "                      title='Confusion matrix, without normalization')"
   ]
  },
  {
   "cell_type": "markdown",
   "metadata": {},
   "source": [
    "# Two-steps classification\n",
    "## Activity detection\n",
    "This model performs a binary classification.\n",
    "### Preprocessing"
   ]
  },
  {
   "cell_type": "code",
   "execution_count": 29,
   "metadata": {},
   "outputs": [],
   "source": [
    "X_train, Y_train, X_test, Y_test, n_features, n_classes, class_weights = preprocessing.loadData(subject=subject,\n",
    "                                                                                                label=label,\n",
    "                                                                                                folder=folder,\n",
    "                                                                                                window_size=window_size,\n",
    "                                                                                                stride=stride,\n",
    "                                                                                                make_binary=True,\n",
    "                                                                                                null_class=True,\n",
    "                                                                                                print_info=False)"
   ]
  },
  {
   "cell_type": "markdown",
   "metadata": {},
   "source": [
    "### Model"
   ]
  },
  {
   "cell_type": "code",
   "execution_count": 30,
   "metadata": {},
   "outputs": [],
   "source": [
    "detection_model = models.MotionDetection((window_size, n_features), n_classes, print_info=False)\n",
    "\n",
    "detection_model.compile(optimizer = Adam(lr=0.001),\n",
    "                        loss = \"categorical_crossentropy\", \n",
    "                        metrics = [\"accuracy\"])\n",
    "\n",
    "checkpointer = ModelCheckpoint(filepath='./data/model_BTSD_3.hdf5', verbose=1, save_best_only=True)"
   ]
  },
  {
   "cell_type": "markdown",
   "metadata": {},
   "source": [
    "### Training"
   ]
  },
  {
   "cell_type": "code",
   "execution_count": 32,
   "metadata": {},
   "outputs": [
    {
     "name": "stdout",
     "output_type": "stream",
     "text": [
      "Train on 30017 samples, validate on 9799 samples\n",
      "Epoch 1/15\n",
      "30017/30017 [==============================] - 10s 334us/step - loss: 0.3251 - acc: 0.8631 - val_loss: 0.3445 - val_acc: 0.8549\n",
      "\n",
      "Epoch 00001: val_loss improved from inf to 0.34454, saving model to ./data/model_BTSD_3.hdf5\n",
      "Epoch 2/15\n",
      "30017/30017 [==============================] - 10s 324us/step - loss: 0.2464 - acc: 0.9009 - val_loss: 0.2943 - val_acc: 0.8602\n",
      "\n",
      "Epoch 00002: val_loss improved from 0.34454 to 0.29433, saving model to ./data/model_BTSD_3.hdf5\n",
      "Epoch 3/15\n",
      "30017/30017 [==============================] - 10s 325us/step - loss: 0.2109 - acc: 0.9137 - val_loss: 0.2716 - val_acc: 0.8837\n",
      "\n",
      "Epoch 00003: val_loss improved from 0.29433 to 0.27164, saving model to ./data/model_BTSD_3.hdf5\n",
      "Epoch 4/15\n",
      "30017/30017 [==============================] - 10s 325us/step - loss: 0.1818 - acc: 0.9249 - val_loss: 0.2721 - val_acc: 0.8848\n",
      "\n",
      "Epoch 00004: val_loss did not improve\n",
      "Epoch 5/15\n",
      "30017/30017 [==============================] - 10s 325us/step - loss: 0.1592 - acc: 0.9349 - val_loss: 0.2895 - val_acc: 0.8855\n",
      "\n",
      "Epoch 00005: val_loss did not improve\n",
      "Epoch 6/15\n",
      "30017/30017 [==============================] - 10s 325us/step - loss: 0.1480 - acc: 0.9405 - val_loss: 0.3012 - val_acc: 0.8723\n",
      "\n",
      "Epoch 00006: val_loss did not improve\n",
      "Epoch 7/15\n",
      "30017/30017 [==============================] - 10s 326us/step - loss: 0.1299 - acc: 0.9471 - val_loss: 0.3226 - val_acc: 0.8843\n",
      "\n",
      "Epoch 00007: val_loss did not improve\n",
      "Epoch 8/15\n",
      "30017/30017 [==============================] - 10s 325us/step - loss: 0.1163 - acc: 0.9527 - val_loss: 0.3182 - val_acc: 0.8866\n",
      "\n",
      "Epoch 00008: val_loss did not improve\n",
      "Epoch 9/15\n",
      "30017/30017 [==============================] - 10s 326us/step - loss: 0.1063 - acc: 0.9567 - val_loss: 0.3660 - val_acc: 0.8927\n",
      "\n",
      "Epoch 00009: val_loss did not improve\n",
      "Epoch 10/15\n",
      "30017/30017 [==============================] - 10s 326us/step - loss: 0.0992 - acc: 0.9600 - val_loss: 0.4235 - val_acc: 0.8874\n",
      "\n",
      "Epoch 00010: val_loss did not improve\n",
      "Epoch 11/15\n",
      "30017/30017 [==============================] - 10s 326us/step - loss: 0.0900 - acc: 0.9640 - val_loss: 0.4183 - val_acc: 0.8895\n",
      "\n",
      "Epoch 00011: val_loss did not improve\n",
      "Epoch 12/15\n",
      "30017/30017 [==============================] - 10s 325us/step - loss: 0.0847 - acc: 0.9641 - val_loss: 0.3989 - val_acc: 0.8896\n",
      "\n",
      "Epoch 00012: val_loss did not improve\n",
      "Epoch 13/15\n",
      "30017/30017 [==============================] - 10s 326us/step - loss: 0.0767 - acc: 0.9680 - val_loss: 0.4150 - val_acc: 0.8914\n",
      "\n",
      "Epoch 00013: val_loss did not improve\n",
      "Epoch 14/15\n",
      "30017/30017 [==============================] - 10s 327us/step - loss: 0.0727 - acc: 0.9704 - val_loss: 0.5281 - val_acc: 0.8858\n",
      "\n",
      "Epoch 00014: val_loss did not improve\n",
      "Epoch 15/15\n",
      "30017/30017 [==============================] - 10s 326us/step - loss: 0.0678 - acc: 0.9721 - val_loss: 0.5315 - val_acc: 0.8898\n",
      "\n",
      "Epoch 00015: val_loss did not improve\n"
     ]
    },
    {
     "data": {
      "text/plain": [
       "<keras.callbacks.History at 0x1cdb6e7bcc0>"
      ]
     },
     "execution_count": 32,
     "metadata": {},
     "output_type": "execute_result"
    }
   ],
   "source": [
    "detection_model.fit(x = X_train, \n",
    "                    y = to_categorical(Y_train), \n",
    "                    epochs = 15, \n",
    "                    batch_size = 128,\n",
    "                    verbose = 1,\n",
    "                    callbacks=[checkpointer],\n",
    "                    validation_data=(X_test, to_categorical(Y_test)),\n",
    "                    class_weight=class_weights)"
   ]
  },
  {
   "cell_type": "markdown",
   "metadata": {},
   "source": [
    "### Evaluation"
   ]
  },
  {
   "cell_type": "code",
   "execution_count": 33,
   "metadata": {},
   "outputs": [
    {
     "name": "stdout",
     "output_type": "stream",
     "text": [
      "             precision    recall  f1-score   support\n",
      "\n",
      "          0       0.94      0.92      0.93      7668\n",
      "          1       0.73      0.78      0.75      2131\n",
      "\n",
      "avg / total       0.89      0.89      0.89      9799\n",
      "\n",
      "Weighted f1-score: 0.8910295967336965\n"
     ]
    }
   ],
   "source": [
    "Y_pred = detection_model.predict_classes(X_test)\n",
    "print(classification_report(Y_test, Y_pred))\n",
    "print(\"Weighted f1-score:\", f1_score(Y_test, Y_pred, average='weighted'))"
   ]
  },
  {
   "cell_type": "code",
   "execution_count": 34,
   "metadata": {},
   "outputs": [
    {
     "name": "stdout",
     "output_type": "stream",
     "text": [
      "             precision    recall  f1-score   support\n",
      "\n",
      "          0       0.94      0.91      0.92      7668\n",
      "          1       0.71      0.78      0.74      2131\n",
      "\n",
      "avg / total       0.89      0.88      0.89      9799\n",
      "\n",
      "Weighted f1-score: 0.8853452512584014\n"
     ]
    }
   ],
   "source": [
    "detection_model_best = load_model('./data/model_BTSD_3.hdf5')\n",
    "\n",
    "Y_pred = detection_model_best.predict_classes(X_test)\n",
    "print(classification_report(Y_test, Y_pred))\n",
    "print(\"Weighted f1-score:\", f1_score(Y_test, Y_pred, average='weighted'))"
   ]
  },
  {
   "cell_type": "code",
   "execution_count": 35,
   "metadata": {},
   "outputs": [
    {
     "data": {
      "image/png": "[encoded data removed]",
      "text/plain": [
       "<Figure size 432x288 with 2 Axes>"
      ]
     },
     "metadata": {},
     "output_type": "display_data"
    }
   ],
   "source": [
    "cnf_matrix = confusion_matrix(Y_test, Y_pred)\n",
    "np.set_printoptions(precision=2)\n",
    "\n",
    "sns.set_style(\"dark\")\n",
    "plt.figure()\n",
    "utils.plot_confusion_matrix(cnf_matrix, classes=[0,1],\n",
    "                      title='Confusion matrix, without normalization')"
   ]
  },
  {
   "cell_type": "code",
   "execution_count": 36,
   "metadata": {},
   "outputs": [],
   "source": [
    "Y_pred_d = Y_pred"
   ]
  },
  {
   "cell_type": "markdown",
   "metadata": {},
   "source": [
    "## Activity classification"
   ]
  },
  {
   "cell_type": "code",
   "execution_count": 37,
   "metadata": {},
   "outputs": [],
   "source": [
    "X_train, Y_train, X_test, Y_test, n_features, n_classes, class_weights = preprocessing.loadData(subject=subject,\n",
    "                                                                                                label=label,\n",
    "                                                                                                folder=folder,\n",
    "                                                                                                window_size=window_size,\n",
    "                                                                                                stride=stride,\n",
    "                                                                                                make_binary=False,\n",
    "                                                                                                null_class=False,\n",
    "                                                                                                print_info=False)"
   ]
  },
  {
   "cell_type": "markdown",
   "metadata": {},
   "source": [
    "### Model"
   ]
  },
  {
   "cell_type": "code",
   "execution_count": 38,
   "metadata": {},
   "outputs": [],
   "source": [
    "classification_model = models.MotionDetection((window_size, n_features), n_classes, print_info=False)\n",
    "\n",
    "classification_model.compile(optimizer = Adam(lr=0.001),\n",
    "                             loss = \"categorical_crossentropy\", \n",
    "                             metrics = [\"accuracy\"])\n",
    "\n",
    "checkpointer = ModelCheckpoint(filepath='./data/model_BTSC_3.hdf5', verbose=1, save_best_only=True)"
   ]
  },
  {
   "cell_type": "markdown",
   "metadata": {},
   "source": [
    "### Training"
   ]
  },
  {
   "cell_type": "code",
   "execution_count": 39,
   "metadata": {},
   "outputs": [
    {
     "name": "stdout",
     "output_type": "stream",
     "text": [
      "Train on 10242 samples, validate on 2131 samples\n",
      "Epoch 1/15\n",
      "10242/10242 [==============================] - 8s 769us/step - loss: 1.1572 - acc: 0.5739 - val_loss: 1.3308 - val_acc: 0.5805\n",
      "\n",
      "Epoch 00001: val_loss improved from inf to 1.33077, saving model to ./data/model_BTSC_3.hdf5\n",
      "Epoch 2/15\n",
      "10242/10242 [==============================] - 3s 320us/step - loss: 0.6284 - acc: 0.7599 - val_loss: 1.2038 - val_acc: 0.6598\n",
      "\n",
      "Epoch 00002: val_loss improved from 1.33077 to 1.20385, saving model to ./data/model_BTSC_3.hdf5\n",
      "Epoch 3/15\n",
      "10242/10242 [==============================] - 3s 319us/step - loss: 0.4917 - acc: 0.8116 - val_loss: 1.0903 - val_acc: 0.6715\n",
      "\n",
      "Epoch 00003: val_loss improved from 1.20385 to 1.09033, saving model to ./data/model_BTSC_3.hdf5\n",
      "Epoch 4/15\n",
      "10242/10242 [==============================] - 3s 319us/step - loss: 0.3787 - acc: 0.8619 - val_loss: 1.0866 - val_acc: 0.7184\n",
      "\n",
      "Epoch 00004: val_loss improved from 1.09033 to 1.08657, saving model to ./data/model_BTSC_3.hdf5\n",
      "Epoch 5/15\n",
      "10242/10242 [==============================] - 3s 319us/step - loss: 0.3481 - acc: 0.8792 - val_loss: 1.1559 - val_acc: 0.7030\n",
      "\n",
      "Epoch 00005: val_loss did not improve\n",
      "Epoch 6/15\n",
      "10242/10242 [==============================] - 3s 322us/step - loss: 0.3501 - acc: 0.8802 - val_loss: 1.3110 - val_acc: 0.6682\n",
      "\n",
      "Epoch 00006: val_loss did not improve\n",
      "Epoch 7/15\n",
      "10242/10242 [==============================] - 3s 322us/step - loss: 0.2842 - acc: 0.9066 - val_loss: 1.2377 - val_acc: 0.6879\n",
      "\n",
      "Epoch 00007: val_loss did not improve\n",
      "Epoch 8/15\n",
      "10242/10242 [==============================] - 3s 323us/step - loss: 0.2773 - acc: 0.9083 - val_loss: 1.2509 - val_acc: 0.6786\n",
      "\n",
      "Epoch 00008: val_loss did not improve\n",
      "Epoch 9/15\n",
      "10242/10242 [==============================] - 3s 322us/step - loss: 0.2527 - acc: 0.9163 - val_loss: 1.1459 - val_acc: 0.7133\n",
      "\n",
      "Epoch 00009: val_loss did not improve\n",
      "Epoch 10/15\n",
      "10242/10242 [==============================] - 3s 322us/step - loss: 0.1370 - acc: 0.9511 - val_loss: 1.4692 - val_acc: 0.6790\n",
      "\n",
      "Epoch 00010: val_loss did not improve\n",
      "Epoch 11/15\n",
      "10242/10242 [==============================] - 3s 319us/step - loss: 0.2344 - acc: 0.9233 - val_loss: 1.1534 - val_acc: 0.7020\n",
      "\n",
      "Epoch 00011: val_loss did not improve\n",
      "Epoch 12/15\n",
      "10242/10242 [==============================] - 3s 321us/step - loss: 0.1980 - acc: 0.9317 - val_loss: 1.1082 - val_acc: 0.7396\n",
      "\n",
      "Epoch 00012: val_loss did not improve\n",
      "Epoch 13/15\n",
      "10242/10242 [==============================] - 3s 322us/step - loss: 0.1128 - acc: 0.9627 - val_loss: 1.1683 - val_acc: 0.7419\n",
      "\n",
      "Epoch 00013: val_loss did not improve\n",
      "Epoch 14/15\n",
      "10242/10242 [==============================] - 3s 319us/step - loss: 0.1665 - acc: 0.9444 - val_loss: 1.2289 - val_acc: 0.7137\n",
      "\n",
      "Epoch 00014: val_loss did not improve\n",
      "Epoch 15/15\n",
      "10242/10242 [==============================] - 3s 319us/step - loss: 0.1834 - acc: 0.9398 - val_loss: 1.2160 - val_acc: 0.7208\n",
      "\n",
      "Epoch 00015: val_loss did not improve\n"
     ]
    },
    {
     "data": {
      "text/plain": [
       "<keras.callbacks.History at 0x1cdb79ad470>"
      ]
     },
     "execution_count": 39,
     "metadata": {},
     "output_type": "execute_result"
    }
   ],
   "source": [
    "classification_model.fit(x = X_train,\n",
    "                         y = to_categorical(Y_train), \n",
    "                         epochs = 15, \n",
    "                         batch_size = 128,\n",
    "                         verbose = 1,\n",
    "                         callbacks=[checkpointer],\n",
    "                         validation_data=(X_test, to_categorical(Y_test)),\n",
    "                         class_weight=class_weights)"
   ]
  },
  {
   "cell_type": "markdown",
   "metadata": {},
   "source": [
    "### Evaluation"
   ]
  },
  {
   "cell_type": "code",
   "execution_count": 42,
   "metadata": {},
   "outputs": [
    {
     "name": "stdout",
     "output_type": "stream",
     "text": [
      "             precision    recall  f1-score   support\n",
      "\n",
      "          0       0.55      0.44      0.49        80\n",
      "          1       0.78      0.78      0.78        69\n",
      "          2       0.36      0.53      0.43        32\n",
      "          3       0.80      0.52      0.63        91\n",
      "          4       0.74      0.62      0.67        89\n",
      "          5       0.69      0.64      0.66        69\n",
      "          6       0.50      0.75      0.60       171\n",
      "          7       0.92      0.81      0.86       136\n",
      "          8       0.36      0.63      0.46        97\n",
      "          9       0.69      0.77      0.73        84\n",
      "         10       0.57      0.32      0.41        50\n",
      "         11       0.59      0.85      0.70        72\n",
      "         12       0.74      0.88      0.80       117\n",
      "         13       0.44      0.67      0.53        42\n",
      "         14       0.82      0.62      0.71       285\n",
      "         15       0.93      0.82      0.87       575\n",
      "         16       0.98      0.88      0.93        72\n",
      "\n",
      "avg / total       0.76      0.72      0.73      2131\n",
      "\n",
      "Weighted f1-score: 0.7288597169397115\n"
     ]
    }
   ],
   "source": [
    "Y_pred = classification_model.predict_classes(X_test)\n",
    "print(classification_report(Y_test, Y_pred))\n",
    "print(\"Weighted f1-score:\", f1_score(Y_test, Y_pred, average='weighted'))"
   ]
  },
  {
   "cell_type": "code",
   "execution_count": 43,
   "metadata": {},
   "outputs": [
    {
     "name": "stdout",
     "output_type": "stream",
     "text": [
      "             precision    recall  f1-score   support\n",
      "\n",
      "          0       0.42      0.46      0.44        80\n",
      "          1       0.57      0.70      0.63        69\n",
      "          2       0.28      0.53      0.37        32\n",
      "          3       0.68      0.16      0.27        91\n",
      "          4       0.65      0.38      0.48        89\n",
      "          5       0.53      0.64      0.58        69\n",
      "          6       0.56      0.68      0.62       171\n",
      "          7       0.95      0.90      0.92       136\n",
      "          8       0.51      0.51      0.51        97\n",
      "          9       0.69      0.60      0.64        84\n",
      "         10       0.54      0.42      0.47        50\n",
      "         11       0.52      0.90      0.66        72\n",
      "         12       0.64      0.94      0.76       117\n",
      "         13       0.44      0.60      0.51        42\n",
      "         14       0.80      0.68      0.74       285\n",
      "         15       0.98      0.89      0.93       575\n",
      "         16       0.91      1.00      0.95        72\n",
      "\n",
      "avg / total       0.74      0.72      0.72      2131\n",
      "\n",
      "Weighted f1-score: 0.7165047383450159\n"
     ]
    }
   ],
   "source": [
    "classification_model_best = load_model('./data/model_BTSC_3.hdf5')\n",
    "\n",
    "Y_pred = classification_model_best.predict_classes(X_test)\n",
    "print(classification_report(Y_test, Y_pred))\n",
    "print(\"Weighted f1-score:\", f1_score(Y_test, Y_pred, average='weighted'))"
   ]
  },
  {
   "cell_type": "code",
   "execution_count": 44,
   "metadata": {},
   "outputs": [
    {
     "data": {
      "image/png": "[encoded data removed]",
      "text/plain": [
       "<Figure size 432x288 with 2 Axes>"
      ]
     },
     "metadata": {},
     "output_type": "display_data"
    }
   ],
   "source": [
    "cnf_matrix = confusion_matrix(Y_test, Y_pred)\n",
    "np.set_printoptions(precision=2)\n",
    "\n",
    "sns.set_style(\"dark\")\n",
    "plt.figure()\n",
    "utils.plot_confusion_matrix(cnf_matrix, classes=[0,1],\n",
    "                      title='Confusion matrix, without normalization')"
   ]
  },
  {
   "cell_type": "markdown",
   "metadata": {},
   "source": [
    "## Cascade of detection and classification\n",
    "The labels that have to be used for assessment are saved in Y_test_true. The labels predicted by the detection_model are saved instead in Y_pred_d."
   ]
  },
  {
   "cell_type": "code",
   "execution_count": 45,
   "metadata": {},
   "outputs": [
    {
     "name": "stdout",
     "output_type": "stream",
     "text": [
      "(9799,) (9799,)\n"
     ]
    }
   ],
   "source": [
    "print(Y_test_true.shape, Y_pred_d.shape)"
   ]
  },
  {
   "cell_type": "code",
   "execution_count": 46,
   "metadata": {},
   "outputs": [],
   "source": [
    "X_train, Y_train, X_test, Y_test, n_features, n_classes, class_weights = preprocessing.loadData(subject=subject,\n",
    "                                                                                                label=label,\n",
    "                                                                                                folder=folder,\n",
    "                                                                                                window_size=window_size,\n",
    "                                                                                                stride=stride,\n",
    "                                                                                                make_binary=True,\n",
    "                                                                                                null_class=True,\n",
    "                                                                                                print_info=False)"
   ]
  },
  {
   "cell_type": "code",
   "execution_count": 47,
   "metadata": {},
   "outputs": [],
   "source": [
    "mask = (Y_pred_d == 1)\n",
    "X_detected = X_test[mask, :, :]\n",
    "Y_pred_c = classification_model_best.predict_classes(X_detected)\n",
    "Y_pred_d[mask] = Y_pred_c"
   ]
  },
  {
   "cell_type": "code",
   "execution_count": 48,
   "metadata": {},
   "outputs": [
    {
     "name": "stdout",
     "output_type": "stream",
     "text": [
      "             precision    recall  f1-score   support\n",
      "\n",
      "          0       0.93      0.92      0.92      7668\n",
      "          1       0.08      0.10      0.09        80\n",
      "          2       0.01      0.01      0.01        69\n",
      "          3       0.00      0.00      0.00        32\n",
      "          4       0.09      0.05      0.07        91\n",
      "          5       0.00      0.00      0.00        89\n",
      "          6       0.01      0.03      0.01        69\n",
      "          7       0.00      0.00      0.00       171\n",
      "          8       0.00      0.00      0.00       136\n",
      "          9       0.00      0.00      0.00        97\n",
      "         10       0.21      0.11      0.14        84\n",
      "         11       0.00      0.00      0.00        50\n",
      "         12       0.00      0.00      0.00        72\n",
      "         13       0.00      0.00      0.00       117\n",
      "         14       0.00      0.00      0.00        42\n",
      "         15       0.00      0.00      0.00       285\n",
      "         16       0.00      0.00      0.00       575\n",
      "         17       0.00      0.00      0.00        72\n",
      "\n",
      "avg / total       0.73      0.72      0.73      9799\n",
      "\n",
      "Weighted f1-score: 0.7260923146551177\n"
     ]
    },
    {
     "name": "stderr",
     "output_type": "stream",
     "text": [
      "C:\\Users\\Riccardo\\Anaconda3\\lib\\site-packages\\sklearn\\metrics\\classification.py:1135: UndefinedMetricWarning: Precision and F-score are ill-defined and being set to 0.0 in labels with no predicted samples.\n",
      "  'precision', 'predicted', average, warn_for)\n",
      "C:\\Users\\Riccardo\\Anaconda3\\lib\\site-packages\\sklearn\\metrics\\classification.py:1135: UndefinedMetricWarning: F-score is ill-defined and being set to 0.0 in labels with no predicted samples.\n",
      "  'precision', 'predicted', average, warn_for)\n"
     ]
    }
   ],
   "source": [
    "print(classification_report(Y_test_true, Y_pred_d))\n",
    "print(\"Weighted f1-score:\", f1_score(Y_test_true, Y_pred_d, average='weighted'))"
   ]
  },
  {
   "cell_type": "markdown",
   "metadata": {},
   "source": [
    "One-shot classification instead had:"
   ]
  },
  {
   "cell_type": "code",
   "execution_count": 49,
   "metadata": {},
   "outputs": [],
   "source": [
    "X_train, Y_train, X_test, Y_test, n_features, n_classes, class_weights = preprocessing.loadData(subject=subject,\n",
    "                                                                                                label=label,\n",
    "                                                                                                folder=folder,\n",
    "                                                                                                window_size=window_size,\n",
    "                                                                                                stride=stride,\n",
    "                                                                                                make_binary=False,\n",
    "                                                                                                null_class=True,\n",
    "                                                                                                print_info=False)"
   ]
  },
  {
   "cell_type": "code",
   "execution_count": 50,
   "metadata": {},
   "outputs": [
    {
     "name": "stdout",
     "output_type": "stream",
     "text": [
      "             precision    recall  f1-score   support\n",
      "\n",
      "          0       0.91      0.93      0.92      7668\n",
      "          1       0.65      0.19      0.29        80\n",
      "          2       0.47      0.62      0.53        69\n",
      "          3       0.23      0.34      0.28        32\n",
      "          4       0.52      0.58      0.55        91\n",
      "          5       0.67      0.79      0.72        89\n",
      "          6       0.52      0.46      0.49        69\n",
      "          7       0.63      0.73      0.67       171\n",
      "          8       0.91      0.24      0.37       136\n",
      "          9       0.62      0.27      0.37        97\n",
      "         10       0.48      0.25      0.33        84\n",
      "         11       1.00      0.06      0.11        50\n",
      "         12       0.52      0.65      0.58        72\n",
      "         13       0.80      0.73      0.76       117\n",
      "         14       0.35      0.62      0.44        42\n",
      "         15       0.63      0.65      0.64       285\n",
      "         16       0.78      0.59      0.67       575\n",
      "         17       0.32      0.85      0.46        72\n",
      "\n",
      "avg / total       0.86      0.85      0.85      9799\n",
      "\n",
      "Weighted f1-score: 0.8456265572402276\n"
     ]
    }
   ],
   "source": [
    "oneshot_model_best = load_model('./data/model_BOS_3.hdf5')\n",
    "\n",
    "Y_pred = oneshot_model_best.predict_classes(X_test)\n",
    "print(classification_report(Y_test, Y_pred))\n",
    "print(\"Weighted f1-score:\", f1_score(Y_test, Y_pred, average='weighted'))"
   ]
  },
  {
   "cell_type": "markdown",
   "metadata": {},
   "source": [
    "# end"
   ]
  }
 ],
 "metadata": {
  "kernelspec": {
   "display_name": "Python 3",
   "language": "python",
   "name": "python3"
  },
  "language_info": {
   "codemirror_mode": {
    "name": "ipython",
    "version": 3
   },
   "file_extension": ".py",
   "mimetype": "text/x-python",
   "name": "python",
   "nbconvert_exporter": "python",
   "pygments_lexer": "ipython3",
   "version": "3.6.4"
  }
 },
 "nbformat": 4,
 "nbformat_minor": 2
}
