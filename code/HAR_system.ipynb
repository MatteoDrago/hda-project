{
 "cells": [
  {
   "cell_type": "markdown",
   "metadata": {},
   "source": [
    "# HAR system - Lincetto Riccardo, Drago Matteo\n",
    "This notebook runs:\n",
    "- Classification with null class (One Shot classification);\n",
    "- Binary classification for activity detection;\n",
    "- Classification without null class (activity classification);\n",
    "- Cascade of the last two methods.\n",
    "\n",
    "The operations performed here are very similar to those executed in 'main.py', with the exception that here the program is executed for specified user, task and model.\n",
    "\n",
    "## Notebook setup\n",
    "This first cell contains the parameters that can be tuned for code execution:\n",
    "- subject: select the subject on which to test the model, among [1,2,3,4,23]. If 23 is selected, the program will use the data from subjects 2 and 3;\n",
    "- task: choose \"A\" for locomotion classification or \"B\" for gesture recognition;\n",
    "- model_name: choose between \"Convolutional\", \"Convolutional1DRecurrent\", \"Convolutional2DRecurrent\" and \"ConvolutionalDeepRecurrent\";\n",
    "- data_folder: directory name where '.mat' files are stored;\n",
    "- window_size: parameter that sets the length of temporal windows on which to perform the convolution;\n",
    "- stride: step length to chose the next window;\n",
    "- epochs: number of complete sweeps of the data signals during training;\n",
    "- batch_size: number of forward propagations in the networks between consecutives backpropagations;\n",
    "- GPU: boolean flag indicating wheter GPU is present on the machine that executes the code;\n",
    "- print_info: boolean flag to control displayed information."
   ]
  },
  {
   "cell_type": "code",
   "execution_count": 1,
   "metadata": {},
   "outputs": [],
   "source": [
    "subject = 1\n",
    "task = \"A\"\n",
    "model_name = \"Convolutional\"\n",
    "data_folder = \"./data/full/\"\n",
    "window_size = 15\n",
    "stride = 5\n",
    "epochs = 15\n",
    "batch_size = 128\n",
    "GPU = True\n",
    "balance_classes = False\n",
    "print_info = False"
   ]
  },
  {
   "cell_type": "markdown",
   "metadata": {},
   "source": [
    "Here the useful functions are imported."
   ]
  },
  {
   "cell_type": "code",
   "execution_count": 2,
   "metadata": {},
   "outputs": [
    {
     "name": "stderr",
     "output_type": "stream",
     "text": [
      "C:\\Users\\Riccardo\\Anaconda3\\lib\\site-packages\\h5py\\__init__.py:36: FutureWarning: Conversion of the second argument of issubdtype from `float` to `np.floating` is deprecated. In future, it will be treated as `np.float64 == np.dtype(float).type`.\n",
      "  from ._conv import register_converters as _register_converters\n",
      "Using TensorFlow backend.\n"
     ]
    }
   ],
   "source": [
    "import launch\n",
    "import preprocessing\n",
    "#import models\n",
    "import utils\n",
    "import os\n",
    "import numpy as np\n",
    "from sklearn.metrics import classification_report, f1_score, confusion_matrix\n",
    "from keras.models import load_model\n",
    "from keras.optimizers import Adam\n",
    "from keras.callbacks import ModelCheckpoint, ReduceLROnPlateau\n",
    "from keras.utils import to_categorical\n",
    "import seaborn as sns\n",
    "import matplotlib.pyplot as plt"
   ]
  },
  {
   "cell_type": "markdown",
   "metadata": {},
   "source": [
    "Differently from 'main.py', all results saved from this notebook are going to be stored in a dedicated folder: './data/notebook/'. For proper execution, this folder needs first to be created."
   ]
  },
  {
   "cell_type": "code",
   "execution_count": 3,
   "metadata": {},
   "outputs": [],
   "source": [
    "if not(os.path.exists(\"./data\")):\n",
    "    os.mkdir(\"./data\")\n",
    "if not(os.path.exists(\"./data/notebook\")):\n",
    "    os.mkdir(\"./data/notebook\")"
   ]
  },
  {
   "cell_type": "markdown",
   "metadata": {},
   "source": [
    "If task A is selected, calssifications in the following notebook are based on the labels of column 0; if instead it's task B, column 6 labels are used."
   ]
  },
  {
   "cell_type": "code",
   "execution_count": 4,
   "metadata": {},
   "outputs": [
    {
     "name": "stdout",
     "output_type": "stream",
     "text": [
      "Task A uses labels column 0\n"
     ]
    }
   ],
   "source": [
    "if task == \"A\":\n",
    "    label = 0\n",
    "    classes = [\"Inactive\",\"Stand\",\"Walk\",\"Sit\",\"Lie\"]\n",
    "elif task == \"B\":\n",
    "    label = 6\n",
    "    classes = [\"Close Dishwasher\",\"Close Drawer 3\",\"Close Drawer 2\",\"Inactive\",\"Close Door 1\",\"Close Door 2\",\"Close Drawer 1\",\"Close Fridge\",\"Toggle Switch\",\"Open Dishwasher\",\"Open Drawer 3\",\"Open Drawer 2\",\"Open Door 1\",\"Open Door 2\",\"Open Drawer 1\",\"Open Fridge\",\"Drink from Cup\",\"Clean Table\"]\n",
    "else:\n",
    "    print(\"Error: invalid task.\")\n",
    "print(\"Task\", task, \"uses labels column\", label)"
   ]
  },
  {
   "cell_type": "markdown",
   "metadata": {},
   "source": [
    "## Classification with null class: One Shot classification\n",
    "Here classification is performed considering inactivity as a class, alongside with the others. In the case of locomotion classification (task A), this becomes a 5-class problem, while in the case of gesture recognition (task B) the classes become 18. In the following cell are perfomed in order:\n",
    "- preprocessing;\n",
    "- model selection;\n",
    "- model compilation;\n",
    "- training.\n",
    "\n",
    "Note that in case \"Convolutional2DRecurrent\" is the model selected, then the preprocessed data needs to be reshaped, adding one dimension; this is automatically done by the code inside 'launch.py'."
   ]
  },
  {
   "cell_type": "code",
   "execution_count": 5,
   "metadata": {},
   "outputs": [
    {
     "name": "stdout",
     "output_type": "stream",
     "text": [
      "Model: A_Convolutional_OS_1 \n",
      "Location: ./data/models/A_Convolutional_OS_1.hdf5 \n",
      "\n",
      "Train on 31422 samples, validate on 11504 samples\n",
      "Epoch 1/15\n",
      "31422/31422 [==============================] - 7s 230us/step - loss: 0.8523 - acc: 0.8349 - val_loss: 0.5311 - val_acc: 0.8887\n",
      "\n",
      "Epoch 00001: val_loss improved from inf to 0.53110, saving model to ./data/models/A_Convolutional_OS_1.hdf5\n",
      "Epoch 2/15\n",
      "31422/31422 [==============================] - 4s 112us/step - loss: 0.3644 - acc: 0.8864 - val_loss: 0.4114 - val_acc: 0.8931\n",
      "\n",
      "Epoch 00002: val_loss improved from 0.53110 to 0.41137, saving model to ./data/models/A_Convolutional_OS_1.hdf5\n",
      "Epoch 3/15\n",
      "31422/31422 [==============================] - 3s 111us/step - loss: 0.2864 - acc: 0.9012 - val_loss: 0.3948 - val_acc: 0.8924\n",
      "\n",
      "Epoch 00003: val_loss improved from 0.41137 to 0.39480, saving model to ./data/models/A_Convolutional_OS_1.hdf5\n",
      "Epoch 4/15\n",
      "31422/31422 [==============================] - 3s 110us/step - loss: 0.2565 - acc: 0.9088 - val_loss: 0.4191 - val_acc: 0.8873\n",
      "\n",
      "Epoch 00004: val_loss did not improve\n",
      "Epoch 5/15\n",
      "31422/31422 [==============================] - 3s 110us/step - loss: 0.2328 - acc: 0.9162 - val_loss: 0.3781 - val_acc: 0.8929\n",
      "\n",
      "Epoch 00005: val_loss improved from 0.39480 to 0.37807, saving model to ./data/models/A_Convolutional_OS_1.hdf5\n",
      "Epoch 6/15\n",
      "31422/31422 [==============================] - 3s 111us/step - loss: 0.2194 - acc: 0.9205 - val_loss: 0.3765 - val_acc: 0.8996\n",
      "\n",
      "Epoch 00006: val_loss improved from 0.37807 to 0.37646, saving model to ./data/models/A_Convolutional_OS_1.hdf5\n",
      "Epoch 7/15\n",
      "31422/31422 [==============================] - 3s 110us/step - loss: 0.2074 - acc: 0.9245 - val_loss: 0.3827 - val_acc: 0.8979\n",
      "\n",
      "Epoch 00007: val_loss did not improve\n",
      "Epoch 8/15\n",
      "31422/31422 [==============================] - 3s 110us/step - loss: 0.2007 - acc: 0.9267 - val_loss: 0.4515 - val_acc: 0.8724\n",
      "\n",
      "Epoch 00008: val_loss did not improve\n",
      "Epoch 9/15\n",
      "31422/31422 [==============================] - 4s 113us/step - loss: 0.1912 - acc: 0.9295 - val_loss: 0.4626 - val_acc: 0.8721\n",
      "\n",
      "Epoch 00009: val_loss did not improve\n",
      "Epoch 10/15\n",
      "31422/31422 [==============================] - 3s 111us/step - loss: 0.1844 - acc: 0.9330 - val_loss: 0.4002 - val_acc: 0.8852\n",
      "\n",
      "Epoch 00010: val_loss did not improve\n",
      "Epoch 11/15\n",
      "31422/31422 [==============================] - 4s 115us/step - loss: 0.1726 - acc: 0.9388 - val_loss: 0.3673 - val_acc: 0.9056\n",
      "\n",
      "Epoch 00011: val_loss improved from 0.37646 to 0.36729, saving model to ./data/models/A_Convolutional_OS_1.hdf5\n",
      "Epoch 12/15\n",
      "31422/31422 [==============================] - 3s 111us/step - loss: 0.1711 - acc: 0.9390 - val_loss: 0.4234 - val_acc: 0.8796\n",
      "\n",
      "Epoch 00012: val_loss did not improve\n",
      "Epoch 13/15\n",
      "31422/31422 [==============================] - 4s 111us/step - loss: 0.1670 - acc: 0.9403 - val_loss: 0.4403 - val_acc: 0.8890\n",
      "\n",
      "Epoch 00013: val_loss did not improve\n",
      "Epoch 14/15\n",
      "31422/31422 [==============================] - 3s 111us/step - loss: 0.1560 - acc: 0.9456 - val_loss: 0.3823 - val_acc: 0.9012\n",
      "\n",
      "Epoch 00014: val_loss did not improve\n",
      "Epoch 15/15\n",
      "31422/31422 [==============================] - 3s 109us/step - loss: 0.1536 - acc: 0.9454 - val_loss: 0.3850 - val_acc: 0.8944\n",
      "\n",
      "Epoch 00015: val_loss did not improve\n"
     ]
    }
   ],
   "source": [
    "model, X_test, Y_test, filepath, save_model_name = launch.oneshot_classification(subject,\n",
    "                                                                                 task,\n",
    "                                                                                 model_name,\n",
    "                                                                                 data_folder,\n",
    "                                                                                 window_size=window_size,\n",
    "                                                                                 stride=stride,\n",
    "                                                                                 epochs=epochs,\n",
    "                                                                                 batch_size=batch_size,\n",
    "                                                                                 balcance_classes=balance_classes,\n",
    "                                                                                 GPU=GPU,\n",
    "                                                                                 print_info=print_info)"
   ]
  },
  {
   "cell_type": "markdown",
   "metadata": {},
   "source": [
    "### Results"
   ]
  },
  {
   "cell_type": "code",
   "execution_count": 6,
   "metadata": {},
   "outputs": [
    {
     "name": "stdout",
     "output_type": "stream",
     "text": [
      "\n",
      "Results for best A_Convolutional_OS_1:\n",
      "              precision    recall  f1-score   support\n",
      "\n",
      "          0       0.89      0.85      0.87      2039\n",
      "          1       0.93      0.91      0.92      3958\n",
      "          2       0.79      0.87      0.83      2332\n",
      "          3       0.99      0.99      0.99      2733\n",
      "          4       0.89      0.85      0.87       442\n",
      "\n",
      "avg / total       0.91      0.91      0.91     11504\n",
      "\n"
     ]
    },
    {
     "data": {
      "image/png": "[encoded data removed]",
      "text/plain": [
       "<Figure size 432x288 with 2 Axes>"
      ]
     },
     "metadata": {},
     "output_type": "display_data"
    }
   ],
   "source": [
    "Y_pred_os, score_os = launch.evaluation(model, X_test, Y_test, filepath, save_model_name)\n",
    "# save for future use\n",
    "Y_true = Y_test\n",
    "# confusion matrix\n",
    "cnf_matrix = confusion_matrix(Y_test, Y_pred_os)\n",
    "np.set_printoptions(precision=2)\n",
    "sns.set_style(\"dark\")\n",
    "plt.figure()\n",
    "utils.plot_confusion_matrix(cnf_matrix, classes=classes, title='Confusion matrix, without normalization')"
   ]
  },
  {
   "cell_type": "markdown",
   "metadata": {},
   "source": [
    "## Binary classification for activity detection\n",
    "Here all the \"activity\" classes are labelled with 1, while the inactivity class remains labelled with 0. As before, in the following cell are perfomed in order:\n",
    "- preprocessing;\n",
    "- model selection;\n",
    "- model compilation;\n",
    "- training."
   ]
  },
  {
   "cell_type": "code",
   "execution_count": 7,
   "metadata": {},
   "outputs": [
    {
     "name": "stdout",
     "output_type": "stream",
     "text": [
      "Model: A_Convolutional_TSD_1 \n",
      "Location: ./data/models/A_Convolutional_TSD_1.hdf5 \n",
      "\n",
      "Train on 31422 samples, validate on 11504 samples\n",
      "Epoch 1/15\n",
      "31422/31422 [==============================] - 5s 153us/step - loss: 0.4518 - acc: 0.9568 - val_loss: 0.2886 - val_acc: 0.9355\n",
      "\n",
      "Epoch 00001: val_loss improved from inf to 0.28859, saving model to ./data/models/A_Convolutional_TSD_1.hdf5\n",
      "Epoch 2/15\n",
      "31422/31422 [==============================] - 3s 109us/step - loss: 0.0999 - acc: 0.9764 - val_loss: 0.1923 - val_acc: 0.9511\n",
      "\n",
      "Epoch 00002: val_loss improved from 0.28859 to 0.19231, saving model to ./data/models/A_Convolutional_TSD_1.hdf5\n",
      "Epoch 3/15\n",
      "31422/31422 [==============================] - 4s 113us/step - loss: 0.0656 - acc: 0.9804 - val_loss: 0.1951 - val_acc: 0.9528\n",
      "\n",
      "Epoch 00003: val_loss did not improve\n",
      "Epoch 4/15\n",
      "31422/31422 [==============================] - 4s 114us/step - loss: 0.0549 - acc: 0.9832 - val_loss: 0.1808 - val_acc: 0.9524\n",
      "\n",
      "Epoch 00004: val_loss improved from 0.19231 to 0.18081, saving model to ./data/models/A_Convolutional_TSD_1.hdf5\n",
      "Epoch 5/15\n",
      "31422/31422 [==============================] - 3s 111us/step - loss: 0.0474 - acc: 0.9849 - val_loss: 0.1754 - val_acc: 0.9560\n",
      "\n",
      "Epoch 00005: val_loss improved from 0.18081 to 0.17543, saving model to ./data/models/A_Convolutional_TSD_1.hdf5\n",
      "Epoch 6/15\n",
      "31422/31422 [==============================] - 3s 111us/step - loss: 0.0429 - acc: 0.9861 - val_loss: 0.1992 - val_acc: 0.9509\n",
      "\n",
      "Epoch 00006: val_loss did not improve\n",
      "Epoch 7/15\n",
      "31422/31422 [==============================] - 4s 112us/step - loss: 0.0384 - acc: 0.9877 - val_loss: 0.2534 - val_acc: 0.9514\n",
      "\n",
      "Epoch 00007: val_loss did not improve\n",
      "Epoch 8/15\n",
      "31422/31422 [==============================] - 4s 112us/step - loss: 0.0385 - acc: 0.9877 - val_loss: 0.2287 - val_acc: 0.9525\n",
      "\n",
      "Epoch 00008: val_loss did not improve\n",
      "Epoch 9/15\n",
      "31422/31422 [==============================] - 4s 112us/step - loss: 0.0336 - acc: 0.9890 - val_loss: 0.2573 - val_acc: 0.9542\n",
      "\n",
      "Epoch 00009: val_loss did not improve\n",
      "Epoch 10/15\n",
      "31422/31422 [==============================] - 4s 113us/step - loss: 0.0306 - acc: 0.9907 - val_loss: 0.2445 - val_acc: 0.9541\n",
      "\n",
      "Epoch 00010: val_loss did not improve\n",
      "Epoch 11/15\n",
      "31422/31422 [==============================] - 4s 112us/step - loss: 0.0273 - acc: 0.9917 - val_loss: 0.2508 - val_acc: 0.9515\n",
      "\n",
      "Epoch 00011: val_loss did not improve\n",
      "\n",
      "Epoch 00011: ReduceLROnPlateau reducing learning rate to 0.00010000000474974513.\n",
      "Epoch 12/15\n",
      "31422/31422 [==============================] - 4s 113us/step - loss: 0.0177 - acc: 0.9951 - val_loss: 0.2620 - val_acc: 0.9539\n",
      "\n",
      "Epoch 00012: val_loss did not improve\n",
      "Epoch 13/15\n",
      "31422/31422 [==============================] - 4s 113us/step - loss: 0.0140 - acc: 0.9968 - val_loss: 0.2670 - val_acc: 0.9525\n",
      "\n",
      "Epoch 00013: val_loss did not improve\n",
      "Epoch 14/15\n",
      "31422/31422 [==============================] - 4s 112us/step - loss: 0.0140 - acc: 0.9967 - val_loss: 0.2680 - val_acc: 0.9524\n",
      "\n",
      "Epoch 00014: val_loss did not improve\n",
      "Epoch 15/15\n",
      "31422/31422 [==============================] - 3s 109us/step - loss: 0.0131 - acc: 0.9969 - val_loss: 0.2666 - val_acc: 0.9533\n",
      "\n",
      "Epoch 00015: val_loss did not improve\n"
     ]
    }
   ],
   "source": [
    "model, X_test, Y_test, filepath, save_model_name = launch.cascade_detection(subject,\n",
    "                                                                            task,\n",
    "                                                                            model_name,\n",
    "                                                                            data_folder,\n",
    "                                                                            window_size=window_size,\n",
    "                                                                            stride=stride,\n",
    "                                                                            epochs=epochs,\n",
    "                                                                            batch_size=batch_size,\n",
    "                                                                            balcance_classes=balance_classes,\n",
    "                                                                            GPU=GPU,\n",
    "                                                                            print_info=print_info)"
   ]
  },
  {
   "cell_type": "markdown",
   "metadata": {},
   "source": [
    "### Results"
   ]
  },
  {
   "cell_type": "code",
   "execution_count": 8,
   "metadata": {},
   "outputs": [
    {
     "name": "stdout",
     "output_type": "stream",
     "text": [
      "\n",
      "Results for best A_Convolutional_TSD_1:\n",
      "              precision    recall  f1-score   support\n",
      "\n",
      "          0       0.95      0.79      0.86      2039\n",
      "          1       0.96      0.99      0.97      9465\n",
      "\n",
      "avg / total       0.96      0.96      0.95     11504\n",
      "\n"
     ]
    },
    {
     "data": {
      "image/png": "[encoded data removed]",
      "text/plain": [
       "<Figure size 432x288 with 2 Axes>"
      ]
     },
     "metadata": {},
     "output_type": "display_data"
    }
   ],
   "source": [
    "# results\n",
    "Y_pred_ad, score_ad = launch.evaluation(model, X_test, Y_test, filepath, save_model_name)\n",
    "# confusion matrix\n",
    "cnf_matrix = confusion_matrix(Y_test, Y_pred_ad)\n",
    "np.set_printoptions(precision=2)\n",
    "sns.set_style(\"dark\")\n",
    "plt.figure()\n",
    "utils.plot_confusion_matrix(cnf_matrix, classes=[\"Inactive\",\"Active\"], title='Confusion matrix, without normalization')"
   ]
  },
  {
   "cell_type": "markdown",
   "metadata": {},
   "source": [
    "## Classification without null class: activity classification\n",
    "Here all the \"activity\" classes are kept while the inactivity class is discarded during preprocessing. Again, in the following cell are perfomed in order:\n",
    "- preprocessing;\n",
    "- model selection;\n",
    "- model compilation;\n",
    "- training."
   ]
  },
  {
   "cell_type": "code",
   "execution_count": 9,
   "metadata": {},
   "outputs": [
    {
     "name": "stdout",
     "output_type": "stream",
     "text": [
      "Model: A_Convolutional_TSC_1 \n",
      "Location: ./data/models/A_Convolutional_TSC_1.hdf5 \n",
      "\n",
      "Train on 27948 samples, validate on 9465 samples\n",
      "Epoch 1/15\n",
      "27948/27948 [==============================] - 5s 166us/step - loss: 0.7328 - acc: 0.8712 - val_loss: 0.4213 - val_acc: 0.9230\n",
      "\n",
      "Epoch 00001: val_loss improved from inf to 0.42130, saving model to ./data/models/A_Convolutional_TSC_1.hdf5\n",
      "Epoch 2/15\n",
      "27948/27948 [==============================] - 3s 107us/step - loss: 0.2837 - acc: 0.9099 - val_loss: 0.2946 - val_acc: 0.9350\n",
      "\n",
      "Epoch 00002: val_loss improved from 0.42130 to 0.29460, saving model to ./data/models/A_Convolutional_TSC_1.hdf5\n",
      "Epoch 3/15\n",
      "27948/27948 [==============================] - 3s 109us/step - loss: 0.2156 - acc: 0.9202 - val_loss: 0.2867 - val_acc: 0.9272\n",
      "\n",
      "Epoch 00003: val_loss improved from 0.29460 to 0.28673, saving model to ./data/models/A_Convolutional_TSC_1.hdf5\n",
      "Epoch 4/15\n",
      "27948/27948 [==============================] - 3s 108us/step - loss: 0.1924 - acc: 0.9267 - val_loss: 0.3047 - val_acc: 0.9153\n",
      "\n",
      "Epoch 00004: val_loss did not improve\n",
      "Epoch 5/15\n",
      "27948/27948 [==============================] - 3s 109us/step - loss: 0.1751 - acc: 0.9332 - val_loss: 0.2928 - val_acc: 0.9286\n",
      "\n",
      "Epoch 00005: val_loss did not improve\n",
      "Epoch 6/15\n",
      "27948/27948 [==============================] - 3s 109us/step - loss: 0.1688 - acc: 0.9347 - val_loss: 0.2763 - val_acc: 0.9303\n",
      "\n",
      "Epoch 00006: val_loss improved from 0.28673 to 0.27628, saving model to ./data/models/A_Convolutional_TSC_1.hdf5\n",
      "Epoch 7/15\n",
      "27948/27948 [==============================] - 3s 109us/step - loss: 0.1602 - acc: 0.9379 - val_loss: 0.2738 - val_acc: 0.9330\n",
      "\n",
      "Epoch 00007: val_loss improved from 0.27628 to 0.27375, saving model to ./data/models/A_Convolutional_TSC_1.hdf5\n",
      "Epoch 8/15\n",
      "27948/27948 [==============================] - 3s 109us/step - loss: 0.1508 - acc: 0.9428 - val_loss: 0.3218 - val_acc: 0.9207\n",
      "\n",
      "Epoch 00008: val_loss did not improve\n",
      "Epoch 9/15\n",
      "27948/27948 [==============================] - 3s 108us/step - loss: 0.1417 - acc: 0.9468 - val_loss: 0.2855 - val_acc: 0.9297\n",
      "\n",
      "Epoch 00009: val_loss did not improve\n",
      "Epoch 10/15\n",
      "27948/27948 [==============================] - 3s 109us/step - loss: 0.1376 - acc: 0.9484 - val_loss: 0.3018 - val_acc: 0.9244\n",
      "\n",
      "Epoch 00010: val_loss did not improve\n",
      "Epoch 11/15\n",
      "27948/27948 [==============================] - 3s 108us/step - loss: 0.1313 - acc: 0.9511 - val_loss: 0.2971 - val_acc: 0.9288\n",
      "\n",
      "Epoch 00011: val_loss did not improve\n",
      "Epoch 12/15\n",
      "27948/27948 [==============================] - 3s 109us/step - loss: 0.1240 - acc: 0.9538 - val_loss: 0.2937 - val_acc: 0.9298\n",
      "\n",
      "Epoch 00012: val_loss did not improve\n",
      "Epoch 13/15\n",
      "27948/27948 [==============================] - 3s 108us/step - loss: 0.1206 - acc: 0.9550 - val_loss: 0.2990 - val_acc: 0.9293\n",
      "\n",
      "Epoch 00013: val_loss did not improve\n",
      "\n",
      "Epoch 00013: ReduceLROnPlateau reducing learning rate to 0.00010000000474974513.\n",
      "Epoch 14/15\n",
      "27948/27948 [==============================] - 3s 109us/step - loss: 0.0948 - acc: 0.9673 - val_loss: 0.2885 - val_acc: 0.9320\n",
      "\n",
      "Epoch 00014: val_loss did not improve\n",
      "Epoch 15/15\n",
      "27948/27948 [==============================] - 3s 110us/step - loss: 0.0875 - acc: 0.9698 - val_loss: 0.2984 - val_acc: 0.9313\n",
      "\n",
      "Epoch 00015: val_loss did not improve\n"
     ]
    }
   ],
   "source": [
    "model, X_test, Y_test, filepath, save_model_name = launch.cascade_classification(subject,\n",
    "                                                                                 task,\n",
    "                                                                                 model_name,\n",
    "                                                                                 data_folder,\n",
    "                                                                                 window_size=window_size,\n",
    "                                                                                 stride=stride,\n",
    "                                                                                 epochs=epochs,\n",
    "                                                                                 batch_size=batch_size,\n",
    "                                                                                 balcance_classes=balance_classes,\n",
    "                                                                                 GPU=GPU,\n",
    "                                                                                 print_info=print_info)"
   ]
  },
  {
   "cell_type": "markdown",
   "metadata": {},
   "source": [
    "### Results"
   ]
  },
  {
   "cell_type": "code",
   "execution_count": 10,
   "metadata": {},
   "outputs": [
    {
     "name": "stdout",
     "output_type": "stream",
     "text": [
      "\n",
      "Results for best A_Convolutional_TSC_1:\n",
      "              precision    recall  f1-score   support\n",
      "\n",
      "          0       0.94      0.92      0.93      3958\n",
      "          1       0.85      0.89      0.87      2332\n",
      "          2       0.99      1.00      1.00      2733\n",
      "          3       1.00      0.85      0.92       442\n",
      "\n",
      "avg / total       0.93      0.93      0.93      9465\n",
      "\n"
     ]
    },
    {
     "data": {
      "image/png": "[encoded data removed]",
      "text/plain": [
       "<Figure size 432x288 with 2 Axes>"
      ]
     },
     "metadata": {},
     "output_type": "display_data"
    }
   ],
   "source": [
    "# results\n",
    "Y_pred_ac, score_ac = launch.evaluation(model, X_test, Y_test, filepath, save_model_name)\n",
    "# confusion matrix\n",
    "cnf_matrix = confusion_matrix(Y_test, Y_pred_ac)\n",
    "np.set_printoptions(precision=2)\n",
    "sns.set_style(\"dark\")\n",
    "plt.figure()\n",
    "utils.plot_confusion_matrix(cnf_matrix, classes=classes[1:], title='Confusion matrix, without normalization')"
   ]
  },
  {
   "cell_type": "markdown",
   "metadata": {},
   "source": [
    "For comparison purposes, the best F1-scores of the three classifications performed above are saved in the variables: 'score_os', 'score_ad', 'score_ac'. These will be plotted later, to be compared with the cascade approach implemented next.\n",
    "## Cascade of detection and classification\n",
    "For the evaluation of this approach, the model previously trained are fine: the classification model in particular is trained on the \"correct\" training set, but then makes its prediction on data coming from the detector. For this part we need some results from the previous code:\n",
    "- true labels, which correspond to those obtained with the preprocessing of the One Shot classification model ('Y_true');\n",
    "- predicted labels, by the One Shot classification model ('Y_pred_os');\n",
    "- detector predictions on test data, which need to be passed to the second stage of the cascade ('Y_pred_ad');\n",
    "- classification model, which is the last one that has been used ('model').\n",
    "\n",
    "In the following cells, until the end of the notebook, the following operations are performed: true and predicted labels from above are reported here; the test set is loaded again with the right parameters; then the labels predicted by the activity detection model are used to perform a further classification, using the activity classification model; finally the one-shot approach and the cascade are compared."
   ]
  },
  {
   "cell_type": "code",
   "execution_count": 11,
   "metadata": {},
   "outputs": [
    {
     "name": "stdout",
     "output_type": "stream",
     "text": [
      "Y_true:  Shape: (11504,)  Labels: [0 1 2 3 4] \n",
      "Y_pred_os:  Shape: (11504,)  Labels: [0 1 2 3 4] \n",
      "Y_pred_ad:  Shape: (11504,)  Labels: [0 1] \n",
      "Y_pred_ac:  Shape: (9465,)  Labels: [0 1 2 3]\n"
     ]
    }
   ],
   "source": [
    "# print info on previous predictions\n",
    "print(\"Y_true:  Shape:\", Y_true.shape, \" Labels:\", np.unique(Y_true),\n",
    "     \"\\nY_pred_os:  Shape:\", Y_pred_os.shape, \" Labels:\", np.unique(Y_pred_os),\n",
    "     \"\\nY_pred_ad:  Shape:\", Y_pred_ad.shape, \" Labels:\", np.unique(Y_pred_ad),\n",
    "     \"\\nY_pred_ac:  Shape:\", Y_pred_ac.shape, \" Labels:\", np.unique(Y_pred_ac))"
   ]
  },
  {
   "cell_type": "markdown",
   "metadata": {},
   "source": [
    "Keep in mind that Y_pred, the predictions by the classifier without the null class, should have label values starting from 1, thus a manual correction will be needed."
   ]
  },
  {
   "cell_type": "code",
   "execution_count": 12,
   "metadata": {},
   "outputs": [],
   "source": [
    "# get test set\n",
    "if subject == 23:\n",
    "    X_test = preprocessing.loadDataMultiple(label=label,\n",
    "                                            folder=data_folder,\n",
    "                                            window_size=window_size,\n",
    "                                            stride=stride,\n",
    "                                            make_binary=False,\n",
    "                                            null_class=True,\n",
    "                                            print_info=print_info)[2]\n",
    "else:\n",
    "    X_test = preprocessing.loadData(subject=subject,\n",
    "                                    label=label,\n",
    "                                    folder=data_folder,\n",
    "                                    window_size=window_size,\n",
    "                                    stride=stride,\n",
    "                                    make_binary=False,\n",
    "                                    null_class=True,\n",
    "                                    print_info=print_info)[2]"
   ]
  },
  {
   "cell_type": "markdown",
   "metadata": {},
   "source": [
    "Here a mask is used to select all the windows where activity is detected. Note that this number of windows can be different from the number of non-zero labels (which correspond to the shape of Y_pred, reported above)."
   ]
  },
  {
   "cell_type": "code",
   "execution_count": 13,
   "metadata": {},
   "outputs": [
    {
     "name": "stdout",
     "output_type": "stream",
     "text": [
      "Mask shape: (11504,) \n",
      "Detected activities: 9819\n"
     ]
    }
   ],
   "source": [
    "# mask\n",
    "mask = (Y_pred_ad == 1)\n",
    "print(\"Mask shape:\", mask.shape, \"\\nDetected activities:\", np.sum(mask))"
   ]
  },
  {
   "cell_type": "code",
   "execution_count": 14,
   "metadata": {},
   "outputs": [
    {
     "name": "stdout",
     "output_type": "stream",
     "text": [
      "New test set has shape: (9819, 15, 110)\n"
     ]
    }
   ],
   "source": [
    "activity_windows = X_test[mask, :, :]\n",
    "# reshaping for 2D convolution\n",
    "if model_name == \"Convolutional2DRecurrent\":\n",
    "    activity_windows = activity_windows.reshape(activity_windows.shape[0], window_size, X_test.shape[2], 1)\n",
    "print(\"New test set has shape:\", activity_windows.shape)"
   ]
  },
  {
   "cell_type": "markdown",
   "metadata": {},
   "source": [
    "The classification previously trained is now used to predict the classes on the new test set."
   ]
  },
  {
   "cell_type": "code",
   "execution_count": 15,
   "metadata": {},
   "outputs": [
    {
     "name": "stdout",
     "output_type": "stream",
     "text": [
      "Y_casc_ac:  Shape: (9819,)  Labels: [1 2 3 4]\n"
     ]
    }
   ],
   "source": [
    "Y_casc_ac = model.predict_classes(activity_windows) + 1\n",
    "print(\"Y_casc_ac:  Shape:\", Y_casc_ac.shape, \" Labels:\", np.unique(Y_casc_ac))"
   ]
  },
  {
   "cell_type": "markdown",
   "metadata": {},
   "source": [
    "These predictions are inserted back in the detector's values, substituting these new labels to the ones with value 1. The locations to be modified are still those flagged by the 'mask'."
   ]
  },
  {
   "cell_type": "code",
   "execution_count": 16,
   "metadata": {},
   "outputs": [
    {
     "name": "stdout",
     "output_type": "stream",
     "text": [
      "Y_casc:    Shape: (11504,)  Labels: [0 1 2 3 4]\n"
     ]
    }
   ],
   "source": [
    "Y_casc = Y_pred_ad\n",
    "Y_casc[mask] = Y_casc_ac\n",
    "print(\"Y_casc:    Shape:\", Y_casc.shape, \" Labels:\", np.unique(Y_casc))"
   ]
  },
  {
   "cell_type": "code",
   "execution_count": 17,
   "metadata": {},
   "outputs": [
    {
     "name": "stdout",
     "output_type": "stream",
     "text": [
      "             precision    recall  f1-score   support\n",
      "\n",
      "          0       0.95      0.79      0.86      2039\n",
      "          1       0.91      0.92      0.91      3958\n",
      "          2       0.76      0.86      0.81      2332\n",
      "          3       0.98      1.00      0.99      2733\n",
      "          4       0.94      0.85      0.89       442\n",
      "\n",
      "avg / total       0.90      0.90      0.90     11504\n",
      "\n"
     ]
    },
    {
     "data": {
      "image/png": "[encoded data removed]",
      "text/plain": [
       "<Figure size 432x288 with 2 Axes>"
      ]
     },
     "metadata": {},
     "output_type": "display_data"
    }
   ],
   "source": [
    "print(classification_report(Y_true, Y_casc))\n",
    "cnf_matrix = confusion_matrix(Y_true, Y_casc)\n",
    "np.set_printoptions(precision=2)\n",
    "sns.set_style(\"dark\")\n",
    "plt.figure()\n",
    "utils.plot_confusion_matrix(cnf_matrix, classes=classes[1:], title='Confusion matrix, without normalization')"
   ]
  },
  {
   "cell_type": "markdown",
   "metadata": {},
   "source": [
    "## Comparison between the two pipelines"
   ]
  },
  {
   "cell_type": "code",
   "execution_count": 18,
   "metadata": {},
   "outputs": [
    {
     "name": "stdout",
     "output_type": "stream",
     "text": [
      "One-Shot weighted f1-score:   0.9063205110212971\n",
      "Two-Steps weighted f1-score:  0.900164390721331\n",
      "With partials:\n",
      "\t\tDetection:      0.9543284442014945 \n",
      "\t\tClassification: 0.933264676115228\n"
     ]
    }
   ],
   "source": [
    "print(\"One-Shot weighted f1-score:  \", score_os)\n",
    "print(\"Two-Steps weighted f1-score: \", f1_score(Y_true, Y_casc, average='weighted'))\n",
    "print(\"With partials:\\n\\t\\tDetection:     \",score_ad,\"\\n\\t\\tClassification:\", score_ac)"
   ]
  },
  {
   "cell_type": "markdown",
   "metadata": {},
   "source": [
    "# The end"
   ]
  }
 ],
 "metadata": {
  "kernelspec": {
   "display_name": "Python 3",
   "language": "python",
   "name": "python3"
  },
  "language_info": {
   "codemirror_mode": {
    "name": "ipython",
    "version": 3
   },
   "file_extension": ".py",
   "mimetype": "text/x-python",
   "name": "python",
   "nbconvert_exporter": "python",
   "pygments_lexer": "ipython3",
   "version": "3.6.4"
  }
 },
 "nbformat": 4,
 "nbformat_minor": 2
}
