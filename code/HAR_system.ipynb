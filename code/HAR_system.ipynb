{
 "cells": [
  {
   "cell_type": "markdown",
   "metadata": {},
   "source": [
    "# HAR system - Lincetto Riccardo, Drago Matteo\n",
    "This notebook runs:\n",
    "- Classification with null class (One Shot classification);\n",
    "- Binary classification for activity detection (Two Steps - detection);\n",
    "- Classification without null class (Two Steps - classification);\n",
    "- Cascade of the last to methods.\n",
    "\n",
    "The operations performed here are very similar to those execute in 'main.py', with the exception that here the program is executed for specified user and model.\n",
    "\n",
    "## Notebook setup\n",
    "This first cell contains the parameters that can be tuned for code execution:\n",
    "- subject: select the subject on which to test the model, between [1,4];\n",
    "- task: choose \"A\" for locomotion classification or \"B\" for gesture recognition;\n",
    "- model_name: choose between \"Convolutional\", \"Convolutional1DRecurrent\", \"Convolutional2DRecurrent\" and \"ConvolutionalDeepRecurrent\";\n",
    "- data_folder: directory name where '.mat' files are stored;\n",
    "- window_size: parameter that sets the length of temporal windows on which to perform the convolution;\n",
    "- stride: step length to chose the next window;\n",
    "- GPU: boolean flag indicatin wheter GPU is present on the machine that executes the code;\n",
    "- epochs: number of complete sweeps of the data signals during training;\n",
    "- batch_size: number of forward propagations in the networks between consecutives backpropagations."
   ]
  },
  {
   "cell_type": "code",
   "execution_count": 1,
   "metadata": {},
   "outputs": [],
   "source": [
    "subject = 1\n",
    "task = \"A\"\n",
    "model_name = \"Convolutional\"\n",
    "data_folder = \"./data/full/\"\n",
    "window_size = 15\n",
    "stride = 5\n",
    "GPU = True\n",
    "epochs = 10\n",
    "batch_size = 32"
   ]
  },
  {
   "cell_type": "markdown",
   "metadata": {},
   "source": [
    "Here the useful functions are imported."
   ]
  },
  {
   "cell_type": "code",
   "execution_count": 2,
   "metadata": {},
   "outputs": [
    {
     "name": "stderr",
     "output_type": "stream",
     "text": [
      "C:\\Users\\Riccardo\\Anaconda3\\lib\\site-packages\\h5py\\__init__.py:36: FutureWarning: Conversion of the second argument of issubdtype from `float` to `np.floating` is deprecated. In future, it will be treated as `np.float64 == np.dtype(float).type`.\n",
      "  from ._conv import register_converters as _register_converters\n",
      "Using TensorFlow backend.\n"
     ]
    }
   ],
   "source": [
    "import preprocessing\n",
    "import models\n",
    "import utils\n",
    "import os\n",
    "import numpy as np\n",
    "from sklearn.metrics import classification_report, f1_score, confusion_matrix\n",
    "from keras.models import load_model\n",
    "from keras.optimizers import Adam\n",
    "from keras.callbacks import ModelCheckpoint, ReduceLROnPlateau\n",
    "from keras.utils import to_categorical\n",
    "import seaborn as sns\n",
    "import matplotlib.pyplot as plt"
   ]
  },
  {
   "cell_type": "markdown",
   "metadata": {},
   "source": [
    "Differently from 'main.py', all results saved from this notebook are going to be stored in a dedicated folder: './data/notebook/'. For proper execution, this folder needs first to be created."
   ]
  },
  {
   "cell_type": "code",
   "execution_count": 3,
   "metadata": {},
   "outputs": [],
   "source": [
    "if not(os.path.exists(\"./data\")):\n",
    "    os.mkdir(\"./data\")\n",
    "if not(os.path.exists(\"./data/notebook\")):\n",
    "    os.mkdir(\"./data/notebook\")"
   ]
  },
  {
   "cell_type": "markdown",
   "metadata": {},
   "source": [
    "If task A is selected, calssifications in the following notebook are based on the labels of column 0; if instead it's task B, column 6 labels are used."
   ]
  },
  {
   "cell_type": "code",
   "execution_count": 4,
   "metadata": {},
   "outputs": [
    {
     "name": "stdout",
     "output_type": "stream",
     "text": [
      "Task A uses labels column 0\n"
     ]
    }
   ],
   "source": [
    "if task == \"A\":\n",
    "    label = 0\n",
    "elif task == \"B\":\n",
    "    label = 6\n",
    "else:\n",
    "    print(\"Error: invalid task.\")\n",
    "print(\"Task\", task, \"uses labels column\", label)"
   ]
  },
  {
   "cell_type": "markdown",
   "metadata": {},
   "source": [
    "## Classification with null class: One Shot classification\n",
    "Here classification is performed considering inactivity as a class, alongside with the others. In the case of locomotion classification (task A), this becomes a 5-class problem, while in the case of gesture recognition (task B) the classes become 18. In the following cell are perfomed in order:\n",
    "- preprocessing;\n",
    "- model selection;\n",
    "- model compilation;\n",
    "- training.\n",
    "\n",
    "Note that in case \"Convolutional2DRecurrent\" is the model selected, then the preprocessed data need to be reshaped, adding one dimension; this is automatically done by the code."
   ]
  },
  {
   "cell_type": "code",
   "execution_count": 6,
   "metadata": {},
   "outputs": [],
   "source": [
    "# preprocessing\n",
    "X_train, Y_train, X_test, Y_test, n_features, n_classes, class_weights = preprocessing.loadData(subject=subject,\n",
    "                                                                                                label=label,\n",
    "                                                                                                folder=data_folder,\n",
    "                                                                                                window_size=window_size,\n",
    "                                                                                                stride=stride,\n",
    "                                                                                                make_binary=False,\n",
    "                                                                                                null_class=True,\n",
    "                                                                                                print_info=False)\n",
    "\n",
    "# model selection\n",
    "if model_name == \"Convolutional\":\n",
    "    model = models.Convolutional((window_size, n_features), n_classes, print_info=False)\n",
    "elif model_name == \"Convolutional1DRecurrent\":\n",
    "    model = models.Convolutional1DRecurrent((window_size, n_features), n_classes, GPU=GPU, print_info=False)\n",
    "elif model_name == \"Convolutional2DRecurrent\":\n",
    "    model = models.Convolutional2DRecurrent((window_size, n_features, 1), n_classes, GPU=GPU, print_info=False)\n",
    "    # reshaping for 2D convolutional model\n",
    "    X_train = X_train.reshape(X_train.shape[0], window_size, n_features, 1)\n",
    "    X_test = X_test.reshape(X_test.shape[0], window_size, n_features, 1)\n",
    "elif model_name == \"ConvolutionalDeepRecurrent\":\n",
    "    model = models.ConvolutionalDeepRecurrent((window_size, n_features), n_classes, GPU=GPU, print_info=False)\n",
    "else:\n",
    "    print(\"Model not found.\")\n",
    "    break\n",
    "\n",
    "# model compilation\n",
    "model.compile(optimizer = Adam(lr=0.001), loss = \"categorical_crossentropy\", metrics = [\"accuracy\"])\n",
    "save_model_name = task + \"_\" + model_name + \"_OS_\" + str(s)\n",
    "filepath = './data/notebook/'+save_model_name+'.hdf5'\n",
    "print(\"Model:\", save_model_name, \"\\nLocation:\", filepath, \"\\n\")\n",
    "\n",
    "# training\n",
    "checkpointer = ModelCheckpoint(filepath=filepath, verbose=1, save_best_only=True)\n",
    "lr_reducer = ReduceLROnPlateau(factor=0.1, patience=5, min_lr=0.00001, verbose=1)\n",
    "model.fit(x = X_train, \n",
    "        y = to_categorical(Y_train), \n",
    "        epochs = epochs, \n",
    "        batch_size = batch_size,\n",
    "        verbose = 1,\n",
    "        validation_data=(X_test, to_categorical(Y_test)),\n",
    "        callbacks=[checkpointer, lr_reducer])"
   ]
  },
  {
   "cell_type": "markdown",
   "metadata": {},
   "source": [
    "### Model"
   ]
  },
  {
   "cell_type": "code",
   "execution_count": 6,
   "metadata": {},
   "outputs": [],
   "source": [
    "oneshot_model = models.ConvolutionalRecurrent((window_size, n_features), n_classes, print_info=False)\n",
    "\n",
    "oneshot_model.compile(optimizer = Adam(lr=0.001),\n",
    "                      loss = \"categorical_crossentropy\", \n",
    "                      metrics = [\"accuracy\"])\n",
    "\n",
    "checkpointer = ModelCheckpoint(filepath='./data/model_AOS_1.hdf5', verbose=1, save_best_only=True)"
   ]
  },
  {
   "cell_type": "markdown",
   "metadata": {},
   "source": [
    "### Training"
   ]
  },
  {
   "cell_type": "code",
   "execution_count": 7,
   "metadata": {},
   "outputs": [
    {
     "name": "stdout",
     "output_type": "stream",
     "text": [
      "Train on 31423 samples, validate on 11505 samples\n",
      "Epoch 1/15\n",
      "31423/31423 [==============================] - 10s 328us/step - loss: 0.4909 - acc: 0.8142 - val_loss: 0.3507 - val_acc: 0.8696\n",
      "\n",
      "Epoch 00001: val_loss improved from inf to 0.35067, saving model to ./data/model_AOS_1.hdf5\n",
      "Epoch 2/15\n",
      "31423/31423 [==============================] - 5s 172us/step - loss: 0.3290 - acc: 0.8692 - val_loss: 0.3179 - val_acc: 0.8860\n",
      "\n",
      "Epoch 00002: val_loss improved from 0.35067 to 0.31791, saving model to ./data/model_AOS_1.hdf5\n",
      "Epoch 3/15\n",
      "31423/31423 [==============================] - 5s 173us/step - loss: 0.2827 - acc: 0.8885 - val_loss: 0.3022 - val_acc: 0.9007\n",
      "\n",
      "Epoch 00003: val_loss improved from 0.31791 to 0.30218, saving model to ./data/model_AOS_1.hdf5\n",
      "Epoch 4/15\n",
      "31423/31423 [==============================] - 5s 171us/step - loss: 0.2584 - acc: 0.8982 - val_loss: 0.2984 - val_acc: 0.9000\n",
      "\n",
      "Epoch 00004: val_loss improved from 0.30218 to 0.29843, saving model to ./data/model_AOS_1.hdf5\n",
      "Epoch 5/15\n",
      "31423/31423 [==============================] - 5s 172us/step - loss: 0.2386 - acc: 0.9040 - val_loss: 0.3364 - val_acc: 0.8952\n",
      "\n",
      "Epoch 00005: val_loss did not improve\n",
      "Epoch 6/15\n",
      "31423/31423 [==============================] - 5s 173us/step - loss: 0.2284 - acc: 0.9105 - val_loss: 0.3045 - val_acc: 0.9030\n",
      "\n",
      "Epoch 00006: val_loss did not improve\n",
      "Epoch 7/15\n",
      "31423/31423 [==============================] - 5s 172us/step - loss: 0.2195 - acc: 0.9146 - val_loss: 0.2983 - val_acc: 0.9076\n",
      "\n",
      "Epoch 00007: val_loss improved from 0.29843 to 0.29826, saving model to ./data/model_AOS_1.hdf5\n",
      "Epoch 8/15\n",
      "31423/31423 [==============================] - 5s 173us/step - loss: 0.2056 - acc: 0.9196 - val_loss: 0.3087 - val_acc: 0.9009\n",
      "\n",
      "Epoch 00008: val_loss did not improve\n",
      "Epoch 9/15\n",
      "31423/31423 [==============================] - 6s 176us/step - loss: 0.1992 - acc: 0.9238 - val_loss: 0.3035 - val_acc: 0.9046\n",
      "\n",
      "Epoch 00009: val_loss did not improve\n",
      "Epoch 10/15\n",
      "31423/31423 [==============================] - 6s 175us/step - loss: 0.1883 - acc: 0.9265 - val_loss: 0.3125 - val_acc: 0.9079\n",
      "\n",
      "Epoch 00010: val_loss did not improve\n",
      "Epoch 11/15\n",
      "31423/31423 [==============================] - 6s 175us/step - loss: 0.1838 - acc: 0.9284 - val_loss: 0.3212 - val_acc: 0.9033\n",
      "\n",
      "Epoch 00011: val_loss did not improve\n",
      "Epoch 12/15\n",
      "31423/31423 [==============================] - 5s 175us/step - loss: 0.1804 - acc: 0.9292 - val_loss: 0.3223 - val_acc: 0.9045\n",
      "\n",
      "Epoch 00012: val_loss did not improve\n",
      "Epoch 13/15\n",
      "31423/31423 [==============================] - 6s 175us/step - loss: 0.1730 - acc: 0.9325 - val_loss: 0.3092 - val_acc: 0.9081\n",
      "\n",
      "Epoch 00013: val_loss did not improve\n",
      "Epoch 14/15\n",
      "31423/31423 [==============================] - 5s 175us/step - loss: 0.1700 - acc: 0.9323 - val_loss: 0.3072 - val_acc: 0.9094\n",
      "\n",
      "Epoch 00014: val_loss did not improve\n",
      "Epoch 15/15\n",
      "31423/31423 [==============================] - 6s 175us/step - loss: 0.1635 - acc: 0.9357 - val_loss: 0.3402 - val_acc: 0.8964\n",
      "\n",
      "Epoch 00015: val_loss did not improve\n"
     ]
    },
    {
     "data": {
      "text/plain": [
       "<keras.callbacks.History at 0x1f4cc5e4160>"
      ]
     },
     "execution_count": 7,
     "metadata": {},
     "output_type": "execute_result"
    }
   ],
   "source": [
    "oneshot_model.fit(x = X_train, \n",
    "                  y = to_categorical(Y_train),\n",
    "                  epochs = 15,\n",
    "                  batch_size = 128,\n",
    "                  verbose = 1,\n",
    "                  callbacks=[checkpointer],\n",
    "                  validation_data=(X_test, to_categorical(Y_test)),\n",
    "                  class_weight=class_weights)"
   ]
  },
  {
   "cell_type": "markdown",
   "metadata": {},
   "source": [
    "### Evaluation - passare class_weights a class report"
   ]
  },
  {
   "cell_type": "code",
   "execution_count": 8,
   "metadata": {},
   "outputs": [
    {
     "name": "stdout",
     "output_type": "stream",
     "text": [
      "             precision    recall  f1-score   support\n",
      "\n",
      "          0       0.85      0.89      0.87      2039\n",
      "          1       0.92      0.90      0.91      3958\n",
      "          2       0.79      0.80      0.79      2333\n",
      "          3       0.99      0.99      0.99      2733\n",
      "          4       0.94      0.84      0.89       442\n",
      "\n",
      "avg / total       0.90      0.90      0.90     11505\n",
      "\n",
      "Weighted f1-score: 0.8965743574822785\n"
     ]
    }
   ],
   "source": [
    "Y_pred = oneshot_model.predict_classes(X_test)\n",
    "print(classification_report(Y_test, Y_pred))\n",
    "print(\"Weighted f1-score:\", f1_score(Y_test, Y_pred, average='weighted'))"
   ]
  },
  {
   "cell_type": "code",
   "execution_count": 9,
   "metadata": {},
   "outputs": [
    {
     "name": "stdout",
     "output_type": "stream",
     "text": [
      "             precision    recall  f1-score   support\n",
      "\n",
      "          0       0.88      0.88      0.88      2039\n",
      "          1       0.92      0.91      0.92      3958\n",
      "          2       0.83      0.83      0.83      2333\n",
      "          3       0.97      1.00      0.98      2733\n",
      "          4       0.91      0.84      0.88       442\n",
      "\n",
      "avg / total       0.91      0.91      0.91     11505\n",
      "\n",
      "Weighted f1-score: 0.9073576036830062\n"
     ]
    }
   ],
   "source": [
    "oneshot_model_best = load_model('./data/model_AOS_1.hdf5')\n",
    "\n",
    "Y_pred = oneshot_model_best.predict_classes(X_test)\n",
    "print(classification_report(Y_test, Y_pred))\n",
    "print(\"Weighted f1-score:\", f1_score(Y_test, Y_pred, average='weighted'))"
   ]
  },
  {
   "cell_type": "code",
   "execution_count": 10,
   "metadata": {},
   "outputs": [
    {
     "data": {
      "image/png": "[encoded data removed]",
      "text/plain": [
       "<Figure size 432x288 with 2 Axes>"
      ]
     },
     "metadata": {},
     "output_type": "display_data"
    }
   ],
   "source": [
    "cnf_matrix = confusion_matrix(Y_test, Y_pred)\n",
    "np.set_printoptions(precision=2)\n",
    "\n",
    "sns.set_style(\"dark\")\n",
    "plt.figure()\n",
    "utils.plot_confusion_matrix(cnf_matrix, classes=[0,1],\n",
    "                      title='Confusion matrix, without normalization')"
   ]
  },
  {
   "cell_type": "markdown",
   "metadata": {},
   "source": [
    "# Two-steps classification\n",
    "## Activity detection\n",
    "This model performs a binary classification.\n",
    "### Preprocessing"
   ]
  },
  {
   "cell_type": "code",
   "execution_count": 11,
   "metadata": {},
   "outputs": [],
   "source": [
    "X_train, Y_train, X_test, Y_test, n_features, n_classes, class_weights = preprocessing.loadData(subject=subject,\n",
    "                                                                                                label=label,\n",
    "                                                                                                folder=folder,\n",
    "                                                                                                window_size=window_size,\n",
    "                                                                                                stride=stride,\n",
    "                                                                                                make_binary=True,\n",
    "                                                                                                null_class=True,\n",
    "                                                                                                print_info=False)"
   ]
  },
  {
   "cell_type": "markdown",
   "metadata": {},
   "source": [
    "### Model"
   ]
  },
  {
   "cell_type": "code",
   "execution_count": 12,
   "metadata": {},
   "outputs": [],
   "source": [
    "detection_model = models.ConvolutionalRecurrent((window_size, n_features), n_classes, print_info=False)\n",
    "\n",
    "detection_model.compile(optimizer = Adam(lr=0.001),\n",
    "                        loss = \"categorical_crossentropy\", \n",
    "                        metrics = [\"accuracy\"])\n",
    "\n",
    "checkpointer = ModelCheckpoint(filepath='./data/model_ATSD_1.hdf5', verbose=1, save_best_only=True)"
   ]
  },
  {
   "cell_type": "markdown",
   "metadata": {},
   "source": [
    "### Training"
   ]
  },
  {
   "cell_type": "code",
   "execution_count": 13,
   "metadata": {},
   "outputs": [
    {
     "name": "stdout",
     "output_type": "stream",
     "text": [
      "Train on 31423 samples, validate on 11505 samples\n",
      "Epoch 1/15\n",
      "31423/31423 [==============================] - 9s 272us/step - loss: 0.1381 - acc: 0.9541 - val_loss: 0.1605 - val_acc: 0.9485\n",
      "\n",
      "Epoch 00001: val_loss improved from inf to 0.16046, saving model to ./data/model_ATSD_1.hdf5\n",
      "Epoch 2/15\n",
      "31423/31423 [==============================] - 6s 177us/step - loss: 0.0763 - acc: 0.9738 - val_loss: 0.1470 - val_acc: 0.9538\n",
      "\n",
      "Epoch 00002: val_loss improved from 0.16046 to 0.14704, saving model to ./data/model_ATSD_1.hdf5\n",
      "Epoch 3/15\n",
      "31423/31423 [==============================] - 6s 177us/step - loss: 0.0624 - acc: 0.9780 - val_loss: 0.1562 - val_acc: 0.9537\n",
      "\n",
      "Epoch 00003: val_loss did not improve\n",
      "Epoch 4/15\n",
      "31423/31423 [==============================] - 6s 177us/step - loss: 0.0528 - acc: 0.9809 - val_loss: 0.1403 - val_acc: 0.9553\n",
      "\n",
      "Epoch 00004: val_loss improved from 0.14704 to 0.14033, saving model to ./data/model_ATSD_1.hdf5\n",
      "Epoch 5/15\n",
      "31423/31423 [==============================] - 6s 178us/step - loss: 0.0454 - acc: 0.9838 - val_loss: 0.1408 - val_acc: 0.9524\n",
      "\n",
      "Epoch 00005: val_loss did not improve\n",
      "Epoch 6/15\n",
      "31423/31423 [==============================] - 6s 178us/step - loss: 0.0416 - acc: 0.9851 - val_loss: 0.1236 - val_acc: 0.9581\n",
      "\n",
      "Epoch 00006: val_loss improved from 0.14033 to 0.12356, saving model to ./data/model_ATSD_1.hdf5\n",
      "Epoch 7/15\n",
      "31423/31423 [==============================] - 6s 179us/step - loss: 0.0397 - acc: 0.9859 - val_loss: 0.1558 - val_acc: 0.9491\n",
      "\n",
      "Epoch 00007: val_loss did not improve\n",
      "Epoch 8/15\n",
      "31423/31423 [==============================] - 6s 178us/step - loss: 0.0330 - acc: 0.9881 - val_loss: 0.1353 - val_acc: 0.9582\n",
      "\n",
      "Epoch 00008: val_loss did not improve\n",
      "Epoch 9/15\n",
      "31423/31423 [==============================] - 6s 179us/step - loss: 0.0311 - acc: 0.9889 - val_loss: 0.1495 - val_acc: 0.9558\n",
      "\n",
      "Epoch 00009: val_loss did not improve\n",
      "Epoch 10/15\n",
      "31423/31423 [==============================] - 6s 180us/step - loss: 0.0298 - acc: 0.9896 - val_loss: 0.1625 - val_acc: 0.9558\n",
      "\n",
      "Epoch 00010: val_loss did not improve\n",
      "Epoch 11/15\n",
      "31423/31423 [==============================] - 6s 181us/step - loss: 0.0264 - acc: 0.9910 - val_loss: 0.1253 - val_acc: 0.9631\n",
      "\n",
      "Epoch 00011: val_loss did not improve\n",
      "Epoch 12/15\n",
      "31423/31423 [==============================] - 6s 186us/step - loss: 0.0251 - acc: 0.9907 - val_loss: 0.1934 - val_acc: 0.9534\n",
      "\n",
      "Epoch 00012: val_loss did not improve\n",
      "Epoch 13/15\n",
      "31423/31423 [==============================] - 6s 180us/step - loss: 0.0220 - acc: 0.9921 - val_loss: 0.1624 - val_acc: 0.9631\n",
      "\n",
      "Epoch 00013: val_loss did not improve\n",
      "Epoch 14/15\n",
      "31423/31423 [==============================] - 6s 176us/step - loss: 0.0240 - acc: 0.9915 - val_loss: 0.1413 - val_acc: 0.9558\n",
      "\n",
      "Epoch 00014: val_loss did not improve\n",
      "Epoch 15/15\n",
      "31423/31423 [==============================] - 6s 177us/step - loss: 0.0216 - acc: 0.9922 - val_loss: 0.1587 - val_acc: 0.9540\n",
      "\n",
      "Epoch 00015: val_loss did not improve\n"
     ]
    },
    {
     "data": {
      "text/plain": [
       "<keras.callbacks.History at 0x1f4b2148438>"
      ]
     },
     "execution_count": 13,
     "metadata": {},
     "output_type": "execute_result"
    }
   ],
   "source": [
    "detection_model.fit(x = X_train, \n",
    "                    y = to_categorical(Y_train), \n",
    "                    epochs = 15, \n",
    "                    batch_size = 128,\n",
    "                    verbose = 1,\n",
    "                    callbacks=[checkpointer],\n",
    "                    validation_data=(X_test, to_categorical(Y_test)),\n",
    "                    class_weight=class_weights)"
   ]
  },
  {
   "cell_type": "markdown",
   "metadata": {},
   "source": [
    "### Evaluation"
   ]
  },
  {
   "cell_type": "code",
   "execution_count": 14,
   "metadata": {},
   "outputs": [
    {
     "name": "stdout",
     "output_type": "stream",
     "text": [
      "             precision    recall  f1-score   support\n",
      "\n",
      "          0       0.92      0.81      0.86      2039\n",
      "          1       0.96      0.98      0.97      9466\n",
      "\n",
      "avg / total       0.95      0.95      0.95     11505\n",
      "\n",
      "Weighted f1-score: 0.9528960217945623\n"
     ]
    }
   ],
   "source": [
    "Y_pred = detection_model.predict_classes(X_test)\n",
    "print(classification_report(Y_test, Y_pred))\n",
    "print(\"Weighted f1-score:\", f1_score(Y_test, Y_pred, average='weighted'))"
   ]
  },
  {
   "cell_type": "code",
   "execution_count": 15,
   "metadata": {},
   "outputs": [
    {
     "name": "stdout",
     "output_type": "stream",
     "text": [
      "             precision    recall  f1-score   support\n",
      "\n",
      "          0       0.95      0.80      0.87      2039\n",
      "          1       0.96      0.99      0.97      9466\n",
      "\n",
      "avg / total       0.96      0.96      0.96     11505\n",
      "\n",
      "Weighted f1-score: 0.9566994574560295\n"
     ]
    }
   ],
   "source": [
    "detection_model_best = load_model('./data/model_ATSD_1.hdf5')\n",
    "\n",
    "Y_pred = detection_model_best.predict_classes(X_test)\n",
    "print(classification_report(Y_test, Y_pred))\n",
    "print(\"Weighted f1-score:\", f1_score(Y_test, Y_pred, average='weighted'))"
   ]
  },
  {
   "cell_type": "code",
   "execution_count": 16,
   "metadata": {},
   "outputs": [
    {
     "data": {
      "image/png": "[encoded data removed]",
      "text/plain": [
       "<Figure size 432x288 with 2 Axes>"
      ]
     },
     "metadata": {},
     "output_type": "display_data"
    }
   ],
   "source": [
    "cnf_matrix = confusion_matrix(Y_test, Y_pred)\n",
    "np.set_printoptions(precision=2)\n",
    "\n",
    "sns.set_style(\"dark\")\n",
    "plt.figure()\n",
    "utils.plot_confusion_matrix(cnf_matrix, classes=[0,1],\n",
    "                      title='Confusion matrix, without normalization')"
   ]
  },
  {
   "cell_type": "code",
   "execution_count": 17,
   "metadata": {},
   "outputs": [],
   "source": [
    "Y_pred_d = Y_pred"
   ]
  },
  {
   "cell_type": "markdown",
   "metadata": {},
   "source": [
    "## Activity classification"
   ]
  },
  {
   "cell_type": "code",
   "execution_count": 18,
   "metadata": {},
   "outputs": [],
   "source": [
    "X_train, Y_train, X_test, Y_test, n_features, n_classes, class_weights = preprocessing.loadData(subject=subject,\n",
    "                                                                                                label=label,\n",
    "                                                                                                folder=folder,\n",
    "                                                                                                window_size=window_size,\n",
    "                                                                                                stride=stride,\n",
    "                                                                                                make_binary=False,\n",
    "                                                                                                null_class=False,\n",
    "                                                                                                print_info=False)"
   ]
  },
  {
   "cell_type": "markdown",
   "metadata": {},
   "source": [
    "### Model"
   ]
  },
  {
   "cell_type": "code",
   "execution_count": 19,
   "metadata": {},
   "outputs": [],
   "source": [
    "classification_model = models.ConvolutionalRecurrent((window_size, n_features), n_classes, print_info=False)\n",
    "\n",
    "classification_model.compile(optimizer = Adam(lr=0.001),\n",
    "                             loss = \"categorical_crossentropy\", \n",
    "                             metrics = [\"accuracy\"])\n",
    "\n",
    "checkpointer = ModelCheckpoint(filepath='./data/model_ATSC_1.hdf5', verbose=1, save_best_only=True)"
   ]
  },
  {
   "cell_type": "markdown",
   "metadata": {},
   "source": [
    "### Training"
   ]
  },
  {
   "cell_type": "code",
   "execution_count": 20,
   "metadata": {},
   "outputs": [
    {
     "name": "stdout",
     "output_type": "stream",
     "text": [
      "Train on 27949 samples, validate on 9466 samples\n",
      "Epoch 1/15\n",
      "27949/27949 [==============================] - 9s 309us/step - loss: 0.3618 - acc: 0.8527 - val_loss: 0.2699 - val_acc: 0.9145\n",
      "\n",
      "Epoch 00001: val_loss improved from inf to 0.26991, saving model to ./data/model_ATSC_1.hdf5\n",
      "Epoch 2/15\n",
      "27949/27949 [==============================] - 5s 182us/step - loss: 0.2441 - acc: 0.8977 - val_loss: 0.2743 - val_acc: 0.9184\n",
      "\n",
      "Epoch 00002: val_loss did not improve\n",
      "Epoch 3/15\n",
      "27949/27949 [==============================] - 5s 176us/step - loss: 0.2131 - acc: 0.9097 - val_loss: 0.2686 - val_acc: 0.9201\n",
      "\n",
      "Epoch 00003: val_loss improved from 0.26991 to 0.26859, saving model to ./data/model_ATSC_1.hdf5\n",
      "Epoch 4/15\n",
      "27949/27949 [==============================] - 5s 175us/step - loss: 0.1971 - acc: 0.9184 - val_loss: 0.2504 - val_acc: 0.9224\n",
      "\n",
      "Epoch 00004: val_loss improved from 0.26859 to 0.25044, saving model to ./data/model_ATSC_1.hdf5\n",
      "Epoch 5/15\n",
      "27949/27949 [==============================] - 5s 175us/step - loss: 0.1819 - acc: 0.9252 - val_loss: 0.2252 - val_acc: 0.9259\n",
      "\n",
      "Epoch 00005: val_loss improved from 0.25044 to 0.22523, saving model to ./data/model_ATSC_1.hdf5\n",
      "Epoch 6/15\n",
      "27949/27949 [==============================] - 5s 175us/step - loss: 0.1695 - acc: 0.9304 - val_loss: 0.2747 - val_acc: 0.9256\n",
      "\n",
      "Epoch 00006: val_loss did not improve\n",
      "Epoch 7/15\n",
      "27949/27949 [==============================] - 5s 176us/step - loss: 0.1651 - acc: 0.9326 - val_loss: 0.2376 - val_acc: 0.9225\n",
      "\n",
      "Epoch 00007: val_loss did not improve\n",
      "Epoch 8/15\n",
      "27949/27949 [==============================] - 5s 176us/step - loss: 0.1580 - acc: 0.9346 - val_loss: 0.2594 - val_acc: 0.9169\n",
      "\n",
      "Epoch 00008: val_loss did not improve\n",
      "Epoch 9/15\n",
      "27949/27949 [==============================] - 5s 176us/step - loss: 0.1531 - acc: 0.9375 - val_loss: 0.2125 - val_acc: 0.9304\n",
      "\n",
      "Epoch 00009: val_loss improved from 0.22523 to 0.21254, saving model to ./data/model_ATSC_1.hdf5\n",
      "Epoch 10/15\n",
      "27949/27949 [==============================] - 5s 177us/step - loss: 0.1467 - acc: 0.9414 - val_loss: 0.2676 - val_acc: 0.9220\n",
      "\n",
      "Epoch 00010: val_loss did not improve\n",
      "Epoch 11/15\n",
      "27949/27949 [==============================] - 5s 177us/step - loss: 0.1428 - acc: 0.9426 - val_loss: 0.2377 - val_acc: 0.9246\n",
      "\n",
      "Epoch 00011: val_loss did not improve\n",
      "Epoch 12/15\n",
      "27949/27949 [==============================] - 5s 177us/step - loss: 0.1353 - acc: 0.9449 - val_loss: 0.2008 - val_acc: 0.9237\n",
      "\n",
      "Epoch 00012: val_loss improved from 0.21254 to 0.20084, saving model to ./data/model_ATSC_1.hdf5\n",
      "Epoch 13/15\n",
      "27949/27949 [==============================] - 5s 177us/step - loss: 0.1343 - acc: 0.9452 - val_loss: 0.1970 - val_acc: 0.9305\n",
      "\n",
      "Epoch 00013: val_loss improved from 0.20084 to 0.19697, saving model to ./data/model_ATSC_1.hdf5\n",
      "Epoch 14/15\n",
      "27949/27949 [==============================] - 5s 179us/step - loss: 0.1287 - acc: 0.9479 - val_loss: 0.2205 - val_acc: 0.9274\n",
      "\n",
      "Epoch 00014: val_loss did not improve\n",
      "Epoch 15/15\n",
      "27949/27949 [==============================] - 5s 181us/step - loss: 0.1232 - acc: 0.9504 - val_loss: 0.2918 - val_acc: 0.9263\n",
      "\n",
      "Epoch 00015: val_loss did not improve\n"
     ]
    },
    {
     "data": {
      "text/plain": [
       "<keras.callbacks.History at 0x1f4c9e34978>"
      ]
     },
     "execution_count": 20,
     "metadata": {},
     "output_type": "execute_result"
    }
   ],
   "source": [
    "classification_model.fit(x = X_train,\n",
    "                         y = to_categorical(Y_train), \n",
    "                         epochs = 15, \n",
    "                         batch_size = 128,\n",
    "                         verbose = 1,\n",
    "                         callbacks=[checkpointer],\n",
    "                         validation_data=(X_test, to_categorical(Y_test)),\n",
    "                         class_weight=class_weights)"
   ]
  },
  {
   "cell_type": "markdown",
   "metadata": {},
   "source": [
    "### Evaluation"
   ]
  },
  {
   "cell_type": "code",
   "execution_count": 21,
   "metadata": {},
   "outputs": [
    {
     "name": "stdout",
     "output_type": "stream",
     "text": [
      "             precision    recall  f1-score   support\n",
      "\n",
      "          0       0.94      0.90      0.92      3958\n",
      "          1       0.83      0.90      0.86      2333\n",
      "          2       0.99      1.00      0.99      2733\n",
      "          3       1.00      0.85      0.92       442\n",
      "\n",
      "avg / total       0.93      0.93      0.93      9466\n",
      "\n",
      "Weighted f1-score: 0.9267518071621716\n"
     ]
    }
   ],
   "source": [
    "Y_pred = classification_model.predict_classes(X_test)\n",
    "print(classification_report(Y_test, Y_pred))\n",
    "print(\"Weighted f1-score:\", f1_score(Y_test, Y_pred, average='weighted'))"
   ]
  },
  {
   "cell_type": "code",
   "execution_count": 22,
   "metadata": {},
   "outputs": [
    {
     "name": "stdout",
     "output_type": "stream",
     "text": [
      "             precision    recall  f1-score   support\n",
      "\n",
      "          0       0.92      0.93      0.93      3958\n",
      "          1       0.86      0.87      0.87      2333\n",
      "          2       0.99      1.00      0.99      2733\n",
      "          3       1.00      0.86      0.92       442\n",
      "\n",
      "avg / total       0.93      0.93      0.93      9466\n",
      "\n",
      "Weighted f1-score: 0.9305368499675762\n"
     ]
    }
   ],
   "source": [
    "classification_model_best = load_model('./data/model_ATSC_1.hdf5')\n",
    "\n",
    "Y_pred = classification_model_best.predict_classes(X_test)\n",
    "print(classification_report(Y_test, Y_pred))\n",
    "print(\"Weighted f1-score:\", f1_score(Y_test, Y_pred, average='weighted'))"
   ]
  },
  {
   "cell_type": "code",
   "execution_count": 23,
   "metadata": {},
   "outputs": [
    {
     "data": {
      "image/png": "[encoded data removed]",
      "text/plain": [
       "<Figure size 432x288 with 2 Axes>"
      ]
     },
     "metadata": {},
     "output_type": "display_data"
    }
   ],
   "source": [
    "cnf_matrix = confusion_matrix(Y_test, Y_pred)\n",
    "np.set_printoptions(precision=2)\n",
    "\n",
    "sns.set_style(\"dark\")\n",
    "plt.figure()\n",
    "utils.plot_confusion_matrix(cnf_matrix, classes=[0,1],\n",
    "                      title='Confusion matrix, without normalization')"
   ]
  },
  {
   "cell_type": "markdown",
   "metadata": {},
   "source": [
    "## Cascade of detection and classification\n",
    "The labels that have to be used for assessment are saved in Y_test_true. The labels predicted by the detection_model are saved instead in Y_pred_d."
   ]
  },
  {
   "cell_type": "code",
   "execution_count": 24,
   "metadata": {},
   "outputs": [
    {
     "name": "stdout",
     "output_type": "stream",
     "text": [
      "(11505,) (11505,)\n"
     ]
    }
   ],
   "source": [
    "print(Y_test_true.shape, Y_pred_d.shape)"
   ]
  },
  {
   "cell_type": "code",
   "execution_count": 25,
   "metadata": {},
   "outputs": [],
   "source": [
    "X_train, Y_train, X_test, Y_test, n_features, n_classes, class_weights = preprocessing.loadData(subject=subject,\n",
    "                                                                                                label=label,\n",
    "                                                                                                folder=folder,\n",
    "                                                                                                window_size=window_size,\n",
    "                                                                                                stride=stride,\n",
    "                                                                                                make_binary=True,\n",
    "                                                                                                null_class=True,\n",
    "                                                                                                print_info=False)"
   ]
  },
  {
   "cell_type": "code",
   "execution_count": 26,
   "metadata": {},
   "outputs": [],
   "source": [
    "mask = (Y_pred_d == 1)\n",
    "X_detected = X_test[mask, :, :]\n",
    "Y_pred_c = classification_model_best.predict_classes(X_detected)\n",
    "Y_pred_d[mask] = Y_pred_c"
   ]
  },
  {
   "cell_type": "code",
   "execution_count": 27,
   "metadata": {},
   "outputs": [
    {
     "name": "stdout",
     "output_type": "stream",
     "text": [
      "             precision    recall  f1-score   support\n",
      "\n",
      "          0       0.30      0.84      0.44      2039\n",
      "          1       0.10      0.06      0.08      3958\n",
      "          2       0.00      0.00      0.00      2333\n",
      "          3       0.00      0.00      0.00      2733\n",
      "          4       0.00      0.00      0.00       442\n",
      "\n",
      "avg / total       0.09      0.17      0.11     11505\n",
      "\n",
      "Weighted f1-score: 0.1054545307463817\n"
     ]
    },
    {
     "name": "stderr",
     "output_type": "stream",
     "text": [
      "C:\\Users\\Riccardo\\Anaconda3\\lib\\site-packages\\sklearn\\metrics\\classification.py:1135: UndefinedMetricWarning: Precision and F-score are ill-defined and being set to 0.0 in labels with no predicted samples.\n",
      "  'precision', 'predicted', average, warn_for)\n",
      "C:\\Users\\Riccardo\\Anaconda3\\lib\\site-packages\\sklearn\\metrics\\classification.py:1135: UndefinedMetricWarning: F-score is ill-defined and being set to 0.0 in labels with no predicted samples.\n",
      "  'precision', 'predicted', average, warn_for)\n"
     ]
    }
   ],
   "source": [
    "print(classification_report(Y_test_true, Y_pred_d))\n",
    "print(\"Weighted f1-score:\", f1_score(Y_test_true, Y_pred_d, average='weighted'))"
   ]
  },
  {
   "cell_type": "markdown",
   "metadata": {},
   "source": [
    "One-shot classification instead had:"
   ]
  },
  {
   "cell_type": "code",
   "execution_count": 28,
   "metadata": {},
   "outputs": [],
   "source": [
    "X_train, Y_train, X_test, Y_test, n_features, n_classes, class_weights = preprocessing.loadData(subject=subject,\n",
    "                                                                                                label=label,\n",
    "                                                                                                folder=folder,\n",
    "                                                                                                window_size=window_size,\n",
    "                                                                                                stride=stride,\n",
    "                                                                                                make_binary=False,\n",
    "                                                                                                null_class=True,\n",
    "                                                                                                print_info=False)"
   ]
  },
  {
   "cell_type": "code",
   "execution_count": 29,
   "metadata": {},
   "outputs": [
    {
     "name": "stdout",
     "output_type": "stream",
     "text": [
      "             precision    recall  f1-score   support\n",
      "\n",
      "          0       0.88      0.88      0.88      2039\n",
      "          1       0.92      0.91      0.92      3958\n",
      "          2       0.83      0.83      0.83      2333\n",
      "          3       0.97      1.00      0.98      2733\n",
      "          4       0.91      0.84      0.88       442\n",
      "\n",
      "avg / total       0.91      0.91      0.91     11505\n",
      "\n",
      "Weighted f1-score: 0.9073576036830062\n"
     ]
    }
   ],
   "source": [
    "oneshot_model_best = load_model('./data/model_AOS_1.hdf5')\n",
    "\n",
    "Y_pred = oneshot_model_best.predict_classes(X_test)\n",
    "print(classification_report(Y_test, Y_pred))\n",
    "print(\"Weighted f1-score:\", f1_score(Y_test, Y_pred, average='weighted'))"
   ]
  },
  {
   "cell_type": "markdown",
   "metadata": {},
   "source": [
    "# end"
   ]
  }
 ],
 "metadata": {
  "kernelspec": {
   "display_name": "Python 3",
   "language": "python",
   "name": "python3"
  },
  "language_info": {
   "codemirror_mode": {
    "name": "ipython",
    "version": 3
   },
   "file_extension": ".py",
   "mimetype": "text/x-python",
   "name": "python",
   "nbconvert_exporter": "python",
   "pygments_lexer": "ipython3",
   "version": "3.6.4"
  }
 },
 "nbformat": 4,
 "nbformat_minor": 2
}
