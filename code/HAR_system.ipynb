{
 "cells": [
  {
   "cell_type": "markdown",
   "metadata": {},
   "source": [
    "# HAR system - Lincetto Riccardo, Drago Matteo\n",
    "This notebook runs:\n",
    "- Classification with null class (One Shot classification);\n",
    "- Binary classification for activity detection (Two Steps - detection);\n",
    "- Classification without null class (Two Steps - classification);\n",
    "- Cascade of the last two methods.\n",
    "\n",
    "The operations performed here are very similar to those execute in 'main.py', with the exception that here the program is executed for specified user and model.\n",
    "\n",
    "## Notebook setup\n",
    "This first cell contains the parameters that can be tuned for code execution:\n",
    "- subject: select the subject on which to test the model, between [1,4];\n",
    "- task: choose \"A\" for locomotion classification or \"B\" for gesture recognition;\n",
    "- model_name: choose between \"Convolutional\", \"Convolutional1DRecurrent\", \"Convolutional2DRecurrent\" and \"ConvolutionalDeepRecurrent\";\n",
    "- data_folder: directory name where '.mat' files are stored;\n",
    "- window_size: parameter that sets the length of temporal windows on which to perform the convolution;\n",
    "- stride: step length to chose the next window;\n",
    "- GPU: boolean flag indicatin wheter GPU is present on the machine that executes the code;\n",
    "- epochs: number of complete sweeps of the data signals during training;\n",
    "- batch_size: number of forward propagations in the networks between consecutives backpropagations."
   ]
  },
  {
   "cell_type": "code",
   "execution_count": 1,
   "metadata": {},
   "outputs": [],
   "source": [
    "subject = 2\n",
    "task = \"B\"\n",
    "model_name = \"Convolutional\"\n",
    "data_folder = \"./data/full/\"\n",
    "window_size = 15\n",
    "stride = 5\n",
    "GPU = True\n",
    "epochs = 15\n",
    "batch_size = 32"
   ]
  },
  {
   "cell_type": "markdown",
   "metadata": {},
   "source": [
    "Here the useful functions are imported."
   ]
  },
  {
   "cell_type": "code",
   "execution_count": 2,
   "metadata": {},
   "outputs": [
    {
     "name": "stderr",
     "output_type": "stream",
     "text": [
      "C:\\Users\\Riccardo\\Anaconda3\\lib\\site-packages\\h5py\\__init__.py:36: FutureWarning: Conversion of the second argument of issubdtype from `float` to `np.floating` is deprecated. In future, it will be treated as `np.float64 == np.dtype(float).type`.\n",
      "  from ._conv import register_converters as _register_converters\n",
      "Using TensorFlow backend.\n"
     ]
    }
   ],
   "source": [
    "import preprocessing\n",
    "import models\n",
    "import utils\n",
    "import os\n",
    "import numpy as np\n",
    "from sklearn.metrics import classification_report, f1_score, confusion_matrix\n",
    "from keras.models import load_model\n",
    "from keras.optimizers import Adam\n",
    "from keras.callbacks import ModelCheckpoint, ReduceLROnPlateau\n",
    "from keras.utils import to_categorical\n",
    "import seaborn as sns\n",
    "import matplotlib.pyplot as plt"
   ]
  },
  {
   "cell_type": "markdown",
   "metadata": {},
   "source": [
    "Differently from 'main.py', all results saved from this notebook are going to be stored in a dedicated folder: './data/notebook/'. For proper execution, this folder needs first to be created."
   ]
  },
  {
   "cell_type": "code",
   "execution_count": 3,
   "metadata": {},
   "outputs": [],
   "source": [
    "if not(os.path.exists(\"./data\")):\n",
    "    os.mkdir(\"./data\")\n",
    "if not(os.path.exists(\"./data/notebook\")):\n",
    "    os.mkdir(\"./data/notebook\")"
   ]
  },
  {
   "cell_type": "markdown",
   "metadata": {},
   "source": [
    "If task A is selected, calssifications in the following notebook are based on the labels of column 0; if instead it's task B, column 6 labels are used."
   ]
  },
  {
   "cell_type": "code",
   "execution_count": 4,
   "metadata": {},
   "outputs": [
    {
     "name": "stdout",
     "output_type": "stream",
     "text": [
      "Task B uses labels column 6\n"
     ]
    }
   ],
   "source": [
    "if task == \"A\":\n",
    "    label = 0\n",
    "    classes = [\"Inactive\",\"Stand\",\"Walk\",\"Sit\",\"Lie\"]\n",
    "elif task == \"B\":\n",
    "    label = 6\n",
    "    classes = [\"Close Dishwasher\",\"Close Drawer 3\",\"Close Drawer 2\",\"Inactive\",\"Close Door 1\",\"Close Door 2\",\"Close Drawer 1\",\"Close Fridge\",\"Toggle Switch\",\"Open Dishwasher\",\"Open Drawer 3\",\"Open Drawer 2\",\"Open Door 1\",\"Open Door 2\",\"Open Drawer 1\",\"Open Fridge\",\"Drink from Cup\",\"Clean Table\"]\n",
    "else:\n",
    "    print(\"Error: invalid task.\")\n",
    "print(\"Task\", task, \"uses labels column\", label)"
   ]
  },
  {
   "cell_type": "markdown",
   "metadata": {},
   "source": [
    "## Classification with null class: One Shot classification\n",
    "Here classification is performed considering inactivity as a class, alongside with the others. In the case of locomotion classification (task A), this becomes a 5-class problem, while in the case of gesture recognition (task B) the classes become 18. In the following cell are perfomed in order:\n",
    "- preprocessing;\n",
    "- model selection;\n",
    "- model compilation;\n",
    "- training.\n",
    "\n",
    "Note that in case \"Convolutional2DRecurrent\" is the model selected, then the preprocessed data need to be reshaped, adding one dimension; this is automatically done by the code."
   ]
  },
  {
   "cell_type": "code",
   "execution_count": 5,
   "metadata": {},
   "outputs": [],
   "source": [
    "# preprocessing\n",
    "X_train, Y_train, X_test, Y_test, n_features, n_classes, class_weights = preprocessing.loadData(subject=subject,\n",
    "                                                                                                label=label,\n",
    "                                                                                                folder=data_folder,\n",
    "                                                                                                window_size=window_size,\n",
    "                                                                                                stride=stride,\n",
    "                                                                                                make_binary=False,\n",
    "                                                                                                null_class=True,\n",
    "                                                                                                print_info=False)"
   ]
  },
  {
   "cell_type": "code",
   "execution_count": 6,
   "metadata": {},
   "outputs": [
    {
     "name": "stdout",
     "output_type": "stream",
     "text": [
      "\n",
      " (0, 1.0)\n",
      "[ True  True  True ...  True  True  True]\n",
      "(18325, 15, 110) (18325,)\n",
      "(18325, 15, 110) (18325,)\n",
      "18325 18325\n",
      "\n",
      " (1, 33.0)\n",
      "[False False False ... False False False]\n",
      "(548, 15, 110) (548,)\n",
      "(18084, 15, 110) (18084,)\n",
      "36409 36409\n",
      "\n",
      " (2, 44.0)\n",
      "[False False False ... False False False]\n",
      "(413, 15, 110) (413,)\n",
      "(18172, 15, 110) (18172,)\n",
      "54581 54581\n",
      "\n",
      " (3, 76.0)\n",
      "[False False False ... False False False]\n",
      "(240, 15, 110) (240,)\n",
      "(18240, 15, 110) (18240,)\n",
      "72821 72821\n",
      "\n",
      " (4, 31.0)\n",
      "[False False False ... False False False]\n",
      "(589, 15, 110) (589,)\n",
      "(18259, 15, 110) (18259,)\n",
      "91080 91080\n",
      "\n",
      " (5, 29.0)\n",
      "[False False False ... False False False]\n",
      "(629, 15, 110) (629,)\n",
      "(18241, 15, 110) (18241,)\n",
      "109321 109321\n",
      "\n",
      " (6, 65.0)\n",
      "[False False False ... False False False]\n",
      "(279, 15, 110) (279,)\n",
      "(18135, 15, 110) (18135,)\n",
      "127456 127456\n",
      "\n",
      " (7, 27.0)\n",
      "[False False False ... False False False]\n",
      "(656, 15, 110) (656,)\n",
      "(17712, 15, 110) (17712,)\n",
      "145168 145168\n",
      "\n",
      " (8, 34.0)\n",
      "[False False False ... False False False]\n",
      "(534, 15, 110) (534,)\n",
      "(18156, 15, 110) (18156,)\n",
      "163324 163324\n",
      "\n",
      " (9, 28.0)\n",
      "[False False False ... False False False]\n",
      "(648, 15, 110) (648,)\n",
      "(18144, 15, 110) (18144,)\n",
      "181468 181468\n",
      "\n",
      " (10, 49.0)\n",
      "[False False False ... False False False]\n",
      "(369, 15, 110) (369,)\n",
      "(18081, 15, 110) (18081,)\n",
      "199549 199549\n",
      "\n",
      " (11, 59.0)\n",
      "[False False False ... False False False]\n",
      "(310, 15, 110) (310,)\n",
      "(18290, 15, 110) (18290,)\n",
      "217839 217839\n",
      "\n",
      " (12, 31.0)\n",
      "[False False False ... False False False]\n",
      "(577, 15, 110) (577,)\n",
      "(17887, 15, 110) (17887,)\n",
      "235726 235726\n",
      "\n",
      " (13, 32.0)\n",
      "[False False False ... False False False]\n",
      "(558, 15, 110) (558,)\n",
      "(17856, 15, 110) (17856,)\n",
      "253582 253582\n",
      "\n",
      " (14, 43.0)\n",
      "[False False False ... False False False]\n",
      "(417, 15, 110) (417,)\n",
      "(17931, 15, 110) (17931,)\n",
      "271513 271513\n",
      "\n",
      " (15, 25.0)\n",
      "[False False False ... False False False]\n",
      "(727, 15, 110) (727,)\n",
      "(18175, 15, 110) (18175,)\n",
      "289688 289688\n",
      "\n",
      " (16, 7.0)\n",
      "[False False False ... False False False]\n",
      "(2363, 15, 110) (2363,)\n",
      "(16541, 15, 110) (16541,)\n",
      "306229 306229\n",
      "\n",
      " (17, 18.0)\n",
      "[False False False ... False False False]\n",
      "(976, 15, 110) (976,)\n",
      "(17568, 15, 110) (17568,)\n",
      "323797 323797\n",
      "(323797, 15, 110) <class 'numpy.ndarray'>\n",
      "(323797,) <class 'numpy.ndarray'>\n"
     ]
    }
   ],
   "source": [
    "# class balancing\n",
    "class_weights = np.floor(class_weights / np.min(class_weights))\n",
    "class_weights\n",
    "elenco = []\n",
    "elenco2 = []\n",
    "for l in enumerate(class_weights):\n",
    "    print(\"\\n\",l)\n",
    "    mask = (Y_train == l[0])\n",
    "    print(mask)\n",
    "    print(X_train[mask,:,:].shape, Y_train[mask].shape)\n",
    "    X_train_bal = np.tile(X_train[mask,:,:], (int(l[1]),1,1))\n",
    "    Y_train_bal = np.tile(Y_train[mask], int(l[1]))\n",
    "    print(X_train_bal.shape, Y_train_bal.shape)\n",
    "    for i in range(X_train_bal.shape[0]):\n",
    "        elenco.append(X_train_bal[i,:,:] + np.random.normal(scale=0.1))  # add here normal distributed noise\n",
    "        elenco2.append(Y_train_bal[i])\n",
    "    print(len(elenco), len(elenco2))\n",
    "X_train = np.asarray(elenco)\n",
    "print(X_train.shape, type(X_train))\n",
    "del elenco\n",
    "Y_train = np.asarray(elenco2)\n",
    "print(Y_train.shape, type(Y_train))\n",
    "del elenco2\n",
    "rng_state = np.random.get_state()\n",
    "np.random.shuffle(X_train)\n",
    "np.random.set_state(rng_state)\n",
    "np.random.shuffle(Y_train)"
   ]
  },
  {
   "cell_type": "code",
   "execution_count": 7,
   "metadata": {},
   "outputs": [
    {
     "name": "stdout",
     "output_type": "stream",
     "text": [
      "Model: B_Convolutional_OS_2 \n",
      "Location: ./data/notebook/B_Convolutional_OS_2.hdf5 \n",
      "\n",
      "Train on 323797 samples, validate on 11541 samples\n",
      "Epoch 1/15\n",
      "323797/323797 [==============================] - 97s 301us/step - loss: 1.2374 - acc: 0.6009 - val_loss: 1.8086 - val_acc: 0.4613\n",
      "\n",
      "Epoch 00001: val_loss improved from inf to 1.80858, saving model to ./data/notebook/B_Convolutional_OS_2.hdf5\n",
      "Epoch 2/15\n",
      "323797/323797 [==============================] - 94s 292us/step - loss: 0.7746 - acc: 0.7549 - val_loss: 1.5694 - val_acc: 0.6256\n",
      "\n",
      "Epoch 00002: val_loss improved from 1.80858 to 1.56937, saving model to ./data/notebook/B_Convolutional_OS_2.hdf5\n",
      "Epoch 3/15\n",
      "323797/323797 [==============================] - 94s 290us/step - loss: 0.6438 - acc: 0.8019 - val_loss: 1.6587 - val_acc: 0.6135\n",
      "\n",
      "Epoch 00003: val_loss did not improve\n",
      "Epoch 4/15\n",
      "323797/323797 [==============================] - 94s 290us/step - loss: 0.5785 - acc: 0.8252 - val_loss: 1.7156 - val_acc: 0.6502\n",
      "\n",
      "Epoch 00004: val_loss did not improve\n",
      "Epoch 5/15\n",
      "323797/323797 [==============================] - 94s 291us/step - loss: 0.5373 - acc: 0.8393 - val_loss: 1.6114 - val_acc: 0.6400\n",
      "\n",
      "Epoch 00005: val_loss did not improve\n",
      "Epoch 6/15\n",
      "323797/323797 [==============================] - 95s 292us/step - loss: 0.5101 - acc: 0.8483 - val_loss: 1.5915 - val_acc: 0.6771\n",
      "\n",
      "Epoch 00006: val_loss did not improve\n",
      "Epoch 7/15\n",
      "323797/323797 [==============================] - 95s 292us/step - loss: 0.4858 - acc: 0.8560 - val_loss: 1.6049 - val_acc: 0.6573\n",
      "\n",
      "Epoch 00007: val_loss did not improve\n",
      "Epoch 8/15\n",
      "323797/323797 [==============================] - 94s 291us/step - loss: 0.4688 - acc: 0.8621 - val_loss: 1.6378 - val_acc: 0.6666\n",
      "\n",
      "Epoch 00008: val_loss did not improve\n",
      "\n",
      "Epoch 00008: ReduceLROnPlateau reducing learning rate to 0.00010000000474974513.\n",
      "Epoch 9/15\n",
      "323797/323797 [==============================] - 94s 291us/step - loss: 0.3342 - acc: 0.9070 - val_loss: 1.4170 - val_acc: 0.7007\n",
      "\n",
      "Epoch 00009: val_loss improved from 1.56937 to 1.41701, saving model to ./data/notebook/B_Convolutional_OS_2.hdf5\n",
      "Epoch 10/15\n",
      "323797/323797 [==============================] - 94s 290us/step - loss: 0.3026 - acc: 0.9130 - val_loss: 1.3983 - val_acc: 0.7100\n",
      "\n",
      "Epoch 00010: val_loss improved from 1.41701 to 1.39825, saving model to ./data/notebook/B_Convolutional_OS_2.hdf5\n",
      "Epoch 11/15\n",
      "323797/323797 [==============================] - 97s 299us/step - loss: 0.2908 - acc: 0.9145 - val_loss: 1.4469 - val_acc: 0.6969\n",
      "\n",
      "Epoch 00011: val_loss did not improve\n",
      "Epoch 12/15\n",
      "323797/323797 [==============================] - 95s 293us/step - loss: 0.2821 - acc: 0.9162 - val_loss: 1.4305 - val_acc: 0.7034\n",
      "\n",
      "Epoch 00012: val_loss did not improve\n",
      "Epoch 13/15\n",
      "323797/323797 [==============================] - 97s 301us/step - loss: 0.2764 - acc: 0.9180 - val_loss: 1.4463 - val_acc: 0.6966\n",
      "\n",
      "Epoch 00013: val_loss did not improve\n",
      "Epoch 14/15\n",
      "323797/323797 [==============================] - 95s 294us/step - loss: 0.2714 - acc: 0.9189 - val_loss: 1.5071 - val_acc: 0.6676\n",
      "\n",
      "Epoch 00014: val_loss did not improve\n",
      "Epoch 15/15\n",
      "323797/323797 [==============================] - 97s 299us/step - loss: 0.2670 - acc: 0.9198 - val_loss: 1.3974 - val_acc: 0.7232\n",
      "\n",
      "Epoch 00015: val_loss improved from 1.39825 to 1.39736, saving model to ./data/notebook/B_Convolutional_OS_2.hdf5\n"
     ]
    },
    {
     "data": {
      "text/plain": [
       "<keras.callbacks.History at 0x2b229685240>"
      ]
     },
     "execution_count": 7,
     "metadata": {},
     "output_type": "execute_result"
    }
   ],
   "source": [
    "# model selection\n",
    "if model_name == \"Convolutional\":\n",
    "    model = models.Convolutional((window_size, n_features), n_classes, print_info=False)\n",
    "elif model_name == \"Convolutional1DRecurrent\":\n",
    "    model = models.Convolutional1DRecurrent((window_size, n_features), n_classes, GPU=GPU, print_info=False)\n",
    "elif model_name == \"Convolutional2DRecurrent\":\n",
    "    model = models.Convolutional2DRecurrent((window_size, n_features, 1), n_classes, GPU=GPU, print_info=False)\n",
    "    # reshaping for 2D convolutional model\n",
    "    X_train = X_train.reshape(X_train.shape[0], window_size, n_features, 1)\n",
    "    X_test = X_test.reshape(X_test.shape[0], window_size, n_features, 1)\n",
    "elif model_name == \"ConvolutionalDeepRecurrent\":\n",
    "    model = models.ConvolutionalDeepRecurrent((window_size, n_features), n_classes, GPU=GPU, print_info=False)\n",
    "else:\n",
    "    print(\"Model not found.\")\n",
    "\n",
    "# model compilation\n",
    "model.compile(optimizer = Adam(lr=0.001), loss = \"categorical_crossentropy\", metrics = [\"accuracy\"])\n",
    "save_model_name = task + \"_\" + model_name + \"_OS_\" + str(subject)\n",
    "filepath = './data/notebook/'+save_model_name+'.hdf5'\n",
    "print(\"Model:\", save_model_name, \"\\nLocation:\", filepath, \"\\n\")\n",
    "\n",
    "# training\n",
    "checkpointer = ModelCheckpoint(filepath=filepath, verbose=1, save_best_only=True)\n",
    "lr_reducer = ReduceLROnPlateau(factor=0.1, patience=5, min_lr=0.00001, verbose=1)\n",
    "model.fit(x = X_train, \n",
    "        y = to_categorical(Y_train), \n",
    "        epochs = epochs,\n",
    "        batch_size = batch_size,\n",
    "        verbose = 1,\n",
    "        validation_data=(X_test, to_categorical(Y_test)),\n",
    "        callbacks=[checkpointer, lr_reducer])\n",
    "        # class_weight=class_weights])"
   ]
  },
  {
   "cell_type": "markdown",
   "metadata": {},
   "source": [
    "### Results"
   ]
  },
  {
   "cell_type": "code",
   "execution_count": 8,
   "metadata": {},
   "outputs": [
    {
     "name": "stdout",
     "output_type": "stream",
     "text": [
      "Results for last B_Convolutional_OS_2:\n",
      "\n",
      "              precision    recall  f1-score   support\n",
      "\n",
      "          0       0.95      0.81      0.87      9698\n",
      "          1       0.11      0.19      0.14       108\n",
      "          2       0.07      0.07      0.07        76\n",
      "          3       0.04      0.03      0.03        34\n",
      "          4       0.03      0.16      0.04        51\n",
      "          5       0.21      0.61      0.31       109\n",
      "          6       0.06      0.11      0.08        35\n",
      "          7       0.31      0.50      0.38       212\n",
      "          8       0.11      0.34      0.16       119\n",
      "          9       0.18      0.33      0.23       141\n",
      "         10       0.15      0.08      0.11        74\n",
      "         11       0.13      0.11      0.12        47\n",
      "         12       0.05      0.21      0.08        62\n",
      "         13       0.16      0.41      0.23       110\n",
      "         14       0.01      0.02      0.01        51\n",
      "         15       0.36      0.44      0.39       262\n",
      "         16       0.08      0.04      0.05       185\n",
      "         17       0.19      0.29      0.23       167\n",
      "\n",
      "avg / total       0.83      0.72      0.77     11541\n",
      "\n"
     ]
    },
    {
     "data": {
      "image/png": "[encoded data removed]",
      "text/plain": [
       "<Figure size 432x288 with 2 Axes>"
      ]
     },
     "metadata": {},
     "output_type": "display_data"
    }
   ],
   "source": [
    "# last model\n",
    "Y_pred = model.predict_classes(X_test)\n",
    "score_OS = f1_score(Y_test, Y_pred, average='weighted')\n",
    "\n",
    "# best model\n",
    "model_best = load_model(filepath)\n",
    "Y_pred_best = model_best.predict_classes(X_test)\n",
    "score_OS_best = f1_score(Y_test, Y_pred_best, average='weighted')\n",
    "\n",
    "# keep highest f1-score\n",
    "if score_OS_best > score_OS:\n",
    "    score_OS = score_OS_best\n",
    "    print(\"Results for best \"+ save_model_name + \":\\n\\n\", classification_report(Y_test, Y_pred_best))\n",
    "    # confusion matrix\n",
    "    cnf_matrix = confusion_matrix(Y_test, Y_pred_best)\n",
    "    # save for future use\n",
    "    Y_true = Y_test\n",
    "    Y_OS = Y_pred_best\n",
    "else:\n",
    "    print(\"Results for last \"+ save_model_name + \":\\n\\n\", classification_report(Y_test, Y_pred))\n",
    "    # confusion matrix\n",
    "    cnf_matrix = confusion_matrix(Y_test, Y_pred)\n",
    "    # save for future use\n",
    "    Y_true = Y_test\n",
    "    Y_OS = Y_pred\n",
    "    \n",
    "# print confusion matrix\n",
    "np.set_printoptions(precision=2)\n",
    "sns.set_style(\"dark\")\n",
    "plt.figure()\n",
    "utils.plot_confusion_matrix(cnf_matrix, classes=classes, title='Confusion matrix, without normalization')"
   ]
  },
  {
   "cell_type": "markdown",
   "metadata": {},
   "source": [
    "## Binary classification for activity detection\n",
    "Here all the \"activity\" classes are labelled with 1, while the inactivity class remains labelled with 0. As before, in the following cell are perfomed in order:\n",
    "- preprocessing;\n",
    "- model selection;\n",
    "- model compilation;\n",
    "- training."
   ]
  },
  {
   "cell_type": "code",
   "execution_count": 9,
   "metadata": {},
   "outputs": [],
   "source": [
    "# preprocessing\n",
    "X_train, Y_train, X_test, Y_test, n_features, n_classes, class_weights = preprocessing.loadData(subject=subject,\n",
    "                                                                                                label=label,\n",
    "                                                                                                folder=data_folder,\n",
    "                                                                                                window_size=window_size,\n",
    "                                                                                                stride=stride,\n",
    "                                                                                                make_binary=True,\n",
    "                                                                                                null_class=True,\n",
    "                                                                                                print_info=False)"
   ]
  },
  {
   "cell_type": "code",
   "execution_count": null,
   "metadata": {},
   "outputs": [
    {
     "name": "stdout",
     "output_type": "stream",
     "text": [
      "\n",
      " (0, 1.0)\n",
      "[ True  True  True ...  True  True  True]\n",
      "(18298, 15, 110) (18298,)\n",
      "(18298, 15, 110) (18298,)\n",
      "18298 18298\n",
      "\n",
      " (1, 1.0)\n",
      "[False False False ... False False False]\n",
      "(10860, 15, 110) (10860,)\n",
      "(10860, 15, 110) (10860,)\n",
      "29158 29158\n",
      "(29158, 15, 110) <class 'numpy.ndarray'>\n",
      "(29158,) <class 'numpy.ndarray'>\n"
     ]
    }
   ],
   "source": [
    "# class balancing\n",
    "class_weights = np.floor(class_weights / np.min(class_weights))\n",
    "class_weights\n",
    "elenco = []\n",
    "elenco2 = []\n",
    "for l in enumerate(class_weights):\n",
    "    print(\"\\n\",l)\n",
    "    mask = (Y_train == l[0])\n",
    "    print(mask)\n",
    "    print(X_train[mask,:,:].shape, Y_train[mask].shape)\n",
    "    X_train_bal = np.tile(X_train[mask,:,:], (int(l[1]),1,1))\n",
    "    Y_train_bal = np.tile(Y_train[mask], int(l[1]))\n",
    "    print(X_train_bal.shape, Y_train_bal.shape)\n",
    "    for i in range(X_train_bal.shape[0]):\n",
    "        elenco.append(X_train_bal[i,:,:] + np.random.normal(scale=0.1)) # add here normal distributed noise\n",
    "        elenco2.append(Y_train_bal[i])\n",
    "    print(len(elenco), len(elenco2))\n",
    "X_train = np.asarray(elenco)\n",
    "print(X_train.shape, type(X_train))\n",
    "del elenco\n",
    "Y_train = np.asarray(elenco2)\n",
    "print(Y_train.shape, type(Y_train))\n",
    "del elenco2\n",
    "rng_state = np.random.get_state()\n",
    "np.random.shuffle(X_train)\n",
    "np.random.set_state(rng_state)\n",
    "np.random.shuffle(Y_train)"
   ]
  },
  {
   "cell_type": "code",
   "execution_count": null,
   "metadata": {},
   "outputs": [
    {
     "name": "stdout",
     "output_type": "stream",
     "text": [
      "Model: B_Convolutional_TSD_2 \n",
      "Location: ./data/notebook/B_Convolutional_TSD_2.hdf5 \n",
      "\n",
      "Train on 29158 samples, validate on 11541 samples\n",
      "Epoch 1/15\n",
      "29158/29158 [==============================] - 13s 444us/step - loss: 0.6439 - acc: 0.7425 - val_loss: 0.3507 - val_acc: 0.8459\n",
      "\n",
      "Epoch 00001: val_loss improved from inf to 0.35074, saving model to ./data/notebook/B_Convolutional_TSD_2.hdf5\n",
      "Epoch 2/15\n",
      "29158/29158 [==============================] - 9s 318us/step - loss: 0.4827 - acc: 0.7717 - val_loss: 0.3679 - val_acc: 0.8425\n",
      "\n",
      "Epoch 00002: val_loss did not improve\n",
      "Epoch 3/15\n",
      "29158/29158 [==============================] - 9s 318us/step - loss: 0.4578 - acc: 0.7863 - val_loss: 0.3443 - val_acc: 0.8588\n",
      "\n",
      "Epoch 00003: val_loss improved from 0.35074 to 0.34429, saving model to ./data/notebook/B_Convolutional_TSD_2.hdf5\n",
      "Epoch 4/15\n",
      "29158/29158 [==============================] - 9s 314us/step - loss: 0.4433 - acc: 0.7965 - val_loss: 0.3597 - val_acc: 0.8528\n",
      "\n",
      "Epoch 00004: val_loss did not improve\n",
      "Epoch 5/15\n",
      "29158/29158 [==============================] - 9s 311us/step - loss: 0.4303 - acc: 0.8045 - val_loss: 0.3173 - val_acc: 0.8567\n",
      "\n",
      "Epoch 00005: val_loss improved from 0.34429 to 0.31733, saving model to ./data/notebook/B_Convolutional_TSD_2.hdf5\n",
      "Epoch 6/15\n",
      "29158/29158 [==============================] - 9s 314us/step - loss: 0.4187 - acc: 0.8109 - val_loss: 0.3263 - val_acc: 0.8542\n",
      "\n",
      "Epoch 00006: val_loss did not improve\n",
      "Epoch 7/15\n",
      "29158/29158 [==============================] - 9s 310us/step - loss: 0.4116 - acc: 0.8146 - val_loss: 0.3273 - val_acc: 0.8595\n",
      "\n",
      "Epoch 00007: val_loss did not improve\n",
      "Epoch 8/15\n",
      "29158/29158 [==============================] - 9s 313us/step - loss: 0.4008 - acc: 0.8226 - val_loss: 0.3188 - val_acc: 0.8576\n",
      "\n",
      "Epoch 00008: val_loss did not improve\n",
      "Epoch 9/15\n",
      "29158/29158 [==============================] - 10s 326us/step - loss: 0.3927 - acc: 0.8269 - val_loss: 0.3136 - val_acc: 0.8653\n",
      "\n",
      "Epoch 00009: val_loss improved from 0.31733 to 0.31358, saving model to ./data/notebook/B_Convolutional_TSD_2.hdf5\n",
      "Epoch 10/15\n",
      "29158/29158 [==============================] - 10s 329us/step - loss: 0.3845 - acc: 0.8313 - val_loss: 0.3480 - val_acc: 0.8530\n",
      "\n",
      "Epoch 00010: val_loss did not improve\n",
      "Epoch 11/15\n",
      "29158/29158 [==============================] - 9s 313us/step - loss: 0.3781 - acc: 0.8323 - val_loss: 0.3482 - val_acc: 0.8501\n",
      "\n",
      "Epoch 00011: val_loss did not improve\n",
      "Epoch 12/15\n",
      " 6208/29158 [=====>........................] - ETA: 6s - loss: 0.3695 - acc: 0.8383"
     ]
    }
   ],
   "source": [
    "# model selection\n",
    "if model_name == \"Convolutional\":\n",
    "    model = models.Convolutional((window_size, n_features), n_classes, print_info=False)\n",
    "elif model_name == \"Convolutional1DRecurrent\":\n",
    "    model = models.Convolutional1DRecurrent((window_size, n_features), n_classes, GPU=GPU, print_info=False)\n",
    "elif model_name == \"Convolutional2DRecurrent\":\n",
    "    model = models.Convolutional2DRecurrent((window_size, n_features, 1), n_classes, GPU=GPU, print_info=False)\n",
    "    # reshaping for 2D convolutional model\n",
    "    X_train = X_train.reshape(X_train.shape[0], window_size, n_features, 1)\n",
    "    X_test = X_test.reshape(X_test.shape[0], window_size, n_features, 1)\n",
    "elif model_name == \"ConvolutionalDeepRecurrent\":\n",
    "    model = models.ConvolutionalDeepRecurrent((window_size, n_features), n_classes, GPU=GPU, print_info=False)\n",
    "else:\n",
    "    print(\"Model not found.\")\n",
    "    \n",
    "# model compilation\n",
    "model.compile(optimizer = Adam(lr=0.001), loss = \"categorical_crossentropy\", metrics = [\"accuracy\"])\n",
    "save_model_name = task + \"_\" + model_name + \"_TSD_\" + str(subject)\n",
    "filepath = './data/notebook/'+save_model_name+'.hdf5'\n",
    "print(\"Model:\", save_model_name, \"\\nLocation:\", filepath, \"\\n\")\n",
    "\n",
    "# training\n",
    "checkpointer = ModelCheckpoint(filepath=filepath, verbose=1, save_best_only=True)\n",
    "lr_reducer = ReduceLROnPlateau(factor=0.1, patience=5, min_lr=0.00001, verbose=1)\n",
    "model.fit(x = X_train, \n",
    "        y = to_categorical(Y_train), \n",
    "        epochs = epochs, \n",
    "        batch_size = batch_size,\n",
    "        verbose = 1,\n",
    "        validation_data=(X_test, to_categorical(Y_test)),\n",
    "        callbacks=[checkpointer, lr_reducer])\n",
    "        # class_weight=class_weights])"
   ]
  },
  {
   "cell_type": "markdown",
   "metadata": {},
   "source": [
    "### Results"
   ]
  },
  {
   "cell_type": "code",
   "execution_count": null,
   "metadata": {},
   "outputs": [],
   "source": [
    "# last model\n",
    "Y_pred = model.predict_classes(X_test)\n",
    "score_TSD = f1_score(Y_test, Y_pred, average='weighted')\n",
    "\n",
    "# best model\n",
    "model_best = load_model(filepath)\n",
    "Y_pred_best = model_best.predict_classes(X_test)\n",
    "score_TSD_best = f1_score(Y_test, Y_pred_best, average='weighted')\n",
    "\n",
    "# keep highest f1-score\n",
    "if score_TSD_best > score_TSD:\n",
    "    score_TSD = score_TSD_best\n",
    "    print(\"Results for best \"+ save_model_name + \":\\n\\n\", classification_report(Y_test, Y_pred_best))\n",
    "    # confusion matrix\n",
    "    cnf_matrix = confusion_matrix(Y_test, Y_pred_best)\n",
    "    # save for future use\n",
    "    Y_det = Y_pred_best\n",
    "else:\n",
    "    print(\"Results for last \"+ save_model_name + \":\\n\\n\", classification_report(Y_test, Y_pred))\n",
    "    # confusion matrix\n",
    "    cnf_matrix = confusion_matrix(Y_test, Y_pred)\n",
    "    # save for future use\n",
    "    Y_det = Y_pred\n",
    "    \n",
    "# print confusion matrix\n",
    "np.set_printoptions(precision=2)\n",
    "sns.set_style(\"dark\")\n",
    "plt.figure()\n",
    "utils.plot_confusion_matrix(cnf_matrix, classes=[\"Inactive\",\"Active\"], title='Confusion matrix, without normalization')"
   ]
  },
  {
   "cell_type": "markdown",
   "metadata": {},
   "source": [
    "## Classification without null class: Two Steps - classification\n",
    "Here all the \"activity\" classes are kept while the inactivity class is discarded during preprocessing. Again, in the following cell are perfomed in order:\n",
    "- preprocessing;\n",
    "- model selection;\n",
    "- model compilation;\n",
    "- training."
   ]
  },
  {
   "cell_type": "code",
   "execution_count": null,
   "metadata": {},
   "outputs": [],
   "source": [
    "# preprocessing\n",
    "X_train, Y_train, X_test, Y_test, n_features, n_classes, class_weights = preprocessing.loadData(subject=subject,\n",
    "                                                                                                label=label,\n",
    "                                                                                                folder=data_folder,\n",
    "                                                                                                window_size=window_size,\n",
    "                                                                                                stride=stride,\n",
    "                                                                                                make_binary=False,\n",
    "                                                                                                null_class=False,\n",
    "                                                                                                print_info=False)"
   ]
  },
  {
   "cell_type": "code",
   "execution_count": null,
   "metadata": {},
   "outputs": [],
   "source": [
    "# class balancing\n",
    "class_weights = np.floor(class_weights / np.min(class_weights))\n",
    "class_weights\n",
    "elenco = []\n",
    "elenco2 = []\n",
    "for l in enumerate(class_weights):\n",
    "    print(\"\\n\",l)\n",
    "    mask = (Y_train == l[0])\n",
    "    print(mask)\n",
    "    print(X_train[mask,:,:].shape, Y_train[mask].shape)\n",
    "    X_train_bal = np.tile(X_train[mask,:,:], (int(l[1]),1,1))\n",
    "    Y_train_bal = np.tile(Y_train[mask], int(l[1]))\n",
    "    print(X_train_bal.shape, Y_train_bal.shape)\n",
    "    for i in range(X_train_bal.shape[0]):\n",
    "        elenco.append(X_train_bal[i,:,:] + np.random.normal(scale=0.1)) # add here normal distributed noise\n",
    "        elenco2.append(Y_train_bal[i])\n",
    "    print(len(elenco), len(elenco2))\n",
    "X_train = np.asarray(elenco)\n",
    "print(X_train.shape, type(X_train))\n",
    "del elenco\n",
    "Y_train = np.asarray(elenco2)\n",
    "print(Y_train.shape, type(Y_train))\n",
    "del elenco2\n",
    "rng_state = np.random.get_state()\n",
    "np.random.shuffle(X_train)\n",
    "np.random.set_state(rng_state)\n",
    "np.random.shuffle(Y_train)"
   ]
  },
  {
   "cell_type": "code",
   "execution_count": null,
   "metadata": {},
   "outputs": [],
   "source": [
    "# model selection\n",
    "if model_name == \"Convolutional\":\n",
    "    model = models.Convolutional((window_size, n_features), n_classes, print_info=False)\n",
    "elif model_name == \"Convolutional1DRecurrent\":\n",
    "    model = models.Convolutional1DRecurrent((window_size, n_features), n_classes, GPU=GPU, print_info=False)\n",
    "elif model_name == \"Convolutional2DRecurrent\":\n",
    "    model = models.Convolutional2DRecurrent((window_size, n_features, 1), n_classes, GPU=GPU, print_info=False)\n",
    "    # reshaping for 2D convolutional model\n",
    "    X_train = X_train.reshape(X_train.shape[0], window_size, n_features, 1)\n",
    "    X_test = X_test.reshape(X_test.shape[0], window_size, n_features, 1)\n",
    "elif model_name == \"ConvolutionalDeepRecurrent\":\n",
    "    model = models.ConvolutionalDeepRecurrent((window_size, n_features), n_classes, GPU=GPU, print_info=False)\n",
    "else:\n",
    "    print(\"Model not found.\")\n",
    "\n",
    "# model compilation\n",
    "model.compile(optimizer = Adam(lr=0.001), loss = \"categorical_crossentropy\", metrics = [\"accuracy\"])\n",
    "save_model_name = task + \"_\" + model_name + \"_TSC_\" + str(subject)\n",
    "filepath = './data/notebook/'+save_model_name+'.hdf5'\n",
    "print(\"Model:\", save_model_name, \"\\nLocation:\", filepath, \"\\n\")\n",
    "\n",
    "# training\n",
    "checkpointer = ModelCheckpoint(filepath=filepath, verbose=1, save_best_only=True)\n",
    "lr_reducer = ReduceLROnPlateau(factor=0.1, patience=5, min_lr=0.00001, verbose=1)\n",
    "model.fit(x = X_train, \n",
    "        y = to_categorical(Y_train), \n",
    "        epochs = epochs, \n",
    "        batch_size = batch_size,\n",
    "        verbose = 1,\n",
    "        validation_data=(X_test, to_categorical(Y_test)),\n",
    "        callbacks=[checkpointer, lr_reducer])\n",
    "        # class_weight=class_weights])"
   ]
  },
  {
   "cell_type": "markdown",
   "metadata": {},
   "source": [
    "### Results"
   ]
  },
  {
   "cell_type": "code",
   "execution_count": null,
   "metadata": {},
   "outputs": [],
   "source": [
    "# last model\n",
    "Y_pred = model.predict_classes(X_test)\n",
    "score_TSC = f1_score(Y_test, Y_pred, average='weighted')\n",
    "\n",
    "# best model\n",
    "model_best = load_model(filepath)\n",
    "Y_pred_best = model_best.predict_classes(X_test)\n",
    "score_TSC_best = f1_score(Y_test, Y_pred_best, average='weighted')\n",
    "\n",
    "# keep highest f1-score\n",
    "if score_TSC_best > score_TSC:\n",
    "    score_TSC = score_TSC_best\n",
    "    print(\"Results for best \"+ save_model_name + \":\\n\\n\", classification_report(Y_test, Y_pred_best))\n",
    "    # confusion matrix\n",
    "    cnf_matrix = confusion_matrix(Y_test, Y_pred_best)\n",
    "else:\n",
    "    print(\"Results for last \"+ save_model_name + \":\\n\\n\", classification_report(Y_test, Y_pred))\n",
    "    # confusion matrix\n",
    "    cnf_matrix = confusion_matrix(Y_test, Y_pred)\n",
    "    \n",
    "# print confusion matrix\n",
    "np.set_printoptions(precision=2)\n",
    "sns.set_style(\"dark\")\n",
    "plt.figure()\n",
    "utils.plot_confusion_matrix(cnf_matrix, classes=classes[1:], title='Confusion matrix, without normalization')"
   ]
  },
  {
   "cell_type": "markdown",
   "metadata": {},
   "source": [
    "For comparison purposes, the best F1-scores of the three classifications performed above are saved in the variables: 'score_OS', 'score_TSD', 'score_TSC'. These will be plotted later, to be compared with the cascade approach implemented next.\n",
    "## Cascade of detection and classification\n",
    "For the evaluation of this approach, the model previously trained are fine: the classification model in particular is trained on the \"correct\" training set, but then makes its prediction on data coming from the detector. For this part we need some results from the previous code:\n",
    "- true labels, which correspond to those obtained with the preprocessing of the One Shot classification model ('Y_true');\n",
    "- predicted labels, by the One Shot classification model ('Y_OS');\n",
    "- detector predictions on test data, which need to be passed to the second stage of the cascade ('Y_det');\n",
    "- classification model, which is the last one that has been used ('model').\n",
    "\n",
    "In the following cell true labels are recalled, the detection model is loaded and used to predict the labels on the test set and, finally, the predictions are used to perform a further classification. Once the predictions are made, they are compared to the true labels: note that to this end, classification predictions need to be inserted in an array containing the detection predictions."
   ]
  },
  {
   "cell_type": "code",
   "execution_count": null,
   "metadata": {},
   "outputs": [],
   "source": [
    "# print info on previous predictions\n",
    "print(\"Y_true:  Shape:\", Y_true.shape, \" Labels:\", np.unique(Y_true),\n",
    "     \"\\nY_OS:    Shape:\", Y_OS.shape, \" Labels:\", np.unique(Y_OS),\n",
    "     \"\\nY_det:   Shape:\", Y_det.shape, \" Labels:\", np.unique(Y_det),\n",
    "     \"\\nY_pred:  Shape:\", Y_pred.shape, \"  Labels:\", np.unique(Y_pred))"
   ]
  },
  {
   "cell_type": "markdown",
   "metadata": {},
   "source": [
    "Keep in mind that Y_pred, the predictions by the classifier without the null class, should have label values starting from 1, thus a manual correction will be needed."
   ]
  },
  {
   "cell_type": "code",
   "execution_count": null,
   "metadata": {},
   "outputs": [],
   "source": [
    "# get test set\n",
    "X_test = preprocessing.loadData(subject=subject,\n",
    "                                label=label,\n",
    "                                folder=data_folder,\n",
    "                                window_size=window_size,\n",
    "                                stride=stride,\n",
    "                                make_binary=False,\n",
    "                                null_class=True,\n",
    "                                print_info=True)[2]\n",
    "\n",
    "# load detection model\n",
    "# detector_name = task + \"_\" + model_name + \"_TSD_\" + str(subject)\n",
    "# filepath = './data/notebook/'+save_model_name+'.hdf5'\n",
    "# detector = load_model(filepath)\n",
    "\n",
    "# predict binary classes\n",
    "# Y_det = detector.predict_classes(X_test)\n"
   ]
  },
  {
   "cell_type": "markdown",
   "metadata": {},
   "source": [
    "Here a mask is used to select all the windows where activity is detected. Note that this number of windows can be different from the number of non-zero labels (which correspond to the shape of Y_pred, reported above)."
   ]
  },
  {
   "cell_type": "code",
   "execution_count": null,
   "metadata": {},
   "outputs": [],
   "source": [
    "# mask\n",
    "mask = (Y_det == 1)\n",
    "print(\"Mask shape:\", mask.shape, \"\\nDetected activities:\", np.sum(mask))"
   ]
  },
  {
   "cell_type": "code",
   "execution_count": null,
   "metadata": {},
   "outputs": [],
   "source": [
    "activity_windows = X_test[mask, :, :]\n",
    "print(\"New test set has shape:\", activity_windows.shape)"
   ]
  },
  {
   "cell_type": "markdown",
   "metadata": {},
   "source": [
    "The classification previously trained is now used to predict the classes on the new test set."
   ]
  },
  {
   "cell_type": "code",
   "execution_count": null,
   "metadata": {},
   "outputs": [],
   "source": [
    "Y_clas = model_best.predict_classes(activity_windows) + 1\n",
    "print(\"Y_clas:  Shape:\", Y_clas.shape, \" Labels:\", np.unique(Y_clas))"
   ]
  },
  {
   "cell_type": "markdown",
   "metadata": {},
   "source": [
    "These predictions are inserted back in the detector's values, substituting these new labels to the ones with value 1. The locations to be modified are still those flagged by the 'mask'."
   ]
  },
  {
   "cell_type": "code",
   "execution_count": null,
   "metadata": {},
   "outputs": [],
   "source": [
    "Y_TS = Y_det\n",
    "Y_TS[mask] = Y_clas\n",
    "print(\"Y_TS:    Shape:\", Y_TS.shape, \" Labels:\", np.unique(Y_TS))"
   ]
  },
  {
   "cell_type": "code",
   "execution_count": null,
   "metadata": {},
   "outputs": [],
   "source": [
    "print(classification_report(Y_true, Y_TS))\n",
    "cnf_matrix = confusion_matrix(Y_true, Y_TS)\n",
    "np.set_printoptions(precision=2)\n",
    "sns.set_style(\"dark\")\n",
    "plt.figure()\n",
    "utils.plot_confusion_matrix(cnf_matrix, classes=classes[1:], title='Confusion matrix, without normalization')"
   ]
  },
  {
   "cell_type": "markdown",
   "metadata": {},
   "source": [
    "## Comparison between the two pipelines"
   ]
  },
  {
   "cell_type": "code",
   "execution_count": null,
   "metadata": {},
   "outputs": [],
   "source": [
    "print(\"One-Shot weighted f1-score:  \", score_OS)\n",
    "print(\"Two-Steps weighted f1-score: \", f1_score(Y_true, Y_TS, average='weighted'))\n",
    "print(\"With partials:\\n\\t\\tDetection:     \",score_TSD,\"\\n\\t\\tClassification:\", score_TSC)"
   ]
  },
  {
   "cell_type": "markdown",
   "metadata": {},
   "source": [
    "# end"
   ]
  }
 ],
 "metadata": {
  "kernelspec": {
   "display_name": "Python 3",
   "language": "python",
   "name": "python3"
  },
  "language_info": {
   "codemirror_mode": {
    "name": "ipython",
    "version": 3
   },
   "file_extension": ".py",
   "mimetype": "text/x-python",
   "name": "python",
   "nbconvert_exporter": "python",
   "pygments_lexer": "ipython3",
   "version": "3.6.4"
  }
 },
 "nbformat": 4,
 "nbformat_minor": 2
}
