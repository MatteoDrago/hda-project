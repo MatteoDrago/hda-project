{
 "cells": [
  {
   "cell_type": "markdown",
   "metadata": {},
   "source": [
    "# HAR system - Lincetto Riccardo, Drago Matteo\n",
    "This notebook runs:\n",
    "- Classification with null class (One Shot classification);\n",
    "- Binary classification for activity detection;\n",
    "- Classification without null class (activity classification);\n",
    "- Cascade of the last two methods.\n",
    "\n",
    "The operations performed here are very similar to those executed in 'main.py', with the exception that here the program is executed for specified user, task and model.\n",
    "\n",
    "## Notebook setup\n",
    "This first cell contains the parameters that can be tuned for code execution:\n",
    "- subject: select the subject on which to test the model, among [1,2,3,4,23]. If 23 is selected, the program will use the data from subjects 2 and 3;\n",
    "- task: choose \"A\" for locomotion classification or \"B\" for gesture recognition;\n",
    "- model_name: choose between \"Convolutional\", \"Convolutional1DRecurrent\", \"Convolutional2DRecurrent\" and \"ConvolutionalDeepRecurrent\";\n",
    "- data_folder: directory name where '.mat' files are stored;\n",
    "- window_size: parameter that sets the length of temporal windows on which to perform the convolution;\n",
    "- stride: step length to chose the next window;\n",
    "- epochs: number of complete sweeps of the data signals during training;\n",
    "- batch_size: number of forward propagations in the networks between consecutives backpropagations;\n",
    "- GPU: boolean flag indicating wheter GPU is present on the machine that executes the code;\n",
    "- print_info: boolean flag to control displayed information."
   ]
  },
  {
   "cell_type": "code",
   "execution_count": 1,
   "metadata": {},
   "outputs": [],
   "source": [
    "subject = 1\n",
    "task = \"A\"\n",
    "model_name = \"Convolutional1DRecurrent\"\n",
    "data_folder = \"./data/full/\"\n",
    "window_size = 15\n",
    "stride = 5\n",
    "epochs = 15\n",
    "batch_size = 128\n",
    "GPU = True\n",
    "balance_classes = False\n",
    "print_info = True"
   ]
  },
  {
   "cell_type": "markdown",
   "metadata": {},
   "source": [
    "Here the useful functions are imported."
   ]
  },
  {
   "cell_type": "code",
   "execution_count": 2,
   "metadata": {},
   "outputs": [
    {
     "name": "stderr",
     "output_type": "stream",
     "text": [
      "C:\\Users\\Riccardo\\Anaconda3\\lib\\site-packages\\h5py\\__init__.py:36: FutureWarning: Conversion of the second argument of issubdtype from `float` to `np.floating` is deprecated. In future, it will be treated as `np.float64 == np.dtype(float).type`.\n",
      "  from ._conv import register_converters as _register_converters\n",
      "Using TensorFlow backend.\n"
     ]
    }
   ],
   "source": [
    "import launch\n",
    "import preprocessing\n",
    "#import models\n",
    "import utils\n",
    "import os\n",
    "import numpy as np\n",
    "from sklearn.metrics import classification_report, f1_score, confusion_matrix\n",
    "from keras.models import load_model\n",
    "from keras.optimizers import Adam\n",
    "from keras.callbacks import ModelCheckpoint, ReduceLROnPlateau\n",
    "from keras.utils import to_categorical\n",
    "import seaborn as sns\n",
    "import matplotlib.pyplot as plt"
   ]
  },
  {
   "cell_type": "markdown",
   "metadata": {},
   "source": [
    "Differently from 'main.py', all results saved from this notebook are going to be stored in a dedicated folder: './data/notebook/'. For proper execution, this folder needs first to be created."
   ]
  },
  {
   "cell_type": "code",
   "execution_count": 3,
   "metadata": {},
   "outputs": [],
   "source": [
    "if not(os.path.exists(\"./data\")):\n",
    "    os.mkdir(\"./data\")\n",
    "if not(os.path.exists(\"./data/notebook\")):\n",
    "    os.mkdir(\"./data/notebook\")"
   ]
  },
  {
   "cell_type": "markdown",
   "metadata": {},
   "source": [
    "If task A is selected, calssifications in the following notebook are based on the labels of column 0; if instead it's task B, column 6 labels are used."
   ]
  },
  {
   "cell_type": "code",
   "execution_count": 4,
   "metadata": {},
   "outputs": [
    {
     "name": "stdout",
     "output_type": "stream",
     "text": [
      "Task A uses labels column 0\n"
     ]
    }
   ],
   "source": [
    "if task == \"A\":\n",
    "    label = 0\n",
    "    classes = [\"Inactive\",\"Stand\",\"Walk\",\"Sit\",\"Lie\"]\n",
    "elif task == \"B\":\n",
    "    label = 6\n",
    "    classes = [\"Close Dishwasher\",\"Close Drawer 3\",\"Close Drawer 2\",\"Inactive\",\"Close Door 1\",\"Close Door 2\",\"Close Drawer 1\",\"Close Fridge\",\"Toggle Switch\",\"Open Dishwasher\",\"Open Drawer 3\",\"Open Drawer 2\",\"Open Door 1\",\"Open Door 2\",\"Open Drawer 1\",\"Open Fridge\",\"Drink from Cup\",\"Clean Table\"]\n",
    "else:\n",
    "    print(\"Error: invalid task.\")\n",
    "print(\"Task\", task, \"uses labels column\", label)"
   ]
  },
  {
   "cell_type": "markdown",
   "metadata": {},
   "source": [
    "## Classification with null class: One Shot classification\n",
    "Here classification is performed considering inactivity as a class, alongside with the others. In the case of locomotion classification (task A), this becomes a 5-class problem, while in the case of gesture recognition (task B) the classes become 18. In the following cell are perfomed in order:\n",
    "- preprocessing;\n",
    "- model selection;\n",
    "- model compilation;\n",
    "- training.\n",
    "\n",
    "Note that in case \"Convolutional2DRecurrent\" is the model selected, then the preprocessed data needs to be reshaped, adding one dimension; this is automatically done by the code inside 'launch.py'."
   ]
  },
  {
   "cell_type": "code",
   "execution_count": 5,
   "metadata": {},
   "outputs": [
    {
     "name": "stdout",
     "output_type": "stream",
     "text": [
      "\n",
      "Session shapes:\n",
      "ADL1:   (45810, 110)\n",
      "ADL2:   (28996, 110)\n",
      "ADL3:   (30167, 110)\n",
      "ADL4:   (30228, 110)\n",
      "ADL5:   (27308, 110)\n",
      "Drill:  (52152, 110)\n",
      "\n",
      "Features: 110 \n",
      "Classes: 5 \n",
      "Fraction of labels:   [0.11055948 0.41891032 0.27499841 0.17124944 0.02428235]\n",
      "\n",
      "Features: 110 \n",
      "Classes: 5 \n",
      "Fraction of labels:   [0.1772427  0.34405424 0.2027121  0.23756954 0.03842142]\n",
      "Model: A_Convolutional1DRecurrent_OS_1 \n",
      "Location: ./data/models/A_Convolutional1DRecurrent_OS_1.hdf5 \n",
      "\n",
      "Train on 31422 samples, validate on 11504 samples\n",
      "Epoch 1/15\n",
      "31422/31422 [==============================] - 8s 254us/step - loss: 0.4221 - acc: 0.8313 - val_loss: 0.3278 - val_acc: 0.8805\n",
      "\n",
      "Epoch 00001: val_loss improved from inf to 0.32777, saving model to ./data/models/A_Convolutional1DRecurrent_OS_1.hdf5\n",
      "Epoch 2/15\n",
      "31422/31422 [==============================] - 5s 144us/step - loss: 0.2564 - acc: 0.8986 - val_loss: 0.3269 - val_acc: 0.8727\n",
      "\n",
      "Epoch 00002: val_loss improved from 0.32777 to 0.32687, saving model to ./data/models/A_Convolutional1DRecurrent_OS_1.hdf5\n",
      "Epoch 3/15\n",
      "31422/31422 [==============================] - 5s 144us/step - loss: 0.2110 - acc: 0.9162 - val_loss: 0.3415 - val_acc: 0.8739\n",
      "\n",
      "Epoch 00003: val_loss did not improve\n",
      "Epoch 4/15\n",
      "31422/31422 [==============================] - 5s 144us/step - loss: 0.1787 - acc: 0.9273 - val_loss: 0.4494 - val_acc: 0.8703\n",
      "\n",
      "Epoch 00004: val_loss did not improve\n",
      "Epoch 5/15\n",
      "31422/31422 [==============================] - 5s 144us/step - loss: 0.1556 - acc: 0.9390 - val_loss: 0.4384 - val_acc: 0.8762\n",
      "\n",
      "Epoch 00005: val_loss did not improve\n",
      "Epoch 6/15\n",
      "31422/31422 [==============================] - 5s 145us/step - loss: 0.1380 - acc: 0.9454 - val_loss: 0.3971 - val_acc: 0.8775\n",
      "\n",
      "Epoch 00006: val_loss did not improve\n",
      "Epoch 7/15\n",
      "31422/31422 [==============================] - 5s 144us/step - loss: 0.1173 - acc: 0.9543 - val_loss: 0.4703 - val_acc: 0.8847\n",
      "\n",
      "Epoch 00007: val_loss did not improve\n",
      "Epoch 8/15\n",
      "31422/31422 [==============================] - 5s 144us/step - loss: 0.1103 - acc: 0.9563 - val_loss: 0.5801 - val_acc: 0.8803\n",
      "\n",
      "Epoch 00008: val_loss did not improve\n",
      "\n",
      "Epoch 00008: ReduceLROnPlateau reducing learning rate to 0.00010000000474974513.\n",
      "Epoch 9/15\n",
      "31422/31422 [==============================] - 5s 146us/step - loss: 0.0731 - acc: 0.9708 - val_loss: 0.5576 - val_acc: 0.8858\n",
      "\n",
      "Epoch 00009: val_loss did not improve\n",
      "Epoch 10/15\n",
      "31422/31422 [==============================] - 5s 145us/step - loss: 0.0606 - acc: 0.9760 - val_loss: 0.5926 - val_acc: 0.8853\n",
      "\n",
      "Epoch 00010: val_loss did not improve\n",
      "Epoch 11/15\n",
      "31422/31422 [==============================] - 5s 145us/step - loss: 0.0555 - acc: 0.9782 - val_loss: 0.6144 - val_acc: 0.8871\n",
      "\n",
      "Epoch 00011: val_loss did not improve\n",
      "Epoch 12/15\n",
      "31422/31422 [==============================] - 5s 146us/step - loss: 0.0494 - acc: 0.9801 - val_loss: 0.6565 - val_acc: 0.8845\n",
      "\n",
      "Epoch 00012: val_loss did not improve\n",
      "Epoch 13/15\n",
      "31422/31422 [==============================] - 5s 145us/step - loss: 0.0485 - acc: 0.9810 - val_loss: 0.6803 - val_acc: 0.8850\n",
      "\n",
      "Epoch 00013: val_loss did not improve\n",
      "\n",
      "Epoch 00013: ReduceLROnPlateau reducing learning rate to 1.0000000474974514e-05.\n",
      "Epoch 14/15\n",
      "31422/31422 [==============================] - 5s 145us/step - loss: 0.0442 - acc: 0.9830 - val_loss: 0.6812 - val_acc: 0.8853\n",
      "\n",
      "Epoch 00014: val_loss did not improve\n",
      "Epoch 15/15\n",
      "31422/31422 [==============================] - 5s 145us/step - loss: 0.0424 - acc: 0.9828 - val_loss: 0.6871 - val_acc: 0.8848\n",
      "\n",
      "Epoch 00015: val_loss did not improve\n"
     ]
    }
   ],
   "source": [
    "model, X_test, Y_test, filepath, save_model_name = launch.oneshot_classification(subject,\n",
    "                                                                                 task,\n",
    "                                                                                 model_name,\n",
    "                                                                                 data_folder,\n",
    "                                                                                 window_size=window_size,\n",
    "                                                                                 stride=stride,\n",
    "                                                                                 epochs=epochs,\n",
    "                                                                                 batch_size=batch_size,\n",
    "                                                                                 balcance_classes=balance_classes,\n",
    "                                                                                 GPU=GPU,\n",
    "                                                                                 print_info=print_info)"
   ]
  },
  {
   "cell_type": "markdown",
   "metadata": {},
   "source": [
    "### Results"
   ]
  },
  {
   "cell_type": "code",
   "execution_count": 6,
   "metadata": {},
   "outputs": [
    {
     "name": "stdout",
     "output_type": "stream",
     "text": [
      "\n",
      "Results for last A_Convolutional1DRecurrent_OS_1:\n",
      "              precision    recall  f1-score   support\n",
      "\n",
      "          0       0.89      0.84      0.86      2039\n",
      "          1       0.90      0.86      0.88      3958\n",
      "          2       0.74      0.85      0.79      2332\n",
      "          3       0.98      0.99      0.99      2733\n",
      "          4       0.93      0.85      0.89       442\n",
      "\n",
      "avg / total       0.89      0.88      0.89     11504\n",
      "\n"
     ]
    },
    {
     "data": {
      "image/png": "[encoded data removed]",
      "text/plain": [
       "<Figure size 432x288 with 2 Axes>"
      ]
     },
     "metadata": {},
     "output_type": "display_data"
    }
   ],
   "source": [
    "Y_pred_os, score_os = launch.evaluation(model, X_test, Y_test, filepath, save_model_name)\n",
    "# save for future use\n",
    "Y_true = Y_test\n",
    "# confusion matrix\n",
    "cnf_matrix = confusion_matrix(Y_test, Y_pred_os)\n",
    "np.set_printoptions(precision=2)\n",
    "sns.set_style(\"dark\")\n",
    "plt.figure()\n",
    "utils.plot_confusion_matrix(cnf_matrix, classes=classes, title='Confusion matrix, without normalization')"
   ]
  },
  {
   "cell_type": "markdown",
   "metadata": {},
   "source": [
    "## Binary classification for activity detection\n",
    "Here all the \"activity\" classes are labelled with 1, while the inactivity class remains labelled with 0. As before, in the following cell are perfomed in order:\n",
    "- preprocessing;\n",
    "- model selection;\n",
    "- model compilation;\n",
    "- training."
   ]
  },
  {
   "cell_type": "code",
   "execution_count": 7,
   "metadata": {},
   "outputs": [
    {
     "name": "stdout",
     "output_type": "stream",
     "text": [
      "Model: A_Convolutional1DRecurrent_TSD_1 \n",
      "Location: ./data/models/A_Convolutional1DRecurrent_TSD_1.hdf5 \n",
      "\n",
      "Train on 31422 samples, validate on 11504 samples\n",
      "Epoch 1/15\n",
      "31422/31422 [==============================] - 6s 193us/step - loss: 0.1259 - acc: 0.9585 - val_loss: 0.1580 - val_acc: 0.9420\n",
      "\n",
      "Epoch 00001: val_loss improved from inf to 0.15795, saving model to ./data/models/A_Convolutional1DRecurrent_TSD_1.hdf5\n",
      "Epoch 2/15\n",
      "31422/31422 [==============================] - 5s 147us/step - loss: 0.0644 - acc: 0.9771 - val_loss: 0.1760 - val_acc: 0.9487\n",
      "\n",
      "Epoch 00002: val_loss did not improve\n",
      "Epoch 3/15\n",
      "31422/31422 [==============================] - 5s 147us/step - loss: 0.0441 - acc: 0.9846 - val_loss: 0.1597 - val_acc: 0.9512\n",
      "\n",
      "Epoch 00003: val_loss did not improve\n",
      "Epoch 4/15\n",
      "31422/31422 [==============================] - 5s 146us/step - loss: 0.0334 - acc: 0.9883 - val_loss: 0.1596 - val_acc: 0.9477\n",
      "\n",
      "Epoch 00004: val_loss did not improve\n",
      "Epoch 5/15\n",
      "31422/31422 [==============================] - 5s 147us/step - loss: 0.0277 - acc: 0.9907 - val_loss: 0.1524 - val_acc: 0.9591\n",
      "\n",
      "Epoch 00005: val_loss improved from 0.15795 to 0.15237, saving model to ./data/models/A_Convolutional1DRecurrent_TSD_1.hdf5\n",
      "Epoch 6/15\n",
      "31422/31422 [==============================] - 5s 147us/step - loss: 0.0224 - acc: 0.9916 - val_loss: 0.1164 - val_acc: 0.9624\n",
      "\n",
      "Epoch 00006: val_loss improved from 0.15237 to 0.11636, saving model to ./data/models/A_Convolutional1DRecurrent_TSD_1.hdf5\n",
      "Epoch 7/15\n",
      "31422/31422 [==============================] - 5s 147us/step - loss: 0.0186 - acc: 0.9938 - val_loss: 0.1648 - val_acc: 0.9614\n",
      "\n",
      "Epoch 00007: val_loss did not improve\n",
      "Epoch 8/15\n",
      "31422/31422 [==============================] - 5s 147us/step - loss: 0.0154 - acc: 0.9948 - val_loss: 0.1835 - val_acc: 0.9503\n",
      "\n",
      "Epoch 00008: val_loss did not improve\n",
      "Epoch 9/15\n",
      "31422/31422 [==============================] - 5s 148us/step - loss: 0.0169 - acc: 0.9941 - val_loss: 0.2055 - val_acc: 0.9522\n",
      "\n",
      "Epoch 00009: val_loss did not improve\n",
      "Epoch 10/15\n",
      "31422/31422 [==============================] - 5s 147us/step - loss: 0.0127 - acc: 0.9956 - val_loss: 0.2030 - val_acc: 0.9524\n",
      "\n",
      "Epoch 00010: val_loss did not improve\n",
      "Epoch 11/15\n",
      "31422/31422 [==============================] - 5s 147us/step - loss: 0.0118 - acc: 0.9956 - val_loss: 0.1983 - val_acc: 0.9561\n",
      "\n",
      "Epoch 00011: val_loss did not improve\n",
      "Epoch 12/15\n",
      "31422/31422 [==============================] - 5s 147us/step - loss: 0.0123 - acc: 0.9956 - val_loss: 0.1459 - val_acc: 0.9517\n",
      "\n",
      "Epoch 00012: val_loss did not improve\n",
      "\n",
      "Epoch 00012: ReduceLROnPlateau reducing learning rate to 0.00010000000474974513.\n",
      "Epoch 13/15\n",
      "31422/31422 [==============================] - 5s 146us/step - loss: 0.0071 - acc: 0.9975 - val_loss: 0.1875 - val_acc: 0.9573\n",
      "\n",
      "Epoch 00013: val_loss did not improve\n",
      "Epoch 14/15\n",
      "31422/31422 [==============================] - 5s 146us/step - loss: 0.0033 - acc: 0.9988 - val_loss: 0.2100 - val_acc: 0.9583\n",
      "\n",
      "Epoch 00014: val_loss did not improve\n",
      "Epoch 15/15\n",
      "31422/31422 [==============================] - 5s 146us/step - loss: 0.0023 - acc: 0.9992 - val_loss: 0.2365 - val_acc: 0.9592\n",
      "\n",
      "Epoch 00015: val_loss did not improve\n"
     ]
    }
   ],
   "source": [
    "model, X_test, Y_test, filepath, save_model_name = launch.cascade_detection(subject,\n",
    "                                                                            task,\n",
    "                                                                            model_name,\n",
    "                                                                            data_folder,\n",
    "                                                                            window_size=window_size,\n",
    "                                                                            stride=stride,\n",
    "                                                                            epochs=epochs,\n",
    "                                                                            batch_size=batch_size,\n",
    "                                                                            balcance_classes=balance_classes,\n",
    "                                                                            GPU=GPU,\n",
    "                                                                            print_info=print_info)"
   ]
  },
  {
   "cell_type": "markdown",
   "metadata": {},
   "source": [
    "### Results"
   ]
  },
  {
   "cell_type": "code",
   "execution_count": 8,
   "metadata": {},
   "outputs": [
    {
     "name": "stdout",
     "output_type": "stream",
     "text": [
      "\n",
      "Results for best A_Convolutional1DRecurrent_TSD_1:\n",
      "              precision    recall  f1-score   support\n",
      "\n",
      "          0       0.91      0.87      0.89      2039\n",
      "          1       0.97      0.98      0.98      9465\n",
      "\n",
      "avg / total       0.96      0.96      0.96     11504\n",
      "\n"
     ]
    },
    {
     "data": {
      "image/png": "[encoded data removed]",
      "text/plain": [
       "<Figure size 432x288 with 2 Axes>"
      ]
     },
     "metadata": {},
     "output_type": "display_data"
    }
   ],
   "source": [
    "# results\n",
    "Y_pred_ad, score_ad = launch.evaluation(model, X_test, Y_test, filepath, save_model_name)\n",
    "# confusion matrix\n",
    "cnf_matrix = confusion_matrix(Y_test, Y_pred_ad)\n",
    "np.set_printoptions(precision=2)\n",
    "sns.set_style(\"dark\")\n",
    "plt.figure()\n",
    "utils.plot_confusion_matrix(cnf_matrix, classes=[\"Inactive\",\"Active\"], title='Confusion matrix, without normalization')"
   ]
  },
  {
   "cell_type": "markdown",
   "metadata": {},
   "source": [
    "## Classification without null class: activity classification\n",
    "Here all the \"activity\" classes are kept while the inactivity class is discarded during preprocessing. Again, in the following cell are perfomed in order:\n",
    "- preprocessing;\n",
    "- model selection;\n",
    "- model compilation;\n",
    "- training."
   ]
  },
  {
   "cell_type": "code",
   "execution_count": 9,
   "metadata": {},
   "outputs": [
    {
     "name": "stdout",
     "output_type": "stream",
     "text": [
      "Model: A_Convolutional1DRecurrent_TSC_1 \n",
      "Location: ./data/models/A_Convolutional1DRecurrent_TSC_1.hdf5 \n",
      "\n",
      "Train on 27948 samples, validate on 9465 samples\n",
      "Epoch 1/15\n",
      "27948/27948 [==============================] - 6s 204us/step - loss: 0.3186 - acc: 0.8647 - val_loss: 0.2111 - val_acc: 0.9237\n",
      "\n",
      "Epoch 00001: val_loss improved from inf to 0.21109, saving model to ./data/models/A_Convolutional1DRecurrent_TSC_1.hdf5\n",
      "Epoch 2/15\n",
      "27948/27948 [==============================] - 4s 148us/step - loss: 0.2087 - acc: 0.9137 - val_loss: 0.1747 - val_acc: 0.9351\n",
      "\n",
      "Epoch 00002: val_loss improved from 0.21109 to 0.17469, saving model to ./data/models/A_Convolutional1DRecurrent_TSC_1.hdf5\n",
      "Epoch 3/15\n",
      "27948/27948 [==============================] - 4s 146us/step - loss: 0.1737 - acc: 0.9302 - val_loss: 0.1748 - val_acc: 0.9366\n",
      "\n",
      "Epoch 00003: val_loss did not improve\n",
      "Epoch 4/15\n",
      "27948/27948 [==============================] - 4s 146us/step - loss: 0.1503 - acc: 0.9391 - val_loss: 0.1766 - val_acc: 0.9346\n",
      "\n",
      "Epoch 00004: val_loss did not improve\n",
      "Epoch 5/15\n",
      "27948/27948 [==============================] - 4s 146us/step - loss: 0.1313 - acc: 0.9463 - val_loss: 0.2338 - val_acc: 0.9298\n",
      "\n",
      "Epoch 00005: val_loss did not improve\n",
      "Epoch 6/15\n",
      "27948/27948 [==============================] - 4s 146us/step - loss: 0.1146 - acc: 0.9548 - val_loss: 0.2599 - val_acc: 0.9315\n",
      "\n",
      "Epoch 00006: val_loss did not improve\n",
      "Epoch 7/15\n",
      "27948/27948 [==============================] - 4s 147us/step - loss: 0.0998 - acc: 0.9586 - val_loss: 0.2901 - val_acc: 0.9278\n",
      "\n",
      "Epoch 00007: val_loss did not improve\n",
      "Epoch 8/15\n",
      "27948/27948 [==============================] - 4s 146us/step - loss: 0.0886 - acc: 0.9640 - val_loss: 0.3054 - val_acc: 0.9229\n",
      "\n",
      "Epoch 00008: val_loss did not improve\n",
      "\n",
      "Epoch 00008: ReduceLROnPlateau reducing learning rate to 0.00010000000474974513.\n",
      "Epoch 9/15\n",
      "27948/27948 [==============================] - 4s 147us/step - loss: 0.0555 - acc: 0.9775 - val_loss: 0.3667 - val_acc: 0.9266\n",
      "\n",
      "Epoch 00009: val_loss did not improve\n",
      "Epoch 10/15\n",
      "27948/27948 [==============================] - 4s 147us/step - loss: 0.0438 - acc: 0.9817 - val_loss: 0.3995 - val_acc: 0.9272\n",
      "\n",
      "Epoch 00010: val_loss did not improve\n",
      "Epoch 11/15\n",
      "27948/27948 [==============================] - 4s 146us/step - loss: 0.0385 - acc: 0.9839 - val_loss: 0.4442 - val_acc: 0.9268\n",
      "\n",
      "Epoch 00011: val_loss did not improve\n",
      "Epoch 12/15\n",
      "27948/27948 [==============================] - 4s 146us/step - loss: 0.0350 - acc: 0.9857 - val_loss: 0.4667 - val_acc: 0.9276\n",
      "\n",
      "Epoch 00012: val_loss did not improve\n",
      "Epoch 13/15\n",
      "27948/27948 [==============================] - 4s 145us/step - loss: 0.0327 - acc: 0.9864 - val_loss: 0.4812 - val_acc: 0.9261\n",
      "\n",
      "Epoch 00013: val_loss did not improve\n",
      "\n",
      "Epoch 00013: ReduceLROnPlateau reducing learning rate to 1.0000000474974514e-05.\n",
      "Epoch 14/15\n",
      "27948/27948 [==============================] - 4s 147us/step - loss: 0.0285 - acc: 0.9879 - val_loss: 0.4968 - val_acc: 0.9254\n",
      "\n",
      "Epoch 00014: val_loss did not improve\n",
      "Epoch 15/15\n",
      "27948/27948 [==============================] - 4s 146us/step - loss: 0.0281 - acc: 0.9883 - val_loss: 0.5052 - val_acc: 0.9251\n",
      "\n",
      "Epoch 00015: val_loss did not improve\n"
     ]
    }
   ],
   "source": [
    "model, X_test, Y_test, filepath, save_model_name = launch.cascade_classification(subject,\n",
    "                                                                                 task,\n",
    "                                                                                 model_name,\n",
    "                                                                                 data_folder,\n",
    "                                                                                 window_size=window_size,\n",
    "                                                                                 stride=stride,\n",
    "                                                                                 epochs=epochs,\n",
    "                                                                                 batch_size=batch_size,\n",
    "                                                                                 balcance_classes=balance_classes,\n",
    "                                                                                 GPU=GPU,\n",
    "                                                                                 print_info=print_info)"
   ]
  },
  {
   "cell_type": "markdown",
   "metadata": {},
   "source": [
    "### Results"
   ]
  },
  {
   "cell_type": "code",
   "execution_count": 10,
   "metadata": {},
   "outputs": [
    {
     "name": "stdout",
     "output_type": "stream",
     "text": [
      "\n",
      "Results for best A_Convolutional1DRecurrent_TSC_1:\n",
      "              precision    recall  f1-score   support\n",
      "\n",
      "          0       0.92      0.92      0.92      3958\n",
      "          1       0.87      0.90      0.89      2332\n",
      "          2       1.00      1.00      1.00      2733\n",
      "          3       1.00      0.86      0.92       442\n",
      "\n",
      "avg / total       0.94      0.94      0.94      9465\n",
      "\n"
     ]
    },
    {
     "data": {
      "image/png": "[encoded data removed]",
      "text/plain": [
       "<Figure size 432x288 with 2 Axes>"
      ]
     },
     "metadata": {},
     "output_type": "display_data"
    }
   ],
   "source": [
    "# results\n",
    "Y_pred_ac, score_ac = launch.evaluation(model, X_test, Y_test, filepath, save_model_name)\n",
    "# confusion matrix\n",
    "cnf_matrix = confusion_matrix(Y_test, Y_pred_ac)\n",
    "np.set_printoptions(precision=2)\n",
    "sns.set_style(\"dark\")\n",
    "plt.figure()\n",
    "utils.plot_confusion_matrix(cnf_matrix, classes=classes[1:], title='Confusion matrix, without normalization')"
   ]
  },
  {
   "cell_type": "markdown",
   "metadata": {},
   "source": [
    "For comparison purposes, the best F1-scores of the three classifications performed above are saved in the variables: 'score_os', 'score_ad', 'score_ac'. These will be plotted later, to be compared with the cascade approach implemented next.\n",
    "## Cascade of detection and classification\n",
    "For the evaluation of this approach, the model previously trained are fine: the classification model in particular is trained on the \"correct\" training set, but then makes its prediction on data coming from the detector. For this part we need some results from the previous code:\n",
    "- true labels, which correspond to those obtained with the preprocessing of the One Shot classification model ('Y_true');\n",
    "- predicted labels, by the One Shot classification model ('Y_pred_os');\n",
    "- detector predictions on test data, which need to be passed to the second stage of the cascade ('Y_pred_ad');\n",
    "- classification model, which is the last one that has been used ('model').\n",
    "\n",
    "In the following cells, until the end of the notebook, the following operations are performed: true and predicted labels from above are reported here; the test set is loaded again with the right parameters; then the labels predicted by the activity detection model are used to perform a further classification, using the activity classification model; finally the one-shot approach and the cascade are compared."
   ]
  },
  {
   "cell_type": "code",
   "execution_count": 11,
   "metadata": {},
   "outputs": [
    {
     "name": "stdout",
     "output_type": "stream",
     "text": [
      "Y_true:  Shape: (11504,)  Labels: [0 1 2 3 4] \n",
      "Y_pred_os:  Shape: (11504,)  Labels: [0 1 2 3 4] \n",
      "Y_pred_ad:  Shape: (11504,)  Labels: [0 1] \n",
      "Y_pred_ac:  Shape: (9465,)  Labels: [0 1 2 3]\n"
     ]
    }
   ],
   "source": [
    "# print info on previous predictions\n",
    "print(\"Y_true:  Shape:\", Y_true.shape, \" Labels:\", np.unique(Y_true),\n",
    "     \"\\nY_pred_os:  Shape:\", Y_pred_os.shape, \" Labels:\", np.unique(Y_pred_os),\n",
    "     \"\\nY_pred_ad:  Shape:\", Y_pred_ad.shape, \" Labels:\", np.unique(Y_pred_ad),\n",
    "     \"\\nY_pred_ac:  Shape:\", Y_pred_ac.shape, \" Labels:\", np.unique(Y_pred_ac))"
   ]
  },
  {
   "cell_type": "markdown",
   "metadata": {},
   "source": [
    "Keep in mind that Y_pred, the predictions by the classifier without the null class, should have label values starting from 1, thus a manual correction will be needed."
   ]
  },
  {
   "cell_type": "code",
   "execution_count": 12,
   "metadata": {},
   "outputs": [
    {
     "name": "stdout",
     "output_type": "stream",
     "text": [
      "\n",
      "Session shapes:\n",
      "ADL1:   (45810, 110)\n",
      "ADL2:   (28996, 110)\n",
      "ADL3:   (30167, 110)\n",
      "ADL4:   (30228, 110)\n",
      "ADL5:   (27308, 110)\n",
      "Drill:  (52152, 110)\n",
      "\n",
      "Features: 110 \n",
      "Classes: 5 \n",
      "Fraction of labels:   [0.11 0.42 0.27 0.17 0.02]\n",
      "\n",
      "Features: 110 \n",
      "Classes: 5 \n",
      "Fraction of labels:   [0.18 0.34 0.2  0.24 0.04]\n"
     ]
    }
   ],
   "source": [
    "# get test set\n",
    "if subject == 23:\n",
    "    X_test = preprocessing.loadDataMultiple(label=label,\n",
    "                                            folder=data_folder,\n",
    "                                            window_size=window_size,\n",
    "                                            stride=stride,\n",
    "                                            make_binary=False,\n",
    "                                            null_class=True,\n",
    "                                            print_info=print_info)[2]\n",
    "else:\n",
    "    X_test = preprocessing.loadData(subject=subject,\n",
    "                                    label=label,\n",
    "                                    folder=data_folder,\n",
    "                                    window_size=window_size,\n",
    "                                    stride=stride,\n",
    "                                    make_binary=False,\n",
    "                                    null_class=True,\n",
    "                                    print_info=print_info)[2]"
   ]
  },
  {
   "cell_type": "markdown",
   "metadata": {},
   "source": [
    "Here a mask is used to select all the windows where activity is detected. Note that this number of windows can be different from the number of non-zero labels (which correspond to the shape of Y_pred, reported above)."
   ]
  },
  {
   "cell_type": "code",
   "execution_count": 13,
   "metadata": {},
   "outputs": [
    {
     "name": "stdout",
     "output_type": "stream",
     "text": [
      "Mask shape: (11504,) \n",
      "Detected activities: 9565\n"
     ]
    }
   ],
   "source": [
    "# mask\n",
    "mask = (Y_pred_ad == 1)\n",
    "print(\"Mask shape:\", mask.shape, \"\\nDetected activities:\", np.sum(mask))"
   ]
  },
  {
   "cell_type": "code",
   "execution_count": 14,
   "metadata": {},
   "outputs": [
    {
     "name": "stdout",
     "output_type": "stream",
     "text": [
      "New test set has shape: (9565, 15, 110)\n"
     ]
    }
   ],
   "source": [
    "activity_windows = X_test[mask, :, :]\n",
    "# reshaping for 2D convolution\n",
    "if model_name == \"Convolutional2DRecurrent\":\n",
    "    activity_windows = activity_windows.reshape(activity_windows.shape[0], window_size, X_test.shape[2], 1)\n",
    "print(\"New test set has shape:\", activity_windows.shape)"
   ]
  },
  {
   "cell_type": "markdown",
   "metadata": {},
   "source": [
    "The classification previously trained is now used to predict the classes on the new test set."
   ]
  },
  {
   "cell_type": "code",
   "execution_count": 15,
   "metadata": {},
   "outputs": [
    {
     "name": "stdout",
     "output_type": "stream",
     "text": [
      "Y_casc_ac:  Shape: (9565,)  Labels: [1 2 3 4]\n"
     ]
    }
   ],
   "source": [
    "Y_casc_ac = model.predict_classes(activity_windows) + 1\n",
    "print(\"Y_casc_ac:  Shape:\", Y_casc_ac.shape, \" Labels:\", np.unique(Y_casc_ac))"
   ]
  },
  {
   "cell_type": "markdown",
   "metadata": {},
   "source": [
    "These predictions are inserted back in the detector's values, substituting these new labels to the ones with value 1. The locations to be modified are still those flagged by the 'mask'."
   ]
  },
  {
   "cell_type": "code",
   "execution_count": 16,
   "metadata": {},
   "outputs": [
    {
     "name": "stdout",
     "output_type": "stream",
     "text": [
      "Y_casc:    Shape: (11504,)  Labels: [0 1 2 3 4]\n"
     ]
    }
   ],
   "source": [
    "Y_casc = Y_pred_ad\n",
    "Y_casc[mask] = Y_casc_ac\n",
    "print(\"Y_casc:    Shape:\", Y_casc.shape, \" Labels:\", np.unique(Y_casc))"
   ]
  },
  {
   "cell_type": "code",
   "execution_count": 17,
   "metadata": {},
   "outputs": [
    {
     "name": "stdout",
     "output_type": "stream",
     "text": [
      "             precision    recall  f1-score   support\n",
      "\n",
      "          0       0.91      0.87      0.89      2039\n",
      "          1       0.93      0.90      0.91      3958\n",
      "          2       0.76      0.84      0.80      2332\n",
      "          3       0.98      1.00      0.99      2733\n",
      "          4       0.92      0.85      0.88       442\n",
      "\n",
      "avg / total       0.91      0.90      0.90     11504\n",
      "\n"
     ]
    },
    {
     "data": {
      "image/png": "[encoded data removed]",
      "text/plain": [
       "<Figure size 432x288 with 2 Axes>"
      ]
     },
     "metadata": {},
     "output_type": "display_data"
    }
   ],
   "source": [
    "print(classification_report(Y_true, Y_casc))\n",
    "cnf_matrix = confusion_matrix(Y_true, Y_casc)\n",
    "np.set_printoptions(precision=2)\n",
    "sns.set_style(\"dark\")\n",
    "plt.figure()\n",
    "utils.plot_confusion_matrix(cnf_matrix, classes=classes[1:], title='Confusion matrix, without normalization')"
   ]
  },
  {
   "cell_type": "markdown",
   "metadata": {},
   "source": [
    "## Comparison between the two pipelines"
   ]
  },
  {
   "cell_type": "code",
   "execution_count": 18,
   "metadata": {},
   "outputs": [
    {
     "name": "stdout",
     "output_type": "stream",
     "text": [
      "One-Shot weighted f1-score:   0.8858624620392577\n",
      "Two-Steps weighted f1-score:  0.9030815392410309\n",
      "With partials:\n",
      "\t\tDetection:      0.9620745119669492 \n",
      "\t\tClassification: 0.935243649411559\n"
     ]
    }
   ],
   "source": [
    "print(\"One-Shot weighted f1-score:  \", score_os)\n",
    "print(\"Two-Steps weighted f1-score: \", f1_score(Y_true, Y_casc, average='weighted'))\n",
    "print(\"With partials:\\n\\t\\tDetection:     \",score_ad,\"\\n\\t\\tClassification:\", score_ac)"
   ]
  },
  {
   "cell_type": "markdown",
   "metadata": {},
   "source": [
    "# The end"
   ]
  }
 ],
 "metadata": {
  "kernelspec": {
   "display_name": "Python 3",
   "language": "python",
   "name": "python3"
  },
  "language_info": {
   "codemirror_mode": {
    "name": "ipython",
    "version": 3
   },
   "file_extension": ".py",
   "mimetype": "text/x-python",
   "name": "python",
   "nbconvert_exporter": "python",
   "pygments_lexer": "ipython3",
   "version": "3.6.4"
  }
 },
 "nbformat": 4,
 "nbformat_minor": 2
}
