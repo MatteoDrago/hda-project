{
 "cells": [
  {
   "cell_type": "markdown",
   "metadata": {},
   "source": [
    "# HDA - Project 3"
   ]
  },
  {
   "cell_type": "code",
   "execution_count": 1,
   "metadata": {},
   "outputs": [
    {
     "name": "stderr",
     "output_type": "stream",
     "text": [
      "Using TensorFlow backend.\n"
     ]
    }
   ],
   "source": [
    "import utils\n",
    "import deeplearning\n",
    "import numpy as np\n",
    "\n",
    "import matplotlib.pyplot as plt\n",
    "import seaborn as sns \n",
    "\n",
    "from sklearn.svm import LinearSVC\n",
    "from sklearn.metrics import accuracy_score\n",
    "\n",
    "from keras import regularizers\n",
    "from keras.activations import relu\n",
    "from keras.layers import Conv2D, BatchNormalization, Dropout, LeakyReLU, Flatten, Activation, Dense, MaxPooling2D, LSTM, Reshape\n",
    "from keras.models import load_model, Model, Sequential\n",
    "from keras.optimizers import Adam"
   ]
  },
  {
   "cell_type": "markdown",
   "metadata": {},
   "source": [
    "The following cell contains the hyper-parameters that can be tuned for code execution:\n",
    "- subject: select the subject on which to test the model, between [1,4];\n",
    "- folder: directory name where '.mat' files are stored;\n",
    "- label_col: column of features to be selected to perform activity detection, between [0,6]:\n",
    "\n",
    "|  Label |  Feature |\n",
    "|:-:     |:-:|\n",
    "|  0     | Locomotion (TASK A)  |\n",
    "|  1     | High Level Activity |\n",
    "|  2     | Low Level Left Arm  |\n",
    "|  3     | Low Level Left Arm Object  |\n",
    "|  4     | Low Level Right Arm  |\n",
    "|  5     | Low Level Right Arm Object  |\n",
    "|  6     | Medium Level Both Arms (TASK B2) |\n",
    "\n",
    "- window_size: parameter that sets the length of temporal windows on which to perform the convolution;\n",
    "- stride: step length to chose the next window.\n",
    "\n",
    "The size of the temporal window seems to be fundamental in order to get a more specific and powerful model; of course the choice of the step lenght between consequent windows has to be consistent and to make sense. Thinking about a real-time situation, as long as we collect data we can use a sliding window of real-time samples; in this way, it is reasonable to use also a small value for the stride. Another important reason behind the choice of the value of the "
   ]
  },
  {
   "cell_type": "code",
   "execution_count": 2,
   "metadata": {},
   "outputs": [],
   "source": [
    "subject = 2\n",
    "folder = \"./data/full/\"\n",
    "#folder = \"/floyd/input/hdadataset/full/\" # To be used with FloydHub\n",
    "label = 6 \n",
    "window_size = 64\n",
    "stride = 3"
   ]
  },
  {
   "cell_type": "markdown",
   "metadata": {},
   "source": [
    "# Detection\n",
    "\n",
    "The following section consists on the first part of the structure; our idea is to treat separately the detection of the movement (i.e. the _null class_) and the movement classication itself.\n",
    "\n",
    "The steps that we take are the following: first we set all the labels different from 0 to 1, making the problem binary; then, we build a suitable network that can spot the movement."
   ]
  },
  {
   "cell_type": "code",
   "execution_count": 3,
   "metadata": {},
   "outputs": [
    {
     "name": "stdout",
     "output_type": "stream",
     "text": [
      "Training samples:  145808 \n",
      "Test samples:       57720 \n",
      "Features:             110\n",
      "TRAINING SET:\n",
      "Dataset of Images have shape:  (48581, 64, 110) \n",
      "Dataset of Labels have shape:    (48581, 2) \n",
      "Fraction of labels:   [0.62285667 0.37714333]\n",
      "TEST SET:\n",
      "Dataset of Images have shape:  (19219, 64, 110) \n",
      "Dataset of Labels have shape:    (19219, 2) \n",
      "Fraction of labels:   [0.84088662 0.15911338]\n"
     ]
    }
   ],
   "source": [
    "[x_train, y_train, x_test, y_test, n_classes] = utils.preprocessing(subject,\n",
    "                                                                    folder,\n",
    "                                                                    label,\n",
    "                                                                    window_size,\n",
    "                                                                    stride,\n",
    "                                                                    make_binary = True)"
   ]
  },
  {
   "cell_type": "code",
   "execution_count": 4,
   "metadata": {},
   "outputs": [
    {
     "data": {
      "text/plain": [
       "<matplotlib.text.Text at 0x1dc0b2b8b00>"
      ]
     },
     "execution_count": 4,
     "metadata": {},
     "output_type": "execute_result"
    },
    {
     "data": {
      "image/png": "[encoded data removed]",
      "text/plain": [
       "<matplotlib.figure.Figure at 0x1dc0300a978>"
      ]
     },
     "metadata": {},
     "output_type": "display_data"
    }
   ],
   "source": [
    "# plot of the labels distribution for this user (might be useful)\n",
    "\n",
    "sns.set(style=\"whitegrid\")\n",
    "\n",
    "fig = plt.figure()\n",
    "ax1 = fig.add_subplot(121)\n",
    "ax2 = fig.add_subplot(122)\n",
    "\n",
    "x_classes = ['Null Class','Other']\n",
    "y_values = np.sum(y_train, axis = 0)\n",
    "sns.barplot(x=x_classes, y=y_values, ax=ax1).set_title('Labels distribution - Training set')\n",
    "\n",
    "y_values = np.sum(y_test, axis = 0)\n",
    "sns.barplot(x=x_classes, y=y_values, ax=ax2).set_title('Labels distribution - Test set')"
   ]
  },
  {
   "cell_type": "markdown",
   "metadata": {},
   "source": [
    "### Model Definition"
   ]
  },
  {
   "cell_type": "code",
   "execution_count": 5,
   "metadata": {},
   "outputs": [],
   "source": [
    "def MotionDetection(input_shape, classes, withSoftmax = True):\n",
    "    \n",
    "    model = Sequential()\n",
    "  \n",
    "    # Layer 0\n",
    "    model.add(BatchNormalization(input_shape = input_shape))\n",
    "\n",
    "    # Layer 1\n",
    "    model.add(Conv2D(filters = 50,\n",
    "                    kernel_size = (11,3),\n",
    "                    strides=(1,1),\n",
    "                    activation='relu'))\n",
    "    \n",
    "    # Layer 2\n",
    "    model.add(MaxPooling2D(pool_size=(2,1)))\n",
    "    \n",
    "    # Layer 3\n",
    "    # This layer dimension are automatically scanned in order to avoid updating by hand each time\n",
    "    model.add(Reshape((model.layers[2].output_shape[1],model.layers[2].output_shape[2] * model.layers[2].output_shape[3])))  \n",
    "\n",
    "    # Layer 4\n",
    "    model.add(LSTM(20,\n",
    "                  return_sequences=True))\n",
    "    \n",
    "    # Layer 5 \n",
    "    model.add(LSTM(20))\n",
    "   \n",
    "    # Layer 6\n",
    "    model.add(Dense(512,activation = 'relu'))\n",
    "    \n",
    "    if (withSoftmax):\n",
    "        # Layer 7\n",
    "        model.add(Dense(classes, activation = 'softmax'))\n",
    "    \n",
    "    return model"
   ]
  },
  {
   "cell_type": "markdown",
   "metadata": {},
   "source": [
    "### Model compilation and input reshaping"
   ]
  },
  {
   "cell_type": "code",
   "execution_count": 6,
   "metadata": {},
   "outputs": [],
   "source": [
    "n_features = x_train.shape[2] #number of features taken into consideration for the solution of the problem\n",
    "n_classes = 2\n",
    "\n",
    "input_train = x_train.reshape(x_train.shape[0], window_size, n_features, 1)\n",
    "input_test = x_test.reshape(x_test.shape[0], window_size, n_features, 1)"
   ]
  },
  {
   "cell_type": "markdown",
   "metadata": {},
   "source": [
    "#switch to markdown if model is already trained and it just need to be loaded\n",
    "detection_model = MotionDetection((window_size,n_features,1), n_classes)\n",
    "detection_model.summary() # model visualization\n",
    "\n",
    "detection_model.compile(optimizer = Adam(lr=0.01), \n",
    "                   loss = \"categorical_crossentropy\", \n",
    "                   metrics = [\"accuracy\"])"
   ]
  },
  {
   "cell_type": "markdown",
   "metadata": {},
   "source": [
    "### Model fitting\n",
    "\n",
    "After the training procedure, the model will be saved on the local disk."
   ]
  },
  {
   "cell_type": "markdown",
   "metadata": {},
   "source": [
    "#switch to markdown if model is already trained and it just need to be loaded\n",
    "detection_model.fit(x = input_train, \n",
    "               y = y_train, \n",
    "               epochs = 20, \n",
    "               batch_size = 300,\n",
    "               verbose = 1,\n",
    "               validation_data=(input_test, y_test))\n",
    "\n",
    "detection_model.save('./detection_model.h5')\n",
    "detection_model.save_weights('./detection_model_weights.h5')"
   ]
  },
  {
   "cell_type": "code",
   "execution_count": 7,
   "metadata": {},
   "outputs": [],
   "source": [
    "detection_model = load_model('./data/detection_model.h5')"
   ]
  },
  {
   "cell_type": "markdown",
   "metadata": {},
   "source": [
    "### Performance evaluation"
   ]
  },
  {
   "cell_type": "code",
   "execution_count": 8,
   "metadata": {},
   "outputs": [],
   "source": [
    "output_test = detection_model.predict(input_test)\n",
    "prediction = np.argmax(output_test, axis=1)"
   ]
  },
  {
   "cell_type": "code",
   "execution_count": 9,
   "metadata": {},
   "outputs": [
    {
     "name": "stdout",
     "output_type": "stream",
     "text": [
      "Accuracy:  0.40522399708621676\n",
      "F1-measure:  0.4567357672799199\n"
     ]
    },
    {
     "data": {
      "image/png": "[encoded data removed]",
      "text/plain": [
       "<matplotlib.figure.Figure at 0x1dc0b3a0898>"
      ]
     },
     "metadata": {},
     "output_type": "display_data"
    }
   ],
   "source": [
    "print(\"Accuracy: \", accuracy_score(np.argmax(y_test, axis=1), prediction))\n",
    "print(\"F1-measure: \", utils.f1_score(np.argmax(y_test, axis=1), prediction, average='weighted'))\n",
    "\n",
    "cnf_matrix = utils.confusion_matrix(np.argmax(y_test, axis=1), prediction)\n",
    "np.set_printoptions(precision=2)\n",
    "\n",
    "sns.set_style(\"dark\")\n",
    "plt.figure()\n",
    "utils.plot_confusion_matrix(cnf_matrix, classes=[0,1],\n",
    "                      title='Confusion matrix, without normalization')"
   ]
  },
  {
   "cell_type": "markdown",
   "metadata": {},
   "source": [
    "# Classification\n",
    "\n",
    "After the _detection_ step we import and preprocess again the dataset, this time excluding all the samples associated to the _null class_; in this way we could build a neural network cleaned of the null class and that can distinguish better the difference between motions."
   ]
  },
  {
   "cell_type": "code",
   "execution_count": 10,
   "metadata": {
    "scrolled": true
   },
   "outputs": [
    {
     "name": "stdout",
     "output_type": "stream",
     "text": [
      "Training samples:  145808 \n",
      "Test samples:       57720 \n",
      "Features:             110\n",
      "TRAINING SET:\n"
     ]
    },
    {
     "ename": "KeyboardInterrupt",
     "evalue": "",
     "output_type": "error",
     "traceback": [
      "\u001b[1;31m---------------------------------------------------------------------------\u001b[0m",
      "\u001b[1;31mKeyboardInterrupt\u001b[0m                         Traceback (most recent call last)",
      "\u001b[1;32m<ipython-input-10-703cc4998ac7>\u001b[0m in \u001b[0;36m<module>\u001b[1;34m()\u001b[0m\n\u001b[0;32m      4\u001b[0m                                                                     \u001b[0mwindow_size\u001b[0m\u001b[1;33m,\u001b[0m\u001b[1;33m\u001b[0m\u001b[0m\n\u001b[0;32m      5\u001b[0m                                                                     \u001b[0mstride\u001b[0m\u001b[1;33m,\u001b[0m\u001b[1;33m\u001b[0m\u001b[0m\n\u001b[1;32m----> 6\u001b[1;33m                                                                     null_class = False)\n\u001b[0m",
      "\u001b[1;32m~\\OneDrive - Università degli Studi di Padova\\Università\\Magistrale\\Human Data Analytics\\hda-project\\code\\utils.py\u001b[0m in \u001b[0;36mpreprocessing\u001b[1;34m(subject, folder, label, window_size, stride, make_binary, null_class)\u001b[0m\n\u001b[0;32m    161\u001b[0m \u001b[1;33m\u001b[0m\u001b[0m\n\u001b[0;32m    162\u001b[0m     \u001b[0mprint\u001b[0m\u001b[1;33m(\u001b[0m\u001b[1;34m\"TRAINING SET:\"\u001b[0m\u001b[1;33m)\u001b[0m\u001b[1;33m\u001b[0m\u001b[0m\n\u001b[1;32m--> 163\u001b[1;33m     \u001b[0mX_train_s\u001b[0m\u001b[1;33m,\u001b[0m \u001b[0mY_train_s\u001b[0m \u001b[1;33m=\u001b[0m \u001b[0mprepareData\u001b[0m\u001b[1;33m(\u001b[0m\u001b[0mX_train\u001b[0m\u001b[1;33m,\u001b[0m \u001b[0mY_train_oh\u001b[0m\u001b[1;33m,\u001b[0m \u001b[0mwindow_size\u001b[0m\u001b[1;33m,\u001b[0m \u001b[0mstride\u001b[0m\u001b[1;33m,\u001b[0m \u001b[0mnull_class\u001b[0m \u001b[1;33m=\u001b[0m \u001b[0mnull_class\u001b[0m\u001b[1;33m)\u001b[0m\u001b[1;33m\u001b[0m\u001b[0m\n\u001b[0m\u001b[0;32m    164\u001b[0m     \u001b[0mprint\u001b[0m\u001b[1;33m(\u001b[0m\u001b[1;34m\"TEST SET:\"\u001b[0m\u001b[1;33m)\u001b[0m\u001b[1;33m\u001b[0m\u001b[0m\n\u001b[0;32m    165\u001b[0m     \u001b[0mX_test_s\u001b[0m\u001b[1;33m,\u001b[0m \u001b[0mY_test_s\u001b[0m \u001b[1;33m=\u001b[0m \u001b[0mprepareData\u001b[0m\u001b[1;33m(\u001b[0m\u001b[0mX_test\u001b[0m\u001b[1;33m,\u001b[0m \u001b[0mY_test_oh\u001b[0m\u001b[1;33m,\u001b[0m \u001b[0mwindow_size\u001b[0m\u001b[1;33m,\u001b[0m \u001b[0mstride\u001b[0m\u001b[1;33m,\u001b[0m \u001b[0mnull_class\u001b[0m \u001b[1;33m=\u001b[0m \u001b[0mnull_class\u001b[0m\u001b[1;33m)\u001b[0m\u001b[1;33m\u001b[0m\u001b[0m\n",
      "\u001b[1;32m~\\OneDrive - Università degli Studi di Padova\\Università\\Magistrale\\Human Data Analytics\\hda-project\\code\\utils.py\u001b[0m in \u001b[0;36mprepareData\u001b[1;34m(X, Y, window_size, stride, printInfo, null_class)\u001b[0m\n\u001b[0;32m     66\u001b[0m         \u001b[0mnon_null\u001b[0m \u001b[1;33m=\u001b[0m \u001b[1;33m(\u001b[0m\u001b[0mY_out\u001b[0m\u001b[1;33m[\u001b[0m\u001b[1;33m:\u001b[0m\u001b[1;33m,\u001b[0m\u001b[1;36m0\u001b[0m\u001b[1;33m]\u001b[0m \u001b[1;33m==\u001b[0m \u001b[1;36m0\u001b[0m\u001b[1;33m)\u001b[0m \u001b[1;31m# samples 0-labeled (Y_out[:,0] is the first column of Y_out)\u001b[0m\u001b[1;33m\u001b[0m\u001b[0m\n\u001b[0;32m     67\u001b[0m         \u001b[0mX_out\u001b[0m \u001b[1;33m=\u001b[0m \u001b[0mX_out\u001b[0m\u001b[1;33m[\u001b[0m\u001b[0mnon_null\u001b[0m\u001b[1;33m]\u001b[0m\u001b[1;33m\u001b[0m\u001b[0m\n\u001b[1;32m---> 68\u001b[1;33m         \u001b[0mY_out_new\u001b[0m \u001b[1;33m=\u001b[0m \u001b[0mY_out\u001b[0m\u001b[1;33m[\u001b[0m\u001b[0mnon_null\u001b[0m\u001b[1;33m]\u001b[0m\u001b[1;33m[\u001b[0m\u001b[1;33m:\u001b[0m\u001b[1;33m,\u001b[0m\u001b[1;36m1\u001b[0m\u001b[1;33m:\u001b[0m\u001b[1;33m]\u001b[0m\u001b[1;33m\u001b[0m\u001b[0m\n\u001b[0m\u001b[0;32m     69\u001b[0m         \u001b[0mY_out\u001b[0m \u001b[1;33m=\u001b[0m \u001b[0mY_out_new\u001b[0m\u001b[1;33m\u001b[0m\u001b[0m\n\u001b[0;32m     70\u001b[0m \u001b[1;33m\u001b[0m\u001b[0m\n",
      "\u001b[1;31mKeyboardInterrupt\u001b[0m: "
     ]
    }
   ],
   "source": [
    "[x_train, y_train, x_test, y_test, n_classes] = utils.preprocessing(subject,\n",
    "                                                                    folder,\n",
    "                                                                    label,\n",
    "                                                                    window_size,\n",
    "                                                                    stride,\n",
    "                                                                    null_class = False)"
   ]
  },
  {
   "cell_type": "code",
   "execution_count": null,
   "metadata": {},
   "outputs": [],
   "source": [
    "# plot of the labels distribution for this user (might be useful)\n",
    "\n",
    "sns.set(style=\"whitegrid\")\n",
    "\n",
    "fig = plt.figure()\n",
    "fig.set_size_inches(11.7, 8.27)\n",
    "ax1 = fig.add_subplot(121)\n",
    "ax2 = fig.add_subplot(122)\n",
    "\n",
    "x_classes = ['Open Door 1','Open Door 2','Close Door 1','Close Door 2','Open Fridge',\n",
    "             'Close Fridge','Open Dishwasher','Close Dishwasher','Open Drawer 1','Close Drawer 1',\n",
    "            'Open Drawer 2','Close Drawer 2','Open Drawer 3','Close Drawer 3','Clean Table',\n",
    "            'Drink from Cup','Toggle Switch']\n",
    "y_values = np.sum(y_train, axis = 0)\n",
    "bar1 = sns.barplot(x=x_classes, y=y_values, ax=ax1)\n",
    "bar1.set_title('Labels distribution - Training set')\n",
    "for item in bar1.get_xticklabels():\n",
    "    item.set_rotation(90)\n",
    "\n",
    "y_values = np.sum(y_test, axis = 0)\n",
    "bar2 = sns.barplot(x=x_classes, y=y_values, ax=ax2)\n",
    "bar2.set_title('Labels distribution - Test set')\n",
    "for item in bar2.get_xticklabels():\n",
    "    item.set_rotation(90)"
   ]
  },
  {
   "cell_type": "markdown",
   "metadata": {},
   "source": [
    "### Model definition, compilation and input reshaping"
   ]
  },
  {
   "cell_type": "code",
   "execution_count": null,
   "metadata": {},
   "outputs": [],
   "source": [
    "n_features = x_train.shape[2] #number of features taken into consideration for the solution of the problem\n",
    "n_classes = 4\n",
    "\n",
    "input_train = x_train.reshape(x_train.shape[0], window_size, n_features, 1)\n",
    "input_test = x_test.reshape(x_test.shape[0], window_size, n_features, 1)"
   ]
  },
  {
   "cell_type": "markdown",
   "metadata": {},
   "source": [
    "#switch to markdown if model is already trained and it just need to be loaded\n",
    "classification_model = deeplearning.Hybrid((window_size,n_features,1), n_classes)\n",
    "classification_model.summary() # model visualization\n",
    "\n",
    "classification_model.compile(optimizer = Adam(lr=0.01), \n",
    "                   loss = \"categorical_crossentropy\", \n",
    "                   metrics = [\"accuracy\"])"
   ]
  },
  {
   "cell_type": "markdown",
   "metadata": {},
   "source": [
    "### Model fitting\n",
    "\n",
    "After the training procedure, the model will be saved on disk"
   ]
  },
  {
   "cell_type": "markdown",
   "metadata": {},
   "source": [
    "#switch to markdown if model is already trained and it just need to be loaded\n",
    "classification_model.fit(x = input_train, \n",
    "               y = y_train, \n",
    "               epochs = 20, \n",
    "               batch_size = 300,\n",
    "               verbose = 1,\n",
    "               validation_data=(input_test, y_test))\n",
    "\n",
    "classification_model.save('./detection_model.h5')\n",
    "classification_model.save_weights('./detection_model_weights.h5')"
   ]
  },
  {
   "cell_type": "code",
   "execution_count": null,
   "metadata": {},
   "outputs": [],
   "source": [
    "classification_model = load_model('./data/classification_model.h5')"
   ]
  },
  {
   "cell_type": "code",
   "execution_count": null,
   "metadata": {},
   "outputs": [],
   "source": [
    "output_test = classification_model.predict(input_test)\n",
    "prediction = np.argmax(output_test, axis=1)"
   ]
  },
  {
   "cell_type": "code",
   "execution_count": null,
   "metadata": {},
   "outputs": [],
   "source": [
    "print(\"Accuracy: \", accuracy_score(np.argmax(y_test, axis=1), prediction))\n",
    "print(\"F1-measure: \", utils.f1_score(np.argmax(y_test, axis=1), prediction, average='weighted'))\n",
    "\n",
    "cnf_matrix = utils.confusion_matrix(np.argmax(y_test, axis=1), prediction)\n",
    "np.set_printoptions(precision=2)\n",
    "\n",
    "sns.set_style(\"dark\")\n",
    "plt.figure()\n",
    "utils.plot_confusion_matrix(cnf_matrix, classes=[1,2,4,5],\n",
    "                      title='Confusion matrix, without normalization')"
   ]
  },
  {
   "cell_type": "code",
   "execution_count": null,
   "metadata": {},
   "outputs": [],
   "source": []
  }
 ],
 "metadata": {
  "kernelspec": {
   "display_name": "Python 3",
   "language": "python",
   "name": "python3"
  },
  "language_info": {
   "codemirror_mode": {
    "name": "ipython",
    "version": 3
   },
   "file_extension": ".py",
   "mimetype": "text/x-python",
   "name": "python",
   "nbconvert_exporter": "python",
   "pygments_lexer": "ipython3",
   "version": "3.6.4"
  }
 },
 "nbformat": 4,
 "nbformat_minor": 2
}
