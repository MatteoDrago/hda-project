{
 "cells": [
  {
   "cell_type": "markdown",
   "metadata": {},
   "source": [
    "# Keras Implementation - Human Data Analytics Project \n",
    "\n",
    "Importing all modules that we need for our elaboration"
   ]
  },
  {
   "cell_type": "code",
   "execution_count": 21,
   "metadata": {},
   "outputs": [],
   "source": [
    "import numpy as np\n",
    "import scipy.io\n",
    "\n",
    "from keras import regularizers\n",
    "\n",
    "import warnings\n",
    "with warnings.catch_warnings():\n",
    "    warnings.filterwarnings(\"ignore\",category=FutureWarning)\n",
    "    \n",
    "    from keras.layers import Conv1D, BatchNormalization, Dropout, LeakyReLU, Flatten, Activation, Dense, MaxPooling1D\n",
    "    from keras.models import Model, Sequential\n",
    "    from keras.optimizers import Adam\n",
    "    from sklearn.preprocessing import OneHotEncoder, StandardScaler\n",
    "    from sklearn.metrics import f1_score\n",
    "    import keras.backend as K\n",
    "    \n",
    "K.set_image_data_format('channels_last')\n",
    "\n",
    "%matplotlib inline"
   ]
  },
  {
   "cell_type": "markdown",
   "metadata": {},
   "source": [
    "# Preprocessing Section"
   ]
  },
  {
   "cell_type": "code",
   "execution_count": 2,
   "metadata": {},
   "outputs": [],
   "source": [
    "x1 = scipy.io.loadmat(\"data_temp/S1-ADL1\", mdict={'filled_features':'features', 'labels':'labels'})\n",
    "x2 = scipy.io.loadmat(\"data_temp/S1-ADL2\", mdict={'filled_features':'features', 'labels':'labels'})\n",
    "x3 = scipy.io.loadmat(\"data_temp/S1-ADL3\", mdict={'filled_features':'features', 'labels':'labels'})\n",
    "x4 = scipy.io.loadmat(\"data_temp/S1-ADL4\", mdict={'filled_features':'features', 'labels':'labels'})\n",
    "x5 = scipy.io.loadmat(\"data_temp/S1-ADL5\", mdict={'filled_features':'features', 'labels':'labels'})"
   ]
  },
  {
   "cell_type": "markdown",
   "metadata": {},
   "source": [
    "We split the data into train and test set."
   ]
  },
  {
   "cell_type": "code",
   "execution_count": 3,
   "metadata": {},
   "outputs": [
    {
     "name": "stdout",
     "output_type": "stream",
     "text": [
      "X_train shape:  (132281, 113)\n",
      "X_test shape:  (30228, 113)\n"
     ]
    }
   ],
   "source": [
    "X_train = np.concatenate((x1['filled_features'],x2['filled_features'],x3['filled_features'],x5['filled_features']),axis=0)\n",
    "#X_test = np.concatenate((x4['filled_features'],x5['filled_features']),axis=0)\n",
    "X_test = x4['filled_features']\n",
    "\n",
    "Y_train = np.concatenate((x1['labels'][:,0],x2['labels'][:,0],x3['labels'][:,0],x5['labels'][:,0]),axis=0) # here we take just the first column because we want to fulfill the first task\n",
    "Y_test = x4['labels'][:,0]\n",
    "#Y_test = np.concatenate((x4['labels'][:,0],x5['labels'][:,0]),axis=0)\n",
    "\n",
    "# Initial decision to overcome the problem of entire missing columns\n",
    "X_train = np.nan_to_num(X_train)\n",
    "X_test = np.nan_to_num(X_test)\n",
    "\n",
    "print(\"X_train shape: \", X_train.shape)\n",
    "print(\"X_test shape: \", X_test.shape)\n"
   ]
  },
  {
   "cell_type": "markdown",
   "metadata": {},
   "source": [
    "The dataset needs to be normalized in order to improve performances."
   ]
  },
  {
   "cell_type": "code",
   "execution_count": 4,
   "metadata": {},
   "outputs": [],
   "source": [
    "# fatures normalization\n",
    "scaler = StandardScaler().fit(X_train)\n",
    "X_train =scaler.transform(X_train)\n",
    "X_test = scaler.transform(X_test)"
   ]
  },
  {
   "cell_type": "markdown",
   "metadata": {},
   "source": [
    "We decided to use a onehot encoder for the labels"
   ]
  },
  {
   "cell_type": "code",
   "execution_count": 5,
   "metadata": {},
   "outputs": [
    {
     "name": "stdout",
     "output_type": "stream",
     "text": [
      "YOH_train shape:  (132281, 5)\n",
      "YOH_test shape:  (30228, 5)\n"
     ]
    }
   ],
   "source": [
    "onehot_encoder = OneHotEncoder(sparse=False)\n",
    "YOH_train = onehot_encoder.fit_transform(Y_train.reshape(-1, 1))\n",
    "YOH_test = onehot_encoder.fit_transform(Y_test.reshape(-1, 1))\n",
    "\n",
    "print(\"YOH_train shape: \", YOH_train.shape)\n",
    "print(\"YOH_test shape: \", YOH_test.shape)"
   ]
  },
  {
   "cell_type": "code",
   "execution_count": 6,
   "metadata": {},
   "outputs": [
    {
     "name": "stdout",
     "output_type": "stream",
     "text": [
      "Number of samples:  132281 \n",
      "Number of classes:  5\n",
      "Number of windows:  26455\n"
     ]
    }
   ],
   "source": [
    "window_size = 10\n",
    "stride = int(window_size / 2)\n",
    "num_features = X_train.shape[1]\n",
    "samples, classes = YOH_train.shape\n",
    "print(\"Number of samples: \", samples, \"\\nNumber of classes: \", classes)\n",
    "\n",
    "windows = int(samples // stride) - 1\n",
    "print(\"Number of windows: \", windows)"
   ]
  },
  {
   "cell_type": "code",
   "execution_count": 7,
   "metadata": {},
   "outputs": [
    {
     "name": "stdout",
     "output_type": "stream",
     "text": [
      "Number of samples:  30228 \n",
      "Number of classes:  5\n",
      "Number of windows:  6044\n"
     ]
    }
   ],
   "source": [
    "num_features_test = X_test.shape[1]\n",
    "samples_test, classes_test = YOH_test.shape\n",
    "print(\"Number of samples: \", samples_test, \"\\nNumber of classes: \", classes_test)\n",
    "\n",
    "windows_test = int(samples_test // stride) - 1\n",
    "print(\"Number of windows: \", windows_test)"
   ]
  },
  {
   "cell_type": "code",
   "execution_count": 8,
   "metadata": {},
   "outputs": [
    {
     "data": {
      "text/plain": [
       "(26455, 10, 113)"
      ]
     },
     "execution_count": 8,
     "metadata": {},
     "output_type": "execute_result"
    }
   ],
   "source": [
    "cube = np.zeros([windows, window_size, num_features])\n",
    "cube.shape"
   ]
  },
  {
   "cell_type": "code",
   "execution_count": 9,
   "metadata": {},
   "outputs": [
    {
     "data": {
      "text/plain": [
       "(6044, 10, 113)"
      ]
     },
     "execution_count": 9,
     "metadata": {},
     "output_type": "execute_result"
    }
   ],
   "source": [
    "cube_test = np.zeros([windows_test, window_size, num_features])\n",
    "cube_test.shape"
   ]
  },
  {
   "cell_type": "code",
   "execution_count": 10,
   "metadata": {},
   "outputs": [
    {
     "data": {
      "text/plain": [
       "(26455,)"
      ]
     },
     "execution_count": 10,
     "metadata": {},
     "output_type": "execute_result"
    }
   ],
   "source": [
    "lab_cum = np.zeros([windows])\n",
    "lab_cum.shape"
   ]
  },
  {
   "cell_type": "code",
   "execution_count": 11,
   "metadata": {},
   "outputs": [
    {
     "data": {
      "text/plain": [
       "(6044,)"
      ]
     },
     "execution_count": 11,
     "metadata": {},
     "output_type": "execute_result"
    }
   ],
   "source": [
    "lab_cum_test = np.zeros([windows_test])\n",
    "lab_cum_test.shape"
   ]
  },
  {
   "cell_type": "code",
   "execution_count": 12,
   "metadata": {},
   "outputs": [],
   "source": [
    "for w in range(windows):\n",
    "    index = int(w * stride)\n",
    "    cube[w,:,:] = X_train[index:index+window_size, :].reshape((window_size,num_features))\n",
    "    l = YOH_train[index:index+window_size,:] # shape 50 x 5\n",
    "    #print(np.sum(l, axis=0),np.argmax(np.sum(l, axis=0)))\n",
    "    lab_cum[w] = np.argmax(np.sum(l, axis=0))"
   ]
  },
  {
   "cell_type": "code",
   "execution_count": 13,
   "metadata": {},
   "outputs": [],
   "source": [
    "for w in range(windows_test):\n",
    "    index = int(w * stride)\n",
    "    cube_test[w,:,:] = X_test[index:index+window_size, :].reshape((window_size,num_features))\n",
    "    l = YOH_test[index:index+window_size,:] # shape 50 x 5\n",
    "    #print(np.sum(l, axis=0),np.argmax(np.sum(l, axis=0)))\n",
    "    lab_cum_test[w] = np.argmax(np.sum(l, axis=0))"
   ]
  },
  {
   "cell_type": "code",
   "execution_count": 14,
   "metadata": {},
   "outputs": [
    {
     "name": "stdout",
     "output_type": "stream",
     "text": [
      "[[0. 1. 0. 0. 0.]\n",
      " [0. 1. 0. 0. 0.]\n",
      " [0. 1. 0. 0. 0.]\n",
      " ...\n",
      " [0. 0. 1. 0. 0.]\n",
      " [0. 0. 1. 0. 0.]\n",
      " [0. 0. 1. 0. 0.]]\n"
     ]
    }
   ],
   "source": [
    "#print('cumulative labels: ', lab_cum.shape, type(lab_cum), \"\\n\", lab_cum)\n",
    "YOH_train_final = onehot_encoder.fit_transform(lab_cum.reshape(-1, 1))\n",
    "print(YOH_train_final)"
   ]
  },
  {
   "cell_type": "code",
   "execution_count": 15,
   "metadata": {},
   "outputs": [
    {
     "name": "stdout",
     "output_type": "stream",
     "text": [
      "[[0. 1. 0. 0. 0.]\n",
      " [0. 1. 0. 0. 0.]\n",
      " [0. 1. 0. 0. 0.]\n",
      " ...\n",
      " [0. 0. 1. 0. 0.]\n",
      " [0. 0. 1. 0. 0.]\n",
      " [0. 0. 1. 0. 0.]]\n"
     ]
    }
   ],
   "source": [
    "YOH_test_final = onehot_encoder.fit_transform(lab_cum_test.reshape(-1, 1))\n",
    "print(YOH_test_final)"
   ]
  },
  {
   "cell_type": "code",
   "execution_count": 16,
   "metadata": {},
   "outputs": [],
   "source": [
    "def TestModel(input_shape):\n",
    "    \"\"\" \n",
    "    Arguments:\n",
    "    input_shape -- shape of the images of the dataset\n",
    "\n",
    "    Returns: \n",
    "    model -- a Model() instance in Keras\n",
    "    \"\"\"\n",
    "    \n",
    "    model = Sequential()\n",
    "    model.add(Conv1D(filters = 18,\n",
    "                    kernel_size=5,\n",
    "                    strides=1,\n",
    "                    padding='same',\n",
    "                    input_shape = input_shape))\n",
    "    model.add(BatchNormalization())\n",
    "    model.add(Activation('relu'))\n",
    "    model.add(MaxPooling1D(pool_size=2,\n",
    "                          strides=2,\n",
    "                          padding='same'))\n",
    "    \n",
    "    model.add(Conv1D(filters = 36,\n",
    "                    kernel_size=7,\n",
    "                    strides=1,\n",
    "                    padding='same'))\n",
    "    model.add(BatchNormalization())\n",
    "    model.add(Activation('relu'))\n",
    "    model.add(MaxPooling1D(pool_size=2,\n",
    "                          strides=2,\n",
    "                          padding='same'))\n",
    "    \n",
    "    model.add(Dropout(0.2))\n",
    "    \n",
    "    model.add(Conv1D(filters = 72,\n",
    "                    kernel_size=7,\n",
    "                    strides=1,\n",
    "                    padding='same'))\n",
    "    model.add(BatchNormalization())\n",
    "    model.add(Activation('relu'))\n",
    "    model.add(MaxPooling1D(pool_size=2,\n",
    "                          strides=2,\n",
    "                          padding='same'))\n",
    "    \n",
    "    #model.add(Conv1D(filters = 144,\n",
    "    #                kernel_size=7,\n",
    "    #                strides=1,\n",
    "    #                padding='same'))\n",
    "    #model.add(BatchNormalization())\n",
    "    #model.add(Activation('relu'))\n",
    "    #model.add(MaxPooling1D(pool_size=2,\n",
    "    #                      strides=2,\n",
    "    #                      padding='same'))\n",
    "    \n",
    "    model.add(Flatten())\n",
    "    \n",
    "    model.add(Dense(64, kernel_regularizer=regularizers.l2(0.01)))\n",
    "    model.add(Activation('relu'))\n",
    "    \n",
    "    model.add(Dropout(0.4))\n",
    "\n",
    "    model.add(Dense(5))\n",
    "    model.add(Activation('softmax'))\n",
    "    \n",
    "    #model.summary()\n",
    "    \n",
    "    return model"
   ]
  },
  {
   "cell_type": "code",
   "execution_count": 17,
   "metadata": {},
   "outputs": [
    {
     "name": "stdout",
     "output_type": "stream",
     "text": [
      "WARNING:tensorflow:From C:\\Users\\Matteo\\Anaconda3\\lib\\site-packages\\tensorflow\\python\\util\\deprecation.py:497: calling conv1d (from tensorflow.python.ops.nn_ops) with data_format=NHWC is deprecated and will be removed in a future version.\n",
      "Instructions for updating:\n",
      "`NHWC` for data_format is deprecated, use `NWC` instead\n"
     ]
    }
   ],
   "source": [
    "model_test = TestModel((10,113))"
   ]
  },
  {
   "cell_type": "code",
   "execution_count": 18,
   "metadata": {},
   "outputs": [],
   "source": [
    "opt = Adam(lr=0.01)\n",
    "model_test.compile(optimizer = opt, loss = \"categorical_crossentropy\", metrics = [\"accuracy\"])"
   ]
  },
  {
   "cell_type": "code",
   "execution_count": 19,
   "metadata": {},
   "outputs": [
    {
     "name": "stdout",
     "output_type": "stream",
     "text": [
      "Train on 26455 samples, validate on 6044 samples\n",
      "Epoch 1/50\n",
      "26455/26455 [==============================] - 6s 214us/step - loss: 0.5426 - acc: 0.8478 - val_loss: 0.4261 - val_acc: 0.8493\n",
      "Epoch 2/50\n",
      "26455/26455 [==============================] - 5s 190us/step - loss: 0.3424 - acc: 0.8961 - val_loss: 0.3521 - val_acc: 0.8709\n",
      "Epoch 3/50\n",
      "26455/26455 [==============================] - 5s 195us/step - loss: 0.3023 - acc: 0.9086 - val_loss: 0.3478 - val_acc: 0.8858\n",
      "Epoch 4/50\n",
      "26455/26455 [==============================] - 5s 189us/step - loss: 0.2696 - acc: 0.9190 - val_loss: 0.2848 - val_acc: 0.9156\n",
      "Epoch 5/50\n",
      "26455/26455 [==============================] - 5s 181us/step - loss: 0.2632 - acc: 0.9237 - val_loss: 0.2674 - val_acc: 0.9108\n",
      "Epoch 6/50\n",
      "26455/26455 [==============================] - 5s 180us/step - loss: 0.2306 - acc: 0.9296 - val_loss: 0.3146 - val_acc: 0.9097\n",
      "Epoch 7/50\n",
      "26455/26455 [==============================] - 5s 180us/step - loss: 0.2330 - acc: 0.9315 - val_loss: 0.2996 - val_acc: 0.9077\n",
      "Epoch 8/50\n",
      "26455/26455 [==============================] - 5s 179us/step - loss: 0.2270 - acc: 0.9334 - val_loss: 0.3535 - val_acc: 0.9103\n",
      "Epoch 9/50\n",
      "26455/26455 [==============================] - 5s 180us/step - loss: 0.2127 - acc: 0.9367 - val_loss: 0.2916 - val_acc: 0.9183\n",
      "Epoch 10/50\n",
      "26455/26455 [==============================] - 5s 180us/step - loss: 0.2044 - acc: 0.9393 - val_loss: 0.3415 - val_acc: 0.8948\n",
      "Epoch 11/50\n",
      "26455/26455 [==============================] - 5s 181us/step - loss: 0.2056 - acc: 0.9402 - val_loss: 0.3926 - val_acc: 0.9070\n",
      "Epoch 12/50\n",
      "26455/26455 [==============================] - 5s 182us/step - loss: 0.1888 - acc: 0.9439 - val_loss: 0.2836 - val_acc: 0.9168\n",
      "Epoch 13/50\n",
      "26455/26455 [==============================] - 5s 182us/step - loss: 0.1834 - acc: 0.9456 - val_loss: 0.2891 - val_acc: 0.9100\n",
      "Epoch 14/50\n",
      "26455/26455 [==============================] - 5s 181us/step - loss: 0.1851 - acc: 0.9443 - val_loss: 0.3185 - val_acc: 0.9044\n",
      "Epoch 15/50\n",
      "26455/26455 [==============================] - 5s 183us/step - loss: 0.1834 - acc: 0.9454 - val_loss: 0.3217 - val_acc: 0.9097\n",
      "Epoch 16/50\n",
      "26455/26455 [==============================] - 5s 183us/step - loss: 0.1905 - acc: 0.9458 - val_loss: 0.3731 - val_acc: 0.8966\n",
      "Epoch 17/50\n",
      "26455/26455 [==============================] - 5s 182us/step - loss: 0.1808 - acc: 0.9465 - val_loss: 0.3458 - val_acc: 0.8915\n",
      "Epoch 18/50\n",
      "26455/26455 [==============================] - 5s 182us/step - loss: 0.1790 - acc: 0.9473 - val_loss: 0.3042 - val_acc: 0.9178\n",
      "Epoch 19/50\n",
      "26455/26455 [==============================] - 5s 181us/step - loss: 0.1598 - acc: 0.9520 - val_loss: 0.3184 - val_acc: 0.8948\n",
      "Epoch 20/50\n",
      "26455/26455 [==============================] - 5s 183us/step - loss: 0.1766 - acc: 0.9509 - val_loss: 0.2957 - val_acc: 0.9077\n",
      "Epoch 21/50\n",
      "26455/26455 [==============================] - 5s 202us/step - loss: 0.1546 - acc: 0.9531 - val_loss: 0.3466 - val_acc: 0.8930\n",
      "Epoch 22/50\n",
      "26455/26455 [==============================] - 5s 194us/step - loss: 0.1667 - acc: 0.9514 - val_loss: 0.2970 - val_acc: 0.9080\n",
      "Epoch 23/50\n",
      "26455/26455 [==============================] - 5s 200us/step - loss: 0.1496 - acc: 0.9555 - val_loss: 0.3462 - val_acc: 0.8865\n",
      "Epoch 24/50\n",
      "26455/26455 [==============================] - 6s 208us/step - loss: 0.1704 - acc: 0.9542 - val_loss: 0.3372 - val_acc: 0.9064\n",
      "Epoch 25/50\n",
      "26455/26455 [==============================] - 5s 195us/step - loss: 0.1488 - acc: 0.9545 - val_loss: 0.4864 - val_acc: 0.8921\n",
      "Epoch 26/50\n",
      "26455/26455 [==============================] - 5s 191us/step - loss: 0.1451 - acc: 0.9567 - val_loss: 0.3489 - val_acc: 0.9103\n",
      "Epoch 27/50\n",
      "26455/26455 [==============================] - 6s 214us/step - loss: 0.1471 - acc: 0.9557 - val_loss: 0.3526 - val_acc: 0.9029\n",
      "Epoch 28/50\n",
      "26455/26455 [==============================] - 6s 226us/step - loss: 0.1405 - acc: 0.9581 - val_loss: 0.4154 - val_acc: 0.9055\n",
      "Epoch 29/50\n",
      "26455/26455 [==============================] - 5s 191us/step - loss: 0.1488 - acc: 0.9587 - val_loss: 0.3409 - val_acc: 0.9133\n",
      "Epoch 30/50\n",
      "26455/26455 [==============================] - 5s 182us/step - loss: 0.1391 - acc: 0.9589 - val_loss: 0.3923 - val_acc: 0.8860\n",
      "Epoch 31/50\n",
      "26455/26455 [==============================] - 5s 182us/step - loss: 0.1399 - acc: 0.9591 - val_loss: 0.3658 - val_acc: 0.9064\n",
      "Epoch 32/50\n",
      "26455/26455 [==============================] - 5s 183us/step - loss: 0.1402 - acc: 0.9580 - val_loss: 0.4165 - val_acc: 0.9064\n",
      "Epoch 33/50\n",
      "26455/26455 [==============================] - 5s 184us/step - loss: 0.1283 - acc: 0.9626 - val_loss: 0.3676 - val_acc: 0.9093\n",
      "Epoch 34/50\n",
      "26455/26455 [==============================] - 5s 182us/step - loss: 0.1325 - acc: 0.9602 - val_loss: 0.3525 - val_acc: 0.9060\n",
      "Epoch 35/50\n",
      "26455/26455 [==============================] - 5s 184us/step - loss: 0.1265 - acc: 0.9639 - val_loss: 0.4100 - val_acc: 0.8890\n",
      "Epoch 36/50\n",
      "26455/26455 [==============================] - 5s 182us/step - loss: 0.1286 - acc: 0.9616 - val_loss: 0.3736 - val_acc: 0.9068\n",
      "Epoch 37/50\n",
      "26455/26455 [==============================] - 5s 180us/step - loss: 0.1247 - acc: 0.9628 - val_loss: 0.3361 - val_acc: 0.8949\n",
      "Epoch 38/50\n",
      "26455/26455 [==============================] - 5s 181us/step - loss: 0.1318 - acc: 0.9636 - val_loss: 0.4239 - val_acc: 0.8880\n",
      "Epoch 39/50\n",
      "26455/26455 [==============================] - 5s 180us/step - loss: 0.1298 - acc: 0.9622 - val_loss: 0.4138 - val_acc: 0.8835\n",
      "Epoch 40/50\n",
      "26455/26455 [==============================] - 5s 180us/step - loss: 0.1283 - acc: 0.9641 - val_loss: 0.4037 - val_acc: 0.9055\n",
      "Epoch 41/50\n",
      "26455/26455 [==============================] - 5s 182us/step - loss: 0.1335 - acc: 0.9627 - val_loss: 0.3971 - val_acc: 0.9068\n",
      "Epoch 42/50\n",
      "26455/26455 [==============================] - 5s 180us/step - loss: 0.1322 - acc: 0.9622 - val_loss: 0.3940 - val_acc: 0.8946\n",
      "Epoch 43/50\n",
      "26455/26455 [==============================] - 5s 180us/step - loss: 0.1303 - acc: 0.9631 - val_loss: 0.3679 - val_acc: 0.8891\n",
      "Epoch 44/50\n",
      "26455/26455 [==============================] - 5s 181us/step - loss: 0.1179 - acc: 0.9660 - val_loss: 0.3524 - val_acc: 0.9060\n",
      "Epoch 45/50\n",
      "26455/26455 [==============================] - 5s 181us/step - loss: 0.1183 - acc: 0.9661 - val_loss: 0.3853 - val_acc: 0.9093\n",
      "Epoch 46/50\n",
      "26455/26455 [==============================] - 5s 183us/step - loss: 0.1273 - acc: 0.9641 - val_loss: 0.4312 - val_acc: 0.8989\n",
      "Epoch 47/50\n",
      "26455/26455 [==============================] - 5s 181us/step - loss: 0.1261 - acc: 0.9653 - val_loss: 0.3772 - val_acc: 0.9049\n",
      "Epoch 48/50\n",
      "26455/26455 [==============================] - 5s 181us/step - loss: 0.1200 - acc: 0.9659 - val_loss: 0.3829 - val_acc: 0.8989\n",
      "Epoch 49/50\n",
      "26455/26455 [==============================] - 5s 198us/step - loss: 0.1134 - acc: 0.9656 - val_loss: 0.3866 - val_acc: 0.8913\n",
      "Epoch 50/50\n",
      "26455/26455 [==============================] - 5s 194us/step - loss: 0.1115 - acc: 0.9679 - val_loss: 0.4044 - val_acc: 0.9082\n"
     ]
    },
    {
     "data": {
      "text/plain": [
       "<keras.callbacks.History at 0x22a4691d208>"
      ]
     },
     "execution_count": 19,
     "metadata": {},
     "output_type": "execute_result"
    }
   ],
   "source": [
    "model_test.fit(x = cube, y = YOH_train_final, epochs = 50, batch_size = 128, validation_data=(cube_test,YOH_test_final))"
   ]
  },
  {
   "cell_type": "code",
   "execution_count": 22,
   "metadata": {},
   "outputs": [
    {
     "name": "stdout",
     "output_type": "stream",
     "text": [
      "[[1.7493697e-02 7.3277545e-01 2.4958846e-01 1.1561138e-04 2.6799451e-05]\n",
      " [1.3798050e-02 2.9496205e-01 6.9098580e-01 1.8834096e-04 6.5763816e-05]\n",
      " [1.2922069e-02 2.6211131e-01 7.2477567e-01 1.4491745e-04 4.6036865e-05]\n",
      " ...\n",
      " [2.2599554e-02 7.1870947e-01 2.5842422e-01 1.9807353e-04 6.8594250e-05]\n",
      " [1.8087987e-02 6.6227216e-01 3.1945768e-01 1.4249918e-04 3.9683062e-05]\n",
      " [4.4127894e-03 9.8019397e-01 1.5387553e-02 5.6272202e-06 8.8833822e-08]]\n",
      "[1 2 2 ... 1 1 1]\n",
      "[[0. 1. 0. 0. 0.]\n",
      " [0. 0. 1. 0. 0.]\n",
      " [0. 0. 1. 0. 0.]\n",
      " ...\n",
      " [0. 1. 0. 0. 0.]\n",
      " [0. 1. 0. 0. 0.]\n",
      " [0. 1. 0. 0. 0.]]\n",
      "0.9070580936852101\n"
     ]
    },
    {
     "ename": "NameError",
     "evalue": "name 'roc_curve' is not defined",
     "output_type": "error",
     "traceback": [
      "\u001b[1;31m---------------------------------------------------------------------------\u001b[0m",
      "\u001b[1;31mNameError\u001b[0m                                 Traceback (most recent call last)",
      "\u001b[1;32m<ipython-input-22-711d73e53f53>\u001b[0m in \u001b[0;36m<module>\u001b[1;34m()\u001b[0m\n\u001b[0;32m     15\u001b[0m \u001b[0mroc_auc\u001b[0m \u001b[1;33m=\u001b[0m \u001b[0mdict\u001b[0m\u001b[1;33m(\u001b[0m\u001b[1;33m)\u001b[0m\u001b[1;33m\u001b[0m\u001b[0m\n\u001b[0;32m     16\u001b[0m \u001b[1;32mfor\u001b[0m \u001b[0mi\u001b[0m \u001b[1;32min\u001b[0m \u001b[0mrange\u001b[0m\u001b[1;33m(\u001b[0m\u001b[0mclasses\u001b[0m\u001b[1;33m)\u001b[0m\u001b[1;33m:\u001b[0m\u001b[1;33m\u001b[0m\u001b[0m\n\u001b[1;32m---> 17\u001b[1;33m     \u001b[0mfpr\u001b[0m\u001b[1;33m[\u001b[0m\u001b[0mi\u001b[0m\u001b[1;33m]\u001b[0m\u001b[1;33m,\u001b[0m \u001b[0mtpr\u001b[0m\u001b[1;33m[\u001b[0m\u001b[0mi\u001b[0m\u001b[1;33m]\u001b[0m\u001b[1;33m,\u001b[0m \u001b[0m_\u001b[0m \u001b[1;33m=\u001b[0m \u001b[0mroc_curve\u001b[0m\u001b[1;33m(\u001b[0m\u001b[0mYOH_test_final\u001b[0m\u001b[1;33m[\u001b[0m\u001b[1;33m:\u001b[0m\u001b[1;33m,\u001b[0m \u001b[0mi\u001b[0m\u001b[1;33m]\u001b[0m\u001b[1;33m,\u001b[0m \u001b[0mYOH_pred\u001b[0m\u001b[1;33m[\u001b[0m\u001b[1;33m:\u001b[0m\u001b[1;33m,\u001b[0m \u001b[0mi\u001b[0m\u001b[1;33m]\u001b[0m\u001b[1;33m)\u001b[0m\u001b[1;33m\u001b[0m\u001b[0m\n\u001b[0m\u001b[0;32m     18\u001b[0m     \u001b[0mroc_auc\u001b[0m\u001b[1;33m[\u001b[0m\u001b[0mi\u001b[0m\u001b[1;33m]\u001b[0m \u001b[1;33m=\u001b[0m \u001b[0mauc\u001b[0m\u001b[1;33m(\u001b[0m\u001b[0mfpr\u001b[0m\u001b[1;33m[\u001b[0m\u001b[0mi\u001b[0m\u001b[1;33m]\u001b[0m\u001b[1;33m,\u001b[0m \u001b[0mtpr\u001b[0m\u001b[1;33m[\u001b[0m\u001b[0mi\u001b[0m\u001b[1;33m]\u001b[0m\u001b[1;33m)\u001b[0m\u001b[1;33m\u001b[0m\u001b[0m\n\u001b[0;32m     19\u001b[0m \u001b[1;33m\u001b[0m\u001b[0m\n",
      "\u001b[1;31mNameError\u001b[0m: name 'roc_curve' is not defined"
     ]
    }
   ],
   "source": [
    "y_pred = model_test.predict(cube_test)\n",
    "print(y_pred)\n",
    "\n",
    "y_pred_hard = np.argmax(y_pred, axis=1)\n",
    "print(y_pred_hard)\n",
    "\n",
    "YOH_pred = onehot_encoder.fit_transform(y_pred_hard.reshape(-1, 1))\n",
    "print(YOH_pred)\n",
    "\n",
    "print(f1_score(YOH_test_final, YOH_pred, average='weighted'))\n",
    "\n",
    "# Compute ROC curve and ROC area for each class\n",
    "fpr = dict()\n",
    "tpr = dict()\n",
    "roc_auc = dict()\n",
    "for i in range(classes):\n",
    "    fpr[i], tpr[i], _ = roc_curve(YOH_test_final[:, i], YOH_pred[:, i])\n",
    "    roc_auc[i] = auc(fpr[i], tpr[i])\n",
    "\n",
    "print(roc_auc)"
   ]
  },
  {
   "cell_type": "code",
   "execution_count": null,
   "metadata": {},
   "outputs": [],
   "source": []
  }
 ],
 "metadata": {
  "kernelspec": {
   "display_name": "Python 3",
   "language": "python",
   "name": "python3"
  },
  "language_info": {
   "codemirror_mode": {
    "name": "ipython",
    "version": 3
   },
   "file_extension": ".py",
   "mimetype": "text/x-python",
   "name": "python",
   "nbconvert_exporter": "python",
   "pygments_lexer": "ipython3",
   "version": "3.6.4"
  }
 },
 "nbformat": 4,
 "nbformat_minor": 2
}
