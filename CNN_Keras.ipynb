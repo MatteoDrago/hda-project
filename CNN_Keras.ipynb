{
 "cells": [
  {
   "cell_type": "markdown",
   "metadata": {},
   "source": [
    "# Keras Implementation - Human Data Analytics Project \n",
    "\n",
    "Importing all modules that we need for our elaboration"
   ]
  },
  {
   "cell_type": "code",
   "execution_count": 1,
   "metadata": {},
   "outputs": [
    {
     "name": "stderr",
     "output_type": "stream",
     "text": [
      "Using TensorFlow backend.\n"
     ]
    }
   ],
   "source": [
    "import numpy as np\n",
    "import scipy.io\n",
    "from sklearn.preprocessing import OneHotEncoder, StandardScaler\n",
    "from sklearn.metrics import f1_score, roc_curve, auc\n",
    "import matplotlib as plt\n",
    "\n",
    "import warnings\n",
    "with warnings.catch_warnings():\n",
    "    warnings.filterwarnings(\"ignore\",category=FutureWarning)\n",
    "    \n",
    "    from keras import regularizers\n",
    "    from keras.layers import Conv1D, BatchNormalization, Dropout, LeakyReLU, Flatten, Activation, Dense, MaxPooling1D\n",
    "    from keras.models import Model, Sequential\n",
    "    from keras.optimizers import Adam\n",
    "    import keras.backend as K\n",
    "    \n",
    "K.set_image_data_format('channels_last')\n",
    "\n",
    "%matplotlib inline"
   ]
  },
  {
   "cell_type": "markdown",
   "metadata": {},
   "source": [
    "# Preprocessing Section\n",
    "Importing data sessions for subject 1"
   ]
  },
  {
   "cell_type": "code",
   "execution_count": 2,
   "metadata": {},
   "outputs": [],
   "source": [
    "x1 = scipy.io.loadmat(\"prep/A_nonzero/S1-ADL1\", mdict={'filled_features':'features', 'labels':'labels'})\n",
    "x2 = scipy.io.loadmat(\"prep/A_nonzero/S1-ADL2\", mdict={'filled_features':'features', 'labels':'labels'})\n",
    "x3 = scipy.io.loadmat(\"prep/A_nonzero/S1-ADL3\", mdict={'filled_features':'features', 'labels':'labels'})\n",
    "x4 = scipy.io.loadmat(\"prep/A_nonzero/S1-ADL4\", mdict={'filled_features':'features', 'labels':'labels'})\n",
    "x5 = scipy.io.loadmat(\"prep/A_nonzero/S1-ADL5\", mdict={'filled_features':'features', 'labels':'labels'})\n",
    "x6 = scipy.io.loadmat(\"prep/A_nonzero/S1-Drill\", mdict={'filled_features':'features', 'labels':'labels'})"
   ]
  },
  {
   "cell_type": "markdown",
   "metadata": {},
   "source": [
    "Check the number of recorded samples for each session"
   ]
  },
  {
   "cell_type": "code",
   "execution_count": 3,
   "metadata": {},
   "outputs": [
    {
     "name": "stdout",
     "output_type": "stream",
     "text": [
      "Session shapes:\n",
      "\n",
      "ADL1:   (37507, 113)\n",
      "ADL2:   (24510, 113)\n",
      "ADL3:   (25305, 113)\n",
      "ADL4:   (24851, 113)\n",
      "ADL5:   (22440, 113)\n",
      "Drill:  (52105, 113)\n",
      "\n",
      "Training set: ADL1 + ADL2 + ADL3 + Drill =  139427\n",
      "Test set: ADL4 + ADL5 =  47291\n"
     ]
    }
   ],
   "source": [
    "print(\"Session shapes:\\n\")\n",
    "print(\"ADL1:  \", x1['filled_features'].shape)\n",
    "print(\"ADL2:  \", x2['filled_features'].shape)\n",
    "print(\"ADL3:  \", x3['filled_features'].shape)\n",
    "print(\"ADL4:  \", x4['filled_features'].shape)\n",
    "print(\"ADL5:  \", x5['filled_features'].shape)\n",
    "print(\"Drill: \", x6['filled_features'].shape)\n",
    "print(\"\\nTraining set: ADL1 + ADL2 + ADL3 + Drill = \", x1['filled_features'].shape[0] + x2['filled_features'].shape[0] + x3['filled_features'].shape[0] + x6['filled_features'].shape[0])\n",
    "print(\"Test set: ADL4 + ADL5 = \", x4['filled_features'].shape[0] + x5['filled_features'].shape[0])"
   ]
  },
  {
   "cell_type": "markdown",
   "metadata": {},
   "source": [
    "We split the data into train and test set."
   ]
  },
  {
   "cell_type": "code",
   "execution_count": 4,
   "metadata": {},
   "outputs": [
    {
     "name": "stdout",
     "output_type": "stream",
     "text": [
      "X_train shape:  (139427, 113)\n",
      "X_test shape:  (47291, 113)\n"
     ]
    }
   ],
   "source": [
    "# features\n",
    "X_train = np.concatenate((x1['filled_features'],x2['filled_features'],x3['filled_features'],x6['filled_features']),axis=0)\n",
    "X_test = np.concatenate((x4['filled_features'],x5['filled_features']),axis=0)\n",
    "\n",
    "# labels (locomotion activity)\n",
    "Y_train = np.concatenate((x1['labels'][:,0],x2['labels'][:,0],x3['labels'][:,0],x6['labels'][:,0]),axis=0) # here we take just the first column because we want to fulfill the first task\n",
    "Y_test = np.concatenate((x4['labels'][:,0],x5['labels'][:,0]))\n",
    "#Y_test = np.concatenate((x4['labels'][:,0],x5['labels'][:,0]),axis=0)\n",
    "\n",
    "# Initial decision to overcome the problem of entire missing columns\n",
    "X_train = np.nan_to_num(X_train)\n",
    "X_test = np.nan_to_num(X_test)\n",
    "\n",
    "print(\"X_train shape: \", X_train.shape)\n",
    "print(\"X_test shape: \", X_test.shape)\n"
   ]
  },
  {
   "cell_type": "markdown",
   "metadata": {},
   "source": [
    "The dataset needs to be normalized in order to improve performances."
   ]
  },
  {
   "cell_type": "code",
   "execution_count": 5,
   "metadata": {},
   "outputs": [],
   "source": [
    "# fatures normalization\n",
    "scaler = StandardScaler().fit(X_train)\n",
    "X_train =scaler.transform(X_train)\n",
    "X_test = scaler.transform(X_test)"
   ]
  },
  {
   "cell_type": "markdown",
   "metadata": {},
   "source": [
    "We decided to use a onehot encoder for the labels"
   ]
  },
  {
   "cell_type": "code",
   "execution_count": 6,
   "metadata": {},
   "outputs": [
    {
     "name": "stdout",
     "output_type": "stream",
     "text": [
      "The higest label value is:  5\n",
      "YOH_train shape:  (139427, 6)\n",
      "YOH_test shape:  (47291, 6)\n"
     ]
    }
   ],
   "source": [
    "label_max = np.max(Y_train)\n",
    "print(\"The higest label value is: \", label_max)\n",
    "onehot_encoder = OneHotEncoder(n_values=label_max+1, sparse=False)\n",
    "YOH_train = onehot_encoder.fit_transform(Y_train.reshape(-1, 1))\n",
    "YOH_test = onehot_encoder.fit_transform(Y_test.reshape(-1, 1))\n",
    "\n",
    "print(\"YOH_train shape: \", YOH_train.shape)\n",
    "print(\"YOH_test shape: \", YOH_test.shape)"
   ]
  },
  {
   "cell_type": "code",
   "execution_count": 7,
   "metadata": {},
   "outputs": [
    {
     "name": "stdout",
     "output_type": "stream",
     "text": [
      "Number of samples:  139427 \n",
      "Number of classes:  6\n",
      "Number of windows:  27884\n"
     ]
    }
   ],
   "source": [
    "window_size = 10\n",
    "stride = int(window_size / 2)\n",
    "num_features = X_train.shape[1]\n",
    "samples, classes = YOH_train.shape\n",
    "print(\"Number of samples: \", samples, \"\\nNumber of classes: \", classes)\n",
    "\n",
    "windows = int(samples // stride) - 1\n",
    "print(\"Number of windows: \", windows)"
   ]
  },
  {
   "cell_type": "code",
   "execution_count": 8,
   "metadata": {},
   "outputs": [
    {
     "name": "stdout",
     "output_type": "stream",
     "text": [
      "Number of samples:  47291 \n",
      "Number of classes:  6\n",
      "Number of windows:  9457\n"
     ]
    }
   ],
   "source": [
    "num_features_test = X_test.shape[1]\n",
    "samples_test, classes_test = YOH_test.shape\n",
    "print(\"Number of samples: \", samples_test, \"\\nNumber of classes: \", classes_test)\n",
    "\n",
    "windows_test = int(samples_test // stride) - 1\n",
    "print(\"Number of windows: \", windows_test)"
   ]
  },
  {
   "cell_type": "code",
   "execution_count": 9,
   "metadata": {},
   "outputs": [
    {
     "data": {
      "text/plain": [
       "(27884, 10, 113)"
      ]
     },
     "execution_count": 9,
     "metadata": {},
     "output_type": "execute_result"
    }
   ],
   "source": [
    "cube = np.zeros([windows, window_size, num_features])\n",
    "cube.shape"
   ]
  },
  {
   "cell_type": "code",
   "execution_count": 10,
   "metadata": {},
   "outputs": [
    {
     "data": {
      "text/plain": [
       "(9457, 10, 113)"
      ]
     },
     "execution_count": 10,
     "metadata": {},
     "output_type": "execute_result"
    }
   ],
   "source": [
    "cube_test = np.zeros([windows_test, window_size, num_features])\n",
    "cube_test.shape"
   ]
  },
  {
   "cell_type": "code",
   "execution_count": 11,
   "metadata": {},
   "outputs": [
    {
     "data": {
      "text/plain": [
       "(27884,)"
      ]
     },
     "execution_count": 11,
     "metadata": {},
     "output_type": "execute_result"
    }
   ],
   "source": [
    "lab_cum = np.zeros([windows])\n",
    "lab_cum.shape"
   ]
  },
  {
   "cell_type": "code",
   "execution_count": 12,
   "metadata": {},
   "outputs": [
    {
     "data": {
      "text/plain": [
       "(9457,)"
      ]
     },
     "execution_count": 12,
     "metadata": {},
     "output_type": "execute_result"
    }
   ],
   "source": [
    "lab_cum_test = np.zeros([windows_test])\n",
    "lab_cum_test.shape"
   ]
  },
  {
   "cell_type": "code",
   "execution_count": 13,
   "metadata": {},
   "outputs": [],
   "source": [
    "for w in range(windows):\n",
    "    index = int(w * stride)\n",
    "    cube[w,:,:] = X_train[index:index+window_size, :].reshape((window_size,num_features))\n",
    "    l = YOH_train[index:index+window_size,:] # shape 50 x 5\n",
    "    #print(np.sum(l, axis=0),np.argmax(np.sum(l, axis=0)))\n",
    "    lab_cum[w] = np.argmax(np.sum(l, axis=0))"
   ]
  },
  {
   "cell_type": "code",
   "execution_count": 14,
   "metadata": {},
   "outputs": [],
   "source": [
    "for w in range(windows_test):\n",
    "    index = int(w * stride)\n",
    "    cube_test[w,:,:] = X_test[index:index+window_size, :].reshape((window_size,num_features))\n",
    "    l = YOH_test[index:index+window_size,:] # shape 50 x 5\n",
    "    #print(np.sum(l, axis=0),np.argmax(np.sum(l, axis=0)))\n",
    "    lab_cum_test[w] = np.argmax(np.sum(l, axis=0))"
   ]
  },
  {
   "cell_type": "code",
   "execution_count": 15,
   "metadata": {},
   "outputs": [
    {
     "name": "stdout",
     "output_type": "stream",
     "text": [
      "[[0. 1. 0. 0. 0. 0.]\n",
      " [0. 1. 0. 0. 0. 0.]\n",
      " [0. 1. 0. 0. 0. 0.]\n",
      " ...\n",
      " [0. 0. 1. 0. 0. 0.]\n",
      " [0. 0. 1. 0. 0. 0.]\n",
      " [0. 0. 1. 0. 0. 0.]]\n"
     ]
    }
   ],
   "source": [
    "#print('cumulative labels: ', lab_cum.shape, type(lab_cum), \"\\n\", lab_cum)\n",
    "YOH_train_final = onehot_encoder.fit_transform(lab_cum.reshape(-1, 1))\n",
    "print(YOH_train_final)"
   ]
  },
  {
   "cell_type": "code",
   "execution_count": 16,
   "metadata": {},
   "outputs": [
    {
     "name": "stdout",
     "output_type": "stream",
     "text": [
      "[[0. 1. 0. 0. 0. 0.]\n",
      " [0. 1. 0. 0. 0. 0.]\n",
      " [0. 1. 0. 0. 0. 0.]\n",
      " ...\n",
      " [0. 0. 1. 0. 0. 0.]\n",
      " [0. 0. 1. 0. 0. 0.]\n",
      " [0. 0. 1. 0. 0. 0.]]\n"
     ]
    }
   ],
   "source": [
    "YOH_test_final = onehot_encoder.fit_transform(lab_cum_test.reshape(-1, 1))\n",
    "print(YOH_test_final)"
   ]
  },
  {
   "cell_type": "code",
   "execution_count": 34,
   "metadata": {},
   "outputs": [],
   "source": [
    "def TestModel(input_shape):\n",
    "    \"\"\" \n",
    "    Arguments:\n",
    "    input_shape -- shape of the images of the dataset\n",
    "\n",
    "    Returns: \n",
    "    model -- a Model() instance in Keras\n",
    "    \"\"\"\n",
    "    \n",
    "    model = Sequential()\n",
    "    \n",
    "    model.add(Conv1D(filters = 18,\n",
    "                    kernel_size=5,\n",
    "                    strides=1,\n",
    "                    padding='same',\n",
    "                    input_shape = input_shape))\n",
    "    model.add(BatchNormalization())\n",
    "    model.add(LeakyReLU(alpha=0.3))\n",
    "    model.add(MaxPooling1D(pool_size=2,\n",
    "                          strides=2,\n",
    "                          padding='same'))\n",
    "    \n",
    "    model.add(Conv1D(filters = 36,\n",
    "                    kernel_size=7,\n",
    "                    strides=1,\n",
    "                    padding='same'))\n",
    "    model.add(BatchNormalization())\n",
    "    model.add(LeakyReLU(alpha=0.3))\n",
    "    model.add(MaxPooling1D(pool_size=2,\n",
    "                          strides=2,\n",
    "                          padding='same'))\n",
    "    \n",
    "    model.add(Dropout(0.2))\n",
    "    \n",
    "    model.add(Conv1D(filters = 72,\n",
    "                    kernel_size=7,\n",
    "                    strides=1,\n",
    "                    padding='same'))\n",
    "    model.add(BatchNormalization())\n",
    "    model.add(LeakyReLU(alpha=0.3))\n",
    "    model.add(MaxPooling1D(pool_size=2,\n",
    "                          strides=2,\n",
    "                          padding='same'))\n",
    "    \n",
    "    #model.add(Conv1D(filters = 144,\n",
    "    #                kernel_size=7,\n",
    "    #                strides=1,\n",
    "    #                padding='same'))\n",
    "    #model.add(BatchNormalization())\n",
    "    #model.add(Activation('relu'))\n",
    "    #model.add(MaxPooling1D(pool_size=2,\n",
    "    #                      strides=2,\n",
    "    #                      padding='same'))\n",
    "    \n",
    "    model.add(Flatten())\n",
    "    \n",
    "    model.add(Dense(64, kernel_regularizer=regularizers.l2(0.01)))\n",
    "    model.add(Activation('relu'))\n",
    "    \n",
    "    model.add(Dropout(0.4))\n",
    "\n",
    "    model.add(Dense(classes))\n",
    "    model.add(Activation('softmax'))\n",
    "    \n",
    "    model.summary()\n",
    "    \n",
    "    return model"
   ]
  },
  {
   "cell_type": "code",
   "execution_count": 36,
   "metadata": {},
   "outputs": [
    {
     "name": "stdout",
     "output_type": "stream",
     "text": [
      "_________________________________________________________________\n",
      "Layer (type)                 Output Shape              Param #   \n",
      "=================================================================\n",
      "conv1d_17 (Conv1D)           (None, 10, 18)            10188     \n",
      "_________________________________________________________________\n",
      "batch_normalization_17 (Batc (None, 10, 18)            72        \n",
      "_________________________________________________________________\n",
      "leaky_re_lu_12 (LeakyReLU)   (None, 10, 18)            0         \n",
      "_________________________________________________________________\n",
      "max_pooling1d_17 (MaxPooling (None, 5, 18)             0         \n",
      "_________________________________________________________________\n",
      "conv1d_18 (Conv1D)           (None, 5, 36)             4572      \n",
      "_________________________________________________________________\n",
      "batch_normalization_18 (Batc (None, 5, 36)             144       \n",
      "_________________________________________________________________\n",
      "leaky_re_lu_13 (LeakyReLU)   (None, 5, 36)             0         \n",
      "_________________________________________________________________\n",
      "max_pooling1d_18 (MaxPooling (None, 3, 36)             0         \n",
      "_________________________________________________________________\n",
      "dropout_11 (Dropout)         (None, 3, 36)             0         \n",
      "_________________________________________________________________\n",
      "conv1d_19 (Conv1D)           (None, 3, 72)             18216     \n",
      "_________________________________________________________________\n",
      "batch_normalization_19 (Batc (None, 3, 72)             288       \n",
      "_________________________________________________________________\n",
      "leaky_re_lu_14 (LeakyReLU)   (None, 3, 72)             0         \n",
      "_________________________________________________________________\n",
      "max_pooling1d_19 (MaxPooling (None, 2, 72)             0         \n",
      "_________________________________________________________________\n",
      "conv1d_20 (Conv1D)           (None, 2, 144)            72720     \n",
      "_________________________________________________________________\n",
      "batch_normalization_20 (Batc (None, 2, 144)            576       \n",
      "_________________________________________________________________\n",
      "activation_16 (Activation)   (None, 2, 144)            0         \n",
      "_________________________________________________________________\n",
      "max_pooling1d_20 (MaxPooling (None, 1, 144)            0         \n",
      "_________________________________________________________________\n",
      "flatten_6 (Flatten)          (None, 144)               0         \n",
      "_________________________________________________________________\n",
      "dense_11 (Dense)             (None, 64)                9280      \n",
      "_________________________________________________________________\n",
      "activation_17 (Activation)   (None, 64)                0         \n",
      "_________________________________________________________________\n",
      "dropout_12 (Dropout)         (None, 64)                0         \n",
      "_________________________________________________________________\n",
      "dense_12 (Dense)             (None, 6)                 390       \n",
      "_________________________________________________________________\n",
      "activation_18 (Activation)   (None, 6)                 0         \n",
      "=================================================================\n",
      "Total params: 116,446\n",
      "Trainable params: 115,906\n",
      "Non-trainable params: 540\n",
      "_________________________________________________________________\n"
     ]
    }
   ],
   "source": [
    "model_test = TestModel((10,113))"
   ]
  },
  {
   "cell_type": "code",
   "execution_count": 37,
   "metadata": {},
   "outputs": [],
   "source": [
    "opt = Adam(lr=0.01)\n",
    "model_test.compile(optimizer = opt, loss = \"categorical_crossentropy\", metrics = [\"accuracy\"])"
   ]
  },
  {
   "cell_type": "code",
   "execution_count": 38,
   "metadata": {},
   "outputs": [
    {
     "name": "stdout",
     "output_type": "stream",
     "text": [
      "Train on 27884 samples, validate on 9457 samples\n",
      "Epoch 1/50\n",
      "27884/27884 [==============================] - 6s 213us/step - loss: 0.4857 - acc: 0.8548 - val_loss: 0.3374 - val_acc: 0.9202\n",
      "Epoch 2/50\n",
      "27884/27884 [==============================] - 4s 132us/step - loss: 0.3119 - acc: 0.8874 - val_loss: 0.3793 - val_acc: 0.9169\n",
      "Epoch 3/50\n",
      "27884/27884 [==============================] - 4s 132us/step - loss: 0.2769 - acc: 0.8986 - val_loss: 0.3479 - val_acc: 0.9128\n",
      "Epoch 4/50\n",
      "27884/27884 [==============================] - 4s 131us/step - loss: 0.2619 - acc: 0.9060 - val_loss: 0.2360 - val_acc: 0.9210\n",
      "Epoch 5/50\n",
      "27884/27884 [==============================] - 4s 133us/step - loss: 0.3002 - acc: 0.9034 - val_loss: 0.2222 - val_acc: 0.9241\n",
      "Epoch 6/50\n",
      "27884/27884 [==============================] - 4s 132us/step - loss: 0.2349 - acc: 0.9160 - val_loss: 0.1928 - val_acc: 0.9325\n",
      "Epoch 7/50\n",
      "27884/27884 [==============================] - 4s 133us/step - loss: 0.2382 - acc: 0.9179 - val_loss: 0.2911 - val_acc: 0.9333\n",
      "Epoch 8/50\n",
      "27884/27884 [==============================] - 4s 132us/step - loss: 0.2251 - acc: 0.9217 - val_loss: 0.3022 - val_acc: 0.9269\n",
      "Epoch 9/50\n",
      "27884/27884 [==============================] - 4s 134us/step - loss: 0.2203 - acc: 0.9244 - val_loss: 0.3354 - val_acc: 0.9240\n",
      "Epoch 10/50\n",
      "27884/27884 [==============================] - 4s 133us/step - loss: 0.2130 - acc: 0.9245 - val_loss: 0.3032 - val_acc: 0.9321\n",
      "Epoch 11/50\n",
      "27884/27884 [==============================] - 4s 133us/step - loss: 0.2028 - acc: 0.9281 - val_loss: 0.2983 - val_acc: 0.9318\n",
      "Epoch 12/50\n",
      "27884/27884 [==============================] - 4s 132us/step - loss: 0.2093 - acc: 0.9275 - val_loss: 0.2418 - val_acc: 0.9347\n",
      "Epoch 13/50\n",
      "27884/27884 [==============================] - 4s 133us/step - loss: 0.2025 - acc: 0.9296 - val_loss: 0.1927 - val_acc: 0.9394\n",
      "Epoch 14/50\n",
      "27884/27884 [==============================] - 4s 133us/step - loss: 0.2105 - acc: 0.9310 - val_loss: 0.3148 - val_acc: 0.9260\n",
      "Epoch 15/50\n",
      "27884/27884 [==============================] - 4s 133us/step - loss: 0.1985 - acc: 0.9315 - val_loss: 0.1995 - val_acc: 0.9386\n",
      "Epoch 16/50\n",
      "27884/27884 [==============================] - 4s 133us/step - loss: 0.1996 - acc: 0.9316 - val_loss: 0.2914 - val_acc: 0.9316\n",
      "Epoch 17/50\n",
      "27884/27884 [==============================] - 4s 133us/step - loss: 0.1808 - acc: 0.9353 - val_loss: 0.2934 - val_acc: 0.9334\n",
      "Epoch 18/50\n",
      "27884/27884 [==============================] - 4s 133us/step - loss: 0.1801 - acc: 0.9370 - val_loss: 0.3163 - val_acc: 0.9165\n",
      "Epoch 19/50\n",
      "27884/27884 [==============================] - 4s 132us/step - loss: 0.1961 - acc: 0.9369 - val_loss: 0.2786 - val_acc: 0.9345\n",
      "Epoch 20/50\n",
      "27884/27884 [==============================] - 4s 132us/step - loss: 0.1683 - acc: 0.9403 - val_loss: 0.2450 - val_acc: 0.9292\n",
      "Epoch 21/50\n",
      "27884/27884 [==============================] - 4s 132us/step - loss: 0.1828 - acc: 0.9395 - val_loss: 0.3297 - val_acc: 0.9260\n",
      "Epoch 22/50\n",
      "27884/27884 [==============================] - 4s 131us/step - loss: 0.1690 - acc: 0.9410 - val_loss: 0.3055 - val_acc: 0.9209\n",
      "Epoch 23/50\n",
      "27884/27884 [==============================] - 4s 129us/step - loss: 0.1616 - acc: 0.9429 - val_loss: 0.3006 - val_acc: 0.9268\n",
      "Epoch 24/50\n",
      "27884/27884 [==============================] - 4s 131us/step - loss: 0.1860 - acc: 0.9406 - val_loss: 0.2880 - val_acc: 0.9329\n",
      "Epoch 25/50\n",
      "27884/27884 [==============================] - 4s 132us/step - loss: 0.1594 - acc: 0.9428 - val_loss: 0.3200 - val_acc: 0.9262\n",
      "Epoch 26/50\n",
      "27884/27884 [==============================] - 4s 131us/step - loss: 0.1622 - acc: 0.9446 - val_loss: 0.2286 - val_acc: 0.9300\n",
      "Epoch 27/50\n",
      "27884/27884 [==============================] - 4s 131us/step - loss: 0.1567 - acc: 0.9456 - val_loss: 0.1964 - val_acc: 0.9344\n",
      "Epoch 28/50\n",
      "27884/27884 [==============================] - 4s 134us/step - loss: 0.1512 - acc: 0.9485 - val_loss: 0.2648 - val_acc: 0.9244\n",
      "Epoch 29/50\n",
      "27884/27884 [==============================] - 4s 137us/step - loss: 0.1439 - acc: 0.9470 - val_loss: 0.2255 - val_acc: 0.9261\n",
      "Epoch 30/50\n",
      "27884/27884 [==============================] - 4s 132us/step - loss: 0.1517 - acc: 0.9477 - val_loss: 0.3802 - val_acc: 0.9226\n",
      "Epoch 31/50\n",
      "27884/27884 [==============================] - 4s 133us/step - loss: 0.1583 - acc: 0.9482 - val_loss: 0.2754 - val_acc: 0.9322\n",
      "Epoch 32/50\n",
      "27884/27884 [==============================] - 4s 131us/step - loss: 0.1391 - acc: 0.9508 - val_loss: 0.3014 - val_acc: 0.9247\n",
      "Epoch 33/50\n",
      "27884/27884 [==============================] - 4s 132us/step - loss: 0.1433 - acc: 0.9492 - val_loss: 0.3165 - val_acc: 0.9256\n",
      "Epoch 34/50\n",
      "27884/27884 [==============================] - 4s 133us/step - loss: 0.1486 - acc: 0.9520 - val_loss: 0.2931 - val_acc: 0.9287\n",
      "Epoch 35/50\n",
      "27884/27884 [==============================] - 4s 132us/step - loss: 0.1408 - acc: 0.9522 - val_loss: 0.3725 - val_acc: 0.9092\n",
      "Epoch 36/50\n",
      "27884/27884 [==============================] - 4s 132us/step - loss: 0.1404 - acc: 0.9514 - val_loss: 0.3079 - val_acc: 0.9253\n",
      "Epoch 37/50\n",
      "27884/27884 [==============================] - 4s 132us/step - loss: 0.1323 - acc: 0.9536 - val_loss: 0.2654 - val_acc: 0.9324\n",
      "Epoch 38/50\n",
      "27884/27884 [==============================] - 4s 133us/step - loss: 0.1340 - acc: 0.9531 - val_loss: 0.2524 - val_acc: 0.9327\n",
      "Epoch 39/50\n",
      "27884/27884 [==============================] - 4s 133us/step - loss: 0.1271 - acc: 0.9533 - val_loss: 0.2804 - val_acc: 0.9275\n",
      "Epoch 40/50\n",
      "27884/27884 [==============================] - 4s 133us/step - loss: 0.1245 - acc: 0.9555 - val_loss: 0.3230 - val_acc: 0.9261\n",
      "Epoch 41/50\n",
      "27884/27884 [==============================] - 4s 132us/step - loss: 0.1358 - acc: 0.9538 - val_loss: 0.4823 - val_acc: 0.9145\n",
      "Epoch 42/50\n",
      "27884/27884 [==============================] - 4s 130us/step - loss: 0.1388 - acc: 0.9550 - val_loss: 0.3443 - val_acc: 0.9182\n",
      "Epoch 43/50\n",
      "27884/27884 [==============================] - 4s 131us/step - loss: 0.1250 - acc: 0.9565 - val_loss: 0.3668 - val_acc: 0.9243\n",
      "Epoch 44/50\n",
      "27884/27884 [==============================] - 4s 131us/step - loss: 0.1362 - acc: 0.9562 - val_loss: 0.3496 - val_acc: 0.9211\n",
      "Epoch 45/50\n",
      "27884/27884 [==============================] - 4s 131us/step - loss: 0.1282 - acc: 0.9565 - val_loss: 0.3773 - val_acc: 0.9225\n",
      "Epoch 46/50\n",
      "27884/27884 [==============================] - 4s 130us/step - loss: 0.1202 - acc: 0.9576 - val_loss: 0.3581 - val_acc: 0.9223\n",
      "Epoch 47/50\n",
      "27884/27884 [==============================] - 4s 132us/step - loss: 0.1129 - acc: 0.9608 - val_loss: 0.3432 - val_acc: 0.9230\n",
      "Epoch 48/50\n",
      "27884/27884 [==============================] - 4s 131us/step - loss: 0.1332 - acc: 0.9600 - val_loss: 0.3981 - val_acc: 0.9220\n",
      "Epoch 49/50\n",
      "27884/27884 [==============================] - 4s 130us/step - loss: 0.1169 - acc: 0.9593 - val_loss: 0.2654 - val_acc: 0.9320\n",
      "Epoch 50/50\n",
      "27884/27884 [==============================] - 4s 131us/step - loss: 0.1164 - acc: 0.9606 - val_loss: 0.3765 - val_acc: 0.9196\n"
     ]
    },
    {
     "data": {
      "text/plain": [
       "<keras.callbacks.History at 0x1ea52ee8860>"
      ]
     },
     "execution_count": 38,
     "metadata": {},
     "output_type": "execute_result"
    }
   ],
   "source": [
    "model_test.fit(x = cube, y = YOH_train_final, epochs = 50, batch_size = 128, validation_data=(cube_test,YOH_test_final))"
   ]
  },
  {
   "cell_type": "code",
   "execution_count": 39,
   "metadata": {},
   "outputs": [
    {
     "name": "stdout",
     "output_type": "stream",
     "text": [
      "y_pred:\n",
      " [[2.74701668e-11 9.49683905e-01 5.03114127e-02 1.09776814e-11\n",
      "  4.77086496e-06 9.86764892e-10]\n",
      " [1.04694731e-09 8.97237480e-01 1.02724105e-01 6.62097210e-10\n",
      "  3.83340375e-05 8.92026435e-08]\n",
      " [1.04239412e-07 6.94116533e-01 3.05433244e-01 1.23025686e-07\n",
      "  4.25656355e-04 2.44067105e-05]\n",
      " ...\n",
      " [0.00000000e+00 0.00000000e+00 1.00000000e+00 0.00000000e+00\n",
      "  0.00000000e+00 0.00000000e+00]\n",
      " [0.00000000e+00 0.00000000e+00 1.00000000e+00 0.00000000e+00\n",
      "  0.00000000e+00 0.00000000e+00]\n",
      " [0.00000000e+00 0.00000000e+00 1.00000000e+00 0.00000000e+00\n",
      "  0.00000000e+00 0.00000000e+00]]\n",
      "\n",
      "y_pred_hard:\n",
      " [1 1 1 ... 2 2 2]\n",
      "\n",
      "YOH_pred:\n",
      " [[0. 1. 0. 0. 0. 0.]\n",
      " [0. 1. 0. 0. 0. 0.]\n",
      " [0. 1. 0. 0. 0. 0.]\n",
      " ...\n",
      " [0. 0. 1. 0. 0. 0.]\n",
      " [0. 0. 1. 0. 0. 0.]\n",
      " [0. 0. 1. 0. 0. 0.]]\n"
     ]
    }
   ],
   "source": [
    "y_pred = model_test.predict(cube_test)\n",
    "print(\"y_pred:\\n\", y_pred)\n",
    "\n",
    "y_pred_hard = np.argmax(y_pred, axis=1)\n",
    "print(\"\\ny_pred_hard:\\n\", y_pred_hard)\n",
    "\n",
    "YOH_pred = onehot_encoder.fit_transform(y_pred_hard.reshape(-1, 1))\n",
    "print(\"\\nYOH_pred:\\n\", YOH_pred)"
   ]
  },
  {
   "cell_type": "code",
   "execution_count": 40,
   "metadata": {},
   "outputs": [
    {
     "name": "stdout",
     "output_type": "stream",
     "text": [
      "F1-measure:  0.9199016588917385\n",
      "ROC-AUC measure:  {0: nan, 1: 0.9240272828708203, 2: 0.9053215212327809, 3: nan, 4: 0.9960707019522338, 5: 0.9264151251182668}\n"
     ]
    },
    {
     "name": "stderr",
     "output_type": "stream",
     "text": [
      "C:\\Users\\Riccardo\\Anaconda3\\lib\\site-packages\\sklearn\\metrics\\classification.py:1135: UndefinedMetricWarning: F-score is ill-defined and being set to 0.0 in labels with no predicted samples.\n",
      "  'precision', 'predicted', average, warn_for)\n",
      "C:\\Users\\Riccardo\\Anaconda3\\lib\\site-packages\\sklearn\\metrics\\classification.py:1137: UndefinedMetricWarning: F-score is ill-defined and being set to 0.0 in labels with no true samples.\n",
      "  'recall', 'true', average, warn_for)\n",
      "C:\\Users\\Riccardo\\Anaconda3\\lib\\site-packages\\sklearn\\metrics\\ranking.py:571: UndefinedMetricWarning: No positive samples in y_true, true positive value should be meaningless\n",
      "  UndefinedMetricWarning)\n"
     ]
    }
   ],
   "source": [
    "print(\"F1-measure: \", f1_score(YOH_test_final, YOH_pred, average='weighted'))\n",
    "\n",
    "# Compute ROC curve and ROC area for each class\n",
    "fpr = dict()\n",
    "tpr = dict()\n",
    "roc_auc = dict()\n",
    "for i in range(classes):\n",
    "    fpr[i], tpr[i], _ = roc_curve(YOH_test_final[:, i], YOH_pred[:, i])\n",
    "    roc_auc[i] = auc(fpr[i], tpr[i])\n",
    "\n",
    "print(\"ROC-AUC measure: \", roc_auc)"
   ]
  },
  {
   "cell_type": "code",
   "execution_count": null,
   "metadata": {},
   "outputs": [],
   "source": []
  }
 ],
 "metadata": {
  "kernelspec": {
   "display_name": "Python 3",
   "language": "python",
   "name": "python3"
  },
  "language_info": {
   "codemirror_mode": {
    "name": "ipython",
    "version": 3
   },
   "file_extension": ".py",
   "mimetype": "text/x-python",
   "name": "python",
   "nbconvert_exporter": "python",
   "pygments_lexer": "ipython3",
   "version": "3.6.4"
  }
 },
 "nbformat": 4,
 "nbformat_minor": 2
}
