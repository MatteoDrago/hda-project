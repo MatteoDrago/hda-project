{
 "cells": [
  {
   "cell_type": "markdown",
   "metadata": {},
   "source": [
    "# Keras Implementation - Human Data Analytics Project \n",
    "\n",
    "Importing all modules that we need for our elaboration"
   ]
  },
  {
   "cell_type": "code",
   "execution_count": 1,
   "metadata": {},
   "outputs": [
    {
     "name": "stderr",
     "output_type": "stream",
     "text": [
      "Using TensorFlow backend.\n"
     ]
    }
   ],
   "source": [
    "import numpy as np\n",
    "import scipy.io\n",
    "from sklearn.preprocessing import OneHotEncoder, StandardScaler\n",
    "from sklearn.metrics import f1_score, roc_curve, auc\n",
    "\n",
    "import warnings\n",
    "with warnings.catch_warnings():\n",
    "    warnings.filterwarnings(\"ignore\",category=FutureWarning)\n",
    "    \n",
    "    from keras import regularizers\n",
    "    from keras.layers import Conv1D, BatchNormalization, Dropout, LeakyReLU, Flatten, Activation, Dense, MaxPooling1D\n",
    "    from keras.models import Model, Sequential\n",
    "    from keras.optimizers import Adam\n",
    "    import keras.backend as K\n",
    "    \n",
    "K.set_image_data_format('channels_last')\n",
    "\n",
    "%matplotlib inline"
   ]
  },
  {
   "cell_type": "markdown",
   "metadata": {},
   "source": [
    "# Preprocessing Section\n",
    "Importing data sessions for subject 1"
   ]
  },
  {
   "cell_type": "code",
   "execution_count": 2,
   "metadata": {},
   "outputs": [],
   "source": [
    "x1 = scipy.io.loadmat(\"data_temp/S1-ADL1\", mdict={'filled_features':'features', 'labels':'labels'})\n",
    "x2 = scipy.io.loadmat(\"data_temp/S1-ADL2\", mdict={'filled_features':'features', 'labels':'labels'})\n",
    "x3 = scipy.io.loadmat(\"data_temp/S1-ADL3\", mdict={'filled_features':'features', 'labels':'labels'})\n",
    "x4 = scipy.io.loadmat(\"data_temp/S1-ADL4\", mdict={'filled_features':'features', 'labels':'labels'})\n",
    "x5 = scipy.io.loadmat(\"data_temp/S1-ADL5\", mdict={'filled_features':'features', 'labels':'labels'})\n",
    "x6 = scipy.io.loadmat(\"data_temp/S1-Drill\", mdict={'filled_features':'features', 'labels':'labels'})"
   ]
  },
  {
   "cell_type": "markdown",
   "metadata": {},
   "source": [
    "Check the number of recorded samples for each session"
   ]
  },
  {
   "cell_type": "code",
   "execution_count": 3,
   "metadata": {},
   "outputs": [
    {
     "name": "stdout",
     "output_type": "stream",
     "text": [
     ]
    }
   ],
   "source": [
    "print(\"Session shapes:\\n\")\n",
    "print(\"ADL1:  \", x1['filled_features'].shape)\n",
    "print(\"ADL2:  \", x2['filled_features'].shape)\n",
    "print(\"ADL3:  \", x3['filled_features'].shape)\n",
    "print(\"ADL4:  \", x4['filled_features'].shape)\n",
    "print(\"ADL5:  \", x5['filled_features'].shape)\n",
    "print(\"Drill: \", x6['filled_features'].shape)\n",
    "print(\"\\nTraining set: ADL1 + ADL2 + ADL3 + Drill = \", x1['filled_features'].shape[0] + x2['filled_features'].shape[0] + x3['filled_features'].shape[0] + x6['filled_features'].shape[0])\n",
    "print(\"Test set: ADL4 + ADL5 = \", x4['filled_features'].shape[0] + x5['filled_features'].shape[0])"
   ]
  },
  {
   "cell_type": "markdown",
   "metadata": {},
   "source": [
    "We split the data into train and test set."
   ]
  },
  {
   "cell_type": "code",
   "execution_count": 4,
   "metadata": {},
   "outputs": [
    {
     "name": "stdout",
     "output_type": "stream",
     "text": [
      "X_train shape:  (159939, 113)\n",
      "X_test shape:  (57536, 113)\n"
     ]
    }
   ],
   "source": [
    "# features\n",
    "X_train = np.concatenate((x1['filled_features'],x2['filled_features'],x3['filled_features'],x6['filled_features']),axis=0)\n",
    "X_test = np.concatenate((x4['filled_features'],x5['filled_features']),axis=0)\n",
    "\n",
    "# labels (locomotion activity)\n",
    "Y_train = np.concatenate((x1['labels'][:,0],x2['labels'][:,0],x3['labels'][:,0],x6['labels'][:,0]),axis=0) # here we take just the first column because we want to fulfill the first task\n",
    "Y_test = np.concatenate((x4['labels'][:,0],x5['labels'][:,0]))\n",
    "#Y_test = np.concatenate((x4['labels'][:,0],x5['labels'][:,0]),axis=0)\n",
    "\n",
    "# Initial decision to overcome the problem of entire missing columns\n",
    "X_train = np.nan_to_num(X_train)\n",
    "X_test = np.nan_to_num(X_test)\n",
    "\n",
    "print(\"X_train shape: \", X_train.shape)\n",
    "print(\"X_test shape: \", X_test.shape)\n"
   ]
  },
  {
   "cell_type": "markdown",
   "metadata": {},
   "source": [
    "The dataset needs to be normalized in order to improve performances."
   ]
  },
  {
   "cell_type": "code",
   "execution_count": 5,
   "metadata": {},
   "outputs": [],
   "source": [
    "# fatures normalization\n",
    "scaler = StandardScaler().fit(X_train)\n",
    "X_train =scaler.transform(X_train)\n",
    "X_test = scaler.transform(X_test)"
   ]
  },
  {
   "cell_type": "markdown",
   "metadata": {},
   "source": [
    "We decided to use a onehot encoder for the labels"
   ]
  },
  {
   "cell_type": "code",
   "execution_count": 6,
   "metadata": {},
   "outputs": [
    {
     "name": "stdout",
     "output_type": "stream",
     "text": [
      "The highest label value is:  5\n",
      "YOH_train shape:  (159939, 6)\n",
      "YOH_test shape:  (57536, 6)\n"
     ]
    }
   ],
   "source": [
    "label_max = np.max(Y_train)\n",
    "print(\"The higest label value is: \", label_max)\n",
    "onehot_encoder = OneHotEncoder(n_values=label_max+1, sparse=False)\n",
    "YOH_train = onehot_encoder.fit_transform(Y_train.reshape(-1, 1))\n",
    "YOH_test = onehot_encoder.fit_transform(Y_test.reshape(-1, 1))\n",
    "\n",
    "print(\"YOH_train shape: \", YOH_train.shape)\n",
    "print(\"YOH_test shape: \", YOH_test.shape)"
   ]
  },
  {
   "cell_type": "code",
   "execution_count": 7,
   "metadata": {},
   "outputs": [
    {
     "name": "stdout",
     "output_type": "stream",
     "text": [
     ]
    }
   ],
   "source": [
    "window_size = 10\n",
    "stride = int(window_size / 2)\n",
    "num_features = X_train.shape[1]\n",
    "samples, classes = YOH_train.shape\n",
    "print(\"Number of samples: \", samples, \"\\nNumber of classes: \", classes)\n",
    "\n",
    "windows = int(samples // stride) - 1\n",
    "print(\"Number of windows: \", windows)"
   ]
  },
  {
   "cell_type": "code",
   "execution_count": 8,
   "metadata": {},
   "outputs": [
    {
     "name": "stdout",
     "output_type": "stream",
     "text": [
      "Number of samples:  57536 \n",
      "Number of windows:  11506\n"
     ]
    }
   ],
   "source": [
    "num_features_test = X_test.shape[1]\n",
    "samples_test, classes_test = YOH_test.shape\n",
    "print(\"Number of samples: \", samples_test, \"\\nNumber of classes: \", classes_test)\n",
    "\n",
    "windows_test = int(samples_test // stride) - 1\n",
    "print(\"Number of windows: \", windows_test)"
   ]
  },
  {
   "cell_type": "code",
   "execution_count": 9,
   "metadata": {},
   "outputs": [
    {
     "data": {
      "text/plain": [
      ]
     },
     "execution_count": 9,
     "metadata": {},
     "output_type": "execute_result"
    }
   ],
   "source": [
    "cube = np.zeros([windows, window_size, num_features])\n",
    "cube.shape"
   ]
  },
  {
   "cell_type": "code",
   "execution_count": 10,
   "metadata": {},
   "outputs": [
    {
     "data": {
      "text/plain": [
       "(11506, 10, 113)"
      ]
     },
     "execution_count": 10,
     "metadata": {},
     "output_type": "execute_result"
    }
   ],
   "source": [
    "cube_test = np.zeros([windows_test, window_size, num_features])\n",
    "cube_test.shape"
   ]
  },
  {
   "cell_type": "code",
   "execution_count": 11,
   "metadata": {},
   "outputs": [
    {
     "data": {
      "text/plain": [
      ]
     },
     "execution_count": 11,
     "metadata": {},
     "output_type": "execute_result"
    }
   ],
   "source": [
    "lab_cum = np.zeros([windows])\n",
    "lab_cum.shape"
   ]
  },
  {
   "cell_type": "code",
   "execution_count": 12,
   "metadata": {},
   "outputs": [
    {
     "data": {
      "text/plain": [
       "(11506,)"
      ]
     },
     "execution_count": 12,
     "metadata": {},
     "output_type": "execute_result"
    }
   ],
   "source": [
    "lab_cum_test = np.zeros([windows_test])\n",
    "lab_cum_test.shape"
   ]
  },
  {
   "cell_type": "code",
   "execution_count": 13,
   "metadata": {},
   "outputs": [],
   "source": [
    "for w in range(windows):\n",
    "    index = int(w * stride)\n",
    "    cube[w,:,:] = X_train[index:index+window_size, :].reshape((window_size,num_features))\n",
    "    l = YOH_train[index:index+window_size,:] # shape 50 x 5\n",
    "    #print(np.sum(l, axis=0),np.argmax(np.sum(l, axis=0)))\n",
    "    lab_cum[w] = np.argmax(np.sum(l, axis=0))"
   ]
  },
  {
   "cell_type": "code",
   "execution_count": 14,
   "metadata": {},
   "outputs": [],
   "source": [
    "for w in range(windows_test):\n",
    "    index = int(w * stride)\n",
    "    cube_test[w,:,:] = X_test[index:index+window_size, :].reshape((window_size,num_features))\n",
    "    l = YOH_test[index:index+window_size,:] # shape 50 x 5\n",
    "    #print(np.sum(l, axis=0),np.argmax(np.sum(l, axis=0)))\n",
    "    lab_cum_test[w] = np.argmax(np.sum(l, axis=0))"
   ]
  },
  {
   "cell_type": "code",
   "execution_count": 15,
   "metadata": {},
   "outputs": [
    {
     "name": "stdout",
     "output_type": "stream",
     "text": [
      "[[0. 1. 0. 0. 0. 0.]\n",
      " [0. 1. 0. 0. 0. 0.]\n",
      " [0. 1. 0. 0. 0. 0.]\n",
      " ...\n",
      " [1. 0. 0. 0. 0. 0.]\n",
      " [1. 0. 0. 0. 0. 0.]\n",
      " [1. 0. 0. 0. 0. 0.]]\n"
     ]
    }
   ],
   "source": [
    "#print('cumulative labels: ', lab_cum.shape, type(lab_cum), \"\\n\", lab_cum)\n",
    "YOH_train_final = onehot_encoder.fit_transform(lab_cum.reshape(-1, 1))\n",
    "print(YOH_train_final)"
   ]
  },
  {
   "cell_type": "code",
   "execution_count": 16,
   "metadata": {},
   "outputs": [
    {
     "name": "stdout",
     "output_type": "stream",
     "text": [
      "[[0. 1. 0. 0. 0. 0.]\n",
      " [0. 1. 0. 0. 0. 0.]\n",
      " [0. 1. 0. 0. 0. 0.]\n",
      " ...\n",
      " [0. 0. 1. 0. 0. 0.]\n",
      " [0. 0. 1. 0. 0. 0.]\n",
      " [0. 0. 1. 0. 0. 0.]]\n"
     ]
    }
   ],
   "source": [
    "YOH_test_final = onehot_encoder.fit_transform(lab_cum_test.reshape(-1, 1))\n",
    "print(YOH_test_final)"
   ]
  },
  {
   "cell_type": "code",
   "execution_count": 17,
   "metadata": {},
   "outputs": [],
   "source": [
    "def TestModel(input_shape):\n",
    "    \"\"\" \n",
    "    Arguments:\n",
    "    input_shape -- shape of the images of the dataset\n",
    "\n",
    "    Returns: \n",
    "    model -- a Model() instance in Keras\n",
    "    \"\"\"\n",
    "    \n",
    "    model = Sequential()\n",
    "    model.add(Conv1D(filters = 18,\n",
    "                    kernel_size=5,\n",
    "                    strides=1,\n",
    "                    padding='same',\n",
    "                    input_shape = input_shape))\n",
    "    model.add(BatchNormalization())\n",
    "    model.add(Activation('relu'))\n",
    "    model.add(MaxPooling1D(pool_size=2,\n",
    "                          strides=2,\n",
    "                          padding='same'))\n",
    "    \n",
    "    model.add(Conv1D(filters = 36,\n",
    "                    kernel_size=7,\n",
    "                    strides=1,\n",
    "                    padding='same'))\n",
    "    model.add(BatchNormalization())\n",
    "    model.add(Activation('relu'))\n",
    "    model.add(MaxPooling1D(pool_size=2,\n",
    "                          strides=2,\n",
    "                          padding='same'))\n",
    "    \n",
    "    model.add(Dropout(0.2))\n",
    "    \n",
    "    model.add(Conv1D(filters = 72,\n",
    "                    kernel_size=7,\n",
    "                    strides=1,\n",
    "                    padding='same'))\n",
    "    model.add(BatchNormalization())\n",
    "    model.add(Activation('relu'))\n",
    "    model.add(MaxPooling1D(pool_size=2,\n",
    "                          strides=2,\n",
    "                          padding='same'))\n",
    "    \n",
    "    #model.add(Conv1D(filters = 144,\n",
    "    #                kernel_size=7,\n",
    "    #                strides=1,\n",
    "    #                padding='same'))\n",
    "    #model.add(BatchNormalization())\n",
    "    #model.add(Activation('relu'))\n",
    "    #model.add(MaxPooling1D(pool_size=2,\n",
    "    #                      strides=2,\n",
    "    #                      padding='same'))\n",
    "    \n",
    "    model.add(Flatten())\n",
    "    \n",
    "    model.add(Dense(64, kernel_regularizer=regularizers.l2(0.01)))\n",
    "    model.add(Activation('relu'))\n",
    "    \n",
    "    model.add(Dropout(0.4))\n",
    "\n",
    "    model.add(Dense(classes))\n",
    "    model.add(Activation('softmax'))\n",
    "    \n",
    "    #model.summary()\n",
    "    \n",
    "    return model"
   ]
  },
  {
   "cell_type": "code",
   "execution_count": 18,
   "metadata": {},
   "outputs": [],
   "source": [
    "model_test = TestModel((10,113))"
   ]
  },
  {
   "cell_type": "code",
   "execution_count": 19,
   "metadata": {},
   "outputs": [],
   "source": [
    "opt = Adam(lr=0.01)\n",
    "model_test.compile(optimizer = opt, loss = \"categorical_crossentropy\", metrics = [\"accuracy\"])"
   ]
  },
  {
   "cell_type": "code",
   "execution_count": 20,
   "metadata": {},
   "outputs": [
    {
     "name": "stdout",
     "output_type": "stream",
     "text": []
    },
    {
     "data": {
      "text/plain": []
     },
     "execution_count": 20,
     "metadata": {},
     "output_type": "execute_result"
    }
   ],
   "source": [
    "model_test.fit(x = cube, y = YOH_train_final, epochs = 5, batch_size = 128, validation_data=(cube_test,YOH_test_final))"
   ]
  },
  {
   "cell_type": "code",
   "execution_count": 21,
   "metadata": {},
   "outputs": [
    {
     "name": "stdout",
     "output_type": "stream",
     "text": []
    }
   ],
   "source": [
    "y_pred = model_test.predict(cube_test)\n",
    "print(\"y_pred:\\n\", y_pred)\n",
    "\n",
    "y_pred_hard = np.argmax(y_pred, axis=1)\n",
    "print(\"\\ny_pred_hard:\\n\", y_pred_hard)\n",
    "\n",
    "YOH_pred = onehot_encoder.fit_transform(y_pred_hard.reshape(-1, 1))\n",
    "print(\"\\nYOH_pred:\\n\", YOH_pred)"
   ]
  },
  {
   "cell_type": "code",
   "execution_count": 22,
   "metadata": {},
   "outputs": [
    {
     "name": "stdout",
     "output_type": "stream",
     "text": [
      "F1-measure:  0.26767088160682423\n",
      "{0: 0.5, 1: 0.5700950504294824, 2: 0.6180785790971269, 3: nan, 4: 0.5, 5: 0.5}\n"
     ]
    },
    {
     "name": "stderr",
     "output_type": "stream",
     "text": [
      "C:\\Users\\Riccardo\\Anaconda3\\lib\\site-packages\\sklearn\\metrics\\classification.py:1135: UndefinedMetricWarning: F-score is ill-defined and being set to 0.0 in labels with no predicted samples.\n",
      "  'precision', 'predicted', average, warn_for)\n",
      "C:\\Users\\Riccardo\\Anaconda3\\lib\\site-packages\\sklearn\\metrics\\classification.py:1137: UndefinedMetricWarning: F-score is ill-defined and being set to 0.0 in labels with no true samples.\n",
      "  'recall', 'true', average, warn_for)\n",
      "C:\\Users\\Riccardo\\Anaconda3\\lib\\site-packages\\sklearn\\metrics\\ranking.py:571: UndefinedMetricWarning: No positive samples in y_true, true positive value should be meaningless\n",
      "  UndefinedMetricWarning)\n"
     ]
    }
   ],
   "source": [
    "print(\"F1-measure: \", f1_score(YOH_test_final, YOH_pred, average='weighted'))\n",
    "\n",
    "# Compute ROC curve and ROC area for each class\n",
    "fpr = dict()\n",
    "tpr = dict()\n",
    "roc_auc = dict()\n",
    "for i in range(classes):\n",
    "    fpr[i], tpr[i], _ = roc_curve(YOH_test_final[:, i], YOH_pred[:, i])\n",
    "    roc_auc[i] = auc(fpr[i], tpr[i])\n",
    "\n",
    "print(roc_auc)"
   ]
  },
  {
   "cell_type": "code",
   "execution_count": null,
   "metadata": {},
   "outputs": [],
   "source": []
  }
 ],
 "metadata": {
  "kernelspec": {
   "display_name": "Python 3",
   "language": "python",
   "name": "python3"
  },
  "language_info": {
   "codemirror_mode": {
    "name": "ipython",
    "version": 3
   },
   "file_extension": ".py",
   "mimetype": "text/x-python",
   "name": "python",
   "nbconvert_exporter": "python",
   "pygments_lexer": "ipython3",
   "version": "3.6.4"
  }
 },
 "nbformat": 4,
 "nbformat_minor": 2
}
