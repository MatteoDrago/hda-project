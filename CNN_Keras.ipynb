{
 "cells": [
  {
   "cell_type": "markdown",
   "metadata": {},
   "source": [
    "# Keras Implementation - Human Data Analytics Project \n",
    "\n",
    "Import of all modules"
   ]
  },
  {
   "cell_type": "code",
   "execution_count": 19,
   "metadata": {},
   "outputs": [],
   "source": [
    "import numpy as np\n",
    "import scipy.io\n",
    "\n",
    "from keras.layers import Conv1D, BatchNormalization, Dropout, LeakyReLU, Flatten, Activation, Dense, MaxPooling1D\n",
    "from keras.models import Model, Sequential\n",
    "\n",
    "from keras.optimizers import Adam\n",
    "\n",
    "from sklearn.preprocessing import OneHotEncoder\n",
    "\n",
    "import keras.backend as K\n",
    "K.set_image_data_format('channels_last')\n",
    "\n",
    "%matplotlib inline"
   ]
  },
  {
   "cell_type": "markdown",
   "metadata": {},
   "source": [
    "# Preprocessing Section"
   ]
  },
  {
   "cell_type": "code",
   "execution_count": 2,
   "metadata": {},
   "outputs": [],
   "source": [
    "x1 = scipy.io.loadmat(\"data_temp/S1-ADL1\", mdict={'filled_features':'features', 'labels':'labels'})\n",
    "x2 = scipy.io.loadmat(\"data_temp/S1-ADL2\", mdict={'filled_features':'features', 'labels':'labels'})\n",
    "x3 = scipy.io.loadmat(\"data_temp/S1-ADL3\", mdict={'filled_features':'features', 'labels':'labels'})\n",
    "x4 = scipy.io.loadmat(\"data_temp/S1-ADL4\", mdict={'filled_features':'features', 'labels':'labels'})\n",
    "x5 = scipy.io.loadmat(\"data_temp/S1-ADL5\", mdict={'filled_features':'features', 'labels':'labels'})"
   ]
  },
  {
   "cell_type": "code",
   "execution_count": 3,
   "metadata": {},
   "outputs": [
    {
     "name": "stdout",
     "output_type": "stream",
     "text": [
      "X_train shape:  (104973, 113)\n",
      "X_test shape:  (57536, 113)\n"
     ]
    }
   ],
   "source": [
    "X_train = np.concatenate((x1['filled_features'],x2['filled_features'],x3['filled_features']),axis=0)\n",
    "X_test = np.concatenate((x4['filled_features'],x5['filled_features']),axis=0)\n",
    "\n",
    "Y_train = np.concatenate((x1['labels'][:,0],x2['labels'][:,0],x3['labels'][:,0]),axis=0) # here we take just the first column because we want to fulfill the first task\n",
    "Y_test = np.concatenate((x4['labels'][:,0],x5['labels'][:,0]),axis=0)\n",
    "\n",
    "# Initial decision to overcome the problem of entire missing columns\n",
    "X_train = np.nan_to_num(X_train)\n",
    "X_test = np.nan_to_num(X_test)\n",
    "\n",
    "print(\"X_train shape: \", X_train.shape)\n",
    "print(\"X_test shape: \", X_test.shape)\n"
   ]
  },
  {
   "cell_type": "code",
   "execution_count": 4,
   "metadata": {},
   "outputs": [
    {
     "name": "stdout",
     "output_type": "stream",
     "text": [
      "YOH_train shape:  (104973, 5)\n",
      "YOH_test shape:  (57536, 5)\n"
     ]
    }
   ],
   "source": [
    "onehot_encoder = OneHotEncoder(sparse=False)\n",
    "YOH_train = onehot_encoder.fit_transform(Y_train.reshape(-1, 1))\n",
    "YOH_test = onehot_encoder.fit_transform(Y_test.reshape(-1, 1))\n",
    "\n",
    "print(\"YOH_train shape: \", YOH_train.shape)\n",
    "print(\"YOH_test shape: \", YOH_test.shape)"
   ]
  },
  {
   "cell_type": "code",
   "execution_count": 5,
   "metadata": {},
   "outputs": [
    {
     "name": "stdout",
     "output_type": "stream",
     "text": [
      "Number of samples:  104973 \n",
      "Number of classes:  5\n",
      "Number of windows:  6997\n"
     ]
    }
   ],
   "source": [
    "window_size = 30\n",
    "stride = int(window_size / 2)\n",
    "num_features = X_train.shape[1]\n",
    "samples, classes = YOH_train.shape\n",
    "print(\"Number of samples: \", samples, \"\\nNumber of classes: \", classes)\n",
    "\n",
    "windows = int(samples // stride) - 1\n",
    "print(\"Number of windows: \", windows)"
   ]
  },
  {
   "cell_type": "code",
   "execution_count": 6,
   "metadata": {},
   "outputs": [
    {
     "data": {
      "text/plain": [
       "(6997, 30, 113)"
      ]
     },
     "execution_count": 6,
     "metadata": {},
     "output_type": "execute_result"
    }
   ],
   "source": [
    "cube = np.zeros([windows, window_size, num_features])\n",
    "cube.shape"
   ]
  },
  {
   "cell_type": "code",
   "execution_count": 7,
   "metadata": {},
   "outputs": [
    {
     "data": {
      "text/plain": [
       "(6997,)"
      ]
     },
     "execution_count": 7,
     "metadata": {},
     "output_type": "execute_result"
    }
   ],
   "source": [
    "lab_cum = np.zeros([windows])\n",
    "lab_cum.shape"
   ]
  },
  {
   "cell_type": "code",
   "execution_count": 8,
   "metadata": {},
   "outputs": [],
   "source": [
    "for w in range(windows):\n",
    "    index = int(w * stride)\n",
    "    cube[w,:,:] = X_train[index:index+window_size, :].reshape((window_size,num_features))\n",
    "    l = YOH_train[index:index+window_size,:] # shape 50 x 5\n",
    "    #print(np.sum(l, axis=0),np.argmax(np.sum(l, axis=0)))\n",
    "    lab_cum[w] = np.argmax(np.sum(l, axis=0))"
   ]
  },
  {
   "cell_type": "code",
   "execution_count": 9,
   "metadata": {},
   "outputs": [
    {
     "name": "stdout",
     "output_type": "stream",
     "text": [
      "[[0. 1. 0. 0. 0.]\n",
      " [0. 1. 0. 0. 0.]\n",
      " [0. 1. 0. 0. 0.]\n",
      " ...\n",
      " [1. 0. 0. 0. 0.]\n",
      " [0. 0. 1. 0. 0.]\n",
      " [0. 0. 1. 0. 0.]]\n"
     ]
    }
   ],
   "source": [
    "#print('cumulative labels: ', lab_cum.shape, type(lab_cum), \"\\n\", lab_cum)\n",
    "YOH_train_final = onehot_encoder.fit_transform(lab_cum.reshape(-1, 1))\n",
    "print(YOH_train_final)"
   ]
  },
  {
   "cell_type": "code",
   "execution_count": 30,
   "metadata": {},
   "outputs": [],
   "source": [
    "def TestModel(input_shape):\n",
    "    \"\"\" \n",
    "    Arguments:\n",
    "    input_shape -- shape of the images of the dataset\n",
    "\n",
    "    Returns: \n",
    "    model -- a Model() instance in Keras\n",
    "    \"\"\"\n",
    "    \n",
    "    model = Sequential()\n",
    "    model.add(Conv1D(filters = 18,\n",
    "                    kernel_size=2,\n",
    "                    strides=1,\n",
    "                    padding='same',\n",
    "                    input_shape = input_shape))\n",
    "    model.add(BatchNormalization())\n",
    "    model.add(Activation('relu'))\n",
    "    model.add(MaxPooling1D(pool_size=2,\n",
    "                          strides=2,\n",
    "                          padding='same'))\n",
    "    \n",
    "    model.add(Conv1D(filters = 36,\n",
    "                    kernel_size=2,\n",
    "                    strides=1,\n",
    "                    padding='same'))\n",
    "    model.add(BatchNormalization())\n",
    "    model.add(Activation('relu'))\n",
    "    model.add(MaxPooling1D(pool_size=2,\n",
    "                          strides=2,\n",
    "                          padding='same'))\n",
    "\n",
    "    model.add(Conv1D(filters = 72,\n",
    "                    kernel_size=2,\n",
    "                    strides=1,\n",
    "                    padding='same'))\n",
    "    model.add(BatchNormalization())\n",
    "    model.add(Activation('relu'))\n",
    "    model.add(MaxPooling1D(pool_size=2,\n",
    "                          strides=2,\n",
    "                          padding='same'))\n",
    "    \n",
    "    model.add(Conv1D(filters = 144,\n",
    "                    kernel_size=2,\n",
    "                    strides=1,\n",
    "                    padding='same'))\n",
    "    model.add(BatchNormalization())\n",
    "    model.add(Activation('relu'))\n",
    "    model.add(MaxPooling1D(pool_size=2,\n",
    "                          strides=2,\n",
    "                          padding='same'))\n",
    "    \n",
    "    model.add(Flatten())\n",
    "    model.add(Dropout(0.3))\n",
    "\n",
    "    model.add(Dense(5))\n",
    "    model.add(Activation('softmax'))\n",
    "    \n",
    "    model.summary()\n",
    "    \n",
    "    return model"
   ]
  },
  {
   "cell_type": "code",
   "execution_count": 31,
   "metadata": {},
   "outputs": [
    {
     "name": "stdout",
     "output_type": "stream",
     "text": [
      "_________________________________________________________________\n",
      "Layer (type)                 Output Shape              Param #   \n",
      "=================================================================\n",
      "conv1d_8 (Conv1D)            (None, 30, 18)            4086      \n",
      "_________________________________________________________________\n",
      "batch_normalization_9 (Batch (None, 30, 18)            72        \n",
      "_________________________________________________________________\n",
      "activation_7 (Activation)    (None, 30, 18)            0         \n",
      "_________________________________________________________________\n",
      "max_pooling1d_5 (MaxPooling1 (None, 15, 18)            0         \n",
      "_________________________________________________________________\n",
      "conv1d_9 (Conv1D)            (None, 15, 36)            1332      \n",
      "_________________________________________________________________\n",
      "batch_normalization_10 (Batc (None, 15, 36)            144       \n",
      "_________________________________________________________________\n",
      "activation_8 (Activation)    (None, 15, 36)            0         \n",
      "_________________________________________________________________\n",
      "max_pooling1d_6 (MaxPooling1 (None, 8, 36)             0         \n",
      "_________________________________________________________________\n",
      "conv1d_10 (Conv1D)           (None, 8, 72)             5256      \n",
      "_________________________________________________________________\n",
      "batch_normalization_11 (Batc (None, 8, 72)             288       \n",
      "_________________________________________________________________\n",
      "activation_9 (Activation)    (None, 8, 72)             0         \n",
      "_________________________________________________________________\n",
      "max_pooling1d_7 (MaxPooling1 (None, 4, 72)             0         \n",
      "_________________________________________________________________\n",
      "conv1d_11 (Conv1D)           (None, 4, 144)            20880     \n",
      "_________________________________________________________________\n",
      "batch_normalization_12 (Batc (None, 4, 144)            576       \n",
      "_________________________________________________________________\n",
      "activation_10 (Activation)   (None, 4, 144)            0         \n",
      "_________________________________________________________________\n",
      "max_pooling1d_8 (MaxPooling1 (None, 2, 144)            0         \n",
      "_________________________________________________________________\n",
      "flatten_3 (Flatten)          (None, 288)               0         \n",
      "_________________________________________________________________\n",
      "dropout_4 (Dropout)          (None, 288)               0         \n",
      "_________________________________________________________________\n",
      "dense_4 (Dense)              (None, 5)                 1445      \n",
      "_________________________________________________________________\n",
      "activation_11 (Activation)   (None, 5)                 0         \n",
      "=================================================================\n",
      "Total params: 34,079\n",
      "Trainable params: 33,539\n",
      "Non-trainable params: 540\n",
      "_________________________________________________________________\n"
     ]
    }
   ],
   "source": [
    "model_test = TestModel((30,113))"
   ]
  },
  {
   "cell_type": "code",
   "execution_count": 24,
   "metadata": {},
   "outputs": [],
   "source": [
    "opt = Adam(lr=0.0001)\n",
    "model_test.compile(optimizer = opt, loss = \"categorical_crossentropy\", metrics = [\"accuracy\"])"
   ]
  },
  {
   "cell_type": "code",
   "execution_count": 25,
   "metadata": {},
   "outputs": [
    {
     "name": "stdout",
     "output_type": "stream",
     "text": [
      "Epoch 1/20\n",
      "6997/6997 [==============================] - 4s 579us/step - loss: 1.6412 - acc: 0.3457\n",
      "Epoch 2/20\n",
      "6997/6997 [==============================] - 3s 393us/step - loss: 1.5018 - acc: 0.4060\n",
      "Epoch 3/20\n",
      "6997/6997 [==============================] - 3s 392us/step - loss: 1.4783 - acc: 0.4143\n",
      "Epoch 4/20\n",
      "6997/6997 [==============================] - 3s 399us/step - loss: 1.4659 - acc: 0.4239\n",
      "Epoch 5/20\n",
      "6997/6997 [==============================] - 3s 395us/step - loss: 1.4483 - acc: 0.4270\n",
      "Epoch 6/20\n",
      "6997/6997 [==============================] - 3s 398us/step - loss: 1.4239 - acc: 0.4320\n",
      "Epoch 7/20\n",
      "6997/6997 [==============================] - 3s 407us/step - loss: 1.4321 - acc: 0.4286\n",
      "Epoch 8/20\n",
      "6997/6997 [==============================] - 3s 399us/step - loss: 1.4152 - acc: 0.4289\n",
      "Epoch 9/20\n",
      "6997/6997 [==============================] - 3s 401us/step - loss: 1.4140 - acc: 0.4322\n",
      "Epoch 10/20\n",
      "6997/6997 [==============================] - 3s 403us/step - loss: 1.3968 - acc: 0.4368\n",
      "Epoch 11/20\n",
      "6997/6997 [==============================] - 3s 403us/step - loss: 1.4085 - acc: 0.4370\n",
      "Epoch 12/20\n",
      "6997/6997 [==============================] - 3s 404us/step - loss: 1.3828 - acc: 0.4385\n",
      "Epoch 13/20\n",
      "6997/6997 [==============================] - 3s 399us/step - loss: 1.3950 - acc: 0.4395\n",
      "Epoch 14/20\n",
      "6997/6997 [==============================] - 3s 397us/step - loss: 1.3821 - acc: 0.4420\n",
      "Epoch 15/20\n",
      "6997/6997 [==============================] - 3s 403us/step - loss: 1.3952 - acc: 0.4402\n",
      "Epoch 16/20\n",
      "6997/6997 [==============================] - 3s 400us/step - loss: 1.3790 - acc: 0.4430\n",
      "Epoch 17/20\n",
      "6997/6997 [==============================] - 3s 399us/step - loss: 1.3847 - acc: 0.4429\n",
      "Epoch 18/20\n",
      "6997/6997 [==============================] - 3s 400us/step - loss: 1.3771 - acc: 0.4478\n",
      "Epoch 19/20\n",
      "6997/6997 [==============================] - 3s 399us/step - loss: 1.3719 - acc: 0.4450\n",
      "Epoch 20/20\n",
      "6997/6997 [==============================] - 3s 402us/step - loss: 1.3753 - acc: 0.4435\n"
     ]
    },
    {
     "data": {
      "text/plain": [
       "<keras.callbacks.History at 0x24ed3e38780>"
      ]
     },
     "execution_count": 25,
     "metadata": {},
     "output_type": "execute_result"
    }
   ],
   "source": [
    "model_test.fit(x = cube, y = YOH_train_final, epochs = 20, batch_size = 50)"
   ]
  },
  {
   "cell_type": "code",
   "execution_count": 14,
   "metadata": {},
   "outputs": [
    {
     "data": {
      "text/plain": [
       "array([1., 1., 1., ..., 0., 2., 2.])"
      ]
     },
     "execution_count": 14,
     "metadata": {},
     "output_type": "execute_result"
    }
   ],
   "source": [
    "lab_cum"
   ]
  },
  {
   "cell_type": "code",
   "execution_count": null,
   "metadata": {},
   "outputs": [],
   "source": []
  }
 ],
 "metadata": {
  "kernelspec": {
   "display_name": "Python 3",
   "language": "python",
   "name": "python3"
  },
  "language_info": {
   "codemirror_mode": {
    "name": "ipython",
    "version": 3
   },
   "file_extension": ".py",
   "mimetype": "text/x-python",
   "name": "python",
   "nbconvert_exporter": "python",
   "pygments_lexer": "ipython3",
   "version": "3.6.4"
  }
 },
 "nbformat": 4,
 "nbformat_minor": 2
}
