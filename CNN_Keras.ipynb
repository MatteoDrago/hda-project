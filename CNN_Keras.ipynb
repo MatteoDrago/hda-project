{
 "cells": [
  {
   "cell_type": "markdown",
   "metadata": {},
   "source": [
    "# Keras Implementation - Human Data Analytics Project \n",
    "\n",
    "Importing all modules that we need for our elaboration"
   ]
  },
  {
   "cell_type": "code",
   "execution_count": 1,
   "metadata": {},
   "outputs": [
    {
     "name": "stderr",
     "output_type": "stream",
     "text": [
      "C:\\Users\\Matteo\\Anaconda3\\lib\\site-packages\\h5py\\__init__.py:36: FutureWarning: Conversion of the second argument of issubdtype from `float` to `np.floating` is deprecated. In future, it will be treated as `np.float64 == np.dtype(float).type`.\n",
      "  from ._conv import register_converters as _register_converters\n",
      "Using TensorFlow backend.\n"
     ]
    }
   ],
   "source": [
    "import numpy as np\n",
    "import scipy.io\n",
    "\n",
    "from keras import regularizers\n",
    "\n",
    "import warnings\n",
    "with warnings.catch_warnings():\n",
    "    warnings.filterwarnings(\"ignore\",category=FutureWarning)\n",
    "    \n",
    "    from keras.layers import Conv1D, BatchNormalization, Dropout, LeakyReLU, Flatten, Activation, Dense, MaxPooling1D\n",
    "    from keras.models import Model, Sequential\n",
    "    from keras.optimizers import Adam\n",
    "    from sklearn.preprocessing import OneHotEncoder, StandardScaler\n",
    "    from sklearn.metrics import f1_score, roc_curve, auc\n",
    "    import keras.backend as K\n",
    "    \n",
    "K.set_image_data_format('channels_last')\n",
    "\n",
    "%matplotlib inline"
   ]
  },
  {
   "cell_type": "markdown",
   "metadata": {},
   "source": [
    "# Preprocessing Section"
   ]
  },
  {
   "cell_type": "code",
   "execution_count": 2,
   "metadata": {},
   "outputs": [],
   "source": [
    "x1 = scipy.io.loadmat(\"data_temp/S1-ADL1\", mdict={'filled_features':'features', 'labels':'labels'})\n",
    "x2 = scipy.io.loadmat(\"data_temp/S1-ADL2\", mdict={'filled_features':'features', 'labels':'labels'})\n",
    "x3 = scipy.io.loadmat(\"data_temp/S1-ADL3\", mdict={'filled_features':'features', 'labels':'labels'})\n",
    "x4 = scipy.io.loadmat(\"data_temp/S1-ADL4\", mdict={'filled_features':'features', 'labels':'labels'})\n",
    "x5 = scipy.io.loadmat(\"data_temp/S1-ADL5\", mdict={'filled_features':'features', 'labels':'labels'})"
   ]
  },
  {
   "cell_type": "markdown",
   "metadata": {},
   "source": [
    "We split the data into train and test set."
   ]
  },
  {
   "cell_type": "code",
   "execution_count": 3,
   "metadata": {},
   "outputs": [
    {
     "name": "stdout",
     "output_type": "stream",
     "text": [
      "X_train shape:  (104973, 113)\n",
      "X_test shape:  (57536, 113)\n"
     ]
    }
   ],
   "source": [
    "X_train = np.concatenate((x1['filled_features'],x2['filled_features'],x3['filled_features']),axis=0)\n",
    "X_test = np.concatenate((x4['filled_features'],x5['filled_features']),axis=0)\n",
    "#X_test = x4['filled_features']\n",
    "\n",
    "Y_train = np.concatenate((x1['labels'][:,0],x2['labels'][:,0],x3['labels'][:,0]),axis=0) # here we take just the first column because we want to fulfill the first task\n",
    "#Y_test = x4['labels'][:,0]\n",
    "Y_test = np.concatenate((x4['labels'][:,0],x5['labels'][:,0]),axis=0)\n",
    "\n",
    "# Initial decision to overcome the problem of entire missing columns\n",
    "X_train = np.nan_to_num(X_train)\n",
    "X_test = np.nan_to_num(X_test)\n",
    "\n",
    "print(\"X_train shape: \", X_train.shape)\n",
    "print(\"X_test shape: \", X_test.shape)\n"
   ]
  },
  {
   "cell_type": "markdown",
   "metadata": {},
   "source": [
    "The dataset needs to be normalized in order to improve performances."
   ]
  },
  {
   "cell_type": "code",
   "execution_count": 4,
   "metadata": {},
   "outputs": [],
   "source": [
    "# fatures normalization\n",
    "scaler = StandardScaler().fit(X_train)\n",
    "X_train =scaler.transform(X_train)\n",
    "X_test = scaler.transform(X_test)"
   ]
  },
  {
   "cell_type": "markdown",
   "metadata": {},
   "source": [
    "We decided to use a onehot encoder for the labels"
   ]
  },
  {
   "cell_type": "code",
   "execution_count": 5,
   "metadata": {},
   "outputs": [
    {
     "name": "stdout",
     "output_type": "stream",
     "text": [
      "YOH_train shape:  (104973, 5)\n",
      "YOH_test shape:  (57536, 5)\n"
     ]
    }
   ],
   "source": [
    "onehot_encoder = OneHotEncoder(sparse=False)\n",
    "YOH_train = onehot_encoder.fit_transform(Y_train.reshape(-1, 1))\n",
    "YOH_test = onehot_encoder.fit_transform(Y_test.reshape(-1, 1))\n",
    "\n",
    "print(\"YOH_train shape: \", YOH_train.shape)\n",
    "print(\"YOH_test shape: \", YOH_test.shape)"
   ]
  },
  {
   "cell_type": "code",
   "execution_count": 6,
   "metadata": {},
   "outputs": [
    {
     "name": "stdout",
     "output_type": "stream",
     "text": [
      "Number of samples:  104973 \n",
      "Number of classes:  5\n",
      "Number of windows:  20993\n"
     ]
    }
   ],
   "source": [
    "window_size = 10\n",
    "stride = int(window_size / 2)\n",
    "num_features = X_train.shape[1]\n",
    "samples, classes = YOH_train.shape\n",
    "print(\"Number of samples: \", samples, \"\\nNumber of classes: \", classes)\n",
    "\n",
    "windows = int(samples // stride) - 1\n",
    "print(\"Number of windows: \", windows)"
   ]
  },
  {
   "cell_type": "code",
   "execution_count": 7,
   "metadata": {},
   "outputs": [
    {
     "name": "stdout",
     "output_type": "stream",
     "text": [
      "Number of samples:  57536 \n",
      "Number of classes:  5\n",
      "Number of windows:  11506\n"
     ]
    }
   ],
   "source": [
    "num_features_test = X_test.shape[1]\n",
    "samples_test, classes_test = YOH_test.shape\n",
    "print(\"Number of samples: \", samples_test, \"\\nNumber of classes: \", classes_test)\n",
    "\n",
    "windows_test = int(samples_test // stride) - 1\n",
    "print(\"Number of windows: \", windows_test)"
   ]
  },
  {
   "cell_type": "code",
   "execution_count": 8,
   "metadata": {},
   "outputs": [
    {
     "data": {
      "text/plain": [
       "(20993, 10, 113)"
      ]
     },
     "execution_count": 8,
     "metadata": {},
     "output_type": "execute_result"
    }
   ],
   "source": [
    "cube = np.zeros([windows, window_size, num_features])\n",
    "cube.shape"
   ]
  },
  {
   "cell_type": "code",
   "execution_count": 9,
   "metadata": {},
   "outputs": [
    {
     "data": {
      "text/plain": [
       "(11506, 10, 113)"
      ]
     },
     "execution_count": 9,
     "metadata": {},
     "output_type": "execute_result"
    }
   ],
   "source": [
    "cube_test = np.zeros([windows_test, window_size, num_features])\n",
    "cube_test.shape"
   ]
  },
  {
   "cell_type": "code",
   "execution_count": 10,
   "metadata": {},
   "outputs": [
    {
     "data": {
      "text/plain": [
       "(20993,)"
      ]
     },
     "execution_count": 10,
     "metadata": {},
     "output_type": "execute_result"
    }
   ],
   "source": [
    "lab_cum = np.zeros([windows])\n",
    "lab_cum.shape"
   ]
  },
  {
   "cell_type": "code",
   "execution_count": 11,
   "metadata": {},
   "outputs": [
    {
     "data": {
      "text/plain": [
       "(11506,)"
      ]
     },
     "execution_count": 11,
     "metadata": {},
     "output_type": "execute_result"
    }
   ],
   "source": [
    "lab_cum_test = np.zeros([windows_test])\n",
    "lab_cum_test.shape"
   ]
  },
  {
   "cell_type": "code",
   "execution_count": 12,
   "metadata": {},
   "outputs": [],
   "source": [
    "for w in range(windows):\n",
    "    index = int(w * stride)\n",
    "    cube[w,:,:] = X_train[index:index+window_size, :].reshape((window_size,num_features))\n",
    "    l = YOH_train[index:index+window_size,:] # shape 50 x 5\n",
    "    #print(np.sum(l, axis=0),np.argmax(np.sum(l, axis=0)))\n",
    "    lab_cum[w] = np.argmax(np.sum(l, axis=0))"
   ]
  },
  {
   "cell_type": "code",
   "execution_count": 13,
   "metadata": {},
   "outputs": [],
   "source": [
    "for w in range(windows_test):\n",
    "    index = int(w * stride)\n",
    "    cube_test[w,:,:] = X_test[index:index+window_size, :].reshape((window_size,num_features))\n",
    "    l = YOH_test[index:index+window_size,:] # shape 50 x 5\n",
    "    #print(np.sum(l, axis=0),np.argmax(np.sum(l, axis=0)))\n",
    "    lab_cum_test[w] = np.argmax(np.sum(l, axis=0))"
   ]
  },
  {
   "cell_type": "code",
   "execution_count": 14,
   "metadata": {},
   "outputs": [
    {
     "name": "stdout",
     "output_type": "stream",
     "text": [
      "[[0. 1. 0. 0. 0.]\n",
      " [0. 1. 0. 0. 0.]\n",
      " [0. 1. 0. 0. 0.]\n",
      " ...\n",
      " [0. 0. 1. 0. 0.]\n",
      " [0. 0. 1. 0. 0.]\n",
      " [0. 0. 1. 0. 0.]]\n"
     ]
    }
   ],
   "source": [
    "#print('cumulative labels: ', lab_cum.shape, type(lab_cum), \"\\n\", lab_cum)\n",
    "YOH_train_final = onehot_encoder.fit_transform(lab_cum.reshape(-1, 1))\n",
    "print(YOH_train_final)"
   ]
  },
  {
   "cell_type": "code",
   "execution_count": 15,
   "metadata": {},
   "outputs": [
    {
     "name": "stdout",
     "output_type": "stream",
     "text": [
      "[[0. 1. 0. 0. 0.]\n",
      " [0. 1. 0. 0. 0.]\n",
      " [0. 1. 0. 0. 0.]\n",
      " ...\n",
      " [0. 0. 1. 0. 0.]\n",
      " [0. 0. 1. 0. 0.]\n",
      " [0. 0. 1. 0. 0.]]\n"
     ]
    }
   ],
   "source": [
    "YOH_test_final = onehot_encoder.fit_transform(lab_cum_test.reshape(-1, 1))\n",
    "print(YOH_test_final)"
   ]
  },
  {
   "cell_type": "code",
   "execution_count": 16,
   "metadata": {},
   "outputs": [],
   "source": [
    "def TestModel(input_shape):\n",
    "    \"\"\" \n",
    "    Arguments:\n",
    "    input_shape -- shape of the images of the dataset\n",
    "\n",
    "    Returns: \n",
    "    model -- a Model() instance in Keras\n",
    "    \"\"\"\n",
    "    \n",
    "    model = Sequential()\n",
    "    model.add(Conv1D(filters = 18,\n",
    "                    kernel_size=5,\n",
    "                    strides=1,\n",
    "                    padding='same',\n",
    "                    input_shape = input_shape))\n",
    "    model.add(BatchNormalization())\n",
    "    model.add(Activation('relu'))\n",
    "    model.add(MaxPooling1D(pool_size=2,\n",
    "                          strides=2,\n",
    "                          padding='same'))\n",
    "    \n",
    "    model.add(Conv1D(filters = 36,\n",
    "                    kernel_size=7,\n",
    "                    strides=1,\n",
    "                    padding='same'))\n",
    "    model.add(BatchNormalization())\n",
    "    model.add(Activation('relu'))\n",
    "    model.add(MaxPooling1D(pool_size=2,\n",
    "                          strides=2,\n",
    "                          padding='same'))\n",
    "    \n",
    "    model.add(Dropout(0.2))\n",
    "    \n",
    "    model.add(Conv1D(filters = 72,\n",
    "                    kernel_size=7,\n",
    "                    strides=1,\n",
    "                    padding='same'))\n",
    "    model.add(BatchNormalization())\n",
    "    model.add(Activation('relu'))\n",
    "    model.add(MaxPooling1D(pool_size=2,\n",
    "                          strides=2,\n",
    "                          padding='same'))\n",
    "    \n",
    "    #model.add(Conv1D(filters = 144,\n",
    "    #                kernel_size=7,\n",
    "    #                strides=1,\n",
    "    #                padding='same'))\n",
    "    #model.add(BatchNormalization())\n",
    "    #model.add(Activation('relu'))\n",
    "    #model.add(MaxPooling1D(pool_size=2,\n",
    "    #                      strides=2,\n",
    "    #                      padding='same'))\n",
    "    \n",
    "    model.add(Flatten())\n",
    "    \n",
    "    model.add(Dense(64, kernel_regularizer=regularizers.l2(0.01)))\n",
    "    model.add(Activation('relu'))\n",
    "    \n",
    "    model.add(Dropout(0.4))\n",
    "\n",
    "    model.add(Dense(5))\n",
    "    model.add(Activation('softmax'))\n",
    "    \n",
    "    #model.summary()\n",
    "    \n",
    "    return model"
   ]
  },
  {
   "cell_type": "code",
   "execution_count": 17,
   "metadata": {},
   "outputs": [
    {
     "name": "stdout",
     "output_type": "stream",
     "text": [
      "WARNING:tensorflow:From C:\\Users\\Matteo\\Anaconda3\\lib\\site-packages\\tensorflow\\python\\util\\deprecation.py:497: calling conv1d (from tensorflow.python.ops.nn_ops) with data_format=NHWC is deprecated and will be removed in a future version.\n",
      "Instructions for updating:\n",
      "`NHWC` for data_format is deprecated, use `NWC` instead\n"
     ]
    }
   ],
   "source": [
    "model_test = TestModel((10,113))"
   ]
  },
  {
   "cell_type": "code",
   "execution_count": 18,
   "metadata": {},
   "outputs": [],
   "source": [
    "opt = Adam(lr=0.01)\n",
    "model_test.compile(optimizer = opt, loss = \"categorical_crossentropy\", metrics = [\"accuracy\"])"
   ]
  },
  {
   "cell_type": "code",
   "execution_count": 19,
   "metadata": {},
   "outputs": [
    {
     "name": "stdout",
     "output_type": "stream",
     "text": [
      "Train on 20993 samples, validate on 11506 samples\n",
      "Epoch 1/50\n",
      "20993/20993 [==============================] - 5s 238us/step - loss: 0.6129 - acc: 0.8266 - val_loss: 1.6657 - val_acc: 0.7125\n",
      "Epoch 2/50\n",
      "20993/20993 [==============================] - 4s 199us/step - loss: 0.4005 - acc: 0.8879 - val_loss: 2.0277 - val_acc: 0.6776\n",
      "Epoch 3/50\n",
      "20993/20993 [==============================] - 4s 198us/step - loss: 0.4138 - acc: 0.8989 - val_loss: 2.6377 - val_acc: 0.6609\n",
      "Epoch 4/50\n",
      "20993/20993 [==============================] - 4s 199us/step - loss: 0.3566 - acc: 0.9093 - val_loss: 1.2868 - val_acc: 0.7192\n",
      "Epoch 5/50\n",
      "20993/20993 [==============================] - 4s 197us/step - loss: 0.5480 - acc: 0.8952 - val_loss: 1.3898 - val_acc: 0.7316\n",
      "Epoch 6/50\n",
      "20993/20993 [==============================] - 4s 199us/step - loss: 0.3766 - acc: 0.9129 - val_loss: 1.2419 - val_acc: 0.7342\n",
      "Epoch 7/50\n",
      "20993/20993 [==============================] - 4s 199us/step - loss: 0.3659 - acc: 0.9113 - val_loss: 0.9292 - val_acc: 0.7761\n",
      "Epoch 8/50\n",
      "20993/20993 [==============================] - 4s 197us/step - loss: 0.3752 - acc: 0.9144 - val_loss: 1.1735 - val_acc: 0.7183\n",
      "Epoch 9/50\n",
      "20993/20993 [==============================] - 4s 205us/step - loss: 0.2531 - acc: 0.9281 - val_loss: 1.0930 - val_acc: 0.7089\n",
      "Epoch 10/50\n",
      "20993/20993 [==============================] - 4s 203us/step - loss: 0.3361 - acc: 0.9215 - val_loss: 1.3121 - val_acc: 0.7112\n",
      "Epoch 11/50\n",
      "20993/20993 [==============================] - 4s 201us/step - loss: 0.3103 - acc: 0.9230 - val_loss: 1.1915 - val_acc: 0.7393\n",
      "Epoch 12/50\n",
      "20993/20993 [==============================] - 4s 200us/step - loss: 0.4440 - acc: 0.9155 - val_loss: 1.8880 - val_acc: 0.7666\n",
      "Epoch 13/50\n",
      "20993/20993 [==============================] - 4s 200us/step - loss: 0.3434 - acc: 0.9264 - val_loss: 2.1622 - val_acc: 0.7272\n",
      "Epoch 14/50\n",
      "20993/20993 [==============================] - 4s 202us/step - loss: 0.3039 - acc: 0.9358 - val_loss: 1.6209 - val_acc: 0.7538\n",
      "Epoch 15/50\n",
      "20993/20993 [==============================] - 4s 199us/step - loss: 0.2435 - acc: 0.9373 - val_loss: 1.6665 - val_acc: 0.7134\n",
      "Epoch 16/50\n",
      "20993/20993 [==============================] - 4s 202us/step - loss: 0.3152 - acc: 0.9264 - val_loss: 1.3674 - val_acc: 0.6924\n",
      "Epoch 17/50\n",
      "20993/20993 [==============================] - 4s 203us/step - loss: 0.3690 - acc: 0.9280 - val_loss: 1.9704 - val_acc: 0.6610\n",
      "Epoch 18/50\n",
      "20993/20993 [==============================] - 4s 203us/step - loss: 0.3288 - acc: 0.9270 - val_loss: 1.5226 - val_acc: 0.7071\n",
      "Epoch 19/50\n",
      "20993/20993 [==============================] - 4s 202us/step - loss: 0.2945 - acc: 0.9238 - val_loss: 1.8522 - val_acc: 0.7105\n",
      "Epoch 20/50\n",
      "20993/20993 [==============================] - 4s 201us/step - loss: 0.2385 - acc: 0.9353 - val_loss: 2.4247 - val_acc: 0.6964\n",
      "Epoch 21/50\n",
      "20993/20993 [==============================] - 4s 202us/step - loss: 0.2304 - acc: 0.9355 - val_loss: 2.5253 - val_acc: 0.7010\n",
      "Epoch 22/50\n",
      "20993/20993 [==============================] - 4s 203us/step - loss: 0.3189 - acc: 0.9269 - val_loss: 1.6756 - val_acc: 0.6719\n",
      "Epoch 23/50\n",
      "20993/20993 [==============================] - 4s 202us/step - loss: 0.3028 - acc: 0.9238 - val_loss: 3.4282 - val_acc: 0.6677\n",
      "Epoch 24/50\n",
      "20993/20993 [==============================] - 4s 203us/step - loss: 0.3205 - acc: 0.9267 - val_loss: 1.2069 - val_acc: 0.7249\n",
      "Epoch 25/50\n",
      "20993/20993 [==============================] - 4s 211us/step - loss: 0.3396 - acc: 0.9228 - val_loss: 2.9335 - val_acc: 0.6568\n",
      "Epoch 26/50\n",
      "20993/20993 [==============================] - 4s 192us/step - loss: 0.2997 - acc: 0.9221 - val_loss: 2.1673 - val_acc: 0.6916\n",
      "Epoch 27/50\n",
      "20993/20993 [==============================] - 4s 196us/step - loss: 0.2984 - acc: 0.9268 - val_loss: 2.4975 - val_acc: 0.6753\n",
      "Epoch 28/50\n",
      "20993/20993 [==============================] - 4s 191us/step - loss: 0.2468 - acc: 0.9346 - val_loss: 3.0430 - val_acc: 0.6654\n",
      "Epoch 29/50\n",
      "20993/20993 [==============================] - 4s 193us/step - loss: 0.2047 - acc: 0.9415 - val_loss: 2.3963 - val_acc: 0.6983\n",
      "Epoch 30/50\n",
      "20993/20993 [==============================] - 4s 190us/step - loss: 0.2772 - acc: 0.9280 - val_loss: 2.4399 - val_acc: 0.6683\n",
      "Epoch 31/50\n",
      "20993/20993 [==============================] - 4s 191us/step - loss: 0.2192 - acc: 0.9386 - val_loss: 3.3998 - val_acc: 0.6380\n",
      "Epoch 32/50\n",
      "20993/20993 [==============================] - 4s 190us/step - loss: 0.2068 - acc: 0.9401 - val_loss: 2.7531 - val_acc: 0.6745\n",
      "Epoch 33/50\n",
      "20993/20993 [==============================] - 4s 198us/step - loss: 0.1949 - acc: 0.9435 - val_loss: 3.0572 - val_acc: 0.6710\n",
      "Epoch 34/50\n",
      "20993/20993 [==============================] - 5s 238us/step - loss: 0.1941 - acc: 0.9413 - val_loss: 2.9363 - val_acc: 0.6657\n",
      "Epoch 35/50\n",
      "20993/20993 [==============================] - 5s 235us/step - loss: 0.3466 - acc: 0.9215 - val_loss: 3.3015 - val_acc: 0.6856\n",
      "Epoch 36/50\n",
      "20993/20993 [==============================] - 4s 213us/step - loss: 0.2808 - acc: 0.9295 - val_loss: 3.2251 - val_acc: 0.6833\n",
      "Epoch 37/50\n",
      "20993/20993 [==============================] - 4s 204us/step - loss: 0.2431 - acc: 0.9345 - val_loss: 3.4925 - val_acc: 0.6676\n",
      "Epoch 38/50\n",
      "20993/20993 [==============================] - 5s 220us/step - loss: 0.3555 - acc: 0.9134 - val_loss: 2.5083 - val_acc: 0.6812\n",
      "Epoch 39/50\n",
      "20993/20993 [==============================] - 4s 202us/step - loss: 0.3326 - acc: 0.9243 - val_loss: 2.5603 - val_acc: 0.7206\n",
      "Epoch 40/50\n",
      "20993/20993 [==============================] - 4s 194us/step - loss: 0.2524 - acc: 0.9357 - val_loss: 2.7522 - val_acc: 0.6724\n",
      "Epoch 41/50\n",
      "20993/20993 [==============================] - 4s 196us/step - loss: 0.3416 - acc: 0.9153 - val_loss: 1.4519 - val_acc: 0.7337\n",
      "Epoch 42/50\n",
      "20993/20993 [==============================] - 5s 224us/step - loss: 0.3999 - acc: 0.8939 - val_loss: 2.9899 - val_acc: 0.6951\n",
      "Epoch 43/50\n",
      "20993/20993 [==============================] - 4s 203us/step - loss: 0.3789 - acc: 0.9094 - val_loss: 2.8499 - val_acc: 0.6962\n",
      "Epoch 44/50\n",
      "20993/20993 [==============================] - 4s 208us/step - loss: 0.3909 - acc: 0.9160 - val_loss: 3.5446 - val_acc: 0.6717\n",
      "Epoch 45/50\n",
      "20993/20993 [==============================] - 4s 201us/step - loss: 0.3281 - acc: 0.9234 - val_loss: 2.6914 - val_acc: 0.7173\n",
      "Epoch 46/50\n",
      "20993/20993 [==============================] - 4s 203us/step - loss: 0.3503 - acc: 0.9113 - val_loss: 3.4560 - val_acc: 0.6728\n",
      "Epoch 47/50\n",
      "20993/20993 [==============================] - 4s 204us/step - loss: 0.2955 - acc: 0.9224 - val_loss: 3.2344 - val_acc: 0.6819\n",
      "Epoch 48/50\n",
      "20993/20993 [==============================] - 4s 198us/step - loss: 0.3242 - acc: 0.9175 - val_loss: 3.3547 - val_acc: 0.6697\n",
      "Epoch 49/50\n",
      "20993/20993 [==============================] - 4s 203us/step - loss: 0.2436 - acc: 0.9398 - val_loss: 3.3010 - val_acc: 0.6780\n",
      "Epoch 50/50\n",
      "20993/20993 [==============================] - 4s 193us/step - loss: 0.2789 - acc: 0.9371 - val_loss: 3.4156 - val_acc: 0.6747\n"
     ]
    },
    {
     "data": {
      "text/plain": [
       "<keras.callbacks.History at 0x21814e0eba8>"
      ]
     },
     "execution_count": 19,
     "metadata": {},
     "output_type": "execute_result"
    }
   ],
   "source": [
    "model_test.fit(x = cube, y = YOH_train_final, epochs = 50, batch_size = 128, validation_data=(cube_test,YOH_test_final))"
   ]
  },
  {
   "cell_type": "code",
   "execution_count": 20,
   "metadata": {},
   "outputs": [
    {
     "name": "stdout",
     "output_type": "stream",
     "text": [
      "[[2.9208573e-02 1.3677973e-01 8.3338910e-01 6.0379686e-04 1.8758470e-05]\n",
      " [3.4316596e-02 3.0744987e-02 9.3486321e-01 7.0416987e-05 4.7945005e-06]\n",
      " [3.1972449e-02 2.8414663e-02 9.3956244e-01 4.7852598e-05 2.5418528e-06]\n",
      " ...\n",
      " [9.9999964e-01 1.7947408e-09 3.8937472e-07 3.0373761e-26 1.0038408e-15]\n",
      " [9.9968278e-01 1.2273900e-05 3.0496059e-04 9.9796056e-16 1.8314679e-10]\n",
      " [9.9428272e-01 1.2628589e-03 4.4543939e-03 5.7062870e-09 3.4541152e-08]]\n",
      "[2 2 2 ... 0 0 0]\n",
      "[[0. 0. 1. 0. 0.]\n",
      " [0. 0. 1. 0. 0.]\n",
      " [0. 0. 1. 0. 0.]\n",
      " ...\n",
      " [1. 0. 0. 0. 0.]\n",
      " [1. 0. 0. 0. 0.]\n",
      " [1. 0. 0. 0. 0.]]\n",
      "0.6877474605643061\n",
      "{0: 0.8252964481774879, 1: 0.7528821179831148, 2: 0.7719116703078898, 3: 0.8363203695735288, 4: 0.8548162608459118}\n"
     ]
    }
   ],
   "source": [
    "y_pred = model_test.predict(cube_test)\n",
    "print(y_pred)\n",
    "\n",
    "y_pred_hard = np.argmax(y_pred, axis=1)\n",
    "print(y_pred_hard)\n",
    "\n",
    "YOH_pred = onehot_encoder.fit_transform(y_pred_hard.reshape(-1, 1))\n",
    "print(YOH_pred)\n",
    "\n",
    "print(f1_score(YOH_test_final, YOH_pred, average='weighted'))\n",
    "\n",
    "# Compute ROC curve and ROC area for each class\n",
    "fpr = dict()\n",
    "tpr = dict()\n",
    "roc_auc = dict()\n",
    "for i in range(classes):\n",
    "    fpr[i], tpr[i], _ = roc_curve(YOH_test_final[:, i], YOH_pred[:, i])\n",
    "    roc_auc[i] = auc(fpr[i], tpr[i])\n",
    "\n",
    "print(roc_auc)"
   ]
  },
  {
   "cell_type": "code",
   "execution_count": null,
   "metadata": {},
   "outputs": [],
   "source": []
  }
 ],
 "metadata": {
  "kernelspec": {
   "display_name": "Python 3",
   "language": "python",
   "name": "python3"
  },
  "language_info": {
   "codemirror_mode": {
    "name": "ipython",
    "version": 3
   },
   "file_extension": ".py",
   "mimetype": "text/x-python",
   "name": "python",
   "nbconvert_exporter": "python",
   "pygments_lexer": "ipython3",
   "version": "3.6.4"
  }
 },
 "nbformat": 4,
 "nbformat_minor": 2
}
