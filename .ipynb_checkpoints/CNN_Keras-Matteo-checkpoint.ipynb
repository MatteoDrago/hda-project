{
 "cells": [
  {
   "cell_type": "markdown",
   "metadata": {},
   "source": [
    "# HDA - Project 3: TASK A\n",
    "## Rows labelled with category 0 has been dropped\n",
    "### In this context, first we dropped the rows and then missing values are interpolated using splines\n",
    "Importing all modules that we need for our elaboration"
   ]
  },
  {
   "cell_type": "code",
   "execution_count": 1,
   "metadata": {},
   "outputs": [
    {
     "name": "stderr",
     "output_type": "stream",
     "text": [
      "Using TensorFlow backend.\n"
     ]
    }
   ],
   "source": [
    "import numpy as np\n",
    "import scipy.io\n",
    "import matplotlib.pyplot as plt\n",
    "import itertools\n",
    "\n",
    "from sklearn.preprocessing import OneHotEncoder, StandardScaler\n",
    "from sklearn.metrics import f1_score, roc_curve, auc, confusion_matrix\n",
    "\n",
    "import warnings\n",
    "with warnings.catch_warnings():\n",
    "    warnings.filterwarnings(\"ignore\",category=FutureWarning)\n",
    "    \n",
    "    from keras import regularizers\n",
    "    from keras.layers import Conv1D, Conv2D, BatchNormalization, Dropout, LeakyReLU, Flatten, Activation, Dense, MaxPooling1D, MaxPooling2D\n",
    "    from keras.models import Model, Sequential\n",
    "    from keras.optimizers import Adam\n",
    "    import keras.backend as K\n",
    "    \n",
    "K.set_image_data_format('channels_last')\n",
    "\n",
    "%matplotlib inline"
   ]
  },
  {
   "cell_type": "markdown",
   "metadata": {},
   "source": [
    "## Preprocessing Section\n",
    "Importing data sessions for subject 1"
   ]
  },
  {
   "cell_type": "code",
   "execution_count": 2,
   "metadata": {},
   "outputs": [],
   "source": [
    "x1 = scipy.io.loadmat(\"code/data/full/S1-ADL1\", mdict={'features':'features', 'labels':'labels'})\n",
    "x2 = scipy.io.loadmat(\"code/data/full/S1-ADL2\", mdict={'features':'features', 'labels':'labels'})\n",
    "x3 = scipy.io.loadmat(\"code/data/full/S1-ADL3\", mdict={'features':'features', 'labels':'labels'})\n",
    "x4 = scipy.io.loadmat(\"code/data/full/S1-ADL4\", mdict={'features':'features', 'labels':'labels'})\n",
    "x5 = scipy.io.loadmat(\"code/data/full/S1-ADL5\", mdict={'features':'features', 'labels':'labels'})\n",
    "x6 = scipy.io.loadmat(\"code/data/full/S1-Drill\", mdict={'features':'features', 'labels':'labels'})"
   ]
  },
  {
   "cell_type": "markdown",
   "metadata": {},
   "source": [
    "Check the number of recorded samples for each session"
   ]
  },
  {
   "cell_type": "code",
   "execution_count": 3,
   "metadata": {},
   "outputs": [
    {
     "name": "stdout",
     "output_type": "stream",
     "text": [
      "Session shapes:\n",
      "\n",
      "ADL1:   (45810, 110)\n",
      "ADL2:   (28996, 110)\n",
      "ADL3:   (30167, 110)\n",
      "ADL4:   (30228, 110)\n",
      "ADL5:   (27308, 110)\n",
      "Drill:  (52152, 110)\n",
      "\n",
      "Training set: ADL1 + ADL2 + ADL3 + Drill =  157125\n",
      "Test set: ADL4 + ADL5 =  57536\n"
     ]
    }
   ],
   "source": [
    "print(\"Session shapes:\\n\")\n",
    "print(\"ADL1:  \", x1['features'].shape)\n",
    "print(\"ADL2:  \", x2['features'].shape)\n",
    "print(\"ADL3:  \", x3['features'].shape)\n",
    "print(\"ADL4:  \", x4['features'].shape)\n",
    "print(\"ADL5:  \", x5['features'].shape)\n",
    "print(\"Drill: \", x6['features'].shape)\n",
    "print(\"\\nTraining set: ADL1 + ADL2 + ADL3 + Drill = \", x1['features'].shape[0] + x2['features'].shape[0] + x3['features'].shape[0] + x6['features'].shape[0])\n",
    "print(\"Test set: ADL4 + ADL5 = \", x4['features'].shape[0] + x5['features'].shape[0])"
   ]
  },
  {
   "cell_type": "markdown",
   "metadata": {},
   "source": [
    "We split the data into train and test set."
   ]
  },
  {
   "cell_type": "code",
   "execution_count": 4,
   "metadata": {},
   "outputs": [
    {
     "name": "stdout",
     "output_type": "stream",
     "text": [
      "X_train shape:  (157125, 110)\n",
      "X_test shape:  (57536, 110)\n",
      "Y_train shape:  (157125,)\n",
      "Y_test shape:  (57536,)\n"
     ]
    }
   ],
   "source": [
    "# features\n",
    "X_train = np.concatenate((x1['features_interp'],x2['features_interp'],x3['features_interp'],x6['features_interp']),axis=0)\n",
    "X_test = np.concatenate((x4['features_interp'],x5['features_interp']),axis=0)\n",
    "\n",
    "# labels (locomotion activity)\n",
    "Y_train = np.concatenate((x1['labels_cut'][:,0],x2['labels_cut'][:,0],x3['labels_cut'][:,0],x6['labels_cut'][:,0]),axis=0) # here we take just the first column because we want to fulfill the first task\n",
    "Y_test = np.concatenate((x4['labels_cut'][:,0],x5['labels_cut'][:,0]))\n",
    "#Y_test = np.concatenate((x4['labels'][:,0],x5['labels'][:,0]),axis=0)\n",
    "\n",
    "# Initial decision to overcome the problem of entire missing columns\n",
    "X_train = np.nan_to_num(X_train)\n",
    "X_test = np.nan_to_num(X_test)\n",
    "\n",
    "print(\"X_train shape: \", X_train.shape)\n",
    "print(\"X_test shape: \", X_test.shape)\n",
    "print(\"Y_train shape: \", Y_train.shape)\n",
    "print(\"Y_test shape: \", Y_test.shape)"
   ]
  },
  {
   "cell_type": "markdown",
   "metadata": {},
   "source": [
    "The dataset needs to be normalized in order to improve performances."
   ]
  },
  {
   "cell_type": "code",
   "execution_count": 5,
   "metadata": {},
   "outputs": [],
   "source": [
    "# fatures normalization\n",
    "scaler = StandardScaler().fit(X_train)\n",
    "X_train =scaler.transform(X_train)\n",
    "X_test = scaler.transform(X_test)"
   ]
  },
  {
   "cell_type": "markdown",
   "metadata": {},
   "source": [
    "We decided to use a onehot encoder for the labels"
   ]
  },
  {
   "cell_type": "code",
   "execution_count": 6,
   "metadata": {},
   "outputs": [
    {
     "name": "stdout",
     "output_type": "stream",
     "text": [
      "The highest label value is:  5\n",
      "YOH_train shape:  (157125, 5)\n",
      "YOH_test shape:  (57536, 5)\n"
     ]
    }
   ],
   "source": [
    "label_max = np.max(Y_train)\n",
    "print(\"The highest label value is: \", label_max)\n",
    "onehot_encoder = OneHotEncoder(sparse=False)\n",
    "YOH_train = onehot_encoder.fit_transform(Y_train.reshape(-1, 1))\n",
    "YOH_test = onehot_encoder.fit_transform(Y_test.reshape(-1, 1))\n",
    "\n",
    "print(\"YOH_train shape: \", YOH_train.shape)\n",
    "print(\"YOH_test shape: \", YOH_test.shape)"
   ]
  },
  {
   "cell_type": "code",
   "execution_count": 7,
   "metadata": {},
   "outputs": [
    {
     "data": {
      "text/plain": [
       "array([1, 1, 1, ..., 2, 2, 2])"
      ]
     },
     "execution_count": 7,
     "metadata": {},
     "output_type": "execute_result"
    }
   ],
   "source": [
    "Y_train"
   ]
  },
  {
   "cell_type": "code",
   "execution_count": 8,
   "metadata": {},
   "outputs": [
    {
     "name": "stdout",
     "output_type": "stream",
     "text": [
      "Number of samples:  157125 \n",
      "Number of classes:  5\n",
      "Number of windows:  31424\n"
     ]
    }
   ],
   "source": [
    "window_size = 10\n",
    "stride = int(window_size / 2)\n",
    "num_features = X_train.shape[1]\n",
    "samples, classes = YOH_train.shape\n",
    "print(\"Number of samples: \", samples, \"\\nNumber of classes: \", classes)\n",
    "\n",
    "windows = int(samples // stride) - 1\n",
    "print(\"Number of windows: \", windows)"
   ]
  },
  {
   "cell_type": "code",
   "execution_count": 9,
   "metadata": {},
   "outputs": [
    {
     "name": "stdout",
     "output_type": "stream",
     "text": [
      "Number of samples:  57536 \n",
      "Number of classes:  5\n",
      "Number of windows:  11506\n"
     ]
    }
   ],
   "source": [
    "num_features_test = X_test.shape[1]\n",
    "samples_test, classes_test = YOH_test.shape\n",
    "print(\"Number of samples: \", samples_test, \"\\nNumber of classes: \", classes_test)\n",
    "\n",
    "windows_test = int(samples_test // stride) - 1\n",
    "print(\"Number of windows: \", windows_test)"
   ]
  },
  {
   "cell_type": "code",
   "execution_count": 10,
   "metadata": {},
   "outputs": [
    {
     "data": {
      "text/plain": [
       "(31424, 10, 110)"
      ]
     },
     "execution_count": 10,
     "metadata": {},
     "output_type": "execute_result"
    }
   ],
   "source": [
    "cube = np.zeros([windows, window_size, num_features])\n",
    "cube.shape"
   ]
  },
  {
   "cell_type": "code",
   "execution_count": 11,
   "metadata": {},
   "outputs": [
    {
     "data": {
      "text/plain": [
       "(11506, 10, 110)"
      ]
     },
     "execution_count": 11,
     "metadata": {},
     "output_type": "execute_result"
    }
   ],
   "source": [
    "cube_test = np.zeros([windows_test, window_size, num_features])\n",
    "cube_test.shape"
   ]
  },
  {
   "cell_type": "code",
   "execution_count": 12,
   "metadata": {},
   "outputs": [
    {
     "data": {
      "text/plain": [
       "(31424,)"
      ]
     },
     "execution_count": 12,
     "metadata": {},
     "output_type": "execute_result"
    }
   ],
   "source": [
    "lab_cum = np.zeros([windows])\n",
    "lab_cum.shape"
   ]
  },
  {
   "cell_type": "code",
   "execution_count": 13,
   "metadata": {},
   "outputs": [
    {
     "data": {
      "text/plain": [
       "(11506,)"
      ]
     },
     "execution_count": 13,
     "metadata": {},
     "output_type": "execute_result"
    }
   ],
   "source": [
    "lab_cum_test = np.zeros([windows_test])\n",
    "lab_cum_test.shape"
   ]
  },
  {
   "cell_type": "code",
   "execution_count": 15,
   "metadata": {},
   "outputs": [],
   "source": [
    "for w in range(windows):\n",
    "    index = int(w * stride)\n",
    "    cube[w,:,:] = X_train[index:index+window_size, :].reshape((window_size,num_features))\n",
    "    l = YOH_train[index:index+window_size,:] # shape 10 x 5\n",
    "    #print(np.sum(l, axis=0),np.argmax(np.sum(l, axis=0)))\n",
    "    lab_cum[w] = np.argmax(np.sum(l, axis=0))"
   ]
  },
  {
   "cell_type": "code",
   "execution_count": 16,
   "metadata": {},
   "outputs": [],
   "source": [
    "for w in range(windows_test):\n",
    "    index = int(w * stride)\n",
    "    cube_test[w,:,:] = X_test[index:index+window_size, :].reshape((window_size,num_features))\n",
    "    l = YOH_test[index:index+window_size,:] # shape 50 x 5\n",
    "    #print(np.sum(l, axis=0),np.argmax(np.sum(l, axis=0)))\n",
    "    lab_cum_test[w] = np.argmax(np.sum(l, axis=0))"
   ]
  },
  {
   "cell_type": "code",
   "execution_count": 17,
   "metadata": {},
   "outputs": [
    {
     "name": "stdout",
     "output_type": "stream",
     "text": [
      "[[0. 1. 0. 0. 0.]\n",
      " [0. 1. 0. 0. 0.]\n",
      " [0. 1. 0. 0. 0.]\n",
      " ...\n",
      " [0. 0. 1. 0. 0.]\n",
      " [0. 0. 1. 0. 0.]\n",
      " [0. 0. 1. 0. 0.]]\n"
     ]
    }
   ],
   "source": [
    "#print('cumulative labels: ', lab_cum.shape, type(lab_cum), \"\\n\", lab_cum)\n",
    "YOH_train_final = onehot_encoder.fit_transform(lab_cum.reshape(-1, 1))\n",
    "print(YOH_train_final)"
   ]
  },
  {
   "cell_type": "code",
   "execution_count": 18,
   "metadata": {},
   "outputs": [
    {
     "name": "stdout",
     "output_type": "stream",
     "text": [
      "[[0. 1. 0. 0. 0.]\n",
      " [0. 1. 0. 0. 0.]\n",
      " [0. 1. 0. 0. 0.]\n",
      " ...\n",
      " [0. 0. 1. 0. 0.]\n",
      " [0. 0. 1. 0. 0.]\n",
      " [0. 0. 1. 0. 0.]]\n"
     ]
    }
   ],
   "source": [
    "YOH_test_final = onehot_encoder.fit_transform(lab_cum_test.reshape(-1, 1))\n",
    "print(YOH_test_final)"
   ]
  },
  {
   "cell_type": "markdown",
   "metadata": {},
   "source": [
    "# 1D Convolutional Neural Network\n",
    "\n",
    "Once the preprocessing has finished, we can proceed with the definition of the neural network"
   ]
  },
  {
   "cell_type": "code",
   "execution_count": 19,
   "metadata": {},
   "outputs": [],
   "source": [
    "def Model1D(input_shape):\n",
    "    \n",
    "    \"\"\" \n",
    "    Arguments:\n",
    "    input_shape -- shape of the images of the dataset\n",
    "\n",
    "    Returns: \n",
    "    model -- a Model() instance in Keras\n",
    "    \"\"\"\n",
    "    \n",
    "    model = Sequential()\n",
    "    model.add(Conv1D(filters = 18,\n",
    "                    kernel_size=5,\n",
    "                    strides=1,\n",
    "                    padding='same',\n",
    "                    input_shape = input_shape))\n",
    "    model.add(BatchNormalization())\n",
    "    model.add(Activation('relu'))\n",
    "    model.add(MaxPooling1D(pool_size=2,\n",
    "                          strides=2,\n",
    "                          padding='same'))\n",
    "    \n",
    "    model.add(Conv1D(filters = 36,\n",
    "                    kernel_size=7,\n",
    "                    strides=1,\n",
    "                    padding='same'))\n",
    "    model.add(BatchNormalization())\n",
    "    model.add(Activation('relu'))\n",
    "    model.add(MaxPooling1D(pool_size=2,\n",
    "                          strides=2,\n",
    "                          padding='same'))\n",
    "    \n",
    "    model.add(Dropout(0.2))\n",
    "    \n",
    "    model.add(Conv1D(filters = 72,\n",
    "                    kernel_size=7,\n",
    "                    strides=1,\n",
    "                    padding='same'))\n",
    "    model.add(BatchNormalization())\n",
    "    model.add(Activation('relu'))\n",
    "    model.add(MaxPooling1D(pool_size=2,\n",
    "                          strides=2,\n",
    "                          padding='same'))\n",
    "    \n",
    "    #model.add(Conv1D(filters = 144,\n",
    "    #                kernel_size=7,\n",
    "    #                strides=1,\n",
    "    #                padding='same'))\n",
    "    #model.add(BatchNormalization())\n",
    "    #model.add(Activation('relu'))\n",
    "    #model.add(MaxPooling1D(pool_size=2,\n",
    "    #                      strides=2,\n",
    "    #                      padding='same'))\n",
    "    \n",
    "    model.add(Flatten())\n",
    "    \n",
    "    model.add(Dense(64, kernel_regularizer=regularizers.l2(0.01)))\n",
    "    model.add(Activation('relu'))\n",
    "    \n",
    "    model.add(Dropout(0.4))\n",
    "\n",
    "    model.add(Dense(classes))\n",
    "    model.add(Activation('softmax'))\n",
    "    \n",
    "    #model.summary()\n",
    "    \n",
    "    return model"
   ]
  },
  {
   "cell_type": "code",
   "execution_count": 23,
   "metadata": {},
   "outputs": [
    {
     "name": "stdout",
     "output_type": "stream",
     "text": [
      "Train on 31424 samples, validate on 11506 samples\n",
      "Epoch 1/45\n",
      "31424/31424 [==============================] - 4s 140us/step - loss: 0.6083 - acc: 0.8148 - val_loss: 0.4660 - val_acc: 0.8597\n",
      "Epoch 2/45\n",
      "31424/31424 [==============================] - 3s 103us/step - loss: 0.4135 - acc: 0.8606 - val_loss: 0.4545 - val_acc: 0.8912\n",
      "Epoch 3/45\n",
      "31424/31424 [==============================] - 3s 102us/step - loss: 0.3650 - acc: 0.8804 - val_loss: 0.4416 - val_acc: 0.8973\n",
      "Epoch 4/45\n",
      "31424/31424 [==============================] - 3s 103us/step - loss: 0.3478 - acc: 0.8870 - val_loss: 0.4603 - val_acc: 0.8956\n",
      "Epoch 5/45\n",
      "31424/31424 [==============================] - 3s 101us/step - loss: 0.3201 - acc: 0.8960 - val_loss: 0.4897 - val_acc: 0.8885\n",
      "Epoch 6/45\n",
      "31424/31424 [==============================] - 3s 101us/step - loss: 0.3185 - acc: 0.8997 - val_loss: 0.3930 - val_acc: 0.8910\n",
      "Epoch 7/45\n",
      "31424/31424 [==============================] - 3s 102us/step - loss: 0.2882 - acc: 0.9059 - val_loss: 0.3996 - val_acc: 0.8881\n",
      "Epoch 8/45\n",
      "31424/31424 [==============================] - 3s 101us/step - loss: 0.2801 - acc: 0.9086 - val_loss: 0.4144 - val_acc: 0.9024\n",
      "Epoch 9/45\n",
      "31424/31424 [==============================] - 3s 101us/step - loss: 0.2753 - acc: 0.9093 - val_loss: 0.3988 - val_acc: 0.9041\n",
      "Epoch 10/45\n",
      "31424/31424 [==============================] - 3s 102us/step - loss: 0.2727 - acc: 0.9133 - val_loss: 0.4419 - val_acc: 0.8841\n",
      "Epoch 11/45\n",
      "31424/31424 [==============================] - 3s 102us/step - loss: 0.2568 - acc: 0.9154 - val_loss: 0.3971 - val_acc: 0.9054\n",
      "Epoch 12/45\n",
      "31424/31424 [==============================] - 3s 101us/step - loss: 0.2582 - acc: 0.9171 - val_loss: 0.3964 - val_acc: 0.9019\n",
      "Epoch 13/45\n",
      "31424/31424 [==============================] - 3s 101us/step - loss: 0.2456 - acc: 0.9177 - val_loss: 0.4140 - val_acc: 0.9039\n",
      "Epoch 14/45\n",
      "31424/31424 [==============================] - 3s 102us/step - loss: 0.2498 - acc: 0.9179 - val_loss: 0.4075 - val_acc: 0.8941\n",
      "Epoch 15/45\n",
      "31424/31424 [==============================] - 3s 101us/step - loss: 0.2422 - acc: 0.9211 - val_loss: 0.4386 - val_acc: 0.8919\n",
      "Epoch 16/45\n",
      "31424/31424 [==============================] - 3s 102us/step - loss: 0.2399 - acc: 0.9226 - val_loss: 0.4156 - val_acc: 0.9013\n",
      "Epoch 17/45\n",
      "31424/31424 [==============================] - 3s 104us/step - loss: 0.2318 - acc: 0.9233 - val_loss: 0.4745 - val_acc: 0.8846\n",
      "Epoch 18/45\n",
      "31424/31424 [==============================] - 3s 102us/step - loss: 0.2259 - acc: 0.9256 - val_loss: 0.4343 - val_acc: 0.8920\n",
      "Epoch 19/45\n",
      "31424/31424 [==============================] - 3s 101us/step - loss: 0.2262 - acc: 0.9241 - val_loss: 0.4518 - val_acc: 0.8855\n",
      "Epoch 20/45\n",
      "31424/31424 [==============================] - 3s 103us/step - loss: 0.2270 - acc: 0.9259 - val_loss: 0.4718 - val_acc: 0.8846\n",
      "Epoch 21/45\n",
      "31424/31424 [==============================] - 3s 102us/step - loss: 0.2170 - acc: 0.9283 - val_loss: 0.3820 - val_acc: 0.9025\n",
      "Epoch 22/45\n",
      "31424/31424 [==============================] - 3s 102us/step - loss: 0.2201 - acc: 0.9300 - val_loss: 0.4804 - val_acc: 0.8810\n",
      "Epoch 23/45\n",
      "31424/31424 [==============================] - 3s 102us/step - loss: 0.2285 - acc: 0.9243 - val_loss: 0.4758 - val_acc: 0.8915\n",
      "Epoch 24/45\n",
      "31424/31424 [==============================] - 3s 102us/step - loss: 0.2138 - acc: 0.9307 - val_loss: 0.4767 - val_acc: 0.8768\n",
      "Epoch 25/45\n",
      "31424/31424 [==============================] - 3s 102us/step - loss: 0.2133 - acc: 0.9291 - val_loss: 0.4868 - val_acc: 0.8856\n",
      "Epoch 26/45\n",
      "31424/31424 [==============================] - 3s 102us/step - loss: 0.2062 - acc: 0.9309 - val_loss: 0.4584 - val_acc: 0.8928\n",
      "Epoch 27/45\n",
      "31424/31424 [==============================] - 3s 103us/step - loss: 0.2071 - acc: 0.9329 - val_loss: 0.4101 - val_acc: 0.9040\n",
      "Epoch 28/45\n",
      "31424/31424 [==============================] - 3s 102us/step - loss: 0.1999 - acc: 0.9346 - val_loss: 0.4831 - val_acc: 0.8818\n",
      "Epoch 29/45\n",
      "31424/31424 [==============================] - 3s 101us/step - loss: 0.2166 - acc: 0.9312 - val_loss: 0.4648 - val_acc: 0.8874\n",
      "Epoch 30/45\n",
      "31424/31424 [==============================] - 3s 102us/step - loss: 0.2017 - acc: 0.9348 - val_loss: 0.4468 - val_acc: 0.8961\n",
      "Epoch 31/45\n",
      "31424/31424 [==============================] - 3s 101us/step - loss: 0.2007 - acc: 0.9349 - val_loss: 0.4592 - val_acc: 0.8930\n",
      "Epoch 32/45\n",
      "31424/31424 [==============================] - 3s 101us/step - loss: 0.1982 - acc: 0.9339 - val_loss: 0.5208 - val_acc: 0.8921\n",
      "Epoch 33/45\n",
      "31424/31424 [==============================] - 3s 101us/step - loss: 0.1933 - acc: 0.9362 - val_loss: 0.4861 - val_acc: 0.8889\n",
      "Epoch 34/45\n",
      "31424/31424 [==============================] - 3s 100us/step - loss: 0.1887 - acc: 0.9381 - val_loss: 0.5124 - val_acc: 0.8890\n",
      "Epoch 35/45\n",
      "31424/31424 [==============================] - 3s 102us/step - loss: 0.1821 - acc: 0.9400 - val_loss: 0.4513 - val_acc: 0.8872\n",
      "Epoch 36/45\n",
      "31424/31424 [==============================] - 3s 102us/step - loss: 0.1884 - acc: 0.9371 - val_loss: 0.4709 - val_acc: 0.8888\n",
      "Epoch 37/45\n",
      "31424/31424 [==============================] - 3s 102us/step - loss: 0.1857 - acc: 0.9398 - val_loss: 0.4901 - val_acc: 0.8960\n",
      "Epoch 38/45\n",
      "31424/31424 [==============================] - 3s 100us/step - loss: 0.1861 - acc: 0.9383 - val_loss: 0.4896 - val_acc: 0.8876\n",
      "Epoch 39/45\n",
      "31424/31424 [==============================] - 3s 102us/step - loss: 0.1881 - acc: 0.9391 - val_loss: 0.6080 - val_acc: 0.8635\n",
      "Epoch 40/45\n",
      "31424/31424 [==============================] - 3s 101us/step - loss: 0.1911 - acc: 0.9398 - val_loss: 0.5383 - val_acc: 0.8847\n",
      "Epoch 41/45\n",
      "31424/31424 [==============================] - 3s 101us/step - loss: 0.1751 - acc: 0.9406 - val_loss: 0.5572 - val_acc: 0.8754\n",
      "Epoch 42/45\n",
      "31424/31424 [==============================] - 3s 102us/step - loss: 0.1803 - acc: 0.9420 - val_loss: 0.5294 - val_acc: 0.8859\n",
      "Epoch 43/45\n",
      "31424/31424 [==============================] - 3s 101us/step - loss: 0.1742 - acc: 0.9420 - val_loss: 0.4958 - val_acc: 0.8888\n",
      "Epoch 44/45\n",
      "31424/31424 [==============================] - 3s 102us/step - loss: 0.1855 - acc: 0.9399 - val_loss: 0.5079 - val_acc: 0.8769\n",
      "Epoch 45/45\n",
      "31424/31424 [==============================] - 3s 101us/step - loss: 0.1778 - acc: 0.9426 - val_loss: 0.6347 - val_acc: 0.8692\n"
     ]
    },
    {
     "data": {
      "text/plain": [
       "<keras.callbacks.History at 0x2d6ba6b1630>"
      ]
     },
     "execution_count": 23,
     "metadata": {},
     "output_type": "execute_result"
    }
   ],
   "source": [
    "model_unidim = Model1D((10,num_features))\n",
    "\n",
    "opt = Adam(lr=0.01)\n",
    "model_unidim.compile(optimizer = opt, loss = \"categorical_crossentropy\", metrics = [\"accuracy\"])\n",
    "\n",
    "model_unidim.fit(x = cube, y = YOH_train_final, epochs = 45, batch_size = 128, validation_data=(cube_test,YOH_test_final))"
   ]
  },
  {
   "cell_type": "code",
   "execution_count": 24,
   "metadata": {},
   "outputs": [],
   "source": [
    "y_pred = model_unidim.predict(cube_test) # predictions expressed in terms of probabilities\n",
    "y_pred_hard = np.argmax(y_pred, axis=1) # \"hard\" predictions inferred from previous max probability\n",
    "YOH_pred = onehot_encoder.fit_transform(y_pred_hard.reshape(-1, 1)) # one hot encoded to male it consistent\n",
    "\n",
    "#print(\"y_pred:\\n\", y_pred)\n",
    "#print(\"\\ny_pred_hard:\\n\", y_pred_hard)\n",
    "#print(\"\\nYOH_pred:\\n\", YOH_pred)"
   ]
  },
  {
   "cell_type": "code",
   "execution_count": 25,
   "metadata": {},
   "outputs": [],
   "source": [
    "def AUC(y_true, y_pred):\n",
    "    fpr = dict()\n",
    "    tpr = dict()\n",
    "    roc_auc = dict()\n",
    "    for i in range(classes):\n",
    "        fpr[i], tpr[i], _ = roc_curve(y_true[:, i], y_pred[:, i])\n",
    "        roc_auc[i] = auc(fpr[i], tpr[i])\n",
    "\n",
    "    return roc_auc\n",
    "\n",
    "def plot_confusion_matrix(cm, classes,\n",
    "                          normalize=False,\n",
    "                          title='Confusion matrix',\n",
    "                          cmap=plt.cm.Blues):\n",
    "    \"\"\"\n",
    "    This function prints and plots the confusion matrix.\n",
    "    Normalization can be applied by setting `normalize=True`.\n",
    "    \"\"\"\n",
    "    if normalize:\n",
    "        cm = cm.astype('float') / cm.sum(axis=1)[:, np.newaxis]\n",
    "\n",
    "    plt.imshow(cm, interpolation='nearest', cmap=cmap)\n",
    "    plt.title(title)\n",
    "    plt.colorbar()\n",
    "    tick_marks = np.arange(len(classes))\n",
    "    plt.xticks(tick_marks, classes, rotation=45)\n",
    "    plt.yticks(tick_marks, classes)\n",
    "\n",
    "    fmt = '.2f' if normalize else 'd'\n",
    "    thresh = cm.max() / 2.\n",
    "    for i, j in itertools.product(range(cm.shape[0]), range(cm.shape[1])):\n",
    "        plt.text(j, i, format(cm[i, j], fmt),\n",
    "                 horizontalalignment=\"center\",\n",
    "                 color=\"white\" if cm[i, j] > thresh else \"black\")\n",
    "\n",
    "    plt.tight_layout()\n",
    "    plt.ylabel('True label')\n",
    "    plt.xlabel('Predicted label')"
   ]
  },
  {
   "cell_type": "code",
   "execution_count": 26,
   "metadata": {},
   "outputs": [
    {
     "name": "stdout",
     "output_type": "stream",
     "text": [
      "F1-measure:  0.870349862258498\n",
      "AUC w.r. to each class:  {0: 0.8561127135336922, 1: 0.9068713501351955, 2: 0.8865161189816587, 3: 0.9878821062644846, 4: 0.9211673027212713}\n"
     ]
    },
    {
     "data": {
      "image/png": "[encoded data removed]",
      "text/plain": [
       "<Figure size 432x288 with 2 Axes>"
      ]
     },
     "metadata": {},
     "output_type": "display_data"
    }
   ],
   "source": [
    "print(\"F1-measure: \", f1_score(YOH_test_final, YOH_pred, average='weighted'))\n",
    "print(\"AUC w.r. to each class: \", AUC(YOH_test_final, YOH_pred))\n",
    "\n",
    "# Compute and plot confusion matrix\n",
    "y_test_hard = np.argmax(YOH_test_final, axis=1) #reverse the one-ot encoder procedure\n",
    "cnf_matrix = confusion_matrix(y_test_hard, y_pred_hard)\n",
    "np.set_printoptions(precision=2)\n",
    "\n",
    "plt.figure()\n",
    "plot_confusion_matrix(cnf_matrix, classes=[1,2,4,5],\n",
    "                      title='Confusion matrix, without normalization')"
   ]
  },
  {
   "cell_type": "code",
   "execution_count": null,
   "metadata": {},
   "outputs": [],
   "source": [
    "def Model2D(input_shape):\n",
    "    \"\"\" \n",
    "    Arguments:\n",
    "    input_shape -- shape of the images of the dataset\n",
    "\n",
    "    Returns: \n",
    "    model -- a Model() instance in Keras\n",
    "    \"\"\"\n",
    "    \n",
    "    model = Sequential([Conv2D(filters = 18,\n",
    "                                kernel_size=(5,5),\n",
    "                                strides=(1,3),\n",
    "                                padding='same',\n",
    "                                input_shape = input_shape),\n",
    "                        BatchNormalization(),\n",
    "                        Activation('relu'),\n",
    "                        MaxPooling2D(pool_size=(2,2),\n",
    "                          strides=2,\n",
    "                          padding='same'),\n",
    "                        Flatten(),\n",
    "                        Dense(64, kernel_regularizer=regularizers.l2(0.01)),\n",
    "                        Activation('relu'),\n",
    "                        Dropout(0.4),\n",
    "                        Dense(classes),\n",
    "                        Activation('softmax')])\n",
    "    \n",
    "    return model"
   ]
  },
  {
   "cell_type": "code",
   "execution_count": null,
   "metadata": {},
   "outputs": [],
   "source": [
    "model_bidim = Model2D((1,10,113))\n",
    "opt2 = Adam(lr=0.01)\n",
    "model_bidim.compile(optimizer = opt2, loss = \"categorical_crossentropy\", metrics = [\"accuracy\"])\n",
    "\n",
    "# need to reshape in order to fit to the new 2D model\n",
    "X_train = cube.reshape(cube.shape[0], 1, 10, 113)\n",
    "X_test = cube_test.reshape(cube_test.shape[0], 1, 10, 113)\n",
    "\n",
    "model_bidim.fit(x = X_train, y = YOH_train_final, epochs = 5, batch_size = 128, validation_data=(X_test,YOH_test_final))"
   ]
  },
  {
   "cell_type": "code",
   "execution_count": null,
   "metadata": {},
   "outputs": [],
   "source": [
    "y_pred = model_bidim.predict(X_test)\n",
    "y_pred_hard = np.argmax(y_pred, axis=1)\n",
    "YOH_pred = onehot_encoder.fit_transform(y_pred_hard.reshape(-1, 1))\n",
    "\n",
    "#print(\"y_pred:\\n\", y_pred)\n",
    "#print(\"\\ny_pred_hard:\\n\", y_pred_hard)\n",
    "#print(\"\\nYOH_pred:\\n\", YOH_pred)\n",
    "\n",
    "print(\"F1-measure: \", f1_score(YOH_test_final, YOH_pred, average='weighted'))\n",
    "print(\"AUC w.r. to each class: \", AUC(YOH_test_final, YOH_pred))\n",
    "\n",
    "y_test_hard = np.argmax(YOH_test_final, axis=1)\n",
    "cnf_matrix = confusion_matrix(y_test_hard, y_pred_hard)\n",
    "np.set_printoptions(precision=2)\n",
    "\n",
    "# Plot non-normalized confusion matrix\n",
    "plt.figure()\n",
    "plot_confusion_matrix(cnf_matrix, classes=[1,2,4,5],\n",
    "                      title='Confusion matrix, without normalization')"
   ]
  },
  {
   "cell_type": "markdown",
   "metadata": {},
   "source": [
    "# Still Task A, but on a reduced dataset"
   ]
  },
  {
   "cell_type": "code",
   "execution_count": null,
   "metadata": {},
   "outputs": [],
   "source": [
    "x1 = scipy.io.loadmat(\"prep/acc_magni/S1-ADL1\", mdict={'reduced_features':'features', 'labels':'labels'})\n",
    "x2 = scipy.io.loadmat(\"prep/acc_magni/S1-ADL2\", mdict={'reduced_features':'features', 'labels':'labels'})\n",
    "x3 = scipy.io.loadmat(\"prep/acc_magni/S1-ADL3\", mdict={'reduced_features':'features', 'labels':'labels'})\n",
    "x4 = scipy.io.loadmat(\"prep/acc_magni/S1-ADL4\", mdict={'reduced_features':'features', 'labels':'labels'})\n",
    "x5 = scipy.io.loadmat(\"prep/acc_magni/S1-ADL5\", mdict={'reduced_features':'features', 'labels':'labels'})\n",
    "x6 = scipy.io.loadmat(\"prep/acc_magni/S1-Drill\", mdict={'reduced_features':'features', 'labels':'labels'})\n",
    "\n",
    "print(\"Session shapes:\\n\")\n",
    "print(\"ADL1:  \", x1['reduced_features'].shape)\n",
    "print(\"ADL2:  \", x2['reduced_features'].shape)\n",
    "print(\"ADL3:  \", x3['reduced_features'].shape)\n",
    "print(\"ADL4:  \", x4['reduced_features'].shape)\n",
    "print(\"ADL5:  \", x5['reduced_features'].shape)\n",
    "print(\"Drill: \", x6['reduced_features'].shape)\n",
    "print(\"\\nTraining set: ADL1 + ADL2 + ADL3 + Drill = \", x1['reduced_features'].shape[0] + x2['reduced_features'].shape[0] + x3['reduced_features'].shape[0] + x6['reduced_features'].shape[0])\n",
    "print(\"Test set: ADL4 + ADL5 = \", x4['reduced_features'].shape[0] + x5['reduced_features'].shape[0])"
   ]
  },
  {
   "cell_type": "code",
   "execution_count": null,
   "metadata": {},
   "outputs": [],
   "source": [
    "# features\n",
    "X_train = np.concatenate((x1['reduced_features'],x2['reduced_features'],x3['reduced_features'],x6['reduced_features']),axis=0)\n",
    "X_test = np.concatenate((x4['reduced_features'],x5['reduced_features']),axis=0)\n",
    "\n",
    "# labels (locomotion activity)\n",
    "Y_train = np.concatenate((x1['labels'][:,0],x2['labels'][:,0],x3['labels'][:,0],x6['labels'][:,0]),axis=0) # here we take just the first column because we want to fulfill the first task\n",
    "Y_test = np.concatenate((x4['labels'][:,0],x5['labels'][:,0]))\n",
    "#Y_test = np.concatenate((x4['labels'][:,0],x5['labels'][:,0]),axis=0)\n",
    "\n",
    "# Initial decision to overcome the problem of entire missing columns\n",
    "X_train = np.nan_to_num(X_train)\n",
    "X_test = np.nan_to_num(X_test)\n",
    "\n",
    "# fatures normalization\n",
    "scaler = StandardScaler().fit(X_train)\n",
    "X_train = scaler.transform(X_train)\n",
    "X_test = scaler.transform(X_test)\n",
    "\n",
    "print(\"X_train shape: \", X_train.shape)\n",
    "print(\"X_test shape: \", X_test.shape)"
   ]
  },
  {
   "cell_type": "code",
   "execution_count": null,
   "metadata": {},
   "outputs": [],
   "source": [
    "label_max = np.max(Y_train)\n",
    "print(\"The highest label value is: \", label_max)\n",
    "onehot_encoder = OneHotEncoder(sparse=False)\n",
    "YOH_train = onehot_encoder.fit_transform(Y_train.reshape(-1, 1))\n",
    "YOH_test = onehot_encoder.fit_transform(Y_test.reshape(-1, 1))\n",
    "\n",
    "print(\"YOH_train shape: \", YOH_train.shape)\n",
    "print(\"YOH_test shape: \", YOH_test.shape)\n",
    "\n",
    "window_size = 10\n",
    "stride = int(window_size / 2)\n",
    "num_features = X_train.shape[1]\n",
    "samples, classes = YOH_train.shape\n",
    "print(\"Number of samples: \", samples, \"\\nNumber of classes: \", classes)\n",
    "\n",
    "windows = int(samples // stride) - 1\n",
    "print(\"Number of windows: \", windows)\n",
    "\n",
    "num_features_test = X_test.shape[1]\n",
    "samples_test, classes_test = YOH_test.shape\n",
    "print(\"Number of samples: \", samples_test, \"\\nNumber of classes: \", classes_test)\n",
    "\n",
    "windows_test = int(samples_test // stride) - 1\n",
    "print(\"Number of windows: \", windows_test)"
   ]
  },
  {
   "cell_type": "code",
   "execution_count": null,
   "metadata": {},
   "outputs": [],
   "source": [
    "cube = np.zeros([windows, window_size, num_features])\n",
    "cube.shape\n",
    "\n",
    "cube_test = np.zeros([windows_test, window_size, num_features])\n",
    "cube_test.shape\n",
    "\n",
    "lab_cum = np.zeros([windows])\n",
    "lab_cum.shape\n",
    "\n",
    "lab_cum_test = np.zeros([windows_test])\n",
    "lab_cum_test.shape\n",
    "\n",
    "for w in range(windows):\n",
    "    index = int(w * stride)\n",
    "    cube[w,:,:] = X_train[index:index+window_size, :].reshape((window_size,num_features))\n",
    "    l = YOH_train[index:index+window_size,:] # shape 50 x 5\n",
    "    #print(np.sum(l, axis=0),np.argmax(np.sum(l, axis=0)))\n",
    "    lab_cum[w] = np.argmax(np.sum(l, axis=0))\n",
    "\n",
    "for w in range(windows_test):\n",
    "    index = int(w * stride)\n",
    "    cube_test[w,:,:] = X_test[index:index+window_size, :].reshape((window_size,num_features))\n",
    "    l = YOH_test[index:index+window_size,:] # shape 50 x 5\n",
    "    #print(np.sum(l, axis=0),np.argmax(np.sum(l, axis=0)))\n",
    "    lab_cum_test[w] = np.argmax(np.sum(l, axis=0))\n",
    "\n",
    "#print('cumulative labels: ', lab_cum.shape, type(lab_cum), \"\\n\", lab_cum)\n",
    "YOH_train_final = onehot_encoder.fit_transform(lab_cum.reshape(-1, 1))\n",
    "YOH_test_final = onehot_encoder.fit_transform(lab_cum_test.reshape(-1, 1))\n",
    "\n",
    "#print(YOH_train_final)\n",
    "#print(YOH_test_final)"
   ]
  },
  {
   "cell_type": "markdown",
   "metadata": {},
   "source": [
    "# Test new dataset performances with 1D CNN"
   ]
  },
  {
   "cell_type": "code",
   "execution_count": null,
   "metadata": {},
   "outputs": [],
   "source": [
    "model_new1D = Model1D((10,58))\n",
    "\n",
    "opt = Adam(lr=0.01)\n",
    "model_new1D.compile(optimizer = opt, loss = \"categorical_crossentropy\", metrics = [\"accuracy\"])\n",
    "\n",
    "model_new1D.fit(x = cube, y = YOH_train_final, epochs = 10, batch_size = 64, validation_data=(cube_test,YOH_test_final))"
   ]
  },
  {
   "cell_type": "code",
   "execution_count": null,
   "metadata": {},
   "outputs": [],
   "source": [
    "print(\"F1-measure: \", f1_score(YOH_test_final, YOH_pred, average='weighted'))\n",
    "print(\"AUC w.r. to each class: \", AUC(YOH_test_final, YOH_pred))\n",
    "\n",
    "# Compute and plot confusion matrix\n",
    "y_test_hard = np.argmax(YOH_test_final, axis=1) #reverse the one-ot encoder procedure\n",
    "cnf_matrix = confusion_matrix(y_test_hard, y_pred_hard)\n",
    "np.set_printoptions(precision=2)\n",
    "\n",
    "plt.figure()\n",
    "plot_confusion_matrix(cnf_matrix, classes=[1,2,4,5],\n",
    "                      title='Confusion matrix, without normalization')"
   ]
  },
  {
   "cell_type": "markdown",
   "metadata": {},
   "source": [
    "# Test new dataset performances with 2D CNN"
   ]
  },
  {
   "cell_type": "code",
   "execution_count": null,
   "metadata": {},
   "outputs": [],
   "source": [
    "model_new2D = Model2D((1,10,58))\n",
    "opt4 = Adam(lr=0.01)\n",
    "model_new2D.compile(optimizer = opt4, loss = \"categorical_crossentropy\", metrics = [\"accuracy\"])\n",
    "\n",
    "# need to reshape in order to fit to the new 2D model\n",
    "X_train = cube.reshape(cube.shape[0], 1, 10, 58)\n",
    "X_test = cube_test.reshape(cube_test.shape[0], 1, 10, 58)\n",
    "\n",
    "model_new2D.fit(x = X_train, y = YOH_train_final, epochs = 5, batch_size = 128, validation_data=(X_test,YOH_test_final))\n",
    "\n",
    "y_pred = model_new2D.predict(X_test)\n",
    "y_pred_hard = np.argmax(y_pred, axis=1)\n",
    "YOH_pred = onehot_encoder.fit_transform(y_pred_hard.reshape(-1, 1))\n",
    "\n",
    "#print(\"y_pred:\\n\", y_pred)\n",
    "#print(\"\\ny_pred_hard:\\n\", y_pred_hard)\n",
    "#print(\"\\nYOH_pred:\\n\", YOH_pred)\n",
    "\n",
    "print(\"F1-measure: \", f1_score(YOH_test_final, YOH_pred, average='weighted'))\n",
    "print(\"AUC w.r. to each class: \", AUC(YOH_test_final, YOH_pred))\n",
    "\n",
    "y_test_hard = np.argmax(YOH_test_final, axis=1)\n",
    "cnf_matrix = confusion_matrix(y_test_hard, y_pred_hard)\n",
    "np.set_printoptions(precision=2)\n",
    "\n",
    "# Plot non-normalized confusion matrix\n",
    "plt.figure()\n",
    "plot_confusion_matrix(cnf_matrix, classes=[1,2,4,5],\n",
    "                      title='Confusion matrix, without normalization')"
   ]
  },
  {
   "cell_type": "code",
   "execution_count": null,
   "metadata": {},
   "outputs": [],
   "source": []
  }
 ],
 "metadata": {
  "kernelspec": {
   "display_name": "Python 3",
   "language": "python",
   "name": "python3"
  },
  "language_info": {
   "codemirror_mode": {
    "name": "ipython",
    "version": 3
   },
   "file_extension": ".py",
   "mimetype": "text/x-python",
   "name": "python",
   "nbconvert_exporter": "python",
   "pygments_lexer": "ipython3",
   "version": "3.6.4"
  }
 },
 "nbformat": 4,
 "nbformat_minor": 2
}
