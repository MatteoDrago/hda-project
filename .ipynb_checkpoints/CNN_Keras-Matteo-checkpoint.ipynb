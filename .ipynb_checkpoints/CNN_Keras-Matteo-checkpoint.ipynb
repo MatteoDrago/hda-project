{
 "cells": [
  {
   "cell_type": "markdown",
   "metadata": {},
   "source": [
    "# HDA - Project 3: TASK A\n",
    "## Rows labelled with category 0 has been dropped\n",
    "### In this context, first we dropped the rows and then missing values are interpolated using splines\n",
    "Importing all modules that we need for our elaboration"
   ]
  },
  {
   "cell_type": "code",
   "execution_count": 1,
   "metadata": {},
   "outputs": [
    {
     "name": "stderr",
     "output_type": "stream",
     "text": [
      "Using TensorFlow backend.\n"
     ]
    }
   ],
   "source": [
    "import numpy as np\n",
    "import scipy.io\n",
    "import matplotlib.pyplot as plt\n",
    "import itertools\n",
    "\n",
    "from sklearn.preprocessing import OneHotEncoder, StandardScaler\n",
    "from sklearn.metrics import f1_score, roc_curve, auc, confusion_matrix\n",
    "\n",
    "import warnings\n",
    "with warnings.catch_warnings():\n",
    "    warnings.filterwarnings(\"ignore\",category=FutureWarning)\n",
    "    \n",
    "    from keras import regularizers\n",
    "    from keras.layers import Conv1D, Conv2D, BatchNormalization, Dropout, LeakyReLU, Flatten, Activation, Dense, MaxPooling1D, MaxPooling2D\n",
    "    from keras.models import Model, Sequential\n",
    "    from keras.optimizers import Adam\n",
    "    import keras.backend as K\n",
    "    \n",
    "K.set_image_data_format('channels_last')\n",
    "\n",
    "%matplotlib inline"
   ]
  },
  {
   "cell_type": "markdown",
   "metadata": {},
   "source": [
    "## Preprocessing Section\n",
    "Importing data sessions for subject 1"
   ]
  },
  {
   "cell_type": "code",
   "execution_count": 2,
   "metadata": {},
   "outputs": [],
   "source": [
    "x1 = scipy.io.loadmat(\"prep/A_nonzero/S1-ADL1\", mdict={'filled_features':'features', 'labels':'labels'})\n",
    "x2 = scipy.io.loadmat(\"prep/A_nonzero/S1-ADL2\", mdict={'filled_features':'features', 'labels':'labels'})\n",
    "x3 = scipy.io.loadmat(\"prep/A_nonzero/S1-ADL3\", mdict={'filled_features':'features', 'labels':'labels'})\n",
    "x4 = scipy.io.loadmat(\"prep/A_nonzero/S1-ADL4\", mdict={'filled_features':'features', 'labels':'labels'})\n",
    "x5 = scipy.io.loadmat(\"prep/A_nonzero/S1-ADL5\", mdict={'filled_features':'features', 'labels':'labels'})\n",
    "x6 = scipy.io.loadmat(\"prep/A_nonzero/S1-Drill\", mdict={'filled_features':'features', 'labels':'labels'})"
   ]
  },
  {
   "cell_type": "markdown",
   "metadata": {},
   "source": [
    "Check the number of recorded samples for each session"
   ]
  },
  {
   "cell_type": "code",
   "execution_count": 3,
   "metadata": {},
   "outputs": [
    {
     "name": "stdout",
     "output_type": "stream",
     "text": [
      "Session shapes:\n",
      "\n",
      "ADL1:   (37507, 113)\n",
      "ADL2:   (24510, 113)\n",
      "ADL3:   (25305, 113)\n",
      "ADL4:   (24851, 113)\n",
      "ADL5:   (22440, 113)\n",
      "Drill:  (52105, 113)\n",
      "\n",
      "Training set: ADL1 + ADL2 + ADL3 + Drill =  139427\n",
      "Test set: ADL4 + ADL5 =  47291\n"
     ]
    }
   ],
   "source": [
    "print(\"Session shapes:\\n\")\n",
    "print(\"ADL1:  \", x1['filled_features'].shape)\n",
    "print(\"ADL2:  \", x2['filled_features'].shape)\n",
    "print(\"ADL3:  \", x3['filled_features'].shape)\n",
    "print(\"ADL4:  \", x4['filled_features'].shape)\n",
    "print(\"ADL5:  \", x5['filled_features'].shape)\n",
    "print(\"Drill: \", x6['filled_features'].shape)\n",
    "print(\"\\nTraining set: ADL1 + ADL2 + ADL3 + Drill = \", x1['filled_features'].shape[0] + x2['filled_features'].shape[0] + x3['filled_features'].shape[0] + x6['filled_features'].shape[0])\n",
    "print(\"Test set: ADL4 + ADL5 = \", x4['filled_features'].shape[0] + x5['filled_features'].shape[0])"
   ]
  },
  {
   "cell_type": "markdown",
   "metadata": {},
   "source": [
    "We split the data into train and test set."
   ]
  },
  {
   "cell_type": "code",
   "execution_count": 4,
   "metadata": {},
   "outputs": [
    {
     "name": "stdout",
     "output_type": "stream",
     "text": [
      "X_train shape:  (139427, 113)\n",
      "X_test shape:  (47291, 113)\n"
     ]
    }
   ],
   "source": [
    "# features\n",
    "X_train = np.concatenate((x1['filled_features'],x2['filled_features'],x3['filled_features'],x6['filled_features']),axis=0)\n",
    "X_test = np.concatenate((x4['filled_features'],x5['filled_features']),axis=0)\n",
    "\n",
    "# labels (locomotion activity)\n",
    "Y_train = np.concatenate((x1['labels'][:,0],x2['labels'][:,0],x3['labels'][:,0],x6['labels'][:,0]),axis=0) # here we take just the first column because we want to fulfill the first task\n",
    "Y_test = np.concatenate((x4['labels'][:,0],x5['labels'][:,0]))\n",
    "#Y_test = np.concatenate((x4['labels'][:,0],x5['labels'][:,0]),axis=0)\n",
    "\n",
    "# Initial decision to overcome the problem of entire missing columns\n",
    "X_train = np.nan_to_num(X_train)\n",
    "X_test = np.nan_to_num(X_test)\n",
    "\n",
    "print(\"X_train shape: \", X_train.shape)\n",
    "print(\"X_test shape: \", X_test.shape)\n"
   ]
  },
  {
   "cell_type": "markdown",
   "metadata": {},
   "source": [
    "The dataset needs to be normalized in order to improve performances."
   ]
  },
  {
   "cell_type": "code",
   "execution_count": 5,
   "metadata": {},
   "outputs": [],
   "source": [
    "# fatures normalization\n",
    "scaler = StandardScaler().fit(X_train)\n",
    "X_train =scaler.transform(X_train)\n",
    "X_test = scaler.transform(X_test)"
   ]
  },
  {
   "cell_type": "markdown",
   "metadata": {},
   "source": [
    "We decided to use a onehot encoder for the labels"
   ]
  },
  {
   "cell_type": "code",
   "execution_count": 6,
   "metadata": {},
   "outputs": [
    {
     "name": "stdout",
     "output_type": "stream",
     "text": [
      "The highest label value is:  5\n",
      "YOH_train shape:  (139427, 4)\n",
      "YOH_test shape:  (47291, 4)\n"
     ]
    }
   ],
   "source": [
    "label_max = np.max(Y_train)\n",
    "print(\"The highest label value is: \", label_max)\n",
    "onehot_encoder = OneHotEncoder(sparse=False)\n",
    "YOH_train = onehot_encoder.fit_transform(Y_train.reshape(-1, 1))\n",
    "YOH_test = onehot_encoder.fit_transform(Y_test.reshape(-1, 1))\n",
    "\n",
    "print(\"YOH_train shape: \", YOH_train.shape)\n",
    "print(\"YOH_test shape: \", YOH_test.shape)"
   ]
  },
  {
   "cell_type": "code",
   "execution_count": 7,
   "metadata": {},
   "outputs": [
    {
     "data": {
      "text/plain": [
       "array([1, 1, 1, ..., 2, 2, 2])"
      ]
     },
     "execution_count": 7,
     "metadata": {},
     "output_type": "execute_result"
    }
   ],
   "source": [
    "Y_train"
   ]
  },
  {
   "cell_type": "code",
   "execution_count": 24,
   "metadata": {},
   "outputs": [
    {
     "name": "stdout",
     "output_type": "stream",
     "text": [
      "Number of samples:  139427 \n",
      "Number of classes:  4\n",
      "Number of windows:  9294\n"
     ]
    }
   ],
   "source": [
    "window_size = 15\n",
    "stride = int(window_size)\n",
    "num_features = X_train.shape[1]\n",
    "samples, classes = YOH_train.shape\n",
    "print(\"Number of samples: \", samples, \"\\nNumber of classes: \", classes)\n",
    "\n",
    "windows = int(samples // stride) - 1\n",
    "print(\"Number of windows: \", windows)"
   ]
  },
  {
   "cell_type": "code",
   "execution_count": 25,
   "metadata": {},
   "outputs": [
    {
     "name": "stdout",
     "output_type": "stream",
     "text": [
      "Number of samples:  47291 \n",
      "Number of classes:  4\n",
      "Number of windows:  3151\n"
     ]
    }
   ],
   "source": [
    "num_features_test = X_test.shape[1]\n",
    "samples_test, classes_test = YOH_test.shape\n",
    "print(\"Number of samples: \", samples_test, \"\\nNumber of classes: \", classes_test)\n",
    "\n",
    "windows_test = int(samples_test // stride) - 1\n",
    "print(\"Number of windows: \", windows_test)"
   ]
  },
  {
   "cell_type": "code",
   "execution_count": 26,
   "metadata": {},
   "outputs": [
    {
     "data": {
      "text/plain": [
       "(9294, 15, 113)"
      ]
     },
     "execution_count": 26,
     "metadata": {},
     "output_type": "execute_result"
    }
   ],
   "source": [
    "cube = np.zeros([windows, window_size, num_features])\n",
    "cube.shape"
   ]
  },
  {
   "cell_type": "code",
   "execution_count": 27,
   "metadata": {},
   "outputs": [
    {
     "data": {
      "text/plain": [
       "(3151, 15, 113)"
      ]
     },
     "execution_count": 27,
     "metadata": {},
     "output_type": "execute_result"
    }
   ],
   "source": [
    "cube_test = np.zeros([windows_test, window_size, num_features])\n",
    "cube_test.shape"
   ]
  },
  {
   "cell_type": "code",
   "execution_count": 28,
   "metadata": {},
   "outputs": [
    {
     "data": {
      "text/plain": [
       "(9294,)"
      ]
     },
     "execution_count": 28,
     "metadata": {},
     "output_type": "execute_result"
    }
   ],
   "source": [
    "lab_cum = np.zeros([windows])\n",
    "lab_cum.shape"
   ]
  },
  {
   "cell_type": "code",
   "execution_count": 29,
   "metadata": {},
   "outputs": [
    {
     "data": {
      "text/plain": [
       "(3151,)"
      ]
     },
     "execution_count": 29,
     "metadata": {},
     "output_type": "execute_result"
    }
   ],
   "source": [
    "lab_cum_test = np.zeros([windows_test])\n",
    "lab_cum_test.shape"
   ]
  },
  {
   "cell_type": "code",
   "execution_count": 30,
   "metadata": {},
   "outputs": [],
   "source": [
    "for w in range(windows):\n",
    "    index = int(w * stride)\n",
    "    cube[w,:,:] = X_train[index:index+window_size, :].reshape((window_size,num_features))\n",
    "    l = YOH_train[index:index+window_size,:] # shape 50 x 5\n",
    "    #print(np.sum(l, axis=0),np.argmax(np.sum(l, axis=0)))\n",
    "    lab_cum[w] = np.argmax(np.sum(l, axis=0))"
   ]
  },
  {
   "cell_type": "code",
   "execution_count": 31,
   "metadata": {},
   "outputs": [],
   "source": [
    "for w in range(windows_test):\n",
    "    index = int(w * stride)\n",
    "    cube_test[w,:,:] = X_test[index:index+window_size, :].reshape((window_size,num_features))\n",
    "    l = YOH_test[index:index+window_size,:] # shape 50 x 5\n",
    "    #print(np.sum(l, axis=0),np.argmax(np.sum(l, axis=0)))\n",
    "    lab_cum_test[w] = np.argmax(np.sum(l, axis=0))"
   ]
  },
  {
   "cell_type": "code",
   "execution_count": 32,
   "metadata": {},
   "outputs": [
    {
     "name": "stdout",
     "output_type": "stream",
     "text": [
      "[[1. 0. 0. 0.]\n",
      " [1. 0. 0. 0.]\n",
      " [1. 0. 0. 0.]\n",
      " ...\n",
      " [0. 1. 0. 0.]\n",
      " [0. 1. 0. 0.]\n",
      " [0. 1. 0. 0.]]\n"
     ]
    }
   ],
   "source": [
    "#print('cumulative labels: ', lab_cum.shape, type(lab_cum), \"\\n\", lab_cum)\n",
    "YOH_train_final = onehot_encoder.fit_transform(lab_cum.reshape(-1, 1))\n",
    "print(YOH_train_final)"
   ]
  },
  {
   "cell_type": "code",
   "execution_count": 33,
   "metadata": {},
   "outputs": [
    {
     "name": "stdout",
     "output_type": "stream",
     "text": [
      "[[1. 0. 0. 0.]\n",
      " [1. 0. 0. 0.]\n",
      " [0. 1. 0. 0.]\n",
      " ...\n",
      " [0. 0. 0. 1.]\n",
      " [0. 0. 0. 1.]\n",
      " [0. 1. 0. 0.]]\n"
     ]
    }
   ],
   "source": [
    "YOH_test_final = onehot_encoder.fit_transform(lab_cum_test.reshape(-1, 1))\n",
    "print(YOH_test_final)"
   ]
  },
  {
   "cell_type": "markdown",
   "metadata": {},
   "source": [
    "# 1D Convolutional Neural Network\n",
    "\n",
    "Once the preprocessing has finished, we can proceed with the definition of the neural network"
   ]
  },
  {
   "cell_type": "code",
   "execution_count": 34,
   "metadata": {},
   "outputs": [],
   "source": [
    "def Model1D(input_shape):\n",
    "    \n",
    "    \"\"\" \n",
    "    Arguments:\n",
    "    input_shape -- shape of the images of the dataset\n",
    "\n",
    "    Returns: \n",
    "    model -- a Model() instance in Keras\n",
    "    \"\"\"\n",
    "    \n",
    "    model = Sequential()\n",
    "    model.add(Conv1D(filters = 18,\n",
    "                    kernel_size=5,\n",
    "                    strides=1,\n",
    "                    padding='same',\n",
    "                    input_shape = input_shape))\n",
    "    model.add(BatchNormalization())\n",
    "    model.add(Activation('relu'))\n",
    "    model.add(MaxPooling1D(pool_size=2,\n",
    "                          strides=2,\n",
    "                          padding='same'))\n",
    "    \n",
    "    model.add(Conv1D(filters = 36,\n",
    "                    kernel_size=7,\n",
    "                    strides=1,\n",
    "                    padding='same'))\n",
    "    model.add(BatchNormalization())\n",
    "    model.add(Activation('relu'))\n",
    "    model.add(MaxPooling1D(pool_size=2,\n",
    "                          strides=2,\n",
    "                          padding='same'))\n",
    "    \n",
    "    model.add(Dropout(0.2))\n",
    "    \n",
    "    model.add(Conv1D(filters = 72,\n",
    "                    kernel_size=7,\n",
    "                    strides=1,\n",
    "                    padding='same'))\n",
    "    model.add(BatchNormalization())\n",
    "    model.add(Activation('relu'))\n",
    "    model.add(MaxPooling1D(pool_size=2,\n",
    "                          strides=2,\n",
    "                          padding='same'))\n",
    "    \n",
    "    #model.add(Conv1D(filters = 144,\n",
    "    #                kernel_size=7,\n",
    "    #                strides=1,\n",
    "    #                padding='same'))\n",
    "    #model.add(BatchNormalization())\n",
    "    #model.add(Activation('relu'))\n",
    "    #model.add(MaxPooling1D(pool_size=2,\n",
    "    #                      strides=2,\n",
    "    #                      padding='same'))\n",
    "    \n",
    "    model.add(Flatten())\n",
    "    \n",
    "    model.add(Dense(64, kernel_regularizer=regularizers.l2(0.01)))\n",
    "    model.add(Activation('relu'))\n",
    "    \n",
    "    model.add(Dropout(0.4))\n",
    "\n",
    "    model.add(Dense(classes))\n",
    "    model.add(Activation('softmax'))\n",
    "    \n",
    "    #model.summary()\n",
    "    \n",
    "    return model"
   ]
  },
  {
   "cell_type": "code",
   "execution_count": 36,
   "metadata": {},
   "outputs": [
    {
     "name": "stdout",
     "output_type": "stream",
     "text": [
      "Train on 9294 samples, validate on 3151 samples\n",
      "Epoch 1/5\n",
      "9294/9294 [==============================] - 3s 365us/step - loss: 0.7177 - acc: 0.8275 - val_loss: 0.2730 - val_acc: 0.9169\n",
      "Epoch 2/5\n",
      "9294/9294 [==============================] - 2s 245us/step - loss: 0.3394 - acc: 0.8824 - val_loss: 0.3622 - val_acc: 0.8988\n",
      "Epoch 3/5\n",
      "9294/9294 [==============================] - 2s 244us/step - loss: 0.3083 - acc: 0.8911 - val_loss: 0.2977 - val_acc: 0.9292\n",
      "Epoch 4/5\n",
      "9294/9294 [==============================] - 2s 243us/step - loss: 0.2740 - acc: 0.9038 - val_loss: 0.3232 - val_acc: 0.9191\n",
      "Epoch 5/5\n",
      "9294/9294 [==============================] - 2s 246us/step - loss: 0.2836 - acc: 0.9025 - val_loss: 0.3642 - val_acc: 0.8921\n"
     ]
    },
    {
     "data": {
      "text/plain": [
       "<keras.callbacks.History at 0x2821ba504a8>"
      ]
     },
     "execution_count": 36,
     "metadata": {},
     "output_type": "execute_result"
    }
   ],
   "source": [
    "model_unidim = Model1D((15,113))\n",
    "\n",
    "opt = Adam(lr=0.01)\n",
    "model_unidim.compile(optimizer = opt, loss = \"categorical_crossentropy\", metrics = [\"accuracy\"])\n",
    "\n",
    "model_unidim.fit(x = cube, y = YOH_train_final, epochs = 5, batch_size = 128, validation_data=(cube_test,YOH_test_final))"
   ]
  },
  {
   "cell_type": "code",
   "execution_count": 37,
   "metadata": {},
   "outputs": [],
   "source": [
    "y_pred = model_unidim.predict(cube_test) # predictions expressed in terms of probabilities\n",
    "y_pred_hard = np.argmax(y_pred, axis=1) # \"hard\" predictions inferred from previous max probability\n",
    "YOH_pred = onehot_encoder.fit_transform(y_pred_hard.reshape(-1, 1)) # one hot encoded to male it consistent\n",
    "\n",
    "#print(\"y_pred:\\n\", y_pred)\n",
    "#print(\"\\ny_pred_hard:\\n\", y_pred_hard)\n",
    "#print(\"\\nYOH_pred:\\n\", YOH_pred)"
   ]
  },
  {
   "cell_type": "code",
   "execution_count": 38,
   "metadata": {},
   "outputs": [],
   "source": [
    "def AUC(y_true, y_pred):\n",
    "    fpr = dict()\n",
    "    tpr = dict()\n",
    "    roc_auc = dict()\n",
    "    for i in range(classes):\n",
    "        fpr[i], tpr[i], _ = roc_curve(y_true[:, i], y_pred[:, i])\n",
    "        roc_auc[i] = auc(fpr[i], tpr[i])\n",
    "\n",
    "    return roc_auc\n",
    "\n",
    "def plot_confusion_matrix(cm, classes,\n",
    "                          normalize=False,\n",
    "                          title='Confusion matrix',\n",
    "                          cmap=plt.cm.Blues):\n",
    "    \"\"\"\n",
    "    This function prints and plots the confusion matrix.\n",
    "    Normalization can be applied by setting `normalize=True`.\n",
    "    \"\"\"\n",
    "    if normalize:\n",
    "        cm = cm.astype('float') / cm.sum(axis=1)[:, np.newaxis]\n",
    "\n",
    "    plt.imshow(cm, interpolation='nearest', cmap=cmap)\n",
    "    plt.title(title)\n",
    "    plt.colorbar()\n",
    "    tick_marks = np.arange(len(classes))\n",
    "    plt.xticks(tick_marks, classes, rotation=45)\n",
    "    plt.yticks(tick_marks, classes)\n",
    "\n",
    "    fmt = '.2f' if normalize else 'd'\n",
    "    thresh = cm.max() / 2.\n",
    "    for i, j in itertools.product(range(cm.shape[0]), range(cm.shape[1])):\n",
    "        plt.text(j, i, format(cm[i, j], fmt),\n",
    "                 horizontalalignment=\"center\",\n",
    "                 color=\"white\" if cm[i, j] > thresh else \"black\")\n",
    "\n",
    "    plt.tight_layout()\n",
    "    plt.ylabel('True label')\n",
    "    plt.xlabel('Predicted label')"
   ]
  },
  {
   "cell_type": "code",
   "execution_count": 39,
   "metadata": {},
   "outputs": [
    {
     "name": "stdout",
     "output_type": "stream",
     "text": [
      "F1-measure:  0.8938807222655003\n",
      "AUC w.r. to each class:  {0: 0.8847172102749542, 1: 0.9152923310059039, 2: 0.9954332954367258, 3: 0.9222972972972974}\n"
     ]
    },
    {
     "data": {
      "image/png": "[encoded data removed]",
      "text/plain": [
       "<matplotlib.figure.Figure at 0x282177a4e48>"
      ]
     },
     "metadata": {},
     "output_type": "display_data"
    }
   ],
   "source": [
    "print(\"F1-measure: \", f1_score(YOH_test_final, YOH_pred, average='weighted'))\n",
    "print(\"AUC w.r. to each class: \", AUC(YOH_test_final, YOH_pred))\n",
    "\n",
    "# Compute and plot confusion matrix\n",
    "y_test_hard = np.argmax(YOH_test_final, axis=1) #reverse the one-ot encoder procedure\n",
    "cnf_matrix = confusion_matrix(y_test_hard, y_pred_hard)\n",
    "np.set_printoptions(precision=2)\n",
    "\n",
    "plt.figure()\n",
    "plot_confusion_matrix(cnf_matrix, classes=[1,2,4,5],\n",
    "                      title='Confusion matrix, without normalization')"
   ]
  },
  {
   "cell_type": "code",
   "execution_count": 40,
   "metadata": {},
   "outputs": [],
   "source": [
    "def Model2D(input_shape):\n",
    "    \"\"\" \n",
    "    Arguments:\n",
    "    input_shape -- shape of the images of the dataset\n",
    "\n",
    "    Returns: \n",
    "    model -- a Model() instance in Keras\n",
    "    \"\"\"\n",
    "    \n",
    "    model = Sequential([Conv2D(filters = 18,\n",
    "                                kernel_size=(5,5),\n",
    "                                strides=(1,3),\n",
    "                                padding='same',\n",
    "                                input_shape = input_shape),\n",
    "                        BatchNormalization(),\n",
    "                        Activation('relu'),\n",
    "                        MaxPooling2D(pool_size=(2,2),\n",
    "                          strides=2,\n",
    "                          padding='same'),\n",
    "                        Flatten(),\n",
    "                        Dense(64, kernel_regularizer=regularizers.l2(0.01)),\n",
    "                        Activation('relu'),\n",
    "                        Dropout(0.4),\n",
    "                        Dense(classes),\n",
    "                        Activation('softmax')])\n",
    "    \n",
    "    return model"
   ]
  },
  {
   "cell_type": "code",
   "execution_count": 44,
   "metadata": {},
   "outputs": [
    {
     "name": "stdout",
     "output_type": "stream",
     "text": [
      "Train on 9294 samples, validate on 3151 samples\n",
      "Epoch 1/10\n",
      "9294/9294 [==============================] - 2s 266us/step - loss: 0.6132 - acc: 0.8202 - val_loss: 0.3943 - val_acc: 0.9029\n",
      "Epoch 2/10\n",
      "9294/9294 [==============================] - 2s 201us/step - loss: 0.3339 - acc: 0.8788 - val_loss: 0.3774 - val_acc: 0.8956\n",
      "Epoch 3/10\n",
      "9294/9294 [==============================] - 2s 194us/step - loss: 0.3099 - acc: 0.8880 - val_loss: 0.3361 - val_acc: 0.9257\n",
      "Epoch 4/10\n",
      "9294/9294 [==============================] - 2s 195us/step - loss: 0.2863 - acc: 0.8989 - val_loss: 0.3343 - val_acc: 0.9251\n",
      "Epoch 5/10\n",
      "9294/9294 [==============================] - 2s 195us/step - loss: 0.2828 - acc: 0.9052 - val_loss: 0.3786 - val_acc: 0.9115\n",
      "Epoch 6/10\n",
      "9294/9294 [==============================] - 2s 196us/step - loss: 0.2660 - acc: 0.9075 - val_loss: 0.3224 - val_acc: 0.9311\n",
      "Epoch 7/10\n",
      "9294/9294 [==============================] - 2s 195us/step - loss: 0.2528 - acc: 0.9164 - val_loss: 0.3601 - val_acc: 0.9130\n",
      "Epoch 8/10\n",
      "9294/9294 [==============================] - 2s 197us/step - loss: 0.2407 - acc: 0.9182 - val_loss: 0.3397 - val_acc: 0.9207\n",
      "Epoch 9/10\n",
      "9294/9294 [==============================] - 2s 205us/step - loss: 0.2326 - acc: 0.9266 - val_loss: 0.3201 - val_acc: 0.9362\n",
      "Epoch 10/10\n",
      "9294/9294 [==============================] - 2s 193us/step - loss: 0.2194 - acc: 0.9311 - val_loss: 0.3458 - val_acc: 0.9270\n"
     ]
    },
    {
     "data": {
      "text/plain": [
       "<keras.callbacks.History at 0x282181a72b0>"
      ]
     },
     "execution_count": 44,
     "metadata": {},
     "output_type": "execute_result"
    }
   ],
   "source": [
    "model_bidim = Model2D((1,15,113))\n",
    "opt2 = Adam(lr=0.01)\n",
    "model_bidim.compile(optimizer = opt2, loss = \"categorical_crossentropy\", metrics = [\"accuracy\"])\n",
    "\n",
    "# need to reshape in order to fit to the new 2D model\n",
    "X_train = cube.reshape(cube.shape[0], 1, 15, 113)\n",
    "X_test = cube_test.reshape(cube_test.shape[0], 1, 15, 113)\n",
    "\n",
    "model_bidim.fit(x = X_train, y = YOH_train_final, epochs = 10, batch_size = 128, validation_data=(X_test,YOH_test_final))"
   ]
  },
  {
   "cell_type": "code",
   "execution_count": 45,
   "metadata": {},
   "outputs": [
    {
     "name": "stdout",
     "output_type": "stream",
     "text": [
      "F1-measure:  0.9272844104296594\n",
      "AUC w.r. to each class:  {0: 0.9221983663190522, 1: 0.9341501077835719, 2: 0.9960005194448799, 3: 0.9255091755091754}\n"
     ]
    },
    {
     "data": {
      "image/png": "[encoded data removed]",
      "text/plain": [
       "<matplotlib.figure.Figure at 0x2821aa2bc88>"
      ]
     },
     "metadata": {},
     "output_type": "display_data"
    }
   ],
   "source": [
    "y_pred = model_bidim.predict(X_test)\n",
    "y_pred_hard = np.argmax(y_pred, axis=1)\n",
    "YOH_pred = onehot_encoder.fit_transform(y_pred_hard.reshape(-1, 1))\n",
    "\n",
    "#print(\"y_pred:\\n\", y_pred)\n",
    "#print(\"\\ny_pred_hard:\\n\", y_pred_hard)\n",
    "#print(\"\\nYOH_pred:\\n\", YOH_pred)\n",
    "\n",
    "print(\"F1-measure: \", f1_score(YOH_test_final, YOH_pred, average='weighted'))\n",
    "print(\"AUC w.r. to each class: \", AUC(YOH_test_final, YOH_pred))\n",
    "\n",
    "y_test_hard = np.argmax(YOH_test_final, axis=1)\n",
    "cnf_matrix = confusion_matrix(y_test_hard, y_pred_hard)\n",
    "np.set_printoptions(precision=2)\n",
    "\n",
    "# Plot non-normalized confusion matrix\n",
    "plt.figure()\n",
    "plot_confusion_matrix(cnf_matrix, classes=[1,2,4,5],\n",
    "                      title='Confusion matrix, without normalization')"
   ]
  },
  {
   "cell_type": "markdown",
   "metadata": {},
   "source": [
    "# Still Task A, but on a reduced dataset"
   ]
  },
  {
   "cell_type": "code",
   "execution_count": 46,
   "metadata": {},
   "outputs": [
    {
     "name": "stdout",
     "output_type": "stream",
     "text": [
      "Session shapes:\n",
      "\n",
      "ADL1:   (37507, 58)\n",
      "ADL2:   (24510, 58)\n",
      "ADL3:   (25305, 58)\n",
      "ADL4:   (24851, 58)\n",
      "ADL5:   (22440, 58)\n",
      "Drill:  (52105, 58)\n",
      "\n",
      "Training set: ADL1 + ADL2 + ADL3 + Drill =  139427\n",
      "Test set: ADL4 + ADL5 =  47291\n"
     ]
    }
   ],
   "source": [
    "x1 = scipy.io.loadmat(\"prep/acc_magni/S1-ADL1\", mdict={'reduced_features':'features', 'labels':'labels'})\n",
    "x2 = scipy.io.loadmat(\"prep/acc_magni/S1-ADL2\", mdict={'reduced_features':'features', 'labels':'labels'})\n",
    "x3 = scipy.io.loadmat(\"prep/acc_magni/S1-ADL3\", mdict={'reduced_features':'features', 'labels':'labels'})\n",
    "x4 = scipy.io.loadmat(\"prep/acc_magni/S1-ADL4\", mdict={'reduced_features':'features', 'labels':'labels'})\n",
    "x5 = scipy.io.loadmat(\"prep/acc_magni/S1-ADL5\", mdict={'reduced_features':'features', 'labels':'labels'})\n",
    "x6 = scipy.io.loadmat(\"prep/acc_magni/S1-Drill\", mdict={'reduced_features':'features', 'labels':'labels'})\n",
    "\n",
    "print(\"Session shapes:\\n\")\n",
    "print(\"ADL1:  \", x1['reduced_features'].shape)\n",
    "print(\"ADL2:  \", x2['reduced_features'].shape)\n",
    "print(\"ADL3:  \", x3['reduced_features'].shape)\n",
    "print(\"ADL4:  \", x4['reduced_features'].shape)\n",
    "print(\"ADL5:  \", x5['reduced_features'].shape)\n",
    "print(\"Drill: \", x6['reduced_features'].shape)\n",
    "print(\"\\nTraining set: ADL1 + ADL2 + ADL3 + Drill = \", x1['reduced_features'].shape[0] + x2['reduced_features'].shape[0] + x3['reduced_features'].shape[0] + x6['reduced_features'].shape[0])\n",
    "print(\"Test set: ADL4 + ADL5 = \", x4['reduced_features'].shape[0] + x5['reduced_features'].shape[0])"
   ]
  },
  {
   "cell_type": "code",
   "execution_count": 47,
   "metadata": {},
   "outputs": [
    {
     "name": "stdout",
     "output_type": "stream",
     "text": [
      "X_train shape:  (139427, 58)\n",
      "X_test shape:  (47291, 58)\n"
     ]
    }
   ],
   "source": [
    "# features\n",
    "X_train = np.concatenate((x1['reduced_features'],x2['reduced_features'],x3['reduced_features'],x6['reduced_features']),axis=0)\n",
    "X_test = np.concatenate((x4['reduced_features'],x5['reduced_features']),axis=0)\n",
    "\n",
    "# labels (locomotion activity)\n",
    "Y_train = np.concatenate((x1['labels'][:,0],x2['labels'][:,0],x3['labels'][:,0],x6['labels'][:,0]),axis=0) # here we take just the first column because we want to fulfill the first task\n",
    "Y_test = np.concatenate((x4['labels'][:,0],x5['labels'][:,0]))\n",
    "#Y_test = np.concatenate((x4['labels'][:,0],x5['labels'][:,0]),axis=0)\n",
    "\n",
    "# Initial decision to overcome the problem of entire missing columns\n",
    "X_train = np.nan_to_num(X_train)\n",
    "X_test = np.nan_to_num(X_test)\n",
    "\n",
    "# fatures normalization\n",
    "scaler = StandardScaler().fit(X_train)\n",
    "X_train = scaler.transform(X_train)\n",
    "X_test = scaler.transform(X_test)\n",
    "\n",
    "print(\"X_train shape: \", X_train.shape)\n",
    "print(\"X_test shape: \", X_test.shape)"
   ]
  },
  {
   "cell_type": "code",
   "execution_count": 48,
   "metadata": {},
   "outputs": [
    {
     "name": "stdout",
     "output_type": "stream",
     "text": [
      "The highest label value is:  5\n",
      "YOH_train shape:  (139427, 4)\n",
      "YOH_test shape:  (47291, 4)\n",
      "Number of samples:  139427 \n",
      "Number of classes:  4\n",
      "Number of windows:  9294\n",
      "Number of samples:  47291 \n",
      "Number of classes:  4\n",
      "Number of windows:  3151\n"
     ]
    }
   ],
   "source": [
    "label_max = np.max(Y_train)\n",
    "print(\"The highest label value is: \", label_max)\n",
    "onehot_encoder = OneHotEncoder(sparse=False)\n",
    "YOH_train = onehot_encoder.fit_transform(Y_train.reshape(-1, 1))\n",
    "YOH_test = onehot_encoder.fit_transform(Y_test.reshape(-1, 1))\n",
    "\n",
    "print(\"YOH_train shape: \", YOH_train.shape)\n",
    "print(\"YOH_test shape: \", YOH_test.shape)\n",
    "\n",
    "window_size = 15\n",
    "stride = int(window_size)\n",
    "num_features = X_train.shape[1]\n",
    "samples, classes = YOH_train.shape\n",
    "print(\"Number of samples: \", samples, \"\\nNumber of classes: \", classes)\n",
    "\n",
    "windows = int(samples // stride) - 1\n",
    "print(\"Number of windows: \", windows)\n",
    "\n",
    "num_features_test = X_test.shape[1]\n",
    "samples_test, classes_test = YOH_test.shape\n",
    "print(\"Number of samples: \", samples_test, \"\\nNumber of classes: \", classes_test)\n",
    "\n",
    "windows_test = int(samples_test // stride) - 1\n",
    "print(\"Number of windows: \", windows_test)"
   ]
  },
  {
   "cell_type": "code",
   "execution_count": 49,
   "metadata": {},
   "outputs": [],
   "source": [
    "cube = np.zeros([windows, window_size, num_features])\n",
    "cube.shape\n",
    "\n",
    "cube_test = np.zeros([windows_test, window_size, num_features])\n",
    "cube_test.shape\n",
    "\n",
    "lab_cum = np.zeros([windows])\n",
    "lab_cum.shape\n",
    "\n",
    "lab_cum_test = np.zeros([windows_test])\n",
    "lab_cum_test.shape\n",
    "\n",
    "for w in range(windows):\n",
    "    index = int(w * stride)\n",
    "    cube[w,:,:] = X_train[index:index+window_size, :].reshape((window_size,num_features))\n",
    "    l = YOH_train[index:index+window_size,:] # shape 50 x 5\n",
    "    #print(np.sum(l, axis=0),np.argmax(np.sum(l, axis=0)))\n",
    "    lab_cum[w] = np.argmax(np.sum(l, axis=0))\n",
    "\n",
    "for w in range(windows_test):\n",
    "    index = int(w * stride)\n",
    "    cube_test[w,:,:] = X_test[index:index+window_size, :].reshape((window_size,num_features))\n",
    "    l = YOH_test[index:index+window_size,:] # shape 50 x 5\n",
    "    #print(np.sum(l, axis=0),np.argmax(np.sum(l, axis=0)))\n",
    "    lab_cum_test[w] = np.argmax(np.sum(l, axis=0))\n",
    "\n",
    "#print('cumulative labels: ', lab_cum.shape, type(lab_cum), \"\\n\", lab_cum)\n",
    "YOH_train_final = onehot_encoder.fit_transform(lab_cum.reshape(-1, 1))\n",
    "YOH_test_final = onehot_encoder.fit_transform(lab_cum_test.reshape(-1, 1))\n",
    "\n",
    "#print(YOH_train_final)\n",
    "#print(YOH_test_final)"
   ]
  },
  {
   "cell_type": "markdown",
   "metadata": {},
   "source": [
    "# Test new dataset performances with 1D CNN"
   ]
  },
  {
   "cell_type": "code",
   "execution_count": 51,
   "metadata": {},
   "outputs": [
    {
     "name": "stdout",
     "output_type": "stream",
     "text": [
      "Train on 9294 samples, validate on 3151 samples\n",
      "Epoch 1/10\n",
      "9294/9294 [==============================] - 4s 401us/step - loss: 0.6925 - acc: 0.7988 - val_loss: 0.3496 - val_acc: 0.9099\n",
      "Epoch 2/10\n",
      "9294/9294 [==============================] - 2s 263us/step - loss: 0.4116 - acc: 0.8519 - val_loss: 0.3546 - val_acc: 0.9105\n",
      "Epoch 3/10\n",
      "9294/9294 [==============================] - 2s 262us/step - loss: 0.3631 - acc: 0.8685 - val_loss: 0.3217 - val_acc: 0.9194\n",
      "Epoch 4/10\n",
      "9294/9294 [==============================] - 3s 272us/step - loss: 0.3344 - acc: 0.8801 - val_loss: 0.3251 - val_acc: 0.9315\n",
      "Epoch 5/10\n",
      "9294/9294 [==============================] - 2s 265us/step - loss: 0.3386 - acc: 0.8848 - val_loss: 0.3111 - val_acc: 0.9286\n",
      "Epoch 6/10\n",
      "9294/9294 [==============================] - 3s 286us/step - loss: 0.3236 - acc: 0.8863 - val_loss: 0.3130 - val_acc: 0.9359\n",
      "Epoch 7/10\n",
      "9294/9294 [==============================] - 2s 264us/step - loss: 0.3404 - acc: 0.8887 - val_loss: 0.3427 - val_acc: 0.9330\n",
      "Epoch 8/10\n",
      "9294/9294 [==============================] - 2s 263us/step - loss: 0.2942 - acc: 0.8971 - val_loss: 0.3193 - val_acc: 0.9267\n",
      "Epoch 9/10\n",
      "9294/9294 [==============================] - 2s 261us/step - loss: 0.2966 - acc: 0.8999 - val_loss: 0.3386 - val_acc: 0.9343\n",
      "Epoch 10/10\n",
      "9294/9294 [==============================] - 2s 263us/step - loss: 0.2681 - acc: 0.9073 - val_loss: 0.3101 - val_acc: 0.9292\n"
     ]
    },
    {
     "data": {
      "text/plain": [
       "<keras.callbacks.History at 0x2821325b1d0>"
      ]
     },
     "execution_count": 51,
     "metadata": {},
     "output_type": "execute_result"
    }
   ],
   "source": [
    "model_new1D = Model1D((15,58))\n",
    "\n",
    "opt = Adam(lr=0.01)\n",
    "model_new1D.compile(optimizer = opt, loss = \"categorical_crossentropy\", metrics = [\"accuracy\"])\n",
    "\n",
    "model_new1D.fit(x = cube, y = YOH_train_final, epochs = 10, batch_size = 64, validation_data=(cube_test,YOH_test_final))"
   ]
  },
  {
   "cell_type": "code",
   "execution_count": 52,
   "metadata": {},
   "outputs": [
    {
     "name": "stdout",
     "output_type": "stream",
     "text": [
      "F1-measure:  0.9272844104296594\n",
      "AUC w.r. to each class:  {0: 0.9221983663190522, 1: 0.9341501077835719, 2: 0.9960005194448799, 3: 0.9255091755091754}\n"
     ]
    },
    {
     "data": {
      "image/png": "[encoded data removed]",
      "text/plain": [
       "<matplotlib.figure.Figure at 0x2821324f518>"
      ]
     },
     "metadata": {},
     "output_type": "display_data"
    }
   ],
   "source": [
    "print(\"F1-measure: \", f1_score(YOH_test_final, YOH_pred, average='weighted'))\n",
    "print(\"AUC w.r. to each class: \", AUC(YOH_test_final, YOH_pred))\n",
    "\n",
    "# Compute and plot confusion matrix\n",
    "y_test_hard = np.argmax(YOH_test_final, axis=1) #reverse the one-ot encoder procedure\n",
    "cnf_matrix = confusion_matrix(y_test_hard, y_pred_hard)\n",
    "np.set_printoptions(precision=2)\n",
    "\n",
    "plt.figure()\n",
    "plot_confusion_matrix(cnf_matrix, classes=[1,2,4,5],\n",
    "                      title='Confusion matrix, without normalization')"
   ]
  },
  {
   "cell_type": "markdown",
   "metadata": {},
   "source": [
    "# Test new dataset performances with 2D CNN"
   ]
  },
  {
   "cell_type": "code",
   "execution_count": null,
   "metadata": {},
   "outputs": [],
   "source": [
    "model_new2D = Model2D((1,window_size,58))\n",
    "opt4 = Adam(lr=0.01)\n",
    "model_new2D.compile(optimizer = opt4, loss = \"categorical_crossentropy\", metrics = [\"accuracy\"])\n",
    "\n",
    "# need to reshape in order to fit to the new 2D model\n",
    "X_train = cube.reshape(cube.shape[0], 1, window_size, 58)\n",
    "X_test = cube_test.reshape(cube_test.shape[0], 1, window_size, 58)"
   ]
  },
  {
   "cell_type": "code",
   "execution_count": 55,
   "metadata": {},
   "outputs": [
    {
     "name": "stdout",
     "output_type": "stream",
     "text": [
      "Train on 9294 samples, validate on 3151 samples\n",
      "Epoch 1/10\n",
      "9294/9294 [==============================] - 1s 132us/step - loss: 0.3203 - acc: 0.8917 - val_loss: 0.3420 - val_acc: 0.9295\n",
      "Epoch 2/10\n",
      "9294/9294 [==============================] - 1s 136us/step - loss: 0.3032 - acc: 0.8993 - val_loss: 0.3398 - val_acc: 0.9273\n",
      "Epoch 3/10\n",
      "9294/9294 [==============================] - 1s 131us/step - loss: 0.3077 - acc: 0.8982 - val_loss: 0.3318 - val_acc: 0.9289\n",
      "Epoch 4/10\n",
      "9294/9294 [==============================] - 1s 141us/step - loss: 0.3055 - acc: 0.8986 - val_loss: 0.3479 - val_acc: 0.9216\n",
      "Epoch 5/10\n",
      "9294/9294 [==============================] - 1s 132us/step - loss: 0.2990 - acc: 0.9029 - val_loss: 0.3808 - val_acc: 0.9188\n",
      "Epoch 6/10\n",
      "9294/9294 [==============================] - 1s 137us/step - loss: 0.2966 - acc: 0.9019 - val_loss: 0.3818 - val_acc: 0.9194\n",
      "Epoch 7/10\n",
      "9294/9294 [==============================] - 1s 135us/step - loss: 0.2840 - acc: 0.9065 - val_loss: 0.3367 - val_acc: 0.9245\n",
      "Epoch 8/10\n",
      "9294/9294 [==============================] - 1s 135us/step - loss: 0.2713 - acc: 0.9124 - val_loss: 0.3265 - val_acc: 0.9270\n",
      "Epoch 9/10\n",
      "9294/9294 [==============================] - 1s 130us/step - loss: 0.2883 - acc: 0.9066 - val_loss: 0.3657 - val_acc: 0.9143\n",
      "Epoch 10/10\n",
      "9294/9294 [==============================] - 1s 137us/step - loss: 0.2842 - acc: 0.9114 - val_loss: 0.3634 - val_acc: 0.9232\n",
      "F1-measure:  0.9231898403560336\n",
      "AUC w.r. to each class:  {0: 0.9240320560421939, 1: 0.9172496110986098, 2: 0.9953492531754744, 3: 0.9018605268605268}\n"
     ]
    },
    {
     "data": {
      "image/png": "[encoded data removed]",
      "text/plain": [
       "<matplotlib.figure.Figure at 0x2820a8ac208>"
      ]
     },
     "metadata": {},
     "output_type": "display_data"
    }
   ],
   "source": [
    "model_new2D.fit(x = X_train, y = YOH_train_final, epochs = 10, batch_size = 128, validation_data=(X_test,YOH_test_final))\n",
    "\n",
    "y_pred = model_new2D.predict(X_test)\n",
    "y_pred_hard = np.argmax(y_pred, axis=1)\n",
    "YOH_pred = onehot_encoder.fit_transform(y_pred_hard.reshape(-1, 1))\n",
    "\n",
    "#print(\"y_pred:\\n\", y_pred)\n",
    "#print(\"\\ny_pred_hard:\\n\", y_pred_hard)\n",
    "#print(\"\\nYOH_pred:\\n\", YOH_pred)\n",
    "\n",
    "print(\"F1-measure: \", f1_score(YOH_test_final, YOH_pred, average='weighted'))\n",
    "print(\"AUC w.r. to each class: \", AUC(YOH_test_final, YOH_pred))\n",
    "\n",
    "y_test_hard = np.argmax(YOH_test_final, axis=1)\n",
    "cnf_matrix = confusion_matrix(y_test_hard, y_pred_hard)\n",
    "np.set_printoptions(precision=2)\n",
    "\n",
    "# Plot non-normalized confusion matrix\n",
    "plt.figure()\n",
    "plot_confusion_matrix(cnf_matrix, classes=[1,2,4,5],\n",
    "                      title='Confusion matrix, without normalization')"
   ]
  },
  {
   "cell_type": "code",
   "execution_count": null,
   "metadata": {},
   "outputs": [],
   "source": []
  }
 ],
 "metadata": {
  "kernelspec": {
   "display_name": "Python 3",
   "language": "python",
   "name": "python3"
  },
  "language_info": {
   "codemirror_mode": {
    "name": "ipython",
    "version": 3
   },
   "file_extension": ".py",
   "mimetype": "text/x-python",
   "name": "python",
   "nbconvert_exporter": "python",
   "pygments_lexer": "ipython3",
   "version": "3.6.4"
  }
 },
 "nbformat": 4,
 "nbformat_minor": 2
}
