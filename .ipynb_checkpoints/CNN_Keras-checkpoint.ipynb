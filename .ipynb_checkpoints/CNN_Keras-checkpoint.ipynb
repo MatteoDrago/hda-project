{
 "cells": [
  {
   "cell_type": "markdown",
   "metadata": {},
   "source": [
    "# Keras Implementation - Human Data Analytics Project \n",
    "\n",
    "Import of all modules"
   ]
  },
  {
   "cell_type": "code",
   "execution_count": 193,
   "metadata": {},
   "outputs": [],
   "source": [
    "import numpy as np\n",
    "import scipy.io\n",
    "\n",
    "from keras.layers import Conv1D, BatchNormalization, Dropout, LeakyReLU, Flatten\n",
    "from keras.models import Model, Sequential\n",
    "\n",
    "from keras.optimizers import Adam\n",
    "\n",
    "from sklearn.preprocessing import OneHotEncoder\n",
    "\n",
    "import keras.backend as K\n",
    "K.set_image_data_format('channels_last')\n",
    "\n",
    "%matplotlib inline"
   ]
  },
  {
   "cell_type": "code",
   "execution_count": 196,
   "metadata": {},
   "outputs": [],
   "source": [
    "x1 = scipy.io.loadmat(\"data_temp/S1-ADL1\", mdict={'filled_features':'features', 'labels':'labels'})\n",
    "x2 = scipy.io.loadmat(\"data_temp/S1-ADL2\", mdict={'filled_features':'features', 'labels':'labels'})\n",
    "x3 = scipy.io.loadmat(\"data_temp/S1-ADL3\", mdict={'filled_features':'features', 'labels':'labels'})\n",
    "x4 = scipy.io.loadmat(\"data_temp/S1-ADL4\", mdict={'filled_features':'features', 'labels':'labels'})\n",
    "x5 = scipy.io.loadmat(\"data_temp/S1-ADL5\", mdict={'filled_features':'features', 'labels':'labels'})"
   ]
  },
  {
   "cell_type": "code",
   "execution_count": 201,
   "metadata": {},
   "outputs": [
    {
     "name": "stdout",
     "output_type": "stream",
     "text": [
      "X_train shape:  (104973, 113)\n",
      "X_test shape:  (57536, 113)\n"
     ]
    }
   ],
   "source": [
    "X_train = np.concatenate((x1['filled_features'],x2['filled_features'],x3['filled_features']),axis=0)\n",
    "X_test = np.concatenate((x4['filled_features'],x5['filled_features']),axis=0)\n",
    "\n",
    "Y_train = np.concatenate((x1['labels'][:,0],x2['labels'][:,0],x3['labels'][:,0]),axis=0) # here we take just the first column because we want to fulfill the first task\n",
    "Y_test = np.concatenate((x4['labels'][:,0],x5['labels'][:,0]),axis=0)\n",
    "\n",
    "# Initial decision to overcome the problem of entire missing columns\n",
    "X_train = np.nan_to_num(X_train)\n",
    "X_test = np.nan_to_num(X_test)\n",
    "\n",
    "print(\"X_train shape: \", X_train.shape)\n",
    "print(\"X_test shape: \", X_test.shape)\n"
   ]
  },
  {
   "cell_type": "code",
   "execution_count": 183,
   "metadata": {},
   "outputs": [
    {
     "name": "stdout",
     "output_type": "stream",
     "text": [
      "One hot encoder shape:  (45810, 5)\n"
     ]
    }
   ],
   "source": [
    "onehot_encoder = OneHotEncoder(sparse=False)\n",
    "Y = onehot_encoder.fit_transform(x['labels'][:,0].reshape(-1, 1))\n",
    "print(\"One hot encoder shape: \", Y.shape)"
   ]
  },
  {
   "cell_type": "code",
   "execution_count": 184,
   "metadata": {},
   "outputs": [
    {
     "name": "stdout",
     "output_type": "stream",
     "text": [
      "Number of samples:  45810 \n",
      "Number of classes:  5\n",
      "Number of windows:  1831\n"
     ]
    }
   ],
   "source": [
    "window_size = 50\n",
    "stride = window_size / 2\n",
    "num_features = X.shape[1]\n",
    "samples, classes = Y.shape\n",
    "print(\"Number of samples: \", samples, \"\\nNumber of classes: \", classes)\n",
    "\n",
    "windows = int(samples // stride) - 1\n",
    "print(\"Number of windows: \", windows)"
   ]
  },
  {
   "cell_type": "code",
   "execution_count": 185,
   "metadata": {},
   "outputs": [
    {
     "data": {
      "text/plain": [
       "(1831, 50, 113)"
      ]
     },
     "execution_count": 185,
     "metadata": {},
     "output_type": "execute_result"
    }
   ],
   "source": [
    "cube = np.zeros([windows, window_size, num_features])\n",
    "cube.shape"
   ]
  },
  {
   "cell_type": "code",
   "execution_count": 186,
   "metadata": {},
   "outputs": [
    {
     "data": {
      "text/plain": [
       "(1831,)"
      ]
     },
     "execution_count": 186,
     "metadata": {},
     "output_type": "execute_result"
    }
   ],
   "source": [
    "lab_cum = np.zeros([windows])\n",
    "lab_cum.shape"
   ]
  },
  {
   "cell_type": "code",
   "execution_count": 187,
   "metadata": {},
   "outputs": [],
   "source": [
    "for w in range(windows):\n",
    "    index = int(w * stride)\n",
    "    cube[w,:,:] = X[index:index+window_size, :].reshape((window_size,num_features))\n",
    "    l = Y[index:index+window_size,:] # shape 50 x 5\n",
    "    #print(np.sum(l, axis=0),np.argmax(np.sum(l, axis=0)))\n",
    "    lab_cum[w] = np.argmax(np.sum(l, axis=0))"
   ]
  },
  {
   "cell_type": "code",
   "execution_count": 188,
   "metadata": {},
   "outputs": [
    {
     "name": "stdout",
     "output_type": "stream",
     "text": [
      "[[0. 1. 0. 0. 0.]\n",
      " [0. 1. 0. 0. 0.]\n",
      " [0. 1. 0. 0. 0.]\n",
      " ...\n",
      " [1. 0. 0. 0. 0.]\n",
      " [1. 0. 0. 0. 0.]\n",
      " [1. 0. 0. 0. 0.]]\n"
     ]
    }
   ],
   "source": [
    "#print('cumulative labels: ', lab_cum.shape, type(lab_cum), \"\\n\", lab_cum)\n",
    "y_oh = onehot_encoder.fit_transform(lab_cum.reshape(-1, 1))\n",
    "print(y_oh)"
   ]
  },
  {
   "cell_type": "code",
   "execution_count": 189,
   "metadata": {},
   "outputs": [],
   "source": [
    "def TestModel():\n",
    "    \"\"\" \n",
    "    Arguments:\n",
    "    input_shape -- shape of the images of the dataset\n",
    "\n",
    "    Returns: \n",
    "    model -- a Model() instance in Keras\n",
    "    \"\"\"\n",
    "    \n",
    "    model = Sequential()\n",
    "    model.add(Conv1D(filters = 8,\n",
    "                    kernel_size=5,\n",
    "                    strides=1,\n",
    "                    padding='same',\n",
    "                    input_shape = (50,113)))\n",
    "    model.add(BatchNormalization())\n",
    "    model.add(LeakyReLU())\n",
    "    model.add(Dropout(0.3))\n",
    "    \n",
    "    model.add(Flatten())\n",
    "\n",
    "    model.add(Dense(64))\n",
    "    model.add(BatchNormalization())\n",
    "    model.add(LeakyReLU())\n",
    "\n",
    "    model.add(Dense(5))\n",
    "    model.add(Activation('softmax'))\n",
    "    \n",
    "    model.summary()\n",
    "    ### END CODE HERE ###\n",
    "    \n",
    "    return model"
   ]
  },
  {
   "cell_type": "code",
   "execution_count": 190,
   "metadata": {},
   "outputs": [
    {
     "name": "stdout",
     "output_type": "stream",
     "text": [
      "_________________________________________________________________\n",
      "Layer (type)                 Output Shape              Param #   \n",
      "=================================================================\n",
      "conv1d_20 (Conv1D)           (None, 50, 8)             4528      \n",
      "_________________________________________________________________\n",
      "batch_normalization_26 (Batc (None, 50, 8)             32        \n",
      "_________________________________________________________________\n",
      "leaky_re_lu_26 (LeakyReLU)   (None, 50, 8)             0         \n",
      "_________________________________________________________________\n",
      "dropout_14 (Dropout)         (None, 50, 8)             0         \n",
      "_________________________________________________________________\n",
      "flatten_9 (Flatten)          (None, 400)               0         \n",
      "_________________________________________________________________\n",
      "dense_25 (Dense)             (None, 64)                25664     \n",
      "_________________________________________________________________\n",
      "batch_normalization_27 (Batc (None, 64)                256       \n",
      "_________________________________________________________________\n",
      "leaky_re_lu_27 (LeakyReLU)   (None, 64)                0         \n",
      "_________________________________________________________________\n",
      "dense_26 (Dense)             (None, 5)                 325       \n",
      "_________________________________________________________________\n",
      "activation_13 (Activation)   (None, 5)                 0         \n",
      "=================================================================\n",
      "Total params: 30,805\n",
      "Trainable params: 30,661\n",
      "Non-trainable params: 144\n",
      "_________________________________________________________________\n"
     ]
    }
   ],
   "source": [
    "model_test = TestModel()"
   ]
  },
  {
   "cell_type": "code",
   "execution_count": 191,
   "metadata": {},
   "outputs": [],
   "source": [
    "opt = Adam(lr=0.001)\n",
    "model_test.compile(optimizer = opt, loss = \"categorical_crossentropy\", metrics = [\"accuracy\"])"
   ]
  },
  {
   "cell_type": "code",
   "execution_count": 192,
   "metadata": {},
   "outputs": [
    {
     "name": "stdout",
     "output_type": "stream",
     "text": [
      "Epoch 1/10\n",
      "1831/1831 [==============================] - 2s 962us/step - loss: 0.8997 - acc: 0.6723\n",
      "Epoch 2/10\n",
      "1831/1831 [==============================] - 1s 358us/step - loss: 0.4063 - acc: 0.8575\n",
      "Epoch 3/10\n",
      "1831/1831 [==============================] - 1s 364us/step - loss: 0.3055 - acc: 0.8913\n",
      "Epoch 4/10\n",
      "1831/1831 [==============================] - 1s 360us/step - loss: 0.2387 - acc: 0.9192\n",
      "Epoch 5/10\n",
      "1831/1831 [==============================] - 1s 362us/step - loss: 0.1993 - acc: 0.9350\n",
      "Epoch 6/10\n",
      "1831/1831 [==============================] - 1s 363us/step - loss: 0.2092 - acc: 0.9263\n",
      "Epoch 7/10\n",
      "1831/1831 [==============================] - 1s 366us/step - loss: 0.1684 - acc: 0.9437\n",
      "Epoch 8/10\n",
      "1831/1831 [==============================] - 1s 401us/step - loss: 0.1618 - acc: 0.9399\n",
      "Epoch 9/10\n",
      "1831/1831 [==============================] - 1s 394us/step - loss: 0.1266 - acc: 0.9541\n",
      "Epoch 10/10\n",
      "1831/1831 [==============================] - 1s 370us/step - loss: 0.1411 - acc: 0.9498\n"
     ]
    },
    {
     "data": {
      "text/plain": [
       "<keras.callbacks.History at 0x192997baa90>"
      ]
     },
     "execution_count": 192,
     "metadata": {},
     "output_type": "execute_result"
    }
   ],
   "source": [
    "model_test.fit(x = cube, y = y_oh, epochs = 10, batch_size = 40)"
   ]
  },
  {
   "cell_type": "code",
   "execution_count": 126,
   "metadata": {},
   "outputs": [
    {
     "data": {
      "text/plain": [
       "array([[1., 1., 1., 1., 1.],\n",
       "       [1., 1., 1., 1., 1.],\n",
       "       [1., 1., 1., 1., 1.],\n",
       "       ...,\n",
       "       [0., 0., 0., 0., 0.],\n",
       "       [0., 0., 0., 0., 0.],\n",
       "       [0., 0., 0., 0., 0.]])"
      ]
     },
     "execution_count": 126,
     "metadata": {},
     "output_type": "execute_result"
    }
   ],
   "source": [
    "lab_cum"
   ]
  },
  {
   "cell_type": "code",
   "execution_count": null,
   "metadata": {},
   "outputs": [],
   "source": []
  }
 ],
 "metadata": {
  "kernelspec": {
   "display_name": "Python 3",
   "language": "python",
   "name": "python3"
  },
  "language_info": {
   "codemirror_mode": {
    "name": "ipython",
    "version": 3
   },
   "file_extension": ".py",
   "mimetype": "text/x-python",
   "name": "python",
   "nbconvert_exporter": "python",
   "pygments_lexer": "ipython3",
   "version": "3.6.4"
  }
 },
 "nbformat": 4,
 "nbformat_minor": 2
}
