{
 "cells": [
  {
   "cell_type": "markdown",
   "metadata": {},
   "source": [
    "# Keras Implementation - Human Data Analytics Project \n",
    "\n",
    "Importing all modules that we need for our elaboration"
   ]
  },
  {
   "cell_type": "code",
   "execution_count": 28,
   "metadata": {},
   "outputs": [],
   "source": [
    "import numpy as np\n",
    "import scipy.io\n",
    "from sklearn.preprocessing import OneHotEncoder, StandardScaler\n",
    "from sklearn.metrics import f1_score, roc_curve, auc\n",
    "import matplotlib as plt\n",
    "\n",
    "import warnings\n",
    "with warnings.catch_warnings():\n",
    "    warnings.filterwarnings(\"ignore\",category=FutureWarning)\n",
    "    \n",
    "    from keras import regularizers\n",
    "    from keras.layers import Conv1D, BatchNormalization, Dropout, LeakyReLU, Flatten, Activation, Dense, MaxPooling1D\n",
    "    from keras.models import Model, Sequential\n",
    "    from keras.optimizers import Adam\n",
    "    import keras.backend as K\n",
    "    \n",
    "K.set_image_data_format('channels_last')\n",
    "\n",
    "%matplotlib inline"
   ]
  },
  {
   "cell_type": "markdown",
   "metadata": {},
   "source": [
    "# Preprocessing Section\n",
    "Importing data sessions for subject 1"
   ]
  },
  {
   "cell_type": "code",
   "execution_count": 2,
   "metadata": {},
   "outputs": [],
   "source": [
    "x1 = scipy.io.loadmat(\"data_temp/S1-ADL1\", mdict={'filled_features':'features', 'labels':'labels'})\n",
    "x2 = scipy.io.loadmat(\"data_temp/S1-ADL2\", mdict={'filled_features':'features', 'labels':'labels'})\n",
    "x3 = scipy.io.loadmat(\"data_temp/S1-ADL3\", mdict={'filled_features':'features', 'labels':'labels'})\n",
    "x4 = scipy.io.loadmat(\"data_temp/S1-ADL4\", mdict={'filled_features':'features', 'labels':'labels'})\n",
    "x5 = scipy.io.loadmat(\"data_temp/S1-ADL5\", mdict={'filled_features':'features', 'labels':'labels'})\n",
    "x6 = scipy.io.loadmat(\"data_temp/S1-Drill\", mdict={'filled_features':'features', 'labels':'labels'})"
   ]
  },
  {
   "cell_type": "markdown",
   "metadata": {},
   "source": [
    "Check the number of recorded samples for each session"
   ]
  },
  {
   "cell_type": "code",
   "execution_count": 3,
   "metadata": {},
   "outputs": [
    {
     "name": "stdout",
     "output_type": "stream",
     "text": [
      "Session shapes:\n",
      "\n",
      "ADL1:   (45810, 113)\n",
      "ADL2:   (28996, 113)\n",
      "ADL3:   (30167, 113)\n",
      "ADL4:   (30228, 113)\n",
      "ADL5:   (27308, 113)\n",
      "Drill:  (54966, 113)\n",
      "\n",
      "Training set: ADL1 + ADL2 + ADL3 + Drill =  159939\n",
      "Test set: ADL4 + ADL5 =  57536\n"
     ]
    }
   ],
   "source": [
    "print(\"Session shapes:\\n\")\n",
    "print(\"ADL1:  \", x1['filled_features'].shape)\n",
    "print(\"ADL2:  \", x2['filled_features'].shape)\n",
    "print(\"ADL3:  \", x3['filled_features'].shape)\n",
    "print(\"ADL4:  \", x4['filled_features'].shape)\n",
    "print(\"ADL5:  \", x5['filled_features'].shape)\n",
    "print(\"Drill: \", x6['filled_features'].shape)\n",
    "print(\"\\nTraining set: ADL1 + ADL2 + ADL3 + Drill = \", x1['filled_features'].shape[0] + x2['filled_features'].shape[0] + x3['filled_features'].shape[0] + x6['filled_features'].shape[0])\n",
    "print(\"Test set: ADL4 + ADL5 = \", x4['filled_features'].shape[0] + x5['filled_features'].shape[0])"
   ]
  },
  {
   "cell_type": "markdown",
   "metadata": {},
   "source": [
    "We split the data into train and test set."
   ]
  },
  {
   "cell_type": "code",
   "execution_count": 4,
   "metadata": {},
   "outputs": [
    {
     "name": "stdout",
     "output_type": "stream",
     "text": [
      "X_train shape:  (159939, 113)\n",
      "X_test shape:  (57536, 113)\n"
     ]
    }
   ],
   "source": [
    "# features\n",
    "X_train = np.concatenate((x1['filled_features'],x2['filled_features'],x3['filled_features'],x6['filled_features']),axis=0)\n",
    "X_test = np.concatenate((x4['filled_features'],x5['filled_features']),axis=0)\n",
    "\n",
    "# labels (locomotion activity)\n",
    "Y_train = np.concatenate((x1['labels'][:,0],x2['labels'][:,0],x3['labels'][:,0],x6['labels'][:,0]),axis=0) # here we take just the first column because we want to fulfill the first task\n",
    "Y_test = np.concatenate((x4['labels'][:,0],x5['labels'][:,0]))\n",
    "#Y_test = np.concatenate((x4['labels'][:,0],x5['labels'][:,0]),axis=0)\n",
    "\n",
    "# Initial decision to overcome the problem of entire missing columns\n",
    "X_train = np.nan_to_num(X_train)\n",
    "X_test = np.nan_to_num(X_test)\n",
    "\n",
    "print(\"X_train shape: \", X_train.shape)\n",
    "print(\"X_test shape: \", X_test.shape)\n"
   ]
  },
  {
   "cell_type": "markdown",
   "metadata": {},
   "source": [
    "The dataset needs to be normalized in order to improve performances."
   ]
  },
  {
   "cell_type": "code",
   "execution_count": 5,
   "metadata": {},
   "outputs": [],
   "source": [
    "# fatures normalization\n",
    "scaler = StandardScaler().fit(X_train)\n",
    "X_train =scaler.transform(X_train)\n",
    "X_test = scaler.transform(X_test)"
   ]
  },
  {
   "cell_type": "markdown",
   "metadata": {},
   "source": [
    "We decided to use a onehot encoder for the labels"
   ]
  },
  {
   "cell_type": "code",
   "execution_count": 6,
   "metadata": {},
   "outputs": [
    {
     "name": "stdout",
     "output_type": "stream",
     "text": [
      "The higest label value is:  5\n",
      "YOH_train shape:  (159939, 6)\n",
      "YOH_test shape:  (57536, 6)\n"
     ]
    }
   ],
   "source": [
    "label_max = np.max(Y_train)\n",
    "print(\"The higest label value is: \", label_max)\n",
    "onehot_encoder = OneHotEncoder(n_values=label_max+1, sparse=False)\n",
    "YOH_train = onehot_encoder.fit_transform(Y_train.reshape(-1, 1))\n",
    "YOH_test = onehot_encoder.fit_transform(Y_test.reshape(-1, 1))\n",
    "\n",
    "print(\"YOH_train shape: \", YOH_train.shape)\n",
    "print(\"YOH_test shape: \", YOH_test.shape)"
   ]
  },
  {
   "cell_type": "code",
   "execution_count": 7,
   "metadata": {},
   "outputs": [
    {
     "name": "stdout",
     "output_type": "stream",
     "text": [
      "Number of samples:  159939 \n",
      "Number of classes:  6\n",
      "Number of windows:  31986\n"
     ]
    }
   ],
   "source": [
    "window_size = 10\n",
    "stride = int(window_size / 2)\n",
    "num_features = X_train.shape[1]\n",
    "samples, classes = YOH_train.shape\n",
    "print(\"Number of samples: \", samples, \"\\nNumber of classes: \", classes)\n",
    "\n",
    "windows = int(samples // stride) - 1\n",
    "print(\"Number of windows: \", windows)"
   ]
  },
  {
   "cell_type": "code",
   "execution_count": 8,
   "metadata": {},
   "outputs": [
    {
     "name": "stdout",
     "output_type": "stream",
     "text": [
      "Number of samples:  57536 \n",
      "Number of classes:  6\n",
      "Number of windows:  11506\n"
     ]
    }
   ],
   "source": [
    "num_features_test = X_test.shape[1]\n",
    "samples_test, classes_test = YOH_test.shape\n",
    "print(\"Number of samples: \", samples_test, \"\\nNumber of classes: \", classes_test)\n",
    "\n",
    "windows_test = int(samples_test // stride) - 1\n",
    "print(\"Number of windows: \", windows_test)"
   ]
  },
  {
   "cell_type": "code",
   "execution_count": 9,
   "metadata": {},
   "outputs": [
    {
     "data": {
      "text/plain": [
       "(31986, 10, 113)"
      ]
     },
     "execution_count": 9,
     "metadata": {},
     "output_type": "execute_result"
    }
   ],
   "source": [
    "cube = np.zeros([windows, window_size, num_features])\n",
    "cube.shape"
   ]
  },
  {
   "cell_type": "code",
   "execution_count": 10,
   "metadata": {},
   "outputs": [
    {
     "data": {
      "text/plain": [
       "(11506, 10, 113)"
      ]
     },
     "execution_count": 10,
     "metadata": {},
     "output_type": "execute_result"
    }
   ],
   "source": [
    "cube_test = np.zeros([windows_test, window_size, num_features])\n",
    "cube_test.shape"
   ]
  },
  {
   "cell_type": "code",
   "execution_count": 11,
   "metadata": {},
   "outputs": [
    {
     "data": {
      "text/plain": [
       "(31986,)"
      ]
     },
     "execution_count": 11,
     "metadata": {},
     "output_type": "execute_result"
    }
   ],
   "source": [
    "lab_cum = np.zeros([windows])\n",
    "lab_cum.shape"
   ]
  },
  {
   "cell_type": "code",
   "execution_count": 12,
   "metadata": {},
   "outputs": [
    {
     "data": {
      "text/plain": [
       "(11506,)"
      ]
     },
     "execution_count": 12,
     "metadata": {},
     "output_type": "execute_result"
    }
   ],
   "source": [
    "lab_cum_test = np.zeros([windows_test])\n",
    "lab_cum_test.shape"
   ]
  },
  {
   "cell_type": "code",
   "execution_count": 13,
   "metadata": {},
   "outputs": [],
   "source": [
    "for w in range(windows):\n",
    "    index = int(w * stride)\n",
    "    cube[w,:,:] = X_train[index:index+window_size, :].reshape((window_size,num_features))\n",
    "    l = YOH_train[index:index+window_size,:] # shape 50 x 5\n",
    "    #print(np.sum(l, axis=0),np.argmax(np.sum(l, axis=0)))\n",
    "    lab_cum[w] = np.argmax(np.sum(l, axis=0))"
   ]
  },
  {
   "cell_type": "code",
   "execution_count": 14,
   "metadata": {},
   "outputs": [],
   "source": [
    "for w in range(windows_test):\n",
    "    index = int(w * stride)\n",
    "    cube_test[w,:,:] = X_test[index:index+window_size, :].reshape((window_size,num_features))\n",
    "    l = YOH_test[index:index+window_size,:] # shape 50 x 5\n",
    "    #print(np.sum(l, axis=0),np.argmax(np.sum(l, axis=0)))\n",
    "    lab_cum_test[w] = np.argmax(np.sum(l, axis=0))"
   ]
  },
  {
   "cell_type": "code",
   "execution_count": 15,
   "metadata": {},
   "outputs": [
    {
     "name": "stdout",
     "output_type": "stream",
     "text": [
      "[[0. 1. 0. 0. 0. 0.]\n",
      " [0. 1. 0. 0. 0. 0.]\n",
      " [0. 1. 0. 0. 0. 0.]\n",
      " ...\n",
      " [1. 0. 0. 0. 0. 0.]\n",
      " [1. 0. 0. 0. 0. 0.]\n",
      " [1. 0. 0. 0. 0. 0.]]\n"
     ]
    }
   ],
   "source": [
    "#print('cumulative labels: ', lab_cum.shape, type(lab_cum), \"\\n\", lab_cum)\n",
    "YOH_train_final = onehot_encoder.fit_transform(lab_cum.reshape(-1, 1))\n",
    "print(YOH_train_final)"
   ]
  },
  {
   "cell_type": "code",
   "execution_count": 16,
   "metadata": {},
   "outputs": [
    {
     "name": "stdout",
     "output_type": "stream",
     "text": [
      "[[0. 1. 0. 0. 0. 0.]\n",
      " [0. 1. 0. 0. 0. 0.]\n",
      " [0. 1. 0. 0. 0. 0.]\n",
      " ...\n",
      " [0. 0. 1. 0. 0. 0.]\n",
      " [0. 0. 1. 0. 0. 0.]\n",
      " [0. 0. 1. 0. 0. 0.]]\n"
     ]
    }
   ],
   "source": [
    "YOH_test_final = onehot_encoder.fit_transform(lab_cum_test.reshape(-1, 1))\n",
    "print(YOH_test_final)"
   ]
  },
  {
   "cell_type": "code",
   "execution_count": 17,
   "metadata": {},
   "outputs": [],
   "source": [
    "def TestModel(input_shape):\n",
    "    \"\"\" \n",
    "    Arguments:\n",
    "    input_shape -- shape of the images of the dataset\n",
    "\n",
    "    Returns: \n",
    "    model -- a Model() instance in Keras\n",
    "    \"\"\"\n",
    "    \n",
    "    model = Sequential()\n",
    "    model.add(Conv1D(filters = 18,\n",
    "                    kernel_size=5,\n",
    "                    strides=1,\n",
    "                    padding='same',\n",
    "                    input_shape = input_shape))\n",
    "    model.add(BatchNormalization())\n",
    "    model.add(Activation('relu'))\n",
    "    model.add(MaxPooling1D(pool_size=2,\n",
    "                          strides=2,\n",
    "                          padding='same'))\n",
    "    \n",
    "    model.add(Conv1D(filters = 36,\n",
    "                    kernel_size=7,\n",
    "                    strides=1,\n",
    "                    padding='same'))\n",
    "    model.add(BatchNormalization())\n",
    "    model.add(Activation('relu'))\n",
    "    model.add(MaxPooling1D(pool_size=2,\n",
    "                          strides=2,\n",
    "                          padding='same'))\n",
    "    \n",
    "    model.add(Dropout(0.2))\n",
    "    \n",
    "    model.add(Conv1D(filters = 72,\n",
    "                    kernel_size=7,\n",
    "                    strides=1,\n",
    "                    padding='same'))\n",
    "    model.add(BatchNormalization())\n",
    "    model.add(Activation('relu'))\n",
    "    model.add(MaxPooling1D(pool_size=2,\n",
    "                          strides=2,\n",
    "                          padding='same'))\n",
    "    \n",
    "    #model.add(Conv1D(filters = 144,\n",
    "    #                kernel_size=7,\n",
    "    #                strides=1,\n",
    "    #                padding='same'))\n",
    "    #model.add(BatchNormalization())\n",
    "    #model.add(Activation('relu'))\n",
    "    #model.add(MaxPooling1D(pool_size=2,\n",
    "    #                      strides=2,\n",
    "    #                      padding='same'))\n",
    "    \n",
    "    model.add(Flatten())\n",
    "    \n",
    "    model.add(Dense(64, kernel_regularizer=regularizers.l2(0.01)))\n",
    "    model.add(Activation('relu'))\n",
    "    \n",
    "    model.add(Dropout(0.4))\n",
    "\n",
    "    model.add(Dense(classes))\n",
    "    model.add(Activation('softmax'))\n",
    "    \n",
    "    #model.summary()\n",
    "    \n",
    "    return model"
   ]
  },
  {
   "cell_type": "code",
   "execution_count": 18,
   "metadata": {},
   "outputs": [],
   "source": [
    "model_test = TestModel((10,113))"
   ]
  },
  {
   "cell_type": "code",
   "execution_count": 19,
   "metadata": {},
   "outputs": [],
   "source": [
    "opt = Adam(lr=0.01)\n",
    "model_test.compile(optimizer = opt, loss = \"categorical_crossentropy\", metrics = [\"accuracy\"])"
   ]
  },
  {
   "cell_type": "code",
   "execution_count": 21,
   "metadata": {},
   "outputs": [
    {
     "name": "stdout",
     "output_type": "stream",
     "text": [
      "Train on 31986 samples, validate on 11506 samples\n",
      "Epoch 1/50\n",
      "31986/31986 [==============================] - 4s 109us/step - loss: 0.5074 - acc: 0.8206 - val_loss: 3.2934 - val_acc: 0.3124\n",
      "Epoch 2/50\n",
      "31986/31986 [==============================] - 3s 99us/step - loss: 0.4893 - acc: 0.8257 - val_loss: 3.0956 - val_acc: 0.3156\n",
      "Epoch 3/50\n",
      "31986/31986 [==============================] - 3s 97us/step - loss: 0.4761 - acc: 0.8301 - val_loss: 3.4884 - val_acc: 0.3323\n",
      "Epoch 4/50\n",
      "31986/31986 [==============================] - 3s 97us/step - loss: 0.4653 - acc: 0.8355 - val_loss: 3.4272 - val_acc: 0.3609\n",
      "Epoch 5/50\n",
      "31986/31986 [==============================] - 3s 97us/step - loss: 0.4650 - acc: 0.8341 - val_loss: 2.2619 - val_acc: 0.3793\n",
      "Epoch 6/50\n",
      "31986/31986 [==============================] - 3s 98us/step - loss: 0.4635 - acc: 0.8363 - val_loss: 3.6022 - val_acc: 0.4273\n",
      "Epoch 7/50\n",
      "31986/31986 [==============================] - 3s 99us/step - loss: 0.4530 - acc: 0.8400 - val_loss: 3.0134 - val_acc: 0.4185\n",
      "Epoch 8/50\n",
      "31986/31986 [==============================] - 3s 98us/step - loss: 0.4565 - acc: 0.8415 - val_loss: 2.7161 - val_acc: 0.3824\n",
      "Epoch 9/50\n",
      "31986/31986 [==============================] - 3s 97us/step - loss: 0.4351 - acc: 0.8433 - val_loss: 2.8024 - val_acc: 0.3842\n",
      "Epoch 10/50\n",
      "31986/31986 [==============================] - 3s 96us/step - loss: 0.4433 - acc: 0.8467 - val_loss: 3.7666 - val_acc: 0.3765\n",
      "Epoch 11/50\n",
      "31986/31986 [==============================] - 3s 95us/step - loss: 0.4444 - acc: 0.8425 - val_loss: 2.8500 - val_acc: 0.3730\n",
      "Epoch 12/50\n",
      "31986/31986 [==============================] - 3s 97us/step - loss: 0.4240 - acc: 0.8483 - val_loss: 2.9828 - val_acc: 0.3960\n",
      "Epoch 13/50\n",
      "31986/31986 [==============================] - 3s 98us/step - loss: 0.4155 - acc: 0.8505 - val_loss: 3.4675 - val_acc: 0.3861\n",
      "Epoch 14/50\n",
      "31986/31986 [==============================] - 3s 97us/step - loss: 0.4180 - acc: 0.8559 - val_loss: 4.4827 - val_acc: 0.4222\n",
      "Epoch 15/50\n",
      "31986/31986 [==============================] - 3s 98us/step - loss: 0.4032 - acc: 0.8548 - val_loss: 3.8323 - val_acc: 0.4187\n",
      "Epoch 16/50\n",
      "31986/31986 [==============================] - 3s 98us/step - loss: 0.4099 - acc: 0.8545 - val_loss: 3.0446 - val_acc: 0.4059\n",
      "Epoch 17/50\n",
      "31986/31986 [==============================] - 3s 99us/step - loss: 0.4112 - acc: 0.8582 - val_loss: 3.6135 - val_acc: 0.3886\n",
      "Epoch 18/50\n",
      "31986/31986 [==============================] - 3s 98us/step - loss: 0.3995 - acc: 0.8607 - val_loss: 3.8608 - val_acc: 0.4166\n",
      "Epoch 19/50\n",
      "31986/31986 [==============================] - 3s 96us/step - loss: 0.3890 - acc: 0.8632 - val_loss: 3.6594 - val_acc: 0.3313\n",
      "Epoch 20/50\n",
      "31986/31986 [==============================] - 3s 99us/step - loss: 0.3946 - acc: 0.8598 - val_loss: 3.7637 - val_acc: 0.4626\n",
      "Epoch 21/50\n",
      "31986/31986 [==============================] - 3s 97us/step - loss: 0.4120 - acc: 0.8575 - val_loss: 3.5114 - val_acc: 0.3386\n",
      "Epoch 22/50\n",
      "31986/31986 [==============================] - 3s 99us/step - loss: 0.3885 - acc: 0.8647 - val_loss: 3.6636 - val_acc: 0.3732\n",
      "Epoch 23/50\n",
      "31986/31986 [==============================] - 3s 98us/step - loss: 0.3892 - acc: 0.8617 - val_loss: 3.9915 - val_acc: 0.2780\n",
      "Epoch 24/50\n",
      "31986/31986 [==============================] - 3s 97us/step - loss: 0.3876 - acc: 0.8648 - val_loss: 3.9805 - val_acc: 0.2250\n",
      "Epoch 25/50\n",
      "31986/31986 [==============================] - 3s 98us/step - loss: 0.3855 - acc: 0.8655 - val_loss: 3.6436 - val_acc: 0.2821\n",
      "Epoch 26/50\n",
      "31986/31986 [==============================] - 3s 98us/step - loss: 0.3870 - acc: 0.8621 - val_loss: 4.0951 - val_acc: 0.4101\n",
      "Epoch 27/50\n",
      "31986/31986 [==============================] - 3s 97us/step - loss: 0.3974 - acc: 0.8600 - val_loss: 3.9843 - val_acc: 0.4036\n",
      "Epoch 28/50\n",
      "31986/31986 [==============================] - 3s 98us/step - loss: 0.3775 - acc: 0.8655 - val_loss: 4.9002 - val_acc: 0.3891\n",
      "Epoch 29/50\n",
      "31986/31986 [==============================] - 3s 99us/step - loss: 0.3834 - acc: 0.8703 - val_loss: 3.4623 - val_acc: 0.3878\n",
      "Epoch 30/50\n",
      "31986/31986 [==============================] - 3s 99us/step - loss: 0.3854 - acc: 0.8653 - val_loss: 4.2914 - val_acc: 0.4222\n",
      "Epoch 31/50\n",
      "31986/31986 [==============================] - 3s 99us/step - loss: 0.3761 - acc: 0.8662 - val_loss: 4.9581 - val_acc: 0.2905\n",
      "Epoch 32/50\n",
      "31986/31986 [==============================] - 3s 99us/step - loss: 0.4019 - acc: 0.8641 - val_loss: 4.5086 - val_acc: 0.3331\n",
      "Epoch 33/50\n",
      "31986/31986 [==============================] - 3s 97us/step - loss: 0.3753 - acc: 0.8673 - val_loss: 3.8894 - val_acc: 0.3863\n",
      "Epoch 34/50\n",
      "31986/31986 [==============================] - 3s 98us/step - loss: 0.3667 - acc: 0.8695 - val_loss: 4.6620 - val_acc: 0.4155\n",
      "Epoch 35/50\n",
      "31986/31986 [==============================] - 3s 97us/step - loss: 0.3789 - acc: 0.8666 - val_loss: 4.0304 - val_acc: 0.4055\n",
      "Epoch 36/50\n",
      "31986/31986 [==============================] - 3s 96us/step - loss: 0.3659 - acc: 0.8703 - val_loss: 4.1006 - val_acc: 0.4007\n",
      "Epoch 37/50\n",
      "31986/31986 [==============================] - 3s 99us/step - loss: 0.3520 - acc: 0.8738 - val_loss: 4.6630 - val_acc: 0.3778\n",
      "Epoch 38/50\n",
      "31986/31986 [==============================] - 3s 98us/step - loss: 0.3519 - acc: 0.8765 - val_loss: 5.0098 - val_acc: 0.2779\n",
      "Epoch 39/50\n",
      "31986/31986 [==============================] - 3s 99us/step - loss: 0.3874 - acc: 0.8668 - val_loss: 5.8250 - val_acc: 0.3529\n",
      "Epoch 40/50\n",
      "31986/31986 [==============================] - 3s 97us/step - loss: 0.3551 - acc: 0.8732 - val_loss: 5.8125 - val_acc: 0.4167\n",
      "Epoch 41/50\n",
      "31986/31986 [==============================] - 3s 96us/step - loss: 0.3537 - acc: 0.8741 - val_loss: 4.5181 - val_acc: 0.4342\n",
      "Epoch 42/50\n",
      "31986/31986 [==============================] - 3s 97us/step - loss: 0.3697 - acc: 0.8748 - val_loss: 4.9875 - val_acc: 0.4197\n",
      "Epoch 43/50\n",
      "31986/31986 [==============================] - 3s 96us/step - loss: 0.3590 - acc: 0.8720 - val_loss: 4.4868 - val_acc: 0.3805\n",
      "Epoch 44/50\n",
      "31986/31986 [==============================] - 3s 97us/step - loss: 0.3543 - acc: 0.8766 - val_loss: 3.2586 - val_acc: 0.4393\n",
      "Epoch 45/50\n",
      "31986/31986 [==============================] - 3s 95us/step - loss: 0.3595 - acc: 0.8744 - val_loss: 3.7587 - val_acc: 0.4468\n",
      "Epoch 46/50\n",
      "31986/31986 [==============================] - 3s 95us/step - loss: 0.3571 - acc: 0.8725 - val_loss: 2.8505 - val_acc: 0.3808\n",
      "Epoch 47/50\n",
      "31986/31986 [==============================] - 3s 96us/step - loss: 0.3450 - acc: 0.8790 - val_loss: 4.6908 - val_acc: 0.3632\n",
      "Epoch 48/50\n",
      "31986/31986 [==============================] - 3s 96us/step - loss: 0.3615 - acc: 0.8723 - val_loss: 4.3101 - val_acc: 0.3977\n",
      "Epoch 49/50\n",
      "31986/31986 [==============================] - 3s 100us/step - loss: 0.3527 - acc: 0.8761 - val_loss: 3.9466 - val_acc: 0.3865\n",
      "Epoch 50/50\n",
      "31986/31986 [==============================] - 3s 98us/step - loss: 0.3384 - acc: 0.8801 - val_loss: 3.1950 - val_acc: 0.4183\n"
     ]
    },
    {
     "data": {
      "text/plain": [
       "<keras.callbacks.History at 0x1efc6edd748>"
      ]
     },
     "execution_count": 21,
     "metadata": {},
     "output_type": "execute_result"
    }
   ],
   "source": [
    "model_test.fit(x = cube, y = YOH_train_final, epochs = 50, batch_size = 128, validation_data=(cube_test,YOH_test_final))"
   ]
  },
  {
   "cell_type": "code",
   "execution_count": 22,
   "metadata": {},
   "outputs": [
    {
     "name": "stdout",
     "output_type": "stream",
     "text": [
      "y_pred:\n",
      " [[1.6696760e-01 7.4216527e-01 8.8594124e-02 4.3564499e-10 1.9657209e-03\n",
      "  3.0731983e-04]\n",
      " [1.5393494e-01 7.5841010e-01 8.5008234e-02 6.2347355e-10 2.3586785e-03\n",
      "  2.8804617e-04]\n",
      " [1.4686273e-01 7.6641011e-01 8.3467238e-02 9.9126674e-10 2.9450303e-03\n",
      "  3.1496675e-04]\n",
      " ...\n",
      " [1.0176175e-02 1.0408321e-01 8.8542175e-01 2.7529106e-11 3.1836124e-04\n",
      "  5.7708144e-07]\n",
      " [1.7397210e-02 1.6166222e-01 8.1966060e-01 6.6418360e-10 1.2737638e-03\n",
      "  6.2887425e-06]\n",
      " [2.1246947e-02 1.4496298e-01 8.3272594e-01 3.4836592e-10 1.0570533e-03\n",
      "  7.1414297e-06]]\n",
      "\n",
      "y_pred_hard:\n",
      " [1 1 1 ... 2 2 2]\n",
      "\n",
      "YOH_pred:\n",
      " [[0. 1. 0. 0. 0. 0.]\n",
      " [0. 1. 0. 0. 0. 0.]\n",
      " [0. 1. 0. 0. 0. 0.]\n",
      " ...\n",
      " [0. 0. 1. 0. 0. 0.]\n",
      " [0. 0. 1. 0. 0. 0.]\n",
      " [0. 0. 1. 0. 0. 0.]]\n"
     ]
    }
   ],
   "source": [
    "y_pred = model_test.predict(cube_test)\n",
    "print(\"y_pred:\\n\", y_pred)\n",
    "\n",
    "y_pred_hard = np.argmax(y_pred, axis=1)\n",
    "print(\"\\ny_pred_hard:\\n\", y_pred_hard)\n",
    "\n",
    "YOH_pred = onehot_encoder.fit_transform(y_pred_hard.reshape(-1, 1))\n",
    "print(\"\\nYOH_pred:\\n\", YOH_pred)"
   ]
  },
  {
   "cell_type": "code",
   "execution_count": 24,
   "metadata": {},
   "outputs": [
    {
     "name": "stdout",
     "output_type": "stream",
     "text": [
      "F1-measure:  0.3461984531099786\n",
      "ROC-AUC measure:  {0: 0.6086335232608325, 1: 0.6374286570335663, 2: 0.6895230842286239, 3: nan, 4: 0.5, 5: 0.4998644006508769}\n"
     ]
    },
    {
     "name": "stderr",
     "output_type": "stream",
     "text": [
      "C:\\Users\\Riccardo\\Anaconda3\\lib\\site-packages\\sklearn\\metrics\\classification.py:1135: UndefinedMetricWarning: F-score is ill-defined and being set to 0.0 in labels with no predicted samples.\n",
      "  'precision', 'predicted', average, warn_for)\n",
      "C:\\Users\\Riccardo\\Anaconda3\\lib\\site-packages\\sklearn\\metrics\\classification.py:1137: UndefinedMetricWarning: F-score is ill-defined and being set to 0.0 in labels with no true samples.\n",
      "  'recall', 'true', average, warn_for)\n",
      "C:\\Users\\Riccardo\\Anaconda3\\lib\\site-packages\\sklearn\\metrics\\ranking.py:571: UndefinedMetricWarning: No positive samples in y_true, true positive value should be meaningless\n",
      "  UndefinedMetricWarning)\n"
     ]
    }
   ],
   "source": [
    "print(\"F1-measure: \", f1_score(YOH_test_final, YOH_pred, average='weighted'))\n",
    "\n",
    "# Compute ROC curve and ROC area for each class\n",
    "fpr = dict()\n",
    "tpr = dict()\n",
    "roc_auc = dict()\n",
    "for i in range(classes):\n",
    "    fpr[i], tpr[i], _ = roc_curve(YOH_test_final[:, i], YOH_pred[:, i])\n",
    "    roc_auc[i] = auc(fpr[i], tpr[i])\n",
    "\n",
    "print(\"ROC-AUC measure: \", roc_auc)"
   ]
  },
  {
   "cell_type": "code",
   "execution_count": 29,
   "metadata": {},
   "outputs": [
    {
     "ename": "AttributeError",
     "evalue": "module 'matplotlib' has no attribute 'plot'",
     "output_type": "error",
     "traceback": [
      "\u001b[1;31m---------------------------------------------------------------------------\u001b[0m",
      "\u001b[1;31mAttributeError\u001b[0m                            Traceback (most recent call last)",
      "\u001b[1;32m<ipython-input-29-680921b2767b>\u001b[0m in \u001b[0;36m<module>\u001b[1;34m()\u001b[0m\n\u001b[1;32m----> 1\u001b[1;33m \u001b[0mplt\u001b[0m\u001b[1;33m.\u001b[0m\u001b[0mplot\u001b[0m\u001b[1;33m(\u001b[0m\u001b[0mYOH_test_final\u001b[0m\u001b[1;33m)\u001b[0m\u001b[1;33m\u001b[0m\u001b[0m\n\u001b[0m",
      "\u001b[1;31mAttributeError\u001b[0m: module 'matplotlib' has no attribute 'plot'"
     ]
    }
   ],
   "source": [
    "plt."
   ]
  },
  {
   "cell_type": "code",
   "execution_count": null,
   "metadata": {},
   "outputs": [],
   "source": []
  }
 ],
 "metadata": {
  "kernelspec": {
   "display_name": "Python 3",
   "language": "python",
   "name": "python3"
  },
  "language_info": {
   "codemirror_mode": {
    "name": "ipython",
    "version": 3
   },
   "file_extension": ".py",
   "mimetype": "text/x-python",
   "name": "python",
   "nbconvert_exporter": "python",
   "pygments_lexer": "ipython3",
   "version": "3.6.4"
  }
 },
 "nbformat": 4,
 "nbformat_minor": 2
}
