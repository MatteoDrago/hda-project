{
 "cells": [
  {
   "cell_type": "markdown",
   "metadata": {},
   "source": [
    "# Keras Implementation - Human Data Analytics Project \n",
    "\n",
    "Importing all modules that we need for our elaboration"
   ]
  },
  {
   "cell_type": "code",
   "execution_count": 1,
   "metadata": {},
   "outputs": [
    {
     "name": "stderr",
     "output_type": "stream",
     "text": [
      "Using TensorFlow backend.\n"
     ]
    }
   ],
   "source": [
    "import numpy as np\n",
    "import scipy.io\n",
    "from sklearn.preprocessing import OneHotEncoder, StandardScaler\n",
    "from sklearn.metrics import f1_score, roc_curve, auc\n",
    "import matplotlib as plt\n",
    "\n",
    "import warnings\n",
    "with warnings.catch_warnings():\n",
    "    warnings.filterwarnings(\"ignore\",category=FutureWarning)\n",
    "    \n",
    "    from keras import regularizers\n",
    "    from keras.layers import Conv1D, BatchNormalization, Dropout, LeakyReLU, Flatten, Activation, Dense, MaxPooling1D\n",
    "    from keras.models import Model, Sequential\n",
    "    from keras.optimizers import Adam\n",
    "    import keras.backend as K\n",
    "    \n",
    "K.set_image_data_format('channels_last')\n",
    "\n",
    "%matplotlib inline"
   ]
  },
  {
   "cell_type": "markdown",
   "metadata": {},
   "source": [
    "# Preprocessing Section\n",
    "Importing data sessions for subject 1"
   ]
  },
  {
   "cell_type": "code",
   "execution_count": 2,
   "metadata": {},
   "outputs": [],
   "source": [
    "x1 = scipy.io.loadmat(\"prep/A_nonzero/S1-ADL1\", mdict={'filled_features':'features', 'labels':'labels'})\n",
    "x2 = scipy.io.loadmat(\"prep/A_nonzero/S1-ADL2\", mdict={'filled_features':'features', 'labels':'labels'})\n",
    "x3 = scipy.io.loadmat(\"prep/A_nonzero/S1-ADL3\", mdict={'filled_features':'features', 'labels':'labels'})\n",
    "x4 = scipy.io.loadmat(\"prep/A_nonzero/S1-ADL4\", mdict={'filled_features':'features', 'labels':'labels'})\n",
    "x5 = scipy.io.loadmat(\"prep/A_nonzero/S1-ADL5\", mdict={'filled_features':'features', 'labels':'labels'})\n",
    "x6 = scipy.io.loadmat(\"prep/A_nonzero/S1-Drill\", mdict={'filled_features':'features', 'labels':'labels'})"
   ]
  },
  {
   "cell_type": "markdown",
   "metadata": {},
   "source": [
    "Check the number of recorded samples for each session"
   ]
  },
  {
   "cell_type": "code",
   "execution_count": 3,
   "metadata": {},
   "outputs": [
    {
     "name": "stdout",
     "output_type": "stream",
     "text": [
      "Session shapes:\n",
      "\n",
      "ADL1:   (37507, 113)\n",
      "ADL2:   (24510, 113)\n",
      "ADL3:   (25305, 113)\n",
      "ADL4:   (24851, 113)\n",
      "ADL5:   (22440, 113)\n",
      "Drill:  (52105, 113)\n",
      "\n",
      "Training set: ADL1 + ADL2 + ADL3 + Drill =  139427\n",
      "Test set: ADL4 + ADL5 =  47291\n"
     ]
    }
   ],
   "source": [
    "print(\"Session shapes:\\n\")\n",
    "print(\"ADL1:  \", x1['filled_features'].shape)\n",
    "print(\"ADL2:  \", x2['filled_features'].shape)\n",
    "print(\"ADL3:  \", x3['filled_features'].shape)\n",
    "print(\"ADL4:  \", x4['filled_features'].shape)\n",
    "print(\"ADL5:  \", x5['filled_features'].shape)\n",
    "print(\"Drill: \", x6['filled_features'].shape)\n",
    "print(\"\\nTraining set: ADL1 + ADL2 + ADL3 + Drill = \", x1['filled_features'].shape[0] + x2['filled_features'].shape[0] + x3['filled_features'].shape[0] + x6['filled_features'].shape[0])\n",
    "print(\"Test set: ADL4 + ADL5 = \", x4['filled_features'].shape[0] + x5['filled_features'].shape[0])"
   ]
  },
  {
   "cell_type": "markdown",
   "metadata": {},
   "source": [
    "We split the data into train and test set."
   ]
  },
  {
   "cell_type": "code",
   "execution_count": 4,
   "metadata": {},
   "outputs": [
    {
     "name": "stdout",
     "output_type": "stream",
     "text": [
      "X_train shape:  (139427, 113)\n",
      "X_test shape:  (47291, 113)\n"
     ]
    }
   ],
   "source": [
    "# features\n",
    "X_train = np.concatenate((x1['filled_features'],x2['filled_features'],x3['filled_features'],x6['filled_features']),axis=0)\n",
    "X_test = np.concatenate((x4['filled_features'],x5['filled_features']),axis=0)\n",
    "\n",
    "# labels (locomotion activity)\n",
    "Y_train = np.concatenate((x1['labels'][:,0],x2['labels'][:,0],x3['labels'][:,0],x6['labels'][:,0]),axis=0) # here we take just the first column because we want to fulfill the first task\n",
    "Y_test = np.concatenate((x4['labels'][:,0],x5['labels'][:,0]))\n",
    "#Y_test = np.concatenate((x4['labels'][:,0],x5['labels'][:,0]),axis=0)\n",
    "\n",
    "# Initial decision to overcome the problem of entire missing columns\n",
    "X_train = np.nan_to_num(X_train)\n",
    "X_test = np.nan_to_num(X_test)\n",
    "\n",
    "print(\"X_train shape: \", X_train.shape)\n",
    "print(\"X_test shape: \", X_test.shape)\n"
   ]
  },
  {
   "cell_type": "markdown",
   "metadata": {},
   "source": [
    "The dataset needs to be normalized in order to improve performances."
   ]
  },
  {
   "cell_type": "code",
   "execution_count": 5,
   "metadata": {},
   "outputs": [],
   "source": [
    "# fatures normalization\n",
    "scaler = StandardScaler().fit(X_train)\n",
    "X_train =scaler.transform(X_train)\n",
    "X_test = scaler.transform(X_test)"
   ]
  },
  {
   "cell_type": "markdown",
   "metadata": {},
   "source": [
    "We decided to use a onehot encoder for the labels"
   ]
  },
  {
   "cell_type": "code",
   "execution_count": 6,
   "metadata": {},
   "outputs": [
    {
     "name": "stdout",
     "output_type": "stream",
     "text": [
      "The higest label value is:  5\n",
      "YOH_train shape:  (139427, 6)\n",
      "YOH_test shape:  (47291, 6)\n"
     ]
    }
   ],
   "source": [
    "label_max = np.max(Y_train)\n",
    "print(\"The higest label value is: \", label_max)\n",
    "onehot_encoder = OneHotEncoder(n_values=label_max+1, sparse=False)\n",
    "YOH_train = onehot_encoder.fit_transform(Y_train.reshape(-1, 1))\n",
    "YOH_test = onehot_encoder.fit_transform(Y_test.reshape(-1, 1))\n",
    "\n",
    "print(\"YOH_train shape: \", YOH_train.shape)\n",
    "print(\"YOH_test shape: \", YOH_test.shape)"
   ]
  },
  {
   "cell_type": "code",
   "execution_count": 7,
   "metadata": {},
   "outputs": [
    {
     "name": "stdout",
     "output_type": "stream",
     "text": [
      "Number of samples:  139427 \n",
      "Number of classes:  6\n",
      "Number of windows:  27884\n"
     ]
    }
   ],
   "source": [
    "window_size = 10\n",
    "stride = int(window_size / 2)\n",
    "num_features = X_train.shape[1]\n",
    "samples, classes = YOH_train.shape\n",
    "print(\"Number of samples: \", samples, \"\\nNumber of classes: \", classes)\n",
    "\n",
    "windows = int(samples // stride) - 1\n",
    "print(\"Number of windows: \", windows)"
   ]
  },
  {
   "cell_type": "code",
   "execution_count": 8,
   "metadata": {},
   "outputs": [
    {
     "name": "stdout",
     "output_type": "stream",
     "text": [
      "Number of samples:  47291 \n",
      "Number of classes:  6\n",
      "Number of windows:  9457\n"
     ]
    }
   ],
   "source": [
    "num_features_test = X_test.shape[1]\n",
    "samples_test, classes_test = YOH_test.shape\n",
    "print(\"Number of samples: \", samples_test, \"\\nNumber of classes: \", classes_test)\n",
    "\n",
    "windows_test = int(samples_test // stride) - 1\n",
    "print(\"Number of windows: \", windows_test)"
   ]
  },
  {
   "cell_type": "code",
   "execution_count": 9,
   "metadata": {},
   "outputs": [
    {
     "data": {
      "text/plain": [
       "(27884, 10, 113)"
      ]
     },
     "execution_count": 9,
     "metadata": {},
     "output_type": "execute_result"
    }
   ],
   "source": [
    "cube = np.zeros([windows, window_size, num_features])\n",
    "cube.shape"
   ]
  },
  {
   "cell_type": "code",
   "execution_count": 10,
   "metadata": {},
   "outputs": [
    {
     "data": {
      "text/plain": [
       "(9457, 10, 113)"
      ]
     },
     "execution_count": 10,
     "metadata": {},
     "output_type": "execute_result"
    }
   ],
   "source": [
    "cube_test = np.zeros([windows_test, window_size, num_features])\n",
    "cube_test.shape"
   ]
  },
  {
   "cell_type": "code",
   "execution_count": 11,
   "metadata": {},
   "outputs": [
    {
     "data": {
      "text/plain": [
       "(27884,)"
      ]
     },
     "execution_count": 11,
     "metadata": {},
     "output_type": "execute_result"
    }
   ],
   "source": [
    "lab_cum = np.zeros([windows])\n",
    "lab_cum.shape"
   ]
  },
  {
   "cell_type": "code",
   "execution_count": 12,
   "metadata": {},
   "outputs": [
    {
     "data": {
      "text/plain": [
       "(9457,)"
      ]
     },
     "execution_count": 12,
     "metadata": {},
     "output_type": "execute_result"
    }
   ],
   "source": [
    "lab_cum_test = np.zeros([windows_test])\n",
    "lab_cum_test.shape"
   ]
  },
  {
   "cell_type": "code",
   "execution_count": 13,
   "metadata": {},
   "outputs": [],
   "source": [
    "for w in range(windows):\n",
    "    index = int(w * stride)\n",
    "    cube[w,:,:] = X_train[index:index+window_size, :].reshape((window_size,num_features))\n",
    "    l = YOH_train[index:index+window_size,:] # shape 50 x 5\n",
    "    #print(np.sum(l, axis=0),np.argmax(np.sum(l, axis=0)))\n",
    "    lab_cum[w] = np.argmax(np.sum(l, axis=0))"
   ]
  },
  {
   "cell_type": "code",
   "execution_count": 14,
   "metadata": {},
   "outputs": [],
   "source": [
    "for w in range(windows_test):\n",
    "    index = int(w * stride)\n",
    "    cube_test[w,:,:] = X_test[index:index+window_size, :].reshape((window_size,num_features))\n",
    "    l = YOH_test[index:index+window_size,:] # shape 50 x 5\n",
    "    #print(np.sum(l, axis=0),np.argmax(np.sum(l, axis=0)))\n",
    "    lab_cum_test[w] = np.argmax(np.sum(l, axis=0))"
   ]
  },
  {
   "cell_type": "code",
   "execution_count": 15,
   "metadata": {},
   "outputs": [
    {
     "name": "stdout",
     "output_type": "stream",
     "text": [
      "[[0. 1. 0. 0. 0. 0.]\n",
      " [0. 1. 0. 0. 0. 0.]\n",
      " [0. 1. 0. 0. 0. 0.]\n",
      " ...\n",
      " [0. 0. 1. 0. 0. 0.]\n",
      " [0. 0. 1. 0. 0. 0.]\n",
      " [0. 0. 1. 0. 0. 0.]]\n"
     ]
    }
   ],
   "source": [
    "#print('cumulative labels: ', lab_cum.shape, type(lab_cum), \"\\n\", lab_cum)\n",
    "YOH_train_final = onehot_encoder.fit_transform(lab_cum.reshape(-1, 1))\n",
    "print(YOH_train_final)"
   ]
  },
  {
   "cell_type": "code",
   "execution_count": 16,
   "metadata": {},
   "outputs": [
    {
     "name": "stdout",
     "output_type": "stream",
     "text": [
      "[[0. 1. 0. 0. 0. 0.]\n",
      " [0. 1. 0. 0. 0. 0.]\n",
      " [0. 1. 0. 0. 0. 0.]\n",
      " ...\n",
      " [0. 0. 1. 0. 0. 0.]\n",
      " [0. 0. 1. 0. 0. 0.]\n",
      " [0. 0. 1. 0. 0. 0.]]\n"
     ]
    }
   ],
   "source": [
    "YOH_test_final = onehot_encoder.fit_transform(lab_cum_test.reshape(-1, 1))\n",
    "print(YOH_test_final)"
   ]
  },
  {
   "cell_type": "code",
   "execution_count": 17,
   "metadata": {},
   "outputs": [],
   "source": [
    "def TestModel(input_shape):\n",
    "    \"\"\" \n",
    "    Arguments:\n",
    "    input_shape -- shape of the images of the dataset\n",
    "\n",
    "    Returns: \n",
    "    model -- a Model() instance in Keras\n",
    "    \"\"\"\n",
    "    \n",
    "    model = Sequential()\n",
    "    model.add(Conv1D(filters = 18,\n",
    "                    kernel_size=5,\n",
    "                    strides=1,\n",
    "                    padding='same',\n",
    "                    input_shape = input_shape))\n",
    "    model.add(BatchNormalization())\n",
    "    model.add(Activation('relu'))\n",
    "    model.add(MaxPooling1D(pool_size=2,\n",
    "                          strides=2,\n",
    "                          padding='same'))\n",
    "    \n",
    "    model.add(Conv1D(filters = 36,\n",
    "                    kernel_size=7,\n",
    "                    strides=1,\n",
    "                    padding='same'))\n",
    "    model.add(BatchNormalization())\n",
    "    model.add(Activation('relu'))\n",
    "    model.add(MaxPooling1D(pool_size=2,\n",
    "                          strides=2,\n",
    "                          padding='same'))\n",
    "    \n",
    "    model.add(Dropout(0.2))\n",
    "    \n",
    "    model.add(Conv1D(filters = 72,\n",
    "                    kernel_size=7,\n",
    "                    strides=1,\n",
    "                    padding='same'))\n",
    "    model.add(BatchNormalization())\n",
    "    model.add(Activation('relu'))\n",
    "    model.add(MaxPooling1D(pool_size=2,\n",
    "                          strides=2,\n",
    "                          padding='same'))\n",
    "    \n",
    "    #model.add(Conv1D(filters = 144,\n",
    "    #                kernel_size=7,\n",
    "    #                strides=1,\n",
    "    #                padding='same'))\n",
    "    #model.add(BatchNormalization())\n",
    "    #model.add(Activation('relu'))\n",
    "    #model.add(MaxPooling1D(pool_size=2,\n",
    "    #                      strides=2,\n",
    "    #                      padding='same'))\n",
    "    \n",
    "    model.add(Flatten())\n",
    "    \n",
    "    model.add(Dense(64, kernel_regularizer=regularizers.l2(0.01)))\n",
    "    model.add(Activation('relu'))\n",
    "    \n",
    "    model.add(Dropout(0.4))\n",
    "\n",
    "    model.add(Dense(classes))\n",
    "    model.add(Activation('softmax'))\n",
    "    \n",
    "    #model.summary()\n",
    "    \n",
    "    return model"
   ]
  },
  {
   "cell_type": "code",
   "execution_count": 18,
   "metadata": {},
   "outputs": [],
   "source": [
    "model_test = TestModel((10,113))"
   ]
  },
  {
   "cell_type": "code",
   "execution_count": 19,
   "metadata": {},
   "outputs": [],
   "source": [
    "opt = Adam(lr=0.01)\n",
    "model_test.compile(optimizer = opt, loss = \"categorical_crossentropy\", metrics = [\"accuracy\"])"
   ]
  },
  {
   "cell_type": "code",
   "execution_count": 20,
   "metadata": {},
   "outputs": [
    {
     "name": "stdout",
     "output_type": "stream",
     "text": [
      "Train on 27884 samples, validate on 9457 samples\n",
      "Epoch 1/50\n",
      "27884/27884 [==============================] - 7s 267us/step - loss: 0.4510 - acc: 0.8633 - val_loss: 0.2746 - val_acc: 0.8999\n",
      "Epoch 2/50\n",
      "27884/27884 [==============================] - 3s 104us/step - loss: 0.2810 - acc: 0.9034 - val_loss: 0.3166 - val_acc: 0.9283\n",
      "Epoch 3/50\n",
      "27884/27884 [==============================] - 3s 103us/step - loss: 0.2482 - acc: 0.9138 - val_loss: 0.3778 - val_acc: 0.9117\n",
      "Epoch 4/50\n",
      "27884/27884 [==============================] - 3s 103us/step - loss: 0.2360 - acc: 0.9201 - val_loss: 0.2993 - val_acc: 0.9301\n",
      "Epoch 5/50\n",
      "27884/27884 [==============================] - 3s 103us/step - loss: 0.2300 - acc: 0.9222 - val_loss: 0.3195 - val_acc: 0.9292\n",
      "Epoch 6/50\n",
      "27884/27884 [==============================] - 3s 103us/step - loss: 0.2156 - acc: 0.9266 - val_loss: 0.3313 - val_acc: 0.9229\n",
      "Epoch 7/50\n",
      "27884/27884 [==============================] - 3s 104us/step - loss: 0.2066 - acc: 0.9272 - val_loss: 0.2993 - val_acc: 0.9306\n",
      "Epoch 8/50\n",
      "27884/27884 [==============================] - 3s 103us/step - loss: 0.2052 - acc: 0.9314 - val_loss: 0.3123 - val_acc: 0.9303\n",
      "Epoch 9/50\n",
      "27884/27884 [==============================] - 3s 103us/step - loss: 0.1948 - acc: 0.9326 - val_loss: 0.3207 - val_acc: 0.9223\n",
      "Epoch 10/50\n",
      "27884/27884 [==============================] - 3s 104us/step - loss: 0.1946 - acc: 0.9354 - val_loss: 0.3407 - val_acc: 0.9310\n",
      "Epoch 11/50\n",
      "27884/27884 [==============================] - 3s 104us/step - loss: 0.1843 - acc: 0.9376 - val_loss: 0.3084 - val_acc: 0.9348\n",
      "Epoch 12/50\n",
      "27884/27884 [==============================] - 3s 103us/step - loss: 0.1846 - acc: 0.9377 - val_loss: 0.3114 - val_acc: 0.9329\n",
      "Epoch 13/50\n",
      "27884/27884 [==============================] - 3s 103us/step - loss: 0.1744 - acc: 0.9402 - val_loss: 0.3312 - val_acc: 0.9294\n",
      "Epoch 14/50\n",
      "27884/27884 [==============================] - 3s 103us/step - loss: 0.1649 - acc: 0.9429 - val_loss: 0.3463 - val_acc: 0.9288\n",
      "Epoch 15/50\n",
      "27884/27884 [==============================] - 3s 104us/step - loss: 0.2029 - acc: 0.9418 - val_loss: 0.3594 - val_acc: 0.9235\n",
      "Epoch 16/50\n",
      "27884/27884 [==============================] - 3s 104us/step - loss: 0.1836 - acc: 0.9423 - val_loss: 0.3135 - val_acc: 0.9259\n",
      "Epoch 17/50\n",
      "27884/27884 [==============================] - 3s 104us/step - loss: 0.1575 - acc: 0.9445 - val_loss: 0.3090 - val_acc: 0.9263\n",
      "Epoch 18/50\n",
      "27884/27884 [==============================] - 3s 104us/step - loss: 0.1499 - acc: 0.9480 - val_loss: 0.3123 - val_acc: 0.9258\n",
      "Epoch 19/50\n",
      "27884/27884 [==============================] - 3s 103us/step - loss: 0.1464 - acc: 0.9488 - val_loss: 0.3949 - val_acc: 0.9103\n",
      "Epoch 20/50\n",
      "27884/27884 [==============================] - 3s 104us/step - loss: 0.1528 - acc: 0.9503 - val_loss: 0.3201 - val_acc: 0.9321\n",
      "Epoch 21/50\n",
      "27884/27884 [==============================] - 3s 104us/step - loss: 0.1602 - acc: 0.9489 - val_loss: 0.3318 - val_acc: 0.9298\n",
      "Epoch 22/50\n",
      "27884/27884 [==============================] - 3s 104us/step - loss: 0.1437 - acc: 0.9525 - val_loss: 0.3290 - val_acc: 0.9262\n",
      "Epoch 23/50\n",
      "27884/27884 [==============================] - 3s 104us/step - loss: 0.1476 - acc: 0.9513 - val_loss: 0.3512 - val_acc: 0.9207\n",
      "Epoch 24/50\n",
      "27884/27884 [==============================] - 3s 103us/step - loss: 0.1396 - acc: 0.9545 - val_loss: 0.4414 - val_acc: 0.9095\n",
      "Epoch 25/50\n",
      "27884/27884 [==============================] - 3s 104us/step - loss: 0.1506 - acc: 0.9511 - val_loss: 0.3810 - val_acc: 0.9188\n",
      "Epoch 26/50\n",
      "27884/27884 [==============================] - 3s 104us/step - loss: 0.1403 - acc: 0.9534 - val_loss: 0.3661 - val_acc: 0.9204\n",
      "Epoch 27/50\n",
      "27884/27884 [==============================] - 3s 104us/step - loss: 0.2366 - acc: 0.9476 - val_loss: 0.3856 - val_acc: 0.9178\n",
      "Epoch 28/50\n",
      "27884/27884 [==============================] - 3s 104us/step - loss: 0.1536 - acc: 0.9511 - val_loss: 0.3797 - val_acc: 0.9171\n",
      "Epoch 29/50\n",
      "27884/27884 [==============================] - 3s 104us/step - loss: 0.1321 - acc: 0.9570 - val_loss: 0.3239 - val_acc: 0.9290\n",
      "Epoch 30/50\n",
      "27884/27884 [==============================] - 3s 104us/step - loss: 0.1238 - acc: 0.9568 - val_loss: 0.3455 - val_acc: 0.9232\n",
      "Epoch 31/50\n",
      "27884/27884 [==============================] - 3s 104us/step - loss: 0.1292 - acc: 0.9557 - val_loss: 0.3530 - val_acc: 0.9205\n",
      "Epoch 32/50\n",
      "27884/27884 [==============================] - 3s 106us/step - loss: 0.1272 - acc: 0.9561 - val_loss: 0.3372 - val_acc: 0.9251\n",
      "Epoch 33/50\n",
      "27884/27884 [==============================] - 3s 104us/step - loss: 0.1231 - acc: 0.9594 - val_loss: 0.3305 - val_acc: 0.9205\n",
      "Epoch 34/50\n",
      "27884/27884 [==============================] - 3s 103us/step - loss: 0.1257 - acc: 0.9600 - val_loss: 0.3183 - val_acc: 0.9265\n",
      "Epoch 35/50\n",
      "27884/27884 [==============================] - 3s 104us/step - loss: 0.1185 - acc: 0.9603 - val_loss: 0.3748 - val_acc: 0.9233\n",
      "Epoch 36/50\n",
      "27884/27884 [==============================] - 3s 104us/step - loss: 0.1432 - acc: 0.9567 - val_loss: 0.4106 - val_acc: 0.9205\n",
      "Epoch 37/50\n",
      "27884/27884 [==============================] - 3s 104us/step - loss: 0.1241 - acc: 0.9608 - val_loss: 0.3938 - val_acc: 0.9195\n",
      "Epoch 38/50\n",
      "27884/27884 [==============================] - 3s 104us/step - loss: 0.1171 - acc: 0.9623 - val_loss: 0.3749 - val_acc: 0.9248\n",
      "Epoch 39/50\n",
      "27884/27884 [==============================] - 3s 104us/step - loss: 0.1160 - acc: 0.9614 - val_loss: 0.3979 - val_acc: 0.9184\n",
      "Epoch 40/50\n",
      "27884/27884 [==============================] - 3s 103us/step - loss: 0.1192 - acc: 0.9619 - val_loss: 0.4366 - val_acc: 0.9172\n",
      "Epoch 41/50\n",
      "27884/27884 [==============================] - 3s 104us/step - loss: 0.1165 - acc: 0.9628 - val_loss: 0.3466 - val_acc: 0.9230\n",
      "Epoch 42/50\n",
      "27884/27884 [==============================] - 3s 103us/step - loss: 0.1078 - acc: 0.9635 - val_loss: 0.3869 - val_acc: 0.9218\n",
      "Epoch 43/50\n",
      "27884/27884 [==============================] - 3s 103us/step - loss: 0.1103 - acc: 0.9653 - val_loss: 0.4145 - val_acc: 0.9202\n",
      "Epoch 44/50\n",
      "27884/27884 [==============================] - 3s 104us/step - loss: 0.1166 - acc: 0.9656 - val_loss: 0.3776 - val_acc: 0.9234\n",
      "Epoch 45/50\n",
      "27884/27884 [==============================] - 3s 104us/step - loss: 0.1129 - acc: 0.9660 - val_loss: 0.4226 - val_acc: 0.9158\n",
      "Epoch 46/50\n",
      "27884/27884 [==============================] - 3s 103us/step - loss: 0.1097 - acc: 0.9669 - val_loss: 0.4455 - val_acc: 0.9149\n",
      "Epoch 47/50\n",
      "27884/27884 [==============================] - 3s 104us/step - loss: 0.1136 - acc: 0.9664 - val_loss: 0.4201 - val_acc: 0.9209\n",
      "Epoch 48/50\n",
      "27884/27884 [==============================] - 3s 104us/step - loss: 0.1171 - acc: 0.9661 - val_loss: 0.4324 - val_acc: 0.9186\n",
      "Epoch 49/50\n",
      "27884/27884 [==============================] - 3s 104us/step - loss: 0.1150 - acc: 0.9646 - val_loss: 0.4539 - val_acc: 0.9063\n",
      "Epoch 50/50\n",
      "27884/27884 [==============================] - 3s 105us/step - loss: 0.1017 - acc: 0.9686 - val_loss: 0.4437 - val_acc: 0.9167\n"
     ]
    },
    {
     "data": {
      "text/plain": [
       "<keras.callbacks.History at 0x1f000e2ad30>"
      ]
     },
     "execution_count": 20,
     "metadata": {},
     "output_type": "execute_result"
    }
   ],
   "source": [
    "model_test.fit(x = cube, y = YOH_train_final, epochs = 50, batch_size = 128, validation_data=(cube_test,YOH_test_final))"
   ]
  },
  {
   "cell_type": "code",
   "execution_count": 21,
   "metadata": {},
   "outputs": [
    {
     "name": "stdout",
     "output_type": "stream",
     "text": [
      "y_pred:\n",
      " [[1.3969077e-24 9.9998748e-01 1.2481253e-05 7.8678078e-26 7.0251398e-32\n",
      "  9.6364861e-20]\n",
      " [1.8353447e-24 9.9998665e-01 1.3386027e-05 1.0546289e-25 1.1443007e-31\n",
      "  1.2776442e-19]\n",
      " [4.2821142e-22 9.9994445e-01 5.5555483e-05 3.4438199e-23 9.8919007e-28\n",
      "  1.3877968e-17]\n",
      " ...\n",
      " [0.0000000e+00 0.0000000e+00 1.0000000e+00 0.0000000e+00 0.0000000e+00\n",
      "  0.0000000e+00]\n",
      " [0.0000000e+00 0.0000000e+00 1.0000000e+00 0.0000000e+00 0.0000000e+00\n",
      "  0.0000000e+00]\n",
      " [0.0000000e+00 0.0000000e+00 1.0000000e+00 0.0000000e+00 0.0000000e+00\n",
      "  0.0000000e+00]]\n",
      "\n",
      "y_pred_hard:\n",
      " [1 1 1 ... 2 2 2]\n",
      "\n",
      "YOH_pred:\n",
      " [[0. 1. 0. 0. 0. 0.]\n",
      " [0. 1. 0. 0. 0. 0.]\n",
      " [0. 1. 0. 0. 0. 0.]\n",
      " ...\n",
      " [0. 0. 1. 0. 0. 0.]\n",
      " [0. 0. 1. 0. 0. 0.]\n",
      " [0. 0. 1. 0. 0. 0.]]\n"
     ]
    }
   ],
   "source": [
    "y_pred = model_test.predict(cube_test)\n",
    "print(\"y_pred:\\n\", y_pred)\n",
    "\n",
    "y_pred_hard = np.argmax(y_pred, axis=1)\n",
    "print(\"\\ny_pred_hard:\\n\", y_pred_hard)\n",
    "\n",
    "YOH_pred = onehot_encoder.fit_transform(y_pred_hard.reshape(-1, 1))\n",
    "print(\"\\nYOH_pred:\\n\", YOH_pred)"
   ]
  },
  {
   "cell_type": "code",
   "execution_count": 22,
   "metadata": {},
   "outputs": [
    {
     "name": "stdout",
     "output_type": "stream",
     "text": [
      "F1-measure:  0.9171759300164628\n",
      "ROC-AUC measure:  {0: nan, 1: 0.9210150991613577, 2: 0.9000555068992679, 3: nan, 4: 0.9970149687441026, 5: 0.9253393665158371}\n"
     ]
    },
    {
     "name": "stderr",
     "output_type": "stream",
     "text": [
      "C:\\Users\\Riccardo\\Anaconda3\\lib\\site-packages\\sklearn\\metrics\\classification.py:1135: UndefinedMetricWarning: F-score is ill-defined and being set to 0.0 in labels with no predicted samples.\n",
      "  'precision', 'predicted', average, warn_for)\n",
      "C:\\Users\\Riccardo\\Anaconda3\\lib\\site-packages\\sklearn\\metrics\\classification.py:1137: UndefinedMetricWarning: F-score is ill-defined and being set to 0.0 in labels with no true samples.\n",
      "  'recall', 'true', average, warn_for)\n",
      "C:\\Users\\Riccardo\\Anaconda3\\lib\\site-packages\\sklearn\\metrics\\ranking.py:571: UndefinedMetricWarning: No positive samples in y_true, true positive value should be meaningless\n",
      "  UndefinedMetricWarning)\n"
     ]
    }
   ],
   "source": [
    "print(\"F1-measure: \", f1_score(YOH_test_final, YOH_pred, average='weighted'))\n",
    "\n",
    "# Compute ROC curve and ROC area for each class\n",
    "fpr = dict()\n",
    "tpr = dict()\n",
    "roc_auc = dict()\n",
    "for i in range(classes):\n",
    "    fpr[i], tpr[i], _ = roc_curve(YOH_test_final[:, i], YOH_pred[:, i])\n",
    "    roc_auc[i] = auc(fpr[i], tpr[i])\n",
    "\n",
    "print(\"ROC-AUC measure: \", roc_auc)"
   ]
  },
  {
   "cell_type": "code",
   "execution_count": 23,
   "metadata": {},
   "outputs": [
    {
     "ename": "SyntaxError",
     "evalue": "invalid syntax (<ipython-input-23-efb1a9b93a17>, line 1)",
     "output_type": "error",
     "traceback": [
      "\u001b[1;36m  File \u001b[1;32m\"<ipython-input-23-efb1a9b93a17>\"\u001b[1;36m, line \u001b[1;32m1\u001b[0m\n\u001b[1;33m    plt.\u001b[0m\n\u001b[1;37m        ^\u001b[0m\n\u001b[1;31mSyntaxError\u001b[0m\u001b[1;31m:\u001b[0m invalid syntax\n"
     ]
    }
   ],
   "source": [
    "plt."
   ]
  },
  {
   "cell_type": "code",
   "execution_count": null,
   "metadata": {},
   "outputs": [],
   "source": []
  }
 ],
 "metadata": {
  "kernelspec": {
   "display_name": "Python 3",
   "language": "python",
   "name": "python3"
  },
  "language_info": {
   "codemirror_mode": {
    "name": "ipython",
    "version": 3
   },
   "file_extension": ".py",
   "mimetype": "text/x-python",
   "name": "python",
   "nbconvert_exporter": "python",
   "pygments_lexer": "ipython3",
   "version": "3.6.4"
  }
 },
 "nbformat": 4,
 "nbformat_minor": 2
}
