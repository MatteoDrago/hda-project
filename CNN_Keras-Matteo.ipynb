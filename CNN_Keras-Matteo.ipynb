{
 "cells": [
  {
   "cell_type": "markdown",
   "metadata": {},
   "source": [
    "# HDA - Project 3: TASK A\n",
    "## Rows labelled with category 0 has been dropped\n",
    "### In this context, first we dropped the rows and then missing values are interpolated using splines\n",
    "Importing all modules that we need for our elaboration"
   ]
  },
  {
   "cell_type": "code",
   "execution_count": 46,
   "metadata": {},
   "outputs": [],
   "source": [
    "import numpy as np\n",
    "import scipy.io\n",
    "import matplotlib.pyplot as plt\n",
    "import itertools\n",
    "\n",
    "from sklearn.preprocessing import OneHotEncoder, StandardScaler\n",
    "from sklearn.metrics import f1_score, roc_curve, auc, confusion_matrix\n",
    "\n",
    "import warnings\n",
    "with warnings.catch_warnings():\n",
    "    warnings.filterwarnings(\"ignore\",category=FutureWarning)\n",
    "    \n",
    "    from keras import regularizers\n",
    "    from keras.layers import Conv1D, Conv2D, BatchNormalization, Dropout, LeakyReLU, Flatten, Activation, Dense, MaxPooling1D\n",
    "    from keras.models import Model, Sequential\n",
    "    from keras.optimizers import Adam\n",
    "    import keras.backend as K\n",
    "    \n",
    "K.set_image_data_format('channels_last')\n",
    "\n",
    "%matplotlib inline"
   ]
  },
  {
   "cell_type": "markdown",
   "metadata": {},
   "source": [
    "# Preprocessing Section\n",
    "Importing data sessions for subject 1"
   ]
  },
  {
   "cell_type": "code",
   "execution_count": 47,
   "metadata": {},
   "outputs": [],
   "source": [
    "x1 = scipy.io.loadmat(\"prep/A_nonzero/S1-ADL1\", mdict={'filled_features':'features', 'labels':'labels'})\n",
    "x2 = scipy.io.loadmat(\"prep/A_nonzero/S1-ADL2\", mdict={'filled_features':'features', 'labels':'labels'})\n",
    "x3 = scipy.io.loadmat(\"prep/A_nonzero/S1-ADL3\", mdict={'filled_features':'features', 'labels':'labels'})\n",
    "x4 = scipy.io.loadmat(\"prep/A_nonzero/S1-ADL4\", mdict={'filled_features':'features', 'labels':'labels'})\n",
    "x5 = scipy.io.loadmat(\"prep/A_nonzero/S1-ADL5\", mdict={'filled_features':'features', 'labels':'labels'})\n",
    "x6 = scipy.io.loadmat(\"prep/A_nonzero/S1-Drill\", mdict={'filled_features':'features', 'labels':'labels'})"
   ]
  },
  {
   "cell_type": "markdown",
   "metadata": {},
   "source": [
    "Check the number of recorded samples for each session"
   ]
  },
  {
   "cell_type": "code",
   "execution_count": 48,
   "metadata": {},
   "outputs": [
    {
     "name": "stdout",
     "output_type": "stream",
     "text": [
      "Session shapes:\n",
      "\n",
      "ADL1:   (37507, 113)\n",
      "ADL2:   (24510, 113)\n",
      "ADL3:   (25305, 113)\n",
      "ADL4:   (24851, 113)\n",
      "ADL5:   (22440, 113)\n",
      "Drill:  (52105, 113)\n",
      "\n",
      "Training set: ADL1 + ADL2 + ADL3 + Drill =  139427\n",
      "Test set: ADL4 + ADL5 =  47291\n"
     ]
    }
   ],
   "source": [
    "print(\"Session shapes:\\n\")\n",
    "print(\"ADL1:  \", x1['filled_features'].shape)\n",
    "print(\"ADL2:  \", x2['filled_features'].shape)\n",
    "print(\"ADL3:  \", x3['filled_features'].shape)\n",
    "print(\"ADL4:  \", x4['filled_features'].shape)\n",
    "print(\"ADL5:  \", x5['filled_features'].shape)\n",
    "print(\"Drill: \", x6['filled_features'].shape)\n",
    "print(\"\\nTraining set: ADL1 + ADL2 + ADL3 + Drill = \", x1['filled_features'].shape[0] + x2['filled_features'].shape[0] + x3['filled_features'].shape[0] + x6['filled_features'].shape[0])\n",
    "print(\"Test set: ADL4 + ADL5 = \", x4['filled_features'].shape[0] + x5['filled_features'].shape[0])"
   ]
  },
  {
   "cell_type": "markdown",
   "metadata": {},
   "source": [
    "We split the data into train and test set."
   ]
  },
  {
   "cell_type": "code",
   "execution_count": 50,
   "metadata": {},
   "outputs": [
    {
     "name": "stdout",
     "output_type": "stream",
     "text": [
      "X_train shape:  (139427, 113)\n",
      "X_test shape:  (47291, 113)\n"
     ]
    }
   ],
   "source": [
    "# features\n",
    "X_train = np.concatenate((x1['filled_features'],x2['filled_features'],x3['filled_features'],x6['filled_features']),axis=0)\n",
    "X_test = np.concatenate((x4['filled_features'],x5['filled_features']),axis=0)\n",
    "\n",
    "# labels (locomotion activity)\n",
    "Y_train = np.concatenate((x1['labels'][:,0],x2['labels'][:,0],x3['labels'][:,0],x6['labels'][:,0]),axis=0) # here we take just the first column because we want to fulfill the first task\n",
    "Y_test = np.concatenate((x4['labels'][:,0],x5['labels'][:,0]))\n",
    "#Y_test = np.concatenate((x4['labels'][:,0],x5['labels'][:,0]),axis=0)\n",
    "\n",
    "# Initial decision to overcome the problem of entire missing columns\n",
    "X_train = np.nan_to_num(X_train)\n",
    "X_test = np.nan_to_num(X_test)\n",
    "\n",
    "print(\"X_train shape: \", X_train.shape)\n",
    "print(\"X_test shape: \", X_test.shape)\n"
   ]
  },
  {
   "cell_type": "markdown",
   "metadata": {},
   "source": [
    "The dataset needs to be normalized in order to improve performances."
   ]
  },
  {
   "cell_type": "code",
   "execution_count": 51,
   "metadata": {},
   "outputs": [],
   "source": [
    "# fatures normalization\n",
    "scaler = StandardScaler().fit(X_train)\n",
    "X_train =scaler.transform(X_train)\n",
    "X_test = scaler.transform(X_test)"
   ]
  },
  {
   "cell_type": "markdown",
   "metadata": {},
   "source": [
    "We decided to use a onehot encoder for the labels"
   ]
  },
  {
   "cell_type": "code",
   "execution_count": 54,
   "metadata": {},
   "outputs": [
    {
     "name": "stdout",
     "output_type": "stream",
     "text": [
      "The highest label value is:  5\n",
      "YOH_train shape:  (139427, 4)\n",
      "YOH_test shape:  (47291, 4)\n"
     ]
    }
   ],
   "source": [
    "label_max = np.max(Y_train)\n",
    "print(\"The highest label value is: \", label_max)\n",
    "onehot_encoder = OneHotEncoder(sparse=False)\n",
    "YOH_train = onehot_encoder.fit_transform(Y_train.reshape(-1, 1))\n",
    "YOH_test = onehot_encoder.fit_transform(Y_test.reshape(-1, 1))\n",
    "\n",
    "print(\"YOH_train shape: \", YOH_train.shape)\n",
    "print(\"YOH_test shape: \", YOH_test.shape)"
   ]
  },
  {
   "cell_type": "code",
   "execution_count": 55,
   "metadata": {},
   "outputs": [
    {
     "data": {
      "text/plain": [
       "array([1, 1, 1, ..., 2, 2, 2])"
      ]
     },
     "execution_count": 55,
     "metadata": {},
     "output_type": "execute_result"
    }
   ],
   "source": [
    "Y_train"
   ]
  },
  {
   "cell_type": "code",
   "execution_count": 56,
   "metadata": {},
   "outputs": [
    {
     "name": "stdout",
     "output_type": "stream",
     "text": [
      "Number of samples:  139427 \n",
      "Number of classes:  4\n",
      "Number of windows:  27884\n"
     ]
    }
   ],
   "source": [
    "window_size = 10\n",
    "stride = int(window_size / 2)\n",
    "num_features = X_train.shape[1]\n",
    "samples, classes = YOH_train.shape\n",
    "print(\"Number of samples: \", samples, \"\\nNumber of classes: \", classes)\n",
    "\n",
    "windows = int(samples // stride) - 1\n",
    "print(\"Number of windows: \", windows)"
   ]
  },
  {
   "cell_type": "code",
   "execution_count": 57,
   "metadata": {},
   "outputs": [
    {
     "name": "stdout",
     "output_type": "stream",
     "text": [
      "Number of samples:  47291 \n",
      "Number of classes:  4\n",
      "Number of windows:  9457\n"
     ]
    }
   ],
   "source": [
    "num_features_test = X_test.shape[1]\n",
    "samples_test, classes_test = YOH_test.shape\n",
    "print(\"Number of samples: \", samples_test, \"\\nNumber of classes: \", classes_test)\n",
    "\n",
    "windows_test = int(samples_test // stride) - 1\n",
    "print(\"Number of windows: \", windows_test)"
   ]
  },
  {
   "cell_type": "code",
   "execution_count": 58,
   "metadata": {},
   "outputs": [
    {
     "data": {
      "text/plain": [
       "(27884, 10, 113)"
      ]
     },
     "execution_count": 58,
     "metadata": {},
     "output_type": "execute_result"
    }
   ],
   "source": [
    "cube = np.zeros([windows, window_size, num_features])\n",
    "cube.shape"
   ]
  },
  {
   "cell_type": "code",
   "execution_count": 59,
   "metadata": {},
   "outputs": [
    {
     "data": {
      "text/plain": [
       "(9457, 10, 113)"
      ]
     },
     "execution_count": 59,
     "metadata": {},
     "output_type": "execute_result"
    }
   ],
   "source": [
    "cube_test = np.zeros([windows_test, window_size, num_features])\n",
    "cube_test.shape"
   ]
  },
  {
   "cell_type": "code",
   "execution_count": 60,
   "metadata": {},
   "outputs": [
    {
     "data": {
      "text/plain": [
       "(27884,)"
      ]
     },
     "execution_count": 60,
     "metadata": {},
     "output_type": "execute_result"
    }
   ],
   "source": [
    "lab_cum = np.zeros([windows])\n",
    "lab_cum.shape"
   ]
  },
  {
   "cell_type": "code",
   "execution_count": 61,
   "metadata": {},
   "outputs": [
    {
     "data": {
      "text/plain": [
       "(9457,)"
      ]
     },
     "execution_count": 61,
     "metadata": {},
     "output_type": "execute_result"
    }
   ],
   "source": [
    "lab_cum_test = np.zeros([windows_test])\n",
    "lab_cum_test.shape"
   ]
  },
  {
   "cell_type": "code",
   "execution_count": 62,
   "metadata": {},
   "outputs": [],
   "source": [
    "for w in range(windows):\n",
    "    index = int(w * stride)\n",
    "    cube[w,:,:] = X_train[index:index+window_size, :].reshape((window_size,num_features))\n",
    "    l = YOH_train[index:index+window_size,:] # shape 50 x 5\n",
    "    #print(np.sum(l, axis=0),np.argmax(np.sum(l, axis=0)))\n",
    "    lab_cum[w] = np.argmax(np.sum(l, axis=0))"
   ]
  },
  {
   "cell_type": "code",
   "execution_count": 63,
   "metadata": {},
   "outputs": [],
   "source": [
    "for w in range(windows_test):\n",
    "    index = int(w * stride)\n",
    "    cube_test[w,:,:] = X_test[index:index+window_size, :].reshape((window_size,num_features))\n",
    "    l = YOH_test[index:index+window_size,:] # shape 50 x 5\n",
    "    #print(np.sum(l, axis=0),np.argmax(np.sum(l, axis=0)))\n",
    "    lab_cum_test[w] = np.argmax(np.sum(l, axis=0))"
   ]
  },
  {
   "cell_type": "code",
   "execution_count": 64,
   "metadata": {},
   "outputs": [
    {
     "name": "stdout",
     "output_type": "stream",
     "text": [
      "[[1. 0. 0. 0.]\n",
      " [1. 0. 0. 0.]\n",
      " [1. 0. 0. 0.]\n",
      " ...\n",
      " [0. 1. 0. 0.]\n",
      " [0. 1. 0. 0.]\n",
      " [0. 1. 0. 0.]]\n"
     ]
    }
   ],
   "source": [
    "#print('cumulative labels: ', lab_cum.shape, type(lab_cum), \"\\n\", lab_cum)\n",
    "YOH_train_final = onehot_encoder.fit_transform(lab_cum.reshape(-1, 1))\n",
    "print(YOH_train_final)"
   ]
  },
  {
   "cell_type": "code",
   "execution_count": 65,
   "metadata": {},
   "outputs": [
    {
     "name": "stdout",
     "output_type": "stream",
     "text": [
      "[[1. 0. 0. 0.]\n",
      " [1. 0. 0. 0.]\n",
      " [1. 0. 0. 0.]\n",
      " ...\n",
      " [0. 1. 0. 0.]\n",
      " [0. 1. 0. 0.]\n",
      " [0. 1. 0. 0.]]\n"
     ]
    }
   ],
   "source": [
    "YOH_test_final = onehot_encoder.fit_transform(lab_cum_test.reshape(-1, 1))\n",
    "print(YOH_test_final)"
   ]
  },
  {
   "cell_type": "markdown",
   "metadata": {},
   "source": [
    "# 1D Convolutional Neural Network"
   ]
  },
  {
   "cell_type": "code",
   "execution_count": 66,
   "metadata": {},
   "outputs": [],
   "source": [
    "def TestModel(input_shape):\n",
    "    \"\"\" \n",
    "    Arguments:\n",
    "    input_shape -- shape of the images of the dataset\n",
    "\n",
    "    Returns: \n",
    "    model -- a Model() instance in Keras\n",
    "    \"\"\"\n",
    "    \n",
    "    model = Sequential()\n",
    "    model.add(Conv1D(filters = 18,\n",
    "                    kernel_size=5,\n",
    "                    strides=1,\n",
    "                    padding='same',\n",
    "                    input_shape = input_shape))\n",
    "    model.add(BatchNormalization())\n",
    "    model.add(Activation('relu'))\n",
    "    model.add(MaxPooling1D(pool_size=2,\n",
    "                          strides=2,\n",
    "                          padding='same'))\n",
    "    \n",
    "    model.add(Conv1D(filters = 36,\n",
    "                    kernel_size=7,\n",
    "                    strides=1,\n",
    "                    padding='same'))\n",
    "    model.add(BatchNormalization())\n",
    "    model.add(Activation('relu'))\n",
    "    model.add(MaxPooling1D(pool_size=2,\n",
    "                          strides=2,\n",
    "                          padding='same'))\n",
    "    \n",
    "    model.add(Dropout(0.2))\n",
    "    \n",
    "    model.add(Conv1D(filters = 72,\n",
    "                    kernel_size=7,\n",
    "                    strides=1,\n",
    "                    padding='same'))\n",
    "    model.add(BatchNormalization())\n",
    "    model.add(Activation('relu'))\n",
    "    model.add(MaxPooling1D(pool_size=2,\n",
    "                          strides=2,\n",
    "                          padding='same'))\n",
    "    \n",
    "    #model.add(Conv1D(filters = 144,\n",
    "    #                kernel_size=7,\n",
    "    #                strides=1,\n",
    "    #                padding='same'))\n",
    "    #model.add(BatchNormalization())\n",
    "    #model.add(Activation('relu'))\n",
    "    #model.add(MaxPooling1D(pool_size=2,\n",
    "    #                      strides=2,\n",
    "    #                      padding='same'))\n",
    "    \n",
    "    model.add(Flatten())\n",
    "    \n",
    "    model.add(Dense(64, kernel_regularizer=regularizers.l2(0.01)))\n",
    "    model.add(Activation('relu'))\n",
    "    \n",
    "    model.add(Dropout(0.4))\n",
    "\n",
    "    model.add(Dense(classes))\n",
    "    model.add(Activation('softmax'))\n",
    "    \n",
    "    #model.summary()\n",
    "    \n",
    "    return model"
   ]
  },
  {
   "cell_type": "code",
   "execution_count": 67,
   "metadata": {},
   "outputs": [],
   "source": [
    "model_test = TestModel((10,113))"
   ]
  },
  {
   "cell_type": "code",
   "execution_count": 68,
   "metadata": {},
   "outputs": [],
   "source": [
    "opt = Adam(lr=0.01)\n",
    "model_test.compile(optimizer = opt, loss = \"categorical_crossentropy\", metrics = [\"accuracy\"])"
   ]
  },
  {
   "cell_type": "code",
   "execution_count": 69,
   "metadata": {},
   "outputs": [
    {
     "name": "stdout",
     "output_type": "stream",
     "text": [
      "Train on 27884 samples, validate on 9457 samples\n",
      "Epoch 1/5\n",
      "27884/27884 [==============================] - 6s 233us/step - loss: 0.4684 - acc: 0.8607 - val_loss: 0.3179 - val_acc: 0.9296\n",
      "Epoch 2/5\n",
      "27884/27884 [==============================] - 6s 198us/step - loss: 0.2876 - acc: 0.8957 - val_loss: 0.3553 - val_acc: 0.9181\n",
      "Epoch 3/5\n",
      "27884/27884 [==============================] - 5s 194us/step - loss: 0.2552 - acc: 0.9086 - val_loss: 0.2825 - val_acc: 0.9248\n",
      "Epoch 4/5\n",
      "27884/27884 [==============================] - 5s 195us/step - loss: 0.2412 - acc: 0.9165 - val_loss: 0.3378 - val_acc: 0.9116\n",
      "Epoch 5/5\n",
      "27884/27884 [==============================] - 6s 197us/step - loss: 0.2221 - acc: 0.9217 - val_loss: 0.3326 - val_acc: 0.9142\n"
     ]
    },
    {
     "data": {
      "text/plain": [
       "<keras.callbacks.History at 0x20a3c45e358>"
      ]
     },
     "execution_count": 69,
     "metadata": {},
     "output_type": "execute_result"
    }
   ],
   "source": [
    "model_test.fit(x = cube, y = YOH_train_final, epochs = 5, batch_size = 128, validation_data=(cube_test,YOH_test_final))"
   ]
  },
  {
   "cell_type": "code",
   "execution_count": 70,
   "metadata": {},
   "outputs": [
    {
     "name": "stdout",
     "output_type": "stream",
     "text": [
      "y_pred:\n",
      " [[9.29e-01 7.09e-02 1.36e-04 8.24e-06]\n",
      " [8.27e-01 1.72e-01 5.57e-04 6.00e-05]\n",
      " [7.31e-01 2.68e-01 9.57e-04 1.49e-04]\n",
      " ...\n",
      " [0.00e+00 1.00e+00 0.00e+00 0.00e+00]\n",
      " [0.00e+00 1.00e+00 0.00e+00 0.00e+00]\n",
      " [0.00e+00 1.00e+00 0.00e+00 0.00e+00]]\n",
      "\n",
      "y_pred_hard:\n",
      " [0 0 0 ... 1 1 1]\n",
      "\n",
      "YOH_pred:\n",
      " [[1. 0. 0. 0.]\n",
      " [1. 0. 0. 0.]\n",
      " [1. 0. 0. 0.]\n",
      " ...\n",
      " [0. 1. 0. 0.]\n",
      " [0. 1. 0. 0.]\n",
      " [0. 1. 0. 0.]]\n"
     ]
    }
   ],
   "source": [
    "y_pred = model_test.predict(cube_test)\n",
    "print(\"y_pred:\\n\", y_pred)\n",
    "\n",
    "y_pred_hard = np.argmax(y_pred, axis=1)\n",
    "print(\"\\ny_pred_hard:\\n\", y_pred_hard)\n",
    "\n",
    "YOH_pred = onehot_encoder.fit_transform(y_pred_hard.reshape(-1, 1))\n",
    "print(\"\\nYOH_pred:\\n\", YOH_pred)"
   ]
  },
  {
   "cell_type": "code",
   "execution_count": 72,
   "metadata": {},
   "outputs": [
    {
     "name": "stdout",
     "output_type": "stream",
     "text": [
      "F1-measure:  0.914866383161378\n",
      "{0: 0.9171986916459706, 1: 0.9142615996831773, 2: 0.9950638830971319, 3: 0.9026040058926426}\n"
     ]
    }
   ],
   "source": [
    "print(\"F1-measure: \", f1_score(YOH_test_final, YOH_pred, average='weighted'))\n",
    "\n",
    "# Compute ROC curve and ROC area for each class\n",
    "fpr = dict()\n",
    "tpr = dict()\n",
    "roc_auc = dict()\n",
    "for i in range(classes):\n",
    "    fpr[i], tpr[i], _ = roc_curve(YOH_test_final[:, i], YOH_pred[:, i])\n",
    "    roc_auc[i] = auc(fpr[i], tpr[i])\n",
    "\n",
    "print(roc_auc)"
   ]
  },
  {
   "cell_type": "code",
   "execution_count": 74,
   "metadata": {},
   "outputs": [
    {
     "name": "stdout",
     "output_type": "stream",
     "text": [
      "Confusion matrix, without normalization\n",
      "[[3473  462   33    1]\n",
      " [ 223 2087    2    1]\n",
      " [   0    3 2730    0]\n",
      " [   0   62   24  356]]\n"
     ]
    },
    {
     "data": {
      "image/png": "[encoded data removed]",
      "text/plain": [
       "<matplotlib.figure.Figure at 0x20a38e79240>"
      ]
     },
     "metadata": {},
     "output_type": "display_data"
    }
   ],
   "source": [
    "def plot_confusion_matrix(cm, classes,\n",
    "                          normalize=False,\n",
    "                          title='Confusion matrix',\n",
    "                          cmap=plt.cm.Blues):\n",
    "    \"\"\"\n",
    "    This function prints and plots the confusion matrix.\n",
    "    Normalization can be applied by setting `normalize=True`.\n",
    "    \"\"\"\n",
    "    if normalize:\n",
    "        cm = cm.astype('float') / cm.sum(axis=1)[:, np.newaxis]\n",
    "        print(\"Normalized confusion matrix\")\n",
    "    else:\n",
    "        print('Confusion matrix, without normalization')\n",
    "\n",
    "    print(cm)\n",
    "\n",
    "    plt.imshow(cm, interpolation='nearest', cmap=cmap)\n",
    "    plt.title(title)\n",
    "    plt.colorbar()\n",
    "    tick_marks = np.arange(len(classes))\n",
    "    plt.xticks(tick_marks, classes, rotation=45)\n",
    "    plt.yticks(tick_marks, classes)\n",
    "\n",
    "    fmt = '.2f' if normalize else 'd'\n",
    "    thresh = cm.max() / 2.\n",
    "    for i, j in itertools.product(range(cm.shape[0]), range(cm.shape[1])):\n",
    "        plt.text(j, i, format(cm[i, j], fmt),\n",
    "                 horizontalalignment=\"center\",\n",
    "                 color=\"white\" if cm[i, j] > thresh else \"black\")\n",
    "\n",
    "    plt.tight_layout()\n",
    "    plt.ylabel('True label')\n",
    "    plt.xlabel('Predicted label')\n",
    "\n",
    "# Compute confusion matrix\n",
    "\n",
    "y_test_hard = np.argmax(YOH_test_final, axis=1)\n",
    "cnf_matrix = confusion_matrix(y_test_hard, y_pred_hard)\n",
    "np.set_printoptions(precision=2)\n",
    "\n",
    "# Plot non-normalized confusion matrix\n",
    "plt.figure()\n",
    "plot_confusion_matrix(cnf_matrix, classes=[1,2,4,5],\n",
    "                      title='Confusion matrix, without normalization')"
   ]
  }
 ],
 "metadata": {
  "kernelspec": {
   "display_name": "Python 3",
   "language": "python",
   "name": "python3"
  },
  "language_info": {
   "codemirror_mode": {
    "name": "ipython",
    "version": 3
   },
   "file_extension": ".py",
   "mimetype": "text/x-python",
   "name": "python",
   "nbconvert_exporter": "python",
   "pygments_lexer": "ipython3",
   "version": "3.6.4"
  }
 },
 "nbformat": 4,
 "nbformat_minor": 2
}
