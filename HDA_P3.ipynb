{
 "cells": [
  {
   "cell_type": "markdown",
   "metadata": {},
   "source": [
    "# Human Data Analytics - Activity Recognition #"
   ]
  },
  {
   "cell_type": "code",
   "execution_count": 2,
   "metadata": {},
   "outputs": [],
   "source": [
    "import pandas as pd\n",
    "import numpy as np\n",
    "import scipy.interpolate as interpolate"
   ]
  },
  {
   "cell_type": "markdown",
   "metadata": {},
   "source": [
    "First, we import the dataset and we select the columns corresponding to the relevant and useful features."
   ]
  },
  {
   "cell_type": "code",
   "execution_count": 3,
   "metadata": {},
   "outputs": [],
   "source": [
    "df = pd.read_table('./OpportunityUCIDataset/dataset/S1-ADL1.dat',sep=\"\\s+\",header=None)\n",
    "\n",
    "idx = list(np.arange(1,46)) \\\n",
    "    + list(np.arange(50,59)) \\\n",
    "    + list(np.arange(63,72)) \\\n",
    "    + list(np.arange(76,85)) \\\n",
    "    + list(np.arange(89,98)) \\\n",
    "    + list(np.arange(102,134))\n",
    "\n",
    "features_all = df.iloc[:,idx]\n",
    "labels = df.iloc[:,243:250]\n",
    "labels.columns = ['Locomotion',\n",
    "                  'HL_Activity',\n",
    "                  'LL_Left_Arm',\n",
    "                  'LL_Left_Arm_Object',\n",
    "                  'LL_Right_Arm',\n",
    "                  'LL_Right_Arm_Object',\n",
    "                  'ML_Both_Arms']"
   ]
  },
  {
   "cell_type": "code",
   "execution_count": 12,
   "metadata": {},
   "outputs": [
    {
     "data": {
      "text/plain": [
       "1\n",
       "22791     25\n",
       "22882     24\n",
       "22964     54\n",
       "30556     30\n",
       "30668     23\n",
       "31141     27\n",
       "31172     45\n",
       "31183     30\n",
       "40303     21\n",
       "40385     29\n",
       "40858     29\n",
       "41031     25\n",
       "47942     20\n",
       "48033     29\n",
       "48115     46\n",
       "48126     23\n",
       "50205    431\n",
       "Name: 1, dtype: int32"
      ]
     },
     "execution_count": 12,
     "metadata": {},
     "output_type": "execute_result"
    }
   ],
   "source": [
    "s = features_all.iloc[:,0]\n",
    "\n",
    "check = s.isnull().astype(int).groupby(s.notnull().astype(int).cumsum()).sum()\n",
    "check[check > 0 ]\n",
    "#%time s.interpolate(method='spline',order=3)\n",
    "#feat_inter = interpolate.CubicSpline(df.iloc[:,0],df.iloc[:,2])"
   ]
  },
  {
   "cell_type": "code",
   "execution_count": 7,
   "metadata": {},
   "outputs": [
    {
     "data": {
      "text/plain": [
       "0         87.0\n",
       "1        124.0\n",
       "2        102.0\n",
       "3         59.0\n",
       "4        119.0\n",
       "5         99.0\n",
       "6        116.0\n",
       "7        171.0\n",
       "8        145.0\n",
       "9        106.0\n",
       "10        52.0\n",
       "11       107.0\n",
       "12        93.0\n",
       "13        12.0\n",
       "14        52.0\n",
       "15        30.0\n",
       "16        -2.0\n",
       "17        -7.0\n",
       "18        11.0\n",
       "19        34.0\n",
       "20       -37.0\n",
       "21        -9.0\n",
       "22        39.0\n",
       "23         5.0\n",
       "24        13.0\n",
       "25        95.0\n",
       "26        70.0\n",
       "27        36.0\n",
       "28        -4.0\n",
       "29       -31.0\n",
       "         ...  \n",
       "51086      NaN\n",
       "51087      NaN\n",
       "51088      NaN\n",
       "51089      NaN\n",
       "51090      NaN\n",
       "51091      NaN\n",
       "51092      NaN\n",
       "51093      NaN\n",
       "51094      NaN\n",
       "51095      NaN\n",
       "51096      NaN\n",
       "51097      NaN\n",
       "51098      NaN\n",
       "51099      NaN\n",
       "51100      NaN\n",
       "51101      NaN\n",
       "51102      NaN\n",
       "51103      NaN\n",
       "51104      NaN\n",
       "51105      NaN\n",
       "51106      NaN\n",
       "51107      NaN\n",
       "51108      NaN\n",
       "51109      NaN\n",
       "51110      NaN\n",
       "51111      NaN\n",
       "51112      NaN\n",
       "51113      NaN\n",
       "51114      NaN\n",
       "51115      NaN\n",
       "Name: 1, Length: 51116, dtype: float64"
      ]
     },
     "execution_count": 7,
     "metadata": {},
     "output_type": "execute_result"
    }
   ],
   "source": [
    "features_all.iloc[20000:25000,0]"
   ]
  },
  {
   "cell_type": "code",
   "execution_count": 28,
   "metadata": {},
   "outputs": [
    {
     "data": {
      "text/plain": [
       "array([nan, nan, nan, ..., nan, nan, nan])"
      ]
     },
     "execution_count": 28,
     "metadata": {},
     "output_type": "execute_result"
    }
   ],
   "source": [
    "feat_inter(np.linspace(0,51116,51116))\n"
   ]
  },
  {
   "cell_type": "code",
   "execution_count": 24,
   "metadata": {},
   "outputs": [
    {
     "data": {
      "text/plain": [
       "<matplotlib.axes._subplots.AxesSubplot at 0x17953833b70>"
      ]
     },
     "execution_count": 24,
     "metadata": {},
     "output_type": "execute_result"
    },
    {
     "data": {
      "image/png": "[encoded data removed]",
      "text/plain": [
       "<matplotlib.figure.Figure at 0x1795384a908>"
      ]
     },
     "metadata": {},
     "output_type": "display_data"
    }
   ],
   "source": [
    "label_columns.plot(y=243, \n",
    "                   kind='line',\n",
    "                   grid=True,\n",
    "                   figsize=(9,9))"
   ]
  }
 ],
 "metadata": {
  "kernelspec": {
   "display_name": "Python 3",
   "language": "python",
   "name": "python3"
  },
  "language_info": {
   "codemirror_mode": {
    "name": "ipython",
    "version": 3
   },
   "file_extension": ".py",
   "mimetype": "text/x-python",
   "name": "python",
   "nbconvert_exporter": "python",
   "pygments_lexer": "ipython3",
   "version": "3.6.4"
  }
 },
 "nbformat": 4,
 "nbformat_minor": 2
}
