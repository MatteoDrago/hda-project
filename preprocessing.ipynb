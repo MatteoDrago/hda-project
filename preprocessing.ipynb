{
 "cells": [
  {
   "cell_type": "markdown",
   "metadata": {},
   "source": [
    "# Preprocessing\n",
    "Import libraries"
   ]
  },
  {
   "cell_type": "code",
   "execution_count": 1,
   "metadata": {},
   "outputs": [],
   "source": [
    "import numpy as np\n",
    "import pandas as pd\n",
    "import matplotlib.pyplot as plt\n",
    "from scipy import interpolate\n",
    "\n",
    "%matplotlib inline"
   ]
  },
  {
   "cell_type": "markdown",
   "metadata": {},
   "source": [
    "### Import datasets\n",
    "Only signals from on-body sensors are selected, excluding columns from 33 to 36 (where time is column 0) which are completely NaN:"
   ]
  },
  {
   "cell_type": "code",
   "execution_count": 2,
   "metadata": {},
   "outputs": [],
   "source": [
    "root = \".\\OpportunityUCIDataset\\dataset\\S\"\n",
    "\n",
    "idx_signals = list(np.arange(0,34)) \\\n",
    "            + list(np.arange(37,46)) \\\n",
    "            + list(np.arange(50,59)) \\\n",
    "            + list(np.arange(63,72)) \\\n",
    "            + list(np.arange(76,85)) \\\n",
    "            + list(np.arange(89,98)) \\\n",
    "            + list(np.arange(102,134))\n",
    "idx_labels  = list([0]) \\\n",
    "            + list(np.arange(243,250))"
   ]
  },
  {
   "cell_type": "code",
   "execution_count": 3,
   "metadata": {},
   "outputs": [
    {
     "name": "stdout",
     "output_type": "stream",
     "text": [
      "Importing from:  .\\OpportunityUCIDataset\\dataset\\S1-ADL1.dat\n",
      "Done.\n"
     ]
    }
   ],
   "source": [
    "for sub in [1]:#[1,2,3,4]:\n",
    "    \n",
    "    for sess in [1]:#[1,2,3,4,5,6]:\n",
    "        \n",
    "        if sess < 6:\n",
    "            \n",
    "            filename = root + str(sub) + \"-ADL\" + str(sess) + \".dat\"\n",
    "            print(\"Importing from: \", filename)\n",
    "            \n",
    "            data = pd.read_table(filename,\n",
    "                                 sep=\"\\s+\",\n",
    "                                 header=None,\n",
    "                                 prefix=\"f\",\n",
    "                                 index_col=0,\n",
    "                                 usecols=idx_signals)\n",
    "            \n",
    "            label = pd.read_table(filename,\n",
    "                                  sep=\"\\s+\",\n",
    "                                  header=None,\n",
    "                                  prefix=\"l\",\n",
    "                                  index_col=0,\n",
    "                                  usecols=idx_labels)\n",
    "\n",
    "        else:\n",
    "            filename = root + str(sub) + \"-Drill.dat\"\n",
    "            print(\"importing from: \", filename)\n",
    "\n",
    "print(\"Done.\")"
   ]
  },
  {
   "cell_type": "code",
   "execution_count": 4,
   "metadata": {},
   "outputs": [
    {
     "name": "stdout",
     "output_type": "stream",
     "text": [
      "Imported DataFrame of sizes:     data: (51116, 110)      label: (51116, 7)\n"
     ]
    }
   ],
   "source": [
    "print(\"Imported DataFrame of sizes:     data:\", data.shape, \"     label:\", label.shape)"
   ]
  },
  {
   "cell_type": "code",
   "execution_count": 5,
   "metadata": {},
   "outputs": [
    {
     "data": {
      "text/html": [
       "<div>\n",
       "<style scoped>\n",
       "    .dataframe tbody tr th:only-of-type {\n",
       "        vertical-align: middle;\n",
       "    }\n",
       "\n",
       "    .dataframe tbody tr th {\n",
       "        vertical-align: top;\n",
       "    }\n",
       "\n",
       "    .dataframe thead th {\n",
       "        text-align: right;\n",
       "    }\n",
       "</style>\n",
       "<table border=\"1\" class=\"dataframe\">\n",
       "  <thead>\n",
       "    <tr style=\"text-align: right;\">\n",
       "      <th></th>\n",
       "      <th>f1</th>\n",
       "      <th>f2</th>\n",
       "      <th>f3</th>\n",
       "      <th>f4</th>\n",
       "      <th>f5</th>\n",
       "      <th>f6</th>\n",
       "      <th>f7</th>\n",
       "      <th>f8</th>\n",
       "      <th>f9</th>\n",
       "      <th>f10</th>\n",
       "      <th>...</th>\n",
       "      <th>f124</th>\n",
       "      <th>f125</th>\n",
       "      <th>f126</th>\n",
       "      <th>f127</th>\n",
       "      <th>f128</th>\n",
       "      <th>f129</th>\n",
       "      <th>f130</th>\n",
       "      <th>f131</th>\n",
       "      <th>f132</th>\n",
       "      <th>f133</th>\n",
       "    </tr>\n",
       "    <tr>\n",
       "      <th>f0</th>\n",
       "      <th></th>\n",
       "      <th></th>\n",
       "      <th></th>\n",
       "      <th></th>\n",
       "      <th></th>\n",
       "      <th></th>\n",
       "      <th></th>\n",
       "      <th></th>\n",
       "      <th></th>\n",
       "      <th></th>\n",
       "      <th></th>\n",
       "      <th></th>\n",
       "      <th></th>\n",
       "      <th></th>\n",
       "      <th></th>\n",
       "      <th></th>\n",
       "      <th></th>\n",
       "      <th></th>\n",
       "      <th></th>\n",
       "      <th></th>\n",
       "      <th></th>\n",
       "    </tr>\n",
       "  </thead>\n",
       "  <tbody>\n",
       "    <tr>\n",
       "      <th>0</th>\n",
       "      <td>87.0</td>\n",
       "      <td>975.0</td>\n",
       "      <td>-287.0</td>\n",
       "      <td>11.0</td>\n",
       "      <td>1001.0</td>\n",
       "      <td>163.0</td>\n",
       "      <td>95.0</td>\n",
       "      <td>975.0</td>\n",
       "      <td>152.0</td>\n",
       "      <td>195.0</td>\n",
       "      <td>...</td>\n",
       "      <td>-219.0</td>\n",
       "      <td>319.0</td>\n",
       "      <td>-845.0</td>\n",
       "      <td>-20.0</td>\n",
       "      <td>57.0</td>\n",
       "      <td>42.0</td>\n",
       "      <td>57.0</td>\n",
       "      <td>20.0</td>\n",
       "      <td>42.0</td>\n",
       "      <td>175.0</td>\n",
       "    </tr>\n",
       "    <tr>\n",
       "      <th>33</th>\n",
       "      <td>124.0</td>\n",
       "      <td>978.0</td>\n",
       "      <td>-389.0</td>\n",
       "      <td>-7.0</td>\n",
       "      <td>1014.0</td>\n",
       "      <td>199.0</td>\n",
       "      <td>124.0</td>\n",
       "      <td>968.0</td>\n",
       "      <td>123.0</td>\n",
       "      <td>226.0</td>\n",
       "      <td>...</td>\n",
       "      <td>-215.0</td>\n",
       "      <td>325.0</td>\n",
       "      <td>-847.0</td>\n",
       "      <td>-17.0</td>\n",
       "      <td>38.0</td>\n",
       "      <td>31.0</td>\n",
       "      <td>38.0</td>\n",
       "      <td>17.0</td>\n",
       "      <td>31.0</td>\n",
       "      <td>175.0</td>\n",
       "    </tr>\n",
       "    <tr>\n",
       "      <th>67</th>\n",
       "      <td>102.0</td>\n",
       "      <td>996.0</td>\n",
       "      <td>-440.0</td>\n",
       "      <td>-49.0</td>\n",
       "      <td>1024.0</td>\n",
       "      <td>193.0</td>\n",
       "      <td>127.0</td>\n",
       "      <td>1001.0</td>\n",
       "      <td>113.0</td>\n",
       "      <td>280.0</td>\n",
       "      <td>...</td>\n",
       "      <td>-219.0</td>\n",
       "      <td>328.0</td>\n",
       "      <td>-852.0</td>\n",
       "      <td>27.0</td>\n",
       "      <td>31.0</td>\n",
       "      <td>15.0</td>\n",
       "      <td>31.0</td>\n",
       "      <td>-27.0</td>\n",
       "      <td>15.0</td>\n",
       "      <td>175.0</td>\n",
       "    </tr>\n",
       "    <tr>\n",
       "      <th>100</th>\n",
       "      <td>59.0</td>\n",
       "      <td>861.0</td>\n",
       "      <td>-384.0</td>\n",
       "      <td>-9.0</td>\n",
       "      <td>1023.0</td>\n",
       "      <td>202.0</td>\n",
       "      <td>110.0</td>\n",
       "      <td>1007.0</td>\n",
       "      <td>106.0</td>\n",
       "      <td>360.0</td>\n",
       "      <td>...</td>\n",
       "      <td>-221.0</td>\n",
       "      <td>321.0</td>\n",
       "      <td>-852.0</td>\n",
       "      <td>26.0</td>\n",
       "      <td>22.0</td>\n",
       "      <td>-2.0</td>\n",
       "      <td>22.0</td>\n",
       "      <td>-26.0</td>\n",
       "      <td>-2.0</td>\n",
       "      <td>175.0</td>\n",
       "    </tr>\n",
       "    <tr>\n",
       "      <th>133</th>\n",
       "      <td>119.0</td>\n",
       "      <td>946.0</td>\n",
       "      <td>-426.0</td>\n",
       "      <td>-22.0</td>\n",
       "      <td>1026.0</td>\n",
       "      <td>188.0</td>\n",
       "      <td>98.0</td>\n",
       "      <td>1001.0</td>\n",
       "      <td>92.0</td>\n",
       "      <td>548.0</td>\n",
       "      <td>...</td>\n",
       "      <td>-213.0</td>\n",
       "      <td>321.0</td>\n",
       "      <td>-850.0</td>\n",
       "      <td>22.0</td>\n",
       "      <td>45.0</td>\n",
       "      <td>-7.0</td>\n",
       "      <td>45.0</td>\n",
       "      <td>-22.0</td>\n",
       "      <td>-7.0</td>\n",
       "      <td>175.0</td>\n",
       "    </tr>\n",
       "  </tbody>\n",
       "</table>\n",
       "<p>5 rows × 110 columns</p>\n",
       "</div>"
      ],
      "text/plain": [
       "        f1     f2     f3    f4      f5     f6     f7      f8     f9    f10  \\\n",
       "f0                                                                           \n",
       "0     87.0  975.0 -287.0  11.0  1001.0  163.0   95.0   975.0  152.0  195.0   \n",
       "33   124.0  978.0 -389.0  -7.0  1014.0  199.0  124.0   968.0  123.0  226.0   \n",
       "67   102.0  996.0 -440.0 -49.0  1024.0  193.0  127.0  1001.0  113.0  280.0   \n",
       "100   59.0  861.0 -384.0  -9.0  1023.0  202.0  110.0  1007.0  106.0  360.0   \n",
       "133  119.0  946.0 -426.0 -22.0  1026.0  188.0   98.0  1001.0   92.0  548.0   \n",
       "\n",
       "     ...     f124   f125   f126  f127  f128  f129  f130  f131  f132   f133  \n",
       "f0   ...                                                                    \n",
       "0    ...   -219.0  319.0 -845.0 -20.0  57.0  42.0  57.0  20.0  42.0  175.0  \n",
       "33   ...   -215.0  325.0 -847.0 -17.0  38.0  31.0  38.0  17.0  31.0  175.0  \n",
       "67   ...   -219.0  328.0 -852.0  27.0  31.0  15.0  31.0 -27.0  15.0  175.0  \n",
       "100  ...   -221.0  321.0 -852.0  26.0  22.0  -2.0  22.0 -26.0  -2.0  175.0  \n",
       "133  ...   -213.0  321.0 -850.0  22.0  45.0  -7.0  45.0 -22.0  -7.0  175.0  \n",
       "\n",
       "[5 rows x 110 columns]"
      ]
     },
     "execution_count": 5,
     "metadata": {},
     "output_type": "execute_result"
    }
   ],
   "source": [
    "data.head()"
   ]
  },
  {
   "cell_type": "code",
   "execution_count": 6,
   "metadata": {},
   "outputs": [
    {
     "data": {
      "text/html": [
       "<div>\n",
       "<style scoped>\n",
       "    .dataframe tbody tr th:only-of-type {\n",
       "        vertical-align: middle;\n",
       "    }\n",
       "\n",
       "    .dataframe tbody tr th {\n",
       "        vertical-align: top;\n",
       "    }\n",
       "\n",
       "    .dataframe thead th {\n",
       "        text-align: right;\n",
       "    }\n",
       "</style>\n",
       "<table border=\"1\" class=\"dataframe\">\n",
       "  <thead>\n",
       "    <tr style=\"text-align: right;\">\n",
       "      <th></th>\n",
       "      <th>l243</th>\n",
       "      <th>l244</th>\n",
       "      <th>l245</th>\n",
       "      <th>l246</th>\n",
       "      <th>l247</th>\n",
       "      <th>l248</th>\n",
       "      <th>l249</th>\n",
       "    </tr>\n",
       "    <tr>\n",
       "      <th>l0</th>\n",
       "      <th></th>\n",
       "      <th></th>\n",
       "      <th></th>\n",
       "      <th></th>\n",
       "      <th></th>\n",
       "      <th></th>\n",
       "      <th></th>\n",
       "    </tr>\n",
       "  </thead>\n",
       "  <tbody>\n",
       "    <tr>\n",
       "      <th>0</th>\n",
       "      <td>0</td>\n",
       "      <td>0</td>\n",
       "      <td>0</td>\n",
       "      <td>0</td>\n",
       "      <td>0</td>\n",
       "      <td>0</td>\n",
       "      <td>0</td>\n",
       "    </tr>\n",
       "    <tr>\n",
       "      <th>33</th>\n",
       "      <td>0</td>\n",
       "      <td>0</td>\n",
       "      <td>0</td>\n",
       "      <td>0</td>\n",
       "      <td>0</td>\n",
       "      <td>0</td>\n",
       "      <td>0</td>\n",
       "    </tr>\n",
       "    <tr>\n",
       "      <th>67</th>\n",
       "      <td>0</td>\n",
       "      <td>0</td>\n",
       "      <td>0</td>\n",
       "      <td>0</td>\n",
       "      <td>0</td>\n",
       "      <td>0</td>\n",
       "      <td>0</td>\n",
       "    </tr>\n",
       "    <tr>\n",
       "      <th>100</th>\n",
       "      <td>0</td>\n",
       "      <td>0</td>\n",
       "      <td>0</td>\n",
       "      <td>0</td>\n",
       "      <td>0</td>\n",
       "      <td>0</td>\n",
       "      <td>0</td>\n",
       "    </tr>\n",
       "    <tr>\n",
       "      <th>133</th>\n",
       "      <td>0</td>\n",
       "      <td>0</td>\n",
       "      <td>0</td>\n",
       "      <td>0</td>\n",
       "      <td>0</td>\n",
       "      <td>0</td>\n",
       "      <td>0</td>\n",
       "    </tr>\n",
       "  </tbody>\n",
       "</table>\n",
       "</div>"
      ],
      "text/plain": [
       "     l243  l244  l245  l246  l247  l248  l249\n",
       "l0                                           \n",
       "0       0     0     0     0     0     0     0\n",
       "33      0     0     0     0     0     0     0\n",
       "67      0     0     0     0     0     0     0\n",
       "100     0     0     0     0     0     0     0\n",
       "133     0     0     0     0     0     0     0"
      ]
     },
     "execution_count": 6,
     "metadata": {},
     "output_type": "execute_result"
    }
   ],
   "source": [
    "label.head()"
   ]
  },
  {
   "cell_type": "code",
   "execution_count": 13,
   "metadata": {},
   "outputs": [
    {
     "data": {
      "text/plain": [
       "<matplotlib.axes._subplots.AxesSubplot at 0x159b08c9e48>"
      ]
     },
     "execution_count": 13,
     "metadata": {},
     "output_type": "execute_result"
    },
    {
     "data": {
      "image/png": "[encoded data removed]",
      "text/plain": [
       "<Figure size 432x288 with 1 Axes>"
      ]
     },
     "metadata": {},
     "output_type": "display_data"
    }
   ],
   "source": [
    "data[['f1','f2','f3']].plot()"
   ]
  },
  {
   "cell_type": "code",
   "execution_count": 11,
   "metadata": {},
   "outputs": [
    {
     "data": {
      "text/plain": [
       "<matplotlib.axes._subplots.AxesSubplot at 0x159ae275e48>"
      ]
     },
     "execution_count": 11,
     "metadata": {},
     "output_type": "execute_result"
    },
    {
     "data": {
      "image/png": "[encoded data removed]",
      "text/plain": [
       "<Figure size 432x288 with 1 Axes>"
      ]
     },
     "metadata": {},
     "output_type": "display_data"
    }
   ],
   "source": [
    "series = np.mean(data[['f1','f2','f3']], axis=1)\n",
    "series.plot()"
   ]
  },
  {
   "cell_type": "code",
   "execution_count": 8,
   "metadata": {},
   "outputs": [],
   "source": [
    "occ = label['l243'].value_counts()"
   ]
  },
  {
   "cell_type": "code",
   "execution_count": 9,
   "metadata": {},
   "outputs": [
    {
     "data": {
      "text/plain": [
       "<matplotlib.axes._subplots.AxesSubplot at 0x1f66db62cf8>"
      ]
     },
     "execution_count": 9,
     "metadata": {},
     "output_type": "execute_result"
    },
    {
     "data": {
      "image/png": "[encoded data removed]",
      "text/plain": [
       "<Figure size 432x288 with 1 Axes>"
      ]
     },
     "metadata": {},
     "output_type": "display_data"
    }
   ],
   "source": [
    "occ.plot(kind='bar')"
   ]
  },
  {
   "cell_type": "markdown",
   "metadata": {},
   "source": [
    "### Interpolate NaN values\n",
    "pandas interpolation is very slow, so wait for it!"
   ]
  },
  {
   "cell_type": "code",
   "execution_count": 10,
   "metadata": {},
   "outputs": [],
   "source": []
  }
 ],
 "metadata": {
  "kernelspec": {
   "display_name": "Python 3",
   "language": "python",
   "name": "python3"
  },
  "language_info": {
   "codemirror_mode": {
    "name": "ipython",
    "version": 3
   },
   "file_extension": ".py",
   "mimetype": "text/x-python",
   "name": "python",
   "nbconvert_exporter": "python",
   "pygments_lexer": "ipython3",
   "version": "3.6.4"
  }
 },
 "nbformat": 4,
 "nbformat_minor": 2
}
